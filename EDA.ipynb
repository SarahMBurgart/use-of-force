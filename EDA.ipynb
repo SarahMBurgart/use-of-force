{
 "cells": [
  {
   "cell_type": "code",
   "execution_count": 17,
   "metadata": {},
   "outputs": [],
   "source": [
    "import pandas as pd\n",
    "import os\n",
    "from datetime import datetime\n",
    "import sqlite3\n",
    "from sqlalchemy import create_engine\n",
    "engine = create_engine('sqlite://', echo=False)\n",
    "\n",
    "import matplotlib.pyplot as plt\n",
    "import numpy as np\n",
    "from datetime import datetime\n",
    "from sklearn.decomposition import PCA\n",
    "from sklearn.preprocessing import StandardScaler\n",
    "import seaborn as sns\n",
    "from sklearn.ensemble import RandomForestClassifier, GradientBoostingClassifier\n",
    "from sklearn.model_selection import train_test_split\n",
    "from sklearn.inspection import plot_partial_dependence\n",
    "from sklearn.inspection import partial_dependence \n",
    "\n",
    "\n",
    "%matplotlib inline"
   ]
  },
  {
   "cell_type": "code",
   "execution_count": 18,
   "metadata": {},
   "outputs": [],
   "source": [
    "# police beats interactive map - put in address and it tells you the beat!\n",
    "\n",
    "# https://www.seattle.gov/police/community-policing/mcpp-location-map\n",
    "    \n",
    "    "
   ]
  },
  {
   "cell_type": "code",
   "execution_count": 19,
   "metadata": {},
   "outputs": [],
   "source": [
    "# function to convert datetime object to 4 - for force ONLY\n",
    "def datetime(df, col_as_str):\n",
    "    yearmonthday = df[col_as_str].astype(str).str.split(\" \")\n",
    "    ymd = yearmonthday.apply(lambda x: x[0]).str.split(\"/\")\n",
    "    year = ymd.apply(lambda x: x[2])\n",
    "    month = ymd.apply(lambda x: x[0])\n",
    "    day = ymd.apply(lambda x: x[1])\n",
    "    time = ymd = yearmonthday.apply(lambda x: x[1]+x[2]).astype(str)\n",
    "    df[\"year\"] = year\n",
    "    df[\"month\"] = month\n",
    "    df[\"day\"] = day\n",
    "    tim = pd.to_datetime(time)\n",
    "    df[\"hour\"] = tim.apply(lambda x: pd.datetime.strftime(x, '%H'))\n",
    "    return df\n",
    "\n"
   ]
  },
  {
   "cell_type": "code",
   "execution_count": 20,
   "metadata": {},
   "outputs": [
    {
     "data": {
      "text/plain": [
       "(9422, 9838)"
      ]
     },
     "execution_count": 20,
     "metadata": {},
     "output_type": "execute_result"
    }
   ],
   "source": [
    "force = pd.read_csv(\"data/Use_Of_Force.csv\")\n",
    "len(force) -  len(force[force[\"Beat\"] == '-']), len(force)"
   ]
  },
  {
   "cell_type": "code",
   "execution_count": 21,
   "metadata": {},
   "outputs": [],
   "source": [
    "# change to epoch time\n",
    "force = datetime(force,\"Occured_date_time\" )\n",
    "foo = pd.to_datetime( force.Occured_date_time )\n",
    "epoch_second = foo.map(lambda x:x.value/1e9)\n",
    "\n",
    "force[\"epoch\"] = epoch_second\n"
   ]
  },
  {
   "cell_type": "code",
   "execution_count": 6,
   "metadata": {},
   "outputs": [
    {
     "data": {
      "text/plain": [
       "'lf3 = [\"Level 3 - Use of Force\", \\'Level 3 - OIS\\']\\nlf1 = [\"Level 2 - Use of Force\", \"Level 1 - Use of Force\"]\\nf1 = force[force[\"Incident_Type\"].isin(lf1)]\\nf3 = force[force[\"Incident_Type\"].isin(lf3)]\\n\\ntop10 = f3.Officer_ID.value_counts()[:10].index\\nlen(force[force[\"Officer_ID\"].isin(top10)])\\nfor officer in top10:\\n    off = f3[f3[\"Officer_ID\"] == officer]\\n    beats = off.Beat.value_counts()\\n    print(officer, beats)  '"
      ]
     },
     "execution_count": 6,
     "metadata": {},
     "output_type": "execute_result"
    }
   ],
   "source": [
    "# EDA - use to verify percentages later\n",
    "\n",
    "'''lf3 = [\"Level 3 - Use of Force\", 'Level 3 - OIS']\n",
    "lf1 = [\"Level 2 - Use of Force\", \"Level 1 - Use of Force\"]\n",
    "f1 = force[force[\"Incident_Type\"].isin(lf1)]\n",
    "f3 = force[force[\"Incident_Type\"].isin(lf3)]\n",
    "\n",
    "top10 = f3.Officer_ID.value_counts()[:10].index\n",
    "len(force[force[\"Officer_ID\"].isin(top10)])\n",
    "for officer in top10:\n",
    "    off = f3[f3[\"Officer_ID\"] == officer]\n",
    "    beats = off.Beat.value_counts()\n",
    "    print(officer, beats)  '''\n",
    "\n",
    "# could look at incidents and see if they are related to officer OR beat or some of each"
   ]
  },
  {
   "cell_type": "code",
   "execution_count": 7,
   "metadata": {},
   "outputs": [
    {
     "data": {
      "text/plain": [
       "'beats = force.groupby(\"Beat\")\\nvc = beats[\"Incident_Type\"].value_counts()\\nvc = pd.DataFrame(vc)\\nvc.values\\nOIS_dict = {}\\n#vc.index[3][1]\\nfor i in range(vc.shape[0]):\\n    if vc.index[i][1]== \"Level 3 - OIS\":\\n        OIS_dict[vc.index[i][0]] = vc.values[i][0]\\nOIS_dict'"
      ]
     },
     "execution_count": 7,
     "metadata": {},
     "output_type": "execute_result"
    }
   ],
   "source": [
    "# EDA - use to verify percentages later\n",
    "\n",
    "'''beats = force.groupby(\"Beat\")\n",
    "vc = beats[\"Incident_Type\"].value_counts()\n",
    "vc = pd.DataFrame(vc)\n",
    "vc.values\n",
    "OIS_dict = {}\n",
    "#vc.index[3][1]\n",
    "for i in range(vc.shape[0]):\n",
    "    if vc.index[i][1]== \"Level 3 - OIS\":\n",
    "        OIS_dict[vc.index[i][0]] = vc.values[i][0]\n",
    "OIS_dict'''"
   ]
  },
  {
   "cell_type": "code",
   "execution_count": 22,
   "metadata": {},
   "outputs": [],
   "source": [
    "# remove repetitive columns (incident type, officer id and subject id are in ID respectively)\n",
    "\n",
    "force = force.drop(columns=[\"Occured_date_time\", \"ID\"])\n"
   ]
  },
  {
   "cell_type": "code",
   "execution_count": 25,
   "metadata": {},
   "outputs": [],
   "source": [
    "# create engine\n",
    "cnx = sqlite3.connect('calls.sqlite')"
   ]
  },
  {
   "cell_type": "code",
   "execution_count": 26,
   "metadata": {},
   "outputs": [],
   "source": [
    "# create cursor\n",
    "cur = cnx.cursor()\n"
   ]
  },
  {
   "cell_type": "code",
   "execution_count": 27,
   "metadata": {},
   "outputs": [],
   "source": [
    "# iterate through the dataframe 'force', make a bunch of new rows, and then make a dataframe out of those\n",
    "\n",
    "new_row = []\n",
    "#val_lst = []\n",
    "for ix, row in force.iterrows():\n",
    "    # query the 911 calls database\n",
    "    # for each call, append to a bunch of records that we're building up into a dataframe\n",
    "    \n",
    "        \n",
    "    value = row.epoch\n",
    "    rowbeat = row.Beat\n",
    "    \n",
    "    if rowbeat == '-':\n",
    "        vals = cur.execute(f\"select * from log where epoch_calls BETWEEN ({value} - 120) AND {value} \").fetchall()\n",
    "    else:\n",
    "        vals = cur.execute(f\"select * from log where epoch_calls BETWEEN ({value} - 3000) AND {value} \").fetchall()\n",
    "    #val_lst.extend([value, val[0]])\n",
    "    cnx.commit()\n",
    "    \n",
    "    for val in vals:\n",
    "        new_row.extend( [[ix,  val[0], row.epoch, row.Incident_Num, row.Officer_ID, row.Subject_ID, val[1], val[2],\n",
    "                        row.Incident_Type, row.Precinct, \n",
    "                        row.Sector, row.Beat, val[8], val[4],\n",
    "                        row.Subject_Race, row.Subject_Gender, val[3], val[5], val[6], \n",
    "                        val[7], row.year, row.month, row.day] ])\n",
    "  "
   ]
  },
  {
   "cell_type": "code",
   "execution_count": 28,
   "metadata": {},
   "outputs": [],
   "source": [
    "# make dataframe from force dateframe and returned SQL table info (from calls table)\n",
    "\n",
    "merged = pd.DataFrame(new_row, columns=[\"index\",\"call_epoch\", \"force_epoch\", \"Incident_Num\", \"Officer_ID\",\n",
    "                                        \"Subject_ID\", \"CAD_Event_Number\", \"Event_Clearance_Description\",\n",
    "                                \"Force_Level\", \"Precinct\", \n",
    "                                \"Sector\", \"force_beat\", \"calls_beat\", \"Priority\",\n",
    "                                \"Subject_Race\", \"Subject_Gender\",\"Call_Type\", \"Initial_Call_Type\", \"Final_Call_Type\",\n",
    "                                \"Original_Time_Queued\", \"year\", \"month\",\"day\"])\n",
    "\n"
   ]
  },
  {
   "cell_type": "code",
   "execution_count": 29,
   "metadata": {},
   "outputs": [],
   "source": [
    "# if the rows have an associated beat and they don't match - drop them as a mismatched double\n",
    "new_merged = []\n",
    "for ix, row in merged.iterrows():\n",
    "    forc = row.force_beat\n",
    "    cal = row.calls_beat\n",
    "    if forc != '-':\n",
    "        if forc != cal:\n",
    "            pass\n",
    "        else:\n",
    "            new_merged.append(row)\n",
    "    else:\n",
    "        new_merged.append(row)"
   ]
  },
  {
   "cell_type": "code",
   "execution_count": 30,
   "metadata": {},
   "outputs": [],
   "source": [
    "# make it into a dataframe\n",
    "new_merged = pd.DataFrame(new_merged)\n"
   ]
  },
  {
   "cell_type": "code",
   "execution_count": 15,
   "metadata": {},
   "outputs": [],
   "source": [
    "'''# looking at duplicated CAD_E_Nums\n",
    "dfrs = new_merged[\"CAD_Event_Number\"].value_counts()\n",
    "two = []\n",
    "for v, i in zip(dfrs.values, dfrs.index):\n",
    "    if v >1:\n",
    "        two.append(i)\n",
    "# len(two) == 362  \n",
    "s = [x > 1 for x in dfrs]\n",
    "dd =dfrs[s]\n",
    "t = new_merged[new_merged[\"CAD_Event_Number\"].isin(two)]'''\n"
   ]
  },
  {
   "cell_type": "code",
   "execution_count": 31,
   "metadata": {},
   "outputs": [],
   "source": [
    "# make numeric\n",
    "rev_df = new_merged.replace(\"-1\", -1)\n",
    "rev_df[\"Original_Time_Queued\"] = pd.to_datetime(rev_df[\"Original_Time_Queued\"])\n",
    "rev_df[\"day_of_week\"] = rev_df[\"Original_Time_Queued\"].dt.dayofweek\n"
   ]
  },
  {
   "cell_type": "code",
   "execution_count": 32,
   "metadata": {},
   "outputs": [],
   "source": [
    "# get hour\n",
    "rev_df[\"hour\"] = rev_df[\"Original_Time_Queued\"].dt.hour"
   ]
  },
  {
   "cell_type": "code",
   "execution_count": 34,
   "metadata": {},
   "outputs": [
    {
     "data": {
      "text/plain": [
       "01    552\n",
       "06    499\n",
       "20    499\n",
       "25    476\n",
       "27    457\n",
       "02    454\n",
       "26    453\n",
       "18    448\n",
       "22    441\n",
       "13    435\n",
       "11    414\n",
       "28    413\n",
       "23    412\n",
       "19    409\n",
       "21    403\n",
       "07    386\n",
       "29    374\n",
       "05    372\n",
       "14    363\n",
       "24    360\n",
       "04    356\n",
       "15    354\n",
       "12    342\n",
       "16    334\n",
       "30    333\n",
       "03    333\n",
       "08    332\n",
       "17    329\n",
       "09    325\n",
       "10    325\n",
       "31    242\n",
       "Name: day, dtype: int64"
      ]
     },
     "execution_count": 34,
     "metadata": {},
     "output_type": "execute_result"
    }
   ],
   "source": [
    "rev_df.day.value_counts()"
   ]
  },
  {
   "cell_type": "code",
   "execution_count": 35,
   "metadata": {},
   "outputs": [],
   "source": [
    "# bring in rest of calls dataframe\n",
    "calls = pd.read_csv(\"data/Call_Data.csv\")"
   ]
  },
  {
   "cell_type": "code",
   "execution_count": 36,
   "metadata": {},
   "outputs": [],
   "source": [
    "# establish columns related to time \n",
    "def callstime(df, col_arrive):\n",
    "    yearmonthday = df[col_arrive].astype(str).str.split()\n",
    "    df[\"year\"] = yearmonthday.apply(lambda x: x[2])\n",
    "    df[\"day\"] = yearmonthday.apply(lambda x: x[1])\n",
    "    month_dict = {\"Jan\": 1, \"Feb\": 2, \"Mar\": 3, \"Apr\": 4, \"May\": 5, \"Jun\": 6, \"Jul\": 7, \"Aug\": 8, \"Sep\": 9, \"Oct\": 10, \"Nov\": 11, \"Dec\":12}\n",
    "    df[\"month\"] = yearmonthday.apply(lambda x: month_dict[x[0]])\n",
    "    df[\"time\"] = yearmonthday.apply(lambda x: x[3])\n",
    "    \n",
    "    return df\n",
    "\n",
    "calls = callstime(calls,\"Arrived Time\")\n",
    "\n"
   ]
  },
  {
   "cell_type": "code",
   "execution_count": 37,
   "metadata": {},
   "outputs": [],
   "source": [
    "# make the df smaller \n",
    "calls17 = pd.DataFrame(calls[calls[\"year\"].isin([\"2014\", \"2015\", \"2016\", \"2017\", \"2018\", \"2019\"])])\n"
   ]
  },
  {
   "cell_type": "code",
   "execution_count": 20,
   "metadata": {},
   "outputs": [],
   "source": [
    "#s = pd.to_datetime(calls17[\"Original Time Queued\"], infer_datetime_format=True)\n",
    "#(calls17[\"time\"])\n",
    "\n",
    "#.apply(lambda x: pd.datetime.strftime(x, '%H:%M:%S'))\n",
    "\n",
    "#s = s.apply(lambda x: pd.datetime.strftime(x, '%H'))"
   ]
  },
  {
   "cell_type": "code",
   "execution_count": 39,
   "metadata": {},
   "outputs": [],
   "source": [
    "# change O_t_q to dt and then day of week\n",
    "calls17[\"Original_Time_Queued\"] = pd.to_datetime(calls17[\"Original Time Queued\"])\n",
    "calls17[\"day_of_week\"] = calls17[\"Original_Time_Queued\"].dt.dayofweek\n",
    "\n",
    "# get hour\n",
    "calls17[\"hour\"] = calls17[\"Original_Time_Queued\"].dt.hour"
   ]
  },
  {
   "cell_type": "code",
   "execution_count": 40,
   "metadata": {},
   "outputs": [],
   "source": [
    "calls17.drop(\"Original Time Queued\", axis=1, inplace=True)"
   ]
  },
  {
   "cell_type": "code",
   "execution_count": null,
   "metadata": {},
   "outputs": [],
   "source": [
    "# import from pickle!!\n",
    "\n",
    "# calls_17 = pd.read_pickle(\"data/calls17_cleaned.pkl\")"
   ]
  },
  {
   "cell_type": "code",
   "execution_count": 41,
   "metadata": {},
   "outputs": [],
   "source": [
    "call_cols = calls17.columns"
   ]
  },
  {
   "cell_type": "code",
   "execution_count": 42,
   "metadata": {},
   "outputs": [
    {
     "data": {
      "text/plain": [
       "'    \\n    for val in vals:\\n        new_row.extend( [[ix,  val[0], row.epoch, row.Incident_Num, row.Officer_ID, row.Subject_ID, val[1], val[2],\\n                        row.Incident_Type, row.Precinct, \\n                        row.Sector, row.Beat, val[8], val[4],\\n                        row.Subject_Race, row.Subject_Gender, val[3], val[5], val[6], \\n                        val[7], row.year, row.month, row.day, row.time] ])'"
      ]
     },
     "execution_count": 42,
     "metadata": {},
     "output_type": "execute_result"
    }
   ],
   "source": [
    "# add in rows from Calls17 sql table that are not already represented in merged df\n",
    "add_call_rows = []\n",
    "\n",
    "series = list(rev_df[\"CAD_Event_Number\"])\n",
    "#val_lst = []\n",
    "for ix, row in calls17.iterrows():\n",
    "    # query the 911 calls database\n",
    "    # for each call, append to a bunch of records that we're building up into a dataframe\n",
    "    \n",
    "        \n",
    "    CAD = row[\"CAD Event Number\"]\n",
    "    #rowbeat = row.Beat\n",
    "    series \n",
    "    \n",
    "    if CAD in series:\n",
    "        pass\n",
    "    else:\n",
    "        add_call_rows.extend([row])\n",
    "    #val_lst.extend([value, val[0]])\n",
    "\n",
    "'''    \n",
    "    for val in vals:\n",
    "        new_row.extend( [[ix,  val[0], row.epoch, row.Incident_Num, row.Officer_ID, row.Subject_ID, val[1], val[2],\n",
    "                        row.Incident_Type, row.Precinct, \n",
    "                        row.Sector, row.Beat, val[8], val[4],\n",
    "                        row.Subject_Race, row.Subject_Gender, val[3], val[5], val[6], \n",
    "                        val[7], row.year, row.month, row.day, row.time] ])'''\n",
    "\n"
   ]
  },
  {
   "cell_type": "code",
   "execution_count": 43,
   "metadata": {},
   "outputs": [],
   "source": [
    "calls_add = pd.DataFrame(add_call_rows, columns = call_cols)\n"
   ]
  },
  {
   "cell_type": "code",
   "execution_count": 28,
   "metadata": {},
   "outputs": [],
   "source": [
    "# change O_t_q to dt\n",
    "# s = pd.to_datetime(calls_add[\"Original_Time_Queued\"],infer_datetime_format=True)\n"
   ]
  },
  {
   "cell_type": "code",
   "execution_count": 29,
   "metadata": {},
   "outputs": [],
   "source": [
    "# calls_add[\"day_of_week\"] = s.dt.dayofweek\n"
   ]
  },
  {
   "cell_type": "code",
   "execution_count": 48,
   "metadata": {},
   "outputs": [],
   "source": [
    "# if I find percentages and then disaggregate - can have not null genders and races here and in the rest\n",
    "\n",
    "calls_add[\"Force_Level\"] = 0\n",
    "calls_add[\"Subject_Gender\"] = \"-\"\n",
    "calls_add[\"Subject_Race\"] = \"-\"\n"
   ]
  },
  {
   "cell_type": "code",
   "execution_count": 56,
   "metadata": {},
   "outputs": [
    {
     "data": {
      "text/plain": [
       "(Index(['CAD_Event_Number', 'Event_Clearance_Description', 'Force_Level',\n",
       "        'Precinct', 'Sector', 'Beat', 'Subject_Race', 'Subject_Gender',\n",
       "        'Call_Type', 'Initial_Call_Type', 'month', 'day', 'day_of_week',\n",
       "        'hour'],\n",
       "       dtype='object'),\n",
       " Index(['CAD_Event_Number', 'Event_Clearance_Description', 'Force_Level',\n",
       "        'Precinct', 'Sector', 'Beat', 'Subject_Race', 'Subject_Gender',\n",
       "        'Call_Type', 'Initial_Call_Type', 'Original_Time_Queued', 'month',\n",
       "        'day', 'day_of_week', 'hour'],\n",
       "       dtype='object'))"
      ]
     },
     "execution_count": 56,
     "metadata": {},
     "output_type": "execute_result"
    }
   ],
   "source": [
    "\n",
    "\n",
    "# need to change column names and add columns to match rev_df\n",
    "calls_add.rename(columns={\"CAD Event Number\": \"CAD_Event_Number\", \"Event Clearance Description\": \"Event_Clearance_Description\",\n",
    "                                    \"Call Type\": \"Call_Type\", \"Initial Call Type\": \"Initial_Call_Type\"}, inplace=True)\n",
    "\n",
    "calls_add.columns, rev_df.columns\n"
   ]
  },
  {
   "cell_type": "code",
   "execution_count": 52,
   "metadata": {},
   "outputs": [],
   "source": [
    "rev_df.rename(columns={\"calls_beat\":\"Beat\"}, inplace=True)"
   ]
  },
  {
   "cell_type": "code",
   "execution_count": 53,
   "metadata": {},
   "outputs": [],
   "source": [
    "# drop columns I don't need for this model:\n",
    "\n",
    "\n",
    "rev_df.drop([\"index\", \"call_epoch\", \"force_epoch\", \"Incident_Num\", \"Officer_ID\", \"Subject_ID\", 'Final_Call_Type',\n",
    "           \"Priority\", \"year\", \"force_beat\", \"Original_Time_Queued\" ], axis=1, inplace=True)"
   ]
  },
  {
   "cell_type": "code",
   "execution_count": 59,
   "metadata": {},
   "outputs": [
    {
     "data": {
      "text/plain": [
       "(Index(['CAD_Event_Number', 'Event_Clearance_Description', 'Force_Level',\n",
       "        'Precinct', 'Sector', 'Beat', 'Subject_Race', 'Subject_Gender',\n",
       "        'Call_Type', 'Initial_Call_Type', 'month', 'day', 'day_of_week',\n",
       "        'hour'],\n",
       "       dtype='object'),\n",
       " Index(['CAD_Event_Number', 'Event_Clearance_Description', 'Force_Level',\n",
       "        'Precinct', 'Sector', 'Beat', 'Subject_Race', 'Subject_Gender',\n",
       "        'Call_Type', 'Initial_Call_Type', 'month', 'day', 'day_of_week',\n",
       "        'hour'],\n",
       "       dtype='object'))"
      ]
     },
     "execution_count": 59,
     "metadata": {},
     "output_type": "execute_result"
    }
   ],
   "source": [
    "#reorder columns so they match\n",
    "calls_add = calls_add[[\"CAD_Event_Number\", \"Event_Clearance_Description\", \"Force_Level\", \"Precinct\", \"Sector\", \"Beat\",\n",
    "                      \"Subject_Race\", \"Subject_Gender\",\"Call_Type\", \"Initial_Call_Type\", \"month\", \"day\", \"day_of_week\", \"hour\"]]\n",
    "calls_add.columns, rev_df.columns\n",
    "\n",
    "\n"
   ]
  },
  {
   "cell_type": "code",
   "execution_count": 75,
   "metadata": {},
   "outputs": [],
   "source": [
    "\n",
    "nm = pd.concat([rev_df, calls_add])"
   ]
  },
  {
   "cell_type": "code",
   "execution_count": 63,
   "metadata": {},
   "outputs": [],
   "source": [
    "\n",
    "\n",
    "init = nm[\"Initial_Call_Type\"]\n",
    "to_drop = init[init.str.startswith(\"-ASSIGNED DUTY\")]\n",
    "\n",
    "\n",
    "s = nm[\"Initial_Call_Type\"].str.replace(\" - .*\", \"\", regex=True)\n",
    "nm[\"Initial_Call_Type\"] = s"
   ]
  },
  {
   "cell_type": "code",
   "execution_count": 83,
   "metadata": {},
   "outputs": [],
   "source": [
    "nm.drop(to_drop.index, inplace=True)"
   ]
  },
  {
   "cell_type": "code",
   "execution_count": 84,
   "metadata": {},
   "outputs": [
    {
     "data": {
      "text/plain": [
       "2047618"
      ]
     },
     "execution_count": 84,
     "metadata": {},
     "output_type": "execute_result"
    }
   ],
   "source": [
    "len(nm)"
   ]
  },
  {
   "cell_type": "code",
   "execution_count": 85,
   "metadata": {},
   "outputs": [],
   "source": [
    "# correct time columns \n",
    "\n",
    "#rev_df[\"year\"] = rev_df[\"year\"].astype(int)\n",
    "nm[\"month\"] = nm[\"month\"].astype(int)\n",
    "nm[\"day\"] = nm[\"day\"].astype(int)\n",
    "#nm[\"day_of_week\"] = nm.Original_Time_Queued.dt.dayofweek\n",
    "\n",
    "# nm['call_hour'] = nm.Original_Time_Queued.apply(lambda x: x.hour)\n",
    "#rev_df['arrive_hour'] = rev_df.time.apply(lambda x: x.hour)\n",
    "#rev_df['time_to_arrival'] = rev_df[\"arrive_hour\"] - rev_df[\"call_hour\"]\n",
    "#rev_df.drop(\"arrive_hour\", axis=1, inplace=True)"
   ]
  },
  {
   "cell_type": "code",
   "execution_count": 86,
   "metadata": {},
   "outputs": [],
   "source": [
    "# need to remove ECD for now - leaky!\n",
    "\n",
    "nm.drop(\"Event_Clearance_Description\", axis=1, inplace=True)\n",
    "\n"
   ]
  },
  {
   "cell_type": "code",
   "execution_count": 87,
   "metadata": {},
   "outputs": [],
   "source": [
    "# make second df and keep leaky data for exploration later\n",
    "# take out event description and final call (bc you wouldn't know)\n",
    "nm_saved = nm.copy(deep=True)\n"
   ]
  },
  {
   "cell_type": "code",
   "execution_count": 88,
   "metadata": {},
   "outputs": [],
   "source": [
    "# pickle this df where it is just the rows not in rev_df so I can do more eda later:\n",
    "nm.to_pickle(\"data/rev_df_before_dummies.pkl\")"
   ]
  },
  {
   "cell_type": "code",
   "execution_count": 156,
   "metadata": {},
   "outputs": [],
   "source": [
    "clf = RandomForestClassifier(n_estimators=100, max_depth=4, random_state=659, oob_score=True)\n",
    "\n"
   ]
  },
  {
   "cell_type": "code",
   "execution_count": 162,
   "metadata": {},
   "outputs": [],
   "source": [
    "y = nm2.Force_Level\n",
    "\n",
    "# X for classifier\n",
    "nm2.drop([\"Force_Level\", \"CAD_Event_Number\"], axis=1, inplace=True)\n"
   ]
  },
  {
   "cell_type": "code",
   "execution_count": 164,
   "metadata": {},
   "outputs": [],
   "source": [
    "X_scaled = StandardScaler().fit_transform(nm2)"
   ]
  },
  {
   "cell_type": "code",
   "execution_count": 165,
   "metadata": {},
   "outputs": [
    {
     "data": {
      "text/plain": [
       "((1459754,), (1459754, 479))"
      ]
     },
     "execution_count": 165,
     "metadata": {},
     "output_type": "execute_result"
    }
   ],
   "source": [
    "\n"
   ]
  },
  {
   "cell_type": "code",
   "execution_count": null,
   "metadata": {},
   "outputs": [],
   "source": [
    "X_train, X_test, y_train, y_test = train_test_split(X_scaled, y, test_size=0.2, random_state=659)\n"
   ]
  },
  {
   "cell_type": "code",
   "execution_count": 806,
   "metadata": {},
   "outputs": [
    {
     "data": {
      "text/plain": [
       "RandomForestClassifier(bootstrap=True, class_weight=None, criterion='gini',\n",
       "                       max_depth=None, max_features='auto', max_leaf_nodes=None,\n",
       "                       min_impurity_decrease=0.0, min_impurity_split=None,\n",
       "                       min_samples_leaf=1, min_samples_split=2,\n",
       "                       min_weight_fraction_leaf=0.0, n_estimators=100,\n",
       "                       n_jobs=None, oob_score=True, random_state=659, verbose=0,\n",
       "                       warm_start=False)"
      ]
     },
     "execution_count": 806,
     "metadata": {},
     "output_type": "execute_result"
    }
   ],
   "source": [
    "clf.fit(X_train, y_train) #takes three minutes"
   ]
  },
  {
   "cell_type": "code",
   "execution_count": 807,
   "metadata": {},
   "outputs": [
    {
     "data": {
      "text/plain": [
       "(177, 177)"
      ]
     },
     "execution_count": 807,
     "metadata": {},
     "output_type": "execute_result"
    }
   ],
   "source": [
    "len(clf.feature_importances_), len(cols)"
   ]
  },
  {
   "cell_type": "code",
   "execution_count": 808,
   "metadata": {},
   "outputs": [
    {
     "data": {
      "text/plain": [
       "Index(['day', 'call_hour', 'month', 'day_of_week',\n",
       "       'Race_Black or African American', 'Race_White', 'forceb_E2',\n",
       "       'forceb_M3', 'Gender_Female', 'forceb_K2', 'Gender_Male', 'forceb_M1',\n",
       "       'InitCall_DISTURBANCE, MISCELLANEOUS/OTHER', 'InitCall_ASLT',\n",
       "       'InitCall_PREMISE CHECK, OFFICER INITIATED ONVIEW ONLY', 'forceb_K3',\n",
       "       'forceb_M2', 'InitCall_SUSPICIOUS PERSON, VEHICLE OR INCIDENT',\n",
       "       'forceb_D1'],\n",
       "      dtype='object')"
      ]
     },
     "execution_count": 808,
     "metadata": {},
     "output_type": "execute_result"
    }
   ],
   "source": [
    "# most important features\n",
    "indices = np.argsort(clf.feature_importances_)\n",
    "big = indices[-1:-20:-1]\n",
    "\n",
    "cols[big]"
   ]
  },
  {
   "cell_type": "code",
   "execution_count": 809,
   "metadata": {},
   "outputs": [
    {
     "data": {
      "text/plain": [
       "Index(['InitCall_TEST CALL ONLY', 'InitCall_ANIMAL, REPORT',\n",
       "       'InitCall_EXPLOSION', 'InitCall_INFORMATIONAL BROADCASTS',\n",
       "       'InitCall_POWER OUT', 'InitCall_BOMB THREATS',\n",
       "       'InitCall_SHOTS -DELAY/INCLUDES HEARD/NO ASSAULT',\n",
       "       'InitCall_SLEEPER ABOARD BUS/COMMUTER TRAIN', 'InitCall_RAPE',\n",
       "       'InitCall_WARRANT PICKUP'],\n",
       "      dtype='object')"
      ]
     },
     "execution_count": 809,
     "metadata": {},
     "output_type": "execute_result"
    }
   ],
   "source": [
    "# least important features\n",
    "little = indices[:10]\n",
    "cols[little]\n"
   ]
  },
  {
   "cell_type": "code",
   "execution_count": 810,
   "metadata": {},
   "outputs": [
    {
     "data": {
      "text/plain": [
       "0.8989825581395349"
      ]
     },
     "execution_count": 810,
     "metadata": {},
     "output_type": "execute_result"
    }
   ],
   "source": [
    "clf.oob_score_ # accuracy of training set"
   ]
  },
  {
   "cell_type": "code",
   "execution_count": 811,
   "metadata": {},
   "outputs": [],
   "source": [
    "yhat = clf.predict(X_test)"
   ]
  },
  {
   "cell_type": "code",
   "execution_count": 812,
   "metadata": {},
   "outputs": [],
   "source": [
    "# if I were going to use this to predict the outcome, it would have to take human input and then run it through \n",
    "# all the things and make it a very long array\n",
    "\n"
   ]
  },
  {
   "cell_type": "code",
   "execution_count": 813,
   "metadata": {},
   "outputs": [
    {
     "data": {
      "text/plain": [
       "0.8930232558139535"
      ]
     },
     "execution_count": 813,
     "metadata": {},
     "output_type": "execute_result"
    }
   ],
   "source": [
    "sum(yhat == y_test) / len(yhat) # accuracy of testing set"
   ]
  },
  {
   "cell_type": "code",
   "execution_count": 814,
   "metadata": {},
   "outputs": [],
   "source": [
    "pp = clf.predict_proba(X_test)"
   ]
  },
  {
   "cell_type": "code",
   "execution_count": 815,
   "metadata": {},
   "outputs": [
    {
     "data": {
      "text/plain": [
       "array(['Level 1 - Use of Force', 'Level 2 - Use of Force',\n",
       "       'Level 3 - OIS', 'Level 3 - Use of Force'], dtype=object)"
      ]
     },
     "execution_count": 815,
     "metadata": {},
     "output_type": "execute_result"
    }
   ],
   "source": [
    "clf.classes_"
   ]
  },
  {
   "cell_type": "code",
   "execution_count": 816,
   "metadata": {},
   "outputs": [
    {
     "name": "stdout",
     "output_type": "stream",
     "text": [
      "Pr of Force 1 is: 0.7835, Pr of Force 2: 0.19649999999999998, Pr of Force 3: 0.02, & Pr of Officer Involved Shooting: 0.0\n",
      "Pr of Force 1 is: 0.09, Pr of Force 2: 0.04, Pr of Force 3: 0.87, & Pr of Officer Involved Shooting: 0.0\n",
      "Pr of Force 1 is: 0.282, Pr of Force 2: 0.718, Pr of Force 3: 0.0, & Pr of Officer Involved Shooting: 0.0\n",
      "Pr of Force 1 is: 0.09, Pr of Force 2: 0.02, Pr of Force 3: 0.89, & Pr of Officer Involved Shooting: 0.0\n",
      "Pr of Force 1 is: 0.845, Pr of Force 2: 0.125, Pr of Force 3: 0.03, & Pr of Officer Involved Shooting: 0.0\n",
      "Pr of Force 1 is: 0.99, Pr of Force 2: 0.01, Pr of Force 3: 0.0, & Pr of Officer Involved Shooting: 0.0\n",
      "Pr of Force 1 is: 1.0, Pr of Force 2: 0.0, Pr of Force 3: 0.0, & Pr of Officer Involved Shooting: 0.0\n",
      "Pr of Force 1 is: 1.0, Pr of Force 2: 0.0, Pr of Force 3: 0.0, & Pr of Officer Involved Shooting: 0.0\n",
      "Pr of Force 1 is: 0.935, Pr of Force 2: 0.065, Pr of Force 3: 0.0, & Pr of Officer Involved Shooting: 0.0\n",
      "Pr of Force 1 is: 0.97, Pr of Force 2: 0.03, Pr of Force 3: 0.0, & Pr of Officer Involved Shooting: 0.0\n"
     ]
    }
   ],
   "source": [
    "for p in pp[:10]:\n",
    "    print(f\"Pr of Force 1 is: {p[0]}, Pr of Force 2: {p[1]}, Pr of Force 3: {p[3]}, & Pr of Officer Involved Shooting: {p[2]}\")\n",
    "          \n",
    "          "
   ]
  },
  {
   "cell_type": "code",
   "execution_count": 817,
   "metadata": {},
   "outputs": [],
   "source": [
    "rdl = rev_df_leaky.copy(deep=True)"
   ]
  },
  {
   "cell_type": "code",
   "execution_count": 818,
   "metadata": {},
   "outputs": [],
   "source": [
    "race = rdl.groupby(\"Subject_Race\")"
   ]
  },
  {
   "cell_type": "code",
   "execution_count": 819,
   "metadata": {},
   "outputs": [
    {
     "data": {
      "text/plain": [
       "Level 1 - Use of Force    6303\n",
       "Level 2 - Use of Force    2108\n",
       "Level 3 - Use of Force     125\n",
       "Level 3 - OIS               64\n",
       "Name: Force_Level, dtype: int64"
      ]
     },
     "execution_count": 819,
     "metadata": {},
     "output_type": "execute_result"
    }
   ],
   "source": [
    "rdl[\"Force_Level\"].value_counts()"
   ]
  },
  {
   "cell_type": "code",
   "execution_count": 820,
   "metadata": {},
   "outputs": [
    {
     "data": {
      "text/plain": [
       "Index(['Incident_Num', 'Incident_Type', 'Precinct', 'Sector', 'Beat',\n",
       "       'Officer_ID', 'Subject_ID', 'Subject_Race', 'Subject_Gender', 'year',\n",
       "       'month', 'day', 'time', 'epoch'],\n",
       "      dtype='object')"
      ]
     },
     "execution_count": 820,
     "metadata": {},
     "output_type": "execute_result"
    }
   ],
   "source": [
    "force.columns"
   ]
  },
  {
   "cell_type": "code",
   "execution_count": 524,
   "metadata": {},
   "outputs": [
    {
     "data": {
      "text/plain": [
       "Level 1 - Use of Force    7474\n",
       "Level 2 - Use of Force    2185\n",
       "Level 3 - Use of Force     105\n",
       "Level 3 - OIS               74\n",
       "Name: Incident_Type, dtype: int64"
      ]
     },
     "execution_count": 524,
     "metadata": {},
     "output_type": "execute_result"
    }
   ],
   "source": [
    "force[\"Incident_Type\"].value_counts()"
   ]
  },
  {
   "cell_type": "code",
   "execution_count": 525,
   "metadata": {},
   "outputs": [],
   "source": [
    "# need to do gradient boosting to do partial dependency plotting\n",
    "gdbr = GradientBoostingClassifier(n_estimators=100, learning_rate=1.0,\n",
    "                                  max_depth=1, random_state=0).fit(X_scaled, y)\n"
   ]
  },
  {
   "cell_type": "code",
   "execution_count": 526,
   "metadata": {},
   "outputs": [
    {
     "data": {
      "text/plain": [
       "Index(['day', 'call_hour', 'month', 'day_of_week', 'Race_White',\n",
       "       'Race_Black or African American', 'CallType_911', 'CallType_ONVIEW',\n",
       "       'Race_Not Specified'],\n",
       "      dtype='object')"
      ]
     },
     "execution_count": 526,
     "metadata": {},
     "output_type": "execute_result"
    }
   ],
   "source": [
    "#gdbr.feature_importances_\n",
    "\n",
    "indices_gdbr = np.argsort(gdbr.feature_importances_)\n",
    "big_gdbr = indices[-1:-10:-1]\n",
    "\n",
    "cols[big_gdbr]\n"
   ]
  },
  {
   "cell_type": "code",
   "execution_count": null,
   "metadata": {},
   "outputs": [],
   "source": [
    "force3[force3.month == 12]"
   ]
  },
  {
   "cell_type": "code",
   "execution_count": null,
   "metadata": {},
   "outputs": [],
   "source": [
    "plt.hist(force3.month, bins=12);"
   ]
  },
  {
   "cell_type": "code",
   "execution_count": null,
   "metadata": {},
   "outputs": [],
   "source": [
    "list(big_gdbr)"
   ]
  },
  {
   "cell_type": "code",
   "execution_count": null,
   "metadata": {
    "scrolled": true
   },
   "outputs": [],
   "source": [
    "\n",
    "# make plots\n",
    "my_plots = plot_partial_dependence(gdbr,       \n",
    "                                   features=[131, 5361], # column numbers of plots to show\n",
    "                                   X=X,            # raw predictors data.\n",
    "                                   #feature_names=['day', 'month', 'day_of_week'],\n",
    "                                   target=[\"Level 1 - Use of Force\"],# for multi-class must use label\n",
    "                                   grid_resolution=10)"
   ]
  },
  {
   "cell_type": "code",
   "execution_count": null,
   "metadata": {},
   "outputs": [],
   "source": [
    "#gdbr.predict(X_test) \n",
    "#gdbr.predict_proba(X_test)\n",
    "gdbr.score(X_test, y_test)"
   ]
  },
  {
   "cell_type": "code",
   "execution_count": null,
   "metadata": {},
   "outputs": [],
   "source": [
    "\n",
    "importance = np.std([tree.feature_importances_\n",
    "                            for tree in clf.estimators_], axis=0)\n",
    "\n",
    "r = range(importance.shape[0])\n",
    "f = clf.feature_importances_\n",
    "yerr = importance\n",
    "\n",
    "# Extend the code to find the standard deviation of the importance for each feature across all trees. \n",
    "fig, ax = plt.subplots(1,1, figsize=(20,8), sharex=True)\n",
    "#axs.flatten()\n",
    "\n",
    "ax.errorbar(r,f, yerr=yerr)\n",
    "ax.set_title('all errorbars')\n",
    "\n",
    "\n",
    "#fig.suptitle('Errors')\n",
    "\n",
    "plt.tight_layout()\n",
    "plt.xticks(np.arange(len(r)), X.columns, rotation=\"vertical\")\n",
    "plt.show();\n",
    "#plt.bar(r, f, yerr=yerr, align=\"center\");\n",
    "\n",
    "\n"
   ]
  },
  {
   "cell_type": "code",
   "execution_count": null,
   "metadata": {},
   "outputs": [],
   "source": []
  },
  {
   "cell_type": "code",
   "execution_count": null,
   "metadata": {},
   "outputs": [],
   "source": []
  },
  {
   "cell_type": "code",
   "execution_count": null,
   "metadata": {},
   "outputs": [],
   "source": [
    "'''force3.Incident_Num.value_counts()\n",
    "t = force3[force3[\"Incident_Num\"] == 12308]\n",
    "#t.drop_duplicates(\"CAD_Event_Number\", inplace=True) # 'force_beat', 'calls_beat'\n",
    "len(t.CAD_Event_Number.value_counts()), len(t)\n",
    "t2 = t[t.force_beat.values == t.calls_beat.values]\n",
    "t2'''\n",
    "\n",
    "'''force3 = merged[merged.Force_Level == \"Level 3 - Use of Force\"]\n",
    "force2 = merged[merged.Force_Level == \"Level 2 - Use of Force\"]\n",
    "force1 = merged[merged.Force_Level == \"Level 1 - Use of Force\"]\n",
    "len(force3), len(force2), len(force1), len(merged)'''\n",
    "\n",
    "'''# group by incident number first\n",
    "\n",
    "x = force3.Subject_Race.value_counts()\n",
    "lst = list(x.values)\n",
    "plt.bar(np.arange(7), lst)\n",
    "#plt.xticks([])\n",
    "#plt.xticks()\n",
    "\n",
    "plt.xticks((0,1, 2, 3,4,5,6), ('White', 'Black or African American ', 'Not Specified ','Hispanic or Latino',\n",
    "                               'Asian','American Indian/Alaska Native ','Nat Hawaiian/Oth Pac Islander'), \n",
    "          rotation='vertical')\n",
    "plt.title(\"Level 3 Force by Race 2014-2019\");'''"
   ]
  },
  {
   "cell_type": "code",
   "execution_count": null,
   "metadata": {},
   "outputs": [],
   "source": [
    "'''force3beats = force3[force3.force_beat.values == force3.calls_beat.values]\n",
    "len(force3beats)\n",
    "f3b = force3beats.drop([\"index\", \"Force_Level\", \"Precinct\"], axis=1)\n",
    "f3b.drop(\"Sector\", axis=1, inplace=True)\n",
    "#f3b '''"
   ]
  },
  {
   "cell_type": "code",
   "execution_count": null,
   "metadata": {},
   "outputs": [],
   "source": [
    "'''#rev_df.drop([\"Subject_Gender\", \"Subject_Race\"], axis=1, inplace=True)\n",
    "rev_df.info(verbose=True)'''"
   ]
  },
  {
   "cell_type": "code",
   "execution_count": null,
   "metadata": {},
   "outputs": [],
   "source": [
    "'''y = force3.Subject_Gender.value_counts()\n",
    "lst = list(y.values)\n",
    "plt.bar(np.arange(2), lst)\n",
    "#plt.xticks([])\n",
    "#plt.xticks()\n",
    "\n",
    "plt.xticks((0,1), ('Male', 'Female'), \n",
    "          rotation='horizontal')\n",
    "plt.title(\"Level 3 Force by Gender 2014-2019\");'''"
   ]
  },
  {
   "cell_type": "code",
   "execution_count": null,
   "metadata": {},
   "outputs": [],
   "source": []
  },
  {
   "cell_type": "code",
   "execution_count": 822,
   "metadata": {},
   "outputs": [
    {
     "data": {
      "text/plain": [
       "PREMISE CHECK, OFFICER INITIATED ONVIEW ONLY      718\n",
       "DISTURBANCE, MISCELLANEOUS/OTHER                  696\n",
       "ASLT                                              520\n",
       "SUSPICIOUS PERSON, VEHICLE OR INCIDENT            439\n",
       "TRAFFIC STOP                                      439\n",
       "OFF DUTY EMPLOYMENT                               282\n",
       "FIGHT                                             278\n",
       "SUSPICIOUS STOP                                   260\n",
       "MVC                                               256\n",
       "DIST                                              228\n",
       "THEFT (DOES NOT INCLUDE SHOPLIFT OR SVCS)         211\n",
       "TRESPASS                                          204\n",
       "BURG                                              185\n",
       "AUTO RECOVERY                                     179\n",
       "DIRECTED PATROL ACTIVITY                          161\n",
       "PROPERTY                                          154\n",
       "ALARM                                             147\n",
       "WARRANT                                           146\n",
       "FOLLOW UP                                         141\n",
       "SHOPLIFT                                          139\n",
       "TRU                                               137\n",
       "NUISANCE                                          135\n",
       "-ASSIGNED DUTY                                    128\n",
       "UNKNOWN                                           125\n",
       "SUICIDE                                           123\n",
       "PARKING VIOLATION (EXCEPT ABANDONED CAR)          118\n",
       "THREATS (INCLS IN-PERSON/BY PHONE/IN WRITING)     114\n",
       "WEAPN-IP/JO-GUN,DEADLY WPN (NO THRT/ASLT/DIST)    113\n",
       "NARCOTICS                                         112\n",
       "HAZ                                               102\n",
       "                                                 ... \n",
       "AUTO                                                5\n",
       "BURN                                                5\n",
       "WATER FLOODS (BROKEN MAINS/HYDRANTS, NO HAZ)        5\n",
       "THREATS                                             5\n",
       "ORDER                                               5\n",
       "RAPE                                                5\n",
       "-OUT OF CAR/NO REASON GIVEN                         4\n",
       "AUTO THEFT-IP/JO                                    4\n",
       "CARJACKING                                          4\n",
       "DEMONSTRATIONS                                      4\n",
       "NARCOTICS WARRANT SERVICE                           4\n",
       "TRAF                                                4\n",
       "PURSE SNATCH                                        3\n",
       "DOA                                                 3\n",
       "BIAS -RACIAL, POLITICAL, SEXUAL MOTIVATION          3\n",
       "TREES DOWN, OBSTRUCTING PUBLIC PROP (NO HAZ)        3\n",
       "SLEEPER ABOARD BUS/COMMUTER TRAIN                   3\n",
       "PEDESTRIAN VIOLATIONS                               3\n",
       "SEX OFFENDER                                        2\n",
       "POLICE (SILENT) ALARM                               2\n",
       "POWER OUT                                           2\n",
       "TEST CALL ONLY                                      1\n",
       "EXPLOSION                                           1\n",
       "WARRANT PICKUP                                      1\n",
       "ANIMAL, REPORT                                      1\n",
       "HARBOR                                              1\n",
       "BOMB THREATS                                        1\n",
       "SHOTS -DELAY/INCLUDES HEARD/NO ASSAULT              1\n",
       "INFORMATIONAL BROADCASTS                            1\n",
       "MENTAL                                              1\n",
       "Name: Initial_Call_Type, Length: 113, dtype: int64"
      ]
     },
     "execution_count": 822,
     "metadata": {},
     "output_type": "execute_result"
    }
   ],
   "source": [
    "new_merged[\"Initial_Call_Type\"].value_counts()"
   ]
  },
  {
   "cell_type": "code",
   "execution_count": null,
   "metadata": {},
   "outputs": [],
   "source": []
  },
  {
   "cell_type": "markdown",
   "metadata": {},
   "source": [
    "Make a way to enter in info\n"
   ]
  },
  {
   "cell_type": "code",
   "execution_count": 705,
   "metadata": {},
   "outputs": [
    {
     "name": "stdout",
     "output_type": "stream",
     "text": [
      "2019 7 6 18\n"
     ]
    }
   ],
   "source": [
    "# time info[day, day of the week, call hour, month], location[beat, sector, precinct], gender, race, \n",
    "# initial call --> drop down menu\n",
    "# could change later to just ask for address\n",
    "\n",
    "def new_call(gender, race, reason, beat):\n",
    "    now = datetime.datetime.now()\n",
    "    month = now.month\n",
    "    day = now.day\n",
    "    hour = now.hour\n",
    "    day_of_week = now.dt.dayofweek\n",
    "    \n"
   ]
  },
  {
   "cell_type": "code",
   "execution_count": 700,
   "metadata": {},
   "outputs": [
    {
     "name": "stdout",
     "output_type": "stream",
     "text": [
      "What is your street address?1201 summit ave\n"
     ]
    }
   ],
   "source": []
  },
  {
   "cell_type": "code",
   "execution_count": null,
   "metadata": {},
   "outputs": [],
   "source": []
  }
 ],
 "metadata": {
  "kernelspec": {
   "display_name": "Python 3",
   "language": "python",
   "name": "python3"
  },
  "language_info": {
   "codemirror_mode": {
    "name": "ipython",
    "version": 3
   },
   "file_extension": ".py",
   "mimetype": "text/x-python",
   "name": "python",
   "nbconvert_exporter": "python",
   "pygments_lexer": "ipython3",
   "version": "3.7.3"
  }
 },
 "nbformat": 4,
 "nbformat_minor": 2
}
