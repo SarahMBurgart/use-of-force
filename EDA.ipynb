{
 "cells": [
  {
   "cell_type": "code",
   "execution_count": 2,
   "metadata": {},
   "outputs": [],
   "source": [
    "import pandas as pd\n",
    "import os\n",
    "from datetime import datetime\n",
    "import sqlite3\n",
    "from sqlalchemy import create_engine\n",
    "engine = create_engine('sqlite://', echo=False)\n",
    "\n",
    "import matplotlib.pyplot as plt\n",
    "import numpy as np\n",
    "from datetime import datetime\n",
    "from sklearn.decomposition import PCA\n",
    "from sklearn.preprocessing import StandardScaler\n",
    "import seaborn as sns\n",
    "from sklearn.ensemble import RandomForestClassifier, GradientBoostingClassifier\n",
    "from sklearn.model_selection import train_test_split\n",
    "from sklearn.inspection import plot_partial_dependence\n",
    "from sklearn.inspection import partial_dependence \n",
    "\n",
    "\n",
    "%matplotlib inline"
   ]
  },
  {
   "cell_type": "code",
   "execution_count": null,
   "metadata": {},
   "outputs": [],
   "source": [
    "# police beats interactive map - put in address and it tells you the beat!\n",
    "\n",
    "# https://www.seattle.gov/police/community-policing/mcpp-location-map\n",
    "    \n",
    "    "
   ]
  },
  {
   "cell_type": "code",
   "execution_count": 3,
   "metadata": {},
   "outputs": [],
   "source": [
    "# function to convert datetime object to 4 - for force ONLY\n",
    "def datetime(df, col_as_str):\n",
    "    yearmonthday = df[col_as_str].astype(str).str.split(\" \")\n",
    "    ymd = yearmonthday.apply(lambda x: x[0]).str.split(\"/\")\n",
    "    year = ymd.apply(lambda x: x[2])\n",
    "    month = ymd.apply(lambda x: x[0])\n",
    "    day = ymd.apply(lambda x: x[1])\n",
    "    time = ymd = yearmonthday.apply(lambda x: x[1]+x[2]).astype(str)\n",
    "    df[\"year\"] = year\n",
    "    df[\"month\"] = month\n",
    "    df[\"day\"] = day\n",
    "    df[\"time\"] = time\n",
    "    return df\n"
   ]
  },
  {
   "cell_type": "code",
   "execution_count": 4,
   "metadata": {},
   "outputs": [
    {
     "data": {
      "text/plain": [
       "(9422, 9838)"
      ]
     },
     "execution_count": 4,
     "metadata": {},
     "output_type": "execute_result"
    }
   ],
   "source": [
    "force = pd.read_csv(\"data/Use_Of_Force.csv\")\n",
    "len(force) -  len(force[force[\"Beat\"] == '-']), len(force)"
   ]
  },
  {
   "cell_type": "code",
   "execution_count": 5,
   "metadata": {},
   "outputs": [],
   "source": [
    "# change to epoch time\n",
    "force = datetime(force,\"Occured_date_time\" )\n",
    "foo = pd.to_datetime( force.Occured_date_time )\n",
    "epoch_second = foo.map(lambda x:x.value/1e9)\n",
    "\n",
    "force[\"epoch\"] = epoch_second\n"
   ]
  },
  {
   "cell_type": "code",
   "execution_count": 6,
   "metadata": {},
   "outputs": [],
   "source": [
    "# remove repetitive columns (incident type, officer id and subject id are in ID respectively)\n",
    "\n",
    "force = force.drop(columns=[\"Occured_date_time\", \"ID\"])\n"
   ]
  },
  {
   "cell_type": "code",
   "execution_count": 7,
   "metadata": {},
   "outputs": [
    {
     "name": "stdout",
     "output_type": "stream",
     "text": [
      "1640 S3    2\n",
      "R2    1\n",
      "E2    1\n",
      "D3    1\n",
      "G2    1\n",
      "Name: Beat, dtype: int64\n",
      "1262 S2    5\n",
      "Name: Beat, dtype: int64\n",
      "1565 S2    5\n",
      "Name: Beat, dtype: int64\n",
      "1868 S2    5\n",
      "Name: Beat, dtype: int64\n",
      "2191 U2    2\n",
      "K1    1\n",
      "D3    1\n",
      "Name: Beat, dtype: int64\n",
      "1562 D3    3\n",
      "L3    1\n",
      "Name: Beat, dtype: int64\n",
      "2121 D3    3\n",
      "Name: Beat, dtype: int64\n",
      "927 Q3    1\n",
      "D1    1\n",
      "D3    1\n",
      "Name: Beat, dtype: int64\n",
      "456 Q3    1\n",
      "K1    1\n",
      "M3    1\n",
      "Name: Beat, dtype: int64\n",
      "853 E1    2\n",
      "Name: Beat, dtype: int64\n"
     ]
    }
   ],
   "source": [
    "lf3 = [\"Level 3 - Use of Force\", 'Level 3 - OIS']\n",
    "lf1 = [\"Level 2 - Use of Force\", \"Level 1 - Use of Force\"]\n",
    "f1 = force[force[\"Incident_Type\"].isin(lf1)]\n",
    "f3 = force[force[\"Incident_Type\"].isin(lf3)]\n",
    "\n",
    "top10 = f3.Officer_ID.value_counts()[:10].index\n",
    "len(force[force[\"Officer_ID\"].isin(top10)])\n",
    "for officer in top10:\n",
    "    off = f3[f3[\"Officer_ID\"] == officer]\n",
    "    beats = off.Beat.value_counts()\n",
    "    print(officer, beats)  "
   ]
  },
  {
   "cell_type": "code",
   "execution_count": 8,
   "metadata": {},
   "outputs": [
    {
     "data": {
      "text/plain": [
       "{'-': 5,\n",
       " 'B3': 2,\n",
       " 'C3': 1,\n",
       " 'D3': 6,\n",
       " 'G3': 1,\n",
       " 'K1': 5,\n",
       " 'L2': 1,\n",
       " 'N2': 1,\n",
       " 'N3': 3,\n",
       " 'O1': 1,\n",
       " 'Q2': 1,\n",
       " 'Q3': 3,\n",
       " 'R3': 1,\n",
       " 'S1': 1,\n",
       " 'S2': 15,\n",
       " 'U1': 3,\n",
       " 'U2': 1,\n",
       " 'U3': 22,\n",
       " 'XX': 1}"
      ]
     },
     "execution_count": 8,
     "metadata": {},
     "output_type": "execute_result"
    }
   ],
   "source": [
    "beats = force.groupby(\"Beat\")\n",
    "vc = beats[\"Incident_Type\"].value_counts()\n",
    "vc = pd.DataFrame(vc)\n",
    "vc.values\n",
    "OIS_dict = {}\n",
    "#vc.index[3][1]\n",
    "for i in range(vc.shape[0]):\n",
    "    if vc.index[i][1]== \"Level 3 - OIS\":\n",
    "        OIS_dict[vc.index[i][0]] = vc.values[i][0]\n",
    "OIS_dict"
   ]
  },
  {
   "cell_type": "code",
   "execution_count": 9,
   "metadata": {},
   "outputs": [
    {
     "data": {
      "text/plain": [
       "(139, Level 1 - Use of Force    94\n",
       " Level 2 - Use of Force    23\n",
       " Level 3 - OIS             22\n",
       " Name: Incident_Type, dtype: int64)"
      ]
     },
     "execution_count": 9,
     "metadata": {},
     "output_type": "execute_result"
    }
   ],
   "source": [
    "U3 = force[force[\"Beat\"] == \"U3\"]\n",
    "len(U3), U3.Incident_Type.value_counts()\n",
    "\n",
    "# could add in the percentage of each kind in each beat\n",
    "\n"
   ]
  },
  {
   "cell_type": "code",
   "execution_count": 10,
   "metadata": {},
   "outputs": [],
   "source": [
    "# create engine\n",
    "cnx = sqlite3.connect('calls.sqlite')"
   ]
  },
  {
   "cell_type": "code",
   "execution_count": 11,
   "metadata": {},
   "outputs": [],
   "source": [
    "# create cursor\n",
    "cur = cnx.cursor()\n"
   ]
  },
  {
   "cell_type": "code",
   "execution_count": 12,
   "metadata": {},
   "outputs": [],
   "source": [
    "# iterate through the dataframe 'force', make a bunch of new rows, and then make a dataframe out of those\n",
    "\n",
    "new_row = []\n",
    "#val_lst = []\n",
    "for ix, row in force.iterrows():\n",
    "    # query the 911 calls database\n",
    "    # for each call, append to a bunch of records that we're building up into a dataframe\n",
    "    \n",
    "        \n",
    "    value = row.epoch\n",
    "    rowbeat = row.Beat\n",
    "    \n",
    "    if rowbeat == '-':\n",
    "        vals = cur.execute(f\"select * from log where epoch_calls BETWEEN ({value} - 120) AND {value} \").fetchall()\n",
    "    else:\n",
    "        vals = cur.execute(f\"select * from log where epoch_calls BETWEEN ({value} - 3000) AND {value} \").fetchall()\n",
    "    #val_lst.extend([value, val[0]])\n",
    "    cnx.commit()\n",
    "    \n",
    "    for val in vals:\n",
    "        new_row.extend( [[ix,  val[0], row.epoch, row.Incident_Num, row.Officer_ID, row.Subject_ID, val[1], val[2],\n",
    "                        row.Incident_Type, row.Precinct, \n",
    "                        row.Sector, row.Beat, val[8], val[4],\n",
    "                        row.Subject_Race, row.Subject_Gender, val[3], val[5], val[6], \n",
    "                        val[7], row.year, row.month, row.day, row.time] ])\n",
    "  "
   ]
  },
  {
   "cell_type": "code",
   "execution_count": 13,
   "metadata": {},
   "outputs": [],
   "source": [
    "# look at force - are beat and officer correlated?\n",
    "#force.info()\n",
    "#force.groupby(\"Officer_ID\")[[\"Beat\"]].sum()\n",
    "\n",
    "# officer may be at more than one beat"
   ]
  },
  {
   "cell_type": "code",
   "execution_count": 14,
   "metadata": {},
   "outputs": [],
   "source": [
    "merged = pd.DataFrame(new_row, columns=[\"index\",\"call_epoch\", \"force_epoch\", \"Incident_Num\", \"Officer_ID\",\n",
    "                                        \"Subject_ID\", \"CAD_Event_Number\", \"Event_Clearance_Description\",\n",
    "                                \"Force_Level\", \"Precinct\", \n",
    "                                \"Sector\", \"force_beat\", \"calls_beat\", \"Priority\",\n",
    "                                \"Subject_Race\", \"Subject_Gender\",\"Call_Type\", \"Initial_Call_Type\", \"Final_Call_Type\",\n",
    "                                \"Original_Time_Queued\", \"year\", \"month\",\"day\", \"time \" ])\n",
    "\n"
   ]
  },
  {
   "cell_type": "code",
   "execution_count": 18,
   "metadata": {},
   "outputs": [],
   "source": [
    "new_merged = []\n",
    "for ix, row in merged.iterrows():\n",
    "    forc = row.force_beat\n",
    "    cal = row.calls_beat\n",
    "    if forc != '-':\n",
    "        if forc != cal:\n",
    "            pass\n",
    "        else:\n",
    "            new_merged.append(row)\n",
    "    else:\n",
    "        new_merged.append(row)"
   ]
  },
  {
   "cell_type": "code",
   "execution_count": 19,
   "metadata": {},
   "outputs": [],
   "source": [
    "new_merged = pd.DataFrame(new_merged)\n"
   ]
  },
  {
   "cell_type": "code",
   "execution_count": 20,
   "metadata": {},
   "outputs": [
    {
     "data": {
      "text/plain": [
       "(8120, 8616)"
      ]
     },
     "execution_count": 20,
     "metadata": {},
     "output_type": "execute_result"
    }
   ],
   "source": [
    "len(new_merged) - len(new_merged[new_merged[\"force_beat\"] == '-']), len(new_merged)"
   ]
  },
  {
   "cell_type": "code",
   "execution_count": 789,
   "metadata": {},
   "outputs": [],
   "source": [
    "'''init = new_merged[\"Initial_Call_Type\"]\n",
    "to_drop = init[init.str.startswith(\"-ASSIGNED DUTY\")]\n",
    "#to_drop'''"
   ]
  },
  {
   "cell_type": "code",
   "execution_count": 790,
   "metadata": {},
   "outputs": [],
   "source": [
    "# put categories of initial calls together\n",
    "\n"
   ]
  },
  {
   "cell_type": "code",
   "execution_count": 792,
   "metadata": {},
   "outputs": [
    {
     "data": {
      "text/plain": [
       "'dfrs = new_merged[\"CAD_Event_Number\"].value_counts()\\ntwo = []\\nfor v, i in zip(dfrs.values, dfrs.index):\\n    if v >1:\\n        two.append(i)\\n# len(two) == 362  \\ns = [x > 1 for x in dfrs]\\ndd =dfrs[s]\\n\\nevents = [\"-\", \"UNABLE TO LOCATE INCIDENT OR COMPLAINANT\", \"DUPLICATED OR CANCELLED BY RADIO\", \\n          \"NO POLICE ACTION POSSIBLE OR NECESSARY\", \"RESPONDING UNIT(S) CANCELLED BY RADIO\",\\n          \"ASSISTANCE RENDERED\", \"FALSE COMPLAINT/UNFOUNDED\", \"EXTRA UNIT\", \"ORAL WARNING GIVEN\",\\n         \"STREET CHECK WRITTEN\", \"OTHER REPORT MADE\", \"FOLLOW-UP REPORT MADE\",\\n         \"NON-CRIMINAL REFERRAL\", \"REPORT WRITTEN (NO ARREST)\", \"INCIDENT LOCATED, PUBLIC ORDER RESTORED\",\\n         \"TRANSPORTATION OR ESCORT PROVIDED\"]\\n\\nt = new_merged[new_merged[\"CAD_Event_Number\"].isin(two)]\\n\\nindicest = t[t[\"Event_Clearance_Description\"].isin(events)].index\\n\\n\\n\\nnew_merged.drop(indicest, axis=0, inplace=True)'"
      ]
     },
     "execution_count": 792,
     "metadata": {},
     "output_type": "execute_result"
    }
   ],
   "source": [
    "'''dfrs = new_merged[\"CAD_Event_Number\"].value_counts()\n",
    "two = []\n",
    "for v, i in zip(dfrs.values, dfrs.index):\n",
    "    if v >1:\n",
    "        two.append(i)\n",
    "# len(two) == 362  \n",
    "s = [x > 1 for x in dfrs]\n",
    "dd =dfrs[s]\n",
    "\n",
    "events = [\"-\", \"UNABLE TO LOCATE INCIDENT OR COMPLAINANT\", \"DUPLICATED OR CANCELLED BY RADIO\", \n",
    "          \"NO POLICE ACTION POSSIBLE OR NECESSARY\", \"RESPONDING UNIT(S) CANCELLED BY RADIO\",\n",
    "          \"ASSISTANCE RENDERED\", \"FALSE COMPLAINT/UNFOUNDED\", \"EXTRA UNIT\", \"ORAL WARNING GIVEN\",\n",
    "         \"STREET CHECK WRITTEN\", \"OTHER REPORT MADE\", \"FOLLOW-UP REPORT MADE\",\n",
    "         \"NON-CRIMINAL REFERRAL\", \"REPORT WRITTEN (NO ARREST)\", \"INCIDENT LOCATED, PUBLIC ORDER RESTORED\",\n",
    "         \"TRANSPORTATION OR ESCORT PROVIDED\"]\n",
    "\n",
    "t = new_merged[new_merged[\"CAD_Event_Number\"].isin(two)]\n",
    "\n",
    "indicest = t[t[\"Event_Clearance_Description\"].isin(events)].index\n",
    "\n",
    "\n",
    "\n",
    "new_merged.drop(indicest, axis=0, inplace=True)'''"
   ]
  },
  {
   "cell_type": "code",
   "execution_count": 791,
   "metadata": {},
   "outputs": [],
   "source": [
    "'''new_merged.call_epoch = pd.to_numeric(new_merged.call_epoch, downcast=\"integer\")\n",
    "new_merged.force_epoch = pd.to_numeric(new_merged.force_epoch, downcast=\"integer\")'''"
   ]
  },
  {
   "cell_type": "code",
   "execution_count": 21,
   "metadata": {},
   "outputs": [
    {
     "data": {
      "text/plain": [
       "White                            3465\n",
       "Black or African American        2979\n",
       "Not Specified                    1423\n",
       "Hispanic or Latino                309\n",
       "Asian                             304\n",
       "American Indian/Alaska Native      79\n",
       "Nat Hawaiian/Oth Pac Islander      57\n",
       "Name: Subject_Race, dtype: int64"
      ]
     },
     "execution_count": 21,
     "metadata": {},
     "output_type": "execute_result"
    }
   ],
   "source": [
    "dfrs = new_merged[\"CAD_Event_Number\"].value_counts()\n",
    "two = []\n",
    "for v, i in zip(dfrs.values, dfrs.index):\n",
    "    if v >1:\n",
    "        two.append(i)\n",
    "# len(two) == 362  \n",
    "s = [x > 1 for x in dfrs]\n",
    "dd =dfrs[s]\n",
    "t = new_merged[new_merged[\"CAD_Event_Number\"].isin(two)]\n",
    "new_merged[\"Subject_Race\"].value_counts()"
   ]
  },
  {
   "cell_type": "code",
   "execution_count": 22,
   "metadata": {},
   "outputs": [
    {
     "data": {
      "text/html": [
       "<div>\n",
       "<style scoped>\n",
       "    .dataframe tbody tr th:only-of-type {\n",
       "        vertical-align: middle;\n",
       "    }\n",
       "\n",
       "    .dataframe tbody tr th {\n",
       "        vertical-align: top;\n",
       "    }\n",
       "\n",
       "    .dataframe thead th {\n",
       "        text-align: right;\n",
       "    }\n",
       "</style>\n",
       "<table border=\"1\" class=\"dataframe\">\n",
       "  <thead>\n",
       "    <tr style=\"text-align: right;\">\n",
       "      <th></th>\n",
       "      <th>index</th>\n",
       "      <th>call_epoch</th>\n",
       "      <th>force_epoch</th>\n",
       "      <th>Incident_Num</th>\n",
       "      <th>Officer_ID</th>\n",
       "      <th>Subject_ID</th>\n",
       "      <th>CAD_Event_Number</th>\n",
       "      <th>Event_Clearance_Description</th>\n",
       "      <th>Force_Level</th>\n",
       "      <th>Precinct</th>\n",
       "      <th>...</th>\n",
       "      <th>Subject_Gender</th>\n",
       "      <th>Call_Type</th>\n",
       "      <th>Initial_Call_Type</th>\n",
       "      <th>Final_Call_Type</th>\n",
       "      <th>Original_Time_Queued</th>\n",
       "      <th>year</th>\n",
       "      <th>month</th>\n",
       "      <th>day</th>\n",
       "      <th>time</th>\n",
       "      <th>time</th>\n",
       "    </tr>\n",
       "  </thead>\n",
       "  <tbody>\n",
       "    <tr>\n",
       "      <th>0</th>\n",
       "      <td>0</td>\n",
       "      <td>1.511833e+09</td>\n",
       "      <td>1.511833e+09</td>\n",
       "      <td>18412</td>\n",
       "      <td>2238</td>\n",
       "      <td>14470</td>\n",
       "      <td>2017000438597</td>\n",
       "      <td>REPORT WRITTEN (NO ARREST)</td>\n",
       "      <td>Level 1 - Use of Force</td>\n",
       "      <td>-</td>\n",
       "      <td>...</td>\n",
       "      <td>Female</td>\n",
       "      <td>TELEPHONE OTHER, NOT 911</td>\n",
       "      <td>SUSPICIOUS PERSON, VEHICLE OR INCIDENT</td>\n",
       "      <td>--SUSPICIOUS CIRCUM. - SUSPICIOUS PERSON</td>\n",
       "      <td>2017-11-28 01:27:55</td>\n",
       "      <td>2017</td>\n",
       "      <td>11</td>\n",
       "      <td>28</td>\n",
       "      <td>01:40:00AM</td>\n",
       "      <td>2019-07-07 01:40:00</td>\n",
       "    </tr>\n",
       "    <tr>\n",
       "      <th>1</th>\n",
       "      <td>2</td>\n",
       "      <td>1.532199e+09</td>\n",
       "      <td>1.532199e+09</td>\n",
       "      <td>30638</td>\n",
       "      <td>2146</td>\n",
       "      <td>17272</td>\n",
       "      <td>2018000269265</td>\n",
       "      <td>UNABLE TO LOCATE INCIDENT OR COMPLAINANT</td>\n",
       "      <td>Level 1 - Use of Force</td>\n",
       "      <td>-</td>\n",
       "      <td>...</td>\n",
       "      <td>Male</td>\n",
       "      <td>911</td>\n",
       "      <td>TRAFFIC - BLOCKING ROADWAY</td>\n",
       "      <td>--TRAFFIC - BLOCKING TRAFFIC</td>\n",
       "      <td>2018-07-21 17:38:10</td>\n",
       "      <td>2018</td>\n",
       "      <td>07</td>\n",
       "      <td>21</td>\n",
       "      <td>06:58:00PM</td>\n",
       "      <td>2019-07-07 18:58:00</td>\n",
       "    </tr>\n",
       "    <tr>\n",
       "      <th>2</th>\n",
       "      <td>3</td>\n",
       "      <td>1.542461e+09</td>\n",
       "      <td>1.542461e+09</td>\n",
       "      <td>37423</td>\n",
       "      <td>2484</td>\n",
       "      <td>18496</td>\n",
       "      <td>2018000431132</td>\n",
       "      <td>REPORT WRITTEN (NO ARREST)</td>\n",
       "      <td>Level 1 - Use of Force</td>\n",
       "      <td>-</td>\n",
       "      <td>...</td>\n",
       "      <td>Female</td>\n",
       "      <td>TELEPHONE OTHER, NOT 911</td>\n",
       "      <td>MVC - HIT AND RUN (NON INJURY), INCLUDES IP/JO</td>\n",
       "      <td>--TRAFFIC - MV COLLISION INVESTIGATION</td>\n",
       "      <td>2018-11-17 12:21:26</td>\n",
       "      <td>2018</td>\n",
       "      <td>11</td>\n",
       "      <td>17</td>\n",
       "      <td>01:19:00PM</td>\n",
       "      <td>2019-07-07 13:19:00</td>\n",
       "    </tr>\n",
       "    <tr>\n",
       "      <th>3</th>\n",
       "      <td>3</td>\n",
       "      <td>1.542461e+09</td>\n",
       "      <td>1.542461e+09</td>\n",
       "      <td>37423</td>\n",
       "      <td>2484</td>\n",
       "      <td>18496</td>\n",
       "      <td>2018000431200</td>\n",
       "      <td>REPORT WRITTEN (NO ARREST)</td>\n",
       "      <td>Level 1 - Use of Force</td>\n",
       "      <td>-</td>\n",
       "      <td>...</td>\n",
       "      <td>Female</td>\n",
       "      <td>911</td>\n",
       "      <td>MVC - NON INJURY, BLOCKING</td>\n",
       "      <td>--TRAFFIC - MV COLLISION INVESTIGATION</td>\n",
       "      <td>2018-11-17 13:07:44</td>\n",
       "      <td>2018</td>\n",
       "      <td>11</td>\n",
       "      <td>17</td>\n",
       "      <td>01:19:00PM</td>\n",
       "      <td>2019-07-07 13:19:00</td>\n",
       "    </tr>\n",
       "    <tr>\n",
       "      <th>4</th>\n",
       "      <td>3</td>\n",
       "      <td>1.542461e+09</td>\n",
       "      <td>1.542461e+09</td>\n",
       "      <td>37423</td>\n",
       "      <td>2484</td>\n",
       "      <td>18496</td>\n",
       "      <td>2018000431212</td>\n",
       "      <td>CITATION ISSUED (CRIMINAL OR NON-CRIMINAL)</td>\n",
       "      <td>Level 1 - Use of Force</td>\n",
       "      <td>-</td>\n",
       "      <td>...</td>\n",
       "      <td>Female</td>\n",
       "      <td>ONVIEW</td>\n",
       "      <td>PARKING VIOLATION (EXCEPT ABANDONED CAR)</td>\n",
       "      <td>--TRAFFIC - PARKING VIOL (EXCEPT ABANDONED CAR)</td>\n",
       "      <td>2018-11-17 13:18:49</td>\n",
       "      <td>2018</td>\n",
       "      <td>11</td>\n",
       "      <td>17</td>\n",
       "      <td>01:19:00PM</td>\n",
       "      <td>2019-07-07 13:19:00</td>\n",
       "    </tr>\n",
       "  </tbody>\n",
       "</table>\n",
       "<p>5 rows × 25 columns</p>\n",
       "</div>"
      ],
      "text/plain": [
       "   index    call_epoch   force_epoch  Incident_Num  Officer_ID  Subject_ID  \\\n",
       "0      0  1.511833e+09  1.511833e+09         18412        2238       14470   \n",
       "1      2  1.532199e+09  1.532199e+09         30638        2146       17272   \n",
       "2      3  1.542461e+09  1.542461e+09         37423        2484       18496   \n",
       "3      3  1.542461e+09  1.542461e+09         37423        2484       18496   \n",
       "4      3  1.542461e+09  1.542461e+09         37423        2484       18496   \n",
       "\n",
       "   CAD_Event_Number                 Event_Clearance_Description  \\\n",
       "0     2017000438597                  REPORT WRITTEN (NO ARREST)   \n",
       "1     2018000269265    UNABLE TO LOCATE INCIDENT OR COMPLAINANT   \n",
       "2     2018000431132                  REPORT WRITTEN (NO ARREST)   \n",
       "3     2018000431200                  REPORT WRITTEN (NO ARREST)   \n",
       "4     2018000431212  CITATION ISSUED (CRIMINAL OR NON-CRIMINAL)   \n",
       "\n",
       "              Force_Level Precinct  ... Subject_Gender  \\\n",
       "0  Level 1 - Use of Force        -  ...         Female   \n",
       "1  Level 1 - Use of Force        -  ...           Male   \n",
       "2  Level 1 - Use of Force        -  ...         Female   \n",
       "3  Level 1 - Use of Force        -  ...         Female   \n",
       "4  Level 1 - Use of Force        -  ...         Female   \n",
       "\n",
       "                  Call_Type                               Initial_Call_Type  \\\n",
       "0  TELEPHONE OTHER, NOT 911          SUSPICIOUS PERSON, VEHICLE OR INCIDENT   \n",
       "1                       911                      TRAFFIC - BLOCKING ROADWAY   \n",
       "2  TELEPHONE OTHER, NOT 911  MVC - HIT AND RUN (NON INJURY), INCLUDES IP/JO   \n",
       "3                       911                      MVC - NON INJURY, BLOCKING   \n",
       "4                    ONVIEW        PARKING VIOLATION (EXCEPT ABANDONED CAR)   \n",
       "\n",
       "                                   Final_Call_Type Original_Time_Queued  year  \\\n",
       "0         --SUSPICIOUS CIRCUM. - SUSPICIOUS PERSON  2017-11-28 01:27:55  2017   \n",
       "1                     --TRAFFIC - BLOCKING TRAFFIC  2018-07-21 17:38:10  2018   \n",
       "2           --TRAFFIC - MV COLLISION INVESTIGATION  2018-11-17 12:21:26  2018   \n",
       "3           --TRAFFIC - MV COLLISION INVESTIGATION  2018-11-17 13:07:44  2018   \n",
       "4  --TRAFFIC - PARKING VIOL (EXCEPT ABANDONED CAR)  2018-11-17 13:18:49  2018   \n",
       "\n",
       "  month day       time                 time  \n",
       "0    11  28  01:40:00AM 2019-07-07 01:40:00  \n",
       "1    07  21  06:58:00PM 2019-07-07 18:58:00  \n",
       "2    11  17  01:19:00PM 2019-07-07 13:19:00  \n",
       "3    11  17  01:19:00PM 2019-07-07 13:19:00  \n",
       "4    11  17  01:19:00PM 2019-07-07 13:19:00  \n",
       "\n",
       "[5 rows x 25 columns]"
      ]
     },
     "execution_count": 22,
     "metadata": {},
     "output_type": "execute_result"
    }
   ],
   "source": [
    "# make numeric\n",
    "rev_df = new_merged.replace(\"-1\", -1)\n",
    "rev_df[\"time\"] = pd.to_datetime(rev_df[\"time \"])\n",
    "rev_df[\"Original_Time_Queued\"] = pd.to_datetime(rev_df[\"Original_Time_Queued\"])\n",
    "rev_df[\"time\"].apply(lambda x: pd.datetime.strftime(x, '%H:%M:%S'))\n",
    "\n",
    "rev_df.head()\n"
   ]
  },
  {
   "cell_type": "code",
   "execution_count": 23,
   "metadata": {},
   "outputs": [],
   "source": [
    "calls = pd.read_csv(\"data/Call_Data.csv\")"
   ]
  },
  {
   "cell_type": "code",
   "execution_count": 24,
   "metadata": {},
   "outputs": [],
   "source": [
    "def callstime(df, col_arrive):\n",
    "    yearmonthday = df[col_arrive].astype(str).str.split(\" \")\n",
    "    df[\"year\"] = yearmonthday.apply(lambda x: x[2])\n",
    "    df[\"day\"] = yearmonthday.apply(lambda x: x[1])\n",
    "    month_dict = {\"Jan\": 1, \"Feb\": 2, \"Mar\": 3, \"Apr\": 4, \"May\": 5, \"Jun\": 6, \"Jul\": 7, \"Aug\": 8, \"Sep\": 9, \"Oct\": 10, \"Nov\": 11, \"Dec\":12}\n",
    "    df[\"month\"] = yearmonthday.apply(lambda x: month_dict[x[0]])\n",
    "    df[\"time\"] = yearmonthday.apply(lambda x: x[3])\n",
    "    return df\n",
    "\n",
    "calls = callstime(calls,\"Arrived Time\")\n",
    "calls17 = calls[calls[\"year\"].isin([\"2014\", \"2015\", \"2016\", \"2017\", \"2018\", \"2019\"])]\n",
    "\n"
   ]
  },
  {
   "cell_type": "code",
   "execution_count": 37,
   "metadata": {},
   "outputs": [],
   "source": [
    "series = list(rev_df[\"CAD_Event_Number\"])\n",
    "\n",
    "call_cols = calls17.columns"
   ]
  },
  {
   "cell_type": "code",
   "execution_count": 34,
   "metadata": {},
   "outputs": [
    {
     "data": {
      "text/plain": [
       "'    \\n    for val in vals:\\n        new_row.extend( [[ix,  val[0], row.epoch, row.Incident_Num, row.Officer_ID, row.Subject_ID, val[1], val[2],\\n                        row.Incident_Type, row.Precinct, \\n                        row.Sector, row.Beat, val[8], val[4],\\n                        row.Subject_Race, row.Subject_Gender, val[3], val[5], val[6], \\n                        val[7], row.year, row.month, row.day, row.time] ])'"
      ]
     },
     "execution_count": 34,
     "metadata": {},
     "output_type": "execute_result"
    }
   ],
   "source": [
    "# add in rows from Calls17 sql table that are not already represented in merged df\n",
    "add_call_rows = []\n",
    "#val_lst = []\n",
    "for ix, row in calls17.iterrows():\n",
    "    # query the 911 calls database\n",
    "    # for each call, append to a bunch of records that we're building up into a dataframe\n",
    "    \n",
    "        \n",
    "    CAD = row[\"CAD Event Number\"]\n",
    "    #rowbeat = row.Beat\n",
    "    series \n",
    "    \n",
    "    if CAD in series:\n",
    "        pass\n",
    "    else:\n",
    "        add_call_rows.extend([row])\n",
    "    #val_lst.extend([value, val[0]])\n",
    "\n",
    "'''    \n",
    "    for val in vals:\n",
    "        new_row.extend( [[ix,  val[0], row.epoch, row.Incident_Num, row.Officer_ID, row.Subject_ID, val[1], val[2],\n",
    "                        row.Incident_Type, row.Precinct, \n",
    "                        row.Sector, row.Beat, val[8], val[4],\n",
    "                        row.Subject_Race, row.Subject_Gender, val[3], val[5], val[6], \n",
    "                        val[7], row.year, row.month, row.day, row.time] ])'''\n",
    "\n"
   ]
  },
  {
   "cell_type": "code",
   "execution_count": null,
   "metadata": {},
   "outputs": [],
   "source": [
    "calls_add = pd.DataFrame(add_call_rows, columns = call_cols)\n"
   ]
  },
  {
   "cell_type": "code",
   "execution_count": null,
   "metadata": {},
   "outputs": [],
   "source": [
    "# check columns for merge and then add frames together\n",
    "\n"
   ]
  },
  {
   "cell_type": "code",
   "execution_count": 788,
   "metadata": {},
   "outputs": [],
   "source": [
    "init = new_merged[\"Initial_Call_Type\"]\n",
    "to_drop = init[init.str.startswith(\"-ASSIGNED DUTY\")]\n",
    "\n",
    "\n",
    "s = new_merged[\"Initial_Call_Type\"].str.replace(\" - .*\", \"\", regex=True)\n",
    "new_merged[\"Initial_Call_Type\"] = s"
   ]
  },
  {
   "cell_type": "code",
   "execution_count": 795,
   "metadata": {},
   "outputs": [
    {
     "data": {
      "text/plain": [
       "Index(['index', 'call_epoch', 'force_epoch', 'Incident_Num', 'Officer_ID',\n",
       "       'Subject_ID', 'CAD_Event_Number', 'Event_Clearance_Description',\n",
       "       'Force_Level', 'Precinct', 'Sector', 'force_beat', 'calls_beat',\n",
       "       'Priority', 'Subject_Race', 'Subject_Gender', 'Call_Type',\n",
       "       'Initial_Call_Type', 'Final_Call_Type', 'Original_Time_Queued', 'year',\n",
       "       'month', 'day', 'time ', 'time'],\n",
       "      dtype='object')"
      ]
     },
     "execution_count": 795,
     "metadata": {},
     "output_type": "execute_result"
    }
   ],
   "source": [
    "# make second df and keep leaky data for exploration later\n",
    "# take out event description and final call (bc you wouldn't know)\n",
    "rev_df_leaky = rev_df.copy(deep=True)\n",
    "rev_df_leaky.columns"
   ]
  },
  {
   "cell_type": "code",
   "execution_count": 796,
   "metadata": {},
   "outputs": [],
   "source": [
    "\n",
    "\n",
    "rev_df = pd.get_dummies(data = rev_df, \n",
    "                     columns=[\"force_beat\", \n",
    "                              \"Subject_Gender\", \"Subject_Race\", \"Initial_Call_Type\"], \n",
    "                     prefix=[\"forceb\",  \n",
    "                             \"Gender\",  \"Race\", \"InitCall\"])\n",
    "\n",
    "\n",
    "\n",
    "# pd.get_dummies(data=df, columns=['A', 'B'])\n",
    "                      "
   ]
  },
  {
   "cell_type": "code",
   "execution_count": 797,
   "metadata": {},
   "outputs": [],
   "source": [
    "\n",
    "#rev_df[\"year\"] = rev_df[\"year\"].astype(int)\n",
    "rev_df[\"month\"] = rev_df[\"month\"].astype(int)\n",
    "rev_df[\"day\"] = rev_df[\"day\"].astype(int)\n",
    "rev_df[\"day_of_week\"] = rev_df.Original_Time_Queued.dt.dayofweek\n",
    "\n",
    "rev_df['call_hour'] = rev_df.Original_Time_Queued.apply(lambda x: x.hour)\n",
    "#rev_df['arrive_hour'] = rev_df.time.apply(lambda x: x.hour)\n",
    "#rev_df['time_to_arrival'] = rev_df[\"arrive_hour\"] - rev_df[\"call_hour\"]\n",
    "#rev_df.drop(\"arrive_hour\", axis=1, inplace=True)\n"
   ]
  },
  {
   "cell_type": "code",
   "execution_count": 798,
   "metadata": {},
   "outputs": [],
   "source": [
    "# drop leaky data\n",
    "rev_df.drop([\"Event_Clearance_Description\",\"Final_Call_Type\", \"time \", \"index\", \"Incident_Num\", \"Officer_ID\",\n",
    "            \"Subject_ID\", \"CAD_Event_Number\", \"Force_Level\", \"Priority\", \"force_epoch\", \"calls_beat\", \"Call_Type\", \n",
    "             \"Original_Time_Queued\", \"time\", \"year\", \"call_epoch\",\"forceb_-\",\"Gender_Not Specified\", \n",
    "             \"Race_Not Specified\", \"Precinct\", \"Sector\"], axis=1, inplace=True )\n",
    "\n"
   ]
  },
  {
   "cell_type": "code",
   "execution_count": 799,
   "metadata": {},
   "outputs": [
    {
     "data": {
      "text/plain": [
       "(8600, 8600, 8600)"
      ]
     },
     "execution_count": 799,
     "metadata": {},
     "output_type": "execute_result"
    }
   ],
   "source": [
    "#rev_df.drop(indicest, axis=0, inplace=True)\n",
    "\n",
    "len(rev_df_leaky), len(rev_df), len(new_merged)"
   ]
  },
  {
   "cell_type": "code",
   "execution_count": 823,
   "metadata": {},
   "outputs": [
    {
     "name": "stdout",
     "output_type": "stream",
     "text": [
      "<class 'pandas.core.frame.DataFrame'>\n",
      "Int64Index: 8600 entries, 0 to 262504\n",
      "Data columns (total 177 columns):\n",
      "month                                                      int64\n",
      "day                                                        int64\n",
      "forceb_99                                                  uint8\n",
      "forceb_B1                                                  uint8\n",
      "forceb_B2                                                  uint8\n",
      "forceb_B3                                                  uint8\n",
      "forceb_C1                                                  uint8\n",
      "forceb_C2                                                  uint8\n",
      "forceb_C3                                                  uint8\n",
      "forceb_D1                                                  uint8\n",
      "forceb_D2                                                  uint8\n",
      "forceb_D3                                                  uint8\n",
      "forceb_E1                                                  uint8\n",
      "forceb_E2                                                  uint8\n",
      "forceb_E3                                                  uint8\n",
      "forceb_F1                                                  uint8\n",
      "forceb_F2                                                  uint8\n",
      "forceb_F3                                                  uint8\n",
      "forceb_G1                                                  uint8\n",
      "forceb_G2                                                  uint8\n",
      "forceb_G3                                                  uint8\n",
      "forceb_J1                                                  uint8\n",
      "forceb_J2                                                  uint8\n",
      "forceb_J3                                                  uint8\n",
      "forceb_K1                                                  uint8\n",
      "forceb_K2                                                  uint8\n",
      "forceb_K3                                                  uint8\n",
      "forceb_L1                                                  uint8\n",
      "forceb_L2                                                  uint8\n",
      "forceb_L3                                                  uint8\n",
      "forceb_M1                                                  uint8\n",
      "forceb_M2                                                  uint8\n",
      "forceb_M3                                                  uint8\n",
      "forceb_N1                                                  uint8\n",
      "forceb_N2                                                  uint8\n",
      "forceb_N3                                                  uint8\n",
      "forceb_O1                                                  uint8\n",
      "forceb_O2                                                  uint8\n",
      "forceb_O3                                                  uint8\n",
      "forceb_Q1                                                  uint8\n",
      "forceb_Q2                                                  uint8\n",
      "forceb_Q3                                                  uint8\n",
      "forceb_R1                                                  uint8\n",
      "forceb_R2                                                  uint8\n",
      "forceb_R3                                                  uint8\n",
      "forceb_S1                                                  uint8\n",
      "forceb_S2                                                  uint8\n",
      "forceb_S3                                                  uint8\n",
      "forceb_U1                                                  uint8\n",
      "forceb_U2                                                  uint8\n",
      "forceb_U3                                                  uint8\n",
      "forceb_W1                                                  uint8\n",
      "forceb_W2                                                  uint8\n",
      "forceb_W3                                                  uint8\n",
      "Gender_Female                                              uint8\n",
      "Gender_Male                                                uint8\n",
      "Race_American Indian/Alaska Native                         uint8\n",
      "Race_Asian                                                 uint8\n",
      "Race_Black or African American                             uint8\n",
      "Race_Hispanic or Latino                                    uint8\n",
      "Race_Nat Hawaiian/Oth Pac Islander                         uint8\n",
      "Race_White                                                 uint8\n",
      "InitCall_-ASSIGNED DUTY                                    uint8\n",
      "InitCall_-GAS/MAINTENANCE/WASH/GARAGE                      uint8\n",
      "InitCall_-OFF DUTY EMPLOYMENT                              uint8\n",
      "InitCall_-OUT OF CAR/NO REASON GIVEN                       uint8\n",
      "InitCall_-OUT TO PRECINCT/STATION                          uint8\n",
      "InitCall_-PRISONER ESCORT                                  uint8\n",
      "InitCall_ALARM                                             uint8\n",
      "InitCall_ANIMAL                                            uint8\n",
      "InitCall_ANIMAL, REPORT                                    uint8\n",
      "InitCall_ARSON                                             uint8\n",
      "InitCall_ASLT                                              uint8\n",
      "InitCall_ASSIST OTHER AGENCY                               uint8\n",
      "InitCall_ASSIST PUBLIC                                     uint8\n",
      "InitCall_ASSIST SPD                                        uint8\n",
      "InitCall_AUTO                                              uint8\n",
      "InitCall_AUTO RECOVERY                                     uint8\n",
      "InitCall_AUTO THEFT                                        uint8\n",
      "InitCall_AUTO THEFT-IP/JO                                  uint8\n",
      "InitCall_BIAS -RACIAL, POLITICAL, SEXUAL MOTIVATION        uint8\n",
      "InitCall_BOMB THREATS                                      uint8\n",
      "InitCall_BURG                                              uint8\n",
      "InitCall_BURN                                              uint8\n",
      "InitCall_CARJACKING                                        uint8\n",
      "InitCall_CHILD                                             uint8\n",
      "InitCall_DEMONSTRATIONS                                    uint8\n",
      "InitCall_DETOX                                             uint8\n",
      "InitCall_DIRECTED PATROL ACTIVITY                          uint8\n",
      "InitCall_DIST                                              uint8\n",
      "InitCall_DISTURBANCE, MISCELLANEOUS/OTHER                  uint8\n",
      "InitCall_DOA                                               uint8\n",
      "InitCall_DOWN                                              uint8\n",
      "InitCall_DUI                                               uint8\n",
      "InitCall_EXPLOSION                                         uint8\n",
      "InitCall_FIGHT                                             uint8\n",
      "InitCall_FIREWORKS                                         uint8\n",
      "InitCall_FOLLOW UP                                         uint8\n",
      "InitCall_FOOT                                              uint8\n",
      "InitCall_FOUND                                             uint8\n",
      "InitCall_FRAUD                                             uint8\n",
      "InitCall_HARAS                                             uint8\n",
      "InitCall_HARBOR                                            uint8\n",
      "InitCall_HAZ                                               uint8\n",
      "InitCall_ILLEGAL DUMPING                                   uint8\n",
      "InitCall_INFORMATIONAL BROADCASTS                          uint8\n",
      "InitCall_INJURED                                           uint8\n",
      "InitCall_JUVENILE                                          uint8\n",
      "InitCall_LEWD                                              uint8\n",
      "InitCall_LICENSE INSPECTIONS (CHECK FOR)                   uint8\n",
      "InitCall_LIQUOR VIOLATIONS                                 uint8\n",
      "InitCall_LITTERING                                         uint8\n",
      "InitCall_MENTAL                                            uint8\n",
      "InitCall_MISSING                                           uint8\n",
      "InitCall_MVC                                               uint8\n",
      "InitCall_NARCOTICS                                         uint8\n",
      "InitCall_NARCOTICS WARRANT SERVICE                         uint8\n",
      "InitCall_NOISE                                             uint8\n",
      "InitCall_NUISANCE                                          uint8\n",
      "InitCall_OFF DUTY EMPLOYMENT                               uint8\n",
      "InitCall_OPEN                                              uint8\n",
      "InitCall_ORDER                                             uint8\n",
      "InitCall_ORDER                                             uint8\n",
      "InitCall_OVERDOSE                                          uint8\n",
      "InitCall_PANHANDLING, AGGRESSIVE                           uint8\n",
      "InitCall_PARKING VIOLATION (EXCEPT ABANDONED CAR)          uint8\n",
      "InitCall_PARKS VIOLATIONS/CITES (INCLUDES EXCLUSIONS)      uint8\n",
      "InitCall_PEACE-STANDBY TO ASSURE (NO COURT ORDR SVC)       uint8\n",
      "InitCall_PEDESTRIAN VIOLATIONS                             uint8\n",
      "InitCall_PERSON IN BEHAVIORAL/EMOTIONAL CRISIS             uint8\n",
      "InitCall_POLICE (SILENT) ALARM                             uint8\n",
      "InitCall_POWER OUT                                         uint8\n",
      "InitCall_PREDICTIVE POLICING                               uint8\n",
      "InitCall_PREMISE CHECK, OFFICER INITIATED ONVIEW ONLY      uint8\n",
      "InitCall_PROPERTY                                          uint8\n",
      "InitCall_PROWLER                                           uint8\n",
      "InitCall_PURSE SNATCH                                      uint8\n",
      "InitCall_RAPE                                              uint8\n",
      "InitCall_REQUEST TO WATCH                                  uint8\n",
      "InitCall_ROBBERY                                           uint8\n",
      "InitCall_ROBBERY (INCLUDES STRONG ARM)                     uint8\n",
      "InitCall_SECONDARY                                         uint8\n",
      "InitCall_SERVICE                                           uint8\n",
      "InitCall_SEX IN PUBLIC PLACE/VIEW (INCL MASTURBATION)      uint8\n",
      "InitCall_SEX OFFENDER                                      uint8\n",
      "InitCall_SFD                                               uint8\n",
      "InitCall_SHOPLIFT                                          uint8\n",
      "InitCall_SHOTS                                             uint8\n",
      "InitCall_SHOTS -DELAY/INCLUDES HEARD/NO ASSAULT            uint8\n",
      "InitCall_SICK PERSON                                       uint8\n",
      "InitCall_SLEEPER ABOARD BUS/COMMUTER TRAIN                 uint8\n",
      "InitCall_SUICIDE                                           uint8\n",
      "InitCall_SUICIDE, SUICIDAL PERSON AND ATTEMPTS             uint8\n",
      "InitCall_SUSPICIOUS PACKAGE                                uint8\n",
      "InitCall_SUSPICIOUS PERSON, VEHICLE OR INCIDENT            uint8\n",
      "InitCall_SUSPICIOUS STOP                                   uint8\n",
      "InitCall_TEST CALL ONLY                                    uint8\n",
      "InitCall_THEFT (DOES NOT INCLUDE SHOPLIFT OR SVCS)         uint8\n",
      "InitCall_THEFT OF SERVICES                                 uint8\n",
      "InitCall_THREATS                                           uint8\n",
      "InitCall_THREATS (INCLS IN-PERSON/BY PHONE/IN WRITING)     uint8\n",
      "InitCall_TRAF                                              uint8\n",
      "InitCall_TRAFFIC                                           uint8\n",
      "InitCall_TRAFFIC STOP                                      uint8\n",
      "InitCall_TREES DOWN, OBSTRUCTING PUBLIC PROP (NO HAZ)      uint8\n",
      "InitCall_TRESPASS                                          uint8\n",
      "InitCall_TRU                                               uint8\n",
      "InitCall_UNKNOWN                                           uint8\n",
      "InitCall_VICE                                              uint8\n",
      "InitCall_WARRANT                                           uint8\n",
      "InitCall_WARRANT PICKUP                                    uint8\n",
      "InitCall_WATER FLOODS (BROKEN MAINS/HYDRANTS, NO HAZ)      uint8\n",
      "InitCall_WEAPN                                             uint8\n",
      "InitCall_WEAPN-IP/JO-GUN,DEADLY WPN (NO THRT/ASLT/DIST)    uint8\n",
      "InitCall_WIRES DOWN (PHONE, ELECTRICAL,ETC.)               uint8\n",
      "day_of_week                                                int64\n",
      "call_hour                                                  int64\n",
      "dtypes: int64(4), uint8(173)\n",
      "memory usage: 1.7 MB\n"
     ]
    }
   ],
   "source": [
    "rev_df.info(verbose=True)"
   ]
  },
  {
   "cell_type": "code",
   "execution_count": 800,
   "metadata": {},
   "outputs": [],
   "source": [
    "clf = RandomForestClassifier(n_estimators=100, random_state=659, oob_score=True)\n",
    "\n"
   ]
  },
  {
   "cell_type": "code",
   "execution_count": 801,
   "metadata": {},
   "outputs": [
    {
     "name": "stdout",
     "output_type": "stream",
     "text": [
      "<class 'pandas.core.frame.DataFrame'>\n",
      "Int64Index: 8600 entries, 0 to 262504\n",
      "Data columns (total 177 columns):\n",
      "month                                                      int64\n",
      "day                                                        int64\n",
      "forceb_99                                                  uint8\n",
      "forceb_B1                                                  uint8\n",
      "forceb_B2                                                  uint8\n",
      "forceb_B3                                                  uint8\n",
      "forceb_C1                                                  uint8\n",
      "forceb_C2                                                  uint8\n",
      "forceb_C3                                                  uint8\n",
      "forceb_D1                                                  uint8\n",
      "forceb_D2                                                  uint8\n",
      "forceb_D3                                                  uint8\n",
      "forceb_E1                                                  uint8\n",
      "forceb_E2                                                  uint8\n",
      "forceb_E3                                                  uint8\n",
      "forceb_F1                                                  uint8\n",
      "forceb_F2                                                  uint8\n",
      "forceb_F3                                                  uint8\n",
      "forceb_G1                                                  uint8\n",
      "forceb_G2                                                  uint8\n",
      "forceb_G3                                                  uint8\n",
      "forceb_J1                                                  uint8\n",
      "forceb_J2                                                  uint8\n",
      "forceb_J3                                                  uint8\n",
      "forceb_K1                                                  uint8\n",
      "forceb_K2                                                  uint8\n",
      "forceb_K3                                                  uint8\n",
      "forceb_L1                                                  uint8\n",
      "forceb_L2                                                  uint8\n",
      "forceb_L3                                                  uint8\n",
      "forceb_M1                                                  uint8\n",
      "forceb_M2                                                  uint8\n",
      "forceb_M3                                                  uint8\n",
      "forceb_N1                                                  uint8\n",
      "forceb_N2                                                  uint8\n",
      "forceb_N3                                                  uint8\n",
      "forceb_O1                                                  uint8\n",
      "forceb_O2                                                  uint8\n",
      "forceb_O3                                                  uint8\n",
      "forceb_Q1                                                  uint8\n",
      "forceb_Q2                                                  uint8\n",
      "forceb_Q3                                                  uint8\n",
      "forceb_R1                                                  uint8\n",
      "forceb_R2                                                  uint8\n",
      "forceb_R3                                                  uint8\n",
      "forceb_S1                                                  uint8\n",
      "forceb_S2                                                  uint8\n",
      "forceb_S3                                                  uint8\n",
      "forceb_U1                                                  uint8\n",
      "forceb_U2                                                  uint8\n",
      "forceb_U3                                                  uint8\n",
      "forceb_W1                                                  uint8\n",
      "forceb_W2                                                  uint8\n",
      "forceb_W3                                                  uint8\n",
      "Gender_Female                                              uint8\n",
      "Gender_Male                                                uint8\n",
      "Race_American Indian/Alaska Native                         uint8\n",
      "Race_Asian                                                 uint8\n",
      "Race_Black or African American                             uint8\n",
      "Race_Hispanic or Latino                                    uint8\n",
      "Race_Nat Hawaiian/Oth Pac Islander                         uint8\n",
      "Race_White                                                 uint8\n",
      "InitCall_-ASSIGNED DUTY                                    uint8\n",
      "InitCall_-GAS/MAINTENANCE/WASH/GARAGE                      uint8\n",
      "InitCall_-OFF DUTY EMPLOYMENT                              uint8\n",
      "InitCall_-OUT OF CAR/NO REASON GIVEN                       uint8\n",
      "InitCall_-OUT TO PRECINCT/STATION                          uint8\n",
      "InitCall_-PRISONER ESCORT                                  uint8\n",
      "InitCall_ALARM                                             uint8\n",
      "InitCall_ANIMAL                                            uint8\n",
      "InitCall_ANIMAL, REPORT                                    uint8\n",
      "InitCall_ARSON                                             uint8\n",
      "InitCall_ASLT                                              uint8\n",
      "InitCall_ASSIST OTHER AGENCY                               uint8\n",
      "InitCall_ASSIST PUBLIC                                     uint8\n",
      "InitCall_ASSIST SPD                                        uint8\n",
      "InitCall_AUTO                                              uint8\n",
      "InitCall_AUTO RECOVERY                                     uint8\n",
      "InitCall_AUTO THEFT                                        uint8\n",
      "InitCall_AUTO THEFT-IP/JO                                  uint8\n",
      "InitCall_BIAS -RACIAL, POLITICAL, SEXUAL MOTIVATION        uint8\n",
      "InitCall_BOMB THREATS                                      uint8\n",
      "InitCall_BURG                                              uint8\n",
      "InitCall_BURN                                              uint8\n",
      "InitCall_CARJACKING                                        uint8\n",
      "InitCall_CHILD                                             uint8\n",
      "InitCall_DEMONSTRATIONS                                    uint8\n",
      "InitCall_DETOX                                             uint8\n",
      "InitCall_DIRECTED PATROL ACTIVITY                          uint8\n",
      "InitCall_DIST                                              uint8\n",
      "InitCall_DISTURBANCE, MISCELLANEOUS/OTHER                  uint8\n",
      "InitCall_DOA                                               uint8\n",
      "InitCall_DOWN                                              uint8\n",
      "InitCall_DUI                                               uint8\n",
      "InitCall_EXPLOSION                                         uint8\n",
      "InitCall_FIGHT                                             uint8\n",
      "InitCall_FIREWORKS                                         uint8\n",
      "InitCall_FOLLOW UP                                         uint8\n",
      "InitCall_FOOT                                              uint8\n",
      "InitCall_FOUND                                             uint8\n",
      "InitCall_FRAUD                                             uint8\n",
      "InitCall_HARAS                                             uint8\n",
      "InitCall_HARBOR                                            uint8\n",
      "InitCall_HAZ                                               uint8\n",
      "InitCall_ILLEGAL DUMPING                                   uint8\n",
      "InitCall_INFORMATIONAL BROADCASTS                          uint8\n",
      "InitCall_INJURED                                           uint8\n",
      "InitCall_JUVENILE                                          uint8\n",
      "InitCall_LEWD                                              uint8\n",
      "InitCall_LICENSE INSPECTIONS (CHECK FOR)                   uint8\n",
      "InitCall_LIQUOR VIOLATIONS                                 uint8\n",
      "InitCall_LITTERING                                         uint8\n",
      "InitCall_MENTAL                                            uint8\n",
      "InitCall_MISSING                                           uint8\n",
      "InitCall_MVC                                               uint8\n",
      "InitCall_NARCOTICS                                         uint8\n",
      "InitCall_NARCOTICS WARRANT SERVICE                         uint8\n",
      "InitCall_NOISE                                             uint8\n",
      "InitCall_NUISANCE                                          uint8\n",
      "InitCall_OFF DUTY EMPLOYMENT                               uint8\n",
      "InitCall_OPEN                                              uint8\n",
      "InitCall_ORDER                                             uint8\n",
      "InitCall_ORDER                                             uint8\n",
      "InitCall_OVERDOSE                                          uint8\n",
      "InitCall_PANHANDLING, AGGRESSIVE                           uint8\n",
      "InitCall_PARKING VIOLATION (EXCEPT ABANDONED CAR)          uint8\n",
      "InitCall_PARKS VIOLATIONS/CITES (INCLUDES EXCLUSIONS)      uint8\n",
      "InitCall_PEACE-STANDBY TO ASSURE (NO COURT ORDR SVC)       uint8\n",
      "InitCall_PEDESTRIAN VIOLATIONS                             uint8\n",
      "InitCall_PERSON IN BEHAVIORAL/EMOTIONAL CRISIS             uint8\n",
      "InitCall_POLICE (SILENT) ALARM                             uint8\n",
      "InitCall_POWER OUT                                         uint8\n",
      "InitCall_PREDICTIVE POLICING                               uint8\n",
      "InitCall_PREMISE CHECK, OFFICER INITIATED ONVIEW ONLY      uint8\n",
      "InitCall_PROPERTY                                          uint8\n",
      "InitCall_PROWLER                                           uint8\n",
      "InitCall_PURSE SNATCH                                      uint8\n",
      "InitCall_RAPE                                              uint8\n",
      "InitCall_REQUEST TO WATCH                                  uint8\n",
      "InitCall_ROBBERY                                           uint8\n",
      "InitCall_ROBBERY (INCLUDES STRONG ARM)                     uint8\n",
      "InitCall_SECONDARY                                         uint8\n",
      "InitCall_SERVICE                                           uint8\n",
      "InitCall_SEX IN PUBLIC PLACE/VIEW (INCL MASTURBATION)      uint8\n",
      "InitCall_SEX OFFENDER                                      uint8\n",
      "InitCall_SFD                                               uint8\n",
      "InitCall_SHOPLIFT                                          uint8\n",
      "InitCall_SHOTS                                             uint8\n",
      "InitCall_SHOTS -DELAY/INCLUDES HEARD/NO ASSAULT            uint8\n",
      "InitCall_SICK PERSON                                       uint8\n",
      "InitCall_SLEEPER ABOARD BUS/COMMUTER TRAIN                 uint8\n",
      "InitCall_SUICIDE                                           uint8\n",
      "InitCall_SUICIDE, SUICIDAL PERSON AND ATTEMPTS             uint8\n",
      "InitCall_SUSPICIOUS PACKAGE                                uint8\n",
      "InitCall_SUSPICIOUS PERSON, VEHICLE OR INCIDENT            uint8\n",
      "InitCall_SUSPICIOUS STOP                                   uint8\n",
      "InitCall_TEST CALL ONLY                                    uint8\n",
      "InitCall_THEFT (DOES NOT INCLUDE SHOPLIFT OR SVCS)         uint8\n",
      "InitCall_THEFT OF SERVICES                                 uint8\n",
      "InitCall_THREATS                                           uint8\n",
      "InitCall_THREATS (INCLS IN-PERSON/BY PHONE/IN WRITING)     uint8\n",
      "InitCall_TRAF                                              uint8\n",
      "InitCall_TRAFFIC                                           uint8\n",
      "InitCall_TRAFFIC STOP                                      uint8\n",
      "InitCall_TREES DOWN, OBSTRUCTING PUBLIC PROP (NO HAZ)      uint8\n",
      "InitCall_TRESPASS                                          uint8\n",
      "InitCall_TRU                                               uint8\n",
      "InitCall_UNKNOWN                                           uint8\n",
      "InitCall_VICE                                              uint8\n",
      "InitCall_WARRANT                                           uint8\n",
      "InitCall_WARRANT PICKUP                                    uint8\n",
      "InitCall_WATER FLOODS (BROKEN MAINS/HYDRANTS, NO HAZ)      uint8\n",
      "InitCall_WEAPN                                             uint8\n",
      "InitCall_WEAPN-IP/JO-GUN,DEADLY WPN (NO THRT/ASLT/DIST)    uint8\n",
      "InitCall_WIRES DOWN (PHONE, ELECTRICAL,ETC.)               uint8\n",
      "day_of_week                                                int64\n",
      "call_hour                                                  int64\n",
      "dtypes: int64(4), uint8(173)\n",
      "memory usage: 1.7 MB\n"
     ]
    }
   ],
   "source": [
    "# X for classifier\n",
    "X = rev_df\n",
    "\n",
    "#X.info(verbose=True)\n",
    "X.info(verbose=True)"
   ]
  },
  {
   "cell_type": "code",
   "execution_count": 802,
   "metadata": {},
   "outputs": [],
   "source": [
    "cols = X.columns"
   ]
  },
  {
   "cell_type": "code",
   "execution_count": 803,
   "metadata": {},
   "outputs": [],
   "source": [
    "X_scaled = StandardScaler().fit_transform(X)"
   ]
  },
  {
   "cell_type": "code",
   "execution_count": 804,
   "metadata": {},
   "outputs": [
    {
     "data": {
      "text/plain": [
       "((8600,), (8600, 177))"
      ]
     },
     "execution_count": 804,
     "metadata": {},
     "output_type": "execute_result"
    }
   ],
   "source": [
    "y = new_merged.Force_Level\n",
    "y.replace({\"Level 1 - Use of Force\":1,\"Level 2 - Use of Force\":2,\"Level 3 - OIS\":4, \"Level 3 - Use of Force\": 3 })\n",
    "y.shape, X_scaled.shape"
   ]
  },
  {
   "cell_type": "code",
   "execution_count": 805,
   "metadata": {},
   "outputs": [],
   "source": [
    "X_train, X_test, y_train, y_test = train_test_split(X_scaled, y, test_size=0.2, random_state=659)\n"
   ]
  },
  {
   "cell_type": "code",
   "execution_count": 806,
   "metadata": {},
   "outputs": [
    {
     "data": {
      "text/plain": [
       "RandomForestClassifier(bootstrap=True, class_weight=None, criterion='gini',\n",
       "                       max_depth=None, max_features='auto', max_leaf_nodes=None,\n",
       "                       min_impurity_decrease=0.0, min_impurity_split=None,\n",
       "                       min_samples_leaf=1, min_samples_split=2,\n",
       "                       min_weight_fraction_leaf=0.0, n_estimators=100,\n",
       "                       n_jobs=None, oob_score=True, random_state=659, verbose=0,\n",
       "                       warm_start=False)"
      ]
     },
     "execution_count": 806,
     "metadata": {},
     "output_type": "execute_result"
    }
   ],
   "source": [
    "clf.fit(X_train, y_train) #takes three minutes"
   ]
  },
  {
   "cell_type": "code",
   "execution_count": 807,
   "metadata": {},
   "outputs": [
    {
     "data": {
      "text/plain": [
       "(177, 177)"
      ]
     },
     "execution_count": 807,
     "metadata": {},
     "output_type": "execute_result"
    }
   ],
   "source": [
    "len(clf.feature_importances_), len(cols)"
   ]
  },
  {
   "cell_type": "code",
   "execution_count": 808,
   "metadata": {},
   "outputs": [
    {
     "data": {
      "text/plain": [
       "Index(['day', 'call_hour', 'month', 'day_of_week',\n",
       "       'Race_Black or African American', 'Race_White', 'forceb_E2',\n",
       "       'forceb_M3', 'Gender_Female', 'forceb_K2', 'Gender_Male', 'forceb_M1',\n",
       "       'InitCall_DISTURBANCE, MISCELLANEOUS/OTHER', 'InitCall_ASLT',\n",
       "       'InitCall_PREMISE CHECK, OFFICER INITIATED ONVIEW ONLY', 'forceb_K3',\n",
       "       'forceb_M2', 'InitCall_SUSPICIOUS PERSON, VEHICLE OR INCIDENT',\n",
       "       'forceb_D1'],\n",
       "      dtype='object')"
      ]
     },
     "execution_count": 808,
     "metadata": {},
     "output_type": "execute_result"
    }
   ],
   "source": [
    "# most important features\n",
    "indices = np.argsort(clf.feature_importances_)\n",
    "big = indices[-1:-20:-1]\n",
    "\n",
    "cols[big]"
   ]
  },
  {
   "cell_type": "code",
   "execution_count": 809,
   "metadata": {},
   "outputs": [
    {
     "data": {
      "text/plain": [
       "Index(['InitCall_TEST CALL ONLY', 'InitCall_ANIMAL, REPORT',\n",
       "       'InitCall_EXPLOSION', 'InitCall_INFORMATIONAL BROADCASTS',\n",
       "       'InitCall_POWER OUT', 'InitCall_BOMB THREATS',\n",
       "       'InitCall_SHOTS -DELAY/INCLUDES HEARD/NO ASSAULT',\n",
       "       'InitCall_SLEEPER ABOARD BUS/COMMUTER TRAIN', 'InitCall_RAPE',\n",
       "       'InitCall_WARRANT PICKUP'],\n",
       "      dtype='object')"
      ]
     },
     "execution_count": 809,
     "metadata": {},
     "output_type": "execute_result"
    }
   ],
   "source": [
    "# least important features\n",
    "little = indices[:10]\n",
    "cols[little]\n"
   ]
  },
  {
   "cell_type": "code",
   "execution_count": 810,
   "metadata": {},
   "outputs": [
    {
     "data": {
      "text/plain": [
       "0.8989825581395349"
      ]
     },
     "execution_count": 810,
     "metadata": {},
     "output_type": "execute_result"
    }
   ],
   "source": [
    "clf.oob_score_ # accuracy of training set"
   ]
  },
  {
   "cell_type": "code",
   "execution_count": 811,
   "metadata": {},
   "outputs": [],
   "source": [
    "yhat = clf.predict(X_test)"
   ]
  },
  {
   "cell_type": "code",
   "execution_count": 812,
   "metadata": {},
   "outputs": [],
   "source": [
    "# if I were going to use this to predict the outcome, it would have to take human input and then run it through \n",
    "# all the things and make it a very long array\n",
    "\n"
   ]
  },
  {
   "cell_type": "code",
   "execution_count": 813,
   "metadata": {},
   "outputs": [
    {
     "data": {
      "text/plain": [
       "0.8930232558139535"
      ]
     },
     "execution_count": 813,
     "metadata": {},
     "output_type": "execute_result"
    }
   ],
   "source": [
    "sum(yhat == y_test) / len(yhat) # accuracy of testing set"
   ]
  },
  {
   "cell_type": "code",
   "execution_count": 814,
   "metadata": {},
   "outputs": [],
   "source": [
    "pp = clf.predict_proba(X_test)"
   ]
  },
  {
   "cell_type": "code",
   "execution_count": 815,
   "metadata": {},
   "outputs": [
    {
     "data": {
      "text/plain": [
       "array(['Level 1 - Use of Force', 'Level 2 - Use of Force',\n",
       "       'Level 3 - OIS', 'Level 3 - Use of Force'], dtype=object)"
      ]
     },
     "execution_count": 815,
     "metadata": {},
     "output_type": "execute_result"
    }
   ],
   "source": [
    "clf.classes_"
   ]
  },
  {
   "cell_type": "code",
   "execution_count": 816,
   "metadata": {},
   "outputs": [
    {
     "name": "stdout",
     "output_type": "stream",
     "text": [
      "Pr of Force 1 is: 0.7835, Pr of Force 2: 0.19649999999999998, Pr of Force 3: 0.02, & Pr of Officer Involved Shooting: 0.0\n",
      "Pr of Force 1 is: 0.09, Pr of Force 2: 0.04, Pr of Force 3: 0.87, & Pr of Officer Involved Shooting: 0.0\n",
      "Pr of Force 1 is: 0.282, Pr of Force 2: 0.718, Pr of Force 3: 0.0, & Pr of Officer Involved Shooting: 0.0\n",
      "Pr of Force 1 is: 0.09, Pr of Force 2: 0.02, Pr of Force 3: 0.89, & Pr of Officer Involved Shooting: 0.0\n",
      "Pr of Force 1 is: 0.845, Pr of Force 2: 0.125, Pr of Force 3: 0.03, & Pr of Officer Involved Shooting: 0.0\n",
      "Pr of Force 1 is: 0.99, Pr of Force 2: 0.01, Pr of Force 3: 0.0, & Pr of Officer Involved Shooting: 0.0\n",
      "Pr of Force 1 is: 1.0, Pr of Force 2: 0.0, Pr of Force 3: 0.0, & Pr of Officer Involved Shooting: 0.0\n",
      "Pr of Force 1 is: 1.0, Pr of Force 2: 0.0, Pr of Force 3: 0.0, & Pr of Officer Involved Shooting: 0.0\n",
      "Pr of Force 1 is: 0.935, Pr of Force 2: 0.065, Pr of Force 3: 0.0, & Pr of Officer Involved Shooting: 0.0\n",
      "Pr of Force 1 is: 0.97, Pr of Force 2: 0.03, Pr of Force 3: 0.0, & Pr of Officer Involved Shooting: 0.0\n"
     ]
    }
   ],
   "source": [
    "for p in pp[:10]:\n",
    "    print(f\"Pr of Force 1 is: {p[0]}, Pr of Force 2: {p[1]}, Pr of Force 3: {p[3]}, & Pr of Officer Involved Shooting: {p[2]}\")\n",
    "          \n",
    "          "
   ]
  },
  {
   "cell_type": "code",
   "execution_count": 817,
   "metadata": {},
   "outputs": [],
   "source": [
    "rdl = rev_df_leaky.copy(deep=True)"
   ]
  },
  {
   "cell_type": "code",
   "execution_count": 818,
   "metadata": {},
   "outputs": [],
   "source": [
    "race = rdl.groupby(\"Subject_Race\")"
   ]
  },
  {
   "cell_type": "code",
   "execution_count": 819,
   "metadata": {},
   "outputs": [
    {
     "data": {
      "text/plain": [
       "Level 1 - Use of Force    6303\n",
       "Level 2 - Use of Force    2108\n",
       "Level 3 - Use of Force     125\n",
       "Level 3 - OIS               64\n",
       "Name: Force_Level, dtype: int64"
      ]
     },
     "execution_count": 819,
     "metadata": {},
     "output_type": "execute_result"
    }
   ],
   "source": [
    "rdl[\"Force_Level\"].value_counts()"
   ]
  },
  {
   "cell_type": "code",
   "execution_count": 820,
   "metadata": {},
   "outputs": [
    {
     "data": {
      "text/plain": [
       "Index(['Incident_Num', 'Incident_Type', 'Precinct', 'Sector', 'Beat',\n",
       "       'Officer_ID', 'Subject_ID', 'Subject_Race', 'Subject_Gender', 'year',\n",
       "       'month', 'day', 'time', 'epoch'],\n",
       "      dtype='object')"
      ]
     },
     "execution_count": 820,
     "metadata": {},
     "output_type": "execute_result"
    }
   ],
   "source": [
    "force.columns"
   ]
  },
  {
   "cell_type": "code",
   "execution_count": 524,
   "metadata": {},
   "outputs": [
    {
     "data": {
      "text/plain": [
       "Level 1 - Use of Force    7474\n",
       "Level 2 - Use of Force    2185\n",
       "Level 3 - Use of Force     105\n",
       "Level 3 - OIS               74\n",
       "Name: Incident_Type, dtype: int64"
      ]
     },
     "execution_count": 524,
     "metadata": {},
     "output_type": "execute_result"
    }
   ],
   "source": [
    "force[\"Incident_Type\"].value_counts()"
   ]
  },
  {
   "cell_type": "code",
   "execution_count": 525,
   "metadata": {},
   "outputs": [],
   "source": [
    "# need to do gradient boosting to do partial dependency plotting\n",
    "gdbr = GradientBoostingClassifier(n_estimators=100, learning_rate=1.0,\n",
    "                                  max_depth=1, random_state=0).fit(X_scaled, y)\n"
   ]
  },
  {
   "cell_type": "code",
   "execution_count": 526,
   "metadata": {},
   "outputs": [
    {
     "data": {
      "text/plain": [
       "Index(['day', 'call_hour', 'month', 'day_of_week', 'Race_White',\n",
       "       'Race_Black or African American', 'CallType_911', 'CallType_ONVIEW',\n",
       "       'Race_Not Specified'],\n",
       "      dtype='object')"
      ]
     },
     "execution_count": 526,
     "metadata": {},
     "output_type": "execute_result"
    }
   ],
   "source": [
    "#gdbr.feature_importances_\n",
    "\n",
    "indices_gdbr = np.argsort(gdbr.feature_importances_)\n",
    "big_gdbr = indices[-1:-10:-1]\n",
    "\n",
    "cols[big_gdbr]\n"
   ]
  },
  {
   "cell_type": "code",
   "execution_count": null,
   "metadata": {},
   "outputs": [],
   "source": [
    "force3[force3.month == 12]"
   ]
  },
  {
   "cell_type": "code",
   "execution_count": null,
   "metadata": {},
   "outputs": [],
   "source": [
    "plt.hist(force3.month, bins=12);"
   ]
  },
  {
   "cell_type": "code",
   "execution_count": null,
   "metadata": {},
   "outputs": [],
   "source": [
    "list(big_gdbr)"
   ]
  },
  {
   "cell_type": "code",
   "execution_count": null,
   "metadata": {
    "scrolled": true
   },
   "outputs": [],
   "source": [
    "\n",
    "# make plots\n",
    "my_plots = plot_partial_dependence(gdbr,       \n",
    "                                   features=[131, 5361], # column numbers of plots to show\n",
    "                                   X=X,            # raw predictors data.\n",
    "                                   #feature_names=['day', 'month', 'day_of_week'],\n",
    "                                   target=[\"Level 1 - Use of Force\"],# for multi-class must use label\n",
    "                                   grid_resolution=10)"
   ]
  },
  {
   "cell_type": "code",
   "execution_count": null,
   "metadata": {},
   "outputs": [],
   "source": [
    "#gdbr.predict(X_test) \n",
    "#gdbr.predict_proba(X_test)\n",
    "gdbr.score(X_test, y_test)"
   ]
  },
  {
   "cell_type": "code",
   "execution_count": null,
   "metadata": {},
   "outputs": [],
   "source": [
    "\n",
    "importance = np.std([tree.feature_importances_\n",
    "                            for tree in clf.estimators_], axis=0)\n",
    "\n",
    "r = range(importance.shape[0])\n",
    "f = clf.feature_importances_\n",
    "yerr = importance\n",
    "\n",
    "# Extend the code to find the standard deviation of the importance for each feature across all trees. \n",
    "fig, ax = plt.subplots(1,1, figsize=(20,8), sharex=True)\n",
    "#axs.flatten()\n",
    "\n",
    "ax.errorbar(r,f, yerr=yerr)\n",
    "ax.set_title('all errorbars')\n",
    "\n",
    "\n",
    "#fig.suptitle('Errors')\n",
    "\n",
    "plt.tight_layout()\n",
    "plt.xticks(np.arange(len(r)), X.columns, rotation=\"vertical\")\n",
    "plt.show();\n",
    "#plt.bar(r, f, yerr=yerr, align=\"center\");\n",
    "\n",
    "\n"
   ]
  },
  {
   "cell_type": "code",
   "execution_count": null,
   "metadata": {},
   "outputs": [],
   "source": []
  },
  {
   "cell_type": "code",
   "execution_count": null,
   "metadata": {},
   "outputs": [],
   "source": []
  },
  {
   "cell_type": "code",
   "execution_count": null,
   "metadata": {},
   "outputs": [],
   "source": [
    "'''force3.Incident_Num.value_counts()\n",
    "t = force3[force3[\"Incident_Num\"] == 12308]\n",
    "#t.drop_duplicates(\"CAD_Event_Number\", inplace=True) # 'force_beat', 'calls_beat'\n",
    "len(t.CAD_Event_Number.value_counts()), len(t)\n",
    "t2 = t[t.force_beat.values == t.calls_beat.values]\n",
    "t2'''\n",
    "\n",
    "'''force3 = merged[merged.Force_Level == \"Level 3 - Use of Force\"]\n",
    "force2 = merged[merged.Force_Level == \"Level 2 - Use of Force\"]\n",
    "force1 = merged[merged.Force_Level == \"Level 1 - Use of Force\"]\n",
    "len(force3), len(force2), len(force1), len(merged)'''\n",
    "\n",
    "'''# group by incident number first\n",
    "\n",
    "x = force3.Subject_Race.value_counts()\n",
    "lst = list(x.values)\n",
    "plt.bar(np.arange(7), lst)\n",
    "#plt.xticks([])\n",
    "#plt.xticks()\n",
    "\n",
    "plt.xticks((0,1, 2, 3,4,5,6), ('White', 'Black or African American ', 'Not Specified ','Hispanic or Latino',\n",
    "                               'Asian','American Indian/Alaska Native ','Nat Hawaiian/Oth Pac Islander'), \n",
    "          rotation='vertical')\n",
    "plt.title(\"Level 3 Force by Race 2014-2019\");'''"
   ]
  },
  {
   "cell_type": "code",
   "execution_count": null,
   "metadata": {},
   "outputs": [],
   "source": [
    "'''force3beats = force3[force3.force_beat.values == force3.calls_beat.values]\n",
    "len(force3beats)\n",
    "f3b = force3beats.drop([\"index\", \"Force_Level\", \"Precinct\"], axis=1)\n",
    "f3b.drop(\"Sector\", axis=1, inplace=True)\n",
    "#f3b '''"
   ]
  },
  {
   "cell_type": "code",
   "execution_count": null,
   "metadata": {},
   "outputs": [],
   "source": [
    "'''#rev_df.drop([\"Subject_Gender\", \"Subject_Race\"], axis=1, inplace=True)\n",
    "rev_df.info(verbose=True)'''"
   ]
  },
  {
   "cell_type": "code",
   "execution_count": null,
   "metadata": {},
   "outputs": [],
   "source": [
    "'''y = force3.Subject_Gender.value_counts()\n",
    "lst = list(y.values)\n",
    "plt.bar(np.arange(2), lst)\n",
    "#plt.xticks([])\n",
    "#plt.xticks()\n",
    "\n",
    "plt.xticks((0,1), ('Male', 'Female'), \n",
    "          rotation='horizontal')\n",
    "plt.title(\"Level 3 Force by Gender 2014-2019\");'''"
   ]
  },
  {
   "cell_type": "code",
   "execution_count": null,
   "metadata": {},
   "outputs": [],
   "source": []
  },
  {
   "cell_type": "code",
   "execution_count": 822,
   "metadata": {},
   "outputs": [
    {
     "data": {
      "text/plain": [
       "PREMISE CHECK, OFFICER INITIATED ONVIEW ONLY      718\n",
       "DISTURBANCE, MISCELLANEOUS/OTHER                  696\n",
       "ASLT                                              520\n",
       "SUSPICIOUS PERSON, VEHICLE OR INCIDENT            439\n",
       "TRAFFIC STOP                                      439\n",
       "OFF DUTY EMPLOYMENT                               282\n",
       "FIGHT                                             278\n",
       "SUSPICIOUS STOP                                   260\n",
       "MVC                                               256\n",
       "DIST                                              228\n",
       "THEFT (DOES NOT INCLUDE SHOPLIFT OR SVCS)         211\n",
       "TRESPASS                                          204\n",
       "BURG                                              185\n",
       "AUTO RECOVERY                                     179\n",
       "DIRECTED PATROL ACTIVITY                          161\n",
       "PROPERTY                                          154\n",
       "ALARM                                             147\n",
       "WARRANT                                           146\n",
       "FOLLOW UP                                         141\n",
       "SHOPLIFT                                          139\n",
       "TRU                                               137\n",
       "NUISANCE                                          135\n",
       "-ASSIGNED DUTY                                    128\n",
       "UNKNOWN                                           125\n",
       "SUICIDE                                           123\n",
       "PARKING VIOLATION (EXCEPT ABANDONED CAR)          118\n",
       "THREATS (INCLS IN-PERSON/BY PHONE/IN WRITING)     114\n",
       "WEAPN-IP/JO-GUN,DEADLY WPN (NO THRT/ASLT/DIST)    113\n",
       "NARCOTICS                                         112\n",
       "HAZ                                               102\n",
       "                                                 ... \n",
       "AUTO                                                5\n",
       "BURN                                                5\n",
       "WATER FLOODS (BROKEN MAINS/HYDRANTS, NO HAZ)        5\n",
       "THREATS                                             5\n",
       "ORDER                                               5\n",
       "RAPE                                                5\n",
       "-OUT OF CAR/NO REASON GIVEN                         4\n",
       "AUTO THEFT-IP/JO                                    4\n",
       "CARJACKING                                          4\n",
       "DEMONSTRATIONS                                      4\n",
       "NARCOTICS WARRANT SERVICE                           4\n",
       "TRAF                                                4\n",
       "PURSE SNATCH                                        3\n",
       "DOA                                                 3\n",
       "BIAS -RACIAL, POLITICAL, SEXUAL MOTIVATION          3\n",
       "TREES DOWN, OBSTRUCTING PUBLIC PROP (NO HAZ)        3\n",
       "SLEEPER ABOARD BUS/COMMUTER TRAIN                   3\n",
       "PEDESTRIAN VIOLATIONS                               3\n",
       "SEX OFFENDER                                        2\n",
       "POLICE (SILENT) ALARM                               2\n",
       "POWER OUT                                           2\n",
       "TEST CALL ONLY                                      1\n",
       "EXPLOSION                                           1\n",
       "WARRANT PICKUP                                      1\n",
       "ANIMAL, REPORT                                      1\n",
       "HARBOR                                              1\n",
       "BOMB THREATS                                        1\n",
       "SHOTS -DELAY/INCLUDES HEARD/NO ASSAULT              1\n",
       "INFORMATIONAL BROADCASTS                            1\n",
       "MENTAL                                              1\n",
       "Name: Initial_Call_Type, Length: 113, dtype: int64"
      ]
     },
     "execution_count": 822,
     "metadata": {},
     "output_type": "execute_result"
    }
   ],
   "source": [
    "new_merged[\"Initial_Call_Type\"].value_counts()"
   ]
  },
  {
   "cell_type": "code",
   "execution_count": null,
   "metadata": {},
   "outputs": [],
   "source": []
  },
  {
   "cell_type": "markdown",
   "metadata": {},
   "source": [
    "Make a way to enter in info\n"
   ]
  },
  {
   "cell_type": "code",
   "execution_count": 705,
   "metadata": {},
   "outputs": [
    {
     "name": "stdout",
     "output_type": "stream",
     "text": [
      "2019 7 6 18\n"
     ]
    }
   ],
   "source": [
    "# time info[day, day of the week, call hour, month], location[beat, sector, precinct], gender, race, \n",
    "# initial call --> drop down menu\n",
    "# could change later to just ask for address\n",
    "\n",
    "def new_call(gender, race, reason, beat):\n",
    "    now = datetime.datetime.now()\n",
    "    month = now.month\n",
    "    day = now.day\n",
    "    hour = now.hour\n",
    "    day_of_week = now.dt.dayofweek\n",
    "    \n"
   ]
  },
  {
   "cell_type": "code",
   "execution_count": 700,
   "metadata": {},
   "outputs": [
    {
     "name": "stdout",
     "output_type": "stream",
     "text": [
      "What is your street address?1201 summit ave\n"
     ]
    }
   ],
   "source": []
  },
  {
   "cell_type": "code",
   "execution_count": null,
   "metadata": {},
   "outputs": [],
   "source": []
  }
 ],
 "metadata": {
  "kernelspec": {
   "display_name": "Python 3",
   "language": "python",
   "name": "python3"
  },
  "language_info": {
   "codemirror_mode": {
    "name": "ipython",
    "version": 3
   },
   "file_extension": ".py",
   "mimetype": "text/x-python",
   "name": "python",
   "nbconvert_exporter": "python",
   "pygments_lexer": "ipython3",
   "version": "3.7.3"
  }
 },
 "nbformat": 4,
 "nbformat_minor": 2
}
