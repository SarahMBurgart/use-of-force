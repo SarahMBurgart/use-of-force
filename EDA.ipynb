{
 "cells": [
  {
   "cell_type": "code",
   "execution_count": 51,
   "metadata": {},
   "outputs": [],
   "source": [
    "import pandas as pd\n",
    "import os\n",
    "from datetime import datetime\n",
    "import sqlite3\n",
    "from sqlalchemy import create_engine\n",
    "engine = create_engine('sqlite://', echo=False)"
   ]
  },
  {
   "cell_type": "code",
   "execution_count": 8,
   "metadata": {},
   "outputs": [],
   "source": [
    "# download qgis\n",
    "# real-time 911 - location\n",
    "# null values in Force in the location areas\n",
    "\n"
   ]
  },
  {
   "cell_type": "code",
   "execution_count": 3,
   "metadata": {},
   "outputs": [],
   "source": [
    "#county = pd.read_csv(\"/Users/sarahburgart/galvanize/week7/capstone2/RDC_InventoryCoreMetrics_County_sfh.csv\")"
   ]
  },
  {
   "cell_type": "code",
   "execution_count": 4,
   "metadata": {},
   "outputs": [],
   "source": [
    "#historical = pd.read_csv(\"/Users/sarahburgart/galvanize/week7/capstone2/RDC_InventoryCoreMetrics_US_Hist.csv\")"
   ]
  },
  {
   "cell_type": "code",
   "execution_count": 5,
   "metadata": {},
   "outputs": [],
   "source": [
    "#saletolist = pd.read_csv(\"/Users/sarahburgart/galvanize/week7/capstone2/SaleToListRatio_State.csv\")"
   ]
  },
  {
   "cell_type": "code",
   "execution_count": 6,
   "metadata": {},
   "outputs": [],
   "source": [
    "#from os import listdir\n",
    "#filelist = [f for f in os.listdir('data') if f.endswith('.csv')]\n",
    "#filelist\n",
    "#df = pd.read_csv(f\"data/{filelist[0]}\")\n",
    "#lst = [f\"{col}{filelist[0][:6]}\" for col in df.columns]\n",
    "#df.columns = lst\n",
    "#df.head()\n",
    "#df3 = pd.read_csv(f\"data/{filelist[1]}\")"
   ]
  },
  {
   "cell_type": "code",
   "execution_count": 9,
   "metadata": {},
   "outputs": [
    {
     "data": {
      "text/plain": [
       "'for file in filelist[1:]:\\n    #print(f\"{file}\")\\n    pd.concat([df, pd.read_csv(f\"data/{file}\")], axis=1)\\n    lst = [f\"{col}{filelist[0][:6]}\" for col in df.columns]\\n    df.columns = lst'"
      ]
     },
     "execution_count": 9,
     "metadata": {},
     "output_type": "execute_result"
    }
   ],
   "source": [
    "'''for file in filelist[1:]:\n",
    "    #print(f\"{file}\")\n",
    "    pd.concat([df, pd.read_csv(f\"data/{file}\")], axis=1)\n",
    "    lst = [f\"{col}{filelist[0][:6]}\" for col in df.columns]\n",
    "    df.columns = lst'''"
   ]
  },
  {
   "cell_type": "code",
   "execution_count": 2,
   "metadata": {},
   "outputs": [],
   "source": [
    "# function to convert datetime object to 4 - for force ONLY\n",
    "def datetime(df, col_as_str):\n",
    "    yearmonthday = df[col_as_str].astype(str).str.split(\" \")\n",
    "    ymd = yearmonthday.apply(lambda x: x[0]).str.split(\"/\")\n",
    "    year = ymd.apply(lambda x: x[2])\n",
    "    month = ymd.apply(lambda x: x[0])\n",
    "    day = ymd.apply(lambda x: x[1])\n",
    "    time = ymd = yearmonthday.apply(lambda x: x[1]+x[2]).astype(str)\n",
    "    df[\"year\"] = year\n",
    "    df[\"month\"] = month\n",
    "    df[\"day\"] = day\n",
    "    df[\"time\"] = time\n",
    "    return df\n"
   ]
  },
  {
   "cell_type": "code",
   "execution_count": 3,
   "metadata": {},
   "outputs": [],
   "source": [
    "def callstime(df, col_arrive):\n",
    "    yearmonthday = df[col_arrive].astype(str).str.split(\" \")\n",
    "    df[\"year\"] = yearmonthday.apply(lambda x: x[2])\n",
    "    df[\"day\"] = yearmonthday.apply(lambda x: x[1])\n",
    "    month_dict = {\"Jan\": 1, \"Feb\": 2, \"Mar\": 3, \"Apr\": 4, \"May\": 5, \"Jun\": 6, \"Jul\": 7, \"Aug\": 8, \"Sep\": 9, \"Oct\": 10, \"Nov\": 11, \"Dec\":12}\n",
    "    df[\"month\"] = yearmonthday.apply(lambda x: month_dict[x[0]])\n",
    "    df[\"time\"] = yearmonthday.apply(lambda x: x[3])\n",
    "    return df\n",
    "    \n",
    "    "
   ]
  },
  {
   "cell_type": "code",
   "execution_count": 4,
   "metadata": {},
   "outputs": [],
   "source": [
    "calls = pd.read_csv(\"/Users/sarahburgart/galvanize/week7/capstone2/data/Call_Data.csv\")"
   ]
  },
  {
   "cell_type": "code",
   "execution_count": 5,
   "metadata": {},
   "outputs": [],
   "source": [
    "force = pd.read_csv(\"/Users/sarahburgart/galvanize/week7/capstone2/data/Use_Of_Force.csv\")"
   ]
  },
  {
   "cell_type": "code",
   "execution_count": 6,
   "metadata": {},
   "outputs": [],
   "source": [
    "beats = pd.read_csv(\"/Users/sarahburgart/galvanize/week7/capstone2/data/Seattle_Police_Department_Beats.csv\")"
   ]
  },
  {
   "cell_type": "code",
   "execution_count": 17,
   "metadata": {},
   "outputs": [],
   "source": [
    "force = datetime(force,\"Occured_date_time\" )\n"
   ]
  },
  {
   "cell_type": "code",
   "execution_count": 9,
   "metadata": {},
   "outputs": [],
   "source": [
    "foo = pd.to_datetime( force.Occured_date_time )\n",
    "epoch_second = foo.map(lambda x:x.value/1e9)"
   ]
  },
  {
   "cell_type": "code",
   "execution_count": 10,
   "metadata": {},
   "outputs": [],
   "source": [
    "force[\"epoch\"] = epoch_second"
   ]
  },
  {
   "cell_type": "code",
   "execution_count": 12,
   "metadata": {},
   "outputs": [],
   "source": [
    "calls = callstime(calls,\"Arrived Time\")\n"
   ]
  },
  {
   "cell_type": "code",
   "execution_count": 13,
   "metadata": {},
   "outputs": [],
   "source": [
    "calls17 = calls[calls[\"year\"].isin([\"2014\", \"2015\", \"2016\", \"2017\", \"2018\", \"2019\"])]"
   ]
  },
  {
   "cell_type": "code",
   "execution_count": 14,
   "metadata": {},
   "outputs": [],
   "source": [
    "bar = pd.to_datetime( calls17[\"Arrived Time\"], format=\"%b %d %Y %I:%M:%S:%f%p\" )\n",
    "epoch_second2 = bar.map(lambda x: x.value/1e9)"
   ]
  },
  {
   "cell_type": "code",
   "execution_count": 15,
   "metadata": {},
   "outputs": [
    {
     "name": "stderr",
     "output_type": "stream",
     "text": [
      "/Users/sarahburgart/anaconda3/lib/python3.7/site-packages/ipykernel_launcher.py:1: SettingWithCopyWarning: \n",
      "A value is trying to be set on a copy of a slice from a DataFrame.\n",
      "Try using .loc[row_indexer,col_indexer] = value instead\n",
      "\n",
      "See the caveats in the documentation: http://pandas.pydata.org/pandas-docs/stable/indexing.html#indexing-view-versus-copy\n",
      "  \"\"\"Entry point for launching an IPython kernel.\n"
     ]
    }
   ],
   "source": [
    "calls17[\"epoch_calls\"] = epoch_second2"
   ]
  },
  {
   "cell_type": "code",
   "execution_count": 27,
   "metadata": {},
   "outputs": [],
   "source": [
    "# remove repetitive columns\n",
    "\n",
    "calls_tosql = calls17.drop(columns =[\"year\",\"day\", \"month\", \"time\", \"Precinct\", \"Sector\", \"Arrived Time\"])\n",
    "calls_tosql.set_index(\"epoch_calls\", inplace=True)\n"
   ]
  },
  {
   "cell_type": "code",
   "execution_count": 29,
   "metadata": {},
   "outputs": [],
   "source": [
    "# remove repetitive columns (incident type, officer id and subject id are in ID respectively)\n",
    "\n",
    "force_sql = force.drop(columns=[\"Occured_date_time\", \"year\", \"month\", \"day\",\"time\", \"Incident_Num\", \"Officer_ID\",\n",
    "                               \"Subject_ID\"])\n"
   ]
  },
  {
   "cell_type": "code",
   "execution_count": 80,
   "metadata": {},
   "outputs": [],
   "source": [
    "# create engine\n",
    "cnx = sqlite3.connect('/Users/sarahburgart/galvanize/week7/capstone2/calls.sqlite')"
   ]
  },
  {
   "cell_type": "code",
   "execution_count": 85,
   "metadata": {},
   "outputs": [],
   "source": [
    "# move calls to sqlite table\n",
    "calls_tosql.to_sql(\"log\", con=cnx, index=True)\n"
   ]
  },
  {
   "cell_type": "code",
   "execution_count": 56,
   "metadata": {},
   "outputs": [
    {
     "data": {
      "text/html": [
       "<div>\n",
       "<style scoped>\n",
       "    .dataframe tbody tr th:only-of-type {\n",
       "        vertical-align: middle;\n",
       "    }\n",
       "\n",
       "    .dataframe tbody tr th {\n",
       "        vertical-align: top;\n",
       "    }\n",
       "\n",
       "    .dataframe thead th {\n",
       "        text-align: right;\n",
       "    }\n",
       "</style>\n",
       "<table border=\"1\" class=\"dataframe\">\n",
       "  <thead>\n",
       "    <tr style=\"text-align: right;\">\n",
       "      <th></th>\n",
       "      <th>CAD Event Number</th>\n",
       "      <th>Event Clearance Description</th>\n",
       "      <th>Call Type</th>\n",
       "      <th>Priority</th>\n",
       "      <th>Initial Call Type</th>\n",
       "      <th>Final Call Type</th>\n",
       "      <th>Original Time Queued</th>\n",
       "      <th>Beat</th>\n",
       "    </tr>\n",
       "    <tr>\n",
       "      <th>epoch_calls</th>\n",
       "      <th></th>\n",
       "      <th></th>\n",
       "      <th></th>\n",
       "      <th></th>\n",
       "      <th></th>\n",
       "      <th></th>\n",
       "      <th></th>\n",
       "      <th></th>\n",
       "    </tr>\n",
       "  </thead>\n",
       "  <tbody>\n",
       "    <tr>\n",
       "      <th>1.389370e+09</th>\n",
       "      <td>2014000010473</td>\n",
       "      <td>ASSISTANCE RENDERED</td>\n",
       "      <td>ONVIEW</td>\n",
       "      <td>9</td>\n",
       "      <td>OFF DUTY EMPLOYMENT</td>\n",
       "      <td>-OFF DUTY EMPLOYMENT</td>\n",
       "      <td>01/10/2014 04:02:48 PM</td>\n",
       "      <td>M3</td>\n",
       "    </tr>\n",
       "    <tr>\n",
       "      <th>1.389370e+09</th>\n",
       "      <td>2014000010474</td>\n",
       "      <td>ASSISTANCE RENDERED</td>\n",
       "      <td>ONVIEW</td>\n",
       "      <td>9</td>\n",
       "      <td>OFF DUTY EMPLOYMENT</td>\n",
       "      <td>-OFF DUTY EMPLOYMENT</td>\n",
       "      <td>01/10/2014 04:03:51 PM</td>\n",
       "      <td>M1</td>\n",
       "    </tr>\n",
       "    <tr>\n",
       "      <th>1.389414e+09</th>\n",
       "      <td>2014000011094</td>\n",
       "      <td>ASSISTANCE RENDERED</td>\n",
       "      <td>ONVIEW</td>\n",
       "      <td>4</td>\n",
       "      <td>REQUEST TO WATCH</td>\n",
       "      <td>REQUEST TO WATCH</td>\n",
       "      <td>01/11/2014 04:23:57 AM</td>\n",
       "      <td>K2</td>\n",
       "    </tr>\n",
       "    <tr>\n",
       "      <th>1.389430e+09</th>\n",
       "      <td>2014000011246</td>\n",
       "      <td>ASSISTANCE RENDERED</td>\n",
       "      <td>ONVIEW</td>\n",
       "      <td>9</td>\n",
       "      <td>OFF DUTY EMPLOYMENT</td>\n",
       "      <td>-OFF DUTY EMPLOYMENT</td>\n",
       "      <td>01/11/2014 08:43:16 AM</td>\n",
       "      <td>M3</td>\n",
       "    </tr>\n",
       "    <tr>\n",
       "      <th>1.389631e+09</th>\n",
       "      <td>2014000013754</td>\n",
       "      <td>ASSISTANCE RENDERED</td>\n",
       "      <td>ONVIEW</td>\n",
       "      <td>9</td>\n",
       "      <td>OFF DUTY EMPLOYMENT</td>\n",
       "      <td>-OFF DUTY EMPLOYMENT</td>\n",
       "      <td>01/13/2014 04:28:49 PM</td>\n",
       "      <td>M1</td>\n",
       "    </tr>\n",
       "  </tbody>\n",
       "</table>\n",
       "</div>"
      ],
      "text/plain": [
       "              CAD Event Number Event Clearance Description Call Type  \\\n",
       "epoch_calls                                                            \n",
       "1.389370e+09     2014000010473         ASSISTANCE RENDERED    ONVIEW   \n",
       "1.389370e+09     2014000010474         ASSISTANCE RENDERED    ONVIEW   \n",
       "1.389414e+09     2014000011094         ASSISTANCE RENDERED    ONVIEW   \n",
       "1.389430e+09     2014000011246         ASSISTANCE RENDERED    ONVIEW   \n",
       "1.389631e+09     2014000013754         ASSISTANCE RENDERED    ONVIEW   \n",
       "\n",
       "              Priority    Initial Call Type       Final Call Type  \\\n",
       "epoch_calls                                                         \n",
       "1.389370e+09         9  OFF DUTY EMPLOYMENT  -OFF DUTY EMPLOYMENT   \n",
       "1.389370e+09         9  OFF DUTY EMPLOYMENT  -OFF DUTY EMPLOYMENT   \n",
       "1.389414e+09         4     REQUEST TO WATCH      REQUEST TO WATCH   \n",
       "1.389430e+09         9  OFF DUTY EMPLOYMENT  -OFF DUTY EMPLOYMENT   \n",
       "1.389631e+09         9  OFF DUTY EMPLOYMENT  -OFF DUTY EMPLOYMENT   \n",
       "\n",
       "                Original Time Queued Beat  \n",
       "epoch_calls                                \n",
       "1.389370e+09  01/10/2014 04:02:48 PM   M3  \n",
       "1.389370e+09  01/10/2014 04:03:51 PM   M1  \n",
       "1.389414e+09  01/11/2014 04:23:57 AM   K2  \n",
       "1.389430e+09  01/11/2014 08:43:16 AM   M3  \n",
       "1.389631e+09  01/13/2014 04:28:49 PM   M1  "
      ]
     },
     "execution_count": 56,
     "metadata": {},
     "output_type": "execute_result"
    }
   ],
   "source": [
    "calls_tosql.head()"
   ]
  },
  {
   "cell_type": "code",
   "execution_count": 81,
   "metadata": {},
   "outputs": [],
   "source": [
    "# create cursor\n",
    "cur = cnx.cursor()\n"
   ]
  },
  {
   "cell_type": "code",
   "execution_count": 124,
   "metadata": {},
   "outputs": [
    {
     "name": "stdout",
     "output_type": "stream",
     "text": [
      "(1389369768.0, 2014000010473, 'ASSISTANCE RENDERED', 'ONVIEW', 9, 'OFF DUTY EMPLOYMENT', '-OFF DUTY EMPLOYMENT', '01/10/2014 04:02:48 PM', 'M3')\n",
      "(1389369831.0, 2014000010474, 'ASSISTANCE RENDERED', 'ONVIEW', 9, 'OFF DUTY EMPLOYMENT', '-OFF DUTY EMPLOYMENT', '01/10/2014 04:03:51 PM', 'M1')\n",
      "(1389414237.0, 2014000011094, 'ASSISTANCE RENDERED', 'ONVIEW', 4, 'REQUEST TO WATCH', 'REQUEST TO WATCH', '01/11/2014 04:23:57 AM', 'K2')\n",
      "(1389429796.0, 2014000011246, 'ASSISTANCE RENDERED', 'ONVIEW', 9, 'OFF DUTY EMPLOYMENT', '-OFF DUTY EMPLOYMENT', '01/11/2014 08:43:16 AM', 'M3')\n",
      "(1389630529.0, 2014000013754, 'ASSISTANCE RENDERED', 'ONVIEW', 9, 'OFF DUTY EMPLOYMENT', '-OFF DUTY EMPLOYMENT', '01/13/2014 04:28:49 PM', 'M1')\n",
      "(1389631222.0, 2014000013755, 'REPORT WRITTEN (NO ARREST)', '911', 2, 'SHOPLIFT - THEFT', '--THEFT - SHOPLIFT', '01/13/2014 04:28:54 PM', 'K2')\n",
      "(1389677005.0, 2014000014333, 'OTHER REPORT MADE', 'ONVIEW', 3, 'FOLLOW UP', '--WARRANT SERVICES - FELONY', '01/14/2014 05:23:25 AM', 'D2')\n",
      "(1389788544.0, 2014000015836, 'ASSISTANCE RENDERED', 'ONVIEW', 9, 'OFF DUTY EMPLOYMENT', '-OFF DUTY EMPLOYMENT', '01/15/2014 12:22:24 PM', 'S3')\n",
      "(1389794844.0, 2014000015948, 'ASSISTANCE RENDERED', 'ONVIEW', 3, 'FOLLOW UP', '--ASSAULTS, OTHER', '01/15/2014 02:07:24 PM', 'D2')\n",
      "(1389888624.0, 2014000017200, 'FOLLOW-UP REPORT MADE', 'ONVIEW', 3, 'FOLLOW UP', '--TRAFFIC - MOVING VIOLATION', '01/16/2014 04:10:24 PM', 'B2')\n"
     ]
    }
   ],
   "source": [
    "test = cur.execute(\"SELECT * from log LIMIT 10\").fetchall()\n",
    "for row in test:\n",
    "    print(row)\n",
    "\n",
    "cnx.commit()"
   ]
  },
  {
   "cell_type": "code",
   "execution_count": 90,
   "metadata": {},
   "outputs": [
    {
     "data": {
      "text/plain": [
       "<sqlite3.Cursor at 0xb29bd9030>"
      ]
     },
     "execution_count": 90,
     "metadata": {},
     "output_type": "execute_result"
    }
   ],
   "source": [
    "cur.execute(\"CREATE INDEX index_name ON log (epoch_calls)\")"
   ]
  },
  {
   "cell_type": "code",
   "execution_count": 160,
   "metadata": {},
   "outputs": [
    {
     "name": "stdout",
     "output_type": "stream",
     "text": [
      "[(1511833270.0, 2017000438602, 'ORAL WARNING GIVEN', 'ONVIEW', 7, 'TRAFFIC STOP - OFFICER INITIATED ONVIEW', '--TRAFFIC - MOVING VIOLATION', '11/28/2017 01:41:10 AM', 'C3'), (1511833290.0, 2017000438599, 'ORAL WARNING GIVEN', '911', 2, 'DISTURBANCE, MISCELLANEOUS/OTHER', '--DISTURBANCE - OTHER', '11/28/2017 01:34:37 AM', 'D1'), (1511833452.0, 2017000438604, 'ASSISTANCE RENDERED', 'ONVIEW', 3, 'DISTURBANCE, MISCELLANEOUS/OTHER', '--DISTURBANCE - OTHER', '11/28/2017 01:44:11 AM', 'N3'), (1511833619.0, 2017000438605, 'PHYSICAL ARREST MADE', 'ONVIEW', 7, 'FOOT - ELUDING POLICE', '--WARRANT SERVICES - FELONY', '11/28/2017 01:46:58 AM', 'M2'), (1511834149.0, 2017000438603, 'ASSISTANCE RENDERED', 'TELEPHONE OTHER, NOT 911', 3, 'SUSPICIOUS PERSON, VEHICLE OR INCIDENT', '--SUSPICIOUS CIRCUM. - SUSPICIOUS PERSON', '11/28/2017 01:43:52 AM', 'S2'), (1511834189.0, 2017000438606, 'CITATION ISSUED (CRIMINAL OR NON-CRIMINAL)', 'ONVIEW', 7, 'TRAFFIC STOP - OFFICER INITIATED ONVIEW', '--TRAFFIC - MOVING VIOLATION', '11/28/2017 01:56:29 AM', 'F2'), (1511834321.0, 2017000438601, 'PHYSICAL ARREST MADE', 'TELEPHONE OTHER, NOT 911', 3, 'PERSON IN BEHAVIORAL/EMOTIONAL CRISIS', '--TRAFFIC - D.U.I.', '11/28/2017 01:38:44 AM', 'C2'), (1511834835.0, 2017000438607, 'ASSISTANCE RENDERED', 'TELEPHONE OTHER, NOT 911', 3, 'NOISE - DISTURBANCE (PARTY, ETC)', '--DISTURBANCE - NOISE RESIDENTIAL', '11/28/2017 02:01:23 AM', 'N3'), (1511834839.0, 2017000438610, 'ASSISTANCE RENDERED', 'ONVIEW', 7, 'PREMISE CHECK, OFFICER INITIATED ONVIEW ONLY', '--PREMISE CHECKS - CRIME PREVENTION', '11/28/2017 02:07:19 AM', 'S2'), (1511834857.0, 2017000438611, 'ASSISTANCE RENDERED', 'ONVIEW', 7, 'PREMISE CHECK, OFFICER INITIATED ONVIEW ONLY', '--PREMISE CHECKS - CRIME PREVENTION', '11/28/2017 02:07:37 AM', 'W3')]\n"
     ]
    }
   ],
   "source": [
    "# testing index\n",
    "test_i = cur.execute(\"select * from log where epoch_calls > 1511833200.0 limit 10\").fetchall()\n",
    "cnx.commit()\n",
    "\n",
    "print(test_i)\n",
    "# 1389369768.0"
   ]
  },
  {
   "cell_type": "code",
   "execution_count": 282,
   "metadata": {},
   "outputs": [
    {
     "data": {
      "text/plain": [
       "(5824, 9838)"
      ]
     },
     "execution_count": 282,
     "metadata": {},
     "output_type": "execute_result"
    }
   ],
   "source": [
    "force10 = force.head(5)\n",
    "new_df = pd.DataFrame(force10.iterrows())\n",
    "\n",
    "#force.drop(columns=[\"Incident_Num\", \"Occured_date_time\", \"Officer_ID\", \"Subject_ID\"], inplace=True)\n",
    "sum(force[force.Beat == \"-\"].count()), len(force)"
   ]
  },
  {
   "cell_type": "code",
   "execution_count": 291,
   "metadata": {},
   "outputs": [],
   "source": [
    "# iterate through the dataframe 'force', make a bunch of new rows, and then make a dataframe out of those\n",
    "\n",
    "new_row = []\n",
    "#val_lst = []\n",
    "for ix, row in force.iterrows():\n",
    "    # query the 911 calls database\n",
    "    # for each call, append to a bunch of records that we're building up into a dataframe\n",
    "    value = row.epoch\n",
    "    rowbeat = row.Beat\n",
    "    vals = cur.execute(f\"select * from log where epoch_calls BETWEEN ({value} - 1200) AND {value} \").fetchall()\n",
    "    #val_lst.extend([value, val[0]])\n",
    "    cnx.commit()\n",
    "    \n",
    "    for val in vals:\n",
    "        new_row.extend( [[ix,  val[0], row.epoch, row.ID, val[1], val[2],\n",
    "                        row.Incident_Type, row.Precinct, \n",
    "                        row.Sector, row.Beat, val[8], val[4],\n",
    "                        row.Subject_Race, row.Subject_Gender, val[3], val[5], val[6], \n",
    "                        val[7], row.year, row.month, row.day, row.time] ])\n",
    "  "
   ]
  },
  {
   "cell_type": "code",
   "execution_count": 295,
   "metadata": {},
   "outputs": [],
   "source": [
    "merged = pd.DataFrame(new_row, columns=[\"index\",\"call_epoch\", \"force_epoch\", \"ID\", \"CAD_Event_Number\", \"Event_Clearance_Description\",\n",
    "                                \"Force_Level\", \"Precinct\", \n",
    "                                \"Sector\", \"force_beat\", \"calls_beat\", \"Priority\",\n",
    "                                \"Subject_Race\", \"Subject_Gender\",\"Call_Type\", \"Initial_Call_Type\", \"Final_Call_Type\",\n",
    "                                \"Original_Time_Queued\", \"year\", \"month\",\"day\", \"time \" ])\n",
    "\n"
   ]
  },
  {
   "cell_type": "code",
   "execution_count": 224,
   "metadata": {},
   "outputs": [],
   "source": [
    "lst = []\n",
    "for value in list(force.iloc[:2,:].epoch.values):\n",
    "    val = cur.execute(f\"select * from log where epoch_calls BETWEEN ({value} - 14400) AND {value} limit 1\").fetchall()\n",
    "    lst.append(val)\n",
    "cnx.commit()\n",
    "\n",
    "# 4 hours = 14400 seconds"
   ]
  },
  {
   "cell_type": "code",
   "execution_count": 296,
   "metadata": {},
   "outputs": [
    {
     "name": "stdout",
     "output_type": "stream",
     "text": [
      "<class 'pandas.core.frame.DataFrame'>\n",
      "RangeIndex: 109526 entries, 0 to 109525\n",
      "Data columns (total 22 columns):\n",
      "index                          109526 non-null int64\n",
      "call_epoch                     109526 non-null float64\n",
      "force_epoch                    109526 non-null float64\n",
      "ID                             109526 non-null object\n",
      "CAD_Event_Number               109526 non-null int64\n",
      "Event_Clearance_Description    109526 non-null object\n",
      "Force_Level                    109526 non-null object\n",
      "Precinct                       109526 non-null object\n",
      "Sector                         109526 non-null object\n",
      "force_beat                     109526 non-null object\n",
      "calls_beat                     109526 non-null object\n",
      "Priority                       109526 non-null int64\n",
      "Subject_Race                   109526 non-null object\n",
      "Subject_Gender                 109526 non-null object\n",
      "Call_Type                      109526 non-null object\n",
      "Initial_Call_Type              109526 non-null object\n",
      "Final_Call_Type                109526 non-null object\n",
      "Original_Time_Queued           109526 non-null object\n",
      "year                           109526 non-null object\n",
      "month                          109526 non-null object\n",
      "day                            109526 non-null object\n",
      "time                           109526 non-null object\n",
      "dtypes: float64(2), int64(3), object(17)\n",
      "memory usage: 18.4+ MB\n"
     ]
    }
   ],
   "source": [
    "merged.info()"
   ]
  },
  {
   "cell_type": "code",
   "execution_count": null,
   "metadata": {},
   "outputs": [],
   "source": []
  }
 ],
 "metadata": {
  "kernelspec": {
   "display_name": "Python 3",
   "language": "python",
   "name": "python3"
  },
  "language_info": {
   "codemirror_mode": {
    "name": "ipython",
    "version": 3
   },
   "file_extension": ".py",
   "mimetype": "text/x-python",
   "name": "python",
   "nbconvert_exporter": "python",
   "pygments_lexer": "ipython3",
   "version": "3.7.3"
  }
 },
 "nbformat": 4,
 "nbformat_minor": 2
}
