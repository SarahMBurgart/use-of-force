{
 "cells": [
  {
   "cell_type": "code",
   "execution_count": 1,
   "metadata": {},
   "outputs": [],
   "source": [
    "import pandas as pd\n",
    "import os\n",
    "from datetime import datetime\n",
    "import sqlite3\n",
    "from sqlalchemy import create_engine\n",
    "engine = create_engine('sqlite://', echo=False)\n",
    "\n",
    "import matplotlib.pyplot as plt\n",
    "import numpy as np\n",
    "from datetime import datetime\n",
    "from sklearn.decomposition import PCA\n",
    "from sklearn.preprocessing import StandardScaler\n",
    "import seaborn as sns\n",
    "from sklearn.ensemble import RandomForestClassifier, GradientBoostingClassifier\n",
    "from sklearn.model_selection import train_test_split\n",
    "from sklearn.inspection import plot_partial_dependence\n",
    "from sklearn.inspection import partial_dependence \n",
    "\n",
    "\n",
    "%matplotlib inline"
   ]
  },
  {
   "cell_type": "code",
   "execution_count": 2,
   "metadata": {},
   "outputs": [],
   "source": [
    "# police beats interactive map - put in address and it tells you the beat!\n",
    "\n",
    "# https://www.seattle.gov/police/community-policing/mcpp-location-map\n",
    "    \n",
    "    "
   ]
  },
  {
   "cell_type": "code",
   "execution_count": 2,
   "metadata": {},
   "outputs": [],
   "source": [
    "# function to convert datetime object to 4 - for force ONLY\n",
    "def datetime(df, col_as_str):\n",
    "    yearmonthday = df[col_as_str].astype(str).str.split(\" \")\n",
    "    ymd = yearmonthday.apply(lambda x: x[0]).str.split(\"/\")\n",
    "    year = ymd.apply(lambda x: x[2])\n",
    "    month = ymd.apply(lambda x: x[0])\n",
    "    day = ymd.apply(lambda x: x[1])\n",
    "    time = ymd = yearmonthday.apply(lambda x: x[1]+x[2]).astype(str)\n",
    "    df[\"year\"] = year\n",
    "    df[\"month\"] = month\n",
    "    df[\"day\"] = day\n",
    "    tim = pd.to_datetime(time)\n",
    "    df[\"hour\"] = tim.apply(lambda x: pd.datetime.strftime(x, '%H'))\n",
    "    return df\n",
    "\n"
   ]
  },
  {
   "cell_type": "code",
   "execution_count": 3,
   "metadata": {},
   "outputs": [
    {
     "data": {
      "text/plain": [
       "(9422, 9838)"
      ]
     },
     "execution_count": 3,
     "metadata": {},
     "output_type": "execute_result"
    }
   ],
   "source": [
    "force = pd.read_csv(\"data/Use_Of_Force.csv\")\n",
    "len(force) -  len(force[force[\"Beat\"] == '-']), len(force)"
   ]
  },
  {
   "cell_type": "code",
   "execution_count": 4,
   "metadata": {},
   "outputs": [],
   "source": [
    "# change to epoch time\n",
    "force = datetime(force,\"Occured_date_time\" )\n",
    "foo = pd.to_datetime( force.Occured_date_time )\n",
    "epoch_second = foo.map(lambda x:x.value/1e9)\n",
    "\n",
    "force[\"epoch\"] = epoch_second\n"
   ]
  },
  {
   "cell_type": "code",
   "execution_count": 6,
   "metadata": {},
   "outputs": [
    {
     "data": {
      "text/plain": [
       "'lf3 = [\"Level 3 - Use of Force\", \\'Level 3 - OIS\\']\\nlf1 = [\"Level 2 - Use of Force\", \"Level 1 - Use of Force\"]\\nf1 = force[force[\"Incident_Type\"].isin(lf1)]\\nf3 = force[force[\"Incident_Type\"].isin(lf3)]\\n\\ntop10 = f3.Officer_ID.value_counts()[:10].index\\nlen(force[force[\"Officer_ID\"].isin(top10)])\\nfor officer in top10:\\n    off = f3[f3[\"Officer_ID\"] == officer]\\n    beats = off.Beat.value_counts()\\n    print(officer, beats)  '"
      ]
     },
     "execution_count": 6,
     "metadata": {},
     "output_type": "execute_result"
    }
   ],
   "source": [
    "# EDA - use to verify percentages later\n",
    "\n",
    "'''lf3 = [\"Level 3 - Use of Force\", 'Level 3 - OIS']\n",
    "lf1 = [\"Level 2 - Use of Force\", \"Level 1 - Use of Force\"]\n",
    "f1 = force[force[\"Incident_Type\"].isin(lf1)]\n",
    "f3 = force[force[\"Incident_Type\"].isin(lf3)]\n",
    "\n",
    "top10 = f3.Officer_ID.value_counts()[:10].index\n",
    "len(force[force[\"Officer_ID\"].isin(top10)])\n",
    "for officer in top10:\n",
    "    off = f3[f3[\"Officer_ID\"] == officer]\n",
    "    beats = off.Beat.value_counts()\n",
    "    print(officer, beats)  '''\n",
    "\n",
    "# could look at incidents and see if they are related to officer OR beat or some of each"
   ]
  },
  {
   "cell_type": "code",
   "execution_count": 7,
   "metadata": {},
   "outputs": [
    {
     "data": {
      "text/plain": [
       "'beats = force.groupby(\"Beat\")\\nvc = beats[\"Incident_Type\"].value_counts()\\nvc = pd.DataFrame(vc)\\nvc.values\\nOIS_dict = {}\\n#vc.index[3][1]\\nfor i in range(vc.shape[0]):\\n    if vc.index[i][1]== \"Level 3 - OIS\":\\n        OIS_dict[vc.index[i][0]] = vc.values[i][0]\\nOIS_dict'"
      ]
     },
     "execution_count": 7,
     "metadata": {},
     "output_type": "execute_result"
    }
   ],
   "source": [
    "# EDA - use to verify percentages later\n",
    "\n",
    "'''beats = force.groupby(\"Beat\")\n",
    "vc = beats[\"Incident_Type\"].value_counts()\n",
    "vc = pd.DataFrame(vc)\n",
    "vc.values\n",
    "OIS_dict = {}\n",
    "#vc.index[3][1]\n",
    "for i in range(vc.shape[0]):\n",
    "    if vc.index[i][1]== \"Level 3 - OIS\":\n",
    "        OIS_dict[vc.index[i][0]] = vc.values[i][0]\n",
    "OIS_dict'''"
   ]
  },
  {
   "cell_type": "code",
   "execution_count": 5,
   "metadata": {},
   "outputs": [],
   "source": [
    "# remove repetitive columns (incident type, officer id and subject id are in ID respectively)\n",
    "\n",
    "force = force.drop(columns=[\"Occured_date_time\", \"ID\"])\n"
   ]
  },
  {
   "cell_type": "code",
   "execution_count": 13,
   "metadata": {},
   "outputs": [],
   "source": [
    "#force.Incident_Num.value_counts()"
   ]
  },
  {
   "cell_type": "code",
   "execution_count": 9,
   "metadata": {},
   "outputs": [],
   "source": [
    "# create engine\n",
    "cnx = sqlite3.connect('calls.sqlite')"
   ]
  },
  {
   "cell_type": "code",
   "execution_count": 10,
   "metadata": {},
   "outputs": [],
   "source": [
    "# create cursor\n",
    "cur = cnx.cursor()\n"
   ]
  },
  {
   "cell_type": "code",
   "execution_count": 12,
   "metadata": {},
   "outputs": [],
   "source": [
    "# iterate through the dataframe 'force', make a bunch of new rows, and then make a dataframe out of those\n",
    "\n",
    "new_row = []\n",
    "#val_lst = []\n",
    "for ix, row in force.iterrows():\n",
    "    # query the 911 calls database\n",
    "    # for each call, append to a bunch of records that we're building up into a dataframe\n",
    "    \n",
    "        \n",
    "    value = row.epoch\n",
    "    rowbeat = row.Beat\n",
    "    \n",
    "    if rowbeat == '-':\n",
    "        vals = cur.execute(f\"select * from log where epoch_calls BETWEEN ({value} - 120) AND {value} \").fetchall()\n",
    "    else:\n",
    "        vals = cur.execute(f\"select * from log where epoch_calls BETWEEN ({value} - 3000) AND {value} \").fetchall()\n",
    "    #val_lst.extend([value, val[0]])\n",
    "    cnx.commit()\n",
    "    \n",
    "    for val in vals:\n",
    "        new_row.extend( [[ix,  val[0], row.epoch, row.Incident_Num, row.Officer_ID, row.Subject_ID, val[1], val[2],\n",
    "                        row.Incident_Type, row.Precinct, \n",
    "                        row.Sector, row.Beat, val[8], val[4],\n",
    "                        row.Subject_Race, row.Subject_Gender, val[3], val[5], val[6], \n",
    "                        val[7], row.year, row.month, row.day] ])\n",
    "  "
   ]
  },
  {
   "cell_type": "code",
   "execution_count": 13,
   "metadata": {},
   "outputs": [],
   "source": [
    "# make dataframe from force dateframe and returned SQL table info (from calls table)\n",
    "\n",
    "merged = pd.DataFrame(new_row, columns=[\"index\",\"call_epoch\", \"force_epoch\", \"Incident_Num\", \"Officer_ID\",\n",
    "                                        \"Subject_ID\", \"CAD_Event_Number\", \"Event_Clearance_Description\",\n",
    "                                \"Force_Level\", \"Precinct\", \n",
    "                                \"Sector\", \"force_beat\", \"calls_beat\", \"Priority\",\n",
    "                                \"Subject_Race\", \"Subject_Gender\",\"Call_Type\", \"Initial_Call_Type\", \"Final_Call_Type\",\n",
    "                                \"Original_Time_Queued\", \"year\", \"month\",\"day\"])\n",
    "\n"
   ]
  },
  {
   "cell_type": "code",
   "execution_count": 14,
   "metadata": {},
   "outputs": [],
   "source": [
    "# if the rows have an associated beat and they don't match - drop them as a mismatched double\n",
    "new_merged = []\n",
    "for ix, row in merged.iterrows():\n",
    "    forc = row.force_beat\n",
    "    cal = row.calls_beat\n",
    "    if forc != '-':\n",
    "        if forc != cal:\n",
    "            pass\n",
    "        else:\n",
    "            new_merged.append(row)\n",
    "    else:\n",
    "        new_merged.append(row)"
   ]
  },
  {
   "cell_type": "code",
   "execution_count": 15,
   "metadata": {},
   "outputs": [],
   "source": [
    "# make it into a dataframe\n",
    "new_merged = pd.DataFrame(new_merged)\n"
   ]
  },
  {
   "cell_type": "code",
   "execution_count": 15,
   "metadata": {},
   "outputs": [],
   "source": [
    "'''# looking at duplicated CAD_E_Nums\n",
    "dfrs = new_merged[\"CAD_Event_Number\"].value_counts()\n",
    "two = []\n",
    "for v, i in zip(dfrs.values, dfrs.index):\n",
    "    if v >1:\n",
    "        two.append(i)\n",
    "# len(two) == 362  \n",
    "s = [x > 1 for x in dfrs]\n",
    "dd =dfrs[s]\n",
    "t = new_merged[new_merged[\"CAD_Event_Number\"].isin(two)]'''\n"
   ]
  },
  {
   "cell_type": "code",
   "execution_count": 41,
   "metadata": {},
   "outputs": [],
   "source": [
    "# make numeric\n",
    "rev_df = new_merged.replace(\"-1\", -1)\n",
    "rev_df[\"Original_Time_Queued\"] = pd.to_datetime(rev_df[\"Original_Time_Queued\"])\n",
    "rev_df[\"day_of_week\"] = rev_df[\"Original_Time_Queued\"].dt.dayofweek\n"
   ]
  },
  {
   "cell_type": "code",
   "execution_count": 42,
   "metadata": {},
   "outputs": [],
   "source": [
    "# get hour\n",
    "rev_df[\"hour\"] = rev_df[\"Original_Time_Queued\"].dt.hour"
   ]
  },
  {
   "cell_type": "code",
   "execution_count": 45,
   "metadata": {},
   "outputs": [
    {
     "data": {
      "text/plain": [
       "0            SUSPICIOUS PERSON, VEHICLE OR INCIDENT\n",
       "1                        TRAFFIC - BLOCKING ROADWAY\n",
       "2    MVC - HIT AND RUN (NON INJURY), INCLUDES IP/JO\n",
       "3                        MVC - NON INJURY, BLOCKING\n",
       "4          PARKING VIOLATION (EXCEPT ABANDONED CAR)\n",
       "Name: Initial_Call_Type, dtype: object"
      ]
     },
     "execution_count": 45,
     "metadata": {},
     "output_type": "execute_result"
    }
   ],
   "source": [
    "rev_df.Initial_Call_Type.head()"
   ]
  },
  {
   "cell_type": "code",
   "execution_count": 57,
   "metadata": {},
   "outputs": [],
   "source": [
    "# bring in rest of calls dataframe\n",
    "calls = pd.read_csv(\"data/Call_Data.csv\")"
   ]
  },
  {
   "cell_type": "code",
   "execution_count": 58,
   "metadata": {},
   "outputs": [],
   "source": [
    "# establish columns related to time \n",
    "def callstime(df, col_arrive):\n",
    "    yearmonthday = df[col_arrive].astype(str).str.split(\" \")\n",
    "    df[\"year\"] = yearmonthday.apply(lambda x: x[2])\n",
    "    df[\"day\"] = yearmonthday.apply(lambda x: x[1])\n",
    "    month_dict = {\"Jan\": 1, \"Feb\": 2, \"Mar\": 3, \"Apr\": 4, \"May\": 5, \"Jun\": 6, \"Jul\": 7, \"Aug\": 8, \"Sep\": 9, \"Oct\": 10, \"Nov\": 11, \"Dec\":12}\n",
    "    df[\"month\"] = yearmonthday.apply(lambda x: month_dict[x[0]])\n",
    "    time = yearmonthday.apply(lambda x: x[3])\n",
    "    #tim = time.astype(str).str.split(\":\")\n",
    "    #df[\"hour\"] = tim.apply(lambda x: x[0])\n",
    "    return df\n",
    "\n",
    "calls = callstime(calls,\"Arrived Time\")\n",
    "\n"
   ]
  },
  {
   "cell_type": "code",
   "execution_count": 79,
   "metadata": {},
   "outputs": [],
   "source": [
    "# make the df smaller \n",
    "calls17 = pd.DataFrame(calls[calls[\"year\"].isin([\"2014\", \"2015\", \"2016\", \"2017\", \"2018\", \"2019\"])])\n"
   ]
  },
  {
   "cell_type": "code",
   "execution_count": 20,
   "metadata": {},
   "outputs": [],
   "source": [
    "#s = pd.to_datetime(calls17[\"Original Time Queued\"], infer_datetime_format=True)\n",
    "#(calls17[\"time\"])\n",
    "\n",
    "#.apply(lambda x: pd.datetime.strftime(x, '%H:%M:%S'))\n",
    "\n",
    "#s = s.apply(lambda x: pd.datetime.strftime(x, '%H'))"
   ]
  },
  {
   "cell_type": "code",
   "execution_count": 81,
   "metadata": {},
   "outputs": [],
   "source": [
    "calls17.columns\n",
    "calls17.drop(\"hour\", axis=1, inplace=True)"
   ]
  },
  {
   "cell_type": "code",
   "execution_count": 82,
   "metadata": {},
   "outputs": [],
   "source": [
    "# change O_t_q to dt and then day of week\n",
    "calls17[\"Original_Time_Queued\"] = pd.to_datetime(calls17[\"Original Time Queued\"])\n",
    "calls17[\"day_of_week\"] = calls17[\"Original_Time_Queued\"].dt.dayofweek\n",
    "\n",
    "# get hour\n",
    "calls17[\"hour\"] = calls17[\"Original_Time_Queued\"].dt.hour"
   ]
  },
  {
   "cell_type": "code",
   "execution_count": 83,
   "metadata": {},
   "outputs": [],
   "source": [
    "calls17.drop(\"Original Time Queued\", axis=1, inplace=True)"
   ]
  },
  {
   "cell_type": "code",
   "execution_count": 84,
   "metadata": {},
   "outputs": [
    {
     "data": {
      "text/plain": [
       "Index(['CAD Event Number', 'Event Clearance Description', 'Call Type',\n",
       "       'Priority', 'Initial Call Type', 'Final Call Type', 'Arrived Time',\n",
       "       'Precinct', 'Sector', 'Beat', 'year', 'day', 'month',\n",
       "       'Original_Time_Queued', 'day_of_week', 'hour'],\n",
       "      dtype='object')"
      ]
     },
     "execution_count": 84,
     "metadata": {},
     "output_type": "execute_result"
    }
   ],
   "source": []
  },
  {
   "cell_type": "code",
   "execution_count": 85,
   "metadata": {},
   "outputs": [],
   "source": [
    "# send calls17 df to pickle so I don't have to keep doing this:\n",
    "# calls17.to_pickle(\"data/calls17_cleaned.pkl\")"
   ]
  },
  {
   "cell_type": "code",
   "execution_count": null,
   "metadata": {},
   "outputs": [],
   "source": []
  },
  {
   "cell_type": "code",
   "execution_count": null,
   "metadata": {},
   "outputs": [],
   "source": [
    "# import from pickle!!\n",
    "\n",
    "# calls_17 = pd.read_pickle(\"data/calls17_cleaned.pkl\")"
   ]
  },
  {
   "cell_type": "code",
   "execution_count": 88,
   "metadata": {},
   "outputs": [],
   "source": [
    "call_cols = calls17.columns"
   ]
  },
  {
   "cell_type": "code",
   "execution_count": null,
   "metadata": {},
   "outputs": [],
   "source": []
  },
  {
   "cell_type": "code",
   "execution_count": 87,
   "metadata": {},
   "outputs": [
    {
     "data": {
      "text/plain": [
       "'    \\n    for val in vals:\\n        new_row.extend( [[ix,  val[0], row.epoch, row.Incident_Num, row.Officer_ID, row.Subject_ID, val[1], val[2],\\n                        row.Incident_Type, row.Precinct, \\n                        row.Sector, row.Beat, val[8], val[4],\\n                        row.Subject_Race, row.Subject_Gender, val[3], val[5], val[6], \\n                        val[7], row.year, row.month, row.day, row.time] ])'"
      ]
     },
     "execution_count": 87,
     "metadata": {},
     "output_type": "execute_result"
    }
   ],
   "source": [
    "# add in rows from Calls17 sql table that are not already represented in merged df\n",
    "add_call_rows = []\n",
    "\n",
    "series = list(rev_df[\"CAD_Event_Number\"])\n",
    "#val_lst = []\n",
    "for ix, row in calls17.iterrows():\n",
    "    # query the 911 calls database\n",
    "    # for each call, append to a bunch of records that we're building up into a dataframe\n",
    "    \n",
    "        \n",
    "    CAD = row[\"CAD Event Number\"]\n",
    "    #rowbeat = row.Beat\n",
    "    series \n",
    "    \n",
    "    if CAD in series:\n",
    "        pass\n",
    "    else:\n",
    "        add_call_rows.extend([row])\n",
    "    #val_lst.extend([value, val[0]])\n",
    "\n",
    "'''    \n",
    "    for val in vals:\n",
    "        new_row.extend( [[ix,  val[0], row.epoch, row.Incident_Num, row.Officer_ID, row.Subject_ID, val[1], val[2],\n",
    "                        row.Incident_Type, row.Precinct, \n",
    "                        row.Sector, row.Beat, val[8], val[4],\n",
    "                        row.Subject_Race, row.Subject_Gender, val[3], val[5], val[6], \n",
    "                        val[7], row.year, row.month, row.day, row.time] ])'''\n",
    "\n"
   ]
  },
  {
   "cell_type": "code",
   "execution_count": 101,
   "metadata": {},
   "outputs": [],
   "source": [
    "calls_add = pd.DataFrame(add_call_rows, columns = call_cols)\n"
   ]
  },
  {
   "cell_type": "code",
   "execution_count": 93,
   "metadata": {},
   "outputs": [],
   "source": [
    "# pickle this df where it is just the rows not in rev_df so I can do more eda later:\n",
    "# calls17.to_pickle(\"data/calls17_cleaned_not_in_rev_df.pkl\")"
   ]
  },
  {
   "cell_type": "code",
   "execution_count": 28,
   "metadata": {},
   "outputs": [],
   "source": [
    "# change O_t_q to dt\n",
    "# s = pd.to_datetime(calls_add[\"Original_Time_Queued\"],infer_datetime_format=True)\n"
   ]
  },
  {
   "cell_type": "code",
   "execution_count": 29,
   "metadata": {},
   "outputs": [],
   "source": [
    "# calls_add[\"day_of_week\"] = s.dt.dayofweek\n"
   ]
  },
  {
   "cell_type": "code",
   "execution_count": 102,
   "metadata": {},
   "outputs": [],
   "source": [
    "# if I find percentages and then disaggregate - can have not null genders and races here and in the rest\n",
    "\n",
    "calls_add[\"Force_Level\"] = 0\n",
    "calls_add[\"Subject_Gender\"] = \"-\"\n",
    "calls_add[\"Subject_Race\"] = \"-\"\n"
   ]
  },
  {
   "cell_type": "code",
   "execution_count": 103,
   "metadata": {},
   "outputs": [],
   "source": [
    "\n",
    "\n",
    "# need to change column names and add columns to match rev_df\n",
    "calls_add.rename(index=str, columns={\"CAD Event Number\": \"CAD_Event_Number\", \"Event Clearance Description\": \"Event_Clearance_Description\",\n",
    "                                    \"Call Type\": \"Call_Type\", \"Initial Call Type\": \"Initial_Call_Type\"}, inplace=True)\n",
    "\n",
    "calls_add.drop([\"Priority\", \"Final Call Type\", \"Arrived Time\", 'year'], axis=1, inplace=True )\n"
   ]
  },
  {
   "cell_type": "code",
   "execution_count": 47,
   "metadata": {},
   "outputs": [],
   "source": [
    "# reorder the smaller df obviously\n",
    "\n",
    "\n"
   ]
  },
  {
   "cell_type": "code",
   "execution_count": 78,
   "metadata": {},
   "outputs": [
    {
     "data": {
      "text/plain": [
       "Index(['CAD Event Number', 'Event Clearance Description', 'Call Type',\n",
       "       'Initial Call Type', 'Precinct', 'Sector', 'Beat', 'day', 'month',\n",
       "       'Original_Time_Queued', 'day_of_week', 'hour'],\n",
       "      dtype='object')"
      ]
     },
     "execution_count": 78,
     "metadata": {},
     "output_type": "execute_result"
    }
   ],
   "source": [
    "# drop columns I don't need for this model:\n",
    "\n",
    "\n",
    "rev_df.drop([\"index\", \"call_epoch\", \"force_epoch\", \"Incident_Num\", \"Officer_ID\", \"Subject_ID\", \n",
    "          #  \"Original_Time_Queued\"], axis=1, inplace=True)"
   ]
  },
  {
   "cell_type": "code",
   "execution_count": 49,
   "metadata": {},
   "outputs": [],
   "source": [
    "rev_df.drop([\"Priority\", \"Final_Call_Type\", \"year\"], axis=1, inplace=True)"
   ]
  },
  {
   "cell_type": "code",
   "execution_count": 50,
   "metadata": {},
   "outputs": [],
   "source": [
    "\n",
    "rev_df.drop(\"force_beat\", axis=1, inplace=True)"
   ]
  },
  {
   "cell_type": "code",
   "execution_count": 36,
   "metadata": {},
   "outputs": [
    {
     "name": "stdout",
     "output_type": "stream",
     "text": [
      "<class 'pandas.core.frame.DataFrame'>\n",
      "Index: 8616 entries, 0 to 262504\n",
      "Data columns (total 13 columns):\n",
      "CAD_Event_Number               8616 non-null int64\n",
      "Event_Clearance_Description    8616 non-null object\n",
      "Force_Level                    8616 non-null object\n",
      "Precinct                       8616 non-null object\n",
      "Sector                         8616 non-null object\n",
      "Beat                           8616 non-null object\n",
      "Subject_Race                   8616 non-null object\n",
      "Subject_Gender                 8616 non-null object\n",
      "Call_Type                      8616 non-null object\n",
      "Initial_Call_Type              8616 non-null object\n",
      "month                          8616 non-null object\n",
      "day                            8616 non-null object\n",
      "day_of_week                    8616 non-null int64\n",
      "dtypes: int64(2), object(11)\n",
      "memory usage: 942.4+ KB\n"
     ]
    }
   ],
   "source": [
    "rev_df.rename(index=str, columns={\"calls_beat\":\"Beat\"}, inplace=True)\n",
    "rev_df.info()"
   ]
  },
  {
   "cell_type": "code",
   "execution_count": 105,
   "metadata": {},
   "outputs": [
    {
     "name": "stdout",
     "output_type": "stream",
     "text": [
      "<class 'pandas.core.frame.DataFrame'>\n",
      "Index: 1451138 entries, 1674201 to 3986667\n",
      "Data columns (total 14 columns):\n",
      "CAD_Event_Number               1451138 non-null int64\n",
      "Event_Clearance_Description    1451138 non-null object\n",
      "Call_Type                      1451138 non-null object\n",
      "Initial_Call_Type              1451138 non-null object\n",
      "Precinct                       1451138 non-null object\n",
      "Sector                         1441257 non-null object\n",
      "Beat                           1451138 non-null object\n",
      "day                            1451138 non-null object\n",
      "month                          1451138 non-null int64\n",
      "day_of_week                    1451138 non-null int64\n",
      "hour                           1451138 non-null int64\n",
      "Force_Level                    1451138 non-null int64\n",
      "Subject_Gender                 1451138 non-null object\n",
      "Subject_Race                   1451138 non-null object\n",
      "dtypes: int64(5), object(9)\n",
      "memory usage: 166.1+ MB\n",
      "<class 'pandas.core.frame.DataFrame'>\n",
      "Int64Index: 8616 entries, 0 to 262504\n",
      "Data columns (total 14 columns):\n",
      "CAD_Event_Number               8616 non-null int64\n",
      "Event_Clearance_Description    8616 non-null object\n",
      "Force_Level                    8616 non-null object\n",
      "Precinct                       8616 non-null object\n",
      "Sector                         8616 non-null object\n",
      "Beat                           8616 non-null object\n",
      "Subject_Race                   8616 non-null object\n",
      "Subject_Gender                 8616 non-null object\n",
      "Call_Type                      8616 non-null object\n",
      "Initial_Call_Type              8616 non-null object\n",
      "month                          8616 non-null object\n",
      "day                            8616 non-null object\n",
      "day_of_week                    8616 non-null int64\n",
      "hour                           8616 non-null int64\n",
      "dtypes: int64(3), object(11)\n",
      "memory usage: 1009.7+ KB\n"
     ]
    },
    {
     "data": {
      "text/plain": [
       "(None, None)"
      ]
     },
     "execution_count": 105,
     "metadata": {},
     "output_type": "execute_result"
    }
   ],
   "source": [
    "calls_add.drop([\"Original_Time_Queued\"], axis=1, inplace=True)\n"
   ]
  },
  {
   "cell_type": "code",
   "execution_count": 106,
   "metadata": {},
   "outputs": [
    {
     "name": "stdout",
     "output_type": "stream",
     "text": [
      "<class 'pandas.core.frame.DataFrame'>\n",
      "Index: 1451138 entries, 1674201 to 3986667\n",
      "Data columns (total 14 columns):\n",
      "CAD_Event_Number               1451138 non-null int64\n",
      "Event_Clearance_Description    1451138 non-null object\n",
      "Force_Level                    1451138 non-null int64\n",
      "Precinct                       1451138 non-null object\n",
      "Sector                         1441257 non-null object\n",
      "Beat                           1451138 non-null object\n",
      "Subject_Race                   1451138 non-null object\n",
      "Subject_Gender                 1451138 non-null object\n",
      "Call_Type                      1451138 non-null object\n",
      "Initial_Call_Type              1451138 non-null object\n",
      "month                          1451138 non-null int64\n",
      "day                            1451138 non-null object\n",
      "day_of_week                    1451138 non-null int64\n",
      "hour                           1451138 non-null int64\n",
      "dtypes: int64(5), object(9)\n",
      "memory usage: 166.1+ MB\n"
     ]
    }
   ],
   "source": [
    "#reorder columns so they match\n",
    "calls_add = calls_add[[\"CAD_Event_Number\", \"Event_Clearance_Description\", \"Force_Level\", \"Precinct\", \"Sector\", \"Beat\",\n",
    "                      \"Subject_Race\", \"Subject_Gender\",\"Call_Type\", \"Initial_Call_Type\", \"month\", \"day\", \"day_of_week\", \"hour\"]]\n",
    "calls_add.info()"
   ]
  },
  {
   "cell_type": "code",
   "execution_count": 107,
   "metadata": {},
   "outputs": [
    {
     "name": "stdout",
     "output_type": "stream",
     "text": [
      "<class 'pandas.core.frame.DataFrame'>\n",
      "Index: 1451138 entries, 1674201 to 3986667\n",
      "Data columns (total 14 columns):\n",
      "CAD_Event_Number               1451138 non-null int64\n",
      "Event_Clearance_Description    1451138 non-null object\n",
      "Force_Level                    1451138 non-null int64\n",
      "Precinct                       1451138 non-null object\n",
      "Sector                         1441257 non-null object\n",
      "Beat                           1451138 non-null object\n",
      "Subject_Race                   1451138 non-null object\n",
      "Subject_Gender                 1451138 non-null object\n",
      "Call_Type                      1451138 non-null object\n",
      "Initial_Call_Type              1451138 non-null object\n",
      "month                          1451138 non-null int64\n",
      "day                            1451138 non-null object\n",
      "day_of_week                    1451138 non-null int64\n",
      "hour                           1451138 non-null int64\n",
      "dtypes: int64(5), object(9)\n",
      "memory usage: 166.1+ MB\n",
      "<class 'pandas.core.frame.DataFrame'>\n",
      "Int64Index: 8616 entries, 0 to 262504\n",
      "Data columns (total 14 columns):\n",
      "CAD_Event_Number               8616 non-null int64\n",
      "Event_Clearance_Description    8616 non-null object\n",
      "Force_Level                    8616 non-null object\n",
      "Precinct                       8616 non-null object\n",
      "Sector                         8616 non-null object\n",
      "Beat                           8616 non-null object\n",
      "Subject_Race                   8616 non-null object\n",
      "Subject_Gender                 8616 non-null object\n",
      "Call_Type                      8616 non-null object\n",
      "Initial_Call_Type              8616 non-null object\n",
      "month                          8616 non-null object\n",
      "day                            8616 non-null object\n",
      "day_of_week                    8616 non-null int64\n",
      "hour                           8616 non-null int64\n",
      "dtypes: int64(3), object(11)\n",
      "memory usage: 1009.7+ KB\n"
     ]
    },
    {
     "data": {
      "text/plain": [
       "(None, None)"
      ]
     },
     "execution_count": 107,
     "metadata": {},
     "output_type": "execute_result"
    }
   ],
   "source": [
    "calls_add.info(), rev_df.info()"
   ]
  },
  {
   "cell_type": "code",
   "execution_count": 108,
   "metadata": {},
   "outputs": [],
   "source": [
    "\n",
    "nm = pd.concat([rev_df, calls_add])"
   ]
  },
  {
   "cell_type": "code",
   "execution_count": 109,
   "metadata": {},
   "outputs": [],
   "source": [
    "# pickle this so I don't have to do this again:\n",
    "\n",
    "nm.to_pickle(\"data/all_calls17_uof_df.pkl\")"
   ]
  },
  {
   "cell_type": "code",
   "execution_count": 110,
   "metadata": {},
   "outputs": [
    {
     "name": "stdout",
     "output_type": "stream",
     "text": [
      "<class 'pandas.core.frame.DataFrame'>\n",
      "Index: 1459754 entries, 0 to 3986667\n",
      "Data columns (total 14 columns):\n",
      "CAD_Event_Number               1459754 non-null int64\n",
      "Event_Clearance_Description    1459754 non-null object\n",
      "Force_Level                    1459754 non-null object\n",
      "Precinct                       1459754 non-null object\n",
      "Sector                         1449873 non-null object\n",
      "Beat                           1459754 non-null object\n",
      "Subject_Race                   1459754 non-null object\n",
      "Subject_Gender                 1459754 non-null object\n",
      "Call_Type                      1459754 non-null object\n",
      "Initial_Call_Type              1459754 non-null object\n",
      "month                          1459754 non-null object\n",
      "day                            1459754 non-null object\n",
      "day_of_week                    1459754 non-null int64\n",
      "hour                           1459754 non-null int64\n",
      "dtypes: int64(3), object(11)\n",
      "memory usage: 167.1+ MB\n"
     ]
    }
   ],
   "source": [
    "nm.info()"
   ]
  },
  {
   "cell_type": "code",
   "execution_count": 86,
   "metadata": {},
   "outputs": [],
   "source": [
    "\n",
    "\n",
    "init = nm[\"Initial_Call_Type\"]\n",
    "to_drop = init[init.str.startswith(\"-ASSIGNED DUTY\")]\n",
    "\n",
    "\n",
    "s = nm[\"Initial_Call_Type\"].str.replace(\" - .*\", \"\", regex=True)\n",
    "nm[\"Initial_Call_Type\"] = s"
   ]
  },
  {
   "cell_type": "code",
   "execution_count": 111,
   "metadata": {},
   "outputs": [],
   "source": [
    "# correct time columns \n",
    "\n",
    "#rev_df[\"year\"] = rev_df[\"year\"].astype(int)\n",
    "nm[\"month\"] = nm[\"month\"].astype(int)\n",
    "nm[\"day\"] = nm[\"day\"].astype(int)\n",
    "#nm[\"day_of_week\"] = nm.Original_Time_Queued.dt.dayofweek\n",
    "\n",
    "# nm['call_hour'] = nm.Original_Time_Queued.apply(lambda x: x.hour)\n",
    "#rev_df['arrive_hour'] = rev_df.time.apply(lambda x: x.hour)\n",
    "#rev_df['time_to_arrival'] = rev_df[\"arrive_hour\"] - rev_df[\"call_hour\"]\n",
    "#rev_df.drop(\"arrive_hour\", axis=1, inplace=True)"
   ]
  },
  {
   "cell_type": "code",
   "execution_count": 112,
   "metadata": {},
   "outputs": [],
   "source": [
    "# make second df and keep leaky data for exploration later\n",
    "# take out event description and final call (bc you wouldn't know)\n",
    "nm_saved = nm.copy(deep=True)\n"
   ]
  },
  {
   "cell_type": "code",
   "execution_count": 116,
   "metadata": {},
   "outputs": [
    {
     "ename": "KeyError",
     "evalue": "\"['Event_Clearance_Description'] not found in axis\"",
     "output_type": "error",
     "traceback": [
      "\u001b[0;31m---------------------------------------------------------------------------\u001b[0m",
      "\u001b[0;31mKeyError\u001b[0m                                  Traceback (most recent call last)",
      "\u001b[0;32m<ipython-input-116-da837281e20e>\u001b[0m in \u001b[0;36m<module>\u001b[0;34m\u001b[0m\n\u001b[1;32m      1\u001b[0m \u001b[0;31m# need to remove ECD for now - leaky!\u001b[0m\u001b[0;34m\u001b[0m\u001b[0;34m\u001b[0m\u001b[0;34m\u001b[0m\u001b[0m\n\u001b[1;32m      2\u001b[0m \u001b[0;34m\u001b[0m\u001b[0m\n\u001b[0;32m----> 3\u001b[0;31m \u001b[0mnm\u001b[0m\u001b[0;34m.\u001b[0m\u001b[0mdrop\u001b[0m\u001b[0;34m(\u001b[0m\u001b[0;34m\"Event_Clearance_Description\"\u001b[0m\u001b[0;34m,\u001b[0m \u001b[0maxis\u001b[0m\u001b[0;34m=\u001b[0m\u001b[0;36m1\u001b[0m\u001b[0;34m,\u001b[0m \u001b[0minplace\u001b[0m\u001b[0;34m=\u001b[0m\u001b[0;32mTrue\u001b[0m\u001b[0;34m)\u001b[0m\u001b[0;34m\u001b[0m\u001b[0;34m\u001b[0m\u001b[0m\n\u001b[0m\u001b[1;32m      4\u001b[0m \u001b[0;34m\u001b[0m\u001b[0m\n",
      "\u001b[0;32m~/anaconda3/lib/python3.7/site-packages/pandas/core/frame.py\u001b[0m in \u001b[0;36mdrop\u001b[0;34m(self, labels, axis, index, columns, level, inplace, errors)\u001b[0m\n\u001b[1;32m   3938\u001b[0m                                            \u001b[0mindex\u001b[0m\u001b[0;34m=\u001b[0m\u001b[0mindex\u001b[0m\u001b[0;34m,\u001b[0m \u001b[0mcolumns\u001b[0m\u001b[0;34m=\u001b[0m\u001b[0mcolumns\u001b[0m\u001b[0;34m,\u001b[0m\u001b[0;34m\u001b[0m\u001b[0;34m\u001b[0m\u001b[0m\n\u001b[1;32m   3939\u001b[0m                                            \u001b[0mlevel\u001b[0m\u001b[0;34m=\u001b[0m\u001b[0mlevel\u001b[0m\u001b[0;34m,\u001b[0m \u001b[0minplace\u001b[0m\u001b[0;34m=\u001b[0m\u001b[0minplace\u001b[0m\u001b[0;34m,\u001b[0m\u001b[0;34m\u001b[0m\u001b[0;34m\u001b[0m\u001b[0m\n\u001b[0;32m-> 3940\u001b[0;31m                                            errors=errors)\n\u001b[0m\u001b[1;32m   3941\u001b[0m \u001b[0;34m\u001b[0m\u001b[0m\n\u001b[1;32m   3942\u001b[0m     @rewrite_axis_style_signature('mapper', [('copy', True),\n",
      "\u001b[0;32m~/anaconda3/lib/python3.7/site-packages/pandas/core/generic.py\u001b[0m in \u001b[0;36mdrop\u001b[0;34m(self, labels, axis, index, columns, level, inplace, errors)\u001b[0m\n\u001b[1;32m   3778\u001b[0m         \u001b[0;32mfor\u001b[0m \u001b[0maxis\u001b[0m\u001b[0;34m,\u001b[0m \u001b[0mlabels\u001b[0m \u001b[0;32min\u001b[0m \u001b[0maxes\u001b[0m\u001b[0;34m.\u001b[0m\u001b[0mitems\u001b[0m\u001b[0;34m(\u001b[0m\u001b[0;34m)\u001b[0m\u001b[0;34m:\u001b[0m\u001b[0;34m\u001b[0m\u001b[0;34m\u001b[0m\u001b[0m\n\u001b[1;32m   3779\u001b[0m             \u001b[0;32mif\u001b[0m \u001b[0mlabels\u001b[0m \u001b[0;32mis\u001b[0m \u001b[0;32mnot\u001b[0m \u001b[0;32mNone\u001b[0m\u001b[0;34m:\u001b[0m\u001b[0;34m\u001b[0m\u001b[0;34m\u001b[0m\u001b[0m\n\u001b[0;32m-> 3780\u001b[0;31m                 \u001b[0mobj\u001b[0m \u001b[0;34m=\u001b[0m \u001b[0mobj\u001b[0m\u001b[0;34m.\u001b[0m\u001b[0m_drop_axis\u001b[0m\u001b[0;34m(\u001b[0m\u001b[0mlabels\u001b[0m\u001b[0;34m,\u001b[0m \u001b[0maxis\u001b[0m\u001b[0;34m,\u001b[0m \u001b[0mlevel\u001b[0m\u001b[0;34m=\u001b[0m\u001b[0mlevel\u001b[0m\u001b[0;34m,\u001b[0m \u001b[0merrors\u001b[0m\u001b[0;34m=\u001b[0m\u001b[0merrors\u001b[0m\u001b[0;34m)\u001b[0m\u001b[0;34m\u001b[0m\u001b[0;34m\u001b[0m\u001b[0m\n\u001b[0m\u001b[1;32m   3781\u001b[0m \u001b[0;34m\u001b[0m\u001b[0m\n\u001b[1;32m   3782\u001b[0m         \u001b[0;32mif\u001b[0m \u001b[0minplace\u001b[0m\u001b[0;34m:\u001b[0m\u001b[0;34m\u001b[0m\u001b[0;34m\u001b[0m\u001b[0m\n",
      "\u001b[0;32m~/anaconda3/lib/python3.7/site-packages/pandas/core/generic.py\u001b[0m in \u001b[0;36m_drop_axis\u001b[0;34m(self, labels, axis, level, errors)\u001b[0m\n\u001b[1;32m   3810\u001b[0m                 \u001b[0mnew_axis\u001b[0m \u001b[0;34m=\u001b[0m \u001b[0maxis\u001b[0m\u001b[0;34m.\u001b[0m\u001b[0mdrop\u001b[0m\u001b[0;34m(\u001b[0m\u001b[0mlabels\u001b[0m\u001b[0;34m,\u001b[0m \u001b[0mlevel\u001b[0m\u001b[0;34m=\u001b[0m\u001b[0mlevel\u001b[0m\u001b[0;34m,\u001b[0m \u001b[0merrors\u001b[0m\u001b[0;34m=\u001b[0m\u001b[0merrors\u001b[0m\u001b[0;34m)\u001b[0m\u001b[0;34m\u001b[0m\u001b[0;34m\u001b[0m\u001b[0m\n\u001b[1;32m   3811\u001b[0m             \u001b[0;32melse\u001b[0m\u001b[0;34m:\u001b[0m\u001b[0;34m\u001b[0m\u001b[0;34m\u001b[0m\u001b[0m\n\u001b[0;32m-> 3812\u001b[0;31m                 \u001b[0mnew_axis\u001b[0m \u001b[0;34m=\u001b[0m \u001b[0maxis\u001b[0m\u001b[0;34m.\u001b[0m\u001b[0mdrop\u001b[0m\u001b[0;34m(\u001b[0m\u001b[0mlabels\u001b[0m\u001b[0;34m,\u001b[0m \u001b[0merrors\u001b[0m\u001b[0;34m=\u001b[0m\u001b[0merrors\u001b[0m\u001b[0;34m)\u001b[0m\u001b[0;34m\u001b[0m\u001b[0;34m\u001b[0m\u001b[0m\n\u001b[0m\u001b[1;32m   3813\u001b[0m             \u001b[0mresult\u001b[0m \u001b[0;34m=\u001b[0m \u001b[0mself\u001b[0m\u001b[0;34m.\u001b[0m\u001b[0mreindex\u001b[0m\u001b[0;34m(\u001b[0m\u001b[0;34m**\u001b[0m\u001b[0;34m{\u001b[0m\u001b[0maxis_name\u001b[0m\u001b[0;34m:\u001b[0m \u001b[0mnew_axis\u001b[0m\u001b[0;34m}\u001b[0m\u001b[0;34m)\u001b[0m\u001b[0;34m\u001b[0m\u001b[0;34m\u001b[0m\u001b[0m\n\u001b[1;32m   3814\u001b[0m \u001b[0;34m\u001b[0m\u001b[0m\n",
      "\u001b[0;32m~/anaconda3/lib/python3.7/site-packages/pandas/core/indexes/base.py\u001b[0m in \u001b[0;36mdrop\u001b[0;34m(self, labels, errors)\u001b[0m\n\u001b[1;32m   4963\u001b[0m             \u001b[0;32mif\u001b[0m \u001b[0merrors\u001b[0m \u001b[0;34m!=\u001b[0m \u001b[0;34m'ignore'\u001b[0m\u001b[0;34m:\u001b[0m\u001b[0;34m\u001b[0m\u001b[0;34m\u001b[0m\u001b[0m\n\u001b[1;32m   4964\u001b[0m                 raise KeyError(\n\u001b[0;32m-> 4965\u001b[0;31m                     '{} not found in axis'.format(labels[mask]))\n\u001b[0m\u001b[1;32m   4966\u001b[0m             \u001b[0mindexer\u001b[0m \u001b[0;34m=\u001b[0m \u001b[0mindexer\u001b[0m\u001b[0;34m[\u001b[0m\u001b[0;34m~\u001b[0m\u001b[0mmask\u001b[0m\u001b[0;34m]\u001b[0m\u001b[0;34m\u001b[0m\u001b[0;34m\u001b[0m\u001b[0m\n\u001b[1;32m   4967\u001b[0m         \u001b[0;32mreturn\u001b[0m \u001b[0mself\u001b[0m\u001b[0;34m.\u001b[0m\u001b[0mdelete\u001b[0m\u001b[0;34m(\u001b[0m\u001b[0mindexer\u001b[0m\u001b[0;34m)\u001b[0m\u001b[0;34m\u001b[0m\u001b[0;34m\u001b[0m\u001b[0m\n",
      "\u001b[0;31mKeyError\u001b[0m: \"['Event_Clearance_Description'] not found in axis\""
     ]
    }
   ],
   "source": [
    "# need to remove ECD for now - leaky!\n",
    "\n",
    "nm.drop(\"Event_Clearance_Description\", axis=1, inplace=True)\n",
    "\n"
   ]
  },
  {
   "cell_type": "code",
   "execution_count": 119,
   "metadata": {},
   "outputs": [
    {
     "data": {
      "text/plain": [
       "PREMISE CHECK, OFFICER INITIATED ONVIEW ONLY        135271\n",
       "SUSPICIOUS PERSON, VEHICLE OR INCIDENT               85572\n",
       "TRAFFIC STOP - OFFICER INITIATED ONVIEW              81414\n",
       "DISTURBANCE, MISCELLANEOUS/OTHER                     71994\n",
       "OFF DUTY EMPLOYMENT                                  55520\n",
       "THEFT (DOES NOT INCLUDE SHOPLIFT OR SVCS)            43115\n",
       "DIRECTED PATROL ACTIVITY                             40385\n",
       "NUISANCE - MISCHIEF                                  36101\n",
       "SUSPICIOUS STOP - OFFICER INITIATED ONVIEW           35141\n",
       "PARKING VIOLATION (EXCEPT ABANDONED CAR)             33563\n",
       "TRESPASS                                             32540\n",
       "FOLLOW UP                                            27953\n",
       "SHOPLIFT - THEFT                                     23039\n",
       "BURG - RES (INCL UNOCC STRUCTURES ON PROP)           22616\n",
       "ALARM - RESIDENTIAL - BURGLARY, SILENT/AUDIBLE       21619\n",
       "ALARM - COMM, SILENT/AUD BURG (INCL BANKS)           20917\n",
       "NARCOTICS - VIOLATIONS (LOITER, USE, SELL, NARS)     20317\n",
       "AUTO THEFT - VEH THEFT OR THEFT & RECOVERY           18398\n",
       "SERVICE - WELFARE CHECK                              18156\n",
       "HAZ - POTENTIAL THRT TO PHYS SAFETY (NO HAZMAT)      17952\n",
       "MVC - REPORT, NON INJ/NON BLKG OR AFTER FACT INJ     17664\n",
       "ASLT - IP/JO - WITH OR W/O WPNS (NO SHOOTINGS)       16021\n",
       "MVC - HIT AND RUN (NON INJURY), INCLUDES IP/JO       15747\n",
       "TRU - THEFT                                          14892\n",
       "AUTO RECOVERY                                        14649\n",
       "PROPERTY - DAMAGE                                    13809\n",
       "TRU - MVC - HIT AND RUN                              13627\n",
       "THREATS (INCLS IN-PERSON/BY PHONE/IN WRITING)        13430\n",
       "DOWN - CHECK FOR PERSON DOWN                         13382\n",
       "PERSON IN BEHAVIORAL/EMOTIONAL CRISIS                12793\n",
       "                                                     ...  \n",
       "-DOWN TIME - OUT OF SERVICE                              3\n",
       "BULLETIN - VIOLENT OFFENDER                              3\n",
       "JUVENILE - HARBORING A MINOR                             3\n",
       "--ASSAULTS, OTHER                                        3\n",
       "--PERSON - RUNAWAY                                       2\n",
       "--THEFT - ALL OTHER                                      2\n",
       "--FRAUD - FRAUD, INCLUDING BUNCO                         2\n",
       "PURSUIT (FOOT OR VEHICLE)                                2\n",
       "--ALARM-COMM (INC BANK, ATM, SCHOOLS, BSN)               2\n",
       "STRUCTURE - COLLAPSED, DAMAGED                           2\n",
       "UNUSUAL OCCURRENCES - EARTHQUAKE, RIOT, ETC)             2\n",
       "--ROBBERY - STRONG ARM                                   2\n",
       "--TRAFFIC - MV COLLISION INVESTIGATION                   2\n",
       "--PROPERTY DEST (DAMG)                                   1\n",
       "TRU - LITTERING                                          1\n",
       "SECONDARY - SAMPLE/TEST CALL                             1\n",
       "ALARM - NO RESPONSE STATUS                               1\n",
       "RESCUE OF PERSON                                         1\n",
       "--WARRANT SERVICES - FELONY                              1\n",
       "--TRAFFIC - D.U.I.                                       1\n",
       "--THEFT - CAR PROWL                                      1\n",
       "--MISCHIEF OR NUISANCE - GENERAL                         1\n",
       "--BURGLARY - RESIDENTIAL, UNOCCUPIED                     1\n",
       "--NARCOTICS - OTHER                                      1\n",
       "ALARM - DV - DURESS/PANIC                                1\n",
       "SECONDARY - THEFT OF SERVICES                            1\n",
       "ACC - WITH INJURIES (INCLUDES HIT AND RUN)               1\n",
       "AMBER - TIP SHEET ONLY                                   1\n",
       "--PERSON - A.W.O.L.                                      1\n",
       "--AUTOMOBILES - AUTO THEFT                               1\n",
       "Name: Initial_Call_Type, Length: 287, dtype: int64"
      ]
     },
     "execution_count": 119,
     "metadata": {},
     "output_type": "execute_result"
    }
   ],
   "source": [
    "nm.Initial_Call_Type.value_counts()"
   ]
  },
  {
   "cell_type": "code",
   "execution_count": 152,
   "metadata": {},
   "outputs": [
    {
     "data": {
      "text/plain": [
       "NUISANCE - MISCHIEF                        36101\n",
       "FIREWORKS - NUISANCE (NO HAZARD)            1048\n",
       "PHONE - OBSCENE OR NUISANCE PHONE CALLS      114\n",
       "TRU - OBSCENE OR NUISANCE PHONE CALLS        111\n",
       "TRU - NUISANCE                                 7\n",
       "--MISCHIEF OR NUISANCE - GENERAL               1\n",
       "Name: Initial_Call_Type, dtype: int64"
      ]
     },
     "execution_count": 152,
     "metadata": {},
     "output_type": "execute_result"
    }
   ],
   "source": [
    "# cool EDA\n",
    "\n",
    "call_types = nm.groupby([\"Call_Type\"]).Initial_Call_Type.value_counts()\n",
    "\n",
    "df1 = nm[nm['Initial_Call_Type'].str.contains(\"NUISANCE\") ]\n",
    "\n",
    "\n",
    "call_types[\"911\"]\n",
    "df1.Initial_Call_Type.value_counts()"
   ]
  },
  {
   "cell_type": "code",
   "execution_count": 139,
   "metadata": {},
   "outputs": [],
   "source": [
    "def initial_call_type_cats(value):    \n",
    "    if \"MVC\" in value:\n",
    "        return \"Motor Vehicle Collision\"\n",
    "    elif value.startswith(\"FRAUD\"):\n",
    "        return \"Fraud\"\n",
    "    elif \"Theft\" in value:\n",
    "        return \"THEFT\"\n",
    "    elif \"SUSPICIOUS STOP\" in value:\n",
    "        return value\n",
    "    elif \"SUSPICIOUS\" in value:\n",
    "        return \"Suspicious person, vehicle, incident\"\n",
    "    elif \"TRAFFIC STOP\" in value:\n",
    "        return value\n",
    "    elif \"ROAD RAGE\" in value:\n",
    "        return \"Road Rage\"\n",
    "    elif \"MOVING VIOLATION\" in value:\n",
    "        return \"Moving Violation\"\n",
    "    elif \"BLOCKING ROADWAY\" in value:\n",
    "        return \"Blocking Roadway\"\n",
    "    elif \"TRAFFIC\" in value:\n",
    "        return value\n",
    "    elif \"DISTURBANCE\" in value:\n",
    "        return \"Disturbance\"\n",
    "    elif \"OFF DUTY EMPLOYMENT\" in value:\n",
    "        return \"OFF DUTY EMPLOYMENT\"\n",
    "    else:\n",
    "        return value\n",
    "    \n",
    "    \n",
    "    \n",
    "    \n",
    "        \n",
    "    "
   ]
  },
  {
   "cell_type": "code",
   "execution_count": 140,
   "metadata": {},
   "outputs": [],
   "source": [
    "df = pd.DataFrame({\"col\": [\"a\", \"MVC-a\"]})\n",
    "new_col = []\n",
    "for idx, row in df.iterrows():\n",
    "    value = row.col\n",
    "    new_col.append(initial_call_type_cats(value))\n",
    "    "
   ]
  },
  {
   "cell_type": "code",
   "execution_count": 141,
   "metadata": {},
   "outputs": [
    {
     "data": {
      "text/plain": [
       "[None, 'MVC']"
      ]
     },
     "execution_count": 141,
     "metadata": {},
     "output_type": "execute_result"
    }
   ],
   "source": [
    "new_col"
   ]
  },
  {
   "cell_type": "code",
   "execution_count": 155,
   "metadata": {},
   "outputs": [
    {
     "name": "stdout",
     "output_type": "stream",
     "text": [
      "<class 'pandas.core.frame.DataFrame'>\n",
      "Index: 1459754 entries, 0 to 3986667\n",
      "Data columns (total 13 columns):\n",
      "CAD_Event_Number     1459754 non-null int64\n",
      "Force_Level          1459754 non-null object\n",
      "Precinct             1459754 non-null object\n",
      "Sector               1449873 non-null object\n",
      "Beat                 1459754 non-null object\n",
      "Subject_Race         1459754 non-null object\n",
      "Subject_Gender       1459754 non-null object\n",
      "Call_Type            1459754 non-null object\n",
      "Initial_Call_Type    1459754 non-null object\n",
      "month                1459754 non-null int64\n",
      "day                  1459754 non-null int64\n",
      "day_of_week          1459754 non-null int64\n",
      "hour                 1459754 non-null int64\n",
      "dtypes: int64(5), object(8)\n",
      "memory usage: 195.9+ MB\n"
     ]
    }
   ],
   "source": [
    "# just for this model - need to alter in the future to keep more data with which to play - especially \"call type in calls17\"\n",
    "\n",
    "nm.info()"
   ]
  },
  {
   "cell_type": "code",
   "execution_count": 153,
   "metadata": {},
   "outputs": [],
   "source": [
    "# make dummy columns for categorical \n",
    "# on a copy because I am not done with the other!\n",
    "nm2 = nm.copy(deep=True)\n",
    "nm2 = pd.get_dummies(data = nm2, \n",
    "                     columns=[\"Precinct\", \"Sector\", \"Beat\", \"Subject_Gender\", \"Subject_Race\", \"Call_Type\", \n",
    "                               \"Initial_Call_Type\"], \n",
    "                     prefix=[\"P\",  \"S\", \"B\", \"SG\", \"SR\",\"CT\", \"ICT\"])\n",
    "                              \n",
    "\n",
    "\n",
    "\n",
    "# pd.get_dummies(data=df, columns=['A', 'B'])\n",
    "                      "
   ]
  },
  {
   "cell_type": "code",
   "execution_count": 154,
   "metadata": {},
   "outputs": [
    {
     "name": "stdout",
     "output_type": "stream",
     "text": [
      "<class 'pandas.core.frame.DataFrame'>\n",
      "Index: 1459754 entries, 0 to 3986667\n",
      "Data columns (total 481 columns):\n",
      "CAD_Event_Number                                          int64\n",
      "Force_Level                                               object\n",
      "month                                                     int64\n",
      "day                                                       int64\n",
      "day_of_week                                               int64\n",
      "hour                                                      int64\n",
      "P_-                                                       uint8\n",
      "P_E                                                       uint8\n",
      "P_EAST                                                    uint8\n",
      "P_N                                                       uint8\n",
      "P_NORTH                                                   uint8\n",
      "P_S                                                       uint8\n",
      "P_SOUTH                                                   uint8\n",
      "P_SOUTHWEST                                               uint8\n",
      "P_SW                                                      uint8\n",
      "P_UNKNOWN                                                 uint8\n",
      "P_W                                                       uint8\n",
      "P_WEST                                                    uint8\n",
      "P_X                                                       uint8\n",
      "S_-                                                       uint8\n",
      "S_99                                                      uint8\n",
      "S_B                                                       uint8\n",
      "S_BOY                                                     uint8\n",
      "S_C                                                       uint8\n",
      "S_CHARLIE                                                 uint8\n",
      "S_D                                                       uint8\n",
      "S_DAVID                                                   uint8\n",
      "S_E                                                       uint8\n",
      "S_EDWARD                                                  uint8\n",
      "S_F                                                       uint8\n",
      "S_FRANK                                                   uint8\n",
      "S_G                                                       uint8\n",
      "S_GEORGE                                                  uint8\n",
      "S_J                                                       uint8\n",
      "S_JOHN                                                    uint8\n",
      "S_K                                                       uint8\n",
      "S_KING                                                    uint8\n",
      "S_L                                                       uint8\n",
      "S_LINCOLN                                                 uint8\n",
      "S_M                                                       uint8\n",
      "S_MARY                                                    uint8\n",
      "S_N                                                       uint8\n",
      "S_NORA                                                    uint8\n",
      "S_O                                                       uint8\n",
      "S_OCEAN                                                   uint8\n",
      "S_Q                                                       uint8\n",
      "S_QUEEN                                                   uint8\n",
      "S_R                                                       uint8\n",
      "S_ROBERT                                                  uint8\n",
      "S_S                                                       uint8\n",
      "S_SAM                                                     uint8\n",
      "S_U                                                       uint8\n",
      "S_UNION                                                   uint8\n",
      "S_W                                                       uint8\n",
      "S_WILLIAM                                                 uint8\n",
      "B_1                                                       uint8\n",
      "B_99                                                      uint8\n",
      "B_B1                                                      uint8\n",
      "B_B2                                                      uint8\n",
      "B_B3                                                      uint8\n",
      "B_BS                                                      uint8\n",
      "B_C1                                                      uint8\n",
      "B_C2                                                      uint8\n",
      "B_C3                                                      uint8\n",
      "B_CCD                                                     uint8\n",
      "B_CD                                                      uint8\n",
      "B_CDD                                                     uint8\n",
      "B_CMD                                                     uint8\n",
      "B_CMD2                                                    uint8\n",
      "B_COMM                                                    uint8\n",
      "B_CS                                                      uint8\n",
      "B_CTY                                                     uint8\n",
      "B_D1                                                      uint8\n",
      "B_D2                                                      uint8\n",
      "B_D3                                                      uint8\n",
      "B_DBB                                                     uint8\n",
      "B_DBD                                                     uint8\n",
      "B_DCC                                                     uint8\n",
      "B_DCD                                                     uint8\n",
      "B_DDB                                                     uint8\n",
      "B_DET                                                     uint8\n",
      "B_DS                                                      uint8\n",
      "B_DSPVD                                                   uint8\n",
      "B_E                                                       uint8\n",
      "B_E1                                                      uint8\n",
      "B_E2                                                      uint8\n",
      "B_E3                                                      uint8\n",
      "B_ED                                                      uint8\n",
      "B_EP                                                      uint8\n",
      "B_ES                                                      uint8\n",
      "B_F1                                                      uint8\n",
      "B_F2                                                      uint8\n",
      "B_F3                                                      uint8\n",
      "B_FS                                                      uint8\n",
      "B_G1                                                      uint8\n",
      "B_G2                                                      uint8\n",
      "B_G3                                                      uint8\n",
      "B_GS                                                      uint8\n",
      "B_H1                                                      uint8\n",
      "B_H2                                                      uint8\n",
      "B_H3                                                      uint8\n",
      "B_HBR                                                     uint8\n",
      "B_HS                                                      uint8\n",
      "B_INV                                                     uint8\n",
      "B_J1                                                      uint8\n",
      "B_J2                                                      uint8\n",
      "B_J3                                                      uint8\n",
      "B_JS                                                      uint8\n",
      "B_K1                                                      uint8\n",
      "B_K2                                                      uint8\n",
      "B_K3                                                      uint8\n",
      "B_KS                                                      uint8\n",
      "B_L1                                                      uint8\n",
      "B_L2                                                      uint8\n",
      "B_L3                                                      uint8\n",
      "B_LAPT                                                    uint8\n",
      "B_LS                                                      uint8\n",
      "B_M1                                                      uint8\n",
      "B_M2                                                      uint8\n",
      "B_M3                                                      uint8\n",
      "B_MS                                                      uint8\n",
      "B_MTD                                                     uint8\n",
      "B_N                                                       uint8\n",
      "B_N1                                                      uint8\n",
      "B_N2                                                      uint8\n",
      "B_N3                                                      uint8\n",
      "B_ND                                                      uint8\n",
      "B_NP                                                      uint8\n",
      "B_NS                                                      uint8\n",
      "B_O1                                                      uint8\n",
      "B_O2                                                      uint8\n",
      "B_O3                                                      uint8\n",
      "B_ODD                                                     uint8\n",
      "B_OS                                                      uint8\n",
      "B_Q1                                                      uint8\n",
      "B_Q2                                                      uint8\n",
      "B_Q3                                                      uint8\n",
      "B_QS                                                      uint8\n",
      "B_R1                                                      uint8\n",
      "B_R2                                                      uint8\n",
      "B_R3                                                      uint8\n",
      "B_RS                                                      uint8\n",
      "B_S                                                       uint8\n",
      "B_S1                                                      uint8\n",
      "B_S2                                                      uint8\n",
      "B_S3                                                      uint8\n",
      "B_SCTR1                                                   uint8\n",
      "B_SD                                                      uint8\n",
      "B_SP                                                      uint8\n",
      "B_SPVD                                                    uint8\n",
      "B_SPVDD                                                   uint8\n",
      "B_SS                                                      uint8\n",
      "B_SWT                                                     uint8\n",
      "B_T                                                       uint8\n",
      "B_TAC2                                                    uint8\n",
      "B_TAC3                                                    uint8\n",
      "B_TAC9                                                    uint8\n",
      "B_TQ                                                      uint8\n",
      "B_TRF                                                     uint8\n",
      "B_U1                                                      uint8\n",
      "B_U2                                                      uint8\n",
      "B_U3                                                      uint8\n",
      "B_US                                                      uint8\n",
      "B_W                                                       uint8\n",
      "B_W1                                                      uint8\n",
      "B_W2                                                      uint8\n",
      "B_W3                                                      uint8\n",
      "B_WD                                                      uint8\n",
      "B_WP                                                      uint8\n",
      "B_WS                                                      uint8\n",
      "B_XDD                                                     uint8\n",
      "SG_-                                                      uint8\n",
      "SG_Female                                                 uint8\n",
      "SG_Male                                                   uint8\n",
      "SG_Not Specified                                          uint8\n",
      "SR_-                                                      uint8\n",
      "SR_American Indian/Alaska Native                          uint8\n",
      "SR_Asian                                                  uint8\n",
      "SR_Black or African American                              uint8\n",
      "SR_Hispanic or Latino                                     uint8\n",
      "SR_Nat Hawaiian/Oth Pac Islander                          uint8\n",
      "SR_Not Specified                                          uint8\n",
      "SR_White                                                  uint8\n",
      "CT_911                                                    uint8\n",
      "CT_ALARM CALL (NOT POLICE ALARM)                          uint8\n",
      "CT_FK ERROR                                               uint8\n",
      "CT_HISTORY CALL (RETRO)                                   uint8\n",
      "CT_IN PERSON COMPLAINT                                    uint8\n",
      "CT_ONVIEW                                                 uint8\n",
      "CT_POLICE (VARDA) ALARM                                   uint8\n",
      "CT_PROACTIVE (OFFICER INITIATED)                          uint8\n",
      "CT_SCHEDULED EVENT (RECURRING)                            uint8\n",
      "CT_TELEPHONE OTHER, NOT 911                               uint8\n",
      "CT_TEXT MESSAGE                                           uint8\n",
      "ICT_--ALARM-COMM (INC BANK, ATM, SCHOOLS, BSN)            uint8\n",
      "ICT_--ASSAULTS, OTHER                                     uint8\n",
      "ICT_--AUTOMOBILES - AUTO THEFT                            uint8\n",
      "ICT_--BURGLARY - RESIDENTIAL, UNOCCUPIED                  uint8\n",
      "ICT_--FRAUD - FRAUD, INCLUDING BUNCO                      uint8\n",
      "ICT_--MISCHIEF OR NUISANCE - GENERAL                      uint8\n",
      "ICT_--NARCOTICS - OTHER                                   uint8\n",
      "ICT_--PERSON - A.W.O.L.                                   uint8\n",
      "ICT_--PERSON - MISSING PERSON                             uint8\n",
      "ICT_--PERSON - RUNAWAY                                    uint8\n",
      "ICT_--PROPERTY DEST (DAMG)                                uint8\n",
      "ICT_--ROBBERY - STRONG ARM                                uint8\n",
      "ICT_--THEFT - ALL OTHER                                   uint8\n",
      "ICT_--THEFT - CAR PROWL                                   uint8\n",
      "ICT_--TRAFFIC - D.U.I.                                    uint8\n",
      "ICT_--TRAFFIC - MV COLLISION INVESTIGATION                uint8\n",
      "ICT_--WARRANT SERVICES - FELONY                           uint8\n",
      "ICT_-ASSIGNED DUTY - CENTURYLINK STADIUM                  uint8\n",
      "ICT_-ASSIGNED DUTY - COMMUNITY,SCHOOL,SPECIAL EVENT       uint8\n",
      "ICT_-ASSIGNED DUTY - COURT                                uint8\n",
      "ICT_-ASSIGNED DUTY - DETAIL BY SUPERVISOR                 uint8\n",
      "ICT_-ASSIGNED DUTY - FOOT BEAT (FROM ASSIGNED CAR)        uint8\n",
      "ICT_-ASSIGNED DUTY - HOSPITAL GUARD                       uint8\n",
      "ICT_-ASSIGNED DUTY - IN-SERVICE TRAINING                  uint8\n",
      "ICT_-ASSIGNED DUTY - MEET W/ SUPERVISOR (OUT OF SVC)      uint8\n",
      "ICT_-ASSIGNED DUTY - OTHER ESCORT                         uint8\n",
      "ICT_-ASSIGNED DUTY - REPORTS                              uint8\n",
      "ICT_-ASSIGNED DUTY - SEATTLE CENTER EVENT                 uint8\n",
      "ICT_-ASSIGNED DUTY - STAKEOUT                             uint8\n",
      "ICT_-ASSIGNED DUTY - STATION DUTY (CLERK,MAIL,ETC)        uint8\n",
      "ICT_-ASSIGNED DUTY - TRANSPORT EVIDENCE,EQUIPMENT         uint8\n",
      "ICT_-DOWN TIME - OUT OF SERVICE                           uint8\n",
      "ICT_-ELEMENTARY SCHOOL VISIT                              uint8\n",
      "ICT_-GAS/MAINTENANCE/WASH/GARAGE                          uint8\n",
      "ICT_-OFF DUTY EMPLOYMENT                                  uint8\n",
      "ICT_-OUT AT RANGE                                         uint8\n",
      "ICT_-OUT OF CAR/NO REASON GIVEN                           uint8\n",
      "ICT_-OUT TO PRECINCT/STATION                              uint8\n",
      "ICT_-PRISONER ESCORT - BUSY CODE                          uint8\n",
      "ICT_ABANDONED VEHICLE                                     uint8\n",
      "ICT_ABDUCTION - IP/JO - UNK KIDNAPPING                    uint8\n",
      "ICT_ABDUCTION - NO KNOWN KIDNAPPING                       uint8\n",
      "ICT_ACC - WITH INJURIES (INCLUDES HIT AND RUN)            uint8\n",
      "ICT_ALARM - ATM MACHINE, FREE STANDING                    uint8\n",
      "ICT_ALARM - AUDIBLE AUTOMOBILE (UNOCC/ANTI-THEFT)         uint8\n",
      "ICT_ALARM - BANK (HOLD-UP)                                uint8\n",
      "ICT_ALARM - COMM, HOLD-UP/PANIC (EXCEPT BANKS)            uint8\n",
      "ICT_ALARM - COMM, SILENT/AUD BURG (INCL BANKS)            uint8\n",
      "ICT_ALARM - DURESS/PANIC,BUS/TAXI/CAR/PRSN - NOT DV       uint8\n",
      "ICT_ALARM - DV - DURESS/PANIC                             uint8\n",
      "ICT_ALARM - EQUIPMENT                                     uint8\n",
      "ICT_ALARM - NO RESPONSE STATUS                            uint8\n",
      "ICT_ALARM - RESIDENTIAL - BURGLARY, SILENT/AUDIBLE        uint8\n",
      "ICT_ALARM - RESIDENTIAL - SILENT/AUD PANIC/DURESS         uint8\n",
      "ICT_AMBER - POST ACTIVATION SEARCH                        uint8\n",
      "ICT_AMBER - TIP SHEET ONLY                                uint8\n",
      "ICT_ANIMAL - DANGEROUS                                    uint8\n",
      "ICT_ANIMAL - INJURED, DEAD HAZARD, OTHER                  uint8\n",
      "ICT_ANIMAL - IP/JO - BITE                                 uint8\n",
      "ICT_ANIMAL - IP/JO - DANGEROUS                            uint8\n",
      "ICT_ANIMAL, REPORT - BITE                                 uint8\n",
      "ICT_ARSON - IP/JO                                         uint8\n",
      "ICT_ARSON - REPORT                                        uint8\n",
      "ICT_ASLT - DV                                             uint8\n",
      "ICT_ASLT - IP/JO - DV                                     uint8\n",
      "ICT_ASLT - IP/JO - PERSON SHOT OR SHOT AT                 uint8\n",
      "ICT_ASLT - IP/JO - WITH OR W/O WPNS (NO SHOOTINGS)        uint8\n",
      "ICT_ASLT - MOLESTED ADULT (GROPED, FONDLED, ETC.)         uint8\n",
      "ICT_ASLT - PERSON SHOT OR SHOT AT                         uint8\n",
      "ICT_ASLT - WITH OR W/O WEAPONS (NO SHOOTINGS)             uint8\n",
      "ICT_ASSIST OTHER AGENCY - EMERGENCY SERVICE               uint8\n",
      "ICT_ASSIST OTHER AGENCY - ROUTINE SERVICE                 uint8\n",
      "ICT_ASSIST PUBLIC - NO WELFARE CHK OR DV ORDER SERVICE    uint8\n",
      "ICT_ASSIST SPD - ROUTINE SERVICE                          uint8\n",
      "ICT_ASSIST SPD - URGENT SERVICE                           uint8\n",
      "ICT_AUTO - THEFT/LOSS, PLATES AND/OR TAB                  uint8\n",
      "ICT_AUTO RECOVERY                                         uint8\n",
      "ICT_AUTO THEFT - VEH THEFT OR THEFT & RECOVERY            uint8\n",
      "ICT_AUTO THEFT-IP/JO - VEHICLE, PLATES, TABS              uint8\n",
      "ICT_AWOL - ADULT OR JUVENILE                              uint8\n",
      "ICT_BIAS -IP/JO - RACIAL, POLITICAL, SEXUAL MOTIVATION    uint8\n",
      "ICT_BIAS -RACIAL, POLITICAL, SEXUAL MOTIVATION            uint8\n",
      "ICT_BOMB - THREATS                                        uint8\n",
      "ICT_BOMB THREATS - IP/JO                                  uint8\n",
      "ICT_BULLETIN - VIOLENT OFFENDER                           uint8\n",
      "ICT_BURG - COMM BURGLARY (INCLUDES SCHOOLS)               uint8\n",
      "ICT_BURG - IP/JO - COMM BURG (INCLUDES SCHOOLS)           uint8\n",
      "ICT_BURG - IP/JO - RES (INCL UNOCC STRUCTURES)            uint8\n",
      "ICT_BURG - RES (INCL UNOCC STRUCTURES ON PROP)            uint8\n",
      "ICT_BURN - RECKLESS BURNING                               uint8\n",
      "ICT_CARJACKING - IP/JO - ROBBERY                          uint8\n",
      "ICT_CARJACKING - ROBBERY                                  uint8\n",
      "ICT_CHILD -  LURING                                       uint8\n",
      "ICT_CHILD - ABAND, ABUSED, MOLESTED, NEGLECTED            uint8\n",
      "ICT_CHILD - IP/JO - ABAND, ABUSE, MOLEST, NEGLECT         uint8\n",
      "ICT_CHILD - IP/JO - LURING                                uint8\n",
      "ICT_CUSTODIAL INTERFERENCE - DV                           uint8\n",
      "ICT_DEMONSTRATIONS                                        uint8\n",
      "ICT_DETOX - PICKUP (FIRE / POLICE STANDING BY)            uint8\n",
      "ICT_DETOX - REQUEST FOR                                   uint8\n",
      "ICT_DIRECTED PATROL ACTIVITY                              uint8\n",
      "ICT_DIST - DV - NO ASLT                                   uint8\n",
      "ICT_DIST - IP/JO - DV DIST - NO ASLT                      uint8\n",
      "ICT_DISTURBANCE, MISCELLANEOUS/OTHER                      uint8\n",
      "ICT_DOA - CASUALTY, DEAD BODY                             uint8\n",
      "ICT_DOWN - CHECK FOR DOWN PERSON                          uint8\n",
      "ICT_DOWN - CHECK FOR PERSON DOWN                          uint8\n",
      "ICT_DUI - DRIVING UNDER INFLUENCE                         uint8\n",
      "ICT_ESCAPE - IP/JO - PRISONER                             uint8\n",
      "ICT_ESCAPE - PRISONER                                     uint8\n",
      "ICT_EXPLOSION - IP/JO                                     uint8\n",
      "ICT_EXPLOSION WITH SIGNIFICANT DELAY                      uint8\n",
      "ICT_FIGHT - IP - PHYSICAL (NO WEAPONS)                    uint8\n",
      "ICT_FIGHT - IP/JO - WITH WEAPONS                          uint8\n",
      "ICT_FIGHT - JO - PHYSICAL (NO WEAPONS)                    uint8\n",
      "ICT_FIGHT - VERBAL/ORAL (NO WEAPONS)                      uint8\n",
      "ICT_FIGHT - WITH WEAPONS                                  uint8\n",
      "ICT_FIREWORKS - NUISANCE (NO HAZARD)                      uint8\n",
      "ICT_FOLLOW UP                                             uint8\n",
      "ICT_FOOT - ELUDING POLICE                                 uint8\n",
      "ICT_FOUND - PERSON                                        uint8\n",
      "ICT_FRAUD - FORGERY,BUNCO, SCAMS, ID THEFT, ETC           uint8\n",
      "ICT_GAMBLING                                              uint8\n",
      "ICT_HARAS - NO BIAS, THREATS OR MALICIOUSNESS             uint8\n",
      "ICT_HARBOR - WATER DEBRIS, NAVIGATIONAL HAZARDS           uint8\n",
      "ICT_HARBOR - WATER EMERGENCIES                            uint8\n",
      "ICT_HARBOR - WATER NON-EMERGENCIES                        uint8\n",
      "ICT_HAZ - IMMINENT THRT TO PHYS SAFETY (NO HAZ MAT)       uint8\n",
      "ICT_HAZ - POTENTIAL THRT TO PHYS SAFETY (NO HAZMAT)       uint8\n",
      "ICT_HAZARD - IP/JO - MUDSLIDES                            uint8\n",
      "ICT_HELP THE OFFICER                                      uint8\n",
      "ICT_HOSPITAL GUARD ASSIGNMENT                             uint8\n",
      "ICT_HZMAT - HAZ MATERIALS, LEAKS, SPILLS, OR FOUND        uint8\n",
      "ICT_ILLEGAL DUMPING                                       uint8\n",
      "ICT_INFORMATIONAL BROADCASTS                              uint8\n",
      "ICT_INFRASTRUCTURE CHECKS                                 uint8\n",
      "ICT_INJURED -  PERSON/INDUSTRIAL ACCIDENT                 uint8\n",
      "ICT_INJURED - IP/JO - PERSON/INDUSTRIAL ACCIDENT          uint8\n",
      "ICT_JUVENILE - HARBORING A MINOR                          uint8\n",
      "ICT_JUVENILE - RUNAWAY                                    uint8\n",
      "ICT_JUVENILE - RUNAWAY PICKUP                             uint8\n",
      "ICT_KNOWN KIDNAPPNG                                       uint8\n",
      "ICT_LEWD -  (EXPOSING, FLASHING, URINATING IN PUB)        uint8\n",
      "ICT_LICENSE INSPECTIONS (CHECK FOR)                       uint8\n",
      "ICT_LIQUOR VIOLATIONS - ADULT                             uint8\n",
      "ICT_LIQUOR VIOLATIONS - BUSINESS                          uint8\n",
      "ICT_LIQUOR VIOLATIONS - MINOR                             uint8\n",
      "ICT_LITTERING                                             uint8\n",
      "ICT_MENTAL - PERSON OR PICKUP/TRANSPORT                   uint8\n",
      "ICT_MISSING - (ALZHEIMER, ENDANGERED, ELDERLY)            uint8\n",
      "ICT_MISSING - ADULT                                       uint8\n",
      "ICT_MISSING - CHILD                                       uint8\n",
      "ICT_MVC - HIT AND RUN (NON INJURY), INCLUDES IP/JO        uint8\n",
      "ICT_MVC - NON INJURY, BLOCKING                            uint8\n",
      "ICT_MVC - REPORT, NON INJ/NON BLKG OR AFTER FACT INJ      uint8\n",
      "ICT_MVC - UNK INJURIES                                    uint8\n",
      "ICT_MVC - WITH INJURIES (INCLUDES HIT AND RUN)            uint8\n",
      "ICT_NARCOTICS - FOUND                                     uint8\n",
      "ICT_NARCOTICS - VIOLATION OF SODA ORDER                   uint8\n",
      "ICT_NARCOTICS - VIOLATIONS (LOITER, USE, SELL, NARS)      uint8\n",
      "ICT_NARCOTICS WARRANT SERVICE                             uint8\n",
      "ICT_NARCOTICS WARRANT SERVICE - EXECUTED, SECURED         uint8\n",
      "ICT_NO ANSWER WHEN CALLED                                 uint8\n",
      "ICT_NOISE - ANIMAL (INCLUDES BARKING DOGS)                uint8\n",
      "ICT_NOISE - DIST, GENERAL (CONST, RESID, BALL PLAY)       uint8\n",
      "ICT_NOISE - DISTURBANCE (PARTY, ETC)                      uint8\n",
      "ICT_NORAD - INCIDENTS INV AIRCRAFT (EXCL CRASHES)         uint8\n",
      "ICT_NUISANCE - MISCHIEF                                   uint8\n",
      "ICT_OFF DUTY EMPLOYMENT                                   uint8\n",
      "ICT_OPEN - BUILDING, DOOR, ETC.                           uint8\n",
      "ICT_ORDER  - SERVICE OF DV COURT ORDER                    uint8\n",
      "ICT_ORDER - ASSIST DV VIC W/SRVC OF COURT ORDER           uint8\n",
      "ICT_ORDER - IP - VIOLATION OF DV COURT ORDER              uint8\n",
      "ICT_ORDER - VIOLATING DV COURT ORDER                      uint8\n",
      "ICT_ORDER - VIOLATION OF COURT ORDER (NON DV)             uint8\n",
      "ICT_OVERDOSE - DRUG RELATED CASUALTY                      uint8\n",
      "ICT_PANHANDLING, AGGRESSIVE                               uint8\n",
      "ICT_PARKING VIOLATION (EXCEPT ABANDONED CAR)              uint8\n",
      "ICT_PARKS VIOLATIONS/CITES (INCLUDES EXCLUSIONS)          uint8\n",
      "ICT_PEACE-STANDBY TO ASSURE (NO COURT ORDR SVC)           uint8\n",
      "ICT_PEDESTRIAN VIOLATIONS                                 uint8\n",
      "ICT_PERSON IN BEHAVIORAL/EMOTIONAL CRISIS                 uint8\n",
      "ICT_PHONE - OBSCENE OR NUISANCE PHONE CALLS               uint8\n",
      "ICT_POLICE (SILENT) ALARM                                 uint8\n",
      "ICT_POWER OUT - POLES AND TRANSFORMERS                    uint8\n",
      "ICT_PREDICTIVE POLICING                                   uint8\n",
      "ICT_PREMISE CHECK, OFFICER INITIATED ONVIEW ONLY          uint8\n",
      "ICT_PREPLANNED EVENT                                      uint8\n",
      "ICT_PROPERTY - DAMAGE                                     uint8\n",
      "ICT_PROPERTY - DAMAGE (GUN RELATED)                       uint8\n",
      "ICT_PROPERTY - FOUND                                      uint8\n",
      "ICT_PROPERTY - FOUND GUN, SHELLCASINGS                    uint8\n",
      "ICT_PROPERTY - LOST OR MISSING                            uint8\n",
      "ICT_PROWLER                                               uint8\n",
      "ICT_PROWLER - IP/JO                                       uint8\n",
      "ICT_PURSE SNATCH - IP/JO - ROBBERY                        uint8\n",
      "ICT_PURSE SNATCH - ROBBERY                                uint8\n",
      "ICT_PURSUIT (FOOT OR VEHICLE)                             uint8\n",
      "ICT_RAPE                                                  uint8\n",
      "ICT_RAPE - IP/JO                                          uint8\n",
      "ICT_REQUEST TO WATCH                                      uint8\n",
      "ICT_RESCUE OF PERSON                                      uint8\n",
      "ICT_ROBBERY (INCLUDES STRONG ARM)                         uint8\n",
      "ICT_ROBBERY - IP/JO (INCLUDES STRONG ARM)                 uint8\n",
      "ICT_SAMPLE / TEST CALL ONLY                               uint8\n",
      "ICT_SECONDARY - FOLLOW UP                                 uint8\n",
      "ICT_SECONDARY - FORGERY/BUNCO/SCAMS/ID THEFT              uint8\n",
      "ICT_SECONDARY - PROPERTY DAMAGE/DESTRUCTION               uint8\n",
      "ICT_SECONDARY - PROPERTY, LOST OR MISSING                 uint8\n",
      "ICT_SECONDARY - SAMPLE/TEST CALL                          uint8\n",
      "ICT_SECONDARY - THEFT (NOT SHOPLIFT OR SERVICES)          uint8\n",
      "ICT_SECONDARY - THEFT OF SERVICES                         uint8\n",
      "ICT_SERVICE - WELFARE CHECK                               uint8\n",
      "ICT_SEX IN PUBLIC PLACE/VIEW (INCL MASTURBATION)          uint8\n",
      "ICT_SEX OFFENDER - FAILURE TO REGISTER                    uint8\n",
      "ICT_SFD - ASSIST ON FIRE OR MEDIC RESPONSE                uint8\n",
      "ICT_SHOPLIFT - THEFT                                      uint8\n",
      "ICT_SHOTS - IP/JO - INCLUDES HEARD/NO ASSAULT             uint8\n",
      "ICT_SHOTS -DELAY/INCLUDES HEARD/NO ASSAULT                uint8\n",
      "ICT_SICK PERSON                                           uint8\n",
      "ICT_SLEEPER ABOARD BUS/COMMUTER TRAIN                     uint8\n",
      "ICT_STADIUM EVENT ASSIGNMENT                              uint8\n",
      "ICT_STRUCTURE - COLLAPSED, DAMAGED                        uint8\n",
      "ICT_SUICIDE - IP/JO SUICIDAL PERSON AND ATTEMPTS          uint8\n",
      "ICT_SUICIDE, SUICIDAL PERSON AND ATTEMPTS                 uint8\n",
      "ICT_SUSPICIOUS PACKAGE                                    uint8\n",
      "ICT_SUSPICIOUS PERSON, VEHICLE OR INCIDENT                uint8\n",
      "ICT_SUSPICIOUS STOP - OFFICER INITIATED ONVIEW            uint8\n",
      "ICT_SWAT - CRITICAL INCIDENT LOGS AND CALLOUTS            uint8\n",
      "ICT_TEST CALL ONLY                                        uint8\n",
      "ICT_THEFT (DOES NOT INCLUDE SHOPLIFT OR SVCS)             uint8\n",
      "ICT_THEFT OF SERVICES                                     uint8\n",
      "ICT_THREATS (INCLS IN-PERSON/BY PHONE/IN WRITING)         uint8\n",
      "ICT_THREATS - DV - NO ASSAULT                             uint8\n",
      "ICT_TRACKING ALARM                                        uint8\n",
      "ICT_TRAF - ELUDING POLICE                                 uint8\n",
      "ICT_TRAFFIC - ASSIST MOTORIST                             uint8\n",
      "ICT_TRAFFIC - BLOCKING ROADWAY                            uint8\n",
      "ICT_TRAFFIC - BO SIGNALS AND DOWN SIGNS                   uint8\n",
      "ICT_TRAFFIC - MOVING VIOLATION                            uint8\n",
      "ICT_TRAFFIC - ROAD RAGE                                   uint8\n",
      "ICT_TRAFFIC STOP - OFFICER INITIATED ONVIEW               uint8\n",
      "ICT_TREES DOWN, OBSTRUCTING PUBLIC PROP (NO HAZ)          uint8\n",
      "ICT_TRESPASS                                              uint8\n",
      "ICT_TRU - ASLT - MOLESTED ADULT (GROPED, FONDLED, ETC)    uint8\n",
      "ICT_TRU - ASLT - WITH OR W/O WPNS (NO SHOOTINGS)          uint8\n",
      "ICT_TRU - CHILD ABUSED, NEGLECTED                         uint8\n",
      "ICT_TRU - COMMERCIAL BURGLARY                             uint8\n",
      "ICT_TRU - DISTURBANCE                                     uint8\n",
      "ICT_TRU - FOLLOW UP                                       uint8\n",
      "ICT_TRU - FORGERY/CHKS/BUNCO/SCAMS/ID THEFT               uint8\n",
      "ICT_TRU - HARASSMENT                                      uint8\n",
      "ICT_TRU - ILLEGAL DUMPING                                 uint8\n",
      "ICT_TRU - LEWD CONDUCT                                    uint8\n",
      "ICT_TRU - LITTERING                                       uint8\n",
      "ICT_TRU - MVC - HIT AND RUN                               uint8\n",
      "ICT_TRU - NUISANCE                                        uint8\n",
      "ICT_TRU - OBSCENE OR NUISANCE PHONE CALLS                 uint8\n",
      "ICT_TRU - PROPERTY DESTRUCTION/DAMAGE                     uint8\n",
      "ICT_TRU - PROPERTY, LOST OR MISSING                       uint8\n",
      "ICT_TRU - PURSE SNATCH                                    uint8\n",
      "ICT_TRU - RAPE                                            uint8\n",
      "ICT_TRU - RESIDENTIAL BURGLARY                            uint8\n",
      "ICT_TRU - ROAD RAGE                                       uint8\n",
      "ICT_TRU - ROBBERY                                         uint8\n",
      "ICT_TRU - SEX IN PUBLIC                                   uint8\n",
      "ICT_TRU - SHOPLIFT                                        uint8\n",
      "ICT_TRU - SUSPICIOUS CIRCUMSTANCES                        uint8\n",
      "ICT_TRU - THEFT                                           uint8\n",
      "ICT_TRU - THEFT OF SERVICES                               uint8\n",
      "ICT_TRU - THREATS                                         uint8\n",
      "ICT_UNKNOWN - ANI/ALI - LANDLINE (INCLUDES OPEN LINE)     uint8\n",
      "ICT_UNKNOWN - ANI/ALI - PAY PHNS (INCL OPEN LINE)         uint8\n",
      "ICT_UNKNOWN - ANI/ALI - WRLS PHNS (INCL OPEN LINE)        uint8\n",
      "ICT_UNKNOWN - COMPLAINT OF UNKNOWN NATURE                 uint8\n",
      "ICT_UNUSUAL OCCURRENCES - EARTHQUAKE, RIOT, ETC)          uint8\n",
      "ICT_VICE - PORNOGRAPHY                                    uint8\n",
      "ICT_VICE - PROSTITUTION                                   uint8\n",
      "ICT_WARRANT - FELONY PICKUP                               uint8\n",
      "ICT_WARRANT - MISD WARRANT PICKUP                         uint8\n",
      "ICT_WARRANT - SEARCH. CAUTION (EXCL NARCOTICS)            uint8\n",
      "ICT_WARRANT - SEARCH. EXECUTED, SECURED                   uint8\n",
      "ICT_WARRANT PICKUP - FROM OTHER AGENCY                    uint8\n",
      "ICT_WATER FLOODS (BROKEN MAINS/HYDRANTS, NO HAZ)          uint8\n",
      "ICT_WEAPN - GUN,DEADLY WPN (NO THRTS/ASLT/DIST)           uint8\n",
      "ICT_WEAPN-IP/JO-GUN,DEADLY WPN (NO THRT/ASLT/DIST)        uint8\n",
      "ICT_WIRES DOWN (PHONE, ELECTRICAL,ETC.)                   uint8\n",
      "dtypes: int64(5), object(1), uint8(475)\n",
      "memory usage: 739.2+ MB\n"
     ]
    }
   ],
   "source": [
    "nm2.info(verbose=True)"
   ]
  },
  {
   "cell_type": "code",
   "execution_count": 798,
   "metadata": {},
   "outputs": [],
   "source": [
    "'''# drop leaky data\n",
    "rev_df.drop([\"Event_Clearance_Description\",\"Final_Call_Type\", \"time \", \"index\", \"Incident_Num\", \"Officer_ID\",\n",
    "            \"Subject_ID\", \"CAD_Event_Number\", \"Force_Level\", \"Priority\", \"force_epoch\", \"calls_beat\", \"Call_Type\", \n",
    "             \"Original_Time_Queued\", \"time\", \"year\", \"call_epoch\",\"forceb_-\",\"Gender_Not Specified\", \n",
    "             \"Race_Not Specified\", \"Precinct\", \"Sector\"], axis=1, inplace=True )\n",
    "\n",
    "'''"
   ]
  },
  {
   "cell_type": "code",
   "execution_count": 156,
   "metadata": {},
   "outputs": [],
   "source": [
    "clf = RandomForestClassifier(n_estimators=100, max_depth=4, random_state=659, oob_score=True)\n",
    "\n"
   ]
  },
  {
   "cell_type": "code",
   "execution_count": 162,
   "metadata": {},
   "outputs": [],
   "source": [
    "y = nm2.Force_Level\n",
    "\n",
    "# X for classifier\n",
    "nm2.drop([\"Force_Level\", \"CAD_Event_Number\"], axis=1, inplace=True)\n"
   ]
  },
  {
   "cell_type": "code",
   "execution_count": 164,
   "metadata": {},
   "outputs": [],
   "source": [
    "X_scaled = StandardScaler().fit_transform(nm2)"
   ]
  },
  {
   "cell_type": "code",
   "execution_count": 165,
   "metadata": {},
   "outputs": [
    {
     "data": {
      "text/plain": [
       "((1459754,), (1459754, 479))"
      ]
     },
     "execution_count": 165,
     "metadata": {},
     "output_type": "execute_result"
    }
   ],
   "source": [
    "\n"
   ]
  },
  {
   "cell_type": "code",
   "execution_count": null,
   "metadata": {},
   "outputs": [],
   "source": [
    "X_train, X_test, y_train, y_test = train_test_split(X_scaled, y, test_size=0.2, random_state=659)\n"
   ]
  },
  {
   "cell_type": "code",
   "execution_count": 806,
   "metadata": {},
   "outputs": [
    {
     "data": {
      "text/plain": [
       "RandomForestClassifier(bootstrap=True, class_weight=None, criterion='gini',\n",
       "                       max_depth=None, max_features='auto', max_leaf_nodes=None,\n",
       "                       min_impurity_decrease=0.0, min_impurity_split=None,\n",
       "                       min_samples_leaf=1, min_samples_split=2,\n",
       "                       min_weight_fraction_leaf=0.0, n_estimators=100,\n",
       "                       n_jobs=None, oob_score=True, random_state=659, verbose=0,\n",
       "                       warm_start=False)"
      ]
     },
     "execution_count": 806,
     "metadata": {},
     "output_type": "execute_result"
    }
   ],
   "source": [
    "clf.fit(X_train, y_train) #takes three minutes"
   ]
  },
  {
   "cell_type": "code",
   "execution_count": 807,
   "metadata": {},
   "outputs": [
    {
     "data": {
      "text/plain": [
       "(177, 177)"
      ]
     },
     "execution_count": 807,
     "metadata": {},
     "output_type": "execute_result"
    }
   ],
   "source": [
    "len(clf.feature_importances_), len(cols)"
   ]
  },
  {
   "cell_type": "code",
   "execution_count": 808,
   "metadata": {},
   "outputs": [
    {
     "data": {
      "text/plain": [
       "Index(['day', 'call_hour', 'month', 'day_of_week',\n",
       "       'Race_Black or African American', 'Race_White', 'forceb_E2',\n",
       "       'forceb_M3', 'Gender_Female', 'forceb_K2', 'Gender_Male', 'forceb_M1',\n",
       "       'InitCall_DISTURBANCE, MISCELLANEOUS/OTHER', 'InitCall_ASLT',\n",
       "       'InitCall_PREMISE CHECK, OFFICER INITIATED ONVIEW ONLY', 'forceb_K3',\n",
       "       'forceb_M2', 'InitCall_SUSPICIOUS PERSON, VEHICLE OR INCIDENT',\n",
       "       'forceb_D1'],\n",
       "      dtype='object')"
      ]
     },
     "execution_count": 808,
     "metadata": {},
     "output_type": "execute_result"
    }
   ],
   "source": [
    "# most important features\n",
    "indices = np.argsort(clf.feature_importances_)\n",
    "big = indices[-1:-20:-1]\n",
    "\n",
    "cols[big]"
   ]
  },
  {
   "cell_type": "code",
   "execution_count": 809,
   "metadata": {},
   "outputs": [
    {
     "data": {
      "text/plain": [
       "Index(['InitCall_TEST CALL ONLY', 'InitCall_ANIMAL, REPORT',\n",
       "       'InitCall_EXPLOSION', 'InitCall_INFORMATIONAL BROADCASTS',\n",
       "       'InitCall_POWER OUT', 'InitCall_BOMB THREATS',\n",
       "       'InitCall_SHOTS -DELAY/INCLUDES HEARD/NO ASSAULT',\n",
       "       'InitCall_SLEEPER ABOARD BUS/COMMUTER TRAIN', 'InitCall_RAPE',\n",
       "       'InitCall_WARRANT PICKUP'],\n",
       "      dtype='object')"
      ]
     },
     "execution_count": 809,
     "metadata": {},
     "output_type": "execute_result"
    }
   ],
   "source": [
    "# least important features\n",
    "little = indices[:10]\n",
    "cols[little]\n"
   ]
  },
  {
   "cell_type": "code",
   "execution_count": 810,
   "metadata": {},
   "outputs": [
    {
     "data": {
      "text/plain": [
       "0.8989825581395349"
      ]
     },
     "execution_count": 810,
     "metadata": {},
     "output_type": "execute_result"
    }
   ],
   "source": [
    "clf.oob_score_ # accuracy of training set"
   ]
  },
  {
   "cell_type": "code",
   "execution_count": 811,
   "metadata": {},
   "outputs": [],
   "source": [
    "yhat = clf.predict(X_test)"
   ]
  },
  {
   "cell_type": "code",
   "execution_count": 812,
   "metadata": {},
   "outputs": [],
   "source": [
    "# if I were going to use this to predict the outcome, it would have to take human input and then run it through \n",
    "# all the things and make it a very long array\n",
    "\n"
   ]
  },
  {
   "cell_type": "code",
   "execution_count": 813,
   "metadata": {},
   "outputs": [
    {
     "data": {
      "text/plain": [
       "0.8930232558139535"
      ]
     },
     "execution_count": 813,
     "metadata": {},
     "output_type": "execute_result"
    }
   ],
   "source": [
    "sum(yhat == y_test) / len(yhat) # accuracy of testing set"
   ]
  },
  {
   "cell_type": "code",
   "execution_count": 814,
   "metadata": {},
   "outputs": [],
   "source": [
    "pp = clf.predict_proba(X_test)"
   ]
  },
  {
   "cell_type": "code",
   "execution_count": 815,
   "metadata": {},
   "outputs": [
    {
     "data": {
      "text/plain": [
       "array(['Level 1 - Use of Force', 'Level 2 - Use of Force',\n",
       "       'Level 3 - OIS', 'Level 3 - Use of Force'], dtype=object)"
      ]
     },
     "execution_count": 815,
     "metadata": {},
     "output_type": "execute_result"
    }
   ],
   "source": [
    "clf.classes_"
   ]
  },
  {
   "cell_type": "code",
   "execution_count": 816,
   "metadata": {},
   "outputs": [
    {
     "name": "stdout",
     "output_type": "stream",
     "text": [
      "Pr of Force 1 is: 0.7835, Pr of Force 2: 0.19649999999999998, Pr of Force 3: 0.02, & Pr of Officer Involved Shooting: 0.0\n",
      "Pr of Force 1 is: 0.09, Pr of Force 2: 0.04, Pr of Force 3: 0.87, & Pr of Officer Involved Shooting: 0.0\n",
      "Pr of Force 1 is: 0.282, Pr of Force 2: 0.718, Pr of Force 3: 0.0, & Pr of Officer Involved Shooting: 0.0\n",
      "Pr of Force 1 is: 0.09, Pr of Force 2: 0.02, Pr of Force 3: 0.89, & Pr of Officer Involved Shooting: 0.0\n",
      "Pr of Force 1 is: 0.845, Pr of Force 2: 0.125, Pr of Force 3: 0.03, & Pr of Officer Involved Shooting: 0.0\n",
      "Pr of Force 1 is: 0.99, Pr of Force 2: 0.01, Pr of Force 3: 0.0, & Pr of Officer Involved Shooting: 0.0\n",
      "Pr of Force 1 is: 1.0, Pr of Force 2: 0.0, Pr of Force 3: 0.0, & Pr of Officer Involved Shooting: 0.0\n",
      "Pr of Force 1 is: 1.0, Pr of Force 2: 0.0, Pr of Force 3: 0.0, & Pr of Officer Involved Shooting: 0.0\n",
      "Pr of Force 1 is: 0.935, Pr of Force 2: 0.065, Pr of Force 3: 0.0, & Pr of Officer Involved Shooting: 0.0\n",
      "Pr of Force 1 is: 0.97, Pr of Force 2: 0.03, Pr of Force 3: 0.0, & Pr of Officer Involved Shooting: 0.0\n"
     ]
    }
   ],
   "source": [
    "for p in pp[:10]:\n",
    "    print(f\"Pr of Force 1 is: {p[0]}, Pr of Force 2: {p[1]}, Pr of Force 3: {p[3]}, & Pr of Officer Involved Shooting: {p[2]}\")\n",
    "          \n",
    "          "
   ]
  },
  {
   "cell_type": "code",
   "execution_count": 817,
   "metadata": {},
   "outputs": [],
   "source": [
    "rdl = rev_df_leaky.copy(deep=True)"
   ]
  },
  {
   "cell_type": "code",
   "execution_count": 818,
   "metadata": {},
   "outputs": [],
   "source": [
    "race = rdl.groupby(\"Subject_Race\")"
   ]
  },
  {
   "cell_type": "code",
   "execution_count": 819,
   "metadata": {},
   "outputs": [
    {
     "data": {
      "text/plain": [
       "Level 1 - Use of Force    6303\n",
       "Level 2 - Use of Force    2108\n",
       "Level 3 - Use of Force     125\n",
       "Level 3 - OIS               64\n",
       "Name: Force_Level, dtype: int64"
      ]
     },
     "execution_count": 819,
     "metadata": {},
     "output_type": "execute_result"
    }
   ],
   "source": [
    "rdl[\"Force_Level\"].value_counts()"
   ]
  },
  {
   "cell_type": "code",
   "execution_count": 820,
   "metadata": {},
   "outputs": [
    {
     "data": {
      "text/plain": [
       "Index(['Incident_Num', 'Incident_Type', 'Precinct', 'Sector', 'Beat',\n",
       "       'Officer_ID', 'Subject_ID', 'Subject_Race', 'Subject_Gender', 'year',\n",
       "       'month', 'day', 'time', 'epoch'],\n",
       "      dtype='object')"
      ]
     },
     "execution_count": 820,
     "metadata": {},
     "output_type": "execute_result"
    }
   ],
   "source": [
    "force.columns"
   ]
  },
  {
   "cell_type": "code",
   "execution_count": 524,
   "metadata": {},
   "outputs": [
    {
     "data": {
      "text/plain": [
       "Level 1 - Use of Force    7474\n",
       "Level 2 - Use of Force    2185\n",
       "Level 3 - Use of Force     105\n",
       "Level 3 - OIS               74\n",
       "Name: Incident_Type, dtype: int64"
      ]
     },
     "execution_count": 524,
     "metadata": {},
     "output_type": "execute_result"
    }
   ],
   "source": [
    "force[\"Incident_Type\"].value_counts()"
   ]
  },
  {
   "cell_type": "code",
   "execution_count": 525,
   "metadata": {},
   "outputs": [],
   "source": [
    "# need to do gradient boosting to do partial dependency plotting\n",
    "gdbr = GradientBoostingClassifier(n_estimators=100, learning_rate=1.0,\n",
    "                                  max_depth=1, random_state=0).fit(X_scaled, y)\n"
   ]
  },
  {
   "cell_type": "code",
   "execution_count": 526,
   "metadata": {},
   "outputs": [
    {
     "data": {
      "text/plain": [
       "Index(['day', 'call_hour', 'month', 'day_of_week', 'Race_White',\n",
       "       'Race_Black or African American', 'CallType_911', 'CallType_ONVIEW',\n",
       "       'Race_Not Specified'],\n",
       "      dtype='object')"
      ]
     },
     "execution_count": 526,
     "metadata": {},
     "output_type": "execute_result"
    }
   ],
   "source": [
    "#gdbr.feature_importances_\n",
    "\n",
    "indices_gdbr = np.argsort(gdbr.feature_importances_)\n",
    "big_gdbr = indices[-1:-10:-1]\n",
    "\n",
    "cols[big_gdbr]\n"
   ]
  },
  {
   "cell_type": "code",
   "execution_count": null,
   "metadata": {},
   "outputs": [],
   "source": [
    "force3[force3.month == 12]"
   ]
  },
  {
   "cell_type": "code",
   "execution_count": null,
   "metadata": {},
   "outputs": [],
   "source": [
    "plt.hist(force3.month, bins=12);"
   ]
  },
  {
   "cell_type": "code",
   "execution_count": null,
   "metadata": {},
   "outputs": [],
   "source": [
    "list(big_gdbr)"
   ]
  },
  {
   "cell_type": "code",
   "execution_count": null,
   "metadata": {
    "scrolled": true
   },
   "outputs": [],
   "source": [
    "\n",
    "# make plots\n",
    "my_plots = plot_partial_dependence(gdbr,       \n",
    "                                   features=[131, 5361], # column numbers of plots to show\n",
    "                                   X=X,            # raw predictors data.\n",
    "                                   #feature_names=['day', 'month', 'day_of_week'],\n",
    "                                   target=[\"Level 1 - Use of Force\"],# for multi-class must use label\n",
    "                                   grid_resolution=10)"
   ]
  },
  {
   "cell_type": "code",
   "execution_count": null,
   "metadata": {},
   "outputs": [],
   "source": [
    "#gdbr.predict(X_test) \n",
    "#gdbr.predict_proba(X_test)\n",
    "gdbr.score(X_test, y_test)"
   ]
  },
  {
   "cell_type": "code",
   "execution_count": null,
   "metadata": {},
   "outputs": [],
   "source": [
    "\n",
    "importance = np.std([tree.feature_importances_\n",
    "                            for tree in clf.estimators_], axis=0)\n",
    "\n",
    "r = range(importance.shape[0])\n",
    "f = clf.feature_importances_\n",
    "yerr = importance\n",
    "\n",
    "# Extend the code to find the standard deviation of the importance for each feature across all trees. \n",
    "fig, ax = plt.subplots(1,1, figsize=(20,8), sharex=True)\n",
    "#axs.flatten()\n",
    "\n",
    "ax.errorbar(r,f, yerr=yerr)\n",
    "ax.set_title('all errorbars')\n",
    "\n",
    "\n",
    "#fig.suptitle('Errors')\n",
    "\n",
    "plt.tight_layout()\n",
    "plt.xticks(np.arange(len(r)), X.columns, rotation=\"vertical\")\n",
    "plt.show();\n",
    "#plt.bar(r, f, yerr=yerr, align=\"center\");\n",
    "\n",
    "\n"
   ]
  },
  {
   "cell_type": "code",
   "execution_count": null,
   "metadata": {},
   "outputs": [],
   "source": []
  },
  {
   "cell_type": "code",
   "execution_count": null,
   "metadata": {},
   "outputs": [],
   "source": []
  },
  {
   "cell_type": "code",
   "execution_count": null,
   "metadata": {},
   "outputs": [],
   "source": [
    "'''force3.Incident_Num.value_counts()\n",
    "t = force3[force3[\"Incident_Num\"] == 12308]\n",
    "#t.drop_duplicates(\"CAD_Event_Number\", inplace=True) # 'force_beat', 'calls_beat'\n",
    "len(t.CAD_Event_Number.value_counts()), len(t)\n",
    "t2 = t[t.force_beat.values == t.calls_beat.values]\n",
    "t2'''\n",
    "\n",
    "'''force3 = merged[merged.Force_Level == \"Level 3 - Use of Force\"]\n",
    "force2 = merged[merged.Force_Level == \"Level 2 - Use of Force\"]\n",
    "force1 = merged[merged.Force_Level == \"Level 1 - Use of Force\"]\n",
    "len(force3), len(force2), len(force1), len(merged)'''\n",
    "\n",
    "'''# group by incident number first\n",
    "\n",
    "x = force3.Subject_Race.value_counts()\n",
    "lst = list(x.values)\n",
    "plt.bar(np.arange(7), lst)\n",
    "#plt.xticks([])\n",
    "#plt.xticks()\n",
    "\n",
    "plt.xticks((0,1, 2, 3,4,5,6), ('White', 'Black or African American ', 'Not Specified ','Hispanic or Latino',\n",
    "                               'Asian','American Indian/Alaska Native ','Nat Hawaiian/Oth Pac Islander'), \n",
    "          rotation='vertical')\n",
    "plt.title(\"Level 3 Force by Race 2014-2019\");'''"
   ]
  },
  {
   "cell_type": "code",
   "execution_count": null,
   "metadata": {},
   "outputs": [],
   "source": [
    "'''force3beats = force3[force3.force_beat.values == force3.calls_beat.values]\n",
    "len(force3beats)\n",
    "f3b = force3beats.drop([\"index\", \"Force_Level\", \"Precinct\"], axis=1)\n",
    "f3b.drop(\"Sector\", axis=1, inplace=True)\n",
    "#f3b '''"
   ]
  },
  {
   "cell_type": "code",
   "execution_count": null,
   "metadata": {},
   "outputs": [],
   "source": [
    "'''#rev_df.drop([\"Subject_Gender\", \"Subject_Race\"], axis=1, inplace=True)\n",
    "rev_df.info(verbose=True)'''"
   ]
  },
  {
   "cell_type": "code",
   "execution_count": null,
   "metadata": {},
   "outputs": [],
   "source": [
    "'''y = force3.Subject_Gender.value_counts()\n",
    "lst = list(y.values)\n",
    "plt.bar(np.arange(2), lst)\n",
    "#plt.xticks([])\n",
    "#plt.xticks()\n",
    "\n",
    "plt.xticks((0,1), ('Male', 'Female'), \n",
    "          rotation='horizontal')\n",
    "plt.title(\"Level 3 Force by Gender 2014-2019\");'''"
   ]
  },
  {
   "cell_type": "code",
   "execution_count": null,
   "metadata": {},
   "outputs": [],
   "source": []
  },
  {
   "cell_type": "code",
   "execution_count": 822,
   "metadata": {},
   "outputs": [
    {
     "data": {
      "text/plain": [
       "PREMISE CHECK, OFFICER INITIATED ONVIEW ONLY      718\n",
       "DISTURBANCE, MISCELLANEOUS/OTHER                  696\n",
       "ASLT                                              520\n",
       "SUSPICIOUS PERSON, VEHICLE OR INCIDENT            439\n",
       "TRAFFIC STOP                                      439\n",
       "OFF DUTY EMPLOYMENT                               282\n",
       "FIGHT                                             278\n",
       "SUSPICIOUS STOP                                   260\n",
       "MVC                                               256\n",
       "DIST                                              228\n",
       "THEFT (DOES NOT INCLUDE SHOPLIFT OR SVCS)         211\n",
       "TRESPASS                                          204\n",
       "BURG                                              185\n",
       "AUTO RECOVERY                                     179\n",
       "DIRECTED PATROL ACTIVITY                          161\n",
       "PROPERTY                                          154\n",
       "ALARM                                             147\n",
       "WARRANT                                           146\n",
       "FOLLOW UP                                         141\n",
       "SHOPLIFT                                          139\n",
       "TRU                                               137\n",
       "NUISANCE                                          135\n",
       "-ASSIGNED DUTY                                    128\n",
       "UNKNOWN                                           125\n",
       "SUICIDE                                           123\n",
       "PARKING VIOLATION (EXCEPT ABANDONED CAR)          118\n",
       "THREATS (INCLS IN-PERSON/BY PHONE/IN WRITING)     114\n",
       "WEAPN-IP/JO-GUN,DEADLY WPN (NO THRT/ASLT/DIST)    113\n",
       "NARCOTICS                                         112\n",
       "HAZ                                               102\n",
       "                                                 ... \n",
       "AUTO                                                5\n",
       "BURN                                                5\n",
       "WATER FLOODS (BROKEN MAINS/HYDRANTS, NO HAZ)        5\n",
       "THREATS                                             5\n",
       "ORDER                                               5\n",
       "RAPE                                                5\n",
       "-OUT OF CAR/NO REASON GIVEN                         4\n",
       "AUTO THEFT-IP/JO                                    4\n",
       "CARJACKING                                          4\n",
       "DEMONSTRATIONS                                      4\n",
       "NARCOTICS WARRANT SERVICE                           4\n",
       "TRAF                                                4\n",
       "PURSE SNATCH                                        3\n",
       "DOA                                                 3\n",
       "BIAS -RACIAL, POLITICAL, SEXUAL MOTIVATION          3\n",
       "TREES DOWN, OBSTRUCTING PUBLIC PROP (NO HAZ)        3\n",
       "SLEEPER ABOARD BUS/COMMUTER TRAIN                   3\n",
       "PEDESTRIAN VIOLATIONS                               3\n",
       "SEX OFFENDER                                        2\n",
       "POLICE (SILENT) ALARM                               2\n",
       "POWER OUT                                           2\n",
       "TEST CALL ONLY                                      1\n",
       "EXPLOSION                                           1\n",
       "WARRANT PICKUP                                      1\n",
       "ANIMAL, REPORT                                      1\n",
       "HARBOR                                              1\n",
       "BOMB THREATS                                        1\n",
       "SHOTS -DELAY/INCLUDES HEARD/NO ASSAULT              1\n",
       "INFORMATIONAL BROADCASTS                            1\n",
       "MENTAL                                              1\n",
       "Name: Initial_Call_Type, Length: 113, dtype: int64"
      ]
     },
     "execution_count": 822,
     "metadata": {},
     "output_type": "execute_result"
    }
   ],
   "source": [
    "new_merged[\"Initial_Call_Type\"].value_counts()"
   ]
  },
  {
   "cell_type": "code",
   "execution_count": null,
   "metadata": {},
   "outputs": [],
   "source": []
  },
  {
   "cell_type": "markdown",
   "metadata": {},
   "source": [
    "Make a way to enter in info\n"
   ]
  },
  {
   "cell_type": "code",
   "execution_count": 705,
   "metadata": {},
   "outputs": [
    {
     "name": "stdout",
     "output_type": "stream",
     "text": [
      "2019 7 6 18\n"
     ]
    }
   ],
   "source": [
    "# time info[day, day of the week, call hour, month], location[beat, sector, precinct], gender, race, \n",
    "# initial call --> drop down menu\n",
    "# could change later to just ask for address\n",
    "\n",
    "def new_call(gender, race, reason, beat):\n",
    "    now = datetime.datetime.now()\n",
    "    month = now.month\n",
    "    day = now.day\n",
    "    hour = now.hour\n",
    "    day_of_week = now.dt.dayofweek\n",
    "    \n"
   ]
  },
  {
   "cell_type": "code",
   "execution_count": 700,
   "metadata": {},
   "outputs": [
    {
     "name": "stdout",
     "output_type": "stream",
     "text": [
      "What is your street address?1201 summit ave\n"
     ]
    }
   ],
   "source": []
  },
  {
   "cell_type": "code",
   "execution_count": null,
   "metadata": {},
   "outputs": [],
   "source": []
  }
 ],
 "metadata": {
  "kernelspec": {
   "display_name": "Python 3",
   "language": "python",
   "name": "python3"
  },
  "language_info": {
   "codemirror_mode": {
    "name": "ipython",
    "version": 3
   },
   "file_extension": ".py",
   "mimetype": "text/x-python",
   "name": "python",
   "nbconvert_exporter": "python",
   "pygments_lexer": "ipython3",
   "version": "3.7.3"
  }
 },
 "nbformat": 4,
 "nbformat_minor": 2
}
