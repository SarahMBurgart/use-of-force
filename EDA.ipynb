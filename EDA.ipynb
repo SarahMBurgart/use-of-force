{
 "cells": [
  {
   "cell_type": "code",
   "execution_count": 1,
   "metadata": {},
   "outputs": [],
   "source": [
    "import pandas as pd\n",
    "import os\n",
    "from datetime import datetime\n",
    "import sqlite3\n",
    "from sqlalchemy import create_engine\n",
    "engine = create_engine('sqlite://', echo=False)\n",
    "\n",
    "import matplotlib.pyplot as plt\n",
    "import numpy as np\n",
    "from datetime import datetime\n",
    "from sklearn.decomposition import PCA\n",
    "from sklearn.preprocessing import StandardScaler\n",
    "import seaborn as sns\n",
    "from sklearn.ensemble import RandomForestClassifier, GradientBoostingClassifier\n",
    "from sklearn.model_selection import train_test_split\n",
    "from sklearn.inspection import plot_partial_dependence\n",
    "from sklearn.inspection import partial_dependence \n",
    "\n",
    "\n",
    "%matplotlib inline"
   ]
  },
  {
   "cell_type": "code",
   "execution_count": 2,
   "metadata": {},
   "outputs": [],
   "source": [
    "# police beats interactive map - put in address and it tells you the beat!\n",
    "\n",
    "# https://www.seattle.gov/police/community-policing/mcpp-location-map\n",
    "    \n",
    "    "
   ]
  },
  {
   "cell_type": "code",
   "execution_count": 2,
   "metadata": {},
   "outputs": [],
   "source": [
    "# function to convert datetime object to 4 - for force ONLY\n",
    "def datetime(df, col_as_str):\n",
    "    yearmonthday = df[col_as_str].astype(str).str.split(\" \")\n",
    "    ymd = yearmonthday.apply(lambda x: x[0]).str.split(\"/\")\n",
    "    year = ymd.apply(lambda x: x[2])\n",
    "    month = ymd.apply(lambda x: x[0])\n",
    "    day = ymd.apply(lambda x: x[1])\n",
    "    time = ymd = yearmonthday.apply(lambda x: x[1]+x[2]).astype(str)\n",
    "    df[\"year\"] = year\n",
    "    df[\"month\"] = month\n",
    "    df[\"day\"] = day\n",
    "    tim = pd.to_datetime(time)\n",
    "    df[\"hour\"] = tim.apply(lambda x: pd.datetime.strftime(x, '%H'))\n",
    "    return df\n",
    "\n"
   ]
  },
  {
   "cell_type": "code",
   "execution_count": 3,
   "metadata": {},
   "outputs": [
    {
     "data": {
      "text/plain": [
       "(9422, 9838)"
      ]
     },
     "execution_count": 3,
     "metadata": {},
     "output_type": "execute_result"
    }
   ],
   "source": [
    "force = pd.read_csv(\"data/Use_Of_Force.csv\")\n",
    "len(force) -  len(force[force[\"Beat\"] == '-']), len(force)"
   ]
  },
  {
   "cell_type": "code",
   "execution_count": 4,
   "metadata": {},
   "outputs": [],
   "source": [
    "# change to epoch time\n",
    "force = datetime(force,\"Occured_date_time\" )\n",
    "foo = pd.to_datetime( force.Occured_date_time )\n",
    "epoch_second = foo.map(lambda x:x.value/1e9)\n",
    "\n",
    "force[\"epoch\"] = epoch_second\n"
   ]
  },
  {
   "cell_type": "code",
   "execution_count": 6,
   "metadata": {},
   "outputs": [
    {
     "data": {
      "text/plain": [
       "'lf3 = [\"Level 3 - Use of Force\", \\'Level 3 - OIS\\']\\nlf1 = [\"Level 2 - Use of Force\", \"Level 1 - Use of Force\"]\\nf1 = force[force[\"Incident_Type\"].isin(lf1)]\\nf3 = force[force[\"Incident_Type\"].isin(lf3)]\\n\\ntop10 = f3.Officer_ID.value_counts()[:10].index\\nlen(force[force[\"Officer_ID\"].isin(top10)])\\nfor officer in top10:\\n    off = f3[f3[\"Officer_ID\"] == officer]\\n    beats = off.Beat.value_counts()\\n    print(officer, beats)  '"
      ]
     },
     "execution_count": 6,
     "metadata": {},
     "output_type": "execute_result"
    }
   ],
   "source": [
    "# EDA - use to verify percentages later\n",
    "\n",
    "'''lf3 = [\"Level 3 - Use of Force\", 'Level 3 - OIS']\n",
    "lf1 = [\"Level 2 - Use of Force\", \"Level 1 - Use of Force\"]\n",
    "f1 = force[force[\"Incident_Type\"].isin(lf1)]\n",
    "f3 = force[force[\"Incident_Type\"].isin(lf3)]\n",
    "\n",
    "top10 = f3.Officer_ID.value_counts()[:10].index\n",
    "len(force[force[\"Officer_ID\"].isin(top10)])\n",
    "for officer in top10:\n",
    "    off = f3[f3[\"Officer_ID\"] == officer]\n",
    "    beats = off.Beat.value_counts()\n",
    "    print(officer, beats)  '''\n",
    "\n",
    "# could look at incidents and see if they are related to officer OR beat or some of each"
   ]
  },
  {
   "cell_type": "code",
   "execution_count": 7,
   "metadata": {},
   "outputs": [
    {
     "data": {
      "text/plain": [
       "'beats = force.groupby(\"Beat\")\\nvc = beats[\"Incident_Type\"].value_counts()\\nvc = pd.DataFrame(vc)\\nvc.values\\nOIS_dict = {}\\n#vc.index[3][1]\\nfor i in range(vc.shape[0]):\\n    if vc.index[i][1]== \"Level 3 - OIS\":\\n        OIS_dict[vc.index[i][0]] = vc.values[i][0]\\nOIS_dict'"
      ]
     },
     "execution_count": 7,
     "metadata": {},
     "output_type": "execute_result"
    }
   ],
   "source": [
    "# EDA - use to verify percentages later\n",
    "\n",
    "'''beats = force.groupby(\"Beat\")\n",
    "vc = beats[\"Incident_Type\"].value_counts()\n",
    "vc = pd.DataFrame(vc)\n",
    "vc.values\n",
    "OIS_dict = {}\n",
    "#vc.index[3][1]\n",
    "for i in range(vc.shape[0]):\n",
    "    if vc.index[i][1]== \"Level 3 - OIS\":\n",
    "        OIS_dict[vc.index[i][0]] = vc.values[i][0]\n",
    "OIS_dict'''"
   ]
  },
  {
   "cell_type": "code",
   "execution_count": 5,
   "metadata": {},
   "outputs": [],
   "source": [
    "# remove repetitive columns (incident type, officer id and subject id are in ID respectively)\n",
    "\n",
    "force = force.drop(columns=[\"Occured_date_time\", \"ID\"])\n"
   ]
  },
  {
   "cell_type": "code",
   "execution_count": 13,
   "metadata": {},
   "outputs": [],
   "source": [
    "#force.Incident_Num.value_counts()"
   ]
  },
  {
   "cell_type": "code",
   "execution_count": 6,
   "metadata": {},
   "outputs": [],
   "source": [
    "# create engine\n",
    "cnx = sqlite3.connect('calls.sqlite')"
   ]
  },
  {
   "cell_type": "code",
   "execution_count": 7,
   "metadata": {},
   "outputs": [],
   "source": [
    "# create cursor\n",
    "cur = cnx.cursor()\n"
   ]
  },
  {
   "cell_type": "code",
   "execution_count": 8,
   "metadata": {},
   "outputs": [
    {
     "ename": "OperationalError",
     "evalue": "no such table: log",
     "output_type": "error",
     "traceback": [
      "\u001b[0;31m---------------------------------------------------------------------------\u001b[0m",
      "\u001b[0;31mOperationalError\u001b[0m                          Traceback (most recent call last)",
      "\u001b[0;32m<ipython-input-8-a36653ebbc7a>\u001b[0m in \u001b[0;36m<module>\u001b[0;34m\u001b[0m\n\u001b[1;32m     12\u001b[0m \u001b[0;34m\u001b[0m\u001b[0m\n\u001b[1;32m     13\u001b[0m     \u001b[0;32mif\u001b[0m \u001b[0mrowbeat\u001b[0m \u001b[0;34m==\u001b[0m \u001b[0;34m'-'\u001b[0m\u001b[0;34m:\u001b[0m\u001b[0;34m\u001b[0m\u001b[0;34m\u001b[0m\u001b[0m\n\u001b[0;32m---> 14\u001b[0;31m         \u001b[0mvals\u001b[0m \u001b[0;34m=\u001b[0m \u001b[0mcur\u001b[0m\u001b[0;34m.\u001b[0m\u001b[0mexecute\u001b[0m\u001b[0;34m(\u001b[0m\u001b[0;34mf\"select * from log where epoch_calls BETWEEN ({value} - 120) AND {value} \"\u001b[0m\u001b[0;34m)\u001b[0m\u001b[0;34m.\u001b[0m\u001b[0mfetchall\u001b[0m\u001b[0;34m(\u001b[0m\u001b[0;34m)\u001b[0m\u001b[0;34m\u001b[0m\u001b[0;34m\u001b[0m\u001b[0m\n\u001b[0m\u001b[1;32m     15\u001b[0m     \u001b[0;32melse\u001b[0m\u001b[0;34m:\u001b[0m\u001b[0;34m\u001b[0m\u001b[0;34m\u001b[0m\u001b[0m\n\u001b[1;32m     16\u001b[0m         \u001b[0mvals\u001b[0m \u001b[0;34m=\u001b[0m \u001b[0mcur\u001b[0m\u001b[0;34m.\u001b[0m\u001b[0mexecute\u001b[0m\u001b[0;34m(\u001b[0m\u001b[0;34mf\"select * from log where epoch_calls BETWEEN ({value} - 3000) AND {value} \"\u001b[0m\u001b[0;34m)\u001b[0m\u001b[0;34m.\u001b[0m\u001b[0mfetchall\u001b[0m\u001b[0;34m(\u001b[0m\u001b[0;34m)\u001b[0m\u001b[0;34m\u001b[0m\u001b[0;34m\u001b[0m\u001b[0m\n",
      "\u001b[0;31mOperationalError\u001b[0m: no such table: log"
     ]
    }
   ],
   "source": [
    "# iterate through the dataframe 'force', make a bunch of new rows, and then make a dataframe out of those\n",
    "\n",
    "new_row = []\n",
    "#val_lst = []\n",
    "for ix, row in force.iterrows():\n",
    "    # query the 911 calls database\n",
    "    # for each call, append to a bunch of records that we're building up into a dataframe\n",
    "    \n",
    "        \n",
    "    value = row.epoch\n",
    "    rowbeat = row.Beat\n",
    "    \n",
    "    if rowbeat == '-':\n",
    "        vals = cur.execute(f\"select * from log where epoch_calls BETWEEN ({value} - 120) AND {value} \").fetchall()\n",
    "    else:\n",
    "        vals = cur.execute(f\"select * from log where epoch_calls BETWEEN ({value} - 3000) AND {value} \").fetchall()\n",
    "    #val_lst.extend([value, val[0]])\n",
    "    cnx.commit()\n",
    "    \n",
    "    for val in vals:\n",
    "        new_row.extend( [[ix,  val[0], row.epoch, row.Incident_Num, row.Officer_ID, row.Subject_ID, val[1], val[2],\n",
    "                        row.Incident_Type, row.Precinct, \n",
    "                        row.Sector, row.Beat, val[8], val[4],\n",
    "                        row.Subject_Race, row.Subject_Gender, val[3], val[5], val[6], \n",
    "                        val[7], row.year, row.month, row.day, row.time] ])\n",
    "  "
   ]
  },
  {
   "cell_type": "code",
   "execution_count": 12,
   "metadata": {},
   "outputs": [],
   "source": [
    "# make dataframe from force dateframe and returned SQL table info (from calls table)\n",
    "\n",
    "merged = pd.DataFrame(new_row, columns=[\"index\",\"call_epoch\", \"force_epoch\", \"Incident_Num\", \"Officer_ID\",\n",
    "                                        \"Subject_ID\", \"CAD_Event_Number\", \"Event_Clearance_Description\",\n",
    "                                \"Force_Level\", \"Precinct\", \n",
    "                                \"Sector\", \"force_beat\", \"calls_beat\", \"Priority\",\n",
    "                                \"Subject_Race\", \"Subject_Gender\",\"Call_Type\", \"Initial_Call_Type\", \"Final_Call_Type\",\n",
    "                                \"Original_Time_Queued\", \"year\", \"month\",\"day\", \"time \" ])\n",
    "\n"
   ]
  },
  {
   "cell_type": "code",
   "execution_count": 13,
   "metadata": {},
   "outputs": [],
   "source": [
    "# if the rows have an associated beat and they don't match - drop them as a mismatched double\n",
    "new_merged = []\n",
    "for ix, row in merged.iterrows():\n",
    "    forc = row.force_beat\n",
    "    cal = row.calls_beat\n",
    "    if forc != '-':\n",
    "        if forc != cal:\n",
    "            pass\n",
    "        else:\n",
    "            new_merged.append(row)\n",
    "    else:\n",
    "        new_merged.append(row)"
   ]
  },
  {
   "cell_type": "code",
   "execution_count": 14,
   "metadata": {},
   "outputs": [],
   "source": [
    "# make it into a dataframe\n",
    "new_merged = pd.DataFrame(new_merged)\n"
   ]
  },
  {
   "cell_type": "code",
   "execution_count": 15,
   "metadata": {},
   "outputs": [],
   "source": [
    "# looking at duplicated CAD_E_Nums\n",
    "dfrs = new_merged[\"CAD_Event_Number\"].value_counts()\n",
    "two = []\n",
    "for v, i in zip(dfrs.values, dfrs.index):\n",
    "    if v >1:\n",
    "        two.append(i)\n",
    "# len(two) == 362  \n",
    "s = [x > 1 for x in dfrs]\n",
    "dd =dfrs[s]\n",
    "t = new_merged[new_merged[\"CAD_Event_Number\"].isin(two)]\n"
   ]
  },
  {
   "cell_type": "code",
   "execution_count": 16,
   "metadata": {},
   "outputs": [],
   "source": [
    "# make numeric\n",
    "rev_df = new_merged.replace(\"-1\", -1)\n",
    "rev_df[\"Original_Time_Queued\"] = pd.to_datetime(rev_df[\"Original_Time_Queued\"])\n",
    "rev_df[\"day_of_week\"] = rev_df[\"Original_Time_Queued\"].dt.dayofweek\n"
   ]
  },
  {
   "cell_type": "code",
   "execution_count": 17,
   "metadata": {},
   "outputs": [],
   "source": [
    "# bring in rest of calls dataframe\n",
    "calls = pd.read_csv(\"data/Call_Data.csv\")"
   ]
  },
  {
   "cell_type": "code",
   "execution_count": 18,
   "metadata": {},
   "outputs": [],
   "source": [
    "def callstime(df, col_arrive):\n",
    "    yearmonthday = df[col_arrive].astype(str).str.split(\" \")\n",
    "    df[\"year\"] = yearmonthday.apply(lambda x: x[2])\n",
    "    df[\"day\"] = yearmonthday.apply(lambda x: x[1])\n",
    "    month_dict = {\"Jan\": 1, \"Feb\": 2, \"Mar\": 3, \"Apr\": 4, \"May\": 5, \"Jun\": 6, \"Jul\": 7, \"Aug\": 8, \"Sep\": 9, \"Oct\": 10, \"Nov\": 11, \"Dec\":12}\n",
    "    df[\"month\"] = yearmonthday.apply(lambda x: month_dict[x[0]])\n",
    "    time = yearmonthday.apply(lambda x: x[3])\n",
    "    tim = time.astype(str).str.split(\":\")\n",
    "    df[\"hour\"] = tim.apply(lambda x: x[0])\n",
    "    return df\n",
    "\n",
    "calls = callstime(calls,\"Arrived Time\")\n",
    "\n"
   ]
  },
  {
   "cell_type": "code",
   "execution_count": 19,
   "metadata": {},
   "outputs": [],
   "source": [
    "# make the df smaller \n",
    "calls17 = pd.DataFrame(calls[calls[\"year\"].isin([\"2014\", \"2015\", \"2016\", \"2017\", \"2018\", \"2019\"])])\n"
   ]
  },
  {
   "cell_type": "code",
   "execution_count": 20,
   "metadata": {},
   "outputs": [],
   "source": [
    "#s = pd.to_datetime(calls17[\"Original Time Queued\"], infer_datetime_format=True)\n",
    "#(calls17[\"time\"])\n",
    "\n",
    "#.apply(lambda x: pd.datetime.strftime(x, '%H:%M:%S'))\n",
    "\n",
    "#s = s.apply(lambda x: pd.datetime.strftime(x, '%H'))"
   ]
  },
  {
   "cell_type": "code",
   "execution_count": 66,
   "metadata": {},
   "outputs": [
    {
     "ename": "KeyboardInterrupt",
     "evalue": "",
     "output_type": "error",
     "traceback": [
      "\u001b[0;31m---------------------------------------------------------------------------\u001b[0m",
      "\u001b[0;31mValueError\u001b[0m                                Traceback (most recent call last)",
      "\u001b[0;32mpandas/_libs/tslib.pyx\u001b[0m in \u001b[0;36mpandas._libs.tslib.array_to_datetime\u001b[0;34m()\u001b[0m\n",
      "\u001b[0;32mpandas/_libs/tslibs/np_datetime.pyx\u001b[0m in \u001b[0;36mpandas._libs.tslibs.np_datetime._string_to_dts\u001b[0;34m()\u001b[0m\n",
      "\u001b[0;31mValueError\u001b[0m: Error parsing datetime string \"06/27/2014 07:19:05 AM\" at position 2",
      "\nDuring handling of the above exception, another exception occurred:\n",
      "\u001b[0;31mKeyboardInterrupt\u001b[0m                         Traceback (most recent call last)",
      "\u001b[0;32m<ipython-input-66-fa38cf7008b5>\u001b[0m in \u001b[0;36m<module>\u001b[0;34m\u001b[0m\n\u001b[1;32m      1\u001b[0m \u001b[0;31m# change O_t_q to dt\u001b[0m\u001b[0;34m\u001b[0m\u001b[0;34m\u001b[0m\u001b[0;34m\u001b[0m\u001b[0m\n\u001b[0;32m----> 2\u001b[0;31m \u001b[0ms\u001b[0m \u001b[0;34m=\u001b[0m \u001b[0mcalls17\u001b[0m\u001b[0;34m[\u001b[0m\u001b[0;34m\"Original Time Queued\"\u001b[0m\u001b[0;34m]\u001b[0m\u001b[0;34m.\u001b[0m\u001b[0mapply\u001b[0m\u001b[0;34m(\u001b[0m\u001b[0;32mlambda\u001b[0m \u001b[0mx\u001b[0m\u001b[0;34m:\u001b[0m \u001b[0mpd\u001b[0m\u001b[0;34m.\u001b[0m\u001b[0mto_datetime\u001b[0m\u001b[0;34m(\u001b[0m\u001b[0mx\u001b[0m\u001b[0;34m)\u001b[0m\u001b[0;34m)\u001b[0m\u001b[0;34m\u001b[0m\u001b[0;34m\u001b[0m\u001b[0m\n\u001b[0m",
      "\u001b[0;32m~/anaconda3/lib/python3.7/site-packages/pandas/core/series.py\u001b[0m in \u001b[0;36mapply\u001b[0;34m(self, func, convert_dtype, args, **kwds)\u001b[0m\n\u001b[1;32m   3589\u001b[0m             \u001b[0;32melse\u001b[0m\u001b[0;34m:\u001b[0m\u001b[0;34m\u001b[0m\u001b[0;34m\u001b[0m\u001b[0m\n\u001b[1;32m   3590\u001b[0m                 \u001b[0mvalues\u001b[0m \u001b[0;34m=\u001b[0m \u001b[0mself\u001b[0m\u001b[0;34m.\u001b[0m\u001b[0mastype\u001b[0m\u001b[0;34m(\u001b[0m\u001b[0mobject\u001b[0m\u001b[0;34m)\u001b[0m\u001b[0;34m.\u001b[0m\u001b[0mvalues\u001b[0m\u001b[0;34m\u001b[0m\u001b[0;34m\u001b[0m\u001b[0m\n\u001b[0;32m-> 3591\u001b[0;31m                 \u001b[0mmapped\u001b[0m \u001b[0;34m=\u001b[0m \u001b[0mlib\u001b[0m\u001b[0;34m.\u001b[0m\u001b[0mmap_infer\u001b[0m\u001b[0;34m(\u001b[0m\u001b[0mvalues\u001b[0m\u001b[0;34m,\u001b[0m \u001b[0mf\u001b[0m\u001b[0;34m,\u001b[0m \u001b[0mconvert\u001b[0m\u001b[0;34m=\u001b[0m\u001b[0mconvert_dtype\u001b[0m\u001b[0;34m)\u001b[0m\u001b[0;34m\u001b[0m\u001b[0;34m\u001b[0m\u001b[0m\n\u001b[0m\u001b[1;32m   3592\u001b[0m \u001b[0;34m\u001b[0m\u001b[0m\n\u001b[1;32m   3593\u001b[0m         \u001b[0;32mif\u001b[0m \u001b[0mlen\u001b[0m\u001b[0;34m(\u001b[0m\u001b[0mmapped\u001b[0m\u001b[0;34m)\u001b[0m \u001b[0;32mand\u001b[0m \u001b[0misinstance\u001b[0m\u001b[0;34m(\u001b[0m\u001b[0mmapped\u001b[0m\u001b[0;34m[\u001b[0m\u001b[0;36m0\u001b[0m\u001b[0;34m]\u001b[0m\u001b[0;34m,\u001b[0m \u001b[0mSeries\u001b[0m\u001b[0;34m)\u001b[0m\u001b[0;34m:\u001b[0m\u001b[0;34m\u001b[0m\u001b[0;34m\u001b[0m\u001b[0m\n",
      "\u001b[0;32mpandas/_libs/lib.pyx\u001b[0m in \u001b[0;36mpandas._libs.lib.map_infer\u001b[0;34m()\u001b[0m\n",
      "\u001b[0;32m<ipython-input-66-fa38cf7008b5>\u001b[0m in \u001b[0;36m<lambda>\u001b[0;34m(x)\u001b[0m\n\u001b[1;32m      1\u001b[0m \u001b[0;31m# change O_t_q to dt\u001b[0m\u001b[0;34m\u001b[0m\u001b[0;34m\u001b[0m\u001b[0;34m\u001b[0m\u001b[0m\n\u001b[0;32m----> 2\u001b[0;31m \u001b[0ms\u001b[0m \u001b[0;34m=\u001b[0m \u001b[0mcalls17\u001b[0m\u001b[0;34m[\u001b[0m\u001b[0;34m\"Original Time Queued\"\u001b[0m\u001b[0;34m]\u001b[0m\u001b[0;34m.\u001b[0m\u001b[0mapply\u001b[0m\u001b[0;34m(\u001b[0m\u001b[0;32mlambda\u001b[0m \u001b[0mx\u001b[0m\u001b[0;34m:\u001b[0m \u001b[0mpd\u001b[0m\u001b[0;34m.\u001b[0m\u001b[0mto_datetime\u001b[0m\u001b[0;34m(\u001b[0m\u001b[0mx\u001b[0m\u001b[0;34m)\u001b[0m\u001b[0;34m)\u001b[0m\u001b[0;34m\u001b[0m\u001b[0;34m\u001b[0m\u001b[0m\n\u001b[0m",
      "\u001b[0;32m~/anaconda3/lib/python3.7/site-packages/pandas/core/tools/datetimes.py\u001b[0m in \u001b[0;36mto_datetime\u001b[0;34m(arg, errors, dayfirst, yearfirst, utc, box, format, exact, unit, infer_datetime_format, origin, cache)\u001b[0m\n\u001b[1;32m    609\u001b[0m             \u001b[0mresult\u001b[0m \u001b[0;34m=\u001b[0m \u001b[0mconvert_listlike\u001b[0m\u001b[0;34m(\u001b[0m\u001b[0marg\u001b[0m\u001b[0;34m,\u001b[0m \u001b[0mbox\u001b[0m\u001b[0;34m,\u001b[0m \u001b[0mformat\u001b[0m\u001b[0;34m)\u001b[0m\u001b[0;34m\u001b[0m\u001b[0;34m\u001b[0m\u001b[0m\n\u001b[1;32m    610\u001b[0m     \u001b[0;32melse\u001b[0m\u001b[0;34m:\u001b[0m\u001b[0;34m\u001b[0m\u001b[0;34m\u001b[0m\u001b[0m\n\u001b[0;32m--> 611\u001b[0;31m         \u001b[0mresult\u001b[0m \u001b[0;34m=\u001b[0m \u001b[0mconvert_listlike\u001b[0m\u001b[0;34m(\u001b[0m\u001b[0mnp\u001b[0m\u001b[0;34m.\u001b[0m\u001b[0marray\u001b[0m\u001b[0;34m(\u001b[0m\u001b[0;34m[\u001b[0m\u001b[0marg\u001b[0m\u001b[0;34m]\u001b[0m\u001b[0;34m)\u001b[0m\u001b[0;34m,\u001b[0m \u001b[0mbox\u001b[0m\u001b[0;34m,\u001b[0m \u001b[0mformat\u001b[0m\u001b[0;34m)\u001b[0m\u001b[0;34m[\u001b[0m\u001b[0;36m0\u001b[0m\u001b[0;34m]\u001b[0m\u001b[0;34m\u001b[0m\u001b[0;34m\u001b[0m\u001b[0m\n\u001b[0m\u001b[1;32m    612\u001b[0m \u001b[0;34m\u001b[0m\u001b[0m\n\u001b[1;32m    613\u001b[0m     \u001b[0;32mreturn\u001b[0m \u001b[0mresult\u001b[0m\u001b[0;34m\u001b[0m\u001b[0;34m\u001b[0m\u001b[0m\n",
      "\u001b[0;32m~/anaconda3/lib/python3.7/site-packages/pandas/core/tools/datetimes.py\u001b[0m in \u001b[0;36m_convert_listlike_datetimes\u001b[0;34m(arg, box, format, name, tz, unit, errors, infer_datetime_format, dayfirst, yearfirst, exact)\u001b[0m\n\u001b[1;32m    300\u001b[0m             \u001b[0marg\u001b[0m\u001b[0;34m,\u001b[0m \u001b[0mdayfirst\u001b[0m\u001b[0;34m=\u001b[0m\u001b[0mdayfirst\u001b[0m\u001b[0;34m,\u001b[0m \u001b[0myearfirst\u001b[0m\u001b[0;34m=\u001b[0m\u001b[0myearfirst\u001b[0m\u001b[0;34m,\u001b[0m\u001b[0;34m\u001b[0m\u001b[0;34m\u001b[0m\u001b[0m\n\u001b[1;32m    301\u001b[0m             \u001b[0mutc\u001b[0m\u001b[0;34m=\u001b[0m\u001b[0mutc\u001b[0m\u001b[0;34m,\u001b[0m \u001b[0merrors\u001b[0m\u001b[0;34m=\u001b[0m\u001b[0merrors\u001b[0m\u001b[0;34m,\u001b[0m \u001b[0mrequire_iso8601\u001b[0m\u001b[0;34m=\u001b[0m\u001b[0mrequire_iso8601\u001b[0m\u001b[0;34m,\u001b[0m\u001b[0;34m\u001b[0m\u001b[0;34m\u001b[0m\u001b[0m\n\u001b[0;32m--> 302\u001b[0;31m             allow_object=True)\n\u001b[0m\u001b[1;32m    303\u001b[0m \u001b[0;34m\u001b[0m\u001b[0m\n\u001b[1;32m    304\u001b[0m     \u001b[0;32mif\u001b[0m \u001b[0mtz_parsed\u001b[0m \u001b[0;32mis\u001b[0m \u001b[0;32mnot\u001b[0m \u001b[0;32mNone\u001b[0m\u001b[0;34m:\u001b[0m\u001b[0;34m\u001b[0m\u001b[0;34m\u001b[0m\u001b[0m\n",
      "\u001b[0;32m~/anaconda3/lib/python3.7/site-packages/pandas/core/arrays/datetimes.py\u001b[0m in \u001b[0;36mobjects_to_datetime64ns\u001b[0;34m(data, dayfirst, yearfirst, utc, errors, require_iso8601, allow_object)\u001b[0m\n\u001b[1;32m   1855\u001b[0m             \u001b[0mdayfirst\u001b[0m\u001b[0;34m=\u001b[0m\u001b[0mdayfirst\u001b[0m\u001b[0;34m,\u001b[0m\u001b[0;34m\u001b[0m\u001b[0;34m\u001b[0m\u001b[0m\n\u001b[1;32m   1856\u001b[0m             \u001b[0myearfirst\u001b[0m\u001b[0;34m=\u001b[0m\u001b[0myearfirst\u001b[0m\u001b[0;34m,\u001b[0m\u001b[0;34m\u001b[0m\u001b[0;34m\u001b[0m\u001b[0m\n\u001b[0;32m-> 1857\u001b[0;31m             \u001b[0mrequire_iso8601\u001b[0m\u001b[0;34m=\u001b[0m\u001b[0mrequire_iso8601\u001b[0m\u001b[0;34m\u001b[0m\u001b[0;34m\u001b[0m\u001b[0m\n\u001b[0m\u001b[1;32m   1858\u001b[0m         )\n\u001b[1;32m   1859\u001b[0m     \u001b[0;32mexcept\u001b[0m \u001b[0mValueError\u001b[0m \u001b[0;32mas\u001b[0m \u001b[0me\u001b[0m\u001b[0;34m:\u001b[0m\u001b[0;34m\u001b[0m\u001b[0;34m\u001b[0m\u001b[0m\n",
      "\u001b[0;32mpandas/_libs/tslib.pyx\u001b[0m in \u001b[0;36mpandas._libs.tslib.array_to_datetime\u001b[0;34m()\u001b[0m\n",
      "\u001b[0;32mpandas/_libs/tslib.pyx\u001b[0m in \u001b[0;36mpandas._libs.tslib.array_to_datetime\u001b[0;34m()\u001b[0m\n",
      "\u001b[0;32mpandas/_libs/tslibs/parsing.pyx\u001b[0m in \u001b[0;36mpandas._libs.tslibs.parsing.parse_datetime_string\u001b[0;34m()\u001b[0m\n",
      "\u001b[0;32mpandas/_libs/tslibs/parsing.pyx\u001b[0m in \u001b[0;36mpandas._libs.tslibs.parsing._parse_dateabbr_string\u001b[0;34m()\u001b[0m\n",
      "\u001b[0;32m~/anaconda3/lib/python3.7/_strptime.py\u001b[0m in \u001b[0;36m_strptime_datetime\u001b[0;34m(cls, data_string, format)\u001b[0m\n\u001b[1;32m    575\u001b[0m     \"\"\"Return a class cls instance based on the input string and the\n\u001b[1;32m    576\u001b[0m     format string.\"\"\"\n\u001b[0;32m--> 577\u001b[0;31m     \u001b[0mtt\u001b[0m\u001b[0;34m,\u001b[0m \u001b[0mfraction\u001b[0m\u001b[0;34m,\u001b[0m \u001b[0mgmtoff_fraction\u001b[0m \u001b[0;34m=\u001b[0m \u001b[0m_strptime\u001b[0m\u001b[0;34m(\u001b[0m\u001b[0mdata_string\u001b[0m\u001b[0;34m,\u001b[0m \u001b[0mformat\u001b[0m\u001b[0;34m)\u001b[0m\u001b[0;34m\u001b[0m\u001b[0;34m\u001b[0m\u001b[0m\n\u001b[0m\u001b[1;32m    578\u001b[0m     \u001b[0mtzname\u001b[0m\u001b[0;34m,\u001b[0m \u001b[0mgmtoff\u001b[0m \u001b[0;34m=\u001b[0m \u001b[0mtt\u001b[0m\u001b[0;34m[\u001b[0m\u001b[0;34m-\u001b[0m\u001b[0;36m2\u001b[0m\u001b[0;34m:\u001b[0m\u001b[0;34m]\u001b[0m\u001b[0;34m\u001b[0m\u001b[0;34m\u001b[0m\u001b[0m\n\u001b[1;32m    579\u001b[0m     \u001b[0margs\u001b[0m \u001b[0;34m=\u001b[0m \u001b[0mtt\u001b[0m\u001b[0;34m[\u001b[0m\u001b[0;34m:\u001b[0m\u001b[0;36m6\u001b[0m\u001b[0;34m]\u001b[0m \u001b[0;34m+\u001b[0m \u001b[0;34m(\u001b[0m\u001b[0mfraction\u001b[0m\u001b[0;34m,\u001b[0m\u001b[0;34m)\u001b[0m\u001b[0;34m\u001b[0m\u001b[0;34m\u001b[0m\u001b[0m\n",
      "\u001b[0;32m~/anaconda3/lib/python3.7/_strptime.py\u001b[0m in \u001b[0;36m_strptime\u001b[0;34m(data_string, format)\u001b[0m\n\u001b[1;32m    354\u001b[0m                 \u001b[0;32mraise\u001b[0m \u001b[0mValueError\u001b[0m\u001b[0;34m(\u001b[0m\u001b[0;34m\"stray %% in format '%s'\"\u001b[0m \u001b[0;34m%\u001b[0m \u001b[0mformat\u001b[0m\u001b[0;34m)\u001b[0m \u001b[0;32mfrom\u001b[0m \u001b[0;32mNone\u001b[0m\u001b[0;34m\u001b[0m\u001b[0;34m\u001b[0m\u001b[0m\n\u001b[1;32m    355\u001b[0m             \u001b[0m_regex_cache\u001b[0m\u001b[0;34m[\u001b[0m\u001b[0mformat\u001b[0m\u001b[0;34m]\u001b[0m \u001b[0;34m=\u001b[0m \u001b[0mformat_regex\u001b[0m\u001b[0;34m\u001b[0m\u001b[0;34m\u001b[0m\u001b[0m\n\u001b[0;32m--> 356\u001b[0;31m     \u001b[0mfound\u001b[0m \u001b[0;34m=\u001b[0m \u001b[0mformat_regex\u001b[0m\u001b[0;34m.\u001b[0m\u001b[0mmatch\u001b[0m\u001b[0;34m(\u001b[0m\u001b[0mdata_string\u001b[0m\u001b[0;34m)\u001b[0m\u001b[0;34m\u001b[0m\u001b[0;34m\u001b[0m\u001b[0m\n\u001b[0m\u001b[1;32m    357\u001b[0m     \u001b[0;32mif\u001b[0m \u001b[0;32mnot\u001b[0m \u001b[0mfound\u001b[0m\u001b[0;34m:\u001b[0m\u001b[0;34m\u001b[0m\u001b[0;34m\u001b[0m\u001b[0m\n\u001b[1;32m    358\u001b[0m         raise ValueError(\"time data %r does not match format %r\" %\n",
      "\u001b[0;31mKeyboardInterrupt\u001b[0m: "
     ]
    }
   ],
   "source": [
    "# change O_t_q to dt\n",
    "calls17[\"Original_Time_Queued\"] = pd.to_datetime(calls17[\"Original_Time_Queued\"])\n",
    "calls17[\"day_of_week\"] = calls17[\"Original_Time_Queued\"].dt.dayofweek"
   ]
  },
  {
   "cell_type": "code",
   "execution_count": 21,
   "metadata": {},
   "outputs": [
    {
     "data": {
      "text/plain": [
       "Index(['CAD Event Number', 'Event Clearance Description', 'Initial Call Type',\n",
       "       'Original Time Queued', 'Precinct', 'Sector', 'Beat', 'day', 'month',\n",
       "       'hour'],\n",
       "      dtype='object')"
      ]
     },
     "execution_count": 21,
     "metadata": {},
     "output_type": "execute_result"
    }
   ],
   "source": [
    "calls17.drop([\"Priority\", \"Final Call Type\", \"Arrived Time\", 'Call Type', 'year',\"Original Time Queued\"], axis=1, inplace=True )\n",
    "call_cols = calls17.columns\n",
    "call_cols"
   ]
  },
  {
   "cell_type": "code",
   "execution_count": 23,
   "metadata": {},
   "outputs": [
    {
     "data": {
      "text/plain": [
       "'    \\n    for val in vals:\\n        new_row.extend( [[ix,  val[0], row.epoch, row.Incident_Num, row.Officer_ID, row.Subject_ID, val[1], val[2],\\n                        row.Incident_Type, row.Precinct, \\n                        row.Sector, row.Beat, val[8], val[4],\\n                        row.Subject_Race, row.Subject_Gender, val[3], val[5], val[6], \\n                        val[7], row.year, row.month, row.day, row.time] ])'"
      ]
     },
     "execution_count": 23,
     "metadata": {},
     "output_type": "execute_result"
    }
   ],
   "source": [
    "# add in rows from Calls17 sql table that are not already represented in merged df\n",
    "add_call_rows = []\n",
    "\n",
    "series = list(rev_df[\"CAD_Event_Number\"])\n",
    "#val_lst = []\n",
    "for ix, row in calls17.iterrows():\n",
    "    # query the 911 calls database\n",
    "    # for each call, append to a bunch of records that we're building up into a dataframe\n",
    "    \n",
    "        \n",
    "    CAD = row[\"CAD Event Number\"]\n",
    "    #rowbeat = row.Beat\n",
    "    series \n",
    "    \n",
    "    if CAD in series:\n",
    "        pass\n",
    "    else:\n",
    "        add_call_rows.extend([row])\n",
    "    #val_lst.extend([value, val[0]])\n",
    "\n",
    "'''    \n",
    "    for val in vals:\n",
    "        new_row.extend( [[ix,  val[0], row.epoch, row.Incident_Num, row.Officer_ID, row.Subject_ID, val[1], val[2],\n",
    "                        row.Incident_Type, row.Precinct, \n",
    "                        row.Sector, row.Beat, val[8], val[4],\n",
    "                        row.Subject_Race, row.Subject_Gender, val[3], val[5], val[6], \n",
    "                        val[7], row.year, row.month, row.day, row.time] ])'''\n",
    "\n"
   ]
  },
  {
   "cell_type": "code",
   "execution_count": 24,
   "metadata": {},
   "outputs": [],
   "source": [
    "calls_add = pd.DataFrame(add_call_rows, columns = call_cols)\n"
   ]
  },
  {
   "cell_type": "code",
   "execution_count": null,
   "metadata": {},
   "outputs": [],
   "source": [
    "# change O_t_q to dt\n",
    "s = pd.to_datetime(calls_add[\"Original Time Queued\"],infer_datetime_format=True)\n"
   ]
  },
  {
   "cell_type": "code",
   "execution_count": 25,
   "metadata": {},
   "outputs": [
    {
     "name": "stdout",
     "output_type": "stream",
     "text": [
      "<class 'pandas.core.frame.DataFrame'>\n",
      "Int64Index: 1451138 entries, 1674201 to 3986667\n",
      "Data columns (total 10 columns):\n",
      "CAD Event Number               1451138 non-null int64\n",
      "Event Clearance Description    1451138 non-null object\n",
      "Initial Call Type              1451138 non-null object\n",
      "Original Time Queued           1451138 non-null object\n",
      "Precinct                       1451138 non-null object\n",
      "Sector                         1441257 non-null object\n",
      "Beat                           1451138 non-null object\n",
      "day                            1451138 non-null object\n",
      "month                          1451138 non-null int64\n",
      "hour                           1451138 non-null object\n",
      "dtypes: int64(2), object(8)\n",
      "memory usage: 121.8+ MB\n",
      "<class 'pandas.core.frame.DataFrame'>\n",
      "Int64Index: 8616 entries, 0 to 262504\n",
      "Data columns (total 25 columns):\n",
      "index                          8616 non-null int64\n",
      "call_epoch                     8616 non-null float64\n",
      "force_epoch                    8616 non-null float64\n",
      "Incident_Num                   8616 non-null int64\n",
      "Officer_ID                     8616 non-null int64\n",
      "Subject_ID                     8616 non-null int64\n",
      "CAD_Event_Number               8616 non-null int64\n",
      "Event_Clearance_Description    8616 non-null object\n",
      "Force_Level                    8616 non-null object\n",
      "Precinct                       8616 non-null object\n",
      "Sector                         8616 non-null object\n",
      "force_beat                     8616 non-null object\n",
      "calls_beat                     8616 non-null object\n",
      "Priority                       8616 non-null int64\n",
      "Subject_Race                   8616 non-null object\n",
      "Subject_Gender                 8616 non-null object\n",
      "Call_Type                      8616 non-null object\n",
      "Initial_Call_Type              8616 non-null object\n",
      "Final_Call_Type                8616 non-null object\n",
      "Original_Time_Queued           8616 non-null datetime64[ns]\n",
      "year                           8616 non-null object\n",
      "month                          8616 non-null object\n",
      "day                            8616 non-null object\n",
      "time                           8616 non-null datetime64[ns]\n",
      "day_of_week                    8616 non-null int64\n",
      "dtypes: datetime64[ns](2), float64(2), int64(7), object(14)\n",
      "memory usage: 1.7+ MB\n"
     ]
    },
    {
     "data": {
      "text/plain": [
       "(None, None)"
      ]
     },
     "execution_count": 25,
     "metadata": {},
     "output_type": "execute_result"
    }
   ],
   "source": [
    "calls_add[\"day_of_week\"] = s.dt.dayofweek\n"
   ]
  },
  {
   "cell_type": "code",
   "execution_count": null,
   "metadata": {},
   "outputs": [],
   "source": [
    "calls_add.info(), rev_df.info()"
   ]
  },
  {
   "cell_type": "code",
   "execution_count": 64,
   "metadata": {},
   "outputs": [
    {
     "ename": "KeyError",
     "evalue": "\"['index' 'call_epoch' 'force_epoch' 'Incident_Num' 'Officer_ID'\\n 'Subject_ID' 'time '] not found in axis\"",
     "output_type": "error",
     "traceback": [
      "\u001b[0;31m---------------------------------------------------------------------------\u001b[0m",
      "\u001b[0;31mKeyError\u001b[0m                                  Traceback (most recent call last)",
      "\u001b[0;32m<ipython-input-64-0c34eead9e75>\u001b[0m in \u001b[0;36m<module>\u001b[0;34m\u001b[0m\n\u001b[1;32m      1\u001b[0m \u001b[0;31m# check columns for merge and then add frames together\u001b[0m\u001b[0;34m\u001b[0m\u001b[0;34m\u001b[0m\u001b[0;34m\u001b[0m\u001b[0m\n\u001b[0;32m----> 2\u001b[0;31m \u001b[0mrev_df\u001b[0m\u001b[0;34m.\u001b[0m\u001b[0mdrop\u001b[0m\u001b[0;34m(\u001b[0m\u001b[0;34m[\u001b[0m\u001b[0;34m\"index\"\u001b[0m\u001b[0;34m,\u001b[0m \u001b[0;34m\"call_epoch\"\u001b[0m\u001b[0;34m,\u001b[0m \u001b[0;34m\"force_epoch\"\u001b[0m\u001b[0;34m,\u001b[0m \u001b[0;34m\"Incident_Num\"\u001b[0m\u001b[0;34m,\u001b[0m \u001b[0;34m\"Officer_ID\"\u001b[0m\u001b[0;34m,\u001b[0m \u001b[0;34m\"Subject_ID\"\u001b[0m\u001b[0;34m,\u001b[0m \u001b[0;34m\"time \"\u001b[0m\u001b[0;34m]\u001b[0m\u001b[0;34m,\u001b[0m \u001b[0maxis\u001b[0m\u001b[0;34m=\u001b[0m\u001b[0;36m1\u001b[0m\u001b[0;34m,\u001b[0m \u001b[0minplace\u001b[0m\u001b[0;34m=\u001b[0m\u001b[0;32mTrue\u001b[0m\u001b[0;34m)\u001b[0m\u001b[0;34m\u001b[0m\u001b[0;34m\u001b[0m\u001b[0m\n\u001b[0m\u001b[1;32m      3\u001b[0m \u001b[0;34m\u001b[0m\u001b[0m\n",
      "\u001b[0;32m~/anaconda3/lib/python3.7/site-packages/pandas/core/frame.py\u001b[0m in \u001b[0;36mdrop\u001b[0;34m(self, labels, axis, index, columns, level, inplace, errors)\u001b[0m\n\u001b[1;32m   3938\u001b[0m                                            \u001b[0mindex\u001b[0m\u001b[0;34m=\u001b[0m\u001b[0mindex\u001b[0m\u001b[0;34m,\u001b[0m \u001b[0mcolumns\u001b[0m\u001b[0;34m=\u001b[0m\u001b[0mcolumns\u001b[0m\u001b[0;34m,\u001b[0m\u001b[0;34m\u001b[0m\u001b[0;34m\u001b[0m\u001b[0m\n\u001b[1;32m   3939\u001b[0m                                            \u001b[0mlevel\u001b[0m\u001b[0;34m=\u001b[0m\u001b[0mlevel\u001b[0m\u001b[0;34m,\u001b[0m \u001b[0minplace\u001b[0m\u001b[0;34m=\u001b[0m\u001b[0minplace\u001b[0m\u001b[0;34m,\u001b[0m\u001b[0;34m\u001b[0m\u001b[0;34m\u001b[0m\u001b[0m\n\u001b[0;32m-> 3940\u001b[0;31m                                            errors=errors)\n\u001b[0m\u001b[1;32m   3941\u001b[0m \u001b[0;34m\u001b[0m\u001b[0m\n\u001b[1;32m   3942\u001b[0m     @rewrite_axis_style_signature('mapper', [('copy', True),\n",
      "\u001b[0;32m~/anaconda3/lib/python3.7/site-packages/pandas/core/generic.py\u001b[0m in \u001b[0;36mdrop\u001b[0;34m(self, labels, axis, index, columns, level, inplace, errors)\u001b[0m\n\u001b[1;32m   3778\u001b[0m         \u001b[0;32mfor\u001b[0m \u001b[0maxis\u001b[0m\u001b[0;34m,\u001b[0m \u001b[0mlabels\u001b[0m \u001b[0;32min\u001b[0m \u001b[0maxes\u001b[0m\u001b[0;34m.\u001b[0m\u001b[0mitems\u001b[0m\u001b[0;34m(\u001b[0m\u001b[0;34m)\u001b[0m\u001b[0;34m:\u001b[0m\u001b[0;34m\u001b[0m\u001b[0;34m\u001b[0m\u001b[0m\n\u001b[1;32m   3779\u001b[0m             \u001b[0;32mif\u001b[0m \u001b[0mlabels\u001b[0m \u001b[0;32mis\u001b[0m \u001b[0;32mnot\u001b[0m \u001b[0;32mNone\u001b[0m\u001b[0;34m:\u001b[0m\u001b[0;34m\u001b[0m\u001b[0;34m\u001b[0m\u001b[0m\n\u001b[0;32m-> 3780\u001b[0;31m                 \u001b[0mobj\u001b[0m \u001b[0;34m=\u001b[0m \u001b[0mobj\u001b[0m\u001b[0;34m.\u001b[0m\u001b[0m_drop_axis\u001b[0m\u001b[0;34m(\u001b[0m\u001b[0mlabels\u001b[0m\u001b[0;34m,\u001b[0m \u001b[0maxis\u001b[0m\u001b[0;34m,\u001b[0m \u001b[0mlevel\u001b[0m\u001b[0;34m=\u001b[0m\u001b[0mlevel\u001b[0m\u001b[0;34m,\u001b[0m \u001b[0merrors\u001b[0m\u001b[0;34m=\u001b[0m\u001b[0merrors\u001b[0m\u001b[0;34m)\u001b[0m\u001b[0;34m\u001b[0m\u001b[0;34m\u001b[0m\u001b[0m\n\u001b[0m\u001b[1;32m   3781\u001b[0m \u001b[0;34m\u001b[0m\u001b[0m\n\u001b[1;32m   3782\u001b[0m         \u001b[0;32mif\u001b[0m \u001b[0minplace\u001b[0m\u001b[0;34m:\u001b[0m\u001b[0;34m\u001b[0m\u001b[0;34m\u001b[0m\u001b[0m\n",
      "\u001b[0;32m~/anaconda3/lib/python3.7/site-packages/pandas/core/generic.py\u001b[0m in \u001b[0;36m_drop_axis\u001b[0;34m(self, labels, axis, level, errors)\u001b[0m\n\u001b[1;32m   3810\u001b[0m                 \u001b[0mnew_axis\u001b[0m \u001b[0;34m=\u001b[0m \u001b[0maxis\u001b[0m\u001b[0;34m.\u001b[0m\u001b[0mdrop\u001b[0m\u001b[0;34m(\u001b[0m\u001b[0mlabels\u001b[0m\u001b[0;34m,\u001b[0m \u001b[0mlevel\u001b[0m\u001b[0;34m=\u001b[0m\u001b[0mlevel\u001b[0m\u001b[0;34m,\u001b[0m \u001b[0merrors\u001b[0m\u001b[0;34m=\u001b[0m\u001b[0merrors\u001b[0m\u001b[0;34m)\u001b[0m\u001b[0;34m\u001b[0m\u001b[0;34m\u001b[0m\u001b[0m\n\u001b[1;32m   3811\u001b[0m             \u001b[0;32melse\u001b[0m\u001b[0;34m:\u001b[0m\u001b[0;34m\u001b[0m\u001b[0;34m\u001b[0m\u001b[0m\n\u001b[0;32m-> 3812\u001b[0;31m                 \u001b[0mnew_axis\u001b[0m \u001b[0;34m=\u001b[0m \u001b[0maxis\u001b[0m\u001b[0;34m.\u001b[0m\u001b[0mdrop\u001b[0m\u001b[0;34m(\u001b[0m\u001b[0mlabels\u001b[0m\u001b[0;34m,\u001b[0m \u001b[0merrors\u001b[0m\u001b[0;34m=\u001b[0m\u001b[0merrors\u001b[0m\u001b[0;34m)\u001b[0m\u001b[0;34m\u001b[0m\u001b[0;34m\u001b[0m\u001b[0m\n\u001b[0m\u001b[1;32m   3813\u001b[0m             \u001b[0mresult\u001b[0m \u001b[0;34m=\u001b[0m \u001b[0mself\u001b[0m\u001b[0;34m.\u001b[0m\u001b[0mreindex\u001b[0m\u001b[0;34m(\u001b[0m\u001b[0;34m**\u001b[0m\u001b[0;34m{\u001b[0m\u001b[0maxis_name\u001b[0m\u001b[0;34m:\u001b[0m \u001b[0mnew_axis\u001b[0m\u001b[0;34m}\u001b[0m\u001b[0;34m)\u001b[0m\u001b[0;34m\u001b[0m\u001b[0;34m\u001b[0m\u001b[0m\n\u001b[1;32m   3814\u001b[0m \u001b[0;34m\u001b[0m\u001b[0m\n",
      "\u001b[0;32m~/anaconda3/lib/python3.7/site-packages/pandas/core/indexes/base.py\u001b[0m in \u001b[0;36mdrop\u001b[0;34m(self, labels, errors)\u001b[0m\n\u001b[1;32m   4963\u001b[0m             \u001b[0;32mif\u001b[0m \u001b[0merrors\u001b[0m \u001b[0;34m!=\u001b[0m \u001b[0;34m'ignore'\u001b[0m\u001b[0;34m:\u001b[0m\u001b[0;34m\u001b[0m\u001b[0;34m\u001b[0m\u001b[0m\n\u001b[1;32m   4964\u001b[0m                 raise KeyError(\n\u001b[0;32m-> 4965\u001b[0;31m                     '{} not found in axis'.format(labels[mask]))\n\u001b[0m\u001b[1;32m   4966\u001b[0m             \u001b[0mindexer\u001b[0m \u001b[0;34m=\u001b[0m \u001b[0mindexer\u001b[0m\u001b[0;34m[\u001b[0m\u001b[0;34m~\u001b[0m\u001b[0mmask\u001b[0m\u001b[0;34m]\u001b[0m\u001b[0;34m\u001b[0m\u001b[0;34m\u001b[0m\u001b[0m\n\u001b[1;32m   4967\u001b[0m         \u001b[0;32mreturn\u001b[0m \u001b[0mself\u001b[0m\u001b[0;34m.\u001b[0m\u001b[0mdelete\u001b[0m\u001b[0;34m(\u001b[0m\u001b[0mindexer\u001b[0m\u001b[0;34m)\u001b[0m\u001b[0;34m\u001b[0m\u001b[0;34m\u001b[0m\u001b[0m\n",
      "\u001b[0;31mKeyError\u001b[0m: \"['index' 'call_epoch' 'force_epoch' 'Incident_Num' 'Officer_ID'\\n 'Subject_ID' 'time '] not found in axis\""
     ]
    }
   ],
   "source": [
    "# check columns for merge and then add frames together\n",
    "rev_df.drop([\"index\", \"call_epoch\", \"force_epoch\", \"Incident_Num\", \"Officer_ID\", \"Subject_ID\", \"time \", \n",
    "            \"Original_Time_Queued\"], axis=1, inplace=True)\n",
    "\n"
   ]
  },
  {
   "cell_type": "code",
   "execution_count": 75,
   "metadata": {},
   "outputs": [],
   "source": [
    "\n",
    "\n",
    "# need to change column names and add columns to match rev_df\n",
    "calls_add.rename(index=str, columns={\"CAD Event Number\": \"CAD_Event_Number\", \"Event Clearance Description\": \"Event_Clearance_Description\",\n",
    "                                    \"Initial Call Type\": \"Initial_Call_Type\"}, inplace=True)\n"
   ]
  },
  {
   "cell_type": "code",
   "execution_count": 81,
   "metadata": {},
   "outputs": [],
   "source": [
    "rev_df.drop([\"Priority\", \"Final_Call_Type\", \"year\"], axis=1, inplace=True)"
   ]
  },
  {
   "cell_type": "code",
   "execution_count": 68,
   "metadata": {},
   "outputs": [],
   "source": [
    "\n",
    "rev_df.drop(\"force_beat\", axis=1, inplace=True)"
   ]
  },
  {
   "cell_type": "code",
   "execution_count": 78,
   "metadata": {},
   "outputs": [],
   "source": [
    "# if I find percentages and then disaggregate - can have not null genders and races here and in the rest\n",
    "\n",
    "calls_add[\"Force_Level\"] = 0\n",
    "calls_add[\"Subject_Gender\"] = \"-\"\n",
    "calls_add[\"Subject_Race\"] = \"-\"\n"
   ]
  },
  {
   "cell_type": "code",
   "execution_count": 82,
   "metadata": {},
   "outputs": [
    {
     "name": "stdout",
     "output_type": "stream",
     "text": [
      "<class 'pandas.core.frame.DataFrame'>\n",
      "Index: 8616 entries, 0 to 262504\n",
      "Data columns (total 14 columns):\n",
      "CAD_Event_Number               8616 non-null int64\n",
      "Event_Clearance_Description    8616 non-null object\n",
      "Force_Level                    8616 non-null object\n",
      "Precinct                       8616 non-null object\n",
      "Sector                         8616 non-null object\n",
      "Beat                           8616 non-null object\n",
      "Subject_Race                   8616 non-null object\n",
      "Subject_Gender                 8616 non-null object\n",
      "Call_Type                      8616 non-null object\n",
      "Initial_Call_Type              8616 non-null object\n",
      "Original_Time_Queued           8616 non-null datetime64[ns]\n",
      "month                          8616 non-null object\n",
      "day                            8616 non-null object\n",
      "time                           8616 non-null datetime64[ns]\n",
      "dtypes: datetime64[ns](2), int64(1), object(11)\n",
      "memory usage: 1009.7+ KB\n"
     ]
    }
   ],
   "source": [
    "rev_df.rename(index=str, columns={\"calls_beat\":\"Beat\"}, inplace=True)\n",
    "rev_df.info()"
   ]
  },
  {
   "cell_type": "code",
   "execution_count": 83,
   "metadata": {},
   "outputs": [
    {
     "name": "stdout",
     "output_type": "stream",
     "text": [
      "<class 'pandas.core.frame.DataFrame'>\n",
      "Index: 1451138 entries, 1674201 to 3986667\n",
      "Data columns (total 14 columns):\n",
      "CAD_Event_Number               1451138 non-null int64\n",
      "Event_Clearance_Description    1451138 non-null object\n",
      "Force_Level                    1451138 non-null int64\n",
      "Precinct                       1451138 non-null object\n",
      "Sector                         1441257 non-null object\n",
      "Beat                           1451138 non-null object\n",
      "Subject_Race                   1451138 non-null object\n",
      "Subject_Gender                 1451138 non-null object\n",
      "Call_Type                      1451138 non-null object\n",
      "Initial_Call_Type              1451138 non-null object\n",
      "Original_Time_Queued           1451138 non-null object\n",
      "month                          1451138 non-null int64\n",
      "day                            1451138 non-null object\n",
      "time                           1451138 non-null object\n",
      "dtypes: int64(3), object(11)\n",
      "memory usage: 166.1+ MB\n"
     ]
    }
   ],
   "source": [
    "#reorder columns so they match\n",
    "calls_add = calls_add[[\"CAD_Event_Number\", \"Event_Clearance_Description\", \"Force_Level\", \"Precinct\", \"Sector\", \"Beat\",\n",
    "                      \"Subject_Race\", \"Subject_Gender\", \"Call_Type\", \"Initial_Call_Type\", \"Original_Time_Queued\", \n",
    "                      \"month\", \"day\", \"time\"]]\n",
    "calls_add.info()"
   ]
  },
  {
   "cell_type": "code",
   "execution_count": null,
   "metadata": {},
   "outputs": [],
   "source": [
    "\n"
   ]
  },
  {
   "cell_type": "code",
   "execution_count": null,
   "metadata": {},
   "outputs": [],
   "source": []
  },
  {
   "cell_type": "code",
   "execution_count": 84,
   "metadata": {},
   "outputs": [],
   "source": [
    "\n",
    "nm = pd.concat([rev_df, calls_add])"
   ]
  },
  {
   "cell_type": "code",
   "execution_count": 85,
   "metadata": {},
   "outputs": [
    {
     "name": "stdout",
     "output_type": "stream",
     "text": [
      "<class 'pandas.core.frame.DataFrame'>\n",
      "Index: 1459754 entries, 0 to 3986667\n",
      "Data columns (total 14 columns):\n",
      "CAD_Event_Number               1459754 non-null int64\n",
      "Event_Clearance_Description    1459754 non-null object\n",
      "Force_Level                    1459754 non-null object\n",
      "Precinct                       1459754 non-null object\n",
      "Sector                         1449873 non-null object\n",
      "Beat                           1459754 non-null object\n",
      "Subject_Race                   1459754 non-null object\n",
      "Subject_Gender                 1459754 non-null object\n",
      "Call_Type                      1459754 non-null object\n",
      "Initial_Call_Type              1459754 non-null object\n",
      "Original_Time_Queued           1459754 non-null object\n",
      "month                          1459754 non-null object\n",
      "day                            1459754 non-null object\n",
      "time                           1459754 non-null object\n",
      "dtypes: int64(1), object(13)\n",
      "memory usage: 167.1+ MB\n"
     ]
    }
   ],
   "source": [
    "nm.info()"
   ]
  },
  {
   "cell_type": "code",
   "execution_count": 86,
   "metadata": {},
   "outputs": [],
   "source": [
    "init = nm[\"Initial_Call_Type\"]\n",
    "to_drop = init[init.str.startswith(\"-ASSIGNED DUTY\")]\n",
    "\n",
    "\n",
    "s = nm[\"Initial_Call_Type\"].str.replace(\" - .*\", \"\", regex=True)\n",
    "nm[\"Initial_Call_Type\"] = s"
   ]
  },
  {
   "cell_type": "code",
   "execution_count": 87,
   "metadata": {},
   "outputs": [
    {
     "ename": "AttributeError",
     "evalue": "Can only use .dt accessor with datetimelike values",
     "output_type": "error",
     "traceback": [
      "\u001b[0;31m---------------------------------------------------------------------------\u001b[0m",
      "\u001b[0;31mAttributeError\u001b[0m                            Traceback (most recent call last)",
      "\u001b[0;32m<ipython-input-87-e04faac269d1>\u001b[0m in \u001b[0;36m<module>\u001b[0;34m\u001b[0m\n\u001b[1;32m      4\u001b[0m \u001b[0mnm\u001b[0m\u001b[0;34m[\u001b[0m\u001b[0;34m\"month\"\u001b[0m\u001b[0;34m]\u001b[0m \u001b[0;34m=\u001b[0m \u001b[0mnm\u001b[0m\u001b[0;34m[\u001b[0m\u001b[0;34m\"month\"\u001b[0m\u001b[0;34m]\u001b[0m\u001b[0;34m.\u001b[0m\u001b[0mastype\u001b[0m\u001b[0;34m(\u001b[0m\u001b[0mint\u001b[0m\u001b[0;34m)\u001b[0m\u001b[0;34m\u001b[0m\u001b[0;34m\u001b[0m\u001b[0m\n\u001b[1;32m      5\u001b[0m \u001b[0mnm\u001b[0m\u001b[0;34m[\u001b[0m\u001b[0;34m\"day\"\u001b[0m\u001b[0;34m]\u001b[0m \u001b[0;34m=\u001b[0m \u001b[0mnm\u001b[0m\u001b[0;34m[\u001b[0m\u001b[0;34m\"day\"\u001b[0m\u001b[0;34m]\u001b[0m\u001b[0;34m.\u001b[0m\u001b[0mastype\u001b[0m\u001b[0;34m(\u001b[0m\u001b[0mint\u001b[0m\u001b[0;34m)\u001b[0m\u001b[0;34m\u001b[0m\u001b[0;34m\u001b[0m\u001b[0m\n\u001b[0;32m----> 6\u001b[0;31m \u001b[0mnm\u001b[0m\u001b[0;34m[\u001b[0m\u001b[0;34m\"day_of_week\"\u001b[0m\u001b[0;34m]\u001b[0m \u001b[0;34m=\u001b[0m \u001b[0mnm\u001b[0m\u001b[0;34m.\u001b[0m\u001b[0mOriginal_Time_Queued\u001b[0m\u001b[0;34m.\u001b[0m\u001b[0mdt\u001b[0m\u001b[0;34m.\u001b[0m\u001b[0mdayofweek\u001b[0m\u001b[0;34m\u001b[0m\u001b[0;34m\u001b[0m\u001b[0m\n\u001b[0m\u001b[1;32m      7\u001b[0m \u001b[0;34m\u001b[0m\u001b[0m\n\u001b[1;32m      8\u001b[0m \u001b[0mnm\u001b[0m\u001b[0;34m[\u001b[0m\u001b[0;34m'call_hour'\u001b[0m\u001b[0;34m]\u001b[0m \u001b[0;34m=\u001b[0m \u001b[0mnm\u001b[0m\u001b[0;34m.\u001b[0m\u001b[0mOriginal_Time_Queued\u001b[0m\u001b[0;34m.\u001b[0m\u001b[0mapply\u001b[0m\u001b[0;34m(\u001b[0m\u001b[0;32mlambda\u001b[0m \u001b[0mx\u001b[0m\u001b[0;34m:\u001b[0m \u001b[0mx\u001b[0m\u001b[0;34m.\u001b[0m\u001b[0mhour\u001b[0m\u001b[0;34m)\u001b[0m\u001b[0;34m\u001b[0m\u001b[0;34m\u001b[0m\u001b[0m\n",
      "\u001b[0;32m~/anaconda3/lib/python3.7/site-packages/pandas/core/generic.py\u001b[0m in \u001b[0;36m__getattr__\u001b[0;34m(self, name)\u001b[0m\n\u001b[1;32m   5061\u001b[0m         if (name in self._internal_names_set or name in self._metadata or\n\u001b[1;32m   5062\u001b[0m                 name in self._accessors):\n\u001b[0;32m-> 5063\u001b[0;31m             \u001b[0;32mreturn\u001b[0m \u001b[0mobject\u001b[0m\u001b[0;34m.\u001b[0m\u001b[0m__getattribute__\u001b[0m\u001b[0;34m(\u001b[0m\u001b[0mself\u001b[0m\u001b[0;34m,\u001b[0m \u001b[0mname\u001b[0m\u001b[0;34m)\u001b[0m\u001b[0;34m\u001b[0m\u001b[0;34m\u001b[0m\u001b[0m\n\u001b[0m\u001b[1;32m   5064\u001b[0m         \u001b[0;32melse\u001b[0m\u001b[0;34m:\u001b[0m\u001b[0;34m\u001b[0m\u001b[0;34m\u001b[0m\u001b[0m\n\u001b[1;32m   5065\u001b[0m             \u001b[0;32mif\u001b[0m \u001b[0mself\u001b[0m\u001b[0;34m.\u001b[0m\u001b[0m_info_axis\u001b[0m\u001b[0;34m.\u001b[0m\u001b[0m_can_hold_identifiers_and_holds_name\u001b[0m\u001b[0;34m(\u001b[0m\u001b[0mname\u001b[0m\u001b[0;34m)\u001b[0m\u001b[0;34m:\u001b[0m\u001b[0;34m\u001b[0m\u001b[0;34m\u001b[0m\u001b[0m\n",
      "\u001b[0;32m~/anaconda3/lib/python3.7/site-packages/pandas/core/accessor.py\u001b[0m in \u001b[0;36m__get__\u001b[0;34m(self, obj, cls)\u001b[0m\n\u001b[1;32m    169\u001b[0m             \u001b[0;31m# we're accessing the attribute of the class, i.e., Dataset.geo\u001b[0m\u001b[0;34m\u001b[0m\u001b[0;34m\u001b[0m\u001b[0;34m\u001b[0m\u001b[0m\n\u001b[1;32m    170\u001b[0m             \u001b[0;32mreturn\u001b[0m \u001b[0mself\u001b[0m\u001b[0;34m.\u001b[0m\u001b[0m_accessor\u001b[0m\u001b[0;34m\u001b[0m\u001b[0;34m\u001b[0m\u001b[0m\n\u001b[0;32m--> 171\u001b[0;31m         \u001b[0maccessor_obj\u001b[0m \u001b[0;34m=\u001b[0m \u001b[0mself\u001b[0m\u001b[0;34m.\u001b[0m\u001b[0m_accessor\u001b[0m\u001b[0;34m(\u001b[0m\u001b[0mobj\u001b[0m\u001b[0;34m)\u001b[0m\u001b[0;34m\u001b[0m\u001b[0;34m\u001b[0m\u001b[0m\n\u001b[0m\u001b[1;32m    172\u001b[0m         \u001b[0;31m# Replace the property with the accessor object. Inspired by:\u001b[0m\u001b[0;34m\u001b[0m\u001b[0;34m\u001b[0m\u001b[0;34m\u001b[0m\u001b[0m\n\u001b[1;32m    173\u001b[0m         \u001b[0;31m# http://www.pydanny.com/cached-property.html\u001b[0m\u001b[0;34m\u001b[0m\u001b[0;34m\u001b[0m\u001b[0;34m\u001b[0m\u001b[0m\n",
      "\u001b[0;32m~/anaconda3/lib/python3.7/site-packages/pandas/core/indexes/accessors.py\u001b[0m in \u001b[0;36m__new__\u001b[0;34m(cls, data)\u001b[0m\n\u001b[1;32m    322\u001b[0m             \u001b[0;32mpass\u001b[0m  \u001b[0;31m# we raise an attribute error anyway\u001b[0m\u001b[0;34m\u001b[0m\u001b[0;34m\u001b[0m\u001b[0m\n\u001b[1;32m    323\u001b[0m \u001b[0;34m\u001b[0m\u001b[0m\n\u001b[0;32m--> 324\u001b[0;31m         raise AttributeError(\"Can only use .dt accessor with datetimelike \"\n\u001b[0m\u001b[1;32m    325\u001b[0m                              \"values\")\n",
      "\u001b[0;31mAttributeError\u001b[0m: Can only use .dt accessor with datetimelike values"
     ]
    }
   ],
   "source": [
    "# correct time columns \n",
    "\n",
    "#rev_df[\"year\"] = rev_df[\"year\"].astype(int)\n",
    "nm[\"month\"] = nm[\"month\"].astype(int)\n",
    "nm[\"day\"] = nm[\"day\"].astype(int)\n",
    "#nm[\"day_of_week\"] = nm.Original_Time_Queued.dt.dayofweek\n",
    "\n",
    "nm['call_hour'] = nm.Original_Time_Queued.apply(lambda x: x.hour)\n",
    "#rev_df['arrive_hour'] = rev_df.time.apply(lambda x: x.hour)\n",
    "#rev_df['time_to_arrival'] = rev_df[\"arrive_hour\"] - rev_df[\"call_hour\"]\n",
    "#rev_df.drop(\"arrive_hour\", axis=1, inplace=True)"
   ]
  },
  {
   "cell_type": "code",
   "execution_count": 795,
   "metadata": {},
   "outputs": [
    {
     "data": {
      "text/plain": [
       "Index(['index', 'call_epoch', 'force_epoch', 'Incident_Num', 'Officer_ID',\n",
       "       'Subject_ID', 'CAD_Event_Number', 'Event_Clearance_Description',\n",
       "       'Force_Level', 'Precinct', 'Sector', 'force_beat', 'calls_beat',\n",
       "       'Priority', 'Subject_Race', 'Subject_Gender', 'Call_Type',\n",
       "       'Initial_Call_Type', 'Final_Call_Type', 'Original_Time_Queued', 'year',\n",
       "       'month', 'day', 'time ', 'time'],\n",
       "      dtype='object')"
      ]
     },
     "execution_count": 795,
     "metadata": {},
     "output_type": "execute_result"
    }
   ],
   "source": [
    "# make second df and keep leaky data for exploration later\n",
    "# take out event description and final call (bc you wouldn't know)\n",
    "rev_df_leaky = rev_df.copy(deep=True)\n",
    "rev_df_leaky.columns"
   ]
  },
  {
   "cell_type": "code",
   "execution_count": 796,
   "metadata": {},
   "outputs": [],
   "source": [
    "\n",
    "\n",
    "rev_df = pd.get_dummies(data = rev_df, \n",
    "                     columns=[\"force_beat\", \n",
    "                              \"Subject_Gender\", \"Subject_Race\", \"Initial_Call_Type\"], \n",
    "                     prefix=[\"forceb\",  \n",
    "                             \"Gender\",  \"Race\", \"InitCall\"])\n",
    "\n",
    "\n",
    "\n",
    "# pd.get_dummies(data=df, columns=['A', 'B'])\n",
    "                      "
   ]
  },
  {
   "cell_type": "code",
   "execution_count": 797,
   "metadata": {},
   "outputs": [],
   "source": [
    "\n",
    "#rev_df[\"year\"] = rev_df[\"year\"].astype(int)\n",
    "rev_df[\"month\"] = rev_df[\"month\"].astype(int)\n",
    "rev_df[\"day\"] = rev_df[\"day\"].astype(int)\n",
    "rev_df[\"day_of_week\"] = rev_df.Original_Time_Queued.dt.dayofweek\n",
    "\n",
    "rev_df['call_hour'] = rev_df.Original_Time_Queued.apply(lambda x: x.hour)\n",
    "#rev_df['arrive_hour'] = rev_df.time.apply(lambda x: x.hour)\n",
    "#rev_df['time_to_arrival'] = rev_df[\"arrive_hour\"] - rev_df[\"call_hour\"]\n",
    "#rev_df.drop(\"arrive_hour\", axis=1, inplace=True)\n"
   ]
  },
  {
   "cell_type": "code",
   "execution_count": 798,
   "metadata": {},
   "outputs": [],
   "source": [
    "# drop leaky data\n",
    "rev_df.drop([\"Event_Clearance_Description\",\"Final_Call_Type\", \"time \", \"index\", \"Incident_Num\", \"Officer_ID\",\n",
    "            \"Subject_ID\", \"CAD_Event_Number\", \"Force_Level\", \"Priority\", \"force_epoch\", \"calls_beat\", \"Call_Type\", \n",
    "             \"Original_Time_Queued\", \"time\", \"year\", \"call_epoch\",\"forceb_-\",\"Gender_Not Specified\", \n",
    "             \"Race_Not Specified\", \"Precinct\", \"Sector\"], axis=1, inplace=True )\n",
    "\n"
   ]
  },
  {
   "cell_type": "code",
   "execution_count": 799,
   "metadata": {},
   "outputs": [
    {
     "data": {
      "text/plain": [
       "(8600, 8600, 8600)"
      ]
     },
     "execution_count": 799,
     "metadata": {},
     "output_type": "execute_result"
    }
   ],
   "source": [
    "#rev_df.drop(indicest, axis=0, inplace=True)\n",
    "\n",
    "len(rev_df_leaky), len(rev_df), len(new_merged)"
   ]
  },
  {
   "cell_type": "code",
   "execution_count": 823,
   "metadata": {},
   "outputs": [
    {
     "name": "stdout",
     "output_type": "stream",
     "text": [
      "<class 'pandas.core.frame.DataFrame'>\n",
      "Int64Index: 8600 entries, 0 to 262504\n",
      "Data columns (total 177 columns):\n",
      "month                                                      int64\n",
      "day                                                        int64\n",
      "forceb_99                                                  uint8\n",
      "forceb_B1                                                  uint8\n",
      "forceb_B2                                                  uint8\n",
      "forceb_B3                                                  uint8\n",
      "forceb_C1                                                  uint8\n",
      "forceb_C2                                                  uint8\n",
      "forceb_C3                                                  uint8\n",
      "forceb_D1                                                  uint8\n",
      "forceb_D2                                                  uint8\n",
      "forceb_D3                                                  uint8\n",
      "forceb_E1                                                  uint8\n",
      "forceb_E2                                                  uint8\n",
      "forceb_E3                                                  uint8\n",
      "forceb_F1                                                  uint8\n",
      "forceb_F2                                                  uint8\n",
      "forceb_F3                                                  uint8\n",
      "forceb_G1                                                  uint8\n",
      "forceb_G2                                                  uint8\n",
      "forceb_G3                                                  uint8\n",
      "forceb_J1                                                  uint8\n",
      "forceb_J2                                                  uint8\n",
      "forceb_J3                                                  uint8\n",
      "forceb_K1                                                  uint8\n",
      "forceb_K2                                                  uint8\n",
      "forceb_K3                                                  uint8\n",
      "forceb_L1                                                  uint8\n",
      "forceb_L2                                                  uint8\n",
      "forceb_L3                                                  uint8\n",
      "forceb_M1                                                  uint8\n",
      "forceb_M2                                                  uint8\n",
      "forceb_M3                                                  uint8\n",
      "forceb_N1                                                  uint8\n",
      "forceb_N2                                                  uint8\n",
      "forceb_N3                                                  uint8\n",
      "forceb_O1                                                  uint8\n",
      "forceb_O2                                                  uint8\n",
      "forceb_O3                                                  uint8\n",
      "forceb_Q1                                                  uint8\n",
      "forceb_Q2                                                  uint8\n",
      "forceb_Q3                                                  uint8\n",
      "forceb_R1                                                  uint8\n",
      "forceb_R2                                                  uint8\n",
      "forceb_R3                                                  uint8\n",
      "forceb_S1                                                  uint8\n",
      "forceb_S2                                                  uint8\n",
      "forceb_S3                                                  uint8\n",
      "forceb_U1                                                  uint8\n",
      "forceb_U2                                                  uint8\n",
      "forceb_U3                                                  uint8\n",
      "forceb_W1                                                  uint8\n",
      "forceb_W2                                                  uint8\n",
      "forceb_W3                                                  uint8\n",
      "Gender_Female                                              uint8\n",
      "Gender_Male                                                uint8\n",
      "Race_American Indian/Alaska Native                         uint8\n",
      "Race_Asian                                                 uint8\n",
      "Race_Black or African American                             uint8\n",
      "Race_Hispanic or Latino                                    uint8\n",
      "Race_Nat Hawaiian/Oth Pac Islander                         uint8\n",
      "Race_White                                                 uint8\n",
      "InitCall_-ASSIGNED DUTY                                    uint8\n",
      "InitCall_-GAS/MAINTENANCE/WASH/GARAGE                      uint8\n",
      "InitCall_-OFF DUTY EMPLOYMENT                              uint8\n",
      "InitCall_-OUT OF CAR/NO REASON GIVEN                       uint8\n",
      "InitCall_-OUT TO PRECINCT/STATION                          uint8\n",
      "InitCall_-PRISONER ESCORT                                  uint8\n",
      "InitCall_ALARM                                             uint8\n",
      "InitCall_ANIMAL                                            uint8\n",
      "InitCall_ANIMAL, REPORT                                    uint8\n",
      "InitCall_ARSON                                             uint8\n",
      "InitCall_ASLT                                              uint8\n",
      "InitCall_ASSIST OTHER AGENCY                               uint8\n",
      "InitCall_ASSIST PUBLIC                                     uint8\n",
      "InitCall_ASSIST SPD                                        uint8\n",
      "InitCall_AUTO                                              uint8\n",
      "InitCall_AUTO RECOVERY                                     uint8\n",
      "InitCall_AUTO THEFT                                        uint8\n",
      "InitCall_AUTO THEFT-IP/JO                                  uint8\n",
      "InitCall_BIAS -RACIAL, POLITICAL, SEXUAL MOTIVATION        uint8\n",
      "InitCall_BOMB THREATS                                      uint8\n",
      "InitCall_BURG                                              uint8\n",
      "InitCall_BURN                                              uint8\n",
      "InitCall_CARJACKING                                        uint8\n",
      "InitCall_CHILD                                             uint8\n",
      "InitCall_DEMONSTRATIONS                                    uint8\n",
      "InitCall_DETOX                                             uint8\n",
      "InitCall_DIRECTED PATROL ACTIVITY                          uint8\n",
      "InitCall_DIST                                              uint8\n",
      "InitCall_DISTURBANCE, MISCELLANEOUS/OTHER                  uint8\n",
      "InitCall_DOA                                               uint8\n",
      "InitCall_DOWN                                              uint8\n",
      "InitCall_DUI                                               uint8\n",
      "InitCall_EXPLOSION                                         uint8\n",
      "InitCall_FIGHT                                             uint8\n",
      "InitCall_FIREWORKS                                         uint8\n",
      "InitCall_FOLLOW UP                                         uint8\n",
      "InitCall_FOOT                                              uint8\n",
      "InitCall_FOUND                                             uint8\n",
      "InitCall_FRAUD                                             uint8\n",
      "InitCall_HARAS                                             uint8\n",
      "InitCall_HARBOR                                            uint8\n",
      "InitCall_HAZ                                               uint8\n",
      "InitCall_ILLEGAL DUMPING                                   uint8\n",
      "InitCall_INFORMATIONAL BROADCASTS                          uint8\n",
      "InitCall_INJURED                                           uint8\n",
      "InitCall_JUVENILE                                          uint8\n",
      "InitCall_LEWD                                              uint8\n",
      "InitCall_LICENSE INSPECTIONS (CHECK FOR)                   uint8\n",
      "InitCall_LIQUOR VIOLATIONS                                 uint8\n",
      "InitCall_LITTERING                                         uint8\n",
      "InitCall_MENTAL                                            uint8\n",
      "InitCall_MISSING                                           uint8\n",
      "InitCall_MVC                                               uint8\n",
      "InitCall_NARCOTICS                                         uint8\n",
      "InitCall_NARCOTICS WARRANT SERVICE                         uint8\n",
      "InitCall_NOISE                                             uint8\n",
      "InitCall_NUISANCE                                          uint8\n",
      "InitCall_OFF DUTY EMPLOYMENT                               uint8\n",
      "InitCall_OPEN                                              uint8\n",
      "InitCall_ORDER                                             uint8\n",
      "InitCall_ORDER                                             uint8\n",
      "InitCall_OVERDOSE                                          uint8\n",
      "InitCall_PANHANDLING, AGGRESSIVE                           uint8\n",
      "InitCall_PARKING VIOLATION (EXCEPT ABANDONED CAR)          uint8\n",
      "InitCall_PARKS VIOLATIONS/CITES (INCLUDES EXCLUSIONS)      uint8\n",
      "InitCall_PEACE-STANDBY TO ASSURE (NO COURT ORDR SVC)       uint8\n",
      "InitCall_PEDESTRIAN VIOLATIONS                             uint8\n",
      "InitCall_PERSON IN BEHAVIORAL/EMOTIONAL CRISIS             uint8\n",
      "InitCall_POLICE (SILENT) ALARM                             uint8\n",
      "InitCall_POWER OUT                                         uint8\n",
      "InitCall_PREDICTIVE POLICING                               uint8\n",
      "InitCall_PREMISE CHECK, OFFICER INITIATED ONVIEW ONLY      uint8\n",
      "InitCall_PROPERTY                                          uint8\n",
      "InitCall_PROWLER                                           uint8\n",
      "InitCall_PURSE SNATCH                                      uint8\n",
      "InitCall_RAPE                                              uint8\n",
      "InitCall_REQUEST TO WATCH                                  uint8\n",
      "InitCall_ROBBERY                                           uint8\n",
      "InitCall_ROBBERY (INCLUDES STRONG ARM)                     uint8\n",
      "InitCall_SECONDARY                                         uint8\n",
      "InitCall_SERVICE                                           uint8\n",
      "InitCall_SEX IN PUBLIC PLACE/VIEW (INCL MASTURBATION)      uint8\n",
      "InitCall_SEX OFFENDER                                      uint8\n",
      "InitCall_SFD                                               uint8\n",
      "InitCall_SHOPLIFT                                          uint8\n",
      "InitCall_SHOTS                                             uint8\n",
      "InitCall_SHOTS -DELAY/INCLUDES HEARD/NO ASSAULT            uint8\n",
      "InitCall_SICK PERSON                                       uint8\n",
      "InitCall_SLEEPER ABOARD BUS/COMMUTER TRAIN                 uint8\n",
      "InitCall_SUICIDE                                           uint8\n",
      "InitCall_SUICIDE, SUICIDAL PERSON AND ATTEMPTS             uint8\n",
      "InitCall_SUSPICIOUS PACKAGE                                uint8\n",
      "InitCall_SUSPICIOUS PERSON, VEHICLE OR INCIDENT            uint8\n",
      "InitCall_SUSPICIOUS STOP                                   uint8\n",
      "InitCall_TEST CALL ONLY                                    uint8\n",
      "InitCall_THEFT (DOES NOT INCLUDE SHOPLIFT OR SVCS)         uint8\n",
      "InitCall_THEFT OF SERVICES                                 uint8\n",
      "InitCall_THREATS                                           uint8\n",
      "InitCall_THREATS (INCLS IN-PERSON/BY PHONE/IN WRITING)     uint8\n",
      "InitCall_TRAF                                              uint8\n",
      "InitCall_TRAFFIC                                           uint8\n",
      "InitCall_TRAFFIC STOP                                      uint8\n",
      "InitCall_TREES DOWN, OBSTRUCTING PUBLIC PROP (NO HAZ)      uint8\n",
      "InitCall_TRESPASS                                          uint8\n",
      "InitCall_TRU                                               uint8\n",
      "InitCall_UNKNOWN                                           uint8\n",
      "InitCall_VICE                                              uint8\n",
      "InitCall_WARRANT                                           uint8\n",
      "InitCall_WARRANT PICKUP                                    uint8\n",
      "InitCall_WATER FLOODS (BROKEN MAINS/HYDRANTS, NO HAZ)      uint8\n",
      "InitCall_WEAPN                                             uint8\n",
      "InitCall_WEAPN-IP/JO-GUN,DEADLY WPN (NO THRT/ASLT/DIST)    uint8\n",
      "InitCall_WIRES DOWN (PHONE, ELECTRICAL,ETC.)               uint8\n",
      "day_of_week                                                int64\n",
      "call_hour                                                  int64\n",
      "dtypes: int64(4), uint8(173)\n",
      "memory usage: 1.7 MB\n"
     ]
    }
   ],
   "source": [
    "rev_df.info(verbose=True)"
   ]
  },
  {
   "cell_type": "code",
   "execution_count": 800,
   "metadata": {},
   "outputs": [],
   "source": [
    "clf = RandomForestClassifier(n_estimators=100, random_state=659, oob_score=True)\n",
    "\n"
   ]
  },
  {
   "cell_type": "code",
   "execution_count": 801,
   "metadata": {},
   "outputs": [
    {
     "name": "stdout",
     "output_type": "stream",
     "text": [
      "<class 'pandas.core.frame.DataFrame'>\n",
      "Int64Index: 8600 entries, 0 to 262504\n",
      "Data columns (total 177 columns):\n",
      "month                                                      int64\n",
      "day                                                        int64\n",
      "forceb_99                                                  uint8\n",
      "forceb_B1                                                  uint8\n",
      "forceb_B2                                                  uint8\n",
      "forceb_B3                                                  uint8\n",
      "forceb_C1                                                  uint8\n",
      "forceb_C2                                                  uint8\n",
      "forceb_C3                                                  uint8\n",
      "forceb_D1                                                  uint8\n",
      "forceb_D2                                                  uint8\n",
      "forceb_D3                                                  uint8\n",
      "forceb_E1                                                  uint8\n",
      "forceb_E2                                                  uint8\n",
      "forceb_E3                                                  uint8\n",
      "forceb_F1                                                  uint8\n",
      "forceb_F2                                                  uint8\n",
      "forceb_F3                                                  uint8\n",
      "forceb_G1                                                  uint8\n",
      "forceb_G2                                                  uint8\n",
      "forceb_G3                                                  uint8\n",
      "forceb_J1                                                  uint8\n",
      "forceb_J2                                                  uint8\n",
      "forceb_J3                                                  uint8\n",
      "forceb_K1                                                  uint8\n",
      "forceb_K2                                                  uint8\n",
      "forceb_K3                                                  uint8\n",
      "forceb_L1                                                  uint8\n",
      "forceb_L2                                                  uint8\n",
      "forceb_L3                                                  uint8\n",
      "forceb_M1                                                  uint8\n",
      "forceb_M2                                                  uint8\n",
      "forceb_M3                                                  uint8\n",
      "forceb_N1                                                  uint8\n",
      "forceb_N2                                                  uint8\n",
      "forceb_N3                                                  uint8\n",
      "forceb_O1                                                  uint8\n",
      "forceb_O2                                                  uint8\n",
      "forceb_O3                                                  uint8\n",
      "forceb_Q1                                                  uint8\n",
      "forceb_Q2                                                  uint8\n",
      "forceb_Q3                                                  uint8\n",
      "forceb_R1                                                  uint8\n",
      "forceb_R2                                                  uint8\n",
      "forceb_R3                                                  uint8\n",
      "forceb_S1                                                  uint8\n",
      "forceb_S2                                                  uint8\n",
      "forceb_S3                                                  uint8\n",
      "forceb_U1                                                  uint8\n",
      "forceb_U2                                                  uint8\n",
      "forceb_U3                                                  uint8\n",
      "forceb_W1                                                  uint8\n",
      "forceb_W2                                                  uint8\n",
      "forceb_W3                                                  uint8\n",
      "Gender_Female                                              uint8\n",
      "Gender_Male                                                uint8\n",
      "Race_American Indian/Alaska Native                         uint8\n",
      "Race_Asian                                                 uint8\n",
      "Race_Black or African American                             uint8\n",
      "Race_Hispanic or Latino                                    uint8\n",
      "Race_Nat Hawaiian/Oth Pac Islander                         uint8\n",
      "Race_White                                                 uint8\n",
      "InitCall_-ASSIGNED DUTY                                    uint8\n",
      "InitCall_-GAS/MAINTENANCE/WASH/GARAGE                      uint8\n",
      "InitCall_-OFF DUTY EMPLOYMENT                              uint8\n",
      "InitCall_-OUT OF CAR/NO REASON GIVEN                       uint8\n",
      "InitCall_-OUT TO PRECINCT/STATION                          uint8\n",
      "InitCall_-PRISONER ESCORT                                  uint8\n",
      "InitCall_ALARM                                             uint8\n",
      "InitCall_ANIMAL                                            uint8\n",
      "InitCall_ANIMAL, REPORT                                    uint8\n",
      "InitCall_ARSON                                             uint8\n",
      "InitCall_ASLT                                              uint8\n",
      "InitCall_ASSIST OTHER AGENCY                               uint8\n",
      "InitCall_ASSIST PUBLIC                                     uint8\n",
      "InitCall_ASSIST SPD                                        uint8\n",
      "InitCall_AUTO                                              uint8\n",
      "InitCall_AUTO RECOVERY                                     uint8\n",
      "InitCall_AUTO THEFT                                        uint8\n",
      "InitCall_AUTO THEFT-IP/JO                                  uint8\n",
      "InitCall_BIAS -RACIAL, POLITICAL, SEXUAL MOTIVATION        uint8\n",
      "InitCall_BOMB THREATS                                      uint8\n",
      "InitCall_BURG                                              uint8\n",
      "InitCall_BURN                                              uint8\n",
      "InitCall_CARJACKING                                        uint8\n",
      "InitCall_CHILD                                             uint8\n",
      "InitCall_DEMONSTRATIONS                                    uint8\n",
      "InitCall_DETOX                                             uint8\n",
      "InitCall_DIRECTED PATROL ACTIVITY                          uint8\n",
      "InitCall_DIST                                              uint8\n",
      "InitCall_DISTURBANCE, MISCELLANEOUS/OTHER                  uint8\n",
      "InitCall_DOA                                               uint8\n",
      "InitCall_DOWN                                              uint8\n",
      "InitCall_DUI                                               uint8\n",
      "InitCall_EXPLOSION                                         uint8\n",
      "InitCall_FIGHT                                             uint8\n",
      "InitCall_FIREWORKS                                         uint8\n",
      "InitCall_FOLLOW UP                                         uint8\n",
      "InitCall_FOOT                                              uint8\n",
      "InitCall_FOUND                                             uint8\n",
      "InitCall_FRAUD                                             uint8\n",
      "InitCall_HARAS                                             uint8\n",
      "InitCall_HARBOR                                            uint8\n",
      "InitCall_HAZ                                               uint8\n",
      "InitCall_ILLEGAL DUMPING                                   uint8\n",
      "InitCall_INFORMATIONAL BROADCASTS                          uint8\n",
      "InitCall_INJURED                                           uint8\n",
      "InitCall_JUVENILE                                          uint8\n",
      "InitCall_LEWD                                              uint8\n",
      "InitCall_LICENSE INSPECTIONS (CHECK FOR)                   uint8\n",
      "InitCall_LIQUOR VIOLATIONS                                 uint8\n",
      "InitCall_LITTERING                                         uint8\n",
      "InitCall_MENTAL                                            uint8\n",
      "InitCall_MISSING                                           uint8\n",
      "InitCall_MVC                                               uint8\n",
      "InitCall_NARCOTICS                                         uint8\n",
      "InitCall_NARCOTICS WARRANT SERVICE                         uint8\n",
      "InitCall_NOISE                                             uint8\n",
      "InitCall_NUISANCE                                          uint8\n",
      "InitCall_OFF DUTY EMPLOYMENT                               uint8\n",
      "InitCall_OPEN                                              uint8\n",
      "InitCall_ORDER                                             uint8\n",
      "InitCall_ORDER                                             uint8\n",
      "InitCall_OVERDOSE                                          uint8\n",
      "InitCall_PANHANDLING, AGGRESSIVE                           uint8\n",
      "InitCall_PARKING VIOLATION (EXCEPT ABANDONED CAR)          uint8\n",
      "InitCall_PARKS VIOLATIONS/CITES (INCLUDES EXCLUSIONS)      uint8\n",
      "InitCall_PEACE-STANDBY TO ASSURE (NO COURT ORDR SVC)       uint8\n",
      "InitCall_PEDESTRIAN VIOLATIONS                             uint8\n",
      "InitCall_PERSON IN BEHAVIORAL/EMOTIONAL CRISIS             uint8\n",
      "InitCall_POLICE (SILENT) ALARM                             uint8\n",
      "InitCall_POWER OUT                                         uint8\n",
      "InitCall_PREDICTIVE POLICING                               uint8\n",
      "InitCall_PREMISE CHECK, OFFICER INITIATED ONVIEW ONLY      uint8\n",
      "InitCall_PROPERTY                                          uint8\n",
      "InitCall_PROWLER                                           uint8\n",
      "InitCall_PURSE SNATCH                                      uint8\n",
      "InitCall_RAPE                                              uint8\n",
      "InitCall_REQUEST TO WATCH                                  uint8\n",
      "InitCall_ROBBERY                                           uint8\n",
      "InitCall_ROBBERY (INCLUDES STRONG ARM)                     uint8\n",
      "InitCall_SECONDARY                                         uint8\n",
      "InitCall_SERVICE                                           uint8\n",
      "InitCall_SEX IN PUBLIC PLACE/VIEW (INCL MASTURBATION)      uint8\n",
      "InitCall_SEX OFFENDER                                      uint8\n",
      "InitCall_SFD                                               uint8\n",
      "InitCall_SHOPLIFT                                          uint8\n",
      "InitCall_SHOTS                                             uint8\n",
      "InitCall_SHOTS -DELAY/INCLUDES HEARD/NO ASSAULT            uint8\n",
      "InitCall_SICK PERSON                                       uint8\n",
      "InitCall_SLEEPER ABOARD BUS/COMMUTER TRAIN                 uint8\n",
      "InitCall_SUICIDE                                           uint8\n",
      "InitCall_SUICIDE, SUICIDAL PERSON AND ATTEMPTS             uint8\n",
      "InitCall_SUSPICIOUS PACKAGE                                uint8\n",
      "InitCall_SUSPICIOUS PERSON, VEHICLE OR INCIDENT            uint8\n",
      "InitCall_SUSPICIOUS STOP                                   uint8\n",
      "InitCall_TEST CALL ONLY                                    uint8\n",
      "InitCall_THEFT (DOES NOT INCLUDE SHOPLIFT OR SVCS)         uint8\n",
      "InitCall_THEFT OF SERVICES                                 uint8\n",
      "InitCall_THREATS                                           uint8\n",
      "InitCall_THREATS (INCLS IN-PERSON/BY PHONE/IN WRITING)     uint8\n",
      "InitCall_TRAF                                              uint8\n",
      "InitCall_TRAFFIC                                           uint8\n",
      "InitCall_TRAFFIC STOP                                      uint8\n",
      "InitCall_TREES DOWN, OBSTRUCTING PUBLIC PROP (NO HAZ)      uint8\n",
      "InitCall_TRESPASS                                          uint8\n",
      "InitCall_TRU                                               uint8\n",
      "InitCall_UNKNOWN                                           uint8\n",
      "InitCall_VICE                                              uint8\n",
      "InitCall_WARRANT                                           uint8\n",
      "InitCall_WARRANT PICKUP                                    uint8\n",
      "InitCall_WATER FLOODS (BROKEN MAINS/HYDRANTS, NO HAZ)      uint8\n",
      "InitCall_WEAPN                                             uint8\n",
      "InitCall_WEAPN-IP/JO-GUN,DEADLY WPN (NO THRT/ASLT/DIST)    uint8\n",
      "InitCall_WIRES DOWN (PHONE, ELECTRICAL,ETC.)               uint8\n",
      "day_of_week                                                int64\n",
      "call_hour                                                  int64\n",
      "dtypes: int64(4), uint8(173)\n",
      "memory usage: 1.7 MB\n"
     ]
    }
   ],
   "source": [
    "# X for classifier\n",
    "X = rev_df\n",
    "\n",
    "#X.info(verbose=True)\n",
    "X.info(verbose=True)"
   ]
  },
  {
   "cell_type": "code",
   "execution_count": 802,
   "metadata": {},
   "outputs": [],
   "source": [
    "cols = X.columns"
   ]
  },
  {
   "cell_type": "code",
   "execution_count": 803,
   "metadata": {},
   "outputs": [],
   "source": [
    "X_scaled = StandardScaler().fit_transform(X)"
   ]
  },
  {
   "cell_type": "code",
   "execution_count": 804,
   "metadata": {},
   "outputs": [
    {
     "data": {
      "text/plain": [
       "((8600,), (8600, 177))"
      ]
     },
     "execution_count": 804,
     "metadata": {},
     "output_type": "execute_result"
    }
   ],
   "source": [
    "y = new_merged.Force_Level\n",
    "y.replace({\"Level 1 - Use of Force\":1,\"Level 2 - Use of Force\":2,\"Level 3 - OIS\":4, \"Level 3 - Use of Force\": 3 })\n",
    "y.shape, X_scaled.shape"
   ]
  },
  {
   "cell_type": "code",
   "execution_count": 805,
   "metadata": {},
   "outputs": [],
   "source": [
    "X_train, X_test, y_train, y_test = train_test_split(X_scaled, y, test_size=0.2, random_state=659)\n"
   ]
  },
  {
   "cell_type": "code",
   "execution_count": 806,
   "metadata": {},
   "outputs": [
    {
     "data": {
      "text/plain": [
       "RandomForestClassifier(bootstrap=True, class_weight=None, criterion='gini',\n",
       "                       max_depth=None, max_features='auto', max_leaf_nodes=None,\n",
       "                       min_impurity_decrease=0.0, min_impurity_split=None,\n",
       "                       min_samples_leaf=1, min_samples_split=2,\n",
       "                       min_weight_fraction_leaf=0.0, n_estimators=100,\n",
       "                       n_jobs=None, oob_score=True, random_state=659, verbose=0,\n",
       "                       warm_start=False)"
      ]
     },
     "execution_count": 806,
     "metadata": {},
     "output_type": "execute_result"
    }
   ],
   "source": [
    "clf.fit(X_train, y_train) #takes three minutes"
   ]
  },
  {
   "cell_type": "code",
   "execution_count": 807,
   "metadata": {},
   "outputs": [
    {
     "data": {
      "text/plain": [
       "(177, 177)"
      ]
     },
     "execution_count": 807,
     "metadata": {},
     "output_type": "execute_result"
    }
   ],
   "source": [
    "len(clf.feature_importances_), len(cols)"
   ]
  },
  {
   "cell_type": "code",
   "execution_count": 808,
   "metadata": {},
   "outputs": [
    {
     "data": {
      "text/plain": [
       "Index(['day', 'call_hour', 'month', 'day_of_week',\n",
       "       'Race_Black or African American', 'Race_White', 'forceb_E2',\n",
       "       'forceb_M3', 'Gender_Female', 'forceb_K2', 'Gender_Male', 'forceb_M1',\n",
       "       'InitCall_DISTURBANCE, MISCELLANEOUS/OTHER', 'InitCall_ASLT',\n",
       "       'InitCall_PREMISE CHECK, OFFICER INITIATED ONVIEW ONLY', 'forceb_K3',\n",
       "       'forceb_M2', 'InitCall_SUSPICIOUS PERSON, VEHICLE OR INCIDENT',\n",
       "       'forceb_D1'],\n",
       "      dtype='object')"
      ]
     },
     "execution_count": 808,
     "metadata": {},
     "output_type": "execute_result"
    }
   ],
   "source": [
    "# most important features\n",
    "indices = np.argsort(clf.feature_importances_)\n",
    "big = indices[-1:-20:-1]\n",
    "\n",
    "cols[big]"
   ]
  },
  {
   "cell_type": "code",
   "execution_count": 809,
   "metadata": {},
   "outputs": [
    {
     "data": {
      "text/plain": [
       "Index(['InitCall_TEST CALL ONLY', 'InitCall_ANIMAL, REPORT',\n",
       "       'InitCall_EXPLOSION', 'InitCall_INFORMATIONAL BROADCASTS',\n",
       "       'InitCall_POWER OUT', 'InitCall_BOMB THREATS',\n",
       "       'InitCall_SHOTS -DELAY/INCLUDES HEARD/NO ASSAULT',\n",
       "       'InitCall_SLEEPER ABOARD BUS/COMMUTER TRAIN', 'InitCall_RAPE',\n",
       "       'InitCall_WARRANT PICKUP'],\n",
       "      dtype='object')"
      ]
     },
     "execution_count": 809,
     "metadata": {},
     "output_type": "execute_result"
    }
   ],
   "source": [
    "# least important features\n",
    "little = indices[:10]\n",
    "cols[little]\n"
   ]
  },
  {
   "cell_type": "code",
   "execution_count": 810,
   "metadata": {},
   "outputs": [
    {
     "data": {
      "text/plain": [
       "0.8989825581395349"
      ]
     },
     "execution_count": 810,
     "metadata": {},
     "output_type": "execute_result"
    }
   ],
   "source": [
    "clf.oob_score_ # accuracy of training set"
   ]
  },
  {
   "cell_type": "code",
   "execution_count": 811,
   "metadata": {},
   "outputs": [],
   "source": [
    "yhat = clf.predict(X_test)"
   ]
  },
  {
   "cell_type": "code",
   "execution_count": 812,
   "metadata": {},
   "outputs": [],
   "source": [
    "# if I were going to use this to predict the outcome, it would have to take human input and then run it through \n",
    "# all the things and make it a very long array\n",
    "\n"
   ]
  },
  {
   "cell_type": "code",
   "execution_count": 813,
   "metadata": {},
   "outputs": [
    {
     "data": {
      "text/plain": [
       "0.8930232558139535"
      ]
     },
     "execution_count": 813,
     "metadata": {},
     "output_type": "execute_result"
    }
   ],
   "source": [
    "sum(yhat == y_test) / len(yhat) # accuracy of testing set"
   ]
  },
  {
   "cell_type": "code",
   "execution_count": 814,
   "metadata": {},
   "outputs": [],
   "source": [
    "pp = clf.predict_proba(X_test)"
   ]
  },
  {
   "cell_type": "code",
   "execution_count": 815,
   "metadata": {},
   "outputs": [
    {
     "data": {
      "text/plain": [
       "array(['Level 1 - Use of Force', 'Level 2 - Use of Force',\n",
       "       'Level 3 - OIS', 'Level 3 - Use of Force'], dtype=object)"
      ]
     },
     "execution_count": 815,
     "metadata": {},
     "output_type": "execute_result"
    }
   ],
   "source": [
    "clf.classes_"
   ]
  },
  {
   "cell_type": "code",
   "execution_count": 816,
   "metadata": {},
   "outputs": [
    {
     "name": "stdout",
     "output_type": "stream",
     "text": [
      "Pr of Force 1 is: 0.7835, Pr of Force 2: 0.19649999999999998, Pr of Force 3: 0.02, & Pr of Officer Involved Shooting: 0.0\n",
      "Pr of Force 1 is: 0.09, Pr of Force 2: 0.04, Pr of Force 3: 0.87, & Pr of Officer Involved Shooting: 0.0\n",
      "Pr of Force 1 is: 0.282, Pr of Force 2: 0.718, Pr of Force 3: 0.0, & Pr of Officer Involved Shooting: 0.0\n",
      "Pr of Force 1 is: 0.09, Pr of Force 2: 0.02, Pr of Force 3: 0.89, & Pr of Officer Involved Shooting: 0.0\n",
      "Pr of Force 1 is: 0.845, Pr of Force 2: 0.125, Pr of Force 3: 0.03, & Pr of Officer Involved Shooting: 0.0\n",
      "Pr of Force 1 is: 0.99, Pr of Force 2: 0.01, Pr of Force 3: 0.0, & Pr of Officer Involved Shooting: 0.0\n",
      "Pr of Force 1 is: 1.0, Pr of Force 2: 0.0, Pr of Force 3: 0.0, & Pr of Officer Involved Shooting: 0.0\n",
      "Pr of Force 1 is: 1.0, Pr of Force 2: 0.0, Pr of Force 3: 0.0, & Pr of Officer Involved Shooting: 0.0\n",
      "Pr of Force 1 is: 0.935, Pr of Force 2: 0.065, Pr of Force 3: 0.0, & Pr of Officer Involved Shooting: 0.0\n",
      "Pr of Force 1 is: 0.97, Pr of Force 2: 0.03, Pr of Force 3: 0.0, & Pr of Officer Involved Shooting: 0.0\n"
     ]
    }
   ],
   "source": [
    "for p in pp[:10]:\n",
    "    print(f\"Pr of Force 1 is: {p[0]}, Pr of Force 2: {p[1]}, Pr of Force 3: {p[3]}, & Pr of Officer Involved Shooting: {p[2]}\")\n",
    "          \n",
    "          "
   ]
  },
  {
   "cell_type": "code",
   "execution_count": 817,
   "metadata": {},
   "outputs": [],
   "source": [
    "rdl = rev_df_leaky.copy(deep=True)"
   ]
  },
  {
   "cell_type": "code",
   "execution_count": 818,
   "metadata": {},
   "outputs": [],
   "source": [
    "race = rdl.groupby(\"Subject_Race\")"
   ]
  },
  {
   "cell_type": "code",
   "execution_count": 819,
   "metadata": {},
   "outputs": [
    {
     "data": {
      "text/plain": [
       "Level 1 - Use of Force    6303\n",
       "Level 2 - Use of Force    2108\n",
       "Level 3 - Use of Force     125\n",
       "Level 3 - OIS               64\n",
       "Name: Force_Level, dtype: int64"
      ]
     },
     "execution_count": 819,
     "metadata": {},
     "output_type": "execute_result"
    }
   ],
   "source": [
    "rdl[\"Force_Level\"].value_counts()"
   ]
  },
  {
   "cell_type": "code",
   "execution_count": 820,
   "metadata": {},
   "outputs": [
    {
     "data": {
      "text/plain": [
       "Index(['Incident_Num', 'Incident_Type', 'Precinct', 'Sector', 'Beat',\n",
       "       'Officer_ID', 'Subject_ID', 'Subject_Race', 'Subject_Gender', 'year',\n",
       "       'month', 'day', 'time', 'epoch'],\n",
       "      dtype='object')"
      ]
     },
     "execution_count": 820,
     "metadata": {},
     "output_type": "execute_result"
    }
   ],
   "source": [
    "force.columns"
   ]
  },
  {
   "cell_type": "code",
   "execution_count": 524,
   "metadata": {},
   "outputs": [
    {
     "data": {
      "text/plain": [
       "Level 1 - Use of Force    7474\n",
       "Level 2 - Use of Force    2185\n",
       "Level 3 - Use of Force     105\n",
       "Level 3 - OIS               74\n",
       "Name: Incident_Type, dtype: int64"
      ]
     },
     "execution_count": 524,
     "metadata": {},
     "output_type": "execute_result"
    }
   ],
   "source": [
    "force[\"Incident_Type\"].value_counts()"
   ]
  },
  {
   "cell_type": "code",
   "execution_count": 525,
   "metadata": {},
   "outputs": [],
   "source": [
    "# need to do gradient boosting to do partial dependency plotting\n",
    "gdbr = GradientBoostingClassifier(n_estimators=100, learning_rate=1.0,\n",
    "                                  max_depth=1, random_state=0).fit(X_scaled, y)\n"
   ]
  },
  {
   "cell_type": "code",
   "execution_count": 526,
   "metadata": {},
   "outputs": [
    {
     "data": {
      "text/plain": [
       "Index(['day', 'call_hour', 'month', 'day_of_week', 'Race_White',\n",
       "       'Race_Black or African American', 'CallType_911', 'CallType_ONVIEW',\n",
       "       'Race_Not Specified'],\n",
       "      dtype='object')"
      ]
     },
     "execution_count": 526,
     "metadata": {},
     "output_type": "execute_result"
    }
   ],
   "source": [
    "#gdbr.feature_importances_\n",
    "\n",
    "indices_gdbr = np.argsort(gdbr.feature_importances_)\n",
    "big_gdbr = indices[-1:-10:-1]\n",
    "\n",
    "cols[big_gdbr]\n"
   ]
  },
  {
   "cell_type": "code",
   "execution_count": null,
   "metadata": {},
   "outputs": [],
   "source": [
    "force3[force3.month == 12]"
   ]
  },
  {
   "cell_type": "code",
   "execution_count": null,
   "metadata": {},
   "outputs": [],
   "source": [
    "plt.hist(force3.month, bins=12);"
   ]
  },
  {
   "cell_type": "code",
   "execution_count": null,
   "metadata": {},
   "outputs": [],
   "source": [
    "list(big_gdbr)"
   ]
  },
  {
   "cell_type": "code",
   "execution_count": null,
   "metadata": {
    "scrolled": true
   },
   "outputs": [],
   "source": [
    "\n",
    "# make plots\n",
    "my_plots = plot_partial_dependence(gdbr,       \n",
    "                                   features=[131, 5361], # column numbers of plots to show\n",
    "                                   X=X,            # raw predictors data.\n",
    "                                   #feature_names=['day', 'month', 'day_of_week'],\n",
    "                                   target=[\"Level 1 - Use of Force\"],# for multi-class must use label\n",
    "                                   grid_resolution=10)"
   ]
  },
  {
   "cell_type": "code",
   "execution_count": null,
   "metadata": {},
   "outputs": [],
   "source": [
    "#gdbr.predict(X_test) \n",
    "#gdbr.predict_proba(X_test)\n",
    "gdbr.score(X_test, y_test)"
   ]
  },
  {
   "cell_type": "code",
   "execution_count": null,
   "metadata": {},
   "outputs": [],
   "source": [
    "\n",
    "importance = np.std([tree.feature_importances_\n",
    "                            for tree in clf.estimators_], axis=0)\n",
    "\n",
    "r = range(importance.shape[0])\n",
    "f = clf.feature_importances_\n",
    "yerr = importance\n",
    "\n",
    "# Extend the code to find the standard deviation of the importance for each feature across all trees. \n",
    "fig, ax = plt.subplots(1,1, figsize=(20,8), sharex=True)\n",
    "#axs.flatten()\n",
    "\n",
    "ax.errorbar(r,f, yerr=yerr)\n",
    "ax.set_title('all errorbars')\n",
    "\n",
    "\n",
    "#fig.suptitle('Errors')\n",
    "\n",
    "plt.tight_layout()\n",
    "plt.xticks(np.arange(len(r)), X.columns, rotation=\"vertical\")\n",
    "plt.show();\n",
    "#plt.bar(r, f, yerr=yerr, align=\"center\");\n",
    "\n",
    "\n"
   ]
  },
  {
   "cell_type": "code",
   "execution_count": null,
   "metadata": {},
   "outputs": [],
   "source": []
  },
  {
   "cell_type": "code",
   "execution_count": null,
   "metadata": {},
   "outputs": [],
   "source": []
  },
  {
   "cell_type": "code",
   "execution_count": null,
   "metadata": {},
   "outputs": [],
   "source": [
    "'''force3.Incident_Num.value_counts()\n",
    "t = force3[force3[\"Incident_Num\"] == 12308]\n",
    "#t.drop_duplicates(\"CAD_Event_Number\", inplace=True) # 'force_beat', 'calls_beat'\n",
    "len(t.CAD_Event_Number.value_counts()), len(t)\n",
    "t2 = t[t.force_beat.values == t.calls_beat.values]\n",
    "t2'''\n",
    "\n",
    "'''force3 = merged[merged.Force_Level == \"Level 3 - Use of Force\"]\n",
    "force2 = merged[merged.Force_Level == \"Level 2 - Use of Force\"]\n",
    "force1 = merged[merged.Force_Level == \"Level 1 - Use of Force\"]\n",
    "len(force3), len(force2), len(force1), len(merged)'''\n",
    "\n",
    "'''# group by incident number first\n",
    "\n",
    "x = force3.Subject_Race.value_counts()\n",
    "lst = list(x.values)\n",
    "plt.bar(np.arange(7), lst)\n",
    "#plt.xticks([])\n",
    "#plt.xticks()\n",
    "\n",
    "plt.xticks((0,1, 2, 3,4,5,6), ('White', 'Black or African American ', 'Not Specified ','Hispanic or Latino',\n",
    "                               'Asian','American Indian/Alaska Native ','Nat Hawaiian/Oth Pac Islander'), \n",
    "          rotation='vertical')\n",
    "plt.title(\"Level 3 Force by Race 2014-2019\");'''"
   ]
  },
  {
   "cell_type": "code",
   "execution_count": null,
   "metadata": {},
   "outputs": [],
   "source": [
    "'''force3beats = force3[force3.force_beat.values == force3.calls_beat.values]\n",
    "len(force3beats)\n",
    "f3b = force3beats.drop([\"index\", \"Force_Level\", \"Precinct\"], axis=1)\n",
    "f3b.drop(\"Sector\", axis=1, inplace=True)\n",
    "#f3b '''"
   ]
  },
  {
   "cell_type": "code",
   "execution_count": null,
   "metadata": {},
   "outputs": [],
   "source": [
    "'''#rev_df.drop([\"Subject_Gender\", \"Subject_Race\"], axis=1, inplace=True)\n",
    "rev_df.info(verbose=True)'''"
   ]
  },
  {
   "cell_type": "code",
   "execution_count": null,
   "metadata": {},
   "outputs": [],
   "source": [
    "'''y = force3.Subject_Gender.value_counts()\n",
    "lst = list(y.values)\n",
    "plt.bar(np.arange(2), lst)\n",
    "#plt.xticks([])\n",
    "#plt.xticks()\n",
    "\n",
    "plt.xticks((0,1), ('Male', 'Female'), \n",
    "          rotation='horizontal')\n",
    "plt.title(\"Level 3 Force by Gender 2014-2019\");'''"
   ]
  },
  {
   "cell_type": "code",
   "execution_count": null,
   "metadata": {},
   "outputs": [],
   "source": []
  },
  {
   "cell_type": "code",
   "execution_count": 822,
   "metadata": {},
   "outputs": [
    {
     "data": {
      "text/plain": [
       "PREMISE CHECK, OFFICER INITIATED ONVIEW ONLY      718\n",
       "DISTURBANCE, MISCELLANEOUS/OTHER                  696\n",
       "ASLT                                              520\n",
       "SUSPICIOUS PERSON, VEHICLE OR INCIDENT            439\n",
       "TRAFFIC STOP                                      439\n",
       "OFF DUTY EMPLOYMENT                               282\n",
       "FIGHT                                             278\n",
       "SUSPICIOUS STOP                                   260\n",
       "MVC                                               256\n",
       "DIST                                              228\n",
       "THEFT (DOES NOT INCLUDE SHOPLIFT OR SVCS)         211\n",
       "TRESPASS                                          204\n",
       "BURG                                              185\n",
       "AUTO RECOVERY                                     179\n",
       "DIRECTED PATROL ACTIVITY                          161\n",
       "PROPERTY                                          154\n",
       "ALARM                                             147\n",
       "WARRANT                                           146\n",
       "FOLLOW UP                                         141\n",
       "SHOPLIFT                                          139\n",
       "TRU                                               137\n",
       "NUISANCE                                          135\n",
       "-ASSIGNED DUTY                                    128\n",
       "UNKNOWN                                           125\n",
       "SUICIDE                                           123\n",
       "PARKING VIOLATION (EXCEPT ABANDONED CAR)          118\n",
       "THREATS (INCLS IN-PERSON/BY PHONE/IN WRITING)     114\n",
       "WEAPN-IP/JO-GUN,DEADLY WPN (NO THRT/ASLT/DIST)    113\n",
       "NARCOTICS                                         112\n",
       "HAZ                                               102\n",
       "                                                 ... \n",
       "AUTO                                                5\n",
       "BURN                                                5\n",
       "WATER FLOODS (BROKEN MAINS/HYDRANTS, NO HAZ)        5\n",
       "THREATS                                             5\n",
       "ORDER                                               5\n",
       "RAPE                                                5\n",
       "-OUT OF CAR/NO REASON GIVEN                         4\n",
       "AUTO THEFT-IP/JO                                    4\n",
       "CARJACKING                                          4\n",
       "DEMONSTRATIONS                                      4\n",
       "NARCOTICS WARRANT SERVICE                           4\n",
       "TRAF                                                4\n",
       "PURSE SNATCH                                        3\n",
       "DOA                                                 3\n",
       "BIAS -RACIAL, POLITICAL, SEXUAL MOTIVATION          3\n",
       "TREES DOWN, OBSTRUCTING PUBLIC PROP (NO HAZ)        3\n",
       "SLEEPER ABOARD BUS/COMMUTER TRAIN                   3\n",
       "PEDESTRIAN VIOLATIONS                               3\n",
       "SEX OFFENDER                                        2\n",
       "POLICE (SILENT) ALARM                               2\n",
       "POWER OUT                                           2\n",
       "TEST CALL ONLY                                      1\n",
       "EXPLOSION                                           1\n",
       "WARRANT PICKUP                                      1\n",
       "ANIMAL, REPORT                                      1\n",
       "HARBOR                                              1\n",
       "BOMB THREATS                                        1\n",
       "SHOTS -DELAY/INCLUDES HEARD/NO ASSAULT              1\n",
       "INFORMATIONAL BROADCASTS                            1\n",
       "MENTAL                                              1\n",
       "Name: Initial_Call_Type, Length: 113, dtype: int64"
      ]
     },
     "execution_count": 822,
     "metadata": {},
     "output_type": "execute_result"
    }
   ],
   "source": [
    "new_merged[\"Initial_Call_Type\"].value_counts()"
   ]
  },
  {
   "cell_type": "code",
   "execution_count": null,
   "metadata": {},
   "outputs": [],
   "source": []
  },
  {
   "cell_type": "markdown",
   "metadata": {},
   "source": [
    "Make a way to enter in info\n"
   ]
  },
  {
   "cell_type": "code",
   "execution_count": 705,
   "metadata": {},
   "outputs": [
    {
     "name": "stdout",
     "output_type": "stream",
     "text": [
      "2019 7 6 18\n"
     ]
    }
   ],
   "source": [
    "# time info[day, day of the week, call hour, month], location[beat, sector, precinct], gender, race, \n",
    "# initial call --> drop down menu\n",
    "# could change later to just ask for address\n",
    "\n",
    "def new_call(gender, race, reason, beat):\n",
    "    now = datetime.datetime.now()\n",
    "    month = now.month\n",
    "    day = now.day\n",
    "    hour = now.hour\n",
    "    day_of_week = now.dt.dayofweek\n",
    "    \n"
   ]
  },
  {
   "cell_type": "code",
   "execution_count": 700,
   "metadata": {},
   "outputs": [
    {
     "name": "stdout",
     "output_type": "stream",
     "text": [
      "What is your street address?1201 summit ave\n"
     ]
    }
   ],
   "source": []
  },
  {
   "cell_type": "code",
   "execution_count": null,
   "metadata": {},
   "outputs": [],
   "source": []
  }
 ],
 "metadata": {
  "kernelspec": {
   "display_name": "Python 3",
   "language": "python",
   "name": "python3"
  },
  "language_info": {
   "codemirror_mode": {
    "name": "ipython",
    "version": 3
   },
   "file_extension": ".py",
   "mimetype": "text/x-python",
   "name": "python",
   "nbconvert_exporter": "python",
   "pygments_lexer": "ipython3",
   "version": "3.7.3"
  }
 },
 "nbformat": 4,
 "nbformat_minor": 2
}
