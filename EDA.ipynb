{
 "cells": [
  {
   "cell_type": "code",
   "execution_count": 1,
   "metadata": {},
   "outputs": [],
   "source": [
    "import pandas as pd\n",
    "import os\n",
    "from datetime import datetime\n",
    "import sqlite3\n",
    "from sqlalchemy import create_engine\n",
    "engine = create_engine('sqlite://', echo=False)\n",
    "\n",
    "import matplotlib.pyplot as plt\n",
    "import numpy as np\n",
    "from datetime import datetime\n",
    "from sklearn.decomposition import PCA\n",
    "from sklearn.preprocessing import StandardScaler\n",
    "import seaborn as sns\n",
    "from sklearn.ensemble import RandomForestClassifier, GradientBoostingClassifier\n",
    "from sklearn.model_selection import train_test_split\n",
    "from sklearn.inspection import plot_partial_dependence\n",
    "from sklearn.inspection import partial_dependence \n",
    "\n",
    "\n",
    "%matplotlib inline"
   ]
  },
  {
   "cell_type": "code",
   "execution_count": 2,
   "metadata": {},
   "outputs": [],
   "source": [
    "# function to convert datetime object to 4 - for force ONLY\n",
    "def datetime(df, col_as_str):\n",
    "    yearmonthday = df[col_as_str].astype(str).str.split(\" \")\n",
    "    ymd = yearmonthday.apply(lambda x: x[0]).str.split(\"/\")\n",
    "    year = ymd.apply(lambda x: x[2])\n",
    "    month = ymd.apply(lambda x: x[0])\n",
    "    day = ymd.apply(lambda x: x[1])\n",
    "    time = ymd = yearmonthday.apply(lambda x: x[1]+x[2]).astype(str)\n",
    "    df[\"year\"] = year\n",
    "    df[\"month\"] = month\n",
    "    df[\"day\"] = day\n",
    "    df[\"time\"] = time\n",
    "    return df\n"
   ]
  },
  {
   "cell_type": "code",
   "execution_count": 35,
   "metadata": {},
   "outputs": [],
   "source": [
    "'''def callstime(df, col_arrive):\n",
    "    yearmonthday = df[col_arrive].astype(str).str.split(\" \")\n",
    "    df[\"year\"] = yearmonthday.apply(lambda x: x[2])\n",
    "    df[\"day\"] = yearmonthday.apply(lambda x: x[1])\n",
    "    month_dict = {\"Jan\": 1, \"Feb\": 2, \"Mar\": 3, \"Apr\": 4, \"May\": 5, \"Jun\": 6, \"Jul\": 7, \"Aug\": 8, \"Sep\": 9, \"Oct\": 10, \"Nov\": 11, \"Dec\":12}\n",
    "    df[\"month\"] = yearmonthday.apply(lambda x: month_dict[x[0]])\n",
    "    df[\"time\"] = yearmonthday.apply(lambda x: x[3])\n",
    "    return df'''\n",
    "    \n",
    "    "
   ]
  },
  {
   "cell_type": "code",
   "execution_count": 27,
   "metadata": {},
   "outputs": [],
   "source": [
    "'''#don't need to run again - all are associated to establish SQL table\n",
    "calls = pd.read_csv(\"data/Call_Data.csv\")\n",
    "calls = callstime(calls,\"Arrived Time\")\n",
    "calls17 = calls[calls[\"year\"].isin([\"2014\", \"2015\", \"2016\", \"2017\", \"2018\", \"2019\"])]\n",
    "calls17[\"epoch_calls\"] = epoch_second2'''\n",
    "\n",
    "'''# remove repetitive columns\n",
    "\n",
    "calls_tosql = calls17.drop(columns =[\"year\",\"day\", \"month\", \"time\", \"Precinct\", \"Sector\", \"Arrived Time\"])\n",
    "calls_tosql.set_index(\"epoch_calls\", inplace=True)\n",
    "'''\n",
    "\n",
    "# move calls to sqlite table - DONT REPEAT\n",
    "# calls_tosql.to_sql(\"log\", con=cnx, index=True)\n",
    "'''\n",
    "# calculate and add column for epoch time\n",
    "bar = pd.to_datetime( calls17[\"Arrived Time\"], format=\"%b %d %Y %I:%M:%S:%f%p\" )\n",
    "epoch_second2 = bar.map(lambda x: x.value/1e9)'''\n"
   ]
  },
  {
   "cell_type": "code",
   "execution_count": 24,
   "metadata": {},
   "outputs": [
    {
     "data": {
      "text/plain": [
       "'# iterate through the dataframe calls17 and remove repeated CAD numbers\\n\\n_row = []\\n#val_lst = []\\nfor ix, row in calls17.iterrows():\\n    # query the 911 calls database\\n    # for each call, append to a bunch of records that we\\'re building up into a dataframe\\n    CAD = row[\"CAD Event Number\"]\\n    EC = row[\\'Event Clearance Description\\']\\n    if (CAD in two) and (EC == \\'-\\'):\\n        _row.append(ix)\\n_row'"
      ]
     },
     "execution_count": 24,
     "metadata": {},
     "output_type": "execute_result"
    }
   ],
   "source": [
    "'''# iterate through the dataframe calls17 and remove repeated CAD numbers\n",
    "\n",
    "_row = []\n",
    "#val_lst = []\n",
    "for ix, row in calls17.iterrows():\n",
    "    # query the 911 calls database\n",
    "    # for each call, append to a bunch of records that we're building up into a dataframe\n",
    "    CAD = row[\"CAD Event Number\"]\n",
    "    EC = row['Event Clearance Description']\n",
    "    if (CAD in two) and (EC == '-'):\n",
    "        _row.append(ix)\n",
    "_row''''''"
   ]
  },
  {
   "cell_type": "code",
   "execution_count": 3,
   "metadata": {},
   "outputs": [],
   "source": [
    "force = pd.read_csv(\"data/Use_Of_Force.csv\")\n"
   ]
  },
  {
   "cell_type": "code",
   "execution_count": 4,
   "metadata": {},
   "outputs": [],
   "source": [
    "# change to epoch time\n",
    "force = datetime(force,\"Occured_date_time\" )\n",
    "foo = pd.to_datetime( force.Occured_date_time )\n",
    "epoch_second = foo.map(lambda x:x.value/1e9)\n",
    "\n",
    "force[\"epoch\"] = epoch_second\n"
   ]
  },
  {
   "cell_type": "code",
   "execution_count": 6,
   "metadata": {},
   "outputs": [],
   "source": [
    "# remove repetitive columns (incident type, officer id and subject id are in ID respectively)\n",
    "\n",
    "force = force.drop(columns=[\"Occured_date_time\", \"ID\"])\n"
   ]
  },
  {
   "cell_type": "code",
   "execution_count": 7,
   "metadata": {},
   "outputs": [],
   "source": [
    "# create engine\n",
    "cnx = sqlite3.connect('/Users/sarahburgart/galvanize/week7/capstone2/calls.sqlite')"
   ]
  },
  {
   "cell_type": "code",
   "execution_count": 8,
   "metadata": {},
   "outputs": [],
   "source": [
    "# create cursor\n",
    "cur = cnx.cursor()\n"
   ]
  },
  {
   "cell_type": "code",
   "execution_count": 9,
   "metadata": {},
   "outputs": [],
   "source": [
    "# iterate through the dataframe 'force', make a bunch of new rows, and then make a dataframe out of those\n",
    "\n",
    "new_row = []\n",
    "#val_lst = []\n",
    "for ix, row in force.iterrows():\n",
    "    # query the 911 calls database\n",
    "    # for each call, append to a bunch of records that we're building up into a dataframe\n",
    "    value = row.epoch\n",
    "    rowbeat = row.Beat\n",
    "    vals = cur.execute(f\"select * from log where epoch_calls BETWEEN ({value} - 300) AND {value} \").fetchall()\n",
    "    #val_lst.extend([value, val[0]])\n",
    "    cnx.commit()\n",
    "    \n",
    "    for val in vals:\n",
    "        new_row.extend( [[ix,  val[0], row.epoch, row.Incident_Num, row.Officer_ID, row.Subject_ID, val[1], val[2],\n",
    "                        row.Incident_Type, row.Precinct, \n",
    "                        row.Sector, row.Beat, val[8], val[4],\n",
    "                        row.Subject_Race, row.Subject_Gender, val[3], val[5], val[6], \n",
    "                        val[7], row.year, row.month, row.day, row.time] ])\n",
    "  "
   ]
  },
  {
   "cell_type": "code",
   "execution_count": 10,
   "metadata": {},
   "outputs": [],
   "source": [
    "# look at force - are beat and officer correlated?\n",
    "#force.info()\n",
    "#force.groupby(\"Officer_ID\")[[\"Beat\"]].sum()\n",
    "\n",
    "# officer may be at more than one beat"
   ]
  },
  {
   "cell_type": "code",
   "execution_count": 11,
   "metadata": {},
   "outputs": [],
   "source": [
    "merged = pd.DataFrame(new_row, columns=[\"index\",\"call_epoch\", \"force_epoch\", \"Incident_Num\", \"Officer_ID\",\n",
    "                                        \"Subject_ID\", \"CAD_Event_Number\", \"Event_Clearance_Description\",\n",
    "                                \"Force_Level\", \"Precinct\", \n",
    "                                \"Sector\", \"force_beat\", \"calls_beat\", \"Priority\",\n",
    "                                \"Subject_Race\", \"Subject_Gender\",\"Call_Type\", \"Initial_Call_Type\", \"Final_Call_Type\",\n",
    "                                \"Original_Time_Queued\", \"year\", \"month\",\"day\", \"time \" ])\n",
    "\n"
   ]
  },
  {
   "cell_type": "code",
   "execution_count": 12,
   "metadata": {},
   "outputs": [],
   "source": [
    "merged.call_epoch = pd.to_numeric(merged.call_epoch, downcast=\"integer\")\n",
    "merged.force_epoch = pd.to_numeric(merged.force_epoch, downcast=\"integer\")"
   ]
  },
  {
   "cell_type": "code",
   "execution_count": 13,
   "metadata": {},
   "outputs": [],
   "source": [
    "dfrs = merged[\"CAD_Event_Number\"].value_counts()\n",
    "two = []\n",
    "for v, i in zip(dfrs.values, dfrs.index):\n",
    "    if v >1:\n",
    "        two.append(i)\n",
    "# len(two) == 362  \n",
    "s = [x > 1 for x in dfrs]\n",
    "dd =dfrs[s]\n",
    "\n",
    "t = merged[merged[\"CAD_Event_Number\"].isin(two)]\n",
    "indicest = t[t[\"Event_Clearance_Description\"] == \"-\"].index\n",
    "indicest\n",
    "\n",
    "merged.drop(indicest, axis=0, inplace=True)"
   ]
  },
  {
   "cell_type": "code",
   "execution_count": 33,
   "metadata": {},
   "outputs": [
    {
     "data": {
      "text/html": [
       "<div>\n",
       "<style scoped>\n",
       "    .dataframe tbody tr th:only-of-type {\n",
       "        vertical-align: middle;\n",
       "    }\n",
       "\n",
       "    .dataframe tbody tr th {\n",
       "        vertical-align: top;\n",
       "    }\n",
       "\n",
       "    .dataframe thead th {\n",
       "        text-align: right;\n",
       "    }\n",
       "</style>\n",
       "<table border=\"1\" class=\"dataframe\">\n",
       "  <thead>\n",
       "    <tr style=\"text-align: right;\">\n",
       "      <th></th>\n",
       "      <th>index</th>\n",
       "      <th>call_epoch</th>\n",
       "      <th>force_epoch</th>\n",
       "      <th>Incident_Num</th>\n",
       "      <th>Officer_ID</th>\n",
       "      <th>Subject_ID</th>\n",
       "      <th>CAD_Event_Number</th>\n",
       "      <th>Event_Clearance_Description</th>\n",
       "      <th>Force_Level</th>\n",
       "      <th>Precinct</th>\n",
       "      <th>...</th>\n",
       "      <th>Subject_Gender</th>\n",
       "      <th>Call_Type</th>\n",
       "      <th>Initial_Call_Type</th>\n",
       "      <th>Final_Call_Type</th>\n",
       "      <th>Original_Time_Queued</th>\n",
       "      <th>year</th>\n",
       "      <th>month</th>\n",
       "      <th>day</th>\n",
       "      <th>time</th>\n",
       "      <th>time</th>\n",
       "    </tr>\n",
       "  </thead>\n",
       "  <tbody>\n",
       "    <tr>\n",
       "      <th>0</th>\n",
       "      <td>0</td>\n",
       "      <td>1511832912</td>\n",
       "      <td>1511833200</td>\n",
       "      <td>18412</td>\n",
       "      <td>2238</td>\n",
       "      <td>14470</td>\n",
       "      <td>2017000438600</td>\n",
       "      <td>ASSISTANCE RENDERED</td>\n",
       "      <td>Level 1 - Use of Force</td>\n",
       "      <td>-</td>\n",
       "      <td>...</td>\n",
       "      <td>Female</td>\n",
       "      <td>ONVIEW</td>\n",
       "      <td>PREMISE CHECK, OFFICER INITIATED ONVIEW ONLY</td>\n",
       "      <td>--PREMISE CHECKS - CRIME PREVENTION</td>\n",
       "      <td>2017-11-28 01:35:12</td>\n",
       "      <td>2017</td>\n",
       "      <td>11</td>\n",
       "      <td>28</td>\n",
       "      <td>01:40:00AM</td>\n",
       "      <td>2019-07-03 01:40:00</td>\n",
       "    </tr>\n",
       "    <tr>\n",
       "      <th>1</th>\n",
       "      <td>0</td>\n",
       "      <td>1511832919</td>\n",
       "      <td>1511833200</td>\n",
       "      <td>18412</td>\n",
       "      <td>2238</td>\n",
       "      <td>14470</td>\n",
       "      <td>2017000438595</td>\n",
       "      <td>ASSISTANCE RENDERED</td>\n",
       "      <td>Level 1 - Use of Force</td>\n",
       "      <td>-</td>\n",
       "      <td>...</td>\n",
       "      <td>Female</td>\n",
       "      <td>911</td>\n",
       "      <td>EXPLOSION - IP/JO</td>\n",
       "      <td>--DISTURBANCE - NOISE</td>\n",
       "      <td>2017-11-28 01:26:30</td>\n",
       "      <td>2017</td>\n",
       "      <td>11</td>\n",
       "      <td>28</td>\n",
       "      <td>01:40:00AM</td>\n",
       "      <td>2019-07-03 01:40:00</td>\n",
       "    </tr>\n",
       "    <tr>\n",
       "      <th>2</th>\n",
       "      <td>0</td>\n",
       "      <td>1511833107</td>\n",
       "      <td>1511833200</td>\n",
       "      <td>18412</td>\n",
       "      <td>2238</td>\n",
       "      <td>14470</td>\n",
       "      <td>2017000438597</td>\n",
       "      <td>REPORT WRITTEN (NO ARREST)</td>\n",
       "      <td>Level 1 - Use of Force</td>\n",
       "      <td>-</td>\n",
       "      <td>...</td>\n",
       "      <td>Female</td>\n",
       "      <td>TELEPHONE OTHER, NOT 911</td>\n",
       "      <td>SUSPICIOUS PERSON, VEHICLE OR INCIDENT</td>\n",
       "      <td>--SUSPICIOUS CIRCUM. - SUSPICIOUS PERSON</td>\n",
       "      <td>2017-11-28 01:27:55</td>\n",
       "      <td>2017</td>\n",
       "      <td>11</td>\n",
       "      <td>28</td>\n",
       "      <td>01:40:00AM</td>\n",
       "      <td>2019-07-03 01:40:00</td>\n",
       "    </tr>\n",
       "    <tr>\n",
       "      <th>3</th>\n",
       "      <td>1</td>\n",
       "      <td>1498104779</td>\n",
       "      <td>1498104900</td>\n",
       "      <td>16162</td>\n",
       "      <td>1589</td>\n",
       "      <td>12833</td>\n",
       "      <td>2017000224279</td>\n",
       "      <td>NO POLICE ACTION POSSIBLE OR NECESSARY</td>\n",
       "      <td>Level 1 - Use of Force</td>\n",
       "      <td>-</td>\n",
       "      <td>...</td>\n",
       "      <td>Male</td>\n",
       "      <td>911</td>\n",
       "      <td>SUSPICIOUS PERSON, VEHICLE OR INCIDENT</td>\n",
       "      <td>--SUSPICIOUS CIRCUM. - SUSPICIOUS PERSON</td>\n",
       "      <td>2017-06-22 03:11:26</td>\n",
       "      <td>2017</td>\n",
       "      <td>06</td>\n",
       "      <td>22</td>\n",
       "      <td>04:15:00AM</td>\n",
       "      <td>2019-07-03 04:15:00</td>\n",
       "    </tr>\n",
       "    <tr>\n",
       "      <th>4</th>\n",
       "      <td>2</td>\n",
       "      <td>1532199428</td>\n",
       "      <td>1532199480</td>\n",
       "      <td>30638</td>\n",
       "      <td>2146</td>\n",
       "      <td>17272</td>\n",
       "      <td>2018000269265</td>\n",
       "      <td>UNABLE TO LOCATE INCIDENT OR COMPLAINANT</td>\n",
       "      <td>Level 1 - Use of Force</td>\n",
       "      <td>-</td>\n",
       "      <td>...</td>\n",
       "      <td>Male</td>\n",
       "      <td>911</td>\n",
       "      <td>TRAFFIC - BLOCKING ROADWAY</td>\n",
       "      <td>--TRAFFIC - BLOCKING TRAFFIC</td>\n",
       "      <td>2018-07-21 17:38:10</td>\n",
       "      <td>2018</td>\n",
       "      <td>07</td>\n",
       "      <td>21</td>\n",
       "      <td>06:58:00PM</td>\n",
       "      <td>2019-07-03 18:58:00</td>\n",
       "    </tr>\n",
       "  </tbody>\n",
       "</table>\n",
       "<p>5 rows × 25 columns</p>\n",
       "</div>"
      ],
      "text/plain": [
       "   index  call_epoch  force_epoch  Incident_Num  Officer_ID  Subject_ID  \\\n",
       "0      0  1511832912   1511833200         18412        2238       14470   \n",
       "1      0  1511832919   1511833200         18412        2238       14470   \n",
       "2      0  1511833107   1511833200         18412        2238       14470   \n",
       "3      1  1498104779   1498104900         16162        1589       12833   \n",
       "4      2  1532199428   1532199480         30638        2146       17272   \n",
       "\n",
       "   CAD_Event_Number               Event_Clearance_Description  \\\n",
       "0     2017000438600                       ASSISTANCE RENDERED   \n",
       "1     2017000438595                       ASSISTANCE RENDERED   \n",
       "2     2017000438597                REPORT WRITTEN (NO ARREST)   \n",
       "3     2017000224279    NO POLICE ACTION POSSIBLE OR NECESSARY   \n",
       "4     2018000269265  UNABLE TO LOCATE INCIDENT OR COMPLAINANT   \n",
       "\n",
       "              Force_Level Precinct  ... Subject_Gender  \\\n",
       "0  Level 1 - Use of Force        -  ...         Female   \n",
       "1  Level 1 - Use of Force        -  ...         Female   \n",
       "2  Level 1 - Use of Force        -  ...         Female   \n",
       "3  Level 1 - Use of Force        -  ...           Male   \n",
       "4  Level 1 - Use of Force        -  ...           Male   \n",
       "\n",
       "                  Call_Type                             Initial_Call_Type  \\\n",
       "0                    ONVIEW  PREMISE CHECK, OFFICER INITIATED ONVIEW ONLY   \n",
       "1                       911                             EXPLOSION - IP/JO   \n",
       "2  TELEPHONE OTHER, NOT 911        SUSPICIOUS PERSON, VEHICLE OR INCIDENT   \n",
       "3                       911        SUSPICIOUS PERSON, VEHICLE OR INCIDENT   \n",
       "4                       911                    TRAFFIC - BLOCKING ROADWAY   \n",
       "\n",
       "                            Final_Call_Type Original_Time_Queued  year month  \\\n",
       "0       --PREMISE CHECKS - CRIME PREVENTION  2017-11-28 01:35:12  2017    11   \n",
       "1                     --DISTURBANCE - NOISE  2017-11-28 01:26:30  2017    11   \n",
       "2  --SUSPICIOUS CIRCUM. - SUSPICIOUS PERSON  2017-11-28 01:27:55  2017    11   \n",
       "3  --SUSPICIOUS CIRCUM. - SUSPICIOUS PERSON  2017-06-22 03:11:26  2017    06   \n",
       "4              --TRAFFIC - BLOCKING TRAFFIC  2018-07-21 17:38:10  2018    07   \n",
       "\n",
       "  day       time                 time  \n",
       "0  28  01:40:00AM 2019-07-03 01:40:00  \n",
       "1  28  01:40:00AM 2019-07-03 01:40:00  \n",
       "2  28  01:40:00AM 2019-07-03 01:40:00  \n",
       "3  22  04:15:00AM 2019-07-03 04:15:00  \n",
       "4  21  06:58:00PM 2019-07-03 18:58:00  \n",
       "\n",
       "[5 rows x 25 columns]"
      ]
     },
     "execution_count": 33,
     "metadata": {},
     "output_type": "execute_result"
    }
   ],
   "source": [
    "# make numeric\n",
    "rev_df = merged.replace(\"-1\", -1)\n",
    "rev_df[\"time\"] = pd.to_datetime(rev_df[\"time \"])\n",
    "rev_df[\"Original_Time_Queued\"] = pd.to_datetime(rev_df[\"Original_Time_Queued\"])\n",
    "rev_df[\"time\"].apply(lambda x: pd.datetime.strftime(x, '%H:%M:%S'))\n",
    "\n",
    "rev_df.head()\n"
   ]
  },
  {
   "cell_type": "code",
   "execution_count": 34,
   "metadata": {},
   "outputs": [
    {
     "data": {
      "text/plain": [
       "pandas.core.frame.DataFrame"
      ]
     },
     "execution_count": 34,
     "metadata": {},
     "output_type": "execute_result"
    }
   ],
   "source": [
    "# make second df and keep leaky data for exploration later\n",
    "# take out event description and final call (bc you wouldn't know)\n",
    "rev_df_leaky = rev_df.copy(deep=True)\n",
    "type(rev_df_leaky)"
   ]
  },
  {
   "cell_type": "code",
   "execution_count": 35,
   "metadata": {},
   "outputs": [],
   "source": [
    "rev_df = pd.get_dummies(data = rev_df, \n",
    "                     columns=[\"force_beat\",\"Force_Level\", \"calls_beat\", \n",
    "                              \"Subject_Gender\", \"Call_Type\",\"Subject_Race\", \"Initial_Call_Type\", \n",
    "                             \"Precinct\", \"Sector\", \"Officer_ID\", \"Subject_ID\"], \n",
    "                     prefix=[\"forceb\", \"forcelevel\", \"callsb\",  \n",
    "                             \"Gender\", \"CallType\", \"Race\", \"InitCall\", \n",
    "                            \"Precinct\",\"Sector\", \"OID\", \"SID\" ])\n",
    "\n",
    "\n",
    "\n",
    "# pd.get_dummies(data=df, columns=['A', 'B'])\n",
    "                      "
   ]
  },
  {
   "cell_type": "code",
   "execution_count": 36,
   "metadata": {},
   "outputs": [],
   "source": [
    "\n",
    "rev_df[\"year\"] = rev_df[\"year\"].astype(int)\n",
    "rev_df[\"month\"] = rev_df[\"month\"].astype(int)\n",
    "rev_df[\"day\"] = rev_df[\"day\"].astype(int)\n",
    "rev_df[\"day_of_week\"] = rev_df.Original_Time_Queued.dt.dayofweek\n"
   ]
  },
  {
   "cell_type": "code",
   "execution_count": 37,
   "metadata": {},
   "outputs": [],
   "source": [
    "# drop leaky data\n",
    "rev_df.drop([\"Event_Clearance_Description\",\"Final_Call_Type\", \"time \", \"index\"], axis=1, inplace=True )"
   ]
  },
  {
   "cell_type": "code",
   "execution_count": 36,
   "metadata": {},
   "outputs": [
    {
     "data": {
      "text/plain": [
       "'# exploring unsupervised learning\\n\\n# make appropriate array to use SVD\\nsvdf = rev_df.drop([\"time\", \"Original_Time_Queued\"], axis=1)\\nsdf = svdf.iloc[:10000, :]'"
      ]
     },
     "execution_count": 36,
     "metadata": {},
     "output_type": "execute_result"
    }
   ],
   "source": [
    "'''# exploring unsupervised learning\n",
    "\n",
    "# make appropriate array to use SVD\n",
    "svdf = rev_df.drop([\"time\", \"Original_Time_Queued\"], axis=1)\n",
    "sdf = svdf.iloc[:10000, :]'''"
   ]
  },
  {
   "cell_type": "code",
   "execution_count": 37,
   "metadata": {},
   "outputs": [
    {
     "data": {
      "text/plain": [
       "'sv0 = svV.iloc[0,:]\\nsv0 = abs(sv0)\\nnp.argmax(sv0)\\nsv0[6] # equals CAD_Event_Number\\n#svV.iloc[0,:]'"
      ]
     },
     "execution_count": 37,
     "metadata": {},
     "output_type": "execute_result"
    }
   ],
   "source": [
    "'''u, s, vh = np.linalg.svd(sdf)'''\n",
    "'''power = s*2\n",
    "total_power = sum(power)\n",
    "total_power'''\n",
    "'''vh.shape, s.shape, u.shape, svdf.shape'''\n",
    "'''svV  = pd.DataFrame(vh[:10])\n",
    "svV.columns = svdf.columns\n",
    "svV'''\n",
    "'''sv0 = svV.iloc[0,:]\n",
    "sv0 = abs(sv0)\n",
    "np.argmax(sv0)\n",
    "sv0[6] # equals CAD_Event_Number\n",
    "#svV.iloc[0,:]'''\n",
    "\n"
   ]
  },
  {
   "cell_type": "code",
   "execution_count": 38,
   "metadata": {},
   "outputs": [],
   "source": [
    "# dataframe rev_df before dropping CAD dupes\n",
    "rev_df_orig = rev_df.copy(deep=True)"
   ]
  },
  {
   "cell_type": "code",
   "execution_count": 21,
   "metadata": {},
   "outputs": [
    {
     "data": {
      "text/plain": [
       "'# removed ECD - previous iteration\\ndfrs = rev_df[\"CAD_Event_Number\"].value_counts()\\ntwo = []\\nfor v, i in zip(dfrs.values, dfrs.index):\\n    if v >1:\\n        two.append(i)\\n# len(two) == 362  \\ns = [x > 1 for x in dfrs]\\ndd =dfrs[s]\\n\\nts = rev_df[rev_df[\"CAD_Event_Number\"].isin(two)]\\nindices = ts[ts[\"ECD_-\"] == 1].index\\nindices\\n\\nrev_df.drop(indices, axis=0, inplace=True)'"
      ]
     },
     "execution_count": 21,
     "metadata": {},
     "output_type": "execute_result"
    }
   ],
   "source": [
    "'''# removed ECD - previous iteration\n",
    "dfrs = rev_df[\"CAD_Event_Number\"].value_counts()\n",
    "two = []\n",
    "for v, i in zip(dfrs.values, dfrs.index):\n",
    "    if v >1:\n",
    "        two.append(i)\n",
    "# len(two) == 362  \n",
    "s = [x > 1 for x in dfrs]\n",
    "dd =dfrs[s]\n",
    "\n",
    "ts = rev_df[rev_df[\"CAD_Event_Number\"].isin(two)]\n",
    "indices = ts[ts[\"ECD_-\"] == 1].index\n",
    "indices\n",
    "\n",
    "rev_df.drop(indices, axis=0, inplace=True)'''"
   ]
  },
  {
   "cell_type": "code",
   "execution_count": 39,
   "metadata": {},
   "outputs": [
    {
     "data": {
      "text/plain": [
       "(27007, 27007, 27007)"
      ]
     },
     "execution_count": 39,
     "metadata": {},
     "output_type": "execute_result"
    }
   ],
   "source": [
    "#rev_df.drop(indicest, axis=0, inplace=True)\n",
    "\n",
    "len(rev_df_leaky), len(rev_df), len(merged)"
   ]
  },
  {
   "cell_type": "code",
   "execution_count": 24,
   "metadata": {},
   "outputs": [
    {
     "data": {
      "image/png": "[encoded data removed]",
      "text/plain": [
       "<Figure size 1728x1728 with 100 Axes>"
      ]
     },
     "metadata": {
      "needs_background": "light"
     },
     "output_type": "display_data"
    }
   ],
   "source": [
    "# make smaller df for scatter_matrix\n",
    "sm = rev_df[['Precinct_W', 'Race_Black or African American', 'Race_White',\n",
    "       'Gender_Male', 'Gender_Female', 'Priority', 'year', 'day_of_week',\n",
    "       'month', 'day']]\n",
    "\n",
    "pd.plotting.scatter_matrix(sm, alpha=0.2, figsize=(24,24));"
   ]
  },
  {
   "cell_type": "code",
   "execution_count": 29,
   "metadata": {},
   "outputs": [
    {
     "data": {
      "text/html": [
       "<div>\n",
       "<style scoped>\n",
       "    .dataframe tbody tr th:only-of-type {\n",
       "        vertical-align: middle;\n",
       "    }\n",
       "\n",
       "    .dataframe tbody tr th {\n",
       "        vertical-align: top;\n",
       "    }\n",
       "\n",
       "    .dataframe thead th {\n",
       "        text-align: right;\n",
       "    }\n",
       "</style>\n",
       "<table border=\"1\" class=\"dataframe\">\n",
       "  <thead>\n",
       "    <tr style=\"text-align: right;\">\n",
       "      <th></th>\n",
       "      <th>Beat</th>\n",
       "    </tr>\n",
       "  </thead>\n",
       "  <tbody>\n",
       "    <tr>\n",
       "      <th>1851960</th>\n",
       "      <td>C1</td>\n",
       "    </tr>\n",
       "  </tbody>\n",
       "</table>\n",
       "</div>"
      ],
      "text/plain": [
       "        Beat\n",
       "1851960   C1"
      ]
     },
     "execution_count": 29,
     "metadata": {},
     "output_type": "execute_result"
    }
   ],
   "source": [
    "calls17[calls17[\"CAD Event Number\"] == 2014000119510][[\"Beat\"]]"
   ]
  },
  {
   "cell_type": "code",
   "execution_count": 30,
   "metadata": {},
   "outputs": [],
   "source": [
    "# decided not to use this, as it is info I may want\n",
    "event_lst = [\"CITATION ISSUED (CRIMINAL OR NON-CRIMINAL) \",\n",
    "\"PHYSICAL ARREST MADE\",\n",
    "\"OTHER REPORT MADE\" ,\n",
    "\"FOLLOW-UP REPORT MADE\",\n",
    "\"PROBLEM SOLVING PROJECT\" ,\n",
    "\"STREET CHECK WRITTEN \",\n",
    "\"INCIDENT LOCATED, PUBLIC ORDER RESTORED \",\n",
    "\"TRANSPORTATION OR ESCORT PROVIDED\", \n",
    "\"-\",\n",
    "\"SERVICE OF DVPA ORDER\",\n",
    "\"RADIO BROADCAST AND CLEAR\",\n",
    "\"NON-CRIMINAL REFERRAL\",\n",
    "\"EXTRA UNIT\" ,\n",
    "\"(NOT CURRENTLY USED) ALARM NO RESPONSE\" ] "
   ]
  },
  {
   "cell_type": "code",
   "execution_count": 30,
   "metadata": {},
   "outputs": [],
   "source": [
    "clf = RandomForestClassifier(n_estimators=100, random_state=659, oob_score=True)\n",
    "\n"
   ]
  },
  {
   "cell_type": "code",
   "execution_count": null,
   "metadata": {},
   "outputs": [],
   "source": [
    "rev = rev_df.drop([ \"call_epoch\", \"force_epoch\", \"Incident_Num\", \"CAD_Event_Number\", \"Original_Time_Queued\",\n",
    "                \"forcelevel_Level 1 - Use of Force\", \"forcelevel_Level 2 - Use of Force\", \"forcelevel_Level 3 - OIS\",\n",
    "                \"forcelevel_Level 3 - Use of Force\", \"time\"], axis=1)\n",
    "cols = rev.columns"
   ]
  },
  {
   "cell_type": "code",
   "execution_count": null,
   "metadata": {},
   "outputs": [],
   "source": [
    "type(rev)"
   ]
  },
  {
   "cell_type": "code",
   "execution_count": 30,
   "metadata": {},
   "outputs": [],
   "source": [
    "# X for classifier\n",
    "X = rev_df.drop([\"index\", \"call_epoch\", \"force_epoch\", \"Incident_Num\", \"CAD_Event_Number\", \"Original_Time_Queued\",\n",
    "                \"forcelevel_Level 1 - Use of Force\", \"forcelevel_Level 2 - Use of Force\", \"forcelevel_Level 3 - OIS\",\n",
    "                \"forcelevel_Level 3 - Use of Force\", \"time \",\"time\"], axis=1)\n",
    "\n",
    "#X.info(verbose=True)"
   ]
  },
  {
   "cell_type": "code",
   "execution_count": 31,
   "metadata": {},
   "outputs": [
    {
     "name": "stderr",
     "output_type": "stream",
     "text": [
      "/Users/sarahburgart/anaconda3/lib/python3.7/site-packages/sklearn/preprocessing/data.py:645: DataConversionWarning: Data with input dtype uint8, int64 were all converted to float64 by StandardScaler.\n",
      "  return self.partial_fit(X, y)\n",
      "/Users/sarahburgart/anaconda3/lib/python3.7/site-packages/sklearn/base.py:464: DataConversionWarning: Data with input dtype uint8, int64 were all converted to float64 by StandardScaler.\n",
      "  return self.fit(X, **fit_params).transform(X)\n"
     ]
    }
   ],
   "source": [
    "X_scaled = StandardScaler().fit_transform(X)"
   ]
  },
  {
   "cell_type": "code",
   "execution_count": 32,
   "metadata": {},
   "outputs": [
    {
     "data": {
      "text/plain": [
       "((27007,), (27007, 5640))"
      ]
     },
     "execution_count": 32,
     "metadata": {},
     "output_type": "execute_result"
    }
   ],
   "source": [
    "y = merged.Force_Level\n",
    "y.replace({\"Level 1 - Use of Force\":1,\"Level 2 - Use of Force\":2,\"Level 3 - OIS\":4, \"Level 3 - Use of Force\": 3 })\n",
    "y.shape, X_scaled.shape"
   ]
  },
  {
   "cell_type": "code",
   "execution_count": 33,
   "metadata": {},
   "outputs": [],
   "source": [
    "X_train, X_test, y_train, y_test = train_test_split(X_scaled, y, test_size=0.2, random_state=659)\n"
   ]
  },
  {
   "cell_type": "code",
   "execution_count": 34,
   "metadata": {},
   "outputs": [
    {
     "data": {
      "text/plain": [
       "RandomForestClassifier(bootstrap=True, class_weight=None, criterion='gini',\n",
       "            max_depth=None, max_features='auto', max_leaf_nodes=None,\n",
       "            min_impurity_decrease=0.0, min_impurity_split=None,\n",
       "            min_samples_leaf=1, min_samples_split=2,\n",
       "            min_weight_fraction_leaf=0.0, n_estimators=100, n_jobs=None,\n",
       "            oob_score=True, random_state=659, verbose=0, warm_start=False)"
      ]
     },
     "execution_count": 34,
     "metadata": {},
     "output_type": "execute_result"
    }
   ],
   "source": [
    "clf.fit(X_train, y_train )"
   ]
  },
  {
   "cell_type": "code",
   "execution_count": 35,
   "metadata": {},
   "outputs": [
    {
     "data": {
      "text/plain": [
       "(5640, 5640)"
      ]
     },
     "execution_count": 35,
     "metadata": {},
     "output_type": "execute_result"
    }
   ],
   "source": [
    "len(clf.feature_importances_), len(cols)"
   ]
  },
  {
   "cell_type": "code",
   "execution_count": 36,
   "metadata": {},
   "outputs": [
    {
     "data": {
      "text/plain": [
       "Index(['Precinct_W', 'Race_Black or African American', 'Race_White',\n",
       "       'Gender_Male', 'Gender_Female', 'Priority', 'year', 'day_of_week',\n",
       "       'month', 'day'],\n",
       "      dtype='object')"
      ]
     },
     "execution_count": 36,
     "metadata": {},
     "output_type": "execute_result"
    }
   ],
   "source": [
    "# most important features\n",
    "indices = np.argsort(clf.feature_importances_)\n",
    "big = indices[-10:]\n",
    "\n",
    "cols[big]"
   ]
  },
  {
   "cell_type": "code",
   "execution_count": 37,
   "metadata": {},
   "outputs": [
    {
     "data": {
      "text/plain": [
       "Index(['SID_11415', 'FinCall_SERVICE - WELFARE CHECK', 'SID_12213',\n",
       "       'SID_12211', 'FinCall_SICK PERSON', 'SID_6391', 'SID_6480', 'SID_12111',\n",
       "       'FinCall_SUICIDE, SUICIDAL PERSON AND ATTEMPTS', 'SID_6580',\n",
       "       'FinCall_SUSPICIOUS PACKAGE', 'SID_12109',\n",
       "       'FinCall_ROBBERY - IP/JO (INCLUDES STRONG ARM)',\n",
       "       'FinCall_TRAFFIC - BO SIGNALS AND DOWN SIGNS', 'SID_6598', 'SID_17731',\n",
       "       'FinCall_TRU - THEFT', 'SID_6608', 'InitCall_-ASSIGNED DUTY - STAKEOUT',\n",
       "       'SID_6941'],\n",
       "      dtype='object')"
      ]
     },
     "execution_count": 37,
     "metadata": {},
     "output_type": "execute_result"
    }
   ],
   "source": [
    "# least important features\n",
    "little = indices[:20]\n",
    "cols[little]\n"
   ]
  },
  {
   "cell_type": "code",
   "execution_count": 38,
   "metadata": {},
   "outputs": [
    {
     "data": {
      "text/plain": [
       "0.9562138393890303"
      ]
     },
     "execution_count": 38,
     "metadata": {},
     "output_type": "execute_result"
    }
   ],
   "source": [
    "clf.oob_score_ # accuracy of training set"
   ]
  },
  {
   "cell_type": "code",
   "execution_count": 63,
   "metadata": {},
   "outputs": [],
   "source": [
    "yhat = clf.predict(X_test)"
   ]
  },
  {
   "cell_type": "code",
   "execution_count": 64,
   "metadata": {},
   "outputs": [
    {
     "data": {
      "text/plain": [
       "0.9555720103665309"
      ]
     },
     "execution_count": 64,
     "metadata": {},
     "output_type": "execute_result"
    }
   ],
   "source": [
    "sum(yhat == y_test) / len(yhat) # accuracy of testing set"
   ]
  },
  {
   "cell_type": "code",
   "execution_count": 39,
   "metadata": {},
   "outputs": [],
   "source": [
    "pp = clf.predict_proba(X_test)"
   ]
  },
  {
   "cell_type": "code",
   "execution_count": 40,
   "metadata": {},
   "outputs": [
    {
     "data": {
      "text/plain": [
       "array([[0.93, 0.06, 0.01, 0.  ],\n",
       "       [0.71, 0.28, 0.01, 0.  ],\n",
       "       [0.95, 0.03, 0.02, 0.  ],\n",
       "       ...,\n",
       "       [1.  , 0.  , 0.  , 0.  ],\n",
       "       [0.98, 0.02, 0.  , 0.  ],\n",
       "       [0.36, 0.61, 0.  , 0.03]])"
      ]
     },
     "execution_count": 40,
     "metadata": {},
     "output_type": "execute_result"
    }
   ],
   "source": [
    "pp"
   ]
  },
  {
   "cell_type": "code",
   "execution_count": 41,
   "metadata": {},
   "outputs": [],
   "source": [
    "# need to do gradient boosting to do partial dependency plotting\n",
    "gdbr = GradientBoostingClassifier(n_estimators=100, learning_rate=1.0,\n",
    "                                  max_depth=1, random_state=0).fit(X, y)\n"
   ]
  },
  {
   "cell_type": "code",
   "execution_count": 42,
   "metadata": {},
   "outputs": [
    {
     "data": {
      "text/plain": [
       "Index(['Precinct_W', 'Race_Black or African American', 'Race_White',\n",
       "       'Gender_Male', 'Gender_Female', 'Priority', 'year', 'day_of_week',\n",
       "       'month', 'day'],\n",
       "      dtype='object')"
      ]
     },
     "execution_count": 42,
     "metadata": {},
     "output_type": "execute_result"
    }
   ],
   "source": [
    "#gdbr.feature_importances_\n",
    "\n",
    "indices_gdbr = np.argsort(gdbr.feature_importances_)\n",
    "big_gdbr = indices[-10:]\n",
    "\n",
    "cols[big_gdbr]\n"
   ]
  },
  {
   "cell_type": "code",
   "execution_count": 46,
   "metadata": {},
   "outputs": [
    {
     "data": {
      "text/plain": [
       "[650, 163, 167, 154, 153, 0, 1, 5639, 2, 3]"
      ]
     },
     "execution_count": 46,
     "metadata": {},
     "output_type": "execute_result"
    }
   ],
   "source": [
    "list(big_gdbr)"
   ]
  },
  {
   "cell_type": "code",
   "execution_count": 29,
   "metadata": {
    "scrolled": true
   },
   "outputs": [
    {
     "ename": "NameError",
     "evalue": "name 'gdbr' is not defined",
     "output_type": "error",
     "traceback": [
      "\u001b[0;31m---------------------------------------------------------------------------\u001b[0m",
      "\u001b[0;31mNameError\u001b[0m                                 Traceback (most recent call last)",
      "\u001b[0;32m<ipython-input-29-f2e1999f1707>\u001b[0m in \u001b[0;36m<module>\u001b[0;34m\u001b[0m\n\u001b[1;32m      1\u001b[0m \u001b[0;31m# make plots\u001b[0m\u001b[0;34m\u001b[0m\u001b[0;34m\u001b[0m\u001b[0;34m\u001b[0m\u001b[0m\n\u001b[0;32m----> 2\u001b[0;31m my_plots = plot_partial_dependence(gdbr,       \n\u001b[0m\u001b[1;32m      3\u001b[0m                                    \u001b[0mfeatures\u001b[0m\u001b[0;34m=\u001b[0m\u001b[0;34m[\u001b[0m\u001b[0;36m163\u001b[0m\u001b[0;34m,\u001b[0m \u001b[0;36m153\u001b[0m\u001b[0;34m]\u001b[0m\u001b[0;34m,\u001b[0m \u001b[0;31m# column numbers of plots to show\u001b[0m\u001b[0;34m\u001b[0m\u001b[0;34m\u001b[0m\u001b[0m\n\u001b[1;32m      4\u001b[0m                                    \u001b[0mX\u001b[0m\u001b[0;34m=\u001b[0m\u001b[0mX\u001b[0m\u001b[0;34m,\u001b[0m            \u001b[0;31m# raw predictors data.\u001b[0m\u001b[0;34m\u001b[0m\u001b[0;34m\u001b[0m\u001b[0m\n\u001b[1;32m      5\u001b[0m                                    \u001b[0;31m#feature_names=['day', 'month', 'day_of_week'],\u001b[0m\u001b[0;34m\u001b[0m\u001b[0;34m\u001b[0m\u001b[0;34m\u001b[0m\u001b[0m\n",
      "\u001b[0;31mNameError\u001b[0m: name 'gdbr' is not defined"
     ]
    }
   ],
   "source": [
    "\n",
    "# make plots\n",
    "my_plots = plot_partial_dependence(gdbr,       \n",
    "                                   features=[163, 153], # column numbers of plots to show\n",
    "                                   X=X,            # raw predictors data.\n",
    "                                   #feature_names=['day', 'month', 'day_of_week'],\n",
    "                                   label=[\"Level 1 - Use of Force\"],# for multi-class must use label\n",
    "                                   grid_resolution=10)"
   ]
  },
  {
   "cell_type": "code",
   "execution_count": 57,
   "metadata": {},
   "outputs": [
    {
     "data": {
      "text/plain": [
       "0.8805997778600518"
      ]
     },
     "execution_count": 57,
     "metadata": {},
     "output_type": "execute_result"
    }
   ],
   "source": [
    "#gdbr.predict(X_test) \n",
    "#gdbr.predict_proba(X_test)\n",
    "gdbr.score(X_test, y_test)"
   ]
  },
  {
   "cell_type": "code",
   "execution_count": 58,
   "metadata": {},
   "outputs": [
    {
     "ename": "AttributeError",
     "evalue": "'numpy.ndarray' object has no attribute 'columns'",
     "output_type": "error",
     "traceback": [
      "\u001b[0;31m---------------------------------------------------------------------------\u001b[0m",
      "\u001b[0;31mAttributeError\u001b[0m                            Traceback (most recent call last)",
      "\u001b[0;32m<ipython-input-58-901c1061bf7c>\u001b[0m in \u001b[0;36m<module>\u001b[0;34m\u001b[0m\n\u001b[0;32m----> 1\u001b[0;31m \u001b[0mX\u001b[0m\u001b[0;34m.\u001b[0m\u001b[0mcolumns\u001b[0m\u001b[0;34m\u001b[0m\u001b[0;34m\u001b[0m\u001b[0m\n\u001b[0m",
      "\u001b[0;31mAttributeError\u001b[0m: 'numpy.ndarray' object has no attribute 'columns'"
     ]
    }
   ],
   "source": []
  },
  {
   "cell_type": "code",
   "execution_count": null,
   "metadata": {},
   "outputs": [],
   "source": []
  },
  {
   "cell_type": "code",
   "execution_count": null,
   "metadata": {},
   "outputs": [],
   "source": []
  },
  {
   "cell_type": "code",
   "execution_count": null,
   "metadata": {},
   "outputs": [],
   "source": []
  },
  {
   "cell_type": "code",
   "execution_count": null,
   "metadata": {},
   "outputs": [],
   "source": [
    "\n",
    "importance = np.std([tree.feature_importances_\n",
    "                            for tree in clf.estimators_], axis=0)\n",
    "\n",
    "r = range(importance.shape[0])\n",
    "f = clf.feature_importances_\n",
    "yerr = importance\n",
    "\n",
    "# Extend the code to find the standard deviation of the importance for each feature across all trees. \n",
    "fig, ax = plt.subplots(1,1, figsize=(20,8), sharex=True)\n",
    "#axs.flatten()\n",
    "\n",
    "ax.errorbar(r,f, yerr=yerr)\n",
    "ax.set_title('all errorbars')\n",
    "\n",
    "\n",
    "#fig.suptitle('Errors')\n",
    "\n",
    "plt.tight_layout()\n",
    "plt.xticks(np.arange(len(r)), X.columns, rotation=\"vertical\")\n",
    "plt.show();\n",
    "#plt.bar(r, f, yerr=yerr, align=\"center\");\n",
    "\n",
    "\n"
   ]
  },
  {
   "cell_type": "code",
   "execution_count": null,
   "metadata": {},
   "outputs": [],
   "source": []
  },
  {
   "cell_type": "code",
   "execution_count": null,
   "metadata": {},
   "outputs": [],
   "source": []
  },
  {
   "cell_type": "code",
   "execution_count": null,
   "metadata": {},
   "outputs": [],
   "source": [
    "'''force3.Incident_Num.value_counts()\n",
    "t = force3[force3[\"Incident_Num\"] == 12308]\n",
    "#t.drop_duplicates(\"CAD_Event_Number\", inplace=True) # 'force_beat', 'calls_beat'\n",
    "len(t.CAD_Event_Number.value_counts()), len(t)\n",
    "t2 = t[t.force_beat.values == t.calls_beat.values]\n",
    "t2'''\n",
    "\n",
    "'''force3 = merged[merged.Force_Level == \"Level 3 - Use of Force\"]\n",
    "force2 = merged[merged.Force_Level == \"Level 2 - Use of Force\"]\n",
    "force1 = merged[merged.Force_Level == \"Level 1 - Use of Force\"]\n",
    "len(force3), len(force2), len(force1), len(merged)'''\n",
    "\n",
    "'''# group by incident number first\n",
    "\n",
    "x = force3.Subject_Race.value_counts()\n",
    "lst = list(x.values)\n",
    "plt.bar(np.arange(7), lst)\n",
    "#plt.xticks([])\n",
    "#plt.xticks()\n",
    "\n",
    "plt.xticks((0,1, 2, 3,4,5,6), ('White', 'Black or African American ', 'Not Specified ','Hispanic or Latino',\n",
    "                               'Asian','American Indian/Alaska Native ','Nat Hawaiian/Oth Pac Islander'), \n",
    "          rotation='vertical')\n",
    "plt.title(\"Level 3 Force by Race 2014-2019\");'''"
   ]
  },
  {
   "cell_type": "code",
   "execution_count": null,
   "metadata": {},
   "outputs": [],
   "source": [
    "'''force3beats = force3[force3.force_beat.values == force3.calls_beat.values]\n",
    "len(force3beats)\n",
    "f3b = force3beats.drop([\"index\", \"Force_Level\", \"Precinct\"], axis=1)\n",
    "f3b.drop(\"Sector\", axis=1, inplace=True)\n",
    "#f3b '''"
   ]
  },
  {
   "cell_type": "code",
   "execution_count": null,
   "metadata": {},
   "outputs": [],
   "source": [
    "'''#rev_df.drop([\"Subject_Gender\", \"Subject_Race\"], axis=1, inplace=True)\n",
    "rev_df.info(verbose=True)'''"
   ]
  },
  {
   "cell_type": "code",
   "execution_count": null,
   "metadata": {},
   "outputs": [],
   "source": [
    "'''y = force3.Subject_Gender.value_counts()\n",
    "lst = list(y.values)\n",
    "plt.bar(np.arange(2), lst)\n",
    "#plt.xticks([])\n",
    "#plt.xticks()\n",
    "\n",
    "plt.xticks((0,1), ('Male', 'Female'), \n",
    "          rotation='horizontal')\n",
    "plt.title(\"Level 3 Force by Gender 2014-2019\");'''"
   ]
  },
  {
   "cell_type": "code",
   "execution_count": null,
   "metadata": {},
   "outputs": [],
   "source": []
  },
  {
   "cell_type": "code",
   "execution_count": null,
   "metadata": {},
   "outputs": [],
   "source": []
  },
  {
   "cell_type": "code",
   "execution_count": null,
   "metadata": {},
   "outputs": [],
   "source": []
  },
  {
   "cell_type": "code",
   "execution_count": null,
   "metadata": {},
   "outputs": [],
   "source": [
    "\n"
   ]
  },
  {
   "cell_type": "code",
   "execution_count": null,
   "metadata": {},
   "outputs": [],
   "source": [
    "\n",
    "fig, ax = plt.subplots(1,1, figsize=(20,12))\n",
    "fct = force3.Final_Call_Type.value_counts()\n",
    "lst = list(fct.values)\n",
    "plt.bar(np.arange(99), lst)\n",
    "#plt.xticks([])\n",
    "#plt.xticks()\n",
    "\n",
    "plt.xticks(np.arange(99), lst,  rotation='vertical')\n",
    "plt.title(\"Level 3 Force by Final Call Type 2014-2019\");"
   ]
  }
 ],
 "metadata": {
  "kernelspec": {
   "display_name": "Python 3",
   "language": "python",
   "name": "python3"
  },
  "language_info": {
   "codemirror_mode": {
    "name": "ipython",
    "version": 3
   },
   "file_extension": ".py",
   "mimetype": "text/x-python",
   "name": "python",
   "nbconvert_exporter": "python",
   "pygments_lexer": "ipython3",
   "version": "3.7.3"
  }
 },
 "nbformat": 4,
 "nbformat_minor": 2
}
