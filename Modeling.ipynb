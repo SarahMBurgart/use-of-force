{
 "cells": [
  {
   "cell_type": "code",
   "execution_count": 1,
   "metadata": {},
   "outputs": [],
   "source": [
    "import pandas as pd\n",
    "import os\n",
    "from datetime import datetime\n",
    "import sqlite3\n",
    "from sqlalchemy import create_engine\n",
    "engine = create_engine('sqlite://', echo=False)\n",
    "\n",
    "import matplotlib.pyplot as plt\n",
    "import numpy as np\n",
    "from datetime import datetime\n",
    "from sklearn.decomposition import PCA\n",
    "from sklearn.preprocessing import StandardScaler\n",
    "import seaborn as sns\n",
    "from sklearn.ensemble import RandomForestClassifier, GradientBoostingClassifier\n",
    "from sklearn.model_selection import train_test_split\n",
    "from sklearn.inspection import plot_partial_dependence\n",
    "from sklearn.inspection import partial_dependence \n",
    "from sklearn.metrics import classification_report\n",
    "\n",
    "\n",
    "%matplotlib inline"
   ]
  },
  {
   "cell_type": "code",
   "execution_count": 115,
   "metadata": {},
   "outputs": [],
   "source": [
    "nm2 = pd.read_pickle(\"data/all_calls17_uof_df.pkl\")\n",
    "\n",
    "# need to:\n",
    "# make a y and make categories numeric(?)\n",
    "# drop CAD and Event and Force\n",
    "# make dummie columns\n",
    "# cahnge month and day to integers\n"
   ]
  },
  {
   "cell_type": "code",
   "execution_count": 3,
   "metadata": {},
   "outputs": [
    {
     "name": "stdout",
     "output_type": "stream",
     "text": [
      "<class 'pandas.core.frame.DataFrame'>\n",
      "Index: 1459754 entries, 0 to 3986667\n",
      "Data columns (total 14 columns):\n",
      "CAD_Event_Number               1459754 non-null int64\n",
      "Event_Clearance_Description    1459754 non-null object\n",
      "Force_Level                    1459754 non-null object\n",
      "Precinct                       1459754 non-null object\n",
      "Sector                         1449873 non-null object\n",
      "Beat                           1459754 non-null object\n",
      "Subject_Race                   1459754 non-null object\n",
      "Subject_Gender                 1459754 non-null object\n",
      "Call_Type                      1459754 non-null object\n",
      "Initial_Call_Type              1459754 non-null object\n",
      "month                          1459754 non-null object\n",
      "day                            1459754 non-null object\n",
      "day_of_week                    1459754 non-null int64\n",
      "hour                           1459754 non-null int64\n",
      "dtypes: int64(3), object(11)\n",
      "memory usage: 167.1+ MB\n"
     ]
    }
   ],
   "source": [
    "nm.info(verbose=True)"
   ]
  },
  {
   "cell_type": "code",
   "execution_count": 4,
   "metadata": {},
   "outputs": [],
   "source": [
    "y = nm.Force_Level\n",
    "y.replace({\"Level 1 - Use of Force\":1,\"Level 2 - Use of Force\":2,\"Level 3 - OIS\":4, \"Level 3 - Use of Force\": 3 }, inplace=True)\n"
   ]
  },
  {
   "cell_type": "code",
   "execution_count": 5,
   "metadata": {},
   "outputs": [],
   "source": [
    "# make a copy to alter for the model in case I want to look back at this\n",
    "nm2 = nm.copy(deep=True)"
   ]
  },
  {
   "cell_type": "code",
   "execution_count": 6,
   "metadata": {},
   "outputs": [],
   "source": [
    "# drop columns and make time ints\n",
    "nm.drop([\"Force_Level\", \"CAD_Event_Number\", \"Event_Clearance_Description\"], axis=1, inplace=True)\n",
    "nm[\"month\"] = nm[\"month\"].astype(int)\n",
    "nm[\"day\"] = nm[\"day\"].astype(int)"
   ]
  },
  {
   "cell_type": "code",
   "execution_count": 7,
   "metadata": {},
   "outputs": [],
   "source": [
    "# better categories in Initial Call Type\n",
    "\n",
    "init = nm[\"Initial_Call_Type\"]\n",
    "to_drop = init[init.str.startswith(\"-ASSIGNED DUTY\")]\n",
    "\n",
    "\n",
    "s = nm[\"Initial_Call_Type\"].str.replace(\" - .*\", \"\", regex=True)\n",
    "nm[\"Initial_Call_Type\"] = s"
   ]
  },
  {
   "cell_type": "code",
   "execution_count": null,
   "metadata": {},
   "outputs": [],
   "source": [
    "#drop = [\"ASSIST PUBLIC\", ]  -DOWN TIME - OUT OF SERVICE  "
   ]
  },
  {
   "cell_type": "code",
   "execution_count": 324,
   "metadata": {},
   "outputs": [
    {
     "data": {
      "text/plain": [
       "Animal - Dangerous / Bite                        847\n",
       "Arson                                            838\n",
       "ILLEGAL DUMPING                                  816\n",
       "BURN - RECKLESS BURNING                          808\n",
       "Bias                                             795\n",
       "LICENSE INSPECTIONS (CHECK FOR)                  731\n",
       "HARBOR - WATER EMERGENCIES                       721\n",
       "Sleeper Aboard Public Transit                    671\n",
       "Explosion                                        644\n",
       "INFORMATIONAL BROADCASTS                         592\n",
       "Harassment                                       571\n",
       "TEST CALL ONLY                                   521\n",
       "ABANDONED VEHICLE                                395\n",
       "-OUT AT RANGE                                    328\n",
       "-OUT OF CAR/NO REASON GIVEN                      315\n",
       "Bomb Threat                                      243\n",
       "WARRANT - SEARCH. EXECUTED, SECURED              209\n",
       "POWER OUT - POLES AND TRANSFORMERS               189\n",
       "Eluding Police                                   177\n",
       "HELP THE OFFICER                                 113\n",
       "Littering                                        105\n",
       "INFRASTRUCTURE CHECKS                             97\n",
       "NO ANSWER WHEN CALLED                             93\n",
       "AWOL - ADULT OR JUVENILE                          83\n",
       "VICE - PORNOGRAPHY                                59\n",
       "Gambling                                          51\n",
       "-ELEMENTARY SCHOOL VISIT                          44\n",
       "Escaped Prisoner                                  35\n",
       "TRU - ILLEGAL DUMPING                             24\n",
       "HARBOR - WATER NON-EMERGENCIES                     8\n",
       "NORAD - INCIDENTS INV AIRCRAFT (EXCL CRASHES)      8\n",
       "SWAT - CRITICAL INCIDENT LOGS AND CALLOUTS         4\n",
       "SAMPLE / TEST CALL ONLY                            4\n",
       "JUVENILE - HARBORING A MINOR                       3\n",
       "AMBER - POST ACTIVATION SEARCH                     3\n",
       "BULLETIN - VIOLENT OFFENDER                        3\n",
       "--FRAUD - FRAUD, INCLUDING BUNCO                   2\n",
       "PURSUIT (FOOT OR VEHICLE)                          2\n",
       "ACC - WITH INJURIES (INCLUDES HIT AND RUN)         1\n",
       "RESCUE OF PERSON                                   1\n",
       "AMBER - TIP SHEET ONLY                             1\n",
       "SECONDARY - SAMPLE/TEST CALL                       1\n",
       "Name: cat_ICT, dtype: int64"
      ]
     },
     "execution_count": 324,
     "metadata": {},
     "output_type": "execute_result"
    }
   ],
   "source": [
    "# cool EDA\n",
    "\n",
    "call_types = nm2.groupby([\"Call_Type\"]).Initial_Call_Type.value_counts()\n",
    "\n",
    "df1 = nm2[nm2['cat_ICT'].str.contains(\"LITTERING\") ]\n",
    "\n",
    "vc = nm2.cat_ICT.value_counts()\n",
    "vc[70:]\n",
    "#df1.cat_ICT.value_counts()"
   ]
  },
  {
   "cell_type": "code",
   "execution_count": 325,
   "metadata": {},
   "outputs": [],
   "source": [
    "# function for later to categorize ICT column\n",
    "\n",
    "def initial_call_type_cats(value):    \n",
    "    if \"MVC\" in value:\n",
    "        return \"Motor Vehicle Collision\"\n",
    "    elif value.startswith(\"FRAUD\"):\n",
    "        return \"Fraud\"\n",
    "    elif \"SUSPICIOUS STOP\" in value:\n",
    "        return \"Police Initiated\"\n",
    "    elif \"SUSPICIOUS\" in value:\n",
    "        return \"Suspicious person, vehicle, incident\"\n",
    "    elif \"TRAFFIC STOP\" in value:\n",
    "        return \"Police Initiated\"\n",
    "    elif \"ROAD RAGE\" in value:\n",
    "        return \"Road Rage\"\n",
    "    elif \"MOVING VIOLATION\" in value:\n",
    "        return \"Moving Violation\"\n",
    "    elif \"TRAF\" in value:\n",
    "        return \"Moving Violation\"\n",
    "    elif \"BLOCKING ROADWAY\" in value:\n",
    "        return \"Blocking Roadway\"\n",
    "    elif \"TRAFFIC - ASSIST\" in value:\n",
    "        return \"Assist Motorist\"\n",
    "    elif \"DISTURBANCE\" in value:\n",
    "        return \"Disturbance\"\n",
    "    elif \"NOISE\" in value:\n",
    "        return \"Disturbance\"\n",
    "    elif \"OFF DUTY EMPLOYMENT\" in value:\n",
    "        return \"Police Initiated\"\n",
    "    elif \"NUISANCE\" in value:\n",
    "        return \"Nuisance\"\n",
    "    elif \"NARCOTICS\" in value:\n",
    "        return \"Narcotics\"\n",
    "    elif \"SEX IN PUBLIC\" in value:\n",
    "        return \"Sex in Public\"\n",
    "    elif \"VIOLATION OF COURT ORDER (NON DV)\" in value:\n",
    "        return \"Violation of Court Order (Not Domestic Violence)\"\n",
    "    elif \"NOT DV\" in value:\n",
    "        return \"Alarm\"\n",
    "    elif \"SHOTS\" in value:\n",
    "        return \"Shots heard\"\n",
    "    elif \"DV\" in value:\n",
    "        return \"Domestic Violence\"\n",
    "    elif \"ASSAULTS\" in value:\n",
    "        return \"Assault\"\n",
    "    elif \"WEAPN\" in value:\n",
    "        return \"Deadly Weapon - No Assault\"\n",
    "    elif \"ASLT\" in value:\n",
    "        return \"Assault\"\n",
    "    elif \"FIGHT\" in value:\n",
    "        if \"WITH WEAPONS\" in value:\n",
    "            return \"Fight - with weapons\"\n",
    "        else:\n",
    "            return \"Fight - no weapons\"\n",
    "    elif \"THEFT\" in value:\n",
    "        return \"Robbery\"\n",
    "    elif \"PREMISE CHECK\" in value:\n",
    "        return \"Police Initiated\"\n",
    "    elif \"DIRECTED PATROL ACTIVITY\" in value:\n",
    "        return \"Directed Patrol Activity\"\n",
    "    elif \"UNUSUAL OCCURRENCES - EARTHQUAKE, RIOT, ETC)\" in value:\n",
    "        return \"Disturbance\"\n",
    "    elif \"PARKING\" in value:\n",
    "        return \"Parking Violation\"\n",
    "    elif \"ALARM\"in value:\n",
    "        return \"Alarm\"\n",
    "    elif \"BURG\" in value:\n",
    "        return \"Robbery\"\n",
    "    elif \"WATER FLOODS\" in value:\n",
    "        return \"Nuisance\"\n",
    "    elif \"TREES DOWN\" in value:\n",
    "        return \"Nuisance\"\n",
    "    elif \"HAZ\" in value:\n",
    "        return \"Hazard - immediate threat\"\n",
    "    elif \"TRESPASS\" in value:\n",
    "        return \"Trespass\"\n",
    "    elif \"FOLLOW\" in value:\n",
    "        return \"Follow up\"\n",
    "    elif \"WELFARE\" in value:\n",
    "        return \"Welfare Check\"\n",
    "    elif \"SERVICE\" in value:\n",
    "        return \"Assisting other agencies\"\n",
    "    elif \"SFD\" in value:\n",
    "        return \"Assisting other agencies\"\n",
    "    elif \"SUICIDE\" in value:\n",
    "        return \"Suicidal person or attempts\"\n",
    "    elif \"LIQUOR\" in value:\n",
    "        return \"Liquor Violations\"\n",
    "    elif \"AUTO\" in value:\n",
    "        return \"Auto Recovery\"\n",
    "    elif \"DAMAGE\" in value:\n",
    "        return \"Damaged Property\"\n",
    "    elif \"DAMG\" in value:\n",
    "        return \"Damaged Property\"\n",
    "    elif \"PROPERTY\" in value:\n",
    "        return \"Property lost or found\"\n",
    "    elif \"FOLLOW UP\" in value:\n",
    "        return \"Follow up\"\n",
    "    elif \"PERSON IN BEHAVIORAL/EMOTIONAL CRISIS\" in value:\n",
    "        return \"Behavioral / Emotional Crisis\"\n",
    "    elif \"DOWN - CHECK\" in value:\n",
    "        return \"Check for Person Down\"\n",
    "    elif \"SICK\" in value:\n",
    "        return \"Sick Person\"\n",
    "    elif \"--PERSON\" in value:\n",
    "        return \"Missing Person\"\n",
    "    elif \"INJURED\" in value:\n",
    "        return \"Injuries from Industrial Accidents\"\n",
    "    elif \"PICKUP\" in value:\n",
    "        return \"Pickup Person\"\n",
    "    elif \"BOMB\" in value:\n",
    "        return \"Bomb Threat\"\n",
    "    elif \"THREAT\" in value:\n",
    "        return \"Threats\"\n",
    "    elif \"RAPE\" in value:\n",
    "        return \"Rape\"\n",
    "    elif \"ROBBERY\" in value:\n",
    "        return \"Robbery\"\n",
    "    elif \"KIDNAPPING\" in value:\n",
    "        return \"Missing Person\"\n",
    "    elif \"MISSING\" in value:\n",
    "        return \"Missing Person\"\n",
    "    elif \"PROWLER\" in value:\n",
    "        return \"Prowler\"\n",
    "    elif \"PANHANDLING\" in value:\n",
    "        return \"Aggressive Panhandling\"\n",
    "    elif \"RUNAWAY\" in value:\n",
    "        return \"Missing Person\"\n",
    "    elif \"ASSIGNED DUTY\" in value:\n",
    "        return \"Assigned Duty\"\n",
    "    elif \"KIDNAPPNG\" in value:\n",
    "        return \"Missing Person\"\n",
    "    elif \"LEWD\" in value:\n",
    "        return \"Lewd Conduct\"\n",
    "    elif \"OVERDOSE\" in value:\n",
    "        return \"Overdose - Drug Related Casualty\"\n",
    "    elif \"PREDICTIVE POLICING\" in value:\n",
    "        return \"Predictive Policing\"\n",
    "    elif \"DETOX\" in value:\n",
    "        return \"Request for Detox\"\n",
    "    elif \"REQUEST\" in value:\n",
    "        return \"Request to Watch\"\n",
    "    elif \"CHILD\" in value:\n",
    "        return \"Child Abuse\"\n",
    "    elif \"PURSE\" in value:\n",
    "        return \"Robbery\"\n",
    "    elif \"PEACE\" in value:\n",
    "        return \"Standby to Ensure Peace\"\n",
    "    elif \"DEAD\" in value:\n",
    "        return \"Casualty\"\n",
    "    elif \"GAMBLING\" in value:\n",
    "        return \"Gambling\"\n",
    "    elif \"ANIMAL\" in value:\n",
    "        return \"Animal - Dangerous / Bite\"\n",
    "    elif \"ESCAPE\" in value:\n",
    "        return \"Escaped Prisoner\"\n",
    "    elif \"PARKS\" in value:\n",
    "        return \"Parks Violations\"\n",
    "    elif \"PROSTITUTION\" in value:\n",
    "        return \"Prostitution\"\n",
    "    elif \"Pornography\" in value:\n",
    "        return \"Lewd Conduct\"\n",
    "    elif \"DUI\" in value:\n",
    "        return \"DUI - Driving While Under the Influence\"\n",
    "    elif \"SEX OFFENDER\" in value:\n",
    "        return \"Sex Offender - Failure to Register\"\n",
    "    elif \"SEX\" in value:\n",
    "        return \"Bias\"\n",
    "    elif \"SLEEP\" in value:\n",
    "        return \"Sleeper Aboard Public Transit\"\n",
    "    elif \"HARASSMENT\" in value:\n",
    "        return \"Harassment\"\n",
    "    elif \"EXPLOSION\" in value:\n",
    "        return \"Explosion\"\n",
    "    elif \"ARSON\" in value:\n",
    "        return \"Arson\"\n",
    "    elif \"PREPLANNED\" in value:\n",
    "        return \"Assigned Duty\"\n",
    "    elif \"ASSIGNMENT\" in value:\n",
    "        return \"Assigned Duty\"\n",
    "    elif \"SHOPLIFT\" in value:\n",
    "        return \"Robbery\"\n",
    "    elif \"ELUDING\" in value:\n",
    "        return \"Eluding Police\"\n",
    "    elif \"LITTERING\" in value:\n",
    "        return \"Illegal Dumping\"\n",
    "    elif \"DUMPING\" in value:\n",
    "        return \"Illegal Dumping\"\n",
    "    elif \"BURN\" in value:\n",
    "        return \"Arson\"\n",
    "    \n",
    "    \n",
    "    \n",
    "    \n",
    "    \n",
    "    \n",
    "    \n",
    "    \n",
    "    \n",
    "    \n",
    "    \n",
    "    \n",
    "    \n",
    "    else:\n",
    "        return \"-\"\n",
    "    \n",
    "    \n",
    "    "
   ]
  },
  {
   "cell_type": "code",
   "execution_count": 326,
   "metadata": {},
   "outputs": [],
   "source": [
    "# calling above function to make list to make column\n",
    "new_col2 = []\n",
    "for item in new_col:\n",
    "   # value = row.Initial_Call_Type\n",
    "    new_col2.append(initial_call_type_cats(item))"
   ]
  },
  {
   "cell_type": "code",
   "execution_count": 327,
   "metadata": {},
   "outputs": [],
   "source": [
    "nm2[\"cat_ICT\"] = new_col"
   ]
  },
  {
   "cell_type": "code",
   "execution_count": null,
   "metadata": {},
   "outputs": [],
   "source": []
  },
  {
   "cell_type": "code",
   "execution_count": 8,
   "metadata": {},
   "outputs": [],
   "source": [
    "# get dummies for string valued columns\n",
    "nm = pd.get_dummies(data = nm, \n",
    "                     columns=[\"Precinct\", \"Sector\", \"Beat\", \"Subject_Gender\", \"Subject_Race\", \"Call_Type\", \n",
    "                               \"Initial_Call_Type\"], \n",
    "                     prefix=[\"P\",  \"S\", \"B\", \"SG\", \"SR\",\"CT\", \"ICT\"])"
   ]
  },
  {
   "cell_type": "code",
   "execution_count": 26,
   "metadata": {},
   "outputs": [],
   "source": [
    "# dropping the \"-\" Precinct and Sector columns - they aren't useful for interpretation\n",
    "\n",
    "nm.drop([\"S_-\", \"P_-\"], axis=1, inplace=True)"
   ]
  },
  {
   "cell_type": "code",
   "execution_count": 33,
   "metadata": {},
   "outputs": [],
   "source": [
    "# dropping column\n",
    "\n",
    "nm.drop(['SG_-', 'SR_-'], axis=1, inplace=True)"
   ]
  },
  {
   "cell_type": "code",
   "execution_count": 36,
   "metadata": {},
   "outputs": [],
   "source": [
    "# get column names to identify features in feature_importance later\n",
    "\n",
    "cols = nm.columns"
   ]
  },
  {
   "cell_type": "code",
   "execution_count": 19,
   "metadata": {},
   "outputs": [],
   "source": [
    "# two minutes~\n",
    "\n",
    "X_scaled = StandardScaler().fit_transform(nm)"
   ]
  },
  {
   "cell_type": "code",
   "execution_count": 73,
   "metadata": {},
   "outputs": [],
   "source": [
    "# will need to change nm2 to X_scaled if we use this later - X_scaled hung and never finished (~10minutes)\n",
    "\n",
    "X_train, X_test, y_train, y_test = train_test_split(nm, y, test_size=0.2, random_state=659)"
   ]
  },
  {
   "cell_type": "code",
   "execution_count": 74,
   "metadata": {},
   "outputs": [],
   "source": [
    "# create RFC model - change all but random_state after we time this one\n",
    "\n",
    "clf = RandomForestClassifier(n_estimators=100, max_depth=4, random_state=659, oob_score=True)\n",
    "\n"
   ]
  },
  {
   "cell_type": "code",
   "execution_count": 75,
   "metadata": {},
   "outputs": [
    {
     "data": {
      "text/plain": [
       "RandomForestClassifier(bootstrap=True, class_weight=None, criterion='gini',\n",
       "                       max_depth=4, max_features='auto', max_leaf_nodes=None,\n",
       "                       min_impurity_decrease=0.0, min_impurity_split=None,\n",
       "                       min_samples_leaf=1, min_samples_split=2,\n",
       "                       min_weight_fraction_leaf=0.0, n_estimators=100,\n",
       "                       n_jobs=None, oob_score=True, random_state=659, verbose=0,\n",
       "                       warm_start=False)"
      ]
     },
     "execution_count": 75,
     "metadata": {},
     "output_type": "execute_result"
    }
   ],
   "source": [
    "# fit the model\n",
    "\n",
    "clf.fit(X_train, y_train)"
   ]
  },
  {
   "cell_type": "code",
   "execution_count": 76,
   "metadata": {},
   "outputs": [
    {
     "data": {
      "text/plain": [
       "(347, 347)"
      ]
     },
     "execution_count": 76,
     "metadata": {},
     "output_type": "execute_result"
    }
   ],
   "source": [
    "# check the feature importances and col_name list match first\n",
    "\n",
    "len(clf.feature_importances_), len(cols)"
   ]
  },
  {
   "cell_type": "code",
   "execution_count": 77,
   "metadata": {},
   "outputs": [
    {
     "data": {
      "text/plain": [
       "Index(['SG_Male', 'SR_Black or African American', 'SR_White', 'P_W',\n",
       "       'SG_Female', 'P_N', 'P_E', 'S_K', 'S_M', 'S_N', 'SR_Not Specified',\n",
       "       'P_S', 'S_E', 'S_R', 'S_S', 'S_G', 'S_B', 'P_SW', 'S_U'],\n",
       "      dtype='object')"
      ]
     },
     "execution_count": 77,
     "metadata": {},
     "output_type": "execute_result"
    }
   ],
   "source": [
    "# most important features in predictions of this model\n",
    "\n",
    "indices = np.argsort(clf.feature_importances_)\n",
    "big = indices[-1:-20:-1]\n",
    "\n",
    "cols[big]"
   ]
  },
  {
   "cell_type": "code",
   "execution_count": 78,
   "metadata": {},
   "outputs": [
    {
     "data": {
      "text/plain": [
       "Index(['B_TAC3', 'B_T', 'B_TAC2', 'B_TAC9', 'B_TQ', 'B_TRF',\n",
       "       'ICT_KNOWN KIDNAPPNG', 'B_US', 'B_W', 'B_W3'],\n",
       "      dtype='object')"
      ]
     },
     "execution_count": 78,
     "metadata": {},
     "output_type": "execute_result"
    }
   ],
   "source": [
    "# least important features\n",
    "little = indices[:10]\n",
    "cols[little]\n"
   ]
  },
  {
   "cell_type": "code",
   "execution_count": 79,
   "metadata": {},
   "outputs": [
    {
     "data": {
      "text/plain": [
       "0.9953065713994569"
      ]
     },
     "execution_count": 79,
     "metadata": {},
     "output_type": "execute_result"
    }
   ],
   "source": [
    "clf.oob_score_ # accuracy of training set"
   ]
  },
  {
   "cell_type": "code",
   "execution_count": 80,
   "metadata": {},
   "outputs": [],
   "source": [
    "# predicted classes\n",
    "\n",
    "yhat = clf.predict(X_test)"
   ]
  },
  {
   "cell_type": "code",
   "execution_count": 81,
   "metadata": {},
   "outputs": [
    {
     "data": {
      "text/plain": [
       "0.9948313244345798"
      ]
     },
     "execution_count": 81,
     "metadata": {},
     "output_type": "execute_result"
    }
   ],
   "source": [
    "sum(yhat == y_test) / len(yhat) # accuracy of testing set"
   ]
  },
  {
   "cell_type": "code",
   "execution_count": 82,
   "metadata": {},
   "outputs": [
    {
     "name": "stderr",
     "output_type": "stream",
     "text": [
      "/Users/sarahburgart/anaconda3/lib/python3.7/site-packages/sklearn/metrics/classification.py:1437: UndefinedMetricWarning: Precision and F-score are ill-defined and being set to 0.0 in labels with no predicted samples.\n",
      "  'precision', 'predicted', average, warn_for)\n"
     ]
    },
    {
     "name": "stdout",
     "output_type": "stream",
     "text": [
      "              precision    recall  f1-score   support\n",
      "\n",
      "           0       1.00      1.00      1.00    290181\n",
      "           1       0.74      0.20      0.31      1320\n",
      "           2       0.00      0.00      0.00       414\n",
      "           3       0.00      0.00      0.00        26\n",
      "           4       0.00      0.00      0.00        10\n",
      "\n",
      "    accuracy                           0.99    291951\n",
      "   macro avg       0.35      0.24      0.26    291951\n",
      "weighted avg       0.99      0.99      0.99    291951\n",
      "\n"
     ]
    }
   ],
   "source": [
    "# sklearn.metrics.classification_report(y_true, y_pred, labels=None, target_names=None, sample_weight=None, digits=2, output_dict=False)\n",
    "print(classification_report(y_test, yhat))\n"
   ]
  },
  {
   "cell_type": "code",
   "execution_count": 83,
   "metadata": {},
   "outputs": [],
   "source": [
    "# predict probabilities - what do you want threshold to be?\n",
    "\n",
    "pp = clf.predict_proba(X_test)"
   ]
  },
  {
   "cell_type": "code",
   "execution_count": 106,
   "metadata": {},
   "outputs": [
    {
     "data": {
      "text/plain": [
       "array([0, 1, 2, 3, 4])"
      ]
     },
     "execution_count": 106,
     "metadata": {},
     "output_type": "execute_result"
    }
   ],
   "source": [
    "clf.classes_"
   ]
  },
  {
   "cell_type": "code",
   "execution_count": 107,
   "metadata": {},
   "outputs": [
    {
     "name": "stdout",
     "output_type": "stream",
     "text": [
      "Pr of no force is: 0.9975696041175851, Pr of Force 1 is: 0.001786008381623894, Pr of Force 2: 0.0005890931487029798, Pr of Force 3: 3.458282343925955e-05, & Pr of Officer Involved Shooting: 2.0711528648684556e-05\n",
      "Pr of no force is: 0.9975436430474433, Pr of Force 1 is: 0.001804144082206821, Pr of Force 2: 0.0005963763448513798, Pr of Force 3: 3.495330860313598e-05, & Pr of Officer Involved Shooting: 2.0883216895359e-05\n",
      "Pr of no force is: 0.997591777167731, Pr of Force 1 is: 0.001765743712719444, Pr of Force 2: 0.0005879582209436118, Pr of Force 3: 3.446763998622903e-05, & Pr of Officer Involved Shooting: 2.0053258619722154e-05\n",
      "Pr of no force is: 0.9973018147227163, Pr of Force 1 is: 0.001966689066885495, Pr of Force 2: 0.0006691257202245938, Pr of Force 3: 3.965555021180126e-05, & Pr of Officer Involved Shooting: 2.2714939961815766e-05\n",
      "Pr of no force is: 0.997185974091859, Pr of Force 1 is: 0.0020558252080745167, Pr of Force 2: 0.0006951011948231337, Pr of Force 3: 3.9539936729357115e-05, & Pr of Officer Involved Shooting: 2.3559568513858175e-05\n",
      "Pr of no force is: 0.997591777167731, Pr of Force 1 is: 0.001765743712719444, Pr of Force 2: 0.0005879582209436118, Pr of Force 3: 3.446763998622903e-05, & Pr of Officer Involved Shooting: 2.0053258619722154e-05\n",
      "Pr of no force is: 0.9975436430474433, Pr of Force 1 is: 0.001804144082206821, Pr of Force 2: 0.0005963763448513798, Pr of Force 3: 3.495330860313598e-05, & Pr of Officer Involved Shooting: 2.0883216895359e-05\n",
      "Pr of no force is: 0.9970877759063229, Pr of Force 1 is: 0.0021325500663936857, Pr of Force 2: 0.0007155783596729113, Pr of Force 3: 4.01298342307304e-05, & Pr of Officer Involved Shooting: 2.396583337969753e-05\n",
      "Pr of no force is: 0.9969985237152278, Pr of Force 1 is: 0.002196052855965986, Pr of Force 2: 0.0007366073966297215, Pr of Force 3: 4.353971084218279e-05, & Pr of Officer Involved Shooting: 2.527632133428363e-05\n",
      "Pr of no force is: 0.997146073287294, Pr of Force 1 is: 0.0020883932458274487, Pr of Force 2: 0.000700600084346119, Pr of Force 3: 4.0762079107391706e-05, & Pr of Officer Involved Shooting: 2.417130342499135e-05\n"
     ]
    }
   ],
   "source": [
    "# some rows' probabilities of being in each class:\n",
    "\n",
    "for p in pp[:10]:\n",
    "    print(f\"Pr of no force is: {p[0]}, Pr of Force 1 is: {p[1]}, Pr of Force 2: {p[2]}, Pr of Force 3: {p[3]}, & Pr of Officer Involved Shooting: {p[4]}\")\n",
    "          \n",
    "          "
   ]
  },
  {
   "cell_type": "code",
   "execution_count": 85,
   "metadata": {},
   "outputs": [
    {
     "data": {
      "text/plain": [
       "291951"
      ]
     },
     "execution_count": 85,
     "metadata": {},
     "output_type": "execute_result"
    }
   ],
   "source": [
    "len(y_test)"
   ]
  },
  {
   "cell_type": "code",
   "execution_count": 86,
   "metadata": {},
   "outputs": [
    {
     "data": {
      "text/plain": [
       "pandas.core.series.Series"
      ]
     },
     "execution_count": 86,
     "metadata": {},
     "output_type": "execute_result"
    }
   ],
   "source": [
    "type(y_test)"
   ]
  },
  {
   "cell_type": "code",
   "execution_count": 108,
   "metadata": {},
   "outputs": [
    {
     "data": {
      "text/plain": [
       "50706     4\n",
       "220355    4\n",
       "156571    4\n",
       "60263     4\n",
       "6215      4\n",
       "156570    4\n",
       "102803    4\n",
       "50750     4\n",
       "220432    4\n",
       "50774     4\n",
       "Name: Force_Level, dtype: int64"
      ]
     },
     "execution_count": 108,
     "metadata": {},
     "output_type": "execute_result"
    }
   ],
   "source": [
    "y_test[y_test == 4]"
   ]
  },
  {
   "cell_type": "code",
   "execution_count": 109,
   "metadata": {},
   "outputs": [
    {
     "data": {
      "text/plain": [
       "numpy.ndarray"
      ]
     },
     "execution_count": 109,
     "metadata": {},
     "output_type": "execute_result"
    }
   ],
   "source": [
    "type(yhat)"
   ]
  },
  {
   "cell_type": "code",
   "execution_count": 111,
   "metadata": {},
   "outputs": [
    {
     "data": {
      "text/plain": [
       "0"
      ]
     },
     "execution_count": 111,
     "metadata": {},
     "output_type": "execute_result"
    }
   ],
   "source": [
    "len(yhat[yhat == 4])"
   ]
  },
  {
   "cell_type": "code",
   "execution_count": 90,
   "metadata": {},
   "outputs": [
    {
     "data": {
      "text/plain": [
       "0"
      ]
     },
     "execution_count": 90,
     "metadata": {},
     "output_type": "execute_result"
    }
   ],
   "source": [
    "yhat[50706]"
   ]
  },
  {
   "cell_type": "code",
   "execution_count": 118,
   "metadata": {},
   "outputs": [
    {
     "data": {
      "text/plain": [
       "(50706     4\n",
       " 220355    4\n",
       " 156571    4\n",
       " 60263     4\n",
       " 6215      4\n",
       " 156570    4\n",
       " 102803    4\n",
       " 50750     4\n",
       " 220432    4\n",
       " 50774     4\n",
       " Name: Force_Level, dtype: int64,\n",
       " Index([50706, 220355, 156571, 60263, 6215, 156570, 102803, 50750, 220432,\n",
       "        50774],\n",
       "       dtype='object'))"
      ]
     },
     "execution_count": 118,
     "metadata": {},
     "output_type": "execute_result"
    }
   ],
   "source": [
    "# visualization - you can plot the abundance/frequency of each selected feature within each group as a bar plot. \n",
    "# I assume visually the top feature will be more abundant in one group comparing with the other groups.\n",
    "\n",
    "four = y_test[y_test == 4]\n",
    "four, four.index"
   ]
  },
  {
   "cell_type": "code",
   "execution_count": 136,
   "metadata": {},
   "outputs": [
    {
     "data": {
      "text/html": [
       "<div>\n",
       "<style scoped>\n",
       "    .dataframe tbody tr th:only-of-type {\n",
       "        vertical-align: middle;\n",
       "    }\n",
       "\n",
       "    .dataframe tbody tr th {\n",
       "        vertical-align: top;\n",
       "    }\n",
       "\n",
       "    .dataframe thead th {\n",
       "        text-align: right;\n",
       "    }\n",
       "</style>\n",
       "<table border=\"1\" class=\"dataframe\">\n",
       "  <thead>\n",
       "    <tr style=\"text-align: right;\">\n",
       "      <th></th>\n",
       "      <th>month</th>\n",
       "      <th>day</th>\n",
       "      <th>day_of_week</th>\n",
       "      <th>hour</th>\n",
       "      <th>P_E</th>\n",
       "      <th>P_EAST</th>\n",
       "      <th>P_N</th>\n",
       "      <th>P_NORTH</th>\n",
       "      <th>P_S</th>\n",
       "      <th>P_SOUTH</th>\n",
       "      <th>...</th>\n",
       "      <th>ICT_TRU</th>\n",
       "      <th>ICT_UNKNOWN</th>\n",
       "      <th>ICT_UNUSUAL OCCURRENCES</th>\n",
       "      <th>ICT_VICE</th>\n",
       "      <th>ICT_WARRANT</th>\n",
       "      <th>ICT_WARRANT PICKUP</th>\n",
       "      <th>ICT_WATER FLOODS (BROKEN MAINS/HYDRANTS, NO HAZ)</th>\n",
       "      <th>ICT_WEAPN</th>\n",
       "      <th>ICT_WEAPN-IP/JO-GUN,DEADLY WPN (NO THRT/ASLT/DIST)</th>\n",
       "      <th>ICT_WIRES DOWN (PHONE, ELECTRICAL,ETC.)</th>\n",
       "    </tr>\n",
       "  </thead>\n",
       "  <tbody>\n",
       "    <tr>\n",
       "      <th>2532371</th>\n",
       "      <td>1</td>\n",
       "      <td>21</td>\n",
       "      <td>3</td>\n",
       "      <td>5</td>\n",
       "      <td>0</td>\n",
       "      <td>1</td>\n",
       "      <td>0</td>\n",
       "      <td>0</td>\n",
       "      <td>0</td>\n",
       "      <td>0</td>\n",
       "      <td>...</td>\n",
       "      <td>0</td>\n",
       "      <td>0</td>\n",
       "      <td>0</td>\n",
       "      <td>0</td>\n",
       "      <td>0</td>\n",
       "      <td>0</td>\n",
       "      <td>0</td>\n",
       "      <td>0</td>\n",
       "      <td>0</td>\n",
       "      <td>0</td>\n",
       "    </tr>\n",
       "    <tr>\n",
       "      <th>1847045</th>\n",
       "      <td>4</td>\n",
       "      <td>14</td>\n",
       "      <td>0</td>\n",
       "      <td>9</td>\n",
       "      <td>0</td>\n",
       "      <td>0</td>\n",
       "      <td>0</td>\n",
       "      <td>0</td>\n",
       "      <td>0</td>\n",
       "      <td>0</td>\n",
       "      <td>...</td>\n",
       "      <td>0</td>\n",
       "      <td>0</td>\n",
       "      <td>0</td>\n",
       "      <td>0</td>\n",
       "      <td>0</td>\n",
       "      <td>0</td>\n",
       "      <td>0</td>\n",
       "      <td>0</td>\n",
       "      <td>0</td>\n",
       "      <td>0</td>\n",
       "    </tr>\n",
       "    <tr>\n",
       "      <th>2560580</th>\n",
       "      <td>2</td>\n",
       "      <td>16</td>\n",
       "      <td>1</td>\n",
       "      <td>12</td>\n",
       "      <td>0</td>\n",
       "      <td>0</td>\n",
       "      <td>0</td>\n",
       "      <td>1</td>\n",
       "      <td>0</td>\n",
       "      <td>0</td>\n",
       "      <td>...</td>\n",
       "      <td>0</td>\n",
       "      <td>0</td>\n",
       "      <td>0</td>\n",
       "      <td>0</td>\n",
       "      <td>0</td>\n",
       "      <td>0</td>\n",
       "      <td>0</td>\n",
       "      <td>0</td>\n",
       "      <td>0</td>\n",
       "      <td>0</td>\n",
       "    </tr>\n",
       "    <tr>\n",
       "      <th>2805351</th>\n",
       "      <td>9</td>\n",
       "      <td>17</td>\n",
       "      <td>5</td>\n",
       "      <td>23</td>\n",
       "      <td>0</td>\n",
       "      <td>0</td>\n",
       "      <td>0</td>\n",
       "      <td>0</td>\n",
       "      <td>0</td>\n",
       "      <td>1</td>\n",
       "      <td>...</td>\n",
       "      <td>0</td>\n",
       "      <td>0</td>\n",
       "      <td>0</td>\n",
       "      <td>0</td>\n",
       "      <td>0</td>\n",
       "      <td>0</td>\n",
       "      <td>0</td>\n",
       "      <td>0</td>\n",
       "      <td>0</td>\n",
       "      <td>0</td>\n",
       "    </tr>\n",
       "    <tr>\n",
       "      <th>1984306</th>\n",
       "      <td>8</td>\n",
       "      <td>18</td>\n",
       "      <td>0</td>\n",
       "      <td>4</td>\n",
       "      <td>0</td>\n",
       "      <td>0</td>\n",
       "      <td>0</td>\n",
       "      <td>0</td>\n",
       "      <td>0</td>\n",
       "      <td>0</td>\n",
       "      <td>...</td>\n",
       "      <td>0</td>\n",
       "      <td>0</td>\n",
       "      <td>0</td>\n",
       "      <td>0</td>\n",
       "      <td>0</td>\n",
       "      <td>0</td>\n",
       "      <td>0</td>\n",
       "      <td>0</td>\n",
       "      <td>0</td>\n",
       "      <td>0</td>\n",
       "    </tr>\n",
       "    <tr>\n",
       "      <th>2743392</th>\n",
       "      <td>7</td>\n",
       "      <td>25</td>\n",
       "      <td>0</td>\n",
       "      <td>15</td>\n",
       "      <td>0</td>\n",
       "      <td>0</td>\n",
       "      <td>0</td>\n",
       "      <td>0</td>\n",
       "      <td>0</td>\n",
       "      <td>0</td>\n",
       "      <td>...</td>\n",
       "      <td>0</td>\n",
       "      <td>0</td>\n",
       "      <td>0</td>\n",
       "      <td>0</td>\n",
       "      <td>0</td>\n",
       "      <td>0</td>\n",
       "      <td>0</td>\n",
       "      <td>0</td>\n",
       "      <td>0</td>\n",
       "      <td>0</td>\n",
       "    </tr>\n",
       "    <tr>\n",
       "      <th>3932163</th>\n",
       "      <td>5</td>\n",
       "      <td>12</td>\n",
       "      <td>6</td>\n",
       "      <td>2</td>\n",
       "      <td>0</td>\n",
       "      <td>0</td>\n",
       "      <td>0</td>\n",
       "      <td>0</td>\n",
       "      <td>0</td>\n",
       "      <td>0</td>\n",
       "      <td>...</td>\n",
       "      <td>0</td>\n",
       "      <td>0</td>\n",
       "      <td>0</td>\n",
       "      <td>0</td>\n",
       "      <td>0</td>\n",
       "      <td>0</td>\n",
       "      <td>0</td>\n",
       "      <td>0</td>\n",
       "      <td>0</td>\n",
       "      <td>0</td>\n",
       "    </tr>\n",
       "    <tr>\n",
       "      <th>3193740</th>\n",
       "      <td>8</td>\n",
       "      <td>23</td>\n",
       "      <td>2</td>\n",
       "      <td>20</td>\n",
       "      <td>0</td>\n",
       "      <td>0</td>\n",
       "      <td>0</td>\n",
       "      <td>1</td>\n",
       "      <td>0</td>\n",
       "      <td>0</td>\n",
       "      <td>...</td>\n",
       "      <td>0</td>\n",
       "      <td>1</td>\n",
       "      <td>0</td>\n",
       "      <td>0</td>\n",
       "      <td>0</td>\n",
       "      <td>0</td>\n",
       "      <td>0</td>\n",
       "      <td>0</td>\n",
       "      <td>0</td>\n",
       "      <td>0</td>\n",
       "    </tr>\n",
       "    <tr>\n",
       "      <th>2677576</th>\n",
       "      <td>5</td>\n",
       "      <td>30</td>\n",
       "      <td>0</td>\n",
       "      <td>13</td>\n",
       "      <td>0</td>\n",
       "      <td>0</td>\n",
       "      <td>0</td>\n",
       "      <td>0</td>\n",
       "      <td>0</td>\n",
       "      <td>1</td>\n",
       "      <td>...</td>\n",
       "      <td>0</td>\n",
       "      <td>0</td>\n",
       "      <td>0</td>\n",
       "      <td>0</td>\n",
       "      <td>0</td>\n",
       "      <td>0</td>\n",
       "      <td>0</td>\n",
       "      <td>0</td>\n",
       "      <td>0</td>\n",
       "      <td>0</td>\n",
       "    </tr>\n",
       "    <tr>\n",
       "      <th>3875946</th>\n",
       "      <td>3</td>\n",
       "      <td>26</td>\n",
       "      <td>1</td>\n",
       "      <td>13</td>\n",
       "      <td>0</td>\n",
       "      <td>0</td>\n",
       "      <td>0</td>\n",
       "      <td>1</td>\n",
       "      <td>0</td>\n",
       "      <td>0</td>\n",
       "      <td>...</td>\n",
       "      <td>0</td>\n",
       "      <td>0</td>\n",
       "      <td>0</td>\n",
       "      <td>0</td>\n",
       "      <td>1</td>\n",
       "      <td>0</td>\n",
       "      <td>0</td>\n",
       "      <td>0</td>\n",
       "      <td>0</td>\n",
       "      <td>0</td>\n",
       "    </tr>\n",
       "  </tbody>\n",
       "</table>\n",
       "<p>10 rows × 347 columns</p>\n",
       "</div>"
      ],
      "text/plain": [
       "         month  day  day_of_week  hour  P_E  P_EAST  P_N  P_NORTH  P_S  \\\n",
       "2532371      1   21            3     5    0       1    0        0    0   \n",
       "1847045      4   14            0     9    0       0    0        0    0   \n",
       "2560580      2   16            1    12    0       0    0        1    0   \n",
       "2805351      9   17            5    23    0       0    0        0    0   \n",
       "1984306      8   18            0     4    0       0    0        0    0   \n",
       "2743392      7   25            0    15    0       0    0        0    0   \n",
       "3932163      5   12            6     2    0       0    0        0    0   \n",
       "3193740      8   23            2    20    0       0    0        1    0   \n",
       "2677576      5   30            0    13    0       0    0        0    0   \n",
       "3875946      3   26            1    13    0       0    0        1    0   \n",
       "\n",
       "         P_SOUTH  ...  ICT_TRU  ICT_UNKNOWN  ICT_UNUSUAL OCCURRENCES  \\\n",
       "2532371        0  ...        0            0                        0   \n",
       "1847045        0  ...        0            0                        0   \n",
       "2560580        0  ...        0            0                        0   \n",
       "2805351        1  ...        0            0                        0   \n",
       "1984306        0  ...        0            0                        0   \n",
       "2743392        0  ...        0            0                        0   \n",
       "3932163        0  ...        0            0                        0   \n",
       "3193740        0  ...        0            1                        0   \n",
       "2677576        1  ...        0            0                        0   \n",
       "3875946        0  ...        0            0                        0   \n",
       "\n",
       "         ICT_VICE  ICT_WARRANT  ICT_WARRANT PICKUP  \\\n",
       "2532371         0            0                   0   \n",
       "1847045         0            0                   0   \n",
       "2560580         0            0                   0   \n",
       "2805351         0            0                   0   \n",
       "1984306         0            0                   0   \n",
       "2743392         0            0                   0   \n",
       "3932163         0            0                   0   \n",
       "3193740         0            0                   0   \n",
       "2677576         0            0                   0   \n",
       "3875946         0            1                   0   \n",
       "\n",
       "         ICT_WATER FLOODS (BROKEN MAINS/HYDRANTS, NO HAZ)  ICT_WEAPN  \\\n",
       "2532371                                                 0          0   \n",
       "1847045                                                 0          0   \n",
       "2560580                                                 0          0   \n",
       "2805351                                                 0          0   \n",
       "1984306                                                 0          0   \n",
       "2743392                                                 0          0   \n",
       "3932163                                                 0          0   \n",
       "3193740                                                 0          0   \n",
       "2677576                                                 0          0   \n",
       "3875946                                                 0          0   \n",
       "\n",
       "         ICT_WEAPN-IP/JO-GUN,DEADLY WPN (NO THRT/ASLT/DIST)  \\\n",
       "2532371                                                  0    \n",
       "1847045                                                  0    \n",
       "2560580                                                  0    \n",
       "2805351                                                  0    \n",
       "1984306                                                  0    \n",
       "2743392                                                  0    \n",
       "3932163                                                  0    \n",
       "3193740                                                  0    \n",
       "2677576                                                  0    \n",
       "3875946                                                  0    \n",
       "\n",
       "         ICT_WIRES DOWN (PHONE, ELECTRICAL,ETC.)  \n",
       "2532371                                        0  \n",
       "1847045                                        0  \n",
       "2560580                                        0  \n",
       "2805351                                        0  \n",
       "1984306                                        0  \n",
       "2743392                                        0  \n",
       "3932163                                        0  \n",
       "3193740                                        0  \n",
       "2677576                                        0  \n",
       "3875946                                        0  \n",
       "\n",
       "[10 rows x 347 columns]"
      ]
     },
     "execution_count": 136,
     "metadata": {},
     "output_type": "execute_result"
    }
   ],
   "source": [
    "fourX = X_test.iloc[[50706, 220355, 156571, 60263, 6215, 156570, 102803, 50750, 220432,\n",
    "        50774],:]\n",
    "fourX\n"
   ]
  },
  {
   "cell_type": "code",
   "execution_count": 145,
   "metadata": {},
   "outputs": [
    {
     "data": {
      "text/html": [
       "<div>\n",
       "<style scoped>\n",
       "    .dataframe tbody tr th:only-of-type {\n",
       "        vertical-align: middle;\n",
       "    }\n",
       "\n",
       "    .dataframe tbody tr th {\n",
       "        vertical-align: top;\n",
       "    }\n",
       "\n",
       "    .dataframe thead th {\n",
       "        text-align: right;\n",
       "    }\n",
       "</style>\n",
       "<table border=\"1\" class=\"dataframe\">\n",
       "  <thead>\n",
       "    <tr style=\"text-align: right;\">\n",
       "      <th></th>\n",
       "      <th>CAD_Event_Number</th>\n",
       "      <th>Event_Clearance_Description</th>\n",
       "      <th>Force_Level</th>\n",
       "      <th>Precinct</th>\n",
       "      <th>Sector</th>\n",
       "      <th>Beat</th>\n",
       "      <th>Subject_Race</th>\n",
       "      <th>Subject_Gender</th>\n",
       "      <th>Call_Type</th>\n",
       "      <th>Initial_Call_Type</th>\n",
       "      <th>month</th>\n",
       "      <th>day</th>\n",
       "      <th>day_of_week</th>\n",
       "      <th>hour</th>\n",
       "    </tr>\n",
       "  </thead>\n",
       "  <tbody>\n",
       "    <tr>\n",
       "      <th>6215</th>\n",
       "      <td>2014000431101</td>\n",
       "      <td>ASSISTANCE RENDERED</td>\n",
       "      <td>Level 3 - OIS</td>\n",
       "      <td>S</td>\n",
       "      <td>S</td>\n",
       "      <td>S2</td>\n",
       "      <td>Black or African American</td>\n",
       "      <td>Male</td>\n",
       "      <td>911</td>\n",
       "      <td>SUICIDE - IP/JO SUICIDAL PERSON AND ATTEMPTS</td>\n",
       "      <td>12</td>\n",
       "      <td>31</td>\n",
       "      <td>2</td>\n",
       "      <td>21</td>\n",
       "    </tr>\n",
       "    <tr>\n",
       "      <th>50706</th>\n",
       "      <td>2014000431106</td>\n",
       "      <td>UNABLE TO LOCATE INCIDENT OR COMPLAINANT</td>\n",
       "      <td>Level 3 - OIS</td>\n",
       "      <td>S</td>\n",
       "      <td>S</td>\n",
       "      <td>S2</td>\n",
       "      <td>Black or African American</td>\n",
       "      <td>Male</td>\n",
       "      <td>ONVIEW</td>\n",
       "      <td>SHOTS - IP/JO - INCLUDES HEARD/NO ASSAULT</td>\n",
       "      <td>12</td>\n",
       "      <td>31</td>\n",
       "      <td>2</td>\n",
       "      <td>21</td>\n",
       "    </tr>\n",
       "    <tr>\n",
       "      <th>50750</th>\n",
       "      <td>2014000431101</td>\n",
       "      <td>ASSISTANCE RENDERED</td>\n",
       "      <td>Level 3 - OIS</td>\n",
       "      <td>S</td>\n",
       "      <td>S</td>\n",
       "      <td>S2</td>\n",
       "      <td>Black or African American</td>\n",
       "      <td>Male</td>\n",
       "      <td>911</td>\n",
       "      <td>SUICIDE - IP/JO SUICIDAL PERSON AND ATTEMPTS</td>\n",
       "      <td>12</td>\n",
       "      <td>31</td>\n",
       "      <td>2</td>\n",
       "      <td>21</td>\n",
       "    </tr>\n",
       "    <tr>\n",
       "      <th>50774</th>\n",
       "      <td>2014000431106</td>\n",
       "      <td>UNABLE TO LOCATE INCIDENT OR COMPLAINANT</td>\n",
       "      <td>Level 3 - OIS</td>\n",
       "      <td>S</td>\n",
       "      <td>S</td>\n",
       "      <td>S2</td>\n",
       "      <td>Black or African American</td>\n",
       "      <td>Male</td>\n",
       "      <td>ONVIEW</td>\n",
       "      <td>SHOTS - IP/JO - INCLUDES HEARD/NO ASSAULT</td>\n",
       "      <td>12</td>\n",
       "      <td>31</td>\n",
       "      <td>2</td>\n",
       "      <td>21</td>\n",
       "    </tr>\n",
       "    <tr>\n",
       "      <th>60263</th>\n",
       "      <td>2014000431101</td>\n",
       "      <td>ASSISTANCE RENDERED</td>\n",
       "      <td>Level 3 - OIS</td>\n",
       "      <td>S</td>\n",
       "      <td>S</td>\n",
       "      <td>S2</td>\n",
       "      <td>Black or African American</td>\n",
       "      <td>Female</td>\n",
       "      <td>911</td>\n",
       "      <td>SUICIDE - IP/JO SUICIDAL PERSON AND ATTEMPTS</td>\n",
       "      <td>12</td>\n",
       "      <td>31</td>\n",
       "      <td>2</td>\n",
       "      <td>21</td>\n",
       "    </tr>\n",
       "    <tr>\n",
       "      <th>102803</th>\n",
       "      <td>2015000340290</td>\n",
       "      <td>PHYSICAL ARREST MADE</td>\n",
       "      <td>Level 3 - OIS</td>\n",
       "      <td>W</td>\n",
       "      <td>K</td>\n",
       "      <td>K1</td>\n",
       "      <td>Not Specified</td>\n",
       "      <td>Male</td>\n",
       "      <td>TELEPHONE OTHER, NOT 911</td>\n",
       "      <td>THREATS (INCLS IN-PERSON/BY PHONE/IN WRITING)</td>\n",
       "      <td>09</td>\n",
       "      <td>29</td>\n",
       "      <td>1</td>\n",
       "      <td>2</td>\n",
       "    </tr>\n",
       "    <tr>\n",
       "      <th>156570</th>\n",
       "      <td>2019000098794</td>\n",
       "      <td>ASSISTANCE RENDERED</td>\n",
       "      <td>Level 3 - OIS</td>\n",
       "      <td>-</td>\n",
       "      <td>-</td>\n",
       "      <td>E1</td>\n",
       "      <td>Asian</td>\n",
       "      <td>Male</td>\n",
       "      <td>911</td>\n",
       "      <td>SUSPICIOUS PERSON, VEHICLE OR INCIDENT</td>\n",
       "      <td>03</td>\n",
       "      <td>19</td>\n",
       "      <td>1</td>\n",
       "      <td>21</td>\n",
       "    </tr>\n",
       "    <tr>\n",
       "      <th>156571</th>\n",
       "      <td>2019000098792</td>\n",
       "      <td>REPORT WRITTEN (NO ARREST)</td>\n",
       "      <td>Level 3 - OIS</td>\n",
       "      <td>-</td>\n",
       "      <td>-</td>\n",
       "      <td>Q1</td>\n",
       "      <td>Asian</td>\n",
       "      <td>Male</td>\n",
       "      <td>911</td>\n",
       "      <td>THREATS (INCLS IN-PERSON/BY PHONE/IN WRITING)</td>\n",
       "      <td>03</td>\n",
       "      <td>19</td>\n",
       "      <td>1</td>\n",
       "      <td>21</td>\n",
       "    </tr>\n",
       "    <tr>\n",
       "      <th>220355</th>\n",
       "      <td>2017000456733</td>\n",
       "      <td>ASSISTANCE RENDERED</td>\n",
       "      <td>Level 3 - OIS</td>\n",
       "      <td>N</td>\n",
       "      <td>U</td>\n",
       "      <td>U3</td>\n",
       "      <td>White</td>\n",
       "      <td>Male</td>\n",
       "      <td>911</td>\n",
       "      <td>SUSPICIOUS PERSON, VEHICLE OR INCIDENT</td>\n",
       "      <td>12</td>\n",
       "      <td>11</td>\n",
       "      <td>0</td>\n",
       "      <td>22</td>\n",
       "    </tr>\n",
       "    <tr>\n",
       "      <th>220432</th>\n",
       "      <td>2017000456733</td>\n",
       "      <td>ASSISTANCE RENDERED</td>\n",
       "      <td>Level 3 - OIS</td>\n",
       "      <td>N</td>\n",
       "      <td>U</td>\n",
       "      <td>U3</td>\n",
       "      <td>White</td>\n",
       "      <td>Male</td>\n",
       "      <td>911</td>\n",
       "      <td>SUSPICIOUS PERSON, VEHICLE OR INCIDENT</td>\n",
       "      <td>12</td>\n",
       "      <td>11</td>\n",
       "      <td>0</td>\n",
       "      <td>22</td>\n",
       "    </tr>\n",
       "  </tbody>\n",
       "</table>\n",
       "</div>"
      ],
      "text/plain": [
       "        CAD_Event_Number               Event_Clearance_Description  \\\n",
       "6215       2014000431101                       ASSISTANCE RENDERED   \n",
       "50706      2014000431106  UNABLE TO LOCATE INCIDENT OR COMPLAINANT   \n",
       "50750      2014000431101                       ASSISTANCE RENDERED   \n",
       "50774      2014000431106  UNABLE TO LOCATE INCIDENT OR COMPLAINANT   \n",
       "60263      2014000431101                       ASSISTANCE RENDERED   \n",
       "102803     2015000340290                      PHYSICAL ARREST MADE   \n",
       "156570     2019000098794                       ASSISTANCE RENDERED   \n",
       "156571     2019000098792                REPORT WRITTEN (NO ARREST)   \n",
       "220355     2017000456733                       ASSISTANCE RENDERED   \n",
       "220432     2017000456733                       ASSISTANCE RENDERED   \n",
       "\n",
       "          Force_Level Precinct Sector Beat               Subject_Race  \\\n",
       "6215    Level 3 - OIS        S      S   S2  Black or African American   \n",
       "50706   Level 3 - OIS        S      S   S2  Black or African American   \n",
       "50750   Level 3 - OIS        S      S   S2  Black or African American   \n",
       "50774   Level 3 - OIS        S      S   S2  Black or African American   \n",
       "60263   Level 3 - OIS        S      S   S2  Black or African American   \n",
       "102803  Level 3 - OIS        W      K   K1              Not Specified   \n",
       "156570  Level 3 - OIS        -      -   E1                      Asian   \n",
       "156571  Level 3 - OIS        -      -   Q1                      Asian   \n",
       "220355  Level 3 - OIS        N      U   U3                      White   \n",
       "220432  Level 3 - OIS        N      U   U3                      White   \n",
       "\n",
       "       Subject_Gender                 Call_Type  \\\n",
       "6215             Male                       911   \n",
       "50706            Male                    ONVIEW   \n",
       "50750            Male                       911   \n",
       "50774            Male                    ONVIEW   \n",
       "60263          Female                       911   \n",
       "102803           Male  TELEPHONE OTHER, NOT 911   \n",
       "156570           Male                       911   \n",
       "156571           Male                       911   \n",
       "220355           Male                       911   \n",
       "220432           Male                       911   \n",
       "\n",
       "                                    Initial_Call_Type month day  day_of_week  \\\n",
       "6215     SUICIDE - IP/JO SUICIDAL PERSON AND ATTEMPTS    12  31            2   \n",
       "50706       SHOTS - IP/JO - INCLUDES HEARD/NO ASSAULT    12  31            2   \n",
       "50750    SUICIDE - IP/JO SUICIDAL PERSON AND ATTEMPTS    12  31            2   \n",
       "50774       SHOTS - IP/JO - INCLUDES HEARD/NO ASSAULT    12  31            2   \n",
       "60263    SUICIDE - IP/JO SUICIDAL PERSON AND ATTEMPTS    12  31            2   \n",
       "102803  THREATS (INCLS IN-PERSON/BY PHONE/IN WRITING)    09  29            1   \n",
       "156570         SUSPICIOUS PERSON, VEHICLE OR INCIDENT    03  19            1   \n",
       "156571  THREATS (INCLS IN-PERSON/BY PHONE/IN WRITING)    03  19            1   \n",
       "220355         SUSPICIOUS PERSON, VEHICLE OR INCIDENT    12  11            0   \n",
       "220432         SUSPICIOUS PERSON, VEHICLE OR INCIDENT    12  11            0   \n",
       "\n",
       "        hour  \n",
       "6215      21  \n",
       "50706     21  \n",
       "50750     21  \n",
       "50774     21  \n",
       "60263     21  \n",
       "102803     2  \n",
       "156570    21  \n",
       "156571    21  \n",
       "220355    22  \n",
       "220432    22  "
      ]
     },
     "execution_count": 145,
     "metadata": {},
     "output_type": "execute_result"
    }
   ],
   "source": [
    "fournm = nm2.iloc[50706,:]\n",
    "fournm\n",
    "\n",
    "four_index = [50706, 220355, 156571, 60263, 6215, 156570, 102803, 50750, 220432,\n",
    "        50774]\n",
    "\n",
    "nm2[nm2.index.isin(four_index)]"
   ]
  },
  {
   "cell_type": "code",
   "execution_count": 142,
   "metadata": {},
   "outputs": [
    {
     "name": "stdout",
     "output_type": "stream",
     "text": [
      "<class 'pandas.core.frame.DataFrame'>\n",
      "Index: 10 entries, 1817309 to 1817387\n",
      "Data columns (total 14 columns):\n",
      "CAD_Event_Number               10 non-null int64\n",
      "Event_Clearance_Description    10 non-null object\n",
      "Force_Level                    10 non-null object\n",
      "Precinct                       10 non-null object\n",
      "Sector                         10 non-null object\n",
      "Beat                           10 non-null object\n",
      "Subject_Race                   10 non-null object\n",
      "Subject_Gender                 10 non-null object\n",
      "Call_Type                      10 non-null object\n",
      "Initial_Call_Type              10 non-null object\n",
      "month                          10 non-null object\n",
      "day                            10 non-null object\n",
      "day_of_week                    10 non-null int64\n",
      "hour                           10 non-null int64\n",
      "dtypes: int64(3), object(11)\n",
      "memory usage: 1.2+ KB\n"
     ]
    }
   ],
   "source": [
    "fournm.info()"
   ]
  },
  {
   "cell_type": "code",
   "execution_count": null,
   "metadata": {},
   "outputs": [],
   "source": []
  }
 ],
 "metadata": {
  "kernelspec": {
   "display_name": "Python 3",
   "language": "python",
   "name": "python3"
  },
  "language_info": {
   "codemirror_mode": {
    "name": "ipython",
    "version": 3
   },
   "file_extension": ".py",
   "mimetype": "text/x-python",
   "name": "python",
   "nbconvert_exporter": "python",
   "pygments_lexer": "ipython3",
   "version": "3.7.3"
  }
 },
 "nbformat": 4,
 "nbformat_minor": 2
}
