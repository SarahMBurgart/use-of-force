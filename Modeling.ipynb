{
 "cells": [
  {
   "cell_type": "code",
   "execution_count": 4,
   "metadata": {},
   "outputs": [],
   "source": [
    "import pandas as pd\n",
    "import os\n",
    "from datetime import datetime\n",
    "import sqlite3\n",
    "from sqlalchemy import create_engine\n",
    "engine = create_engine('sqlite://', echo=False)\n",
    "\n",
    "import matplotlib.pyplot as plt\n",
    "import numpy as np\n",
    "from datetime import datetime\n",
    "from sklearn.decomposition import PCA\n",
    "from sklearn.preprocessing import StandardScaler\n",
    "import seaborn as sns\n",
    "from sklearn.ensemble import RandomForestClassifier, GradientBoostingClassifier\n",
    "from sklearn.model_selection import train_test_split\n",
    "from sklearn.inspection import plot_partial_dependence\n",
    "from sklearn.inspection import partial_dependence \n",
    "from sklearn.metrics import classification_report\n",
    "\n",
    "\n",
    "%matplotlib inline"
   ]
  },
  {
   "cell_type": "code",
   "execution_count": 2,
   "metadata": {},
   "outputs": [],
   "source": [
    "nm = pd.read_pickle(\"data/all_calls17_uof_df.pkl\")\n",
    "\n",
    "# need to:\n",
    "# make a y and make categories numeric(?)\n",
    "# drop CAD and Event and Force\n",
    "# make dummie columns\n",
    "# cahnge month and day to integers\n"
   ]
  },
  {
   "cell_type": "code",
   "execution_count": 3,
   "metadata": {},
   "outputs": [
    {
     "name": "stdout",
     "output_type": "stream",
     "text": [
      "<class 'pandas.core.frame.DataFrame'>\n",
      "Index: 1459754 entries, 0 to 3986667\n",
      "Data columns (total 14 columns):\n",
      "CAD_Event_Number               1459754 non-null int64\n",
      "Event_Clearance_Description    1459754 non-null object\n",
      "Force_Level                    1459754 non-null object\n",
      "Precinct                       1459754 non-null object\n",
      "Sector                         1449873 non-null object\n",
      "Beat                           1459754 non-null object\n",
      "Subject_Race                   1459754 non-null object\n",
      "Subject_Gender                 1459754 non-null object\n",
      "Call_Type                      1459754 non-null object\n",
      "Initial_Call_Type              1459754 non-null object\n",
      "month                          1459754 non-null object\n",
      "day                            1459754 non-null object\n",
      "day_of_week                    1459754 non-null int64\n",
      "hour                           1459754 non-null int64\n",
      "dtypes: int64(3), object(11)\n",
      "memory usage: 167.1+ MB\n"
     ]
    }
   ],
   "source": [
    "nm.info(verbose=True)"
   ]
  },
  {
   "cell_type": "code",
   "execution_count": null,
   "metadata": {},
   "outputs": [],
   "source": [
    "y = nm2.Force_Level\n",
    "y.replace({\"Level 1 - Use of Force\":1,\"Level 2 - Use of Force\":2,\"Level 3 - OIS\":4, \"Level 3 - Use of Force\": 3 })\n"
   ]
  },
  {
   "cell_type": "code",
   "execution_count": null,
   "metadata": {},
   "outputs": [],
   "source": [
    "# drop columns and make time ints\n",
    "nm2.drop([\"Force_Level\", \"CAD_Event_Number\", \"Event_Clearance_Description\"], axis=1, inplace=True)\n",
    "nm2[\"month\"] = nm2[\"month\"].astype(int)\n",
    "nm2[\"day\"] = nm2[\"day\"].astype(int)"
   ]
  },
  {
   "cell_type": "code",
   "execution_count": null,
   "metadata": {},
   "outputs": [],
   "source": [
    "# better categories in Initial Call Type\n",
    "\n",
    "init = nm2[\"Initial_Call_Type\"]\n",
    "to_drop = init[init.str.startswith(\"-ASSIGNED DUTY\")]\n",
    "\n",
    "\n",
    "s = nm2[\"Initial_Call_Type\"].str.replace(\" - .*\", \"\", regex=True)\n",
    "nm2[\"Initial_Call_Type\"] = s"
   ]
  },
  {
   "cell_type": "code",
   "execution_count": null,
   "metadata": {},
   "outputs": [],
   "source": [
    "# get dummies for string valued columns\n",
    "nm2 = pd.get_dummies(data = nm2, \n",
    "                     columns=[\"Precinct\", \"Sector\", \"Beat\", \"Subject_Gender\", \"Subject_Race\", \"Call_Type\", \n",
    "                               \"Initial_Call_Type\"], \n",
    "                     prefix=[\"P\",  \"S\", \"B\", \"SG\", \"SR\",\"CT\", \"ICT\"])"
   ]
  },
  {
   "cell_type": "code",
   "execution_count": null,
   "metadata": {},
   "outputs": [],
   "source": [
    "# get column names to identify features in feature_importance later\n",
    "\n",
    "cols = nm2.columns"
   ]
  },
  {
   "cell_type": "code",
   "execution_count": null,
   "metadata": {},
   "outputs": [],
   "source": [
    "# function for later to categorize ICT column\n",
    "\n",
    "def initial_call_type_cats(value):    \n",
    "    if \"MVC\" in value:\n",
    "        return \"Motor Vehicle Collision\"\n",
    "    elif value.startswith(\"FRAUD\"):\n",
    "        return \"Fraud\"\n",
    "    elif \"Theft\" in value:\n",
    "        return \"THEFT\"\n",
    "    elif \"SUSPICIOUS STOP\" in value:\n",
    "        return value\n",
    "    elif \"SUSPICIOUS\" in value:\n",
    "        return \"Suspicious person, vehicle, incident\"\n",
    "    elif \"TRAFFIC STOP\" in value:\n",
    "        return value\n",
    "    elif \"ROAD RAGE\" in value:\n",
    "        return \"Road Rage\"\n",
    "    elif \"MOVING VIOLATION\" in value:\n",
    "        return \"Moving Violation\"\n",
    "    elif \"BLOCKING ROADWAY\" in value:\n",
    "        return \"Blocking Roadway\"\n",
    "    elif \"TRAFFIC\" in value:\n",
    "        return value\n",
    "    elif \"DISTURBANCE\" in value:\n",
    "        return \"Disturbance\"\n",
    "    elif \"OFF DUTY EMPLOYMENT\" in value:\n",
    "        return \"OFF DUTY EMPLOYMENT\"\n",
    "    else:\n",
    "        return value"
   ]
  },
  {
   "cell_type": "code",
   "execution_count": null,
   "metadata": {},
   "outputs": [],
   "source": [
    "# calling above function to make list to make column\n",
    "new_col = []\n",
    "for idx, row in df.iterrows():\n",
    "    value = row.col\n",
    "    new_col.append(initial_call_type_cats(value))"
   ]
  },
  {
   "cell_type": "code",
   "execution_count": null,
   "metadata": {},
   "outputs": [],
   "source": [
    "# try without this first - it took so long\n",
    "\n",
    "X_scaled = StandardScaler().fit_transform(nm2)"
   ]
  },
  {
   "cell_type": "code",
   "execution_count": null,
   "metadata": {},
   "outputs": [],
   "source": [
    "# will need to change nm2 to X_scaled if we use this later\n",
    "\n",
    "X_train, X_test, y_train, y_test = train_test_split(nm2, y, test_size=0.2, random_state=659)"
   ]
  },
  {
   "cell_type": "code",
   "execution_count": null,
   "metadata": {},
   "outputs": [],
   "source": [
    "# create RFC model - change all but random_state after we time this one\n",
    "\n",
    "clf = RandomForestClassifier(n_estimators=10, max_depth=2, random_state=659, oob_score=False)\n",
    "\n"
   ]
  },
  {
   "cell_type": "code",
   "execution_count": null,
   "metadata": {},
   "outputs": [],
   "source": [
    "# fit the model\n",
    "\n",
    "clf.fit(X_train, y_train)"
   ]
  },
  {
   "cell_type": "code",
   "execution_count": null,
   "metadata": {},
   "outputs": [],
   "source": [
    "# check the feature importances and col_name list match first\n",
    "\n",
    "len(clf.feature_importances_), len(cols)"
   ]
  },
  {
   "cell_type": "code",
   "execution_count": null,
   "metadata": {},
   "outputs": [],
   "source": [
    "# most important features in predictions of this model\n",
    "\n",
    "indices = np.argsort(clf.feature_importances_)\n",
    "big = indices[-1:-20:-1]\n",
    "\n",
    "cols[big]"
   ]
  },
  {
   "cell_type": "code",
   "execution_count": null,
   "metadata": {},
   "outputs": [],
   "source": [
    "# least important features\n",
    "little = indices[:10]\n",
    "cols[little]\n"
   ]
  },
  {
   "cell_type": "code",
   "execution_count": null,
   "metadata": {},
   "outputs": [],
   "source": [
    "clf.oob_score_ # accuracy of training set"
   ]
  },
  {
   "cell_type": "code",
   "execution_count": null,
   "metadata": {},
   "outputs": [],
   "source": [
    "# predicted classes\n",
    "\n",
    "yhat = clf.predict(X_test)"
   ]
  },
  {
   "cell_type": "code",
   "execution_count": null,
   "metadata": {},
   "outputs": [],
   "source": [
    "sum(yhat == y_test) / len(yhat) # accuracy of testing set"
   ]
  },
  {
   "cell_type": "code",
   "execution_count": null,
   "metadata": {},
   "outputs": [],
   "source": [
    "# sklearn.metrics.classification_report(y_true, y_pred, labels=None, target_names=None, sample_weight=None, digits=2, output_dict=False)\n",
    "\n"
   ]
  },
  {
   "cell_type": "code",
   "execution_count": 5,
   "metadata": {},
   "outputs": [
    {
     "ename": "NameError",
     "evalue": "name 'clf' is not defined",
     "output_type": "error",
     "traceback": [
      "\u001b[0;31m---------------------------------------------------------------------------\u001b[0m",
      "\u001b[0;31mNameError\u001b[0m                                 Traceback (most recent call last)",
      "\u001b[0;32m<ipython-input-5-55f4705bd043>\u001b[0m in \u001b[0;36m<module>\u001b[0;34m\u001b[0m\n\u001b[1;32m      1\u001b[0m \u001b[0;31m# predict probabilities - what do you want threshold to be\u001b[0m\u001b[0;34m\u001b[0m\u001b[0;34m\u001b[0m\u001b[0;34m\u001b[0m\u001b[0m\n\u001b[1;32m      2\u001b[0m \u001b[0;34m\u001b[0m\u001b[0m\n\u001b[0;32m----> 3\u001b[0;31m \u001b[0mpp\u001b[0m \u001b[0;34m=\u001b[0m \u001b[0mclf\u001b[0m\u001b[0;34m.\u001b[0m\u001b[0mpredict_proba\u001b[0m\u001b[0;34m(\u001b[0m\u001b[0mX_test\u001b[0m\u001b[0;34m)\u001b[0m\u001b[0;34m\u001b[0m\u001b[0;34m\u001b[0m\u001b[0m\n\u001b[0m",
      "\u001b[0;31mNameError\u001b[0m: name 'clf' is not defined"
     ]
    }
   ],
   "source": [
    "# predict probabilities - what do you want threshold to be?\n",
    "\n",
    "pp = clf.predict_proba(X_test)"
   ]
  },
  {
   "cell_type": "code",
   "execution_count": null,
   "metadata": {},
   "outputs": [],
   "source": [
    "# some rows' probabilities of being in each class:\n",
    "\n",
    "for p in pp[:10]:\n",
    "    print(f\"Pr of Force 1 is: {p[0]}, Pr of Force 2: {p[1]}, Pr of Force 3: {p[3]}, & Pr of Officer Involved Shooting: {p[2]}\")\n",
    "          \n",
    "          "
   ]
  }
 ],
 "metadata": {
  "kernelspec": {
   "display_name": "Python 3",
   "language": "python",
   "name": "python3"
  },
  "language_info": {
   "codemirror_mode": {
    "name": "ipython",
    "version": 3
   },
   "file_extension": ".py",
   "mimetype": "text/x-python",
   "name": "python",
   "nbconvert_exporter": "python",
   "pygments_lexer": "ipython3",
   "version": "3.7.3"
  }
 },
 "nbformat": 4,
 "nbformat_minor": 2
}
