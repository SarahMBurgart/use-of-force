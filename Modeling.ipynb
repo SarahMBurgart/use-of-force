{
 "cells": [
  {
   "cell_type": "code",
   "execution_count": 1,
   "metadata": {},
   "outputs": [],
   "source": [
    "import pandas as pd\n",
    "import os\n",
    "from datetime import datetime\n",
    "import sqlite3\n",
    "from sqlalchemy import create_engine\n",
    "engine = create_engine('sqlite://', echo=False)\n",
    "\n",
    "import matplotlib.pyplot as plt\n",
    "import numpy as np\n",
    "from datetime import datetime\n",
    "from sklearn.decomposition import PCA\n",
    "from sklearn.preprocessing import StandardScaler\n",
    "import seaborn as sns\n",
    "from sklearn.ensemble import RandomForestClassifier, GradientBoostingClassifier\n",
    "from sklearn.model_selection import train_test_split\n",
    "from sklearn.inspection import plot_partial_dependence\n",
    "from sklearn.inspection import partial_dependence \n",
    "from sklearn.metrics import classification_report\n",
    "\n",
    "\n",
    "%matplotlib inline"
   ]
  },
  {
   "cell_type": "code",
   "execution_count": 2,
   "metadata": {},
   "outputs": [],
   "source": [
    "nm = pd.read_pickle(\"data/all_calls17_uof_df.pkl\")\n",
    "\n",
    "# need to:\n",
    "# make a y and make categories numeric(?)\n",
    "# drop CAD and Event and Force\n",
    "# make dummie columns\n",
    "# cahnge month and day to integers\n"
   ]
  },
  {
   "cell_type": "code",
   "execution_count": 3,
   "metadata": {},
   "outputs": [
    {
     "name": "stdout",
     "output_type": "stream",
     "text": [
      "<class 'pandas.core.frame.DataFrame'>\n",
      "Index: 1459754 entries, 0 to 3986667\n",
      "Data columns (total 14 columns):\n",
      "CAD_Event_Number               1459754 non-null int64\n",
      "Event_Clearance_Description    1459754 non-null object\n",
      "Force_Level                    1459754 non-null object\n",
      "Precinct                       1459754 non-null object\n",
      "Sector                         1449873 non-null object\n",
      "Beat                           1459754 non-null object\n",
      "Subject_Race                   1459754 non-null object\n",
      "Subject_Gender                 1459754 non-null object\n",
      "Call_Type                      1459754 non-null object\n",
      "Initial_Call_Type              1459754 non-null object\n",
      "month                          1459754 non-null object\n",
      "day                            1459754 non-null object\n",
      "day_of_week                    1459754 non-null int64\n",
      "hour                           1459754 non-null int64\n",
      "dtypes: int64(3), object(11)\n",
      "memory usage: 167.1+ MB\n"
     ]
    }
   ],
   "source": [
    "nm.info(verbose=True)"
   ]
  },
  {
   "cell_type": "code",
   "execution_count": 4,
   "metadata": {},
   "outputs": [],
   "source": [
    "y = nm.Force_Level\n",
    "y.replace({\"Level 1 - Use of Force\":1,\"Level 2 - Use of Force\":2,\"Level 3 - OIS\":4, \"Level 3 - Use of Force\": 3 }, inplace=True)\n"
   ]
  },
  {
   "cell_type": "code",
   "execution_count": 5,
   "metadata": {},
   "outputs": [],
   "source": [
    "# make a copy to alter for the model in case I want to look back at this\n",
    "nm2 = nm.copy(deep=True)"
   ]
  },
  {
   "cell_type": "code",
   "execution_count": 6,
   "metadata": {},
   "outputs": [],
   "source": [
    "# drop columns and make time ints\n",
    "nm.drop([\"Force_Level\", \"CAD_Event_Number\", \"Event_Clearance_Description\"], axis=1, inplace=True)\n",
    "nm[\"month\"] = nm[\"month\"].astype(int)\n",
    "nm[\"day\"] = nm[\"day\"].astype(int)"
   ]
  },
  {
   "cell_type": "code",
   "execution_count": 7,
   "metadata": {},
   "outputs": [],
   "source": [
    "# better categories in Initial Call Type\n",
    "\n",
    "init = nm[\"Initial_Call_Type\"]\n",
    "to_drop = init[init.str.startswith(\"-ASSIGNED DUTY\")]\n",
    "\n",
    "\n",
    "s = nm[\"Initial_Call_Type\"].str.replace(\" - .*\", \"\", regex=True)\n",
    "nm[\"Initial_Call_Type\"] = s"
   ]
  },
  {
   "cell_type": "code",
   "execution_count": 8,
   "metadata": {},
   "outputs": [],
   "source": [
    "#drop = [\"ASSIST PUBLIC\", ]  -DOWN TIME - OUT OF SERVICE  "
   ]
  },
  {
   "cell_type": "code",
   "execution_count": 10,
   "metadata": {},
   "outputs": [
    {
     "ename": "KeyError",
     "evalue": "'cat_ICT'",
     "output_type": "error",
     "traceback": [
      "\u001b[0;31m---------------------------------------------------------------------------\u001b[0m",
      "\u001b[0;31mKeyError\u001b[0m                                  Traceback (most recent call last)",
      "\u001b[0;32m~/anaconda3/lib/python3.7/site-packages/pandas/core/indexes/base.py\u001b[0m in \u001b[0;36mget_loc\u001b[0;34m(self, key, method, tolerance)\u001b[0m\n\u001b[1;32m   2656\u001b[0m             \u001b[0;32mtry\u001b[0m\u001b[0;34m:\u001b[0m\u001b[0;34m\u001b[0m\u001b[0;34m\u001b[0m\u001b[0m\n\u001b[0;32m-> 2657\u001b[0;31m                 \u001b[0;32mreturn\u001b[0m \u001b[0mself\u001b[0m\u001b[0;34m.\u001b[0m\u001b[0m_engine\u001b[0m\u001b[0;34m.\u001b[0m\u001b[0mget_loc\u001b[0m\u001b[0;34m(\u001b[0m\u001b[0mkey\u001b[0m\u001b[0;34m)\u001b[0m\u001b[0;34m\u001b[0m\u001b[0;34m\u001b[0m\u001b[0m\n\u001b[0m\u001b[1;32m   2658\u001b[0m             \u001b[0;32mexcept\u001b[0m \u001b[0mKeyError\u001b[0m\u001b[0;34m:\u001b[0m\u001b[0;34m\u001b[0m\u001b[0;34m\u001b[0m\u001b[0m\n",
      "\u001b[0;32mpandas/_libs/index.pyx\u001b[0m in \u001b[0;36mpandas._libs.index.IndexEngine.get_loc\u001b[0;34m()\u001b[0m\n",
      "\u001b[0;32mpandas/_libs/index.pyx\u001b[0m in \u001b[0;36mpandas._libs.index.IndexEngine.get_loc\u001b[0;34m()\u001b[0m\n",
      "\u001b[0;32mpandas/_libs/hashtable_class_helper.pxi\u001b[0m in \u001b[0;36mpandas._libs.hashtable.PyObjectHashTable.get_item\u001b[0;34m()\u001b[0m\n",
      "\u001b[0;32mpandas/_libs/hashtable_class_helper.pxi\u001b[0m in \u001b[0;36mpandas._libs.hashtable.PyObjectHashTable.get_item\u001b[0;34m()\u001b[0m\n",
      "\u001b[0;31mKeyError\u001b[0m: 'cat_ICT'",
      "\nDuring handling of the above exception, another exception occurred:\n",
      "\u001b[0;31mKeyError\u001b[0m                                  Traceback (most recent call last)",
      "\u001b[0;32m<ipython-input-10-a6538a70e2a2>\u001b[0m in \u001b[0;36m<module>\u001b[0;34m\u001b[0m\n\u001b[1;32m      3\u001b[0m \u001b[0mcall_types\u001b[0m \u001b[0;34m=\u001b[0m \u001b[0mnm\u001b[0m\u001b[0;34m.\u001b[0m\u001b[0mgroupby\u001b[0m\u001b[0;34m(\u001b[0m\u001b[0;34m[\u001b[0m\u001b[0;34m\"Call_Type\"\u001b[0m\u001b[0;34m]\u001b[0m\u001b[0;34m)\u001b[0m\u001b[0;34m.\u001b[0m\u001b[0mInitial_Call_Type\u001b[0m\u001b[0;34m.\u001b[0m\u001b[0mvalue_counts\u001b[0m\u001b[0;34m(\u001b[0m\u001b[0;34m)\u001b[0m\u001b[0;34m\u001b[0m\u001b[0;34m\u001b[0m\u001b[0m\n\u001b[1;32m      4\u001b[0m \u001b[0;34m\u001b[0m\u001b[0m\n\u001b[0;32m----> 5\u001b[0;31m \u001b[0mdf1\u001b[0m \u001b[0;34m=\u001b[0m \u001b[0mnm\u001b[0m\u001b[0;34m[\u001b[0m\u001b[0mnm\u001b[0m\u001b[0;34m[\u001b[0m\u001b[0;34m'cat_ICT'\u001b[0m\u001b[0;34m]\u001b[0m\u001b[0;34m.\u001b[0m\u001b[0mstr\u001b[0m\u001b[0;34m.\u001b[0m\u001b[0mcontains\u001b[0m\u001b[0;34m(\u001b[0m\u001b[0;34m\"LITTERING\"\u001b[0m\u001b[0;34m)\u001b[0m \u001b[0;34m]\u001b[0m\u001b[0;34m\u001b[0m\u001b[0;34m\u001b[0m\u001b[0m\n\u001b[0m\u001b[1;32m      6\u001b[0m \u001b[0;34m\u001b[0m\u001b[0m\n\u001b[1;32m      7\u001b[0m \u001b[0mvc\u001b[0m \u001b[0;34m=\u001b[0m \u001b[0mnm\u001b[0m\u001b[0;34m.\u001b[0m\u001b[0mcat_ICT\u001b[0m\u001b[0;34m.\u001b[0m\u001b[0mvalue_counts\u001b[0m\u001b[0;34m(\u001b[0m\u001b[0;34m)\u001b[0m\u001b[0;34m\u001b[0m\u001b[0;34m\u001b[0m\u001b[0m\n",
      "\u001b[0;32m~/anaconda3/lib/python3.7/site-packages/pandas/core/frame.py\u001b[0m in \u001b[0;36m__getitem__\u001b[0;34m(self, key)\u001b[0m\n\u001b[1;32m   2925\u001b[0m             \u001b[0;32mif\u001b[0m \u001b[0mself\u001b[0m\u001b[0;34m.\u001b[0m\u001b[0mcolumns\u001b[0m\u001b[0;34m.\u001b[0m\u001b[0mnlevels\u001b[0m \u001b[0;34m>\u001b[0m \u001b[0;36m1\u001b[0m\u001b[0;34m:\u001b[0m\u001b[0;34m\u001b[0m\u001b[0;34m\u001b[0m\u001b[0m\n\u001b[1;32m   2926\u001b[0m                 \u001b[0;32mreturn\u001b[0m \u001b[0mself\u001b[0m\u001b[0;34m.\u001b[0m\u001b[0m_getitem_multilevel\u001b[0m\u001b[0;34m(\u001b[0m\u001b[0mkey\u001b[0m\u001b[0;34m)\u001b[0m\u001b[0;34m\u001b[0m\u001b[0;34m\u001b[0m\u001b[0m\n\u001b[0;32m-> 2927\u001b[0;31m             \u001b[0mindexer\u001b[0m \u001b[0;34m=\u001b[0m \u001b[0mself\u001b[0m\u001b[0;34m.\u001b[0m\u001b[0mcolumns\u001b[0m\u001b[0;34m.\u001b[0m\u001b[0mget_loc\u001b[0m\u001b[0;34m(\u001b[0m\u001b[0mkey\u001b[0m\u001b[0;34m)\u001b[0m\u001b[0;34m\u001b[0m\u001b[0;34m\u001b[0m\u001b[0m\n\u001b[0m\u001b[1;32m   2928\u001b[0m             \u001b[0;32mif\u001b[0m \u001b[0mis_integer\u001b[0m\u001b[0;34m(\u001b[0m\u001b[0mindexer\u001b[0m\u001b[0;34m)\u001b[0m\u001b[0;34m:\u001b[0m\u001b[0;34m\u001b[0m\u001b[0;34m\u001b[0m\u001b[0m\n\u001b[1;32m   2929\u001b[0m                 \u001b[0mindexer\u001b[0m \u001b[0;34m=\u001b[0m \u001b[0;34m[\u001b[0m\u001b[0mindexer\u001b[0m\u001b[0;34m]\u001b[0m\u001b[0;34m\u001b[0m\u001b[0;34m\u001b[0m\u001b[0m\n",
      "\u001b[0;32m~/anaconda3/lib/python3.7/site-packages/pandas/core/indexes/base.py\u001b[0m in \u001b[0;36mget_loc\u001b[0;34m(self, key, method, tolerance)\u001b[0m\n\u001b[1;32m   2657\u001b[0m                 \u001b[0;32mreturn\u001b[0m \u001b[0mself\u001b[0m\u001b[0;34m.\u001b[0m\u001b[0m_engine\u001b[0m\u001b[0;34m.\u001b[0m\u001b[0mget_loc\u001b[0m\u001b[0;34m(\u001b[0m\u001b[0mkey\u001b[0m\u001b[0;34m)\u001b[0m\u001b[0;34m\u001b[0m\u001b[0;34m\u001b[0m\u001b[0m\n\u001b[1;32m   2658\u001b[0m             \u001b[0;32mexcept\u001b[0m \u001b[0mKeyError\u001b[0m\u001b[0;34m:\u001b[0m\u001b[0;34m\u001b[0m\u001b[0;34m\u001b[0m\u001b[0m\n\u001b[0;32m-> 2659\u001b[0;31m                 \u001b[0;32mreturn\u001b[0m \u001b[0mself\u001b[0m\u001b[0;34m.\u001b[0m\u001b[0m_engine\u001b[0m\u001b[0;34m.\u001b[0m\u001b[0mget_loc\u001b[0m\u001b[0;34m(\u001b[0m\u001b[0mself\u001b[0m\u001b[0;34m.\u001b[0m\u001b[0m_maybe_cast_indexer\u001b[0m\u001b[0;34m(\u001b[0m\u001b[0mkey\u001b[0m\u001b[0;34m)\u001b[0m\u001b[0;34m)\u001b[0m\u001b[0;34m\u001b[0m\u001b[0;34m\u001b[0m\u001b[0m\n\u001b[0m\u001b[1;32m   2660\u001b[0m         \u001b[0mindexer\u001b[0m \u001b[0;34m=\u001b[0m \u001b[0mself\u001b[0m\u001b[0;34m.\u001b[0m\u001b[0mget_indexer\u001b[0m\u001b[0;34m(\u001b[0m\u001b[0;34m[\u001b[0m\u001b[0mkey\u001b[0m\u001b[0;34m]\u001b[0m\u001b[0;34m,\u001b[0m \u001b[0mmethod\u001b[0m\u001b[0;34m=\u001b[0m\u001b[0mmethod\u001b[0m\u001b[0;34m,\u001b[0m \u001b[0mtolerance\u001b[0m\u001b[0;34m=\u001b[0m\u001b[0mtolerance\u001b[0m\u001b[0;34m)\u001b[0m\u001b[0;34m\u001b[0m\u001b[0;34m\u001b[0m\u001b[0m\n\u001b[1;32m   2661\u001b[0m         \u001b[0;32mif\u001b[0m \u001b[0mindexer\u001b[0m\u001b[0;34m.\u001b[0m\u001b[0mndim\u001b[0m \u001b[0;34m>\u001b[0m \u001b[0;36m1\u001b[0m \u001b[0;32mor\u001b[0m \u001b[0mindexer\u001b[0m\u001b[0;34m.\u001b[0m\u001b[0msize\u001b[0m \u001b[0;34m>\u001b[0m \u001b[0;36m1\u001b[0m\u001b[0;34m:\u001b[0m\u001b[0;34m\u001b[0m\u001b[0;34m\u001b[0m\u001b[0m\n",
      "\u001b[0;32mpandas/_libs/index.pyx\u001b[0m in \u001b[0;36mpandas._libs.index.IndexEngine.get_loc\u001b[0;34m()\u001b[0m\n",
      "\u001b[0;32mpandas/_libs/index.pyx\u001b[0m in \u001b[0;36mpandas._libs.index.IndexEngine.get_loc\u001b[0;34m()\u001b[0m\n",
      "\u001b[0;32mpandas/_libs/hashtable_class_helper.pxi\u001b[0m in \u001b[0;36mpandas._libs.hashtable.PyObjectHashTable.get_item\u001b[0;34m()\u001b[0m\n",
      "\u001b[0;32mpandas/_libs/hashtable_class_helper.pxi\u001b[0m in \u001b[0;36mpandas._libs.hashtable.PyObjectHashTable.get_item\u001b[0;34m()\u001b[0m\n",
      "\u001b[0;31mKeyError\u001b[0m: 'cat_ICT'"
     ]
    }
   ],
   "source": [
    "# cool EDA\n",
    "\n",
    "call_types = nm.groupby([\"Call_Type\"]).Initial_Call_Type.value_counts()\n",
    "\n",
    "df1 = nm[nm['cat_ICT'].str.contains(\"LITTERING\") ]\n",
    "\n",
    "vc = nm.cat_ICT.value_counts()\n",
    "vc[70:]\n",
    "#df1.cat_ICT.value_counts()"
   ]
  },
  {
   "cell_type": "code",
   "execution_count": 97,
   "metadata": {},
   "outputs": [],
   "source": [
    "# function for later to categorize ICT column\n",
    "\n",
    "def initial_call_type_cats(value):    \n",
    "    if \"MVC\" in value:\n",
    "        return \"Motor Vehicle Collision\"\n",
    "    elif value.startswith(\"FRAUD\"):\n",
    "        return \"Fraud\"\n",
    "    elif \"SUSPICIOUS STOP\" in value:\n",
    "        return \"Police Initiated Stop\"\n",
    "    elif \"SUSPICIOUS\" in value:\n",
    "        return \"Suspicious person, vehicle, incident\"\n",
    "    elif \"TRAFFIC STOP\" in value:\n",
    "        return \"Polic Initiated Stop\"\n",
    "    elif \"ROAD RAGE\" in value:\n",
    "        return \"Road Rage\"\n",
    "    elif \"MOVING VIOLATION\" in value:\n",
    "        return \"Moving Violation\"\n",
    "    elif \"TRAF\" in value:\n",
    "        return \"Moving Violation\"\n",
    "    elif \"BLOCKING ROADWAY\" in value:\n",
    "        return \"Parking Violation\"\n",
    "    elif \"TRAFFIC - ASSIST\" in value:\n",
    "        return \"Assist Motorist\"\n",
    "    elif \"DISTURBANCE\" in value:\n",
    "        return \"Disturbance\"\n",
    "    elif \"NOISE\" in value:\n",
    "        return \"Disturbance\"\n",
    "    elif \"OFF DUTY EMPLOYMENT\" in value:\n",
    "        return \"Police Initiated - Off Duty\"\n",
    "    elif \"NUISANCE\" in value:\n",
    "        return \"Nuisance\"\n",
    "    elif \"NARCOTICS\" in value:\n",
    "        return \"Narcotics\"\n",
    "    elif \"SEX IN PUBLIC\" in value:\n",
    "        return \"Lewd Conduct\"\n",
    "    elif \"VIOLATION OF COURT ORDER (NON DV)\" in value:\n",
    "        return \"Violation of Court Order (Not Domestic Violence)\"\n",
    "    elif \"NOT DV\" in value:\n",
    "        return \"Alarm\"\n",
    "    elif \"SHOTS\" in value:\n",
    "        return \"Shots heard\"\n",
    "    elif \"DV\" in value:\n",
    "        return \"Domestic Violence\"\n",
    "    elif \"ASSAULTS\" in value:\n",
    "        return \"Assault\"\n",
    "    elif \"WEAPN\" in value:\n",
    "        return \"Deadly Weapon - No Assault\"\n",
    "    elif \"ASLT\" in value:\n",
    "        return \"Assault\"\n",
    "    elif \"FIGHT\" in value:\n",
    "        return \"Assault\"\n",
    "    elif \"THEFT\" in value:\n",
    "        return \"Robbery\"\n",
    "    elif \"PREMISE CHECK\" in value:\n",
    "        return \"Police Initiated\"\n",
    "    elif \"DIRECTED PATROL ACTIVITY\" in value:\n",
    "        return \"Assigned Duty\"\n",
    "    elif \"UNUSUAL OCCURRENCES - EARTHQUAKE, RIOT, ETC)\" in value:\n",
    "        return \"Disturbance\"\n",
    "    elif \"PARKING\" in value:\n",
    "        return \"Parking Violation\"\n",
    "    elif \"ALARM\"in value:\n",
    "        return \"Alarm\"\n",
    "    elif \"BURG\" in value:\n",
    "        return \"Robbery\"\n",
    "    elif \"WATER FLOODS\" in value:\n",
    "        return \"Nuisance\"\n",
    "    elif \"TREES DOWN\" in value:\n",
    "        return \"Nuisance\"\n",
    "    elif \"HAZ\" in value:\n",
    "        return \"Hazard - immediate threat\"\n",
    "    elif \"TRESPASS\" in value:\n",
    "        return \"Trespass\"\n",
    "    elif \"FOLLOW\" in value:\n",
    "        return \"Follow up\"\n",
    "    elif \"WELFARE\" in value:\n",
    "        return \"Welfare Check\"\n",
    "    elif \"SERVICE\" in value:\n",
    "        return \"Assisting other agencies\"\n",
    "    elif \"SFD\" in value:\n",
    "        return \"Assisting other agencies\"\n",
    "    elif \"SUICIDE\" in value:\n",
    "        return \"Suicidal person or attempts\"\n",
    "    elif \"LIQUOR\" in value:\n",
    "        return \"Liquor Violations\"\n",
    "    elif \"AUTO\" in value:\n",
    "        return \"Auto Recovery\"\n",
    "    elif \"DAMAGE\" in value:\n",
    "        return \"Damaged Property\"\n",
    "    elif \"DAMG\" in value:\n",
    "        return \"Damaged Property\"\n",
    "    elif \"PROPERTY\" in value:\n",
    "        return \"Property lost or found\"\n",
    "    elif \"FOLLOW UP\" in value:\n",
    "        return \"Follow up\"\n",
    "    elif \"PERSON IN BEHAVIORAL/EMOTIONAL CRISIS\" in value:\n",
    "        return \"Behavioral / Emotional Crisis\"\n",
    "    elif \"DOWN - CHECK\" in value:\n",
    "        return \"Check for Person Down\"\n",
    "    elif \"SICK\" in value:\n",
    "        return \"-\"\n",
    "    elif \"--PERSON\" in value:\n",
    "        return \"Missing Person\"\n",
    "    elif \"INJURED\" in value:\n",
    "        return \"Injuries from Industrial Accidents\"\n",
    "    elif \"PICKUP\" in value:\n",
    "        return \"Pickup Person\"\n",
    "    elif \"BOMB\" in value:\n",
    "        return \"Threats\"\n",
    "    elif \"THREAT\" in value:\n",
    "        return \"Threats\"\n",
    "    elif \"RAPE\" in value:\n",
    "        return \"Rape\"\n",
    "    elif \"ROBBERY\" in value:\n",
    "        return \"Robbery\"\n",
    "    elif \"KIDNAPPING\" in value:\n",
    "        return \"Missing Person\"\n",
    "    elif \"MISSING\" in value:\n",
    "        return \"Missing Person\"\n",
    "    elif \"PROWLER\" in value:\n",
    "        return \"Suspicious person, vehicle, incident\"\n",
    "    elif \"PANHANDLING\" in value:\n",
    "        return \"Aggressive Panhandling\"\n",
    "    elif \"RUNAWAY\" in value:\n",
    "        return \"Missing Person\"\n",
    "    elif \"ASSIGNED DUTY\" in value:\n",
    "        return \"Assigned Duty\"\n",
    "    elif \"KIDNAPPNG\" in value:\n",
    "        return \"Missing Person\"\n",
    "    elif \"LEWD\" in value:\n",
    "        return \"Lewd Conduct\"\n",
    "    elif \"OVERDOSE\" in value:\n",
    "        return \"Overdose - Drug Related Casualty\"\n",
    "    elif \"PREDICTIVE POLICING\" in value:\n",
    "        return \"Predictive Policing\"\n",
    "    elif \"DETOX\" in value:\n",
    "        return \"Request for Detox\"\n",
    "    elif \"REQUEST\" in value:\n",
    "        return \"Request to Watch / Ensure Peace\"\n",
    "    elif \"CHILD\" in value:\n",
    "        return \"Child Abuse\"\n",
    "    elif \"PURSE\" in value:\n",
    "        return \"Robbery\"\n",
    "    elif \"PEACE\" in value:\n",
    "        return \"Request to Watch / Ensure Peace\"\n",
    "    elif \"DEAD\" in value:\n",
    "        return \"Casualty\"\n",
    "    elif \"GAMBLING\" in value:\n",
    "        return \"Gambling\"\n",
    "    elif \"ANIMAL\" in value:\n",
    "        return \"Animal - Dangerous / Bite\"\n",
    "    elif \"ESCAPE\" in value:\n",
    "        return \"-\"\n",
    "    elif \"PARKS\" in value:\n",
    "        return \"Parks Violations\"\n",
    "    elif \"PROSTITUTION\" in value:\n",
    "        return \"Prostitution\"\n",
    "    elif \"Pornography\" in value:\n",
    "        return \"Lewd Conduct\"\n",
    "    elif \"DUI\" in value:\n",
    "        return \"DUI - Driving While Under the Influence\"\n",
    "    elif \"SEX OFFENDER\" in value:\n",
    "        return \"Sex Offender - Failure to Register\"\n",
    "    elif \"SEX\" in value:\n",
    "        return \"-\"\n",
    "    elif \"SLEEP\" in value:\n",
    "        return \"Sleeper Aboard Public Transit\"\n",
    "    elif \"HARASSMENT\" in value:\n",
    "        return \"Harassment\"\n",
    "    elif \"EXPLOSION\" in value:\n",
    "        return \"Explosion / Arson\"\n",
    "    elif \"ARSON\" in value:\n",
    "        return \"Explosion / Arson\"\n",
    "    elif \"PREPLANNED\" in value:\n",
    "        return \"Assigned Duty\"\n",
    "    elif \"ASSIGNMENT\" in value:\n",
    "        return \"Assigned Duty\"\n",
    "    elif \"SHOPLIFT\" in value:\n",
    "        return \"Robbery\"\n",
    "    elif \"ELUDING\" in value:\n",
    "        return \"Eluding Police\"\n",
    "    elif \"LITTERING\" in value:\n",
    "        return \"Illegal Dumping\"\n",
    "    elif \"DUMPING\" in value:\n",
    "        return \"Illegal Dumping\"\n",
    "    elif \"BURN\" in value:\n",
    "        return \"Explosion / Arson\"\n",
    "    else:\n",
    "        return \"-\"\n",
    "    \n",
    "    \n",
    "    "
   ]
  },
  {
   "cell_type": "code",
   "execution_count": null,
   "metadata": {},
   "outputs": [],
   "source": [
    "# calling above function to make list to make column\n",
    "new_col = []\n",
    "for idx, row in nm2.iterrows():\n",
    "    value = row.Initial_Call_Type\n",
    "    new_col.append(initial_call_type_cats(value))"
   ]
  },
  {
   "cell_type": "code",
   "execution_count": null,
   "metadata": {},
   "outputs": [],
   "source": [
    "nm2[\"cat_ICT\"] = new_col\n"
   ]
  },
  {
   "cell_type": "code",
   "execution_count": 71,
   "metadata": {},
   "outputs": [],
   "source": [
    "\n",
    "# Get nums of indexes for which column has '-'\n",
    "indexnums = nm[ nm['cat_ICT'] == '-'].index\n",
    "nm.drop(indexnums,  inplace=True)"
   ]
  },
  {
   "cell_type": "code",
   "execution_count": 89,
   "metadata": {},
   "outputs": [
    {
     "data": {
      "text/plain": [
       "(1265136, 1459754)"
      ]
     },
     "execution_count": 89,
     "metadata": {},
     "output_type": "execute_result"
    }
   ],
   "source": [
    "len(nm2), len(nm)"
   ]
  },
  {
   "cell_type": "code",
   "execution_count": null,
   "metadata": {},
   "outputs": [],
   "source": [
    "#nm2[\"cat_ICT\"] = new_col\n",
    "nmvc2 = nm2.groupby(\"cat_ICT\")\n",
    "lst = nmvc2.Force_Level.value_counts()\n",
    "nmvc3 = nm2.groupby(\"Force_Level\")\n",
    "lst2 = nmvc3.cat_ICT.value_counts()\n",
    "lst[[\"Assault\", \"Fight - with weapons\", \"Fight - no weapons\"]]"
   ]
  },
  {
   "cell_type": "code",
   "execution_count": 30,
   "metadata": {},
   "outputs": [
    {
     "data": {
      "text/plain": [
       "Index(['Police Initiated', '-', 'Robbery', 'Disturbance',\n",
       "       'Suspicious person, vehicle, incident', 'Motor Vehicle Collision',\n",
       "       'Alarm', 'Directed Patrol Activity', 'Assault', 'Nuisance',\n",
       "       'Parking Violation', 'Trespass', 'Property lost or found', 'Follow up',\n",
       "       'Assisting other agencies', 'Assigned Duty', 'Fight - no weapons',\n",
       "       'Moving Violation', 'Narcotics', 'Hazard - immediate threat',\n",
       "       'Auto Recovery', 'Threats', 'Suicidal person or attempts',\n",
       "       'Behavioral / Emotional Crisis', 'Liquor Violations', 'Fraud',\n",
       "       'Shots heard', 'Request to Watch', 'Deadly Weapon - No Assault',\n",
       "       'Lewd Conduct', 'Child Abuse', 'Missing Person',\n",
       "       'Overdose - Drug Related Casualty', 'Predictive Policing',\n",
       "       'Request for Detox', 'Prowler', 'Standby to Ensure Peace',\n",
       "       'Animal - Dangerous / Bite', 'DUI - Driving While Under the Influence',\n",
       "       'Aggressive Panhandling', 'Parks Violations', 'Rape', 'Arson',\n",
       "       'Sex Offender - Failure to Register', 'Sex in Public', 'Sick Person',\n",
       "       'Injuries from Industrial Accidents', 'Illegal Dumping', 'Bias',\n",
       "       'Sleeper Aboard Public Transit', 'Explosion', 'Bomb Threat',\n",
       "       'Pickup Person', 'Gambling', 'Escaped Prisoner', 'Damaged Property'],\n",
       "      dtype='object')"
      ]
     },
     "execution_count": 30,
     "metadata": {},
     "output_type": "execute_result"
    }
   ],
   "source": [
    "\n",
    "nmvc = nm[\"cat_ICT\"].value_counts()\n",
    "nmvc.index"
   ]
  },
  {
   "cell_type": "code",
   "execution_count": 35,
   "metadata": {},
   "outputs": [
    {
     "ename": "KeyError",
     "evalue": "'Column not found: Force_Level'",
     "output_type": "error",
     "traceback": [
      "\u001b[0;31m---------------------------------------------------------------------------\u001b[0m",
      "\u001b[0;31mKeyError\u001b[0m                                  Traceback (most recent call last)",
      "\u001b[0;32m<ipython-input-35-2cd20a1f3820>\u001b[0m in \u001b[0;36m<module>\u001b[0;34m\u001b[0m\n\u001b[1;32m      2\u001b[0m \u001b[0mlist\u001b[0m\u001b[0;34m(\u001b[0m\u001b[0mnmvc\u001b[0m\u001b[0;34m)\u001b[0m\u001b[0;34m\u001b[0m\u001b[0;34m\u001b[0m\u001b[0m\n\u001b[1;32m      3\u001b[0m \u001b[0;34m\u001b[0m\u001b[0m\n\u001b[0;32m----> 4\u001b[0;31m \u001b[0mnm\u001b[0m\u001b[0;34m.\u001b[0m\u001b[0mgroupby\u001b[0m\u001b[0;34m(\u001b[0m\u001b[0;34m\"cat_ICT\"\u001b[0m\u001b[0;34m)\u001b[0m\u001b[0;34m[\u001b[0m\u001b[0;34m\"Force_Level\"\u001b[0m\u001b[0;34m]\u001b[0m\u001b[0;34m.\u001b[0m\u001b[0mvalue_counts\u001b[0m\u001b[0;34m(\u001b[0m\u001b[0;34m)\u001b[0m\u001b[0;34m\u001b[0m\u001b[0;34m\u001b[0m\u001b[0m\n\u001b[0m",
      "\u001b[0;32m~/anaconda3/lib/python3.7/site-packages/pandas/core/base.py\u001b[0m in \u001b[0;36m__getitem__\u001b[0;34m(self, key)\u001b[0m\n\u001b[1;32m    273\u001b[0m         \u001b[0;32melse\u001b[0m\u001b[0;34m:\u001b[0m\u001b[0;34m\u001b[0m\u001b[0;34m\u001b[0m\u001b[0m\n\u001b[1;32m    274\u001b[0m             \u001b[0;32mif\u001b[0m \u001b[0mkey\u001b[0m \u001b[0;32mnot\u001b[0m \u001b[0;32min\u001b[0m \u001b[0mself\u001b[0m\u001b[0;34m.\u001b[0m\u001b[0mobj\u001b[0m\u001b[0;34m:\u001b[0m\u001b[0;34m\u001b[0m\u001b[0;34m\u001b[0m\u001b[0m\n\u001b[0;32m--> 275\u001b[0;31m                 \u001b[0;32mraise\u001b[0m \u001b[0mKeyError\u001b[0m\u001b[0;34m(\u001b[0m\u001b[0;34m\"Column not found: {key}\"\u001b[0m\u001b[0;34m.\u001b[0m\u001b[0mformat\u001b[0m\u001b[0;34m(\u001b[0m\u001b[0mkey\u001b[0m\u001b[0;34m=\u001b[0m\u001b[0mkey\u001b[0m\u001b[0;34m)\u001b[0m\u001b[0;34m)\u001b[0m\u001b[0;34m\u001b[0m\u001b[0;34m\u001b[0m\u001b[0m\n\u001b[0m\u001b[1;32m    276\u001b[0m             \u001b[0;32mreturn\u001b[0m \u001b[0mself\u001b[0m\u001b[0;34m.\u001b[0m\u001b[0m_gotitem\u001b[0m\u001b[0;34m(\u001b[0m\u001b[0mkey\u001b[0m\u001b[0;34m,\u001b[0m \u001b[0mndim\u001b[0m\u001b[0;34m=\u001b[0m\u001b[0;36m1\u001b[0m\u001b[0;34m)\u001b[0m\u001b[0;34m\u001b[0m\u001b[0;34m\u001b[0m\u001b[0m\n\u001b[1;32m    277\u001b[0m \u001b[0;34m\u001b[0m\u001b[0m\n",
      "\u001b[0;31mKeyError\u001b[0m: 'Column not found: Force_Level'"
     ]
    }
   ],
   "source": [
    "nmvc = nm[\"cat_ICT\"].value_counts()\n",
    "list(nmvc)\n",
    "\n",
    "nm.groupby(\"cat_ICT\")[\"Force_Level\"].value_counts()"
   ]
  },
  {
   "cell_type": "code",
   "execution_count": 33,
   "metadata": {},
   "outputs": [
    {
     "data": {
      "image/png": "[encoded data removed]",
      "text/plain": [
       "<Figure size 432x288 with 1 Axes>"
      ]
     },
     "metadata": {
      "needs_background": "light"
     },
     "output_type": "display_data"
    }
   ],
   "source": [
    "plt.bar(nmvc.index, list(nmvc))\n",
    "plt.xticks(rotation=\"vertical\");"
   ]
  },
  {
   "cell_type": "code",
   "execution_count": null,
   "metadata": {},
   "outputs": [],
   "source": [
    "# get dummies for string valued columns\n",
    "nm = pd.get_dummies(data = nm, \n",
    "                     columns=[\"Precinct\", \"Sector\", \"Beat\", \"Subject_Gender\", \"Subject_Race\", \"Call_Type\", \n",
    "                               \"Initial_Call_Type\"], \n",
    "                     prefix=[\"P\",  \"S\", \"B\", \"SG\", \"SR\",\"CT\", \"ICT\"])"
   ]
  },
  {
   "cell_type": "code",
   "execution_count": null,
   "metadata": {},
   "outputs": [],
   "source": [
    "# dropping the \"-\" Precinct and Sector columns - they aren't useful for interpretation\n",
    "\n",
    "nm.drop([\"S_-\", \"P_-\"], axis=1, inplace=True)"
   ]
  },
  {
   "cell_type": "code",
   "execution_count": null,
   "metadata": {},
   "outputs": [],
   "source": [
    "# dropping column\n",
    "\n",
    "nm.drop(['SG_-', 'SR_-'], axis=1, inplace=True)"
   ]
  },
  {
   "cell_type": "code",
   "execution_count": null,
   "metadata": {},
   "outputs": [],
   "source": [
    "# get column names to identify features in feature_importance later\n",
    "\n",
    "cols = nm.columns"
   ]
  },
  {
   "cell_type": "code",
   "execution_count": null,
   "metadata": {},
   "outputs": [],
   "source": [
    "# two minutes~\n",
    "\n",
    "X_scaled = StandardScaler().fit_transform(nm)"
   ]
  },
  {
   "cell_type": "code",
   "execution_count": null,
   "metadata": {},
   "outputs": [],
   "source": [
    "# will need to change nm2 to X_scaled if we use this later - X_scaled hung and never finished (~10minutes)\n",
    "\n",
    "X_train, X_test, y_train, y_test = train_test_split(nm, y, test_size=0.2, random_state=659)"
   ]
  },
  {
   "cell_type": "code",
   "execution_count": null,
   "metadata": {},
   "outputs": [],
   "source": [
    "# create RFC model - change all but random_state after we time this one\n",
    "\n",
    "clf = RandomForestClassifier(n_estimators=100, max_depth=4, random_state=659, oob_score=True)\n",
    "\n"
   ]
  },
  {
   "cell_type": "code",
   "execution_count": null,
   "metadata": {},
   "outputs": [],
   "source": [
    "# fit the model\n",
    "\n",
    "clf.fit(X_train, y_train)"
   ]
  },
  {
   "cell_type": "code",
   "execution_count": null,
   "metadata": {},
   "outputs": [],
   "source": [
    "# check the feature importances and col_name list match first\n",
    "\n",
    "len(clf.feature_importances_), len(cols)"
   ]
  },
  {
   "cell_type": "code",
   "execution_count": null,
   "metadata": {},
   "outputs": [],
   "source": [
    "# most important features in predictions of this model\n",
    "\n",
    "indices = np.argsort(clf.feature_importances_)\n",
    "big = indices[-1:-20:-1]\n",
    "\n",
    "cols[big]"
   ]
  },
  {
   "cell_type": "code",
   "execution_count": null,
   "metadata": {},
   "outputs": [],
   "source": [
    "# least important features\n",
    "little = indices[:10]\n",
    "cols[little]\n"
   ]
  },
  {
   "cell_type": "code",
   "execution_count": null,
   "metadata": {},
   "outputs": [],
   "source": [
    "clf.oob_score_ # accuracy of training set"
   ]
  },
  {
   "cell_type": "code",
   "execution_count": null,
   "metadata": {},
   "outputs": [],
   "source": [
    "# predicted classes\n",
    "\n",
    "yhat = clf.predict(X_test)"
   ]
  },
  {
   "cell_type": "code",
   "execution_count": null,
   "metadata": {},
   "outputs": [],
   "source": [
    "sum(yhat == y_test) / len(yhat) # accuracy of testing set"
   ]
  },
  {
   "cell_type": "code",
   "execution_count": null,
   "metadata": {},
   "outputs": [],
   "source": [
    "# sklearn.metrics.classification_report(y_true, y_pred, labels=None, target_names=None, sample_weight=None, digits=2, output_dict=False)\n",
    "print(classification_report(y_test, yhat))\n"
   ]
  },
  {
   "cell_type": "code",
   "execution_count": null,
   "metadata": {},
   "outputs": [],
   "source": [
    "# predict probabilities - what do you want threshold to be?\n",
    "\n",
    "pp = clf.predict_proba(X_test)"
   ]
  },
  {
   "cell_type": "code",
   "execution_count": null,
   "metadata": {},
   "outputs": [],
   "source": [
    "clf.classes_"
   ]
  },
  {
   "cell_type": "code",
   "execution_count": null,
   "metadata": {},
   "outputs": [],
   "source": [
    "# some rows' probabilities of being in each class:\n",
    "\n",
    "for p in pp[:10]:\n",
    "    print(f\"Pr of no force is: {p[0]}, Pr of Force 1 is: {p[1]}, Pr of Force 2: {p[2]}, Pr of Force 3: {p[3]}, & Pr of Officer Involved Shooting: {p[4]}\")\n",
    "          \n",
    "          "
   ]
  },
  {
   "cell_type": "code",
   "execution_count": null,
   "metadata": {},
   "outputs": [],
   "source": [
    "len(y_test)"
   ]
  },
  {
   "cell_type": "code",
   "execution_count": null,
   "metadata": {},
   "outputs": [],
   "source": [
    "type(y_test)"
   ]
  },
  {
   "cell_type": "code",
   "execution_count": null,
   "metadata": {},
   "outputs": [],
   "source": [
    "y_test[y_test == 4]"
   ]
  },
  {
   "cell_type": "code",
   "execution_count": null,
   "metadata": {},
   "outputs": [],
   "source": [
    "type(yhat)"
   ]
  },
  {
   "cell_type": "code",
   "execution_count": null,
   "metadata": {},
   "outputs": [],
   "source": [
    "len(yhat[yhat == 4])"
   ]
  },
  {
   "cell_type": "code",
   "execution_count": null,
   "metadata": {},
   "outputs": [],
   "source": [
    "yhat[50706]"
   ]
  },
  {
   "cell_type": "code",
   "execution_count": null,
   "metadata": {},
   "outputs": [],
   "source": [
    "# visualization - you can plot the abundance/frequency of each selected feature within each group as a bar plot. \n",
    "# I assume visually the top feature will be more abundant in one group comparing with the other groups.\n",
    "\n",
    "four = y_test[y_test == 4]\n",
    "four, four.index"
   ]
  },
  {
   "cell_type": "code",
   "execution_count": null,
   "metadata": {},
   "outputs": [],
   "source": [
    "fourX = X_test.iloc[[50706, 220355, 156571, 60263, 6215, 156570, 102803, 50750, 220432,\n",
    "        50774],:]\n",
    "fourX\n"
   ]
  },
  {
   "cell_type": "code",
   "execution_count": null,
   "metadata": {},
   "outputs": [],
   "source": [
    "fournm = nm2.iloc[50706,:]\n",
    "fournm\n",
    "\n",
    "four_index = [50706, 220355, 156571, 60263, 6215, 156570, 102803, 50750, 220432,\n",
    "        50774]\n",
    "\n",
    "nm2[nm2.index.isin(four_index)]"
   ]
  },
  {
   "cell_type": "code",
   "execution_count": null,
   "metadata": {},
   "outputs": [],
   "source": [
    "fournm.info()"
   ]
  },
  {
   "cell_type": "code",
   "execution_count": null,
   "metadata": {},
   "outputs": [],
   "source": []
  }
 ],
 "metadata": {
  "kernelspec": {
   "display_name": "Python 3",
   "language": "python",
   "name": "python3"
  },
  "language_info": {
   "codemirror_mode": {
    "name": "ipython",
    "version": 3
   },
   "file_extension": ".py",
   "mimetype": "text/x-python",
   "name": "python",
   "nbconvert_exporter": "python",
   "pygments_lexer": "ipython3",
   "version": "3.7.3"
  }
 },
 "nbformat": 4,
 "nbformat_minor": 2
}
