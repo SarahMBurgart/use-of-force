{
 "cells": [
  {
   "cell_type": "code",
   "execution_count": 1,
   "metadata": {},
   "outputs": [],
   "source": [
    "import pandas as pd\n",
    "from pandas.plotting import scatter_matrix\n",
    "import os\n",
    "from datetime import datetime\n",
    "import sqlite3\n",
    "from sqlalchemy import create_engine\n",
    "engine = create_engine('sqlite://', echo=False)\n",
    "\n",
    "import matplotlib.pyplot as plt\n",
    "import numpy as np\n",
    "from datetime import datetime\n",
    "from sklearn.decomposition import PCA\n",
    "from sklearn.preprocessing import StandardScaler\n",
    "import seaborn as sns\n",
    "from sklearn.ensemble import RandomForestClassifier, GradientBoostingClassifier, GradientBoostingRegressor\n",
    "from sklearn.model_selection import train_test_split\n",
    "from sklearn.inspection import plot_partial_dependence\n",
    "from sklearn.inspection import partial_dependence \n",
    "from sklearn.metrics import classification_report\n",
    "import dill as pickle\n",
    "from sklearn.pipeline import Pipeline\n",
    "from sklearn.linear_model import LogisticRegression, LinearRegression\n",
    "from sklearn.inspection import plot_partial_dependence\n",
    "from sklearn.metrics import log_loss, mean_squared_error\n",
    "from sklearn.covariance import EmpiricalCovariance\n",
    "\n",
    "import cleaning as clean\n",
    "\n",
    "%matplotlib inline"
   ]
  },
  {
   "cell_type": "code",
   "execution_count": 2,
   "metadata": {},
   "outputs": [],
   "source": [
    "sampleall = pd.read_pickle(\"data/df_ready_to_split_to_X_y_no_day.pkl\")\n",
    "\n",
    "sa = sampleall.copy(deep=True)\n",
    "\n",
    "X = sampleall.drop(\"Force_Level\", axis=1)\n",
    "y = sampleall.Force_Level\n",
    "\n",
    "cols = X.columns"
   ]
  },
  {
   "cell_type": "markdown",
   "metadata": {},
   "source": [
    "## probably start here with loading the df from right before dummies in EDA\n"
   ]
  },
  {
   "cell_type": "code",
   "execution_count": 11,
   "metadata": {},
   "outputs": [],
   "source": [
    "nm = pd.read_pickle(\"data/rev_df_before_dummies.pkl\")\n",
    "\n",
    "# need to:\n",
    "# make a y and make categories numeric(?)\n",
    "# drop CAD and Event and Force\n",
    "# make dummie columns\n",
    "# cahnge month and day to integers\n"
   ]
  },
  {
   "cell_type": "code",
   "execution_count": 117,
   "metadata": {},
   "outputs": [],
   "source": [
    "nm.Precinct.replace({'W': \"WEST\", \"N\": \"NORTH\", \"E\": \"EAST\", \"S\": \"SOUTH\", \"SW\":\"SOUTHWEST\"}, inplace=True)\n",
    "\n"
   ]
  },
  {
   "cell_type": "code",
   "execution_count": 119,
   "metadata": {},
   "outputs": [],
   "source": [
    "nm[\"hour2\"] = nm.hour.apply(lambda x: (x/24)*2*np.pi)\n",
    "nm[\"sin_hour2\"] = nm.hour2.apply(np.sin)\n",
    "nm[\"cos_hour2\"] = nm.hour2.apply(np.cos)\n",
    "nm.drop([\"hour2\",\"hour\"], axis=1, inplace=True)"
   ]
  },
  {
   "cell_type": "code",
   "execution_count": 120,
   "metadata": {},
   "outputs": [],
   "source": [
    "# make a copy to alter for the model in case I want to look back at this\n",
    "nm2 = nm.copy(deep=True)"
   ]
  },
  {
   "cell_type": "code",
   "execution_count": 123,
   "metadata": {},
   "outputs": [],
   "source": [
    "# drop column \n",
    "nm.drop( \"CAD_Event_Number\", axis=1, inplace=True)\n"
   ]
  },
  {
   "cell_type": "code",
   "execution_count": 48,
   "metadata": {},
   "outputs": [],
   "source": [
    "# do you want to drop this columns??\n",
    "\n",
    "# STOP!!\n",
    "\n",
    "nm.drop( \"day\", axis=1, inplace=True)"
   ]
  },
  {
   "cell_type": "code",
   "execution_count": 124,
   "metadata": {},
   "outputs": [
    {
     "name": "stdout",
     "output_type": "stream",
     "text": [
      "<class 'pandas.core.frame.DataFrame'>\n",
      "Index: 2047618 entries, 0 to 3986667\n",
      "Data columns (total 12 columns):\n",
      "Force_Level          object\n",
      "Precinct             object\n",
      "Sector               object\n",
      "Beat                 object\n",
      "Subject_Race         object\n",
      "Subject_Gender       object\n",
      "Call_Type            object\n",
      "Initial_Call_Type    object\n",
      "month                int64\n",
      "day_of_week          int64\n",
      "sin_hour2            float64\n",
      "cos_hour2            float64\n",
      "dtypes: float64(2), int64(2), object(8)\n",
      "memory usage: 203.1+ MB\n"
     ]
    }
   ],
   "source": [
    "nm.info(verbose=True)"
   ]
  },
  {
   "cell_type": "code",
   "execution_count": 44,
   "metadata": {},
   "outputs": [],
   "source": []
  },
  {
   "cell_type": "code",
   "execution_count": 45,
   "metadata": {},
   "outputs": [],
   "source": [
    "# calling above function to make list to make column\n",
    "new_col = []\n",
    "for idx, row in nm.iterrows():\n",
    "    value = row.Initial_Call_Type\n",
    "    new_col.append(clean.initial_call_type_cats(value))\n",
    "    \n",
    "nm[\"cat_ICT\"] = new_col\n",
    "\n",
    "# make copy so you don't repeat this ... AGAIN\n",
    "nm_cat_ICT = nm.copy(deep=True)\n",
    "\n",
    "nm.drop(\"Initial_Call_Type\", axis=1, inplace=True)"
   ]
  },
  {
   "cell_type": "code",
   "execution_count": 50,
   "metadata": {},
   "outputs": [],
   "source": [
    "# get dummies for string valued columns\n",
    "nm = pd.get_dummies(data = nm, \n",
    "                     columns=[\"Precinct\", \"Sector\", \"Beat\", \"Subject_Gender\", \"Subject_Race\", \"Call_Type\", \n",
    "                               \"cat_ICT\", \"day_of_week\", \"month\"], \n",
    "                     prefix=[\"P\",  \"S\", \"B\", \"SG\", \"SR\",\"CT\", \"ICT\", \"dow\", \"month\"])\n",
    "\n",
    "nm.drop([\"S_-\", \"P_-\", 'SG_-', 'SR_-', 'P_X', \"ICT_-\"], axis=1, inplace=True)"
   ]
  },
  {
   "cell_type": "code",
   "execution_count": 53,
   "metadata": {},
   "outputs": [],
   "source": [
    "# numeric y\n",
    "\n",
    "nm.Force_Level.replace({\"Level 1 - Use of Force\":1,\"Level 2 - Use of Force\":2,\"Level 3 - OIS\":4, \"Level 3 - Use of Force\": 3 }, inplace=True)\n"
   ]
  },
  {
   "cell_type": "code",
   "execution_count": 736,
   "metadata": {},
   "outputs": [],
   "source": [
    "'''# undersampling / oversampling\n",
    "four = nm[nm[\"Force_Level\"] == 4]\n",
    "three = nm[nm[\"Force_Level\"] == 3]\n",
    "two = nm[nm[\"Force_Level\"] == 2]\n",
    "one = nm[nm[\"Force_Level\"] == 1]\n",
    "zero = nm[nm[\"Force_Level\"] == 0]\n",
    "\n",
    "len(four), len(three), len(two), len(one), len(zero)'''"
   ]
  },
  {
   "cell_type": "code",
   "execution_count": 738,
   "metadata": {},
   "outputs": [
    {
     "data": {
      "text/plain": [
       "'#nm[\"Weights\"] = np.where(nm[\\'Force_Level\\'] <= 4, .1, .9)\\n\\nnm[\"Weights\"] = nm[\"Force_Level\"]\\nnm[\"Weights\"].replace({4:.5, 3:.3, 2:.1105, 1:.08, 0:.0005}, inplace=True)'"
      ]
     },
     "execution_count": 738,
     "metadata": {},
     "output_type": "execute_result"
    }
   ],
   "source": [
    "'''#nm[\"Weights\"] = np.where(nm['Force_Level'] <= 4, .1, .9)\n",
    "\n",
    "nm[\"Weights\"] = nm[\"Force_Level\"]\n",
    "nm[\"Weights\"].replace({4:.5, 3:.3, 2:.1105, 1:.08, 0:.0005}, inplace=True)'''"
   ]
  },
  {
   "cell_type": "code",
   "execution_count": 740,
   "metadata": {},
   "outputs": [],
   "source": [
    "'''len(sample1[sample1.Force_Level == 4]), len(sample1[sample1.Force_Level == 3]), len(sample1[sample1.Force_Level == 2]), len(sample1[sample1.Force_Level == 1]), len(sample1[sample1.Force_Level == 0])\n",
    "\n",
    "sample4 = four.sample(n=6000, random_state=659, replace=True)\n",
    "sample3 = three.sample(n=6000, random_state=659, replace=True)\n",
    "sample2 = two.sample(n=6000, random_state=659, replace=True)\n",
    "sample1 = one.sample(n=6000, random_state=659, replace=True)\n",
    "sample0 = zero.sample(n=6000, random_state=659, replace=True)\n",
    "\n",
    "sampleall = pd.concat([sample4,sample3, sample2, sample1, sample0])\n",
    "'''"
   ]
  },
  {
   "cell_type": "code",
   "execution_count": 82,
   "metadata": {},
   "outputs": [],
   "source": [
    "sampleall = nm.copy(deep=True)"
   ]
  },
  {
   "cell_type": "code",
   "execution_count": 86,
   "metadata": {},
   "outputs": [],
   "source": [
    "sampleall.drop(['B_DCD',\n",
    " 'B_DDB',\n",
    " 'B_DND',\n",
    " 'B_DWD'], axis=1, inplace=True)"
   ]
  },
  {
   "cell_type": "code",
   "execution_count": 953,
   "metadata": {},
   "outputs": [
    {
     "data": {
      "image/png": "[encoded data removed]",
      "text/plain": [
       "<Figure size 432x288 with 1 Axes>"
      ]
     },
     "metadata": {
      "needs_background": "light"
     },
     "output_type": "display_data"
    }
   ],
   "source": [
    "sa = sampleall.groupby(\"Force_Level\").day.value_counts()\n",
    "plt.bar(sa[1].index, list(sa[1]));\n",
    "#sa[3].index, list(sa[3])"
   ]
  },
  {
   "cell_type": "code",
   "execution_count": 87,
   "metadata": {},
   "outputs": [],
   "source": [
    "#sampleall.drop(\"day\", axis=1, inplace=True)\n",
    "sampleall[\"S_BOY\"] = sampleall[\"S_BOY\"] + sampleall[\"S_B\"]\n",
    "sampleall[\"S_CHARLIE\"] = sampleall[\"S_CHARLIE\"] + sampleall[\"S_C\"]\n",
    "sampleall[\"S_DAVID\"] = sampleall[\"S_DAVID\"] + sampleall[\"S_D\"]\n",
    "sampleall[\"S_EDWARD\"] = sampleall[\"S_EDWARD\"] + sampleall[\"S_E\"]\n",
    "sampleall[\"S_FRANK\"] = sampleall[\"S_FRANK\"] + sampleall[\"S_F\"]\n",
    "sampleall[\"S_GEORGE\"] = sampleall[\"S_GEORGE\"] + sampleall[\"S_G\"]\n",
    "\n",
    "sampleall[\"S_JOHN\"] = sampleall[\"S_JOHN\"] + sampleall[\"S_J\"]\n",
    "sampleall[\"S_KING\"] = sampleall[\"S_KING\"] + sampleall[\"S_K\"]\n",
    "sampleall[\"S_LINCOLN\"] = sampleall[\"S_LINCOLN\"] + sampleall[\"S_L\"]\n",
    "sampleall[\"S_MARY\"] = sampleall[\"S_MARY\"] + sampleall[\"S_M\"]\n",
    "sampleall[\"S_NORA\"] = sampleall[\"S_NORA\"] + sampleall[\"S_N\"]\n",
    "sampleall[\"S_OCEAN\"] = sampleall[\"S_OCEAN\"] + sampleall[\"S_O\"]\n",
    "\n",
    "sampleall[\"S_QUEEN\"] = sampleall[\"S_QUEEN\"] + sampleall[\"S_Q\"]\n",
    "sampleall[\"S_ROBERT\"] = sampleall[\"S_ROBERT\"] + sampleall[\"S_R\"]\n",
    "sampleall[\"S_SAM\"] = sampleall[\"S_SAM\"] + sampleall[\"S_S\"]\n",
    "sampleall[\"S_UNION\"] = sampleall[\"S_UNION\"] + sampleall[\"S_U\"]\n",
    "sampleall[\"S_WILLIAM\"] = sampleall[\"S_WILLIAM\"] + sampleall[\"S_W\"]\n",
    "\n"
   ]
  },
  {
   "cell_type": "code",
   "execution_count": 88,
   "metadata": {},
   "outputs": [],
   "source": [
    "sampleall.drop([\"S_W\", \"S_U\",\"S_S\",  \"S_R\", \"S_Q\", \"S_O\",\"S_N\", \"S_M\", \"S_L\",\"S_K\", \"S_J\", \"S_G\", \"S_F\",\n",
    "               \"S_E\",\"S_D\", \"S_C\", \"S_B\"], axis=1, inplace=True)"
   ]
  },
  {
   "cell_type": "code",
   "execution_count": 91,
   "metadata": {},
   "outputs": [
    {
     "data": {
      "text/plain": [
       "['Force_Level',\n",
       " 'P_EAST',\n",
       " 'P_NORTH',\n",
       " 'P_SOUTH',\n",
       " 'P_SOUTHWEST',\n",
       " 'P_WEST',\n",
       " 'S_BOY',\n",
       " 'S_CHARLIE',\n",
       " 'S_DAVID',\n",
       " 'S_EDWARD',\n",
       " 'S_FRANK',\n",
       " 'S_GEORGE',\n",
       " 'S_JOHN',\n",
       " 'S_KING',\n",
       " 'S_LINCOLN',\n",
       " 'S_MARY',\n",
       " 'S_NORA',\n",
       " 'S_OCEAN',\n",
       " 'S_QUEEN',\n",
       " 'S_ROBERT',\n",
       " 'S_SAM',\n",
       " 'S_UNION',\n",
       " 'S_WILLIAM',\n",
       " 'B_99',\n",
       " 'B_B1',\n",
       " 'B_B2',\n",
       " 'B_B3',\n",
       " 'B_BS',\n",
       " 'B_C1',\n",
       " 'B_C2',\n",
       " 'B_C3',\n",
       " 'B_CCD',\n",
       " 'B_CD',\n",
       " 'B_CDD',\n",
       " 'B_CMD',\n",
       " 'B_CMD2',\n",
       " 'B_COMM',\n",
       " 'B_CS',\n",
       " 'B_CTY',\n",
       " 'B_D1',\n",
       " 'B_D2',\n",
       " 'B_D3',\n",
       " 'B_DBB',\n",
       " 'B_DBD',\n",
       " 'B_DCC',\n",
       " 'B_DET',\n",
       " 'B_DS',\n",
       " 'B_DSPV',\n",
       " 'B_DSPVD',\n",
       " 'B_E',\n",
       " 'B_E1',\n",
       " 'B_E2',\n",
       " 'B_E3',\n",
       " 'B_ED',\n",
       " 'B_EP',\n",
       " 'B_ES',\n",
       " 'B_F1',\n",
       " 'B_F2',\n",
       " 'B_F3',\n",
       " 'B_FS',\n",
       " 'B_G1',\n",
       " 'B_G2',\n",
       " 'B_G3',\n",
       " 'B_GS',\n",
       " 'B_H2',\n",
       " 'B_H3',\n",
       " 'B_HBR',\n",
       " 'B_HS',\n",
       " 'B_INV',\n",
       " 'B_J1',\n",
       " 'B_J2',\n",
       " 'B_J3',\n",
       " 'B_JS',\n",
       " 'B_K1',\n",
       " 'B_K2',\n",
       " 'B_K3',\n",
       " 'B_KS',\n",
       " 'B_L1',\n",
       " 'B_L2',\n",
       " 'B_L3',\n",
       " 'B_LAPT',\n",
       " 'B_LS',\n",
       " 'B_M1',\n",
       " 'B_M2',\n",
       " 'B_M3',\n",
       " 'B_MS',\n",
       " 'B_N',\n",
       " 'B_N1',\n",
       " 'B_N2',\n",
       " 'B_N3',\n",
       " 'B_ND',\n",
       " 'B_NP',\n",
       " 'B_NS',\n",
       " 'B_O1',\n",
       " 'B_O2',\n",
       " 'B_O3',\n",
       " 'B_OD',\n",
       " 'B_ODD',\n",
       " 'B_OS',\n",
       " 'B_Q1',\n",
       " 'B_Q2',\n",
       " 'B_Q3',\n",
       " 'B_QS',\n",
       " 'B_R1',\n",
       " 'B_R2',\n",
       " 'B_R3',\n",
       " 'B_RS',\n",
       " 'B_S',\n",
       " 'B_S1',\n",
       " 'B_S2',\n",
       " 'B_S3',\n",
       " 'B_SCTR1',\n",
       " 'B_SD',\n",
       " 'B_SOUTH',\n",
       " 'B_SP',\n",
       " 'B_SPCT',\n",
       " 'B_SPVD',\n",
       " 'B_SPVDD',\n",
       " 'B_SS',\n",
       " 'B_SW',\n",
       " 'B_SWT',\n",
       " 'B_T',\n",
       " 'B_TAC2',\n",
       " 'B_TAC3',\n",
       " 'B_TAC9',\n",
       " 'B_TQ',\n",
       " 'B_TRF',\n",
       " 'B_U1',\n",
       " 'B_U2',\n",
       " 'B_U3',\n",
       " 'B_US',\n",
       " 'B_W',\n",
       " 'B_W1',\n",
       " 'B_W2',\n",
       " 'B_W3',\n",
       " 'B_WD',\n",
       " 'B_WP',\n",
       " 'B_WS',\n",
       " 'B_XDD',\n",
       " 'SG_Female',\n",
       " 'SG_Male',\n",
       " 'SR_American Indian/Alaska Native',\n",
       " 'SR_Asian',\n",
       " 'SR_Black or African American',\n",
       " 'SR_Hispanic or Latino',\n",
       " 'SR_Nat Hawaiian/Oth Pac Islander',\n",
       " 'SR_White',\n",
       " 'CT_911',\n",
       " 'CT_ALARM CALL (NOT POLICE ALARM)',\n",
       " 'CT_HISTORY CALL (RETRO)',\n",
       " 'CT_IN PERSON COMPLAINT',\n",
       " 'CT_ONVIEW',\n",
       " 'CT_POLICE (VARDA) ALARM',\n",
       " 'CT_PROACTIVE (OFFICER INITIATED)',\n",
       " 'CT_SCHEDULED EVENT (RECURRING)',\n",
       " 'CT_TELEPHONE OTHER, NOT 911',\n",
       " 'CT_TEXT MESSAGE',\n",
       " 'ICT_Aggressive Panhandling',\n",
       " 'ICT_Alarm',\n",
       " 'ICT_Animal - Dangerous / Bite',\n",
       " 'ICT_Assault',\n",
       " 'ICT_Assigned Duty',\n",
       " 'ICT_Assisting other agencies',\n",
       " 'ICT_Auto Recovery',\n",
       " 'ICT_Behavioral / Emotional Crisis',\n",
       " 'ICT_Casualty',\n",
       " 'ICT_Check for Person Down',\n",
       " 'ICT_Child Abuse',\n",
       " 'ICT_DUI - Driving While Under the Influence',\n",
       " 'ICT_Damaged Property',\n",
       " 'ICT_Deadly Weapon - No Assault',\n",
       " 'ICT_Disturbance',\n",
       " 'ICT_Domestic Violence',\n",
       " 'ICT_Eluding Police',\n",
       " 'ICT_Explosion / Arson',\n",
       " 'ICT_Follow up',\n",
       " 'ICT_Fraud',\n",
       " 'ICT_Gambling',\n",
       " 'ICT_Harassment',\n",
       " 'ICT_Hazard - immediate threat',\n",
       " 'ICT_Illegal Dumping',\n",
       " 'ICT_Injuries from Industrial Accidents',\n",
       " 'ICT_Lewd Conduct',\n",
       " 'ICT_Liquor Violations',\n",
       " 'ICT_Missing Person',\n",
       " 'ICT_Motor Vehicle Collision',\n",
       " 'ICT_Moving Violation',\n",
       " 'ICT_Narcotics',\n",
       " 'ICT_Nuisance',\n",
       " 'ICT_Overdose - Drug Related Casualty',\n",
       " 'ICT_Parking Violation',\n",
       " 'ICT_Parks Violations',\n",
       " 'ICT_Pickup Person',\n",
       " 'ICT_Police Initiated - Off Duty',\n",
       " 'ICT_Police Initiated - On Duty',\n",
       " 'ICT_Predictive Policing',\n",
       " 'ICT_Property lost or found',\n",
       " 'ICT_Prostitution',\n",
       " 'ICT_Rape',\n",
       " 'ICT_Request for Detox',\n",
       " 'ICT_Request to Watch / Ensure Peace',\n",
       " 'ICT_Road Rage',\n",
       " 'ICT_Robbery',\n",
       " 'ICT_Shots heard',\n",
       " 'ICT_Sleeper Aboard Public Transit',\n",
       " 'ICT_Suicidal person or attempts',\n",
       " 'ICT_Suspicious person, vehicle, incident',\n",
       " 'ICT_Threats',\n",
       " 'ICT_Trespass',\n",
       " 'ICT_Violation of Court Order (Not Domestic Violence)',\n",
       " 'ICT_Welfare Check',\n",
       " 'dow_0',\n",
       " 'dow_1',\n",
       " 'dow_2',\n",
       " 'dow_3',\n",
       " 'dow_4',\n",
       " 'dow_5',\n",
       " 'dow_6',\n",
       " 'month_1',\n",
       " 'month_2',\n",
       " 'month_3',\n",
       " 'month_4',\n",
       " 'month_5',\n",
       " 'month_6',\n",
       " 'month_7',\n",
       " 'month_8',\n",
       " 'month_9',\n",
       " 'month_10',\n",
       " 'month_11',\n",
       " 'month_12',\n",
       " 'sin_hour2',\n",
       " 'cos_hour2']"
      ]
     },
     "execution_count": 91,
     "metadata": {},
     "output_type": "execute_result"
    }
   ],
   "source": [
    "sampleall.drop(['SG_Not Specified',\"SR_Not Specified\", \"CT_FK ERROR\", \"S_99\", \"P_UNKNOWN\"], axis=1, inplace=True)\n"
   ]
  },
  {
   "cell_type": "code",
   "execution_count": 92,
   "metadata": {},
   "outputs": [],
   "source": [
    "\n",
    "sampleall.drop([  \"B_99\", \"B_CCD\",\"B_CD\", \"B_CDD\",\n",
    "               \"B_CMD\", \"B_CMD2\", \"B_COMM\", \"B_CS\",\"B_CTY\", \"B_DBB\", \"B_DBD\", \"B_DCC\", \"B_DET\", \"B_DS\", \"B_DSPVD\",\n",
    "                \"B_E\", \"B_EP\", \"B_ED\", \"B_ES\", \"B_GS\", \"B_HS\", \"B_INV\", \"B_LAPT\",  \"B_N\", \"B_ODD\", \"B_OS\", \"B_S\", \n",
    "                \"B_SCTR1\", \"B_SD\", \"B_SP\",\"B_JS\",\"B_SPCT\", \"B_SOUTH\",  \"B_KS\", \"B_LS\",\"B_MS\", \"B_ND\", \"B_NP\", \"B_NS\", \"B_OD\", \"B_QS\", \n",
    "               \"B_SPVD\", \"B_SPVDD\", \"B_SW\", \"B_SS\", \"B_SWT\", \"B_T\", \"B_TAC2\", \"B_TAC3\", \"B_TQ\", \"B_TRF\", \"B_W\", \"B_US\",\"B_W\",  \"B_WD\", \n",
    "               \"B_WP\", \"B_WS\", \"B_XDD\"], axis=1, inplace=True)\n"
   ]
  },
  {
   "cell_type": "code",
   "execution_count": 94,
   "metadata": {},
   "outputs": [
    {
     "data": {
      "text/plain": [
       "['Force_Level',\n",
       " 'P_EAST',\n",
       " 'P_NORTH',\n",
       " 'P_SOUTH',\n",
       " 'P_SOUTHWEST',\n",
       " 'P_WEST',\n",
       " 'S_BOY',\n",
       " 'S_CHARLIE',\n",
       " 'S_DAVID',\n",
       " 'S_EDWARD',\n",
       " 'S_FRANK',\n",
       " 'S_GEORGE',\n",
       " 'S_JOHN',\n",
       " 'S_KING',\n",
       " 'S_LINCOLN',\n",
       " 'S_MARY',\n",
       " 'S_NORA',\n",
       " 'S_OCEAN',\n",
       " 'S_QUEEN',\n",
       " 'S_ROBERT',\n",
       " 'S_SAM',\n",
       " 'S_UNION',\n",
       " 'S_WILLIAM',\n",
       " 'B_B1',\n",
       " 'B_B2',\n",
       " 'B_B3',\n",
       " 'B_BS',\n",
       " 'B_C1',\n",
       " 'B_C2',\n",
       " 'B_C3',\n",
       " 'B_D1',\n",
       " 'B_D2',\n",
       " 'B_D3',\n",
       " 'B_E1',\n",
       " 'B_E2',\n",
       " 'B_E3',\n",
       " 'B_F1',\n",
       " 'B_F2',\n",
       " 'B_F3',\n",
       " 'B_FS',\n",
       " 'B_G1',\n",
       " 'B_G2',\n",
       " 'B_G3',\n",
       " 'B_H2',\n",
       " 'B_H3',\n",
       " 'B_J1',\n",
       " 'B_J2',\n",
       " 'B_J3',\n",
       " 'B_K1',\n",
       " 'B_K2',\n",
       " 'B_K3',\n",
       " 'B_L1',\n",
       " 'B_L2',\n",
       " 'B_L3',\n",
       " 'B_M1',\n",
       " 'B_M2',\n",
       " 'B_M3',\n",
       " 'B_N1',\n",
       " 'B_N2',\n",
       " 'B_N3',\n",
       " 'B_O1',\n",
       " 'B_O2',\n",
       " 'B_O3',\n",
       " 'B_Q1',\n",
       " 'B_Q2',\n",
       " 'B_Q3',\n",
       " 'B_R1',\n",
       " 'B_R2',\n",
       " 'B_R3',\n",
       " 'B_RS',\n",
       " 'B_S1',\n",
       " 'B_S2',\n",
       " 'B_S3',\n",
       " 'B_U1',\n",
       " 'B_U2',\n",
       " 'B_U3',\n",
       " 'B_W1',\n",
       " 'B_W2',\n",
       " 'B_W3',\n",
       " 'SG_Female',\n",
       " 'SG_Male',\n",
       " 'SR_American Indian/Alaska Native',\n",
       " 'SR_Asian',\n",
       " 'SR_Black or African American',\n",
       " 'SR_Hispanic or Latino',\n",
       " 'SR_Nat Hawaiian/Oth Pac Islander',\n",
       " 'SR_White',\n",
       " 'CT_911',\n",
       " 'CT_ALARM CALL (NOT POLICE ALARM)',\n",
       " 'CT_IN PERSON COMPLAINT',\n",
       " 'CT_ONVIEW',\n",
       " 'CT_POLICE (VARDA) ALARM',\n",
       " 'CT_PROACTIVE (OFFICER INITIATED)',\n",
       " 'CT_SCHEDULED EVENT (RECURRING)',\n",
       " 'CT_TELEPHONE OTHER, NOT 911',\n",
       " 'CT_TEXT MESSAGE',\n",
       " 'ICT_Aggressive Panhandling',\n",
       " 'ICT_Alarm',\n",
       " 'ICT_Animal - Dangerous / Bite',\n",
       " 'ICT_Assault',\n",
       " 'ICT_Assigned Duty',\n",
       " 'ICT_Assisting other agencies',\n",
       " 'ICT_Auto Recovery',\n",
       " 'ICT_Behavioral / Emotional Crisis',\n",
       " 'ICT_Casualty',\n",
       " 'ICT_Check for Person Down',\n",
       " 'ICT_Child Abuse',\n",
       " 'ICT_DUI - Driving While Under the Influence',\n",
       " 'ICT_Damaged Property',\n",
       " 'ICT_Deadly Weapon - No Assault',\n",
       " 'ICT_Disturbance',\n",
       " 'ICT_Domestic Violence',\n",
       " 'ICT_Eluding Police',\n",
       " 'ICT_Explosion / Arson',\n",
       " 'ICT_Follow up',\n",
       " 'ICT_Fraud',\n",
       " 'ICT_Gambling',\n",
       " 'ICT_Harassment',\n",
       " 'ICT_Hazard - immediate threat',\n",
       " 'ICT_Illegal Dumping',\n",
       " 'ICT_Injuries from Industrial Accidents',\n",
       " 'ICT_Lewd Conduct',\n",
       " 'ICT_Liquor Violations',\n",
       " 'ICT_Missing Person',\n",
       " 'ICT_Motor Vehicle Collision',\n",
       " 'ICT_Moving Violation',\n",
       " 'ICT_Narcotics',\n",
       " 'ICT_Nuisance',\n",
       " 'ICT_Overdose - Drug Related Casualty',\n",
       " 'ICT_Parking Violation',\n",
       " 'ICT_Pickup Person',\n",
       " 'ICT_Police Initiated - Off Duty',\n",
       " 'ICT_Police Initiated - On Duty',\n",
       " 'ICT_Predictive Policing',\n",
       " 'ICT_Property lost or found',\n",
       " 'ICT_Prostitution',\n",
       " 'ICT_Rape',\n",
       " 'ICT_Request for Detox',\n",
       " 'ICT_Request to Watch / Ensure Peace',\n",
       " 'ICT_Road Rage',\n",
       " 'ICT_Robbery',\n",
       " 'ICT_Shots heard',\n",
       " 'ICT_Sleeper Aboard Public Transit',\n",
       " 'ICT_Suicidal person or attempts',\n",
       " 'ICT_Suspicious person, vehicle, incident',\n",
       " 'ICT_Threats',\n",
       " 'ICT_Trespass',\n",
       " 'ICT_Violation of Court Order (Not Domestic Violence)',\n",
       " 'ICT_Welfare Check',\n",
       " 'dow_0',\n",
       " 'dow_1',\n",
       " 'dow_2',\n",
       " 'dow_3',\n",
       " 'dow_4',\n",
       " 'dow_5',\n",
       " 'dow_6',\n",
       " 'month_1',\n",
       " 'month_2',\n",
       " 'month_3',\n",
       " 'month_4',\n",
       " 'month_5',\n",
       " 'month_6',\n",
       " 'month_7',\n",
       " 'month_8',\n",
       " 'month_9',\n",
       " 'month_10',\n",
       " 'month_11',\n",
       " 'month_12',\n",
       " 'sin_hour2',\n",
       " 'cos_hour2']"
      ]
     },
     "execution_count": 94,
     "metadata": {},
     "output_type": "execute_result"
    }
   ],
   "source": [
    "sampleall.drop([\"B_DSPV\", \"B_HBR\", \"B_TAC9\", 'CT_HISTORY CALL (RETRO)','ICT_Parks Violations' ], axis=1, inplace=True)\n",
    "list(sampleall.columns)"
   ]
  },
  {
   "cell_type": "code",
   "execution_count": 96,
   "metadata": {},
   "outputs": [],
   "source": [
    "sampleall.to_pickle()"
   ]
  },
  {
   "cell_type": "code",
   "execution_count": 5,
   "metadata": {},
   "outputs": [],
   "source": [
    "sampleall = pd.read_pickle(\"data/df_ready_to_split_to_X_y_no_day.pkl\")\n",
    "\n",
    "sa = sampleall.copy(deep=True)\n",
    "\n",
    "X = sampleall.drop(\"Force_Level\", axis=1)\n",
    "y = sampleall.Force_Level\n",
    "\n",
    "cols = X.columns"
   ]
  },
  {
   "cell_type": "code",
   "execution_count": 8,
   "metadata": {},
   "outputs": [],
   "source": [
    "# will need to change nm2 to X_scaled if we use this later - X_scaled hung and never finished (~10minutes)\n",
    "\n",
    "X_train, X_test, y_train, y_test = train_test_split(X, y, test_size=0.2, random_state=659)\n",
    "\n"
   ]
  },
  {
   "cell_type": "code",
   "execution_count": 104,
   "metadata": {},
   "outputs": [],
   "source": [
    "# logistic regression\n",
    "\n",
    "'''logr = LogisticRegression(random_state=659, solver=\"saga\", n_jobs=-1, multi_class ='multinomial')\n",
    "logr.fit(X_train, y_train)\n",
    "\n",
    "with open('logr_model.pkl', 'wb') as my_pickle:\n",
    "        pickle.dump(logr, my_pickle)\n",
    "'''"
   ]
  },
  {
   "cell_type": "code",
   "execution_count": 88,
   "metadata": {},
   "outputs": [],
   "source": [
    "logr = pickle.load(open('logr_model.pkl', 'rb'))\n",
    "gbc1 = pickle.load(open('gbclrpoint1n_estimators100_model.pkl', 'rb'))\n",
    "gbr1 = pickle.load(open('gbrbasic.pkl', 'rb'))\n",
    "clf = pickle.load(open('clf_model.pkl', 'rb'))"
   ]
  },
  {
   "cell_type": "code",
   "execution_count": 53,
   "metadata": {},
   "outputs": [],
   "source": [
    "logr_pp = logr.predict_proba(X_test)\n",
    "logr_yhat = logr.predict(X_test)\n",
    "logr_score = logr.score(X_test, y_test)"
   ]
  },
  {
   "cell_type": "code",
   "execution_count": 315,
   "metadata": {},
   "outputs": [],
   "source": [
    "# looking at coefs in logistic regression model"
   ]
  },
  {
   "cell_type": "code",
   "execution_count": 10,
   "metadata": {},
   "outputs": [],
   "source": [
    "cols_enumerate = list(enumerate(X.columns))\n",
    "cols = X.columns"
   ]
  },
  {
   "cell_type": "code",
   "execution_count": 16,
   "metadata": {},
   "outputs": [],
   "source": [
    "four = logr.coef_[4]\n",
    "three = logr.coef_[3]\n",
    "two = logr.coef_[2]\n",
    "one = logr.coef_[1]\n",
    "zero = logr.coef_[0]\n",
    "four_coefs = list(zip(four, cols_enumerate))\n",
    "three_coefs = list(zip(three, cols_enumerate))\n",
    "two_coefs = list(zip(two, cols_enumerate))\n",
    "one_coefs = list(zip(one, cols_enumerate))\n",
    "zero_coefs = list(zip(zero, cols_enumerate))"
   ]
  },
  {
   "cell_type": "code",
   "execution_count": 21,
   "metadata": {},
   "outputs": [],
   "source": [
    "# logistic regression\n",
    "\n",
    "sorted(four_coefs, reverse=True)\n",
    "\n",
    "lst_coefs = [four_coefs, three_coefs, two_coefs, one_coefs, zero_coefs]\n",
    "top_coefs = []\n",
    "for co in lst_coefs:\n",
    "    co = sorted(co, reverse=True)\n",
    "    top_coefs.append( co[:10] )"
   ]
  },
  {
   "cell_type": "code",
   "execution_count": 28,
   "metadata": {},
   "outputs": [
    {
     "data": {
      "text/plain": [
       "(['SR_White',\n",
       "  'ICT_Shots heard',\n",
       "  'SR_Asian',\n",
       "  'ICT_Suicidal person or attempts',\n",
       "  'B_U3',\n",
       "  'B_K1',\n",
       "  'month_12',\n",
       "  'ICT_Deadly Weapon - No Assault',\n",
       "  'SG_Male',\n",
       "  'SR_Black or African American'],\n",
       " [85, 140, 81, 142, 74, 47, 166, 108, 79, 82])"
      ]
     },
     "execution_count": 28,
     "metadata": {},
     "output_type": "execute_result"
    }
   ],
   "source": [
    "# logistic regression\n",
    "# four three two one zero\n",
    "\n",
    "\n",
    "top_coefs_all = []\n",
    "for f in top_coefs:\n",
    "    for g in f:\n",
    "        top_coefs_all.append(g[1][1])\n",
    "        \n",
    "top_coefs_cols = []\n",
    "for f in top_coefs:\n",
    "    for g in f:\n",
    "        top_coefs_cols.append(g[1][0])\n",
    "        \n",
    "logr_top_col_names = top_coefs_all[:10]\n",
    "logr_top_cols = top_coefs_cols[:10]\n",
    "        \n",
    "        \n",
    "top_coefs_cols[:4]\n",
    "top_coefs_all[:10], top_coefs_cols[:10]"
   ]
  },
  {
   "cell_type": "code",
   "execution_count": 25,
   "metadata": {},
   "outputs": [
    {
     "data": {
      "text/plain": [
       "[(1.6767346681397446, (85, 'SR_White')),\n",
       " (1.6152670640792257, (140, 'ICT_Shots heard')),\n",
       " (1.5301877259963237, (81, 'SR_Asian')),\n",
       " (1.4954892735629393, (142, 'ICT_Suicidal person or attempts')),\n",
       " (1.3942819570825808, (74, 'B_U3')),\n",
       " (1.3921649209755291, (47, 'B_K1')),\n",
       " (1.3828644025854748, (166, 'month_12')),\n",
       " (1.3635890271388766, (108, 'ICT_Deadly Weapon - No Assault')),\n",
       " (1.3610193042744534, (79, 'SG_Male')),\n",
       " (1.155565797895684, (82, 'SR_Black or African American')),\n",
       " (1.1208727214965566, (70, 'B_S2')),\n",
       " (1.0125297103267463, (64, 'B_Q3')),\n",
       " (0.8768692434260649, (157, 'month_3')),\n",
       " (0.8560736900763873, (149, 'dow_1')),\n",
       " (0.7984712152990631, (78, 'SG_Female')),\n",
       " (0.796017216431084, (143, 'ICT_Suspicious person, vehicle, incident')),\n",
       " (0.7914601679220115, (24, 'B_B3')),\n",
       " (0.7667027932313685, (20, 'S_UNION')),\n",
       " (0.6822006930480309, (32, 'B_E1')),\n",
       " (0.6703335228907668, (62, 'B_Q1')),\n",
       " (0.6586221926477522, (31, 'B_D3')),\n",
       " (0.5897017204381643, (168, 'cos_hour2')),\n",
       " (0.5845551042224858, (36, 'B_F2')),\n",
       " (0.5586495874500434, (72, 'B_U1')),\n",
       " (0.5501120557810023, (144, 'ICT_Threats')),\n",
       " (0.4969332453700846, (19, 'S_SAM')),\n",
       " (0.4876983944552365, (67, 'B_R3')),\n",
       " (0.450053400957885, (154, 'dow_6')),\n",
       " (0.43866281094964077, (113, 'ICT_Follow up')),\n",
       " (0.42549545868628064, (128, 'ICT_Parking Violation')),\n",
       " (0.4167663793119405, (41, 'B_G3')),\n",
       " (0.4143490041407553, (123, 'ICT_Motor Vehicle Collision')),\n",
       " (0.4072372999305527, (139, 'ICT_Robbery')),\n",
       " (0.3620303924665941, (150, 'dow_2')),\n",
       " (0.33268321297282666, (100, 'ICT_Assisting other agencies')),\n",
       " (0.32743587459633505, (89, 'CT_ONVIEW')),\n",
       " (0.2217330527798145, (86, 'CT_911')),\n",
       " (0.2172859201460002, (164, 'month_10')),\n",
       " (0.19632021137830563, (17, 'S_QUEEN')),\n",
       " (0.1623537930515231, (161, 'month_7')),\n",
       " (0.14955211106542385, (10, 'S_GEORGE')),\n",
       " (0.03163463243087084, (69, 'B_S1')),\n",
       " (0.010881736897558504, (49, 'B_K3')),\n",
       " (0.00619884454110454, (5, 'S_BOY')),\n",
       " (-3.030980558946661e-06, (42, 'B_H2')),\n",
       " (-5.802278044795503e-06, (91, 'CT_PROACTIVE (OFFICER INITIATED)')),\n",
       " (-6.454143024658938e-06, (92, 'CT_SCHEDULED EVENT (RECURRING)')),\n",
       " (-1.3218603291374005e-05, (88, 'CT_IN PERSON COMPLAINT')),\n",
       " (-7.693905634339725e-05, (25, 'B_BS')),\n",
       " (-8.568694929629663e-05, (115, 'ICT_Gambling')),\n",
       " (-0.00010803531662725933, (94, 'CT_TEXT MESSAGE')),\n",
       " (-0.00012441916698745228, (38, 'B_FS')),\n",
       " (-0.00015096305796805074, (43, 'B_H3')),\n",
       " (-0.00024287139497274968, (68, 'B_RS')),\n",
       " (-0.00033726794389325846, (90, 'CT_POLICE (VARDA) ALARM')),\n",
       " (-0.0017949003307349864, (141, 'ICT_Sleeper Aboard Public Transit')),\n",
       " (-0.0028007569407878263, (103, 'ICT_Casualty')),\n",
       " (-0.008008895227501006, (97, 'ICT_Animal - Dangerous / Bite')),\n",
       " (-0.010883692532362559,\n",
       "  (146, 'ICT_Violation of Court Order (Not Domestic Violence)')),\n",
       " (-0.01142857731599963, (111, 'ICT_Eluding Police')),\n",
       " (-0.012200298372989117, (119, 'ICT_Injuries from Industrial Accidents')),\n",
       " (-0.012558207485485253, (135, 'ICT_Rape')),\n",
       " (-0.016193362168106372, (98, 'ICT_Assault')),\n",
       " (-0.018845745322536214, (160, 'month_6')),\n",
       " (-0.025872036363775684, (116, 'ICT_Harassment')),\n",
       " (-0.026322916602680924, (132, 'ICT_Predictive Policing')),\n",
       " (-0.02965725017636879, (136, 'ICT_Request for Detox')),\n",
       " (-0.031629760369205236, (138, 'ICT_Road Rage')),\n",
       " (-0.033366905570138994, (105, 'ICT_Child Abuse')),\n",
       " (-0.033759189089646105, (109, 'ICT_Disturbance')),\n",
       " (-0.037079920378921605, (106, 'ICT_DUI - Driving While Under the Influence')),\n",
       " (-0.041766275976861805, (127, 'ICT_Overdose - Drug Related Casualty')),\n",
       " (-0.04350850039601008, (134, 'ICT_Prostitution')),\n",
       " (-0.05720455740256361, (153, 'dow_5')),\n",
       " (-0.05732899083153399, (37, 'B_F3')),\n",
       " (-0.05747750719116232, (120, 'ICT_Lewd Conduct')),\n",
       " (-0.062338672730530925, (95, 'ICT_Aggressive Panhandling')),\n",
       " (-0.06842580112894757, (122, 'ICT_Missing Person')),\n",
       " (-0.07013487325713828, (118, 'ICT_Illegal Dumping')),\n",
       " (-0.07469642884609114, (137, 'ICT_Request to Watch / Ensure Peace')),\n",
       " (-0.07938857238150636, (133, 'ICT_Property lost or found')),\n",
       " (-0.08119818971927148, (163, 'month_9')),\n",
       " (-0.08264634888041991, (56, 'B_N1')),\n",
       " (-0.08985071417612082, (112, 'ICT_Explosion / Arson')),\n",
       " (-0.09277180715156343, (46, 'B_J3')),\n",
       " (-0.09435271519528247, (52, 'B_L3')),\n",
       " (-0.10475946145552141, (28, 'B_C3')),\n",
       " (-0.10661021444371206, (61, 'B_O3')),\n",
       " (-0.10662451599646514, (27, 'B_C2')),\n",
       " (-0.1097744544255827, (35, 'B_F1')),\n",
       " (-0.11235512154285011, (114, 'ICT_Fraud')),\n",
       " (-0.13789430202581834, (76, 'B_W2')),\n",
       " (-0.1381461237378404, (39, 'B_G1')),\n",
       " (-0.14018213865730916, (26, 'B_C1')),\n",
       " (-0.1461928942351873, (162, 'month_8')),\n",
       " (-0.1485084000937131, (60, 'B_O2')),\n",
       " (-0.1515153021596005, (75, 'B_W1')),\n",
       " (-0.1562144228396678, (7, 'S_DAVID')),\n",
       " (-0.1584729834360729, (45, 'B_J2')),\n",
       " (-0.15870416035464183, (44, 'B_J1')),\n",
       " (-0.16331301664393466, (121, 'ICT_Liquor Violations')),\n",
       " (-0.17030131501202747, (84, 'SR_Nat Hawaiian/Oth Pac Islander')),\n",
       " (-0.18293098587960516, (34, 'B_E3')),\n",
       " (-0.18747817566088273, (40, 'B_G2')),\n",
       " (-0.18805838878030864, (158, 'month_4')),\n",
       " (-0.19039499011860184, (80, 'SR_American Indian/Alaska Native')),\n",
       " (-0.19509499401521285, (130, 'ICT_Police Initiated - Off Duty')),\n",
       " (-0.2022986024039694, (125, 'ICT_Narcotics')),\n",
       " (-0.21078564259974142, (51, 'B_L2')),\n",
       " (-0.21553327170382328, (53, 'B_M1')),\n",
       " (-0.2159817051071843, (147, 'ICT_Welfare Check')),\n",
       " (-0.2166785993527981, (54, 'B_M2')),\n",
       " (-0.21808929592524814, (107, 'ICT_Damaged Property')),\n",
       " (-0.22104394119921625, (50, 'B_L1')),\n",
       " (-0.22359142437595542, (151, 'dow_3')),\n",
       " (-0.22380290913350337, (104, 'ICT_Check for Person Down')),\n",
       " (-0.24295375067740388, (73, 'B_U2')),\n",
       " (-0.2465177077060565, (57, 'B_N2')),\n",
       " (-0.2536498479143865, (117, 'ICT_Hazard - immediate threat')),\n",
       " (-0.2581752289055114, (129, 'ICT_Pickup Person')),\n",
       " (-0.27089496469618013, (93, 'CT_TELEPHONE OTHER, NOT 911')),\n",
       " (-0.28134738871657183, (83, 'SR_Hispanic or Latino')),\n",
       " (-0.2861905923575446, (77, 'B_W3')),\n",
       " (-0.2966034555496489, (63, 'B_Q2')),\n",
       " (-0.2973195260338607, (167, 'sin_hour2')),\n",
       " (-0.29826509538277113, (87, 'CT_ALARM CALL (NOT POLICE ALARM)')),\n",
       " (-0.29838665721009716, (12, 'S_KING')),\n",
       " (-0.30323994364346796, (126, 'ICT_Nuisance')),\n",
       " (-0.3082104294805812, (99, 'ICT_Assigned Duty')),\n",
       " (-0.3099222875205479, (148, 'dow_0')),\n",
       " (-0.31252219472644355, (59, 'B_O1')),\n",
       " (-0.3178852664122871, (6, 'S_CHARLIE')),\n",
       " (-0.32822767800858027, (96, 'ICT_Alarm')),\n",
       " (-0.34585417561444465, (21, 'S_WILLIAM')),\n",
       " (-0.34619454726193744, (58, 'B_N3')),\n",
       " (-0.36743754242441784, (102, 'ICT_Behavioral / Emotional Crisis')),\n",
       " (-0.3731267332400644, (33, 'B_E2')),\n",
       " (-0.3821777074342765, (11, 'S_JOHN')),\n",
       " (-0.3994647516812537, (156, 'month_2')),\n",
       " (-0.40112820581401154, (23, 'B_B2')),\n",
       " (-0.40201889312970607, (65, 'B_R1')),\n",
       " (-0.4070159973024162, (110, 'ICT_Domestic Violence')),\n",
       " (-0.4154104792819067, (30, 'B_D2')),\n",
       " (-0.44273143486545785, (124, 'ICT_Moving Violation')),\n",
       " (-0.45781584396714403, (22, 'B_B1')),\n",
       " (-0.45933680584961883, (13, 'S_LINCOLN')),\n",
       " (-0.46319108094909006, (55, 'B_M3')),\n",
       " (-0.46504864501980214, (101, 'ICT_Auto Recovery')),\n",
       " (-0.4731148231239732, (165, 'month_11')),\n",
       " (-0.5048227058996919, (18, 'S_ROBERT')),\n",
       " (-0.5188146518625737, (16, 'S_OCEAN')),\n",
       " (-0.5197138464616807, (9, 'S_FRANK')),\n",
       " (-0.5210378466578741, (29, 'B_D1')),\n",
       " (-0.5305883170522264, (145, 'ICT_Trespass')),\n",
       " (-0.5436171754941492, (159, 'month_5')),\n",
       " (-0.5540268259317639, (48, 'B_K2')),\n",
       " (-0.5807620957347348, (1, 'P_NORTH')),\n",
       " (-0.6340124771650394, (15, 'S_NORA')),\n",
       " (-0.6485673693335076, (2, 'P_SOUTH')),\n",
       " (-0.6531524359245133, (66, 'B_R2')),\n",
       " (-0.7034040189959582, (14, 'S_MARY')),\n",
       " (-0.75274436624465, (71, 'B_S3')),\n",
       " (-0.8117126556417181, (155, 'month_1')),\n",
       " (-0.8655680220760656, (3, 'P_SOUTHWEST')),\n",
       " (-0.8740124813580438, (131, 'ICT_Police Initiated - On Duty')),\n",
       " (-0.9411134850874523, (8, 'S_EDWARD')),\n",
       " (-0.9616848876674899, (4, 'P_WEST')),\n",
       " (-1.10027047899115, (152, 'dow_4')),\n",
       " (-1.1094466404344472, (0, 'P_EAST'))]"
      ]
     },
     "execution_count": 25,
     "metadata": {},
     "output_type": "execute_result"
    }
   ],
   "source": [
    "sorted(four_coefs, reverse=True)"
   ]
  },
  {
   "cell_type": "code",
   "execution_count": 170,
   "metadata": {},
   "outputs": [
    {
     "data": {
      "image/png": "[encoded data removed]",
      "text/plain": [
       "<Figure size 432x288 with 1 Axes>"
      ]
     },
     "metadata": {
      "needs_background": "light"
     },
     "output_type": "display_data"
    }
   ],
   "source": [
    "# logistic regression\n",
    "# partial dependency plots\n",
    "\n",
    "#for col in top_coefs_cols:\n",
    "#features = top_coefs_cols[-5:]\n",
    "features = [(85,140) ]\n",
    "plot_partial_dependence(logr, X_train, features, target=4, n_jobs=-1, grid_resolution= 5) \n",
    "\n"
   ]
  },
  {
   "cell_type": "code",
   "execution_count": 214,
   "metadata": {},
   "outputs": [
    {
     "data": {
      "image/png": "[encoded data removed]",
      "text/plain": [
       "<Figure size 432x288 with 1 Axes>"
      ]
     },
     "metadata": {
      "needs_background": "light"
     },
     "output_type": "display_data"
    },
    {
     "data": {
      "image/png": "[encoded data removed]",
      "text/plain": [
       "<Figure size 432x288 with 1 Axes>"
      ]
     },
     "metadata": {
      "needs_background": "light"
     },
     "output_type": "display_data"
    },
    {
     "data": {
      "image/png": "[encoded data removed]",
      "text/plain": [
       "<Figure size 432x288 with 1 Axes>"
      ]
     },
     "metadata": {
      "needs_background": "light"
     },
     "output_type": "display_data"
    }
   ],
   "source": [
    "# logistic regression\n",
    "\n",
    "features = [(85,140) ]\n",
    "plot_partial_dependence(logr, X_train, features, target=3, n_jobs=-1, grid_resolution= 5) \n",
    "features = [(85,140) ]\n",
    "plot_partial_dependence(logr, X_train, features, target=2, n_jobs=-1, grid_resolution= 5) \n",
    "features = [(85,140) ]\n",
    "plot_partial_dependence(logr, X_train, features, target=1, n_jobs=-1, grid_resolution= 5) "
   ]
  },
  {
   "cell_type": "code",
   "execution_count": 297,
   "metadata": {},
   "outputs": [],
   "source": [
    "# gradient boosted classifier\n",
    "\n",
    "gbc2 = GradientBoostingClassifier(loss='deviance', learning_rate=0.01, n_estimators=1000,\n",
    "                                random_state=659, verbose=1)"
   ]
  },
  {
   "cell_type": "code",
   "execution_count": 306,
   "metadata": {},
   "outputs": [],
   "source": [
    "# %timeit\n",
    "#gbc2.fit(X_train, y_train) - after 7 hours - still had 20 to go"
   ]
  },
  {
   "cell_type": "code",
   "execution_count": null,
   "metadata": {},
   "outputs": [],
   "source": [
    "# with open('gbclrpoint01n_estimators1000_model.pkl', 'wb') as my_pickle:\n",
    "#        pickle.dump(gbc2, my_pickle)"
   ]
  },
  {
   "cell_type": "code",
   "execution_count": 339,
   "metadata": {},
   "outputs": [],
   "source": [
    "# logistic regression num in predicted classes, log loss of classes\n",
    "# weight them based on cost of mis-predicting 0 as 4 bad 0 as 1 meh\n",
    "def predicted_proba_metrics(ytest, xtest, model, class_labels):\n",
    "    # takes fit model\n",
    "    pp_class = []\n",
    "    p_prob = model.predict_proba(xtest)\n",
    "    yhat = model.predict(xtest)\n",
    "    for num in model.classes_:\n",
    "        print(f\"for class {num} y:{len(ytest[ytest == num])} y_hat: {len(yhat[yhat == num])}\")\n",
    "        pp_class.append(p_prob[ytest == num])\n",
    "\n",
    "    class_loss = []\n",
    "    for num , probs in zip(model.classes_, pp_class):\n",
    "        loss = log_loss((ytest[ytest == num]),probs, labels=class_labels)\n",
    "        class_loss.append(loss)\n",
    "        print(f\"class {num} has log loss of {np.round(loss, 4)}\")       \n",
    "\n",
    "    logr_logloss = log_loss(y_test, p_prob)\n",
    "    print(f\"overall log loss: {logr_logloss}\")\n",
    "    return class_loss"
   ]
  },
  {
   "cell_type": "code",
   "execution_count": 78,
   "metadata": {},
   "outputs": [
    {
     "data": {
      "text/plain": [
       "numpy.ndarray"
      ]
     },
     "execution_count": 78,
     "metadata": {},
     "output_type": "execute_result"
    }
   ],
   "source": [
    "type(logr.predict_proba(X_test))"
   ]
  },
  {
   "cell_type": "code",
   "execution_count": 301,
   "metadata": {},
   "outputs": [],
   "source": [
    "linr = LinearRegression()"
   ]
  },
  {
   "cell_type": "code",
   "execution_count": 302,
   "metadata": {},
   "outputs": [
    {
     "data": {
      "text/plain": [
       "LinearRegression(copy_X=True, fit_intercept=True, n_jobs=None, normalize=False)"
      ]
     },
     "execution_count": 302,
     "metadata": {},
     "output_type": "execute_result"
    }
   ],
   "source": [
    "#%timeit\n",
    "\n",
    "linr.fit(X_train, y_train)"
   ]
  },
  {
   "cell_type": "code",
   "execution_count": 305,
   "metadata": {},
   "outputs": [
    {
     "data": {
      "text/plain": [
       "GradientBoostingRegressor(alpha=0.9, criterion='friedman_mse', init=None,\n",
       "                          learning_rate=0.1, loss='ls', max_depth=3,\n",
       "                          max_features=None, max_leaf_nodes=None,\n",
       "                          min_impurity_decrease=0.0, min_impurity_split=None,\n",
       "                          min_samples_leaf=1, min_samples_split=2,\n",
       "                          min_weight_fraction_leaf=0.0, n_estimators=100,\n",
       "                          n_iter_no_change=None, presort='auto',\n",
       "                          random_state=None, subsample=1.0, tol=0.0001,\n",
       "                          validation_fraction=0.1, verbose=0, warm_start=False)"
      ]
     },
     "execution_count": 305,
     "metadata": {},
     "output_type": "execute_result"
    }
   ],
   "source": [
    "\n",
    "gbr = GradientBoostingRegressor()\n",
    "gbr.fit(X_train, y_train)"
   ]
  },
  {
   "cell_type": "code",
   "execution_count": 309,
   "metadata": {},
   "outputs": [
    {
     "data": {
      "text/plain": [
       "GradientBoostingRegressor(alpha=0.9, criterion='friedman_mse', init=None,\n",
       "                          learning_rate=0.01, loss='ls', max_depth=3,\n",
       "                          max_features=None, max_leaf_nodes=None,\n",
       "                          min_impurity_decrease=0.0, min_impurity_split=None,\n",
       "                          min_samples_leaf=1, min_samples_split=2,\n",
       "                          min_weight_fraction_leaf=0.0, n_estimators=100,\n",
       "                          n_iter_no_change=None, presort='auto',\n",
       "                          random_state=659, subsample=1.0, tol=0.0001,\n",
       "                          validation_fraction=0.1, verbose=0, warm_start=False)"
      ]
     },
     "execution_count": 309,
     "metadata": {},
     "output_type": "execute_result"
    }
   ],
   "source": [
    "\n",
    "gbr2 = GradientBoostingRegressor(random_state=659, learning_rate=0.01)\n",
    "gbr2.fit(X_train, y_train)"
   ]
  },
  {
   "cell_type": "code",
   "execution_count": 310,
   "metadata": {},
   "outputs": [],
   "source": [
    "'''with open('gbrbasic.pkl', 'wb') as my_pickle:\n",
    "        pickle.dump(gbr, my_pickle)\n",
    "with open('gbr_lr_01.pkl', 'wb') as my_pickle:\n",
    "        pickle.dump(gbr2, my_pickle)'''"
   ]
  },
  {
   "cell_type": "code",
   "execution_count": 340,
   "metadata": {},
   "outputs": [
    {
     "name": "stdout",
     "output_type": "stream",
     "text": [
      "for class 0 y:407098 y_hat: 407126\n",
      "for class 1 y:1794 y_hat: 2262\n",
      "for class 2 y:589 y_hat: 128\n",
      "for class 3 y:24 y_hat: 0\n",
      "for class 4 y:19 y_hat: 8\n",
      "class 0 has log loss of 0.0001\n",
      "class 1 has log loss of 0.3265\n",
      "class 2 has log loss of 1.4532\n",
      "class 3 has log loss of 3.0654\n",
      "class 4 has log loss of 1.9887\n",
      "overall log loss: 0.003894521830373648\n"
     ]
    },
    {
     "data": {
      "text/plain": [
       "[0.00010263665088456779,\n",
       " 0.3265427110075391,\n",
       " 1.4532172330925373,\n",
       " 3.0653699086953736,\n",
       " 1.9887121638112204]"
      ]
     },
     "execution_count": 340,
     "metadata": {},
     "output_type": "execute_result"
    }
   ],
   "source": [
    "predicted_proba_metrics(y_test, X_test, logr, [0,1,2,3,4])"
   ]
  },
  {
   "cell_type": "code",
   "execution_count": 341,
   "metadata": {},
   "outputs": [
    {
     "name": "stdout",
     "output_type": "stream",
     "text": [
      "for class 0 y:407098 y_hat: 407191\n",
      "for class 1 y:1794 y_hat: 947\n",
      "for class 2 y:589 y_hat: 554\n",
      "for class 3 y:24 y_hat: 770\n",
      "for class 4 y:19 y_hat: 62\n",
      "class 0 has log loss of 0.0004\n",
      "class 1 has log loss of 19.835\n",
      "class 2 has log loss of 23.5405\n",
      "class 3 has log loss of 31.6605\n",
      "class 4 has log loss of 34.5388\n",
      "overall log loss: 0.12458063362592957\n"
     ]
    },
    {
     "data": {
      "text/plain": [
       "[0.00037651295630981944,\n",
       " 19.835020659757742,\n",
       " 23.540517551342305,\n",
       " 31.66054502866814,\n",
       " 34.538776394910684]"
      ]
     },
     "execution_count": 341,
     "metadata": {},
     "output_type": "execute_result"
    }
   ],
   "source": [
    "predicted_proba_metrics(y_test, X_test, gbc1, [0,1,2,3,4])"
   ]
  },
  {
   "cell_type": "code",
   "execution_count": 352,
   "metadata": {},
   "outputs": [
    {
     "name": "stdout",
     "output_type": "stream",
     "text": [
      "for class 0 y:407098 y_hat: 409522\n",
      "for class 1 y:1794 y_hat: 2\n",
      "for class 2 y:589 y_hat: 0\n",
      "for class 3 y:24 y_hat: 0\n",
      "for class 4 y:19 y_hat: 0\n",
      "class 0 has log loss of 0.0033\n",
      "class 1 has log loss of 1.1459\n",
      "class 2 has log loss of 2.2204\n",
      "class 3 has log loss of 4.7708\n",
      "class 4 has log loss of 4.6329\n",
      "overall log loss: 0.011982994366389277\n"
     ]
    },
    {
     "data": {
      "text/plain": [
       "[0.003294532932389014,\n",
       " 1.1459081863861342,\n",
       " 2.220445775756719,\n",
       " 4.770830438290839,\n",
       " 4.632854651320371]"
      ]
     },
     "execution_count": 352,
     "metadata": {},
     "output_type": "execute_result"
    }
   ],
   "source": [
    "predicted_proba_metrics(y_test, X_test, clf, [0,1,2,3,4])"
   ]
  },
  {
   "cell_type": "code",
   "execution_count": 50,
   "metadata": {},
   "outputs": [
    {
     "name": "stdout",
     "output_type": "stream",
     "text": [
      "(79, 'SG_Male')\n",
      "(4, 'P_WEST')\n",
      "(82, 'SR_Black or African American')\n",
      "(163, 'month_9')\n",
      "(78, 'SG_Female')\n",
      "(85, 'SR_White')\n",
      "(0, 'P_EAST')\n",
      "(74, 'B_U3')\n",
      "(168, 'cos_hour2')\n"
     ]
    }
   ],
   "source": [
    "#logr_fi = logr.feature_importances_ --> coeffs\n",
    "gbc1_fi = gbc1.feature_importances_\n",
    "\n",
    "indices = np.argsort(gbc1.feature_importances_)\n",
    "big = indices[-1:-10:-1]\n",
    "\n",
    "list(cols[big])\n",
    "\n",
    "\n",
    "test = list(zip(gbc1.feature_importances_, cols_enumerate))\n",
    "cols[big],\n",
    "\n",
    "for int in big:\n",
    "    print(cols_enumerate[int])"
   ]
  },
  {
   "cell_type": "code",
   "execution_count": 51,
   "metadata": {},
   "outputs": [
    {
     "data": {
      "text/plain": [
       "(['SR_White',\n",
       "  'ICT_Shots heard',\n",
       "  'SR_Asian',\n",
       "  'ICT_Suicidal person or attempts',\n",
       "  'B_U3',\n",
       "  'B_K1',\n",
       "  'month_12',\n",
       "  'ICT_Deadly Weapon - No Assault',\n",
       "  'SG_Male',\n",
       "  'SR_Black or African American'],\n",
       " [85, 140, 81, 142, 74, 47, 166, 108, 79, 82])"
      ]
     },
     "execution_count": 51,
     "metadata": {},
     "output_type": "execute_result"
    }
   ],
   "source": [
    "logr_top_col_names, logr_top_cols"
   ]
  },
  {
   "cell_type": "code",
   "execution_count": 55,
   "metadata": {},
   "outputs": [],
   "source": [
    "gbc1_yhat = gbc1.predict(X_test)"
   ]
  },
  {
   "cell_type": "code",
   "execution_count": 83,
   "metadata": {},
   "outputs": [],
   "source": [
    "new_yhats = []\n",
    "for y1, y2 in zip(logr_yhat, gbc1_yhat):\n",
    "    new_yhats.append((y1+y2)/2)"
   ]
  },
  {
   "cell_type": "code",
   "execution_count": 84,
   "metadata": {},
   "outputs": [
    {
     "data": {
      "text/plain": [
       "(list, array([1.5, 1. , 2. , 2. , 1. , 1. , 2.5, 2.5, 2.5, 3.5, 2.5, 1. , 2. ,\n",
       "        2. , 2.5, 1. , 1. , 2. , 1. ]))"
      ]
     },
     "execution_count": 84,
     "metadata": {},
     "output_type": "execute_result"
    }
   ],
   "source": [
    "mean_squared_error(y_test, new_yhats)\n",
    "indicesy = y_test[y_test == 4]\n",
    "\n",
    "type(new_yhats), np.array(new_yhats)[y_test == 4]"
   ]
  },
  {
   "cell_type": "code",
   "execution_count": 344,
   "metadata": {},
   "outputs": [
    {
     "name": "stdout",
     "output_type": "stream",
     "text": [
      "linear regression, score: 0.8484377835498818 mse: 0.0017195400307754211\n",
      "gradient boosted regression1, score: 0.8670157771196543 mse: 0.0015087645196820863\n",
      "gradient boosted regression2, score: 0.7380929555526012 mse: 0.0029714506545079505\n"
     ]
    }
   ],
   "source": [
    "linr_yhat = linr.predict(X_test)\n",
    "gbr_yhat = gbr.predict(X_test)\n",
    "gbr2_yhat = gbr2.predict(X_test)\n",
    "\n",
    "print(f\"linear regression, score: {linr.score(X_test, y_test)} mse: {mean_squared_error(y_test, linr_yhat)}\")\n",
    "print(f\"gradient boosted regression1, score: {gbr.score(X_test, y_test)} mse: {mean_squared_error(y_test, gbr_yhat)}\")\n",
    "print(f\"gradient boosted regression2, score: {gbr2.score(X_test, y_test)} mse: {mean_squared_error(y_test, gbr2_yhat)}\")\n",
    "      \n",
    "      "
   ]
  },
  {
   "cell_type": "code",
   "execution_count": 363,
   "metadata": {},
   "outputs": [
    {
     "data": {
      "text/plain": [
       "(-0.044836547844088914,\n",
       " 2.7571076175411187,\n",
       " 0.0028287833343021975,\n",
       " 1.0887301093554598,\n",
       " -0.14704066514968872,\n",
       " 1.6041229292750359)"
      ]
     },
     "execution_count": 363,
     "metadata": {},
     "output_type": "execute_result"
    }
   ],
   "source": [
    "gbr_yhat.min(), gbr_yhat.max(), gbr2_yhat.min(), gbr2_yhat.max(), linr_yhat.min(), linr_yhat.max()\n",
    "\n"
   ]
  },
  {
   "cell_type": "code",
   "execution_count": 86,
   "metadata": {},
   "outputs": [],
   "source": [
    "# create RFC model - change all but random_state after we time this one\n",
    "\n",
    "#clf = RandomForestClassifier(n_estimators=100, max_depth=4, random_state=659, oob_score=True)\n",
    "\n",
    "#with open('clf_model.pkl', 'wb') as my_pickle:\n",
    "      #  pickle.dump(clf, my_pickle)"
   ]
  },
  {
   "cell_type": "code",
   "execution_count": 89,
   "metadata": {},
   "outputs": [
    {
     "data": {
      "text/plain": [
       "(169, 169)"
      ]
     },
     "execution_count": 89,
     "metadata": {},
     "output_type": "execute_result"
    }
   ],
   "source": [
    "# check the feature importances and col_name list match first\n",
    "\n",
    "len(clf.feature_importances_), len(cols)"
   ]
  },
  {
   "cell_type": "code",
   "execution_count": 90,
   "metadata": {},
   "outputs": [
    {
     "data": {
      "text/plain": [
       "['SG_Male',\n",
       " 'SR_White',\n",
       " 'SR_Black or African American',\n",
       " 'SG_Female',\n",
       " 'SR_Hispanic or Latino',\n",
       " 'SR_Asian',\n",
       " 'SR_American Indian/Alaska Native',\n",
       " 'SR_Nat Hawaiian/Oth Pac Islander',\n",
       " 'P_WEST']"
      ]
     },
     "execution_count": 90,
     "metadata": {},
     "output_type": "execute_result"
    }
   ],
   "source": [
    "# most important features in predictions of this model\n",
    "\n",
    "indices = np.argsort(clf.feature_importances_)\n",
    "big = indices[-1:-10:-1]\n",
    "\n",
    "\n",
    "list(cols[big])"
   ]
  },
  {
   "cell_type": "code",
   "execution_count": 91,
   "metadata": {},
   "outputs": [
    {
     "data": {
      "text/plain": [
       "Index(['ICT_Violation of Court Order (Not Domestic Violence)', 'B_FS', 'B_BS',\n",
       "       'B_H2', 'B_H3', 'ICT_Sleeper Aboard Public Transit', 'B_N1', 'B_RS',\n",
       "       'ICT_Rape', 'CT_IN PERSON COMPLAINT'],\n",
       "      dtype='object')"
      ]
     },
     "execution_count": 91,
     "metadata": {},
     "output_type": "execute_result"
    }
   ],
   "source": [
    "# least important features\n",
    "little = indices[:10]\n",
    "cols[little]\n"
   ]
  },
  {
   "cell_type": "code",
   "execution_count": null,
   "metadata": {},
   "outputs": [],
   "source": [
    "clf.oob_score_ # accuracy of training set"
   ]
  },
  {
   "cell_type": "code",
   "execution_count": 801,
   "metadata": {},
   "outputs": [],
   "source": [
    "# predicted classes\n",
    "\n",
    "yhat = clf.predict(X_test)"
   ]
  },
  {
   "cell_type": "code",
   "execution_count": 802,
   "metadata": {},
   "outputs": [
    {
     "data": {
      "text/plain": [
       "0.6723333333333333"
      ]
     },
     "execution_count": 802,
     "metadata": {},
     "output_type": "execute_result"
    }
   ],
   "source": [
    "sum(yhat == y_test) / len(yhat) # accuracy of testing set"
   ]
  },
  {
   "cell_type": "code",
   "execution_count": 803,
   "metadata": {},
   "outputs": [
    {
     "name": "stdout",
     "output_type": "stream",
     "text": [
      "              precision    recall  f1-score   support\n",
      "\n",
      "           0       0.69      1.00      0.81      1219\n",
      "           1       0.72      0.16      0.27      1217\n",
      "           2       0.44      0.69      0.53      1175\n",
      "           3       0.80      0.68      0.74      1196\n",
      "           4       0.92      0.83      0.87      1193\n",
      "\n",
      "    accuracy                           0.67      6000\n",
      "   macro avg       0.71      0.67      0.65      6000\n",
      "weighted avg       0.71      0.67      0.65      6000\n",
      "\n"
     ]
    }
   ],
   "source": [
    "# sklearn.metrics.classification_report(y_true, y_pred, labels=None, target_names=None, sample_weight=None, digits=2, output_dict=False)\n",
    "print(classification_report(y_test, yhat))\n"
   ]
  },
  {
   "cell_type": "code",
   "execution_count": 804,
   "metadata": {},
   "outputs": [],
   "source": [
    "# predict probabilities - what do you want threshold to be?\n",
    "\n",
    "pp = clf.predict_proba(X_test)"
   ]
  },
  {
   "cell_type": "code",
   "execution_count": 811,
   "metadata": {},
   "outputs": [
    {
     "name": "stdout",
     "output_type": "stream",
     "text": [
      "Probabilities: No Force: 0.327, Force 1: 0.215, Force 2: 0.169, Force 3: 0.184, Officer Involved Shooting: 0.104\n",
      "Probabilities: No Force: 0.131, Force 1: 0.198, Force 2: 0.19, Force 3: 0.366, Officer Involved Shooting: 0.115\n",
      "Probabilities: No Force: 0.274, Force 1: 0.259, Force 2: 0.222, Force 3: 0.152, Officer Involved Shooting: 0.092\n",
      "Probabilities: No Force: 0.08, Force 1: 0.122, Force 2: 0.113, Force 3: 0.101, Officer Involved Shooting: 0.584\n",
      "Probabilities: No Force: 0.152, Force 1: 0.246, Force 2: 0.259, Force 3: 0.196, Officer Involved Shooting: 0.147\n",
      "Probabilities: No Force: 0.381, Force 1: 0.185, Force 2: 0.183, Force 3: 0.168, Officer Involved Shooting: 0.083\n",
      "Probabilities: No Force: 0.134, Force 1: 0.225, Force 2: 0.237, Force 3: 0.192, Officer Involved Shooting: 0.213\n",
      "Probabilities: No Force: 0.07, Force 1: 0.064, Force 2: 0.045, Force 3: 0.037, Officer Involved Shooting: 0.782\n",
      "Probabilities: No Force: 0.235, Force 1: 0.225, Force 2: 0.231, Force 3: 0.193, Officer Involved Shooting: 0.115\n",
      "Probabilities: No Force: 0.168, Force 1: 0.235, Force 2: 0.261, Force 3: 0.186, Officer Involved Shooting: 0.149\n"
     ]
    }
   ],
   "source": [
    "# some rows' probabilities of being in each class:\n",
    "# write function to truncate and set threshold\n",
    "\n",
    "for p in pp[:10]:\n",
    "    print(f\"Probabilities: No Force: {np.round(p[0], 3)}, Force 1: {np.round(p[1], 3)}, Force 2: {np.round(p[2], 3)}, Force 3: {np.round(p[3], 3)}, Officer Involved Shooting: {np.round(p[4], 3)}\")\n",
    "          \n",
    "          "
   ]
  },
  {
   "cell_type": "code",
   "execution_count": null,
   "metadata": {},
   "outputs": [],
   "source": [
    "# visualization - you can plot the abundance/frequency of each selected feature within each group as a bar plot. \n",
    "# I assume visually the top feature will be more abundant in one group comparing with the other groups.\n",
    "\n",
    "four = y_test[y_test == 4]\n",
    "four, four.index"
   ]
  },
  {
   "cell_type": "code",
   "execution_count": 92,
   "metadata": {},
   "outputs": [
    {
     "data": {
      "text/plain": [
       "array([9.99983493e-01, 1.00454752e-05, 5.98844611e-06, 1.29748730e-08,\n",
       "       4.60454423e-07])"
      ]
     },
     "execution_count": 92,
     "metadata": {},
     "output_type": "execute_result"
    }
   ],
   "source": [
    "models = [logr, clf, gbc1]\n",
    "\n",
    "predicted_probas = []\n",
    "lp = logr.predict_proba(X_train)\n",
    "rp = clf.predict_proba(X_train)\n",
    "gp = gbc1.predict_proba(X_train)\n",
    "lp[0]"
   ]
  },
  {
   "cell_type": "code",
   "execution_count": null,
   "metadata": {},
   "outputs": [],
   "source": []
  },
  {
   "cell_type": "code",
   "execution_count": 130,
   "metadata": {},
   "outputs": [
    {
     "name": "stdout",
     "output_type": "stream",
     "text": [
      "<class 'pandas.core.frame.DataFrame'>\n",
      "Index: 2047618 entries, 0 to 3986667\n",
      "Data columns (total 169 columns):\n",
      "P_EAST                                                  uint8\n",
      "P_NORTH                                                 uint8\n",
      "P_SOUTH                                                 uint8\n",
      "P_SOUTHWEST                                             uint8\n",
      "P_WEST                                                  uint8\n",
      "S_BOY                                                   uint8\n",
      "S_CHARLIE                                               uint8\n",
      "S_DAVID                                                 uint8\n",
      "S_EDWARD                                                uint8\n",
      "S_FRANK                                                 uint8\n",
      "S_GEORGE                                                uint8\n",
      "S_JOHN                                                  uint8\n",
      "S_KING                                                  uint8\n",
      "S_LINCOLN                                               uint8\n",
      "S_MARY                                                  uint8\n",
      "S_NORA                                                  uint8\n",
      "S_OCEAN                                                 uint8\n",
      "S_QUEEN                                                 uint8\n",
      "S_ROBERT                                                uint8\n",
      "S_SAM                                                   uint8\n",
      "S_UNION                                                 uint8\n",
      "S_WILLIAM                                               uint8\n",
      "B_B1                                                    uint8\n",
      "B_B2                                                    uint8\n",
      "B_B3                                                    uint8\n",
      "B_BS                                                    uint8\n",
      "B_C1                                                    uint8\n",
      "B_C2                                                    uint8\n",
      "B_C3                                                    uint8\n",
      "B_D1                                                    uint8\n",
      "B_D2                                                    uint8\n",
      "B_D3                                                    uint8\n",
      "B_E1                                                    uint8\n",
      "B_E2                                                    uint8\n",
      "B_E3                                                    uint8\n",
      "B_F1                                                    uint8\n",
      "B_F2                                                    uint8\n",
      "B_F3                                                    uint8\n",
      "B_FS                                                    uint8\n",
      "B_G1                                                    uint8\n",
      "B_G2                                                    uint8\n",
      "B_G3                                                    uint8\n",
      "B_H2                                                    uint8\n",
      "B_H3                                                    uint8\n",
      "B_J1                                                    uint8\n",
      "B_J2                                                    uint8\n",
      "B_J3                                                    uint8\n",
      "B_K1                                                    uint8\n",
      "B_K2                                                    uint8\n",
      "B_K3                                                    uint8\n",
      "B_L1                                                    uint8\n",
      "B_L2                                                    uint8\n",
      "B_L3                                                    uint8\n",
      "B_M1                                                    uint8\n",
      "B_M2                                                    uint8\n",
      "B_M3                                                    uint8\n",
      "B_N1                                                    uint8\n",
      "B_N2                                                    uint8\n",
      "B_N3                                                    uint8\n",
      "B_O1                                                    uint8\n",
      "B_O2                                                    uint8\n",
      "B_O3                                                    uint8\n",
      "B_Q1                                                    uint8\n",
      "B_Q2                                                    uint8\n",
      "B_Q3                                                    uint8\n",
      "B_R1                                                    uint8\n",
      "B_R2                                                    uint8\n",
      "B_R3                                                    uint8\n",
      "B_RS                                                    uint8\n",
      "B_S1                                                    uint8\n",
      "B_S2                                                    uint8\n",
      "B_S3                                                    uint8\n",
      "B_U1                                                    uint8\n",
      "B_U2                                                    uint8\n",
      "B_U3                                                    uint8\n",
      "B_W1                                                    uint8\n",
      "B_W2                                                    uint8\n",
      "B_W3                                                    uint8\n",
      "SG_Female                                               uint8\n",
      "SG_Male                                                 uint8\n",
      "SR_American Indian/Alaska Native                        uint8\n",
      "SR_Asian                                                uint8\n",
      "SR_Black or African American                            uint8\n",
      "SR_Hispanic or Latino                                   uint8\n",
      "SR_Nat Hawaiian/Oth Pac Islander                        uint8\n",
      "SR_White                                                uint8\n",
      "CT_911                                                  uint8\n",
      "CT_ALARM CALL (NOT POLICE ALARM)                        uint8\n",
      "CT_IN PERSON COMPLAINT                                  uint8\n",
      "CT_ONVIEW                                               uint8\n",
      "CT_POLICE (VARDA) ALARM                                 uint8\n",
      "CT_PROACTIVE (OFFICER INITIATED)                        uint8\n",
      "CT_SCHEDULED EVENT (RECURRING)                          uint8\n",
      "CT_TELEPHONE OTHER, NOT 911                             uint8\n",
      "CT_TEXT MESSAGE                                         uint8\n",
      "ICT_Aggressive Panhandling                              uint8\n",
      "ICT_Alarm                                               uint8\n",
      "ICT_Animal - Dangerous / Bite                           uint8\n",
      "ICT_Assault                                             uint8\n",
      "ICT_Assigned Duty                                       uint8\n",
      "ICT_Assisting other agencies                            uint8\n",
      "ICT_Auto Recovery                                       uint8\n",
      "ICT_Behavioral / Emotional Crisis                       uint8\n",
      "ICT_Casualty                                            uint8\n",
      "ICT_Check for Person Down                               uint8\n",
      "ICT_Child Abuse                                         uint8\n",
      "ICT_DUI - Driving While Under the Influence             uint8\n",
      "ICT_Damaged Property                                    uint8\n",
      "ICT_Deadly Weapon - No Assault                          uint8\n",
      "ICT_Disturbance                                         uint8\n",
      "ICT_Domestic Violence                                   uint8\n",
      "ICT_Eluding Police                                      uint8\n",
      "ICT_Explosion / Arson                                   uint8\n",
      "ICT_Follow up                                           uint8\n",
      "ICT_Fraud                                               uint8\n",
      "ICT_Gambling                                            uint8\n",
      "ICT_Harassment                                          uint8\n",
      "ICT_Hazard - immediate threat                           uint8\n",
      "ICT_Illegal Dumping                                     uint8\n",
      "ICT_Injuries from Industrial Accidents                  uint8\n",
      "ICT_Lewd Conduct                                        uint8\n",
      "ICT_Liquor Violations                                   uint8\n",
      "ICT_Missing Person                                      uint8\n",
      "ICT_Motor Vehicle Collision                             uint8\n",
      "ICT_Moving Violation                                    uint8\n",
      "ICT_Narcotics                                           uint8\n",
      "ICT_Nuisance                                            uint8\n",
      "ICT_Overdose - Drug Related Casualty                    uint8\n",
      "ICT_Parking Violation                                   uint8\n",
      "ICT_Pickup Person                                       uint8\n",
      "ICT_Police Initiated - Off Duty                         uint8\n",
      "ICT_Police Initiated - On Duty                          uint8\n",
      "ICT_Predictive Policing                                 uint8\n",
      "ICT_Property lost or found                              uint8\n",
      "ICT_Prostitution                                        uint8\n",
      "ICT_Rape                                                uint8\n",
      "ICT_Request for Detox                                   uint8\n",
      "ICT_Request to Watch / Ensure Peace                     uint8\n",
      "ICT_Road Rage                                           uint8\n",
      "ICT_Robbery                                             uint8\n",
      "ICT_Shots heard                                         uint8\n",
      "ICT_Sleeper Aboard Public Transit                       uint8\n",
      "ICT_Suicidal person or attempts                         uint8\n",
      "ICT_Suspicious person, vehicle, incident                uint8\n",
      "ICT_Threats                                             uint8\n",
      "ICT_Trespass                                            uint8\n",
      "ICT_Violation of Court Order (Not Domestic Violence)    uint8\n",
      "ICT_Welfare Check                                       uint8\n",
      "dow_0                                                   uint8\n",
      "dow_1                                                   uint8\n",
      "dow_2                                                   uint8\n",
      "dow_3                                                   uint8\n",
      "dow_4                                                   uint8\n",
      "dow_5                                                   uint8\n",
      "dow_6                                                   uint8\n",
      "month_1                                                 uint8\n",
      "month_2                                                 uint8\n",
      "month_3                                                 uint8\n",
      "month_4                                                 uint8\n",
      "month_5                                                 uint8\n",
      "month_6                                                 uint8\n",
      "month_7                                                 uint8\n",
      "month_8                                                 uint8\n",
      "month_9                                                 uint8\n",
      "month_10                                                uint8\n",
      "month_11                                                uint8\n",
      "month_12                                                uint8\n",
      "sin_hour2                                               float64\n",
      "cos_hour2                                               float64\n",
      "dtypes: float64(2), uint8(167)\n",
      "memory usage: 453.0+ MB\n"
     ]
    }
   ],
   "source": [
    "X.info(verbose=True)"
   ]
  },
  {
   "cell_type": "code",
   "execution_count": 95,
   "metadata": {},
   "outputs": [],
   "source": [
    "# covariance\n",
    "\n",
    "cov = EmpiricalCovariance().fit(X,y)"
   ]
  },
  {
   "cell_type": "code",
   "execution_count": 105,
   "metadata": {},
   "outputs": [],
   "source": [
    "cc = pd.DataFrame(cov.covariance_)"
   ]
  },
  {
   "cell_type": "code",
   "execution_count": 135,
   "metadata": {},
   "outputs": [
    {
     "data": {
      "text/plain": [
       "['P_EAST',\n",
       " 'P_NORTH',\n",
       " 'P_SOUTH',\n",
       " 'P_SOUTHWEST',\n",
       " 'P_WEST',\n",
       " 'S_BOY',\n",
       " 'S_CHARLIE',\n",
       " 'S_DAVID',\n",
       " 'S_EDWARD',\n",
       " 'S_FRANK',\n",
       " 'S_GEORGE',\n",
       " 'S_JOHN',\n",
       " 'S_KING',\n",
       " 'S_LINCOLN',\n",
       " 'S_MARY',\n",
       " 'S_NORA',\n",
       " 'S_OCEAN',\n",
       " 'S_QUEEN',\n",
       " 'S_ROBERT',\n",
       " 'S_SAM',\n",
       " 'S_UNION',\n",
       " 'S_WILLIAM',\n",
       " 'B_B1',\n",
       " 'B_B2',\n",
       " 'B_B3',\n",
       " 'B_BS',\n",
       " 'B_C1',\n",
       " 'B_C2',\n",
       " 'B_C3',\n",
       " 'B_D1',\n",
       " 'B_D2',\n",
       " 'B_D3',\n",
       " 'B_E1',\n",
       " 'B_E2',\n",
       " 'B_E3',\n",
       " 'B_F1',\n",
       " 'B_F2',\n",
       " 'B_F3',\n",
       " 'B_FS',\n",
       " 'B_G1',\n",
       " 'B_G2',\n",
       " 'B_G3',\n",
       " 'B_H2',\n",
       " 'B_H3',\n",
       " 'B_J1',\n",
       " 'B_J2',\n",
       " 'B_J3',\n",
       " 'B_K1',\n",
       " 'B_K2',\n",
       " 'B_K3',\n",
       " 'B_L1',\n",
       " 'B_L2',\n",
       " 'B_L3',\n",
       " 'B_M1',\n",
       " 'B_M2',\n",
       " 'B_M3',\n",
       " 'B_N1',\n",
       " 'B_N2',\n",
       " 'B_N3',\n",
       " 'B_O1',\n",
       " 'B_O2',\n",
       " 'B_O3',\n",
       " 'B_Q1',\n",
       " 'B_Q2',\n",
       " 'B_Q3',\n",
       " 'B_R1',\n",
       " 'B_R2',\n",
       " 'B_R3',\n",
       " 'B_RS',\n",
       " 'B_S1',\n",
       " 'B_S2',\n",
       " 'B_S3',\n",
       " 'B_U1',\n",
       " 'B_U2',\n",
       " 'B_U3',\n",
       " 'B_W1',\n",
       " 'B_W2',\n",
       " 'B_W3',\n",
       " 'SG_Female',\n",
       " 'SG_Male',\n",
       " 'SR_American Indian/Alaska Native',\n",
       " 'SR_Asian',\n",
       " 'SR_Black or African American',\n",
       " 'SR_Hispanic or Latino',\n",
       " 'SR_Nat Hawaiian/Oth Pac Islander',\n",
       " 'SR_White',\n",
       " 'CT_911',\n",
       " 'CT_ALARM CALL (NOT POLICE ALARM)',\n",
       " 'CT_IN PERSON COMPLAINT',\n",
       " 'CT_ONVIEW',\n",
       " 'CT_POLICE (VARDA) ALARM',\n",
       " 'CT_PROACTIVE (OFFICER INITIATED)',\n",
       " 'CT_SCHEDULED EVENT (RECURRING)',\n",
       " 'CT_TELEPHONE OTHER, NOT 911',\n",
       " 'CT_TEXT MESSAGE',\n",
       " 'ICT_Aggressive Panhandling',\n",
       " 'ICT_Alarm',\n",
       " 'ICT_Animal - Dangerous / Bite',\n",
       " 'ICT_Assault',\n",
       " 'ICT_Assigned Duty',\n",
       " 'ICT_Assisting other agencies',\n",
       " 'ICT_Auto Recovery',\n",
       " 'ICT_Behavioral / Emotional Crisis',\n",
       " 'ICT_Casualty',\n",
       " 'ICT_Check for Person Down',\n",
       " 'ICT_Child Abuse',\n",
       " 'ICT_DUI - Driving While Under the Influence',\n",
       " 'ICT_Damaged Property',\n",
       " 'ICT_Deadly Weapon - No Assault',\n",
       " 'ICT_Disturbance',\n",
       " 'ICT_Domestic Violence',\n",
       " 'ICT_Eluding Police',\n",
       " 'ICT_Explosion / Arson',\n",
       " 'ICT_Follow up',\n",
       " 'ICT_Fraud',\n",
       " 'ICT_Gambling',\n",
       " 'ICT_Harassment',\n",
       " 'ICT_Hazard - immediate threat',\n",
       " 'ICT_Illegal Dumping',\n",
       " 'ICT_Injuries from Industrial Accidents',\n",
       " 'ICT_Lewd Conduct',\n",
       " 'ICT_Liquor Violations',\n",
       " 'ICT_Missing Person',\n",
       " 'ICT_Motor Vehicle Collision',\n",
       " 'ICT_Moving Violation',\n",
       " 'ICT_Narcotics',\n",
       " 'ICT_Nuisance',\n",
       " 'ICT_Overdose - Drug Related Casualty',\n",
       " 'ICT_Parking Violation',\n",
       " 'ICT_Pickup Person',\n",
       " 'ICT_Police Initiated - Off Duty',\n",
       " 'ICT_Police Initiated - On Duty',\n",
       " 'ICT_Predictive Policing',\n",
       " 'ICT_Property lost or found',\n",
       " 'ICT_Prostitution',\n",
       " 'ICT_Rape',\n",
       " 'ICT_Request for Detox',\n",
       " 'ICT_Request to Watch / Ensure Peace',\n",
       " 'ICT_Road Rage',\n",
       " 'ICT_Robbery',\n",
       " 'ICT_Shots heard',\n",
       " 'ICT_Sleeper Aboard Public Transit',\n",
       " 'ICT_Suicidal person or attempts',\n",
       " 'ICT_Suspicious person, vehicle, incident',\n",
       " 'ICT_Threats',\n",
       " 'ICT_Trespass',\n",
       " 'ICT_Violation of Court Order (Not Domestic Violence)',\n",
       " 'ICT_Welfare Check',\n",
       " 'dow_0',\n",
       " 'dow_1',\n",
       " 'dow_2',\n",
       " 'dow_3',\n",
       " 'dow_4',\n",
       " 'dow_5',\n",
       " 'dow_6',\n",
       " 'month_1',\n",
       " 'month_2',\n",
       " 'month_3',\n",
       " 'month_4',\n",
       " 'month_5',\n",
       " 'month_6',\n",
       " 'month_7',\n",
       " 'month_8',\n",
       " 'month_9',\n",
       " 'month_10',\n",
       " 'month_11',\n",
       " 'month_12',\n",
       " 'sin_hour2',\n",
       " 'cos_hour2']"
      ]
     },
     "execution_count": 135,
     "metadata": {},
     "output_type": "execute_result"
    }
   ],
   "source": [
    "list(X.columns)"
   ]
  },
  {
   "cell_type": "code",
   "execution_count": 134,
   "metadata": {},
   "outputs": [
    {
     "name": "stdout",
     "output_type": "stream",
     "text": [
      "<class 'pandas.core.frame.DataFrame'>\n",
      "RangeIndex: 169 entries, 0 to 168\n",
      "Columns: 169 entries, 0 to 168\n",
      "dtypes: float64(169)\n",
      "memory usage: 223.2 KB\n"
     ]
    },
    {
     "data": {
      "text/plain": [
       "(array([], dtype=int64), array([], dtype=int64))"
      ]
     },
     "execution_count": 134,
     "metadata": {},
     "output_type": "execute_result"
    }
   ],
   "source": [
    "cc.info()\n",
    "cc[cc > 0.2]\n",
    "np.where(cc < -0.5)"
   ]
  },
  {
   "cell_type": "code",
   "execution_count": 102,
   "metadata": {},
   "outputs": [
    {
     "data": {
      "text/plain": [
       "{'assume_centered': False, 'store_precision': True}"
      ]
     },
     "execution_count": 102,
     "metadata": {},
     "output_type": "execute_result"
    }
   ],
   "source": [
    "cov.get_params()"
   ]
  },
  {
   "cell_type": "code",
   "execution_count": 4,
   "metadata": {},
   "outputs": [],
   "source": [
    "big_coef_cols = [85, 140, 81, 142, 74, 47, 166, 108, 79, 82]\n",
    "\n",
    "X2 = X.iloc[:,big_coef_cols]"
   ]
  },
  {
   "cell_type": "code",
   "execution_count": 7,
   "metadata": {},
   "outputs": [
    {
     "data": {
      "text/plain": [
       "Index(['SR_White', 'ICT_Shots heard', 'SR_Asian',\n",
       "       'ICT_Suicidal person or attempts', 'B_U3', 'B_K1', 'month_12',\n",
       "       'ICT_Deadly Weapon - No Assault', 'SG_Male',\n",
       "       'SR_Black or African American'],\n",
       "      dtype='object')"
      ]
     },
     "execution_count": 7,
     "metadata": {},
     "output_type": "execute_result"
    }
   ],
   "source": [
    "cols[big_coef_cols]"
   ]
  },
  {
   "cell_type": "code",
   "execution_count": 9,
   "metadata": {},
   "outputs": [],
   "source": [
    "fl = sampleall.groupby(\"Force_Level\")"
   ]
  },
  {
   "cell_type": "code",
   "execution_count": 73,
   "metadata": {},
   "outputs": [
    {
     "data": {
      "text/plain": [
       "<BarContainer object of 8 artists>"
      ]
     },
     "execution_count": 73,
     "metadata": {},
     "output_type": "execute_result"
    },
    {
     "data": {
      "image/png": "[encoded data removed]",
      "text/plain": [
       "<Figure size 432x288 with 1 Axes>"
      ]
     },
     "metadata": {
      "needs_background": "light"
     },
     "output_type": "display_data"
    }
   ],
   "source": [
    "dw = fl['ICT_Deadly Weapon - No Assault'].value_counts()\n",
    "level00 = dw[0][0]\n",
    "level01 = dw[0][1]\n",
    "\n",
    "dw.index\n",
    "dw.index.levels[1]\n",
    "#plt.bar([0,1],dw[0].values)\n",
    "plt.bar([1,2,3,4,5,6,7,8],dw.values[[1,2,3,4,5,6,7,8]])\n",
    "\n",
    "\n"
   ]
  },
  {
   "cell_type": "code",
   "execution_count": 12,
   "metadata": {},
   "outputs": [],
   "source": [
    "n = nm.groupby(\"Force_Level\")"
   ]
  },
  {
   "cell_type": "code",
   "execution_count": 13,
   "metadata": {},
   "outputs": [
    {
     "data": {
      "text/plain": [
       "Force_Level             Subject_Race                 \n",
       "0                       -                                2035580\n",
       "Level 1 - Use of Force  White                               3483\n",
       "                        Black or African American           3086\n",
       "                        Not Specified                       1574\n",
       "                        Asian                                360\n",
       "                        Hispanic or Latino                   338\n",
       "                        American Indian/Alaska Native         66\n",
       "                        Nat Hawaiian/Oth Pac Islander         46\n",
       "Level 2 - Use of Force  White                               1222\n",
       "                        Black or African American            996\n",
       "                        Not Specified                        373\n",
       "                        Asian                                108\n",
       "                        Hispanic or Latino                    86\n",
       "                        Nat Hawaiian/Oth Pac Islander         38\n",
       "                        American Indian/Alaska Native         29\n",
       "Level 3 - OIS           Black or African American             37\n",
       "                        White                                 37\n",
       "                        Asian                                 12\n",
       "                        Not Specified                          4\n",
       "Level 3 - Use of Force  White                                 63\n",
       "                        Black or African American             32\n",
       "                        Not Specified                         30\n",
       "                        American Indian/Alaska Native          6\n",
       "                        Asian                                  6\n",
       "                        Nat Hawaiian/Oth Pac Islander          4\n",
       "                        Hispanic or Latino                     2\n",
       "Name: Subject_Race, dtype: int64"
      ]
     },
     "execution_count": 13,
     "metadata": {},
     "output_type": "execute_result"
    }
   ],
   "source": [
    "n.Subject_Race.value_counts()"
   ]
  },
  {
   "cell_type": "code",
   "execution_count": null,
   "metadata": {},
   "outputs": [],
   "source": []
  }
 ],
 "metadata": {
  "kernelspec": {
   "display_name": "Python 3",
   "language": "python",
   "name": "python3"
  },
  "language_info": {
   "codemirror_mode": {
    "name": "ipython",
    "version": 3
   },
   "file_extension": ".py",
   "mimetype": "text/x-python",
   "name": "python",
   "nbconvert_exporter": "python",
   "pygments_lexer": "ipython3",
   "version": "3.7.3"
  }
 },
 "nbformat": 4,
 "nbformat_minor": 2
}
