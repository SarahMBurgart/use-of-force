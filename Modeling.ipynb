{
 "cells": [
  {
   "cell_type": "code",
   "execution_count": 1,
   "metadata": {},
   "outputs": [
    {
     "ename": "ModuleNotFoundError",
     "evalue": "No module named 'cleaning'",
     "output_type": "error",
     "traceback": [
      "\u001b[0;31m---------------------------------------------------------------------------\u001b[0m",
      "\u001b[0;31mModuleNotFoundError\u001b[0m                       Traceback (most recent call last)",
      "\u001b[0;32m<ipython-input-1-c5e42c4bc1b0>\u001b[0m in \u001b[0;36m<module>\u001b[0;34m\u001b[0m\n\u001b[1;32m     26\u001b[0m \u001b[0;32mfrom\u001b[0m \u001b[0msklearn\u001b[0m\u001b[0;34m.\u001b[0m\u001b[0mpreprocessing\u001b[0m \u001b[0;32mimport\u001b[0m \u001b[0mlabel_binarize\u001b[0m\u001b[0;34m\u001b[0m\u001b[0;34m\u001b[0m\u001b[0m\n\u001b[1;32m     27\u001b[0m \u001b[0;34m\u001b[0m\u001b[0m\n\u001b[0;32m---> 28\u001b[0;31m \u001b[0;32mimport\u001b[0m \u001b[0mcleaning\u001b[0m \u001b[0;32mas\u001b[0m \u001b[0mclean\u001b[0m\u001b[0;34m\u001b[0m\u001b[0;34m\u001b[0m\u001b[0m\n\u001b[0m\u001b[1;32m     29\u001b[0m \u001b[0;34m\u001b[0m\u001b[0m\n\u001b[1;32m     30\u001b[0m \u001b[0mget_ipython\u001b[0m\u001b[0;34m(\u001b[0m\u001b[0;34m)\u001b[0m\u001b[0;34m.\u001b[0m\u001b[0mrun_line_magic\u001b[0m\u001b[0;34m(\u001b[0m\u001b[0;34m'matplotlib'\u001b[0m\u001b[0;34m,\u001b[0m \u001b[0;34m'inline'\u001b[0m\u001b[0;34m)\u001b[0m\u001b[0;34m\u001b[0m\u001b[0;34m\u001b[0m\u001b[0m\n",
      "\u001b[0;31mModuleNotFoundError\u001b[0m: No module named 'cleaning'"
     ]
    }
   ],
   "source": [
    "import pandas as pd\n",
    "from pandas.plotting import scatter_matrix\n",
    "import os\n",
    "from datetime import datetime\n",
    "import sqlite3\n",
    "from sqlalchemy import create_engine\n",
    "engine = create_engine('sqlite://', echo=False)\n",
    "\n",
    "import matplotlib.pyplot as plt\n",
    "import numpy as np\n",
    "from datetime import datetime\n",
    "from sklearn.decomposition import PCA\n",
    "from sklearn.preprocessing import StandardScaler\n",
    "import seaborn as sns\n",
    "from sklearn.ensemble import RandomForestClassifier, GradientBoostingClassifier, GradientBoostingRegressor\n",
    "from sklearn.model_selection import train_test_split\n",
    "from sklearn.inspection import plot_partial_dependence\n",
    "from sklearn.inspection import partial_dependence \n",
    "from sklearn.metrics import classification_report, roc_curve, roc_auc_score, auc\n",
    "import dill as pickle\n",
    "from sklearn.pipeline import Pipeline\n",
    "from sklearn.linear_model import LogisticRegression, LinearRegression\n",
    "from sklearn.inspection import plot_partial_dependence\n",
    "from sklearn.metrics import log_loss, mean_squared_error\n",
    "from sklearn.covariance import EmpiricalCovariance\n",
    "from sklearn.preprocessing import label_binarize\n",
    "\n",
    "import cleaning as clean\n",
    "\n",
    "%matplotlib inline"
   ]
  },
  {
   "cell_type": "code",
   "execution_count": 2,
   "metadata": {},
   "outputs": [],
   "source": [
    "sampleall = pd.read_pickle(\"data/df_ready_to_split_to_X_y_no_day.pkl\")\n",
    "\n",
    "sa = sampleall.copy(deep=True)\n",
    "\n",
    "X = sampleall.drop(\"Force_Level\", axis=1)\n",
    "y = sampleall.Force_Level\n",
    "\n",
    "cols = X.columns"
   ]
  },
  {
   "cell_type": "code",
   "execution_count": 4,
   "metadata": {},
   "outputs": [
    {
     "name": "stdout",
     "output_type": "stream",
     "text": [
      "<class 'pandas.core.frame.DataFrame'>\n",
      "Index: 2047618 entries, 0 to 3986667\n",
      "Data columns (total 170 columns):\n",
      "Force_Level                                             int64\n",
      "P_EAST                                                  uint8\n",
      "P_NORTH                                                 uint8\n",
      "P_SOUTH                                                 uint8\n",
      "P_SOUTHWEST                                             uint8\n",
      "P_WEST                                                  uint8\n",
      "S_BOY                                                   uint8\n",
      "S_CHARLIE                                               uint8\n",
      "S_DAVID                                                 uint8\n",
      "S_EDWARD                                                uint8\n",
      "S_FRANK                                                 uint8\n",
      "S_GEORGE                                                uint8\n",
      "S_JOHN                                                  uint8\n",
      "S_KING                                                  uint8\n",
      "S_LINCOLN                                               uint8\n",
      "S_MARY                                                  uint8\n",
      "S_NORA                                                  uint8\n",
      "S_OCEAN                                                 uint8\n",
      "S_QUEEN                                                 uint8\n",
      "S_ROBERT                                                uint8\n",
      "S_SAM                                                   uint8\n",
      "S_UNION                                                 uint8\n",
      "S_WILLIAM                                               uint8\n",
      "B_B1                                                    uint8\n",
      "B_B2                                                    uint8\n",
      "B_B3                                                    uint8\n",
      "B_BS                                                    uint8\n",
      "B_C1                                                    uint8\n",
      "B_C2                                                    uint8\n",
      "B_C3                                                    uint8\n",
      "B_D1                                                    uint8\n",
      "B_D2                                                    uint8\n",
      "B_D3                                                    uint8\n",
      "B_E1                                                    uint8\n",
      "B_E2                                                    uint8\n",
      "B_E3                                                    uint8\n",
      "B_F1                                                    uint8\n",
      "B_F2                                                    uint8\n",
      "B_F3                                                    uint8\n",
      "B_FS                                                    uint8\n",
      "B_G1                                                    uint8\n",
      "B_G2                                                    uint8\n",
      "B_G3                                                    uint8\n",
      "B_H2                                                    uint8\n",
      "B_H3                                                    uint8\n",
      "B_J1                                                    uint8\n",
      "B_J2                                                    uint8\n",
      "B_J3                                                    uint8\n",
      "B_K1                                                    uint8\n",
      "B_K2                                                    uint8\n",
      "B_K3                                                    uint8\n",
      "B_L1                                                    uint8\n",
      "B_L2                                                    uint8\n",
      "B_L3                                                    uint8\n",
      "B_M1                                                    uint8\n",
      "B_M2                                                    uint8\n",
      "B_M3                                                    uint8\n",
      "B_N1                                                    uint8\n",
      "B_N2                                                    uint8\n",
      "B_N3                                                    uint8\n",
      "B_O1                                                    uint8\n",
      "B_O2                                                    uint8\n",
      "B_O3                                                    uint8\n",
      "B_Q1                                                    uint8\n",
      "B_Q2                                                    uint8\n",
      "B_Q3                                                    uint8\n",
      "B_R1                                                    uint8\n",
      "B_R2                                                    uint8\n",
      "B_R3                                                    uint8\n",
      "B_RS                                                    uint8\n",
      "B_S1                                                    uint8\n",
      "B_S2                                                    uint8\n",
      "B_S3                                                    uint8\n",
      "B_U1                                                    uint8\n",
      "B_U2                                                    uint8\n",
      "B_U3                                                    uint8\n",
      "B_W1                                                    uint8\n",
      "B_W2                                                    uint8\n",
      "B_W3                                                    uint8\n",
      "SG_Female                                               uint8\n",
      "SG_Male                                                 uint8\n",
      "SR_American Indian/Alaska Native                        uint8\n",
      "SR_Asian                                                uint8\n",
      "SR_Black or African American                            uint8\n",
      "SR_Hispanic or Latino                                   uint8\n",
      "SR_Nat Hawaiian/Oth Pac Islander                        uint8\n",
      "SR_White                                                uint8\n",
      "CT_911                                                  uint8\n",
      "CT_ALARM CALL (NOT POLICE ALARM)                        uint8\n",
      "CT_IN PERSON COMPLAINT                                  uint8\n",
      "CT_ONVIEW                                               uint8\n",
      "CT_POLICE (VARDA) ALARM                                 uint8\n",
      "CT_PROACTIVE (OFFICER INITIATED)                        uint8\n",
      "CT_SCHEDULED EVENT (RECURRING)                          uint8\n",
      "CT_TELEPHONE OTHER, NOT 911                             uint8\n",
      "CT_TEXT MESSAGE                                         uint8\n",
      "ICT_Aggressive Panhandling                              uint8\n",
      "ICT_Alarm                                               uint8\n",
      "ICT_Animal - Dangerous / Bite                           uint8\n",
      "ICT_Assault                                             uint8\n",
      "ICT_Assigned Duty                                       uint8\n",
      "ICT_Assisting other agencies                            uint8\n",
      "ICT_Auto Recovery                                       uint8\n",
      "ICT_Behavioral / Emotional Crisis                       uint8\n",
      "ICT_Casualty                                            uint8\n",
      "ICT_Check for Person Down                               uint8\n",
      "ICT_Child Abuse                                         uint8\n",
      "ICT_DUI - Driving While Under the Influence             uint8\n",
      "ICT_Damaged Property                                    uint8\n",
      "ICT_Deadly Weapon - No Assault                          uint8\n",
      "ICT_Disturbance                                         uint8\n",
      "ICT_Domestic Violence                                   uint8\n",
      "ICT_Eluding Police                                      uint8\n",
      "ICT_Explosion / Arson                                   uint8\n",
      "ICT_Follow up                                           uint8\n",
      "ICT_Fraud                                               uint8\n",
      "ICT_Gambling                                            uint8\n",
      "ICT_Harassment                                          uint8\n",
      "ICT_Hazard - immediate threat                           uint8\n",
      "ICT_Illegal Dumping                                     uint8\n",
      "ICT_Injuries from Industrial Accidents                  uint8\n",
      "ICT_Lewd Conduct                                        uint8\n",
      "ICT_Liquor Violations                                   uint8\n",
      "ICT_Missing Person                                      uint8\n",
      "ICT_Motor Vehicle Collision                             uint8\n",
      "ICT_Moving Violation                                    uint8\n",
      "ICT_Narcotics                                           uint8\n",
      "ICT_Nuisance                                            uint8\n",
      "ICT_Overdose - Drug Related Casualty                    uint8\n",
      "ICT_Parking Violation                                   uint8\n",
      "ICT_Pickup Person                                       uint8\n",
      "ICT_Police Initiated - Off Duty                         uint8\n",
      "ICT_Police Initiated - On Duty                          uint8\n",
      "ICT_Predictive Policing                                 uint8\n",
      "ICT_Property lost or found                              uint8\n",
      "ICT_Prostitution                                        uint8\n",
      "ICT_Rape                                                uint8\n",
      "ICT_Request for Detox                                   uint8\n",
      "ICT_Request to Watch / Ensure Peace                     uint8\n",
      "ICT_Road Rage                                           uint8\n",
      "ICT_Robbery                                             uint8\n",
      "ICT_Shots heard                                         uint8\n",
      "ICT_Sleeper Aboard Public Transit                       uint8\n",
      "ICT_Suicidal person or attempts                         uint8\n",
      "ICT_Suspicious person, vehicle, incident                uint8\n",
      "ICT_Threats                                             uint8\n",
      "ICT_Trespass                                            uint8\n",
      "ICT_Violation of Court Order (Not Domestic Violence)    uint8\n",
      "ICT_Welfare Check                                       uint8\n",
      "dow_0                                                   uint8\n",
      "dow_1                                                   uint8\n",
      "dow_2                                                   uint8\n",
      "dow_3                                                   uint8\n",
      "dow_4                                                   uint8\n",
      "dow_5                                                   uint8\n",
      "dow_6                                                   uint8\n",
      "month_1                                                 uint8\n",
      "month_2                                                 uint8\n",
      "month_3                                                 uint8\n",
      "month_4                                                 uint8\n",
      "month_5                                                 uint8\n",
      "month_6                                                 uint8\n",
      "month_7                                                 uint8\n",
      "month_8                                                 uint8\n",
      "month_9                                                 uint8\n",
      "month_10                                                uint8\n",
      "month_11                                                uint8\n",
      "month_12                                                uint8\n",
      "sin_hour2                                               float64\n",
      "cos_hour2                                               float64\n",
      "dtypes: float64(2), int64(1), uint8(167)\n",
      "memory usage: 388.6+ MB\n"
     ]
    }
   ],
   "source": [
    "sampleall.info(verbose=True)\n"
   ]
  },
  {
   "cell_type": "markdown",
   "metadata": {},
   "source": [
    "## probably start here with loading the df from right before dummies in EDA\n"
   ]
  },
  {
   "cell_type": "code",
   "execution_count": 101,
   "metadata": {},
   "outputs": [],
   "source": [
    "nm = pd.read_pickle(\"data/rev_df_before_dummies.pkl\")\n",
    "\n",
    "# need to:\n",
    "# make a y and make categories numeric(?)\n",
    "# drop CAD and Event and Force\n",
    "# make dummie columns\n",
    "# cahnge month and day to integers\n"
   ]
  },
  {
   "cell_type": "code",
   "execution_count": 102,
   "metadata": {},
   "outputs": [
    {
     "data": {
      "text/plain": [
       "Index(['CAD_Event_Number', 'Force_Level', 'Precinct', 'Sector', 'Beat',\n",
       "       'Subject_Race', 'Subject_Gender', 'Call_Type', 'Initial_Call_Type',\n",
       "       'month', 'day', 'day_of_week', 'hour'],\n",
       "      dtype='object')"
      ]
     },
     "execution_count": 102,
     "metadata": {},
     "output_type": "execute_result"
    }
   ],
   "source": [
    "nm.columns"
   ]
  },
  {
   "cell_type": "code",
   "execution_count": 103,
   "metadata": {},
   "outputs": [],
   "source": [
    "nm.Precinct.replace({'W': \"WEST\", \"N\": \"NORTH\", \"E\": \"EAST\", \"S\": \"SOUTH\", \"SW\":\"SOUTHWEST\"}, inplace=True)\n",
    "\n"
   ]
  },
  {
   "cell_type": "code",
   "execution_count": 104,
   "metadata": {},
   "outputs": [],
   "source": [
    "nm[\"hour2\"] = nm.hour.apply(lambda x: (x/24)*2*np.pi)\n",
    "nm[\"sin_hour2\"] = nm.hour2.apply(np.sin)\n",
    "nm[\"cos_hour2\"] = nm.hour2.apply(np.cos)\n",
    "nm.drop([\"hour2\",\"hour\"], axis=1, inplace=True)"
   ]
  },
  {
   "cell_type": "code",
   "execution_count": 105,
   "metadata": {},
   "outputs": [],
   "source": [
    "# make a copy to alter for the model in case I want to look back at this\n",
    "nm2 = nm.copy(deep=True)"
   ]
  },
  {
   "cell_type": "code",
   "execution_count": 106,
   "metadata": {},
   "outputs": [],
   "source": [
    "# drop column \n",
    "nm.drop( \"CAD_Event_Number\", axis=1, inplace=True)\n"
   ]
  },
  {
   "cell_type": "code",
   "execution_count": 107,
   "metadata": {},
   "outputs": [],
   "source": [
    "# do you want to drop this columns??\n",
    "\n",
    "# STOP!!\n",
    "\n",
    "nm.drop( \"day\", axis=1, inplace=True)"
   ]
  },
  {
   "cell_type": "code",
   "execution_count": 108,
   "metadata": {},
   "outputs": [
    {
     "name": "stdout",
     "output_type": "stream",
     "text": [
      "<class 'pandas.core.frame.DataFrame'>\n",
      "Index: 2047618 entries, 0 to 3986667\n",
      "Data columns (total 12 columns):\n",
      "Force_Level          object\n",
      "Precinct             object\n",
      "Sector               object\n",
      "Beat                 object\n",
      "Subject_Race         object\n",
      "Subject_Gender       object\n",
      "Call_Type            object\n",
      "Initial_Call_Type    object\n",
      "month                int64\n",
      "day_of_week          int64\n",
      "sin_hour2            float64\n",
      "cos_hour2            float64\n",
      "dtypes: float64(2), int64(2), object(8)\n",
      "memory usage: 203.1+ MB\n"
     ]
    }
   ],
   "source": [
    "nm.info(verbose=True)"
   ]
  },
  {
   "cell_type": "code",
   "execution_count": 44,
   "metadata": {},
   "outputs": [],
   "source": []
  },
  {
   "cell_type": "code",
   "execution_count": 109,
   "metadata": {},
   "outputs": [],
   "source": [
    "# calling above function to make list to make column\n",
    "new_col = []\n",
    "for idx, row in nm.iterrows():\n",
    "    value = row.Initial_Call_Type\n",
    "    new_col.append(clean.initial_call_type_cats(value))\n",
    "    \n",
    "nm[\"cat_ICT\"] = new_col\n",
    "\n",
    "# make copy so you don't repeat this ... AGAIN\n",
    "nm_cat_ICT = nm.copy(deep=True)\n",
    "\n",
    "nm.drop(\"Initial_Call_Type\", axis=1, inplace=True)"
   ]
  },
  {
   "cell_type": "code",
   "execution_count": 111,
   "metadata": {},
   "outputs": [],
   "source": [
    "nm.to_pickle(\"nm_cat_nodumdum\")"
   ]
  },
  {
   "cell_type": "code",
   "execution_count": 50,
   "metadata": {},
   "outputs": [],
   "source": [
    "# get dummies for string valued columns\n",
    "nm = pd.get_dummies(data = nm, \n",
    "                     columns=[\"Precinct\", \"Sector\", \"Beat\", \"Subject_Gender\", \"Subject_Race\", \"Call_Type\", \n",
    "                               \"cat_ICT\", \"day_of_week\", \"month\"], \n",
    "                     prefix=[\"P\",  \"S\", \"B\", \"SG\", \"SR\",\"CT\", \"ICT\", \"dow\", \"month\"])\n",
    "\n",
    "nm.drop([\"S_-\", \"P_-\", 'SG_-', 'SR_-', 'P_X', \"ICT_-\"], axis=1, inplace=True)"
   ]
  },
  {
   "cell_type": "code",
   "execution_count": 53,
   "metadata": {},
   "outputs": [],
   "source": [
    "# numeric y\n",
    "\n",
    "nm.Force_Level.replace({\"Level 1 - Use of Force\":1,\"Level 2 - Use of Force\":2,\"Level 3 - OIS\":4, \"Level 3 - Use of Force\": 3 }, inplace=True)\n"
   ]
  },
  {
   "cell_type": "code",
   "execution_count": 736,
   "metadata": {},
   "outputs": [],
   "source": [
    "'''# undersampling / oversampling\n",
    "four = nm[nm[\"Force_Level\"] == 4]\n",
    "three = nm[nm[\"Force_Level\"] == 3]\n",
    "two = nm[nm[\"Force_Level\"] == 2]\n",
    "one = nm[nm[\"Force_Level\"] == 1]\n",
    "zero = nm[nm[\"Force_Level\"] == 0]\n",
    "\n",
    "len(four), len(three), len(two), len(one), len(zero)'''"
   ]
  },
  {
   "cell_type": "code",
   "execution_count": 738,
   "metadata": {},
   "outputs": [
    {
     "data": {
      "text/plain": [
       "'#nm[\"Weights\"] = np.where(nm[\\'Force_Level\\'] <= 4, .1, .9)\\n\\nnm[\"Weights\"] = nm[\"Force_Level\"]\\nnm[\"Weights\"].replace({4:.5, 3:.3, 2:.1105, 1:.08, 0:.0005}, inplace=True)'"
      ]
     },
     "execution_count": 738,
     "metadata": {},
     "output_type": "execute_result"
    }
   ],
   "source": [
    "'''#nm[\"Weights\"] = np.where(nm['Force_Level'] <= 4, .1, .9)\n",
    "\n",
    "nm[\"Weights\"] = nm[\"Force_Level\"]\n",
    "nm[\"Weights\"].replace({4:.5, 3:.3, 2:.1105, 1:.08, 0:.0005}, inplace=True)'''"
   ]
  },
  {
   "cell_type": "code",
   "execution_count": 740,
   "metadata": {},
   "outputs": [],
   "source": [
    "'''len(sample1[sample1.Force_Level == 4]), len(sample1[sample1.Force_Level == 3]), len(sample1[sample1.Force_Level == 2]), len(sample1[sample1.Force_Level == 1]), len(sample1[sample1.Force_Level == 0])\n",
    "\n",
    "sample4 = four.sample(n=6000, random_state=659, replace=True)\n",
    "sample3 = three.sample(n=6000, random_state=659, replace=True)\n",
    "sample2 = two.sample(n=6000, random_state=659, replace=True)\n",
    "sample1 = one.sample(n=6000, random_state=659, replace=True)\n",
    "sample0 = zero.sample(n=6000, random_state=659, replace=True)\n",
    "\n",
    "sampleall = pd.concat([sample4,sample3, sample2, sample1, sample0])\n",
    "'''"
   ]
  },
  {
   "cell_type": "code",
   "execution_count": 82,
   "metadata": {},
   "outputs": [],
   "source": [
    "sampleall = nm.copy(deep=True)"
   ]
  },
  {
   "cell_type": "code",
   "execution_count": 86,
   "metadata": {},
   "outputs": [],
   "source": [
    "sampleall.drop(['B_DCD',\n",
    " 'B_DDB',\n",
    " 'B_DND',\n",
    " 'B_DWD'], axis=1, inplace=True)"
   ]
  },
  {
   "cell_type": "code",
   "execution_count": 953,
   "metadata": {},
   "outputs": [
    {
     "data": {
      "image/png": "[encoded data removed]",
      "text/plain": [
       "<Figure size 432x288 with 1 Axes>"
      ]
     },
     "metadata": {
      "needs_background": "light"
     },
     "output_type": "display_data"
    }
   ],
   "source": [
    "sa = sampleall.groupby(\"Force_Level\").day.value_counts()\n",
    "plt.bar(sa[1].index, list(sa[1]));\n",
    "#sa[3].index, list(sa[3])"
   ]
  },
  {
   "cell_type": "code",
   "execution_count": 87,
   "metadata": {},
   "outputs": [],
   "source": [
    "#sampleall.drop(\"day\", axis=1, inplace=True)\n",
    "sampleall[\"S_BOY\"] = sampleall[\"S_BOY\"] + sampleall[\"S_B\"]\n",
    "sampleall[\"S_CHARLIE\"] = sampleall[\"S_CHARLIE\"] + sampleall[\"S_C\"]\n",
    "sampleall[\"S_DAVID\"] = sampleall[\"S_DAVID\"] + sampleall[\"S_D\"]\n",
    "sampleall[\"S_EDWARD\"] = sampleall[\"S_EDWARD\"] + sampleall[\"S_E\"]\n",
    "sampleall[\"S_FRANK\"] = sampleall[\"S_FRANK\"] + sampleall[\"S_F\"]\n",
    "sampleall[\"S_GEORGE\"] = sampleall[\"S_GEORGE\"] + sampleall[\"S_G\"]\n",
    "\n",
    "sampleall[\"S_JOHN\"] = sampleall[\"S_JOHN\"] + sampleall[\"S_J\"]\n",
    "sampleall[\"S_KING\"] = sampleall[\"S_KING\"] + sampleall[\"S_K\"]\n",
    "sampleall[\"S_LINCOLN\"] = sampleall[\"S_LINCOLN\"] + sampleall[\"S_L\"]\n",
    "sampleall[\"S_MARY\"] = sampleall[\"S_MARY\"] + sampleall[\"S_M\"]\n",
    "sampleall[\"S_NORA\"] = sampleall[\"S_NORA\"] + sampleall[\"S_N\"]\n",
    "sampleall[\"S_OCEAN\"] = sampleall[\"S_OCEAN\"] + sampleall[\"S_O\"]\n",
    "\n",
    "sampleall[\"S_QUEEN\"] = sampleall[\"S_QUEEN\"] + sampleall[\"S_Q\"]\n",
    "sampleall[\"S_ROBERT\"] = sampleall[\"S_ROBERT\"] + sampleall[\"S_R\"]\n",
    "sampleall[\"S_SAM\"] = sampleall[\"S_SAM\"] + sampleall[\"S_S\"]\n",
    "sampleall[\"S_UNION\"] = sampleall[\"S_UNION\"] + sampleall[\"S_U\"]\n",
    "sampleall[\"S_WILLIAM\"] = sampleall[\"S_WILLIAM\"] + sampleall[\"S_W\"]\n",
    "\n"
   ]
  },
  {
   "cell_type": "code",
   "execution_count": 88,
   "metadata": {},
   "outputs": [],
   "source": [
    "sampleall.drop([\"S_W\", \"S_U\",\"S_S\",  \"S_R\", \"S_Q\", \"S_O\",\"S_N\", \"S_M\", \"S_L\",\"S_K\", \"S_J\", \"S_G\", \"S_F\",\n",
    "               \"S_E\",\"S_D\", \"S_C\", \"S_B\"], axis=1, inplace=True)"
   ]
  },
  {
   "cell_type": "code",
   "execution_count": 91,
   "metadata": {},
   "outputs": [
    {
     "data": {
      "text/plain": [
       "['Force_Level',\n",
       " 'P_EAST',\n",
       " 'P_NORTH',\n",
       " 'P_SOUTH',\n",
       " 'P_SOUTHWEST',\n",
       " 'P_WEST',\n",
       " 'S_BOY',\n",
       " 'S_CHARLIE',\n",
       " 'S_DAVID',\n",
       " 'S_EDWARD',\n",
       " 'S_FRANK',\n",
       " 'S_GEORGE',\n",
       " 'S_JOHN',\n",
       " 'S_KING',\n",
       " 'S_LINCOLN',\n",
       " 'S_MARY',\n",
       " 'S_NORA',\n",
       " 'S_OCEAN',\n",
       " 'S_QUEEN',\n",
       " 'S_ROBERT',\n",
       " 'S_SAM',\n",
       " 'S_UNION',\n",
       " 'S_WILLIAM',\n",
       " 'B_99',\n",
       " 'B_B1',\n",
       " 'B_B2',\n",
       " 'B_B3',\n",
       " 'B_BS',\n",
       " 'B_C1',\n",
       " 'B_C2',\n",
       " 'B_C3',\n",
       " 'B_CCD',\n",
       " 'B_CD',\n",
       " 'B_CDD',\n",
       " 'B_CMD',\n",
       " 'B_CMD2',\n",
       " 'B_COMM',\n",
       " 'B_CS',\n",
       " 'B_CTY',\n",
       " 'B_D1',\n",
       " 'B_D2',\n",
       " 'B_D3',\n",
       " 'B_DBB',\n",
       " 'B_DBD',\n",
       " 'B_DCC',\n",
       " 'B_DET',\n",
       " 'B_DS',\n",
       " 'B_DSPV',\n",
       " 'B_DSPVD',\n",
       " 'B_E',\n",
       " 'B_E1',\n",
       " 'B_E2',\n",
       " 'B_E3',\n",
       " 'B_ED',\n",
       " 'B_EP',\n",
       " 'B_ES',\n",
       " 'B_F1',\n",
       " 'B_F2',\n",
       " 'B_F3',\n",
       " 'B_FS',\n",
       " 'B_G1',\n",
       " 'B_G2',\n",
       " 'B_G3',\n",
       " 'B_GS',\n",
       " 'B_H2',\n",
       " 'B_H3',\n",
       " 'B_HBR',\n",
       " 'B_HS',\n",
       " 'B_INV',\n",
       " 'B_J1',\n",
       " 'B_J2',\n",
       " 'B_J3',\n",
       " 'B_JS',\n",
       " 'B_K1',\n",
       " 'B_K2',\n",
       " 'B_K3',\n",
       " 'B_KS',\n",
       " 'B_L1',\n",
       " 'B_L2',\n",
       " 'B_L3',\n",
       " 'B_LAPT',\n",
       " 'B_LS',\n",
       " 'B_M1',\n",
       " 'B_M2',\n",
       " 'B_M3',\n",
       " 'B_MS',\n",
       " 'B_N',\n",
       " 'B_N1',\n",
       " 'B_N2',\n",
       " 'B_N3',\n",
       " 'B_ND',\n",
       " 'B_NP',\n",
       " 'B_NS',\n",
       " 'B_O1',\n",
       " 'B_O2',\n",
       " 'B_O3',\n",
       " 'B_OD',\n",
       " 'B_ODD',\n",
       " 'B_OS',\n",
       " 'B_Q1',\n",
       " 'B_Q2',\n",
       " 'B_Q3',\n",
       " 'B_QS',\n",
       " 'B_R1',\n",
       " 'B_R2',\n",
       " 'B_R3',\n",
       " 'B_RS',\n",
       " 'B_S',\n",
       " 'B_S1',\n",
       " 'B_S2',\n",
       " 'B_S3',\n",
       " 'B_SCTR1',\n",
       " 'B_SD',\n",
       " 'B_SOUTH',\n",
       " 'B_SP',\n",
       " 'B_SPCT',\n",
       " 'B_SPVD',\n",
       " 'B_SPVDD',\n",
       " 'B_SS',\n",
       " 'B_SW',\n",
       " 'B_SWT',\n",
       " 'B_T',\n",
       " 'B_TAC2',\n",
       " 'B_TAC3',\n",
       " 'B_TAC9',\n",
       " 'B_TQ',\n",
       " 'B_TRF',\n",
       " 'B_U1',\n",
       " 'B_U2',\n",
       " 'B_U3',\n",
       " 'B_US',\n",
       " 'B_W',\n",
       " 'B_W1',\n",
       " 'B_W2',\n",
       " 'B_W3',\n",
       " 'B_WD',\n",
       " 'B_WP',\n",
       " 'B_WS',\n",
       " 'B_XDD',\n",
       " 'SG_Female',\n",
       " 'SG_Male',\n",
       " 'SR_American Indian/Alaska Native',\n",
       " 'SR_Asian',\n",
       " 'SR_Black or African American',\n",
       " 'SR_Hispanic or Latino',\n",
       " 'SR_Nat Hawaiian/Oth Pac Islander',\n",
       " 'SR_White',\n",
       " 'CT_911',\n",
       " 'CT_ALARM CALL (NOT POLICE ALARM)',\n",
       " 'CT_HISTORY CALL (RETRO)',\n",
       " 'CT_IN PERSON COMPLAINT',\n",
       " 'CT_ONVIEW',\n",
       " 'CT_POLICE (VARDA) ALARM',\n",
       " 'CT_PROACTIVE (OFFICER INITIATED)',\n",
       " 'CT_SCHEDULED EVENT (RECURRING)',\n",
       " 'CT_TELEPHONE OTHER, NOT 911',\n",
       " 'CT_TEXT MESSAGE',\n",
       " 'ICT_Aggressive Panhandling',\n",
       " 'ICT_Alarm',\n",
       " 'ICT_Animal - Dangerous / Bite',\n",
       " 'ICT_Assault',\n",
       " 'ICT_Assigned Duty',\n",
       " 'ICT_Assisting other agencies',\n",
       " 'ICT_Auto Recovery',\n",
       " 'ICT_Behavioral / Emotional Crisis',\n",
       " 'ICT_Casualty',\n",
       " 'ICT_Check for Person Down',\n",
       " 'ICT_Child Abuse',\n",
       " 'ICT_DUI - Driving While Under the Influence',\n",
       " 'ICT_Damaged Property',\n",
       " 'ICT_Deadly Weapon - No Assault',\n",
       " 'ICT_Disturbance',\n",
       " 'ICT_Domestic Violence',\n",
       " 'ICT_Eluding Police',\n",
       " 'ICT_Explosion / Arson',\n",
       " 'ICT_Follow up',\n",
       " 'ICT_Fraud',\n",
       " 'ICT_Gambling',\n",
       " 'ICT_Harassment',\n",
       " 'ICT_Hazard - immediate threat',\n",
       " 'ICT_Illegal Dumping',\n",
       " 'ICT_Injuries from Industrial Accidents',\n",
       " 'ICT_Lewd Conduct',\n",
       " 'ICT_Liquor Violations',\n",
       " 'ICT_Missing Person',\n",
       " 'ICT_Motor Vehicle Collision',\n",
       " 'ICT_Moving Violation',\n",
       " 'ICT_Narcotics',\n",
       " 'ICT_Nuisance',\n",
       " 'ICT_Overdose - Drug Related Casualty',\n",
       " 'ICT_Parking Violation',\n",
       " 'ICT_Parks Violations',\n",
       " 'ICT_Pickup Person',\n",
       " 'ICT_Police Initiated - Off Duty',\n",
       " 'ICT_Police Initiated - On Duty',\n",
       " 'ICT_Predictive Policing',\n",
       " 'ICT_Property lost or found',\n",
       " 'ICT_Prostitution',\n",
       " 'ICT_Rape',\n",
       " 'ICT_Request for Detox',\n",
       " 'ICT_Request to Watch / Ensure Peace',\n",
       " 'ICT_Road Rage',\n",
       " 'ICT_Robbery',\n",
       " 'ICT_Shots heard',\n",
       " 'ICT_Sleeper Aboard Public Transit',\n",
       " 'ICT_Suicidal person or attempts',\n",
       " 'ICT_Suspicious person, vehicle, incident',\n",
       " 'ICT_Threats',\n",
       " 'ICT_Trespass',\n",
       " 'ICT_Violation of Court Order (Not Domestic Violence)',\n",
       " 'ICT_Welfare Check',\n",
       " 'dow_0',\n",
       " 'dow_1',\n",
       " 'dow_2',\n",
       " 'dow_3',\n",
       " 'dow_4',\n",
       " 'dow_5',\n",
       " 'dow_6',\n",
       " 'month_1',\n",
       " 'month_2',\n",
       " 'month_3',\n",
       " 'month_4',\n",
       " 'month_5',\n",
       " 'month_6',\n",
       " 'month_7',\n",
       " 'month_8',\n",
       " 'month_9',\n",
       " 'month_10',\n",
       " 'month_11',\n",
       " 'month_12',\n",
       " 'sin_hour2',\n",
       " 'cos_hour2']"
      ]
     },
     "execution_count": 91,
     "metadata": {},
     "output_type": "execute_result"
    }
   ],
   "source": [
    "sampleall.drop(['SG_Not Specified',\"SR_Not Specified\", \"CT_FK ERROR\", \"S_99\", \"P_UNKNOWN\"], axis=1, inplace=True)\n"
   ]
  },
  {
   "cell_type": "code",
   "execution_count": 92,
   "metadata": {},
   "outputs": [],
   "source": [
    "\n",
    "sampleall.drop([  \"B_99\", \"B_CCD\",\"B_CD\", \"B_CDD\",\n",
    "               \"B_CMD\", \"B_CMD2\", \"B_COMM\", \"B_CS\",\"B_CTY\", \"B_DBB\", \"B_DBD\", \"B_DCC\", \"B_DET\", \"B_DS\", \"B_DSPVD\",\n",
    "                \"B_E\", \"B_EP\", \"B_ED\", \"B_ES\", \"B_GS\", \"B_HS\", \"B_INV\", \"B_LAPT\",  \"B_N\", \"B_ODD\", \"B_OS\", \"B_S\", \n",
    "                \"B_SCTR1\", \"B_SD\", \"B_SP\",\"B_JS\",\"B_SPCT\", \"B_SOUTH\",  \"B_KS\", \"B_LS\",\"B_MS\", \"B_ND\", \"B_NP\", \"B_NS\", \"B_OD\", \"B_QS\", \n",
    "               \"B_SPVD\", \"B_SPVDD\", \"B_SW\", \"B_SS\", \"B_SWT\", \"B_T\", \"B_TAC2\", \"B_TAC3\", \"B_TQ\", \"B_TRF\", \"B_W\", \"B_US\",\"B_W\",  \"B_WD\", \n",
    "               \"B_WP\", \"B_WS\", \"B_XDD\"], axis=1, inplace=True)\n"
   ]
  },
  {
   "cell_type": "code",
   "execution_count": 94,
   "metadata": {},
   "outputs": [
    {
     "data": {
      "text/plain": [
       "['Force_Level',\n",
       " 'P_EAST',\n",
       " 'P_NORTH',\n",
       " 'P_SOUTH',\n",
       " 'P_SOUTHWEST',\n",
       " 'P_WEST',\n",
       " 'S_BOY',\n",
       " 'S_CHARLIE',\n",
       " 'S_DAVID',\n",
       " 'S_EDWARD',\n",
       " 'S_FRANK',\n",
       " 'S_GEORGE',\n",
       " 'S_JOHN',\n",
       " 'S_KING',\n",
       " 'S_LINCOLN',\n",
       " 'S_MARY',\n",
       " 'S_NORA',\n",
       " 'S_OCEAN',\n",
       " 'S_QUEEN',\n",
       " 'S_ROBERT',\n",
       " 'S_SAM',\n",
       " 'S_UNION',\n",
       " 'S_WILLIAM',\n",
       " 'B_B1',\n",
       " 'B_B2',\n",
       " 'B_B3',\n",
       " 'B_BS',\n",
       " 'B_C1',\n",
       " 'B_C2',\n",
       " 'B_C3',\n",
       " 'B_D1',\n",
       " 'B_D2',\n",
       " 'B_D3',\n",
       " 'B_E1',\n",
       " 'B_E2',\n",
       " 'B_E3',\n",
       " 'B_F1',\n",
       " 'B_F2',\n",
       " 'B_F3',\n",
       " 'B_FS',\n",
       " 'B_G1',\n",
       " 'B_G2',\n",
       " 'B_G3',\n",
       " 'B_H2',\n",
       " 'B_H3',\n",
       " 'B_J1',\n",
       " 'B_J2',\n",
       " 'B_J3',\n",
       " 'B_K1',\n",
       " 'B_K2',\n",
       " 'B_K3',\n",
       " 'B_L1',\n",
       " 'B_L2',\n",
       " 'B_L3',\n",
       " 'B_M1',\n",
       " 'B_M2',\n",
       " 'B_M3',\n",
       " 'B_N1',\n",
       " 'B_N2',\n",
       " 'B_N3',\n",
       " 'B_O1',\n",
       " 'B_O2',\n",
       " 'B_O3',\n",
       " 'B_Q1',\n",
       " 'B_Q2',\n",
       " 'B_Q3',\n",
       " 'B_R1',\n",
       " 'B_R2',\n",
       " 'B_R3',\n",
       " 'B_RS',\n",
       " 'B_S1',\n",
       " 'B_S2',\n",
       " 'B_S3',\n",
       " 'B_U1',\n",
       " 'B_U2',\n",
       " 'B_U3',\n",
       " 'B_W1',\n",
       " 'B_W2',\n",
       " 'B_W3',\n",
       " 'SG_Female',\n",
       " 'SG_Male',\n",
       " 'SR_American Indian/Alaska Native',\n",
       " 'SR_Asian',\n",
       " 'SR_Black or African American',\n",
       " 'SR_Hispanic or Latino',\n",
       " 'SR_Nat Hawaiian/Oth Pac Islander',\n",
       " 'SR_White',\n",
       " 'CT_911',\n",
       " 'CT_ALARM CALL (NOT POLICE ALARM)',\n",
       " 'CT_IN PERSON COMPLAINT',\n",
       " 'CT_ONVIEW',\n",
       " 'CT_POLICE (VARDA) ALARM',\n",
       " 'CT_PROACTIVE (OFFICER INITIATED)',\n",
       " 'CT_SCHEDULED EVENT (RECURRING)',\n",
       " 'CT_TELEPHONE OTHER, NOT 911',\n",
       " 'CT_TEXT MESSAGE',\n",
       " 'ICT_Aggressive Panhandling',\n",
       " 'ICT_Alarm',\n",
       " 'ICT_Animal - Dangerous / Bite',\n",
       " 'ICT_Assault',\n",
       " 'ICT_Assigned Duty',\n",
       " 'ICT_Assisting other agencies',\n",
       " 'ICT_Auto Recovery',\n",
       " 'ICT_Behavioral / Emotional Crisis',\n",
       " 'ICT_Casualty',\n",
       " 'ICT_Check for Person Down',\n",
       " 'ICT_Child Abuse',\n",
       " 'ICT_DUI - Driving While Under the Influence',\n",
       " 'ICT_Damaged Property',\n",
       " 'ICT_Deadly Weapon - No Assault',\n",
       " 'ICT_Disturbance',\n",
       " 'ICT_Domestic Violence',\n",
       " 'ICT_Eluding Police',\n",
       " 'ICT_Explosion / Arson',\n",
       " 'ICT_Follow up',\n",
       " 'ICT_Fraud',\n",
       " 'ICT_Gambling',\n",
       " 'ICT_Harassment',\n",
       " 'ICT_Hazard - immediate threat',\n",
       " 'ICT_Illegal Dumping',\n",
       " 'ICT_Injuries from Industrial Accidents',\n",
       " 'ICT_Lewd Conduct',\n",
       " 'ICT_Liquor Violations',\n",
       " 'ICT_Missing Person',\n",
       " 'ICT_Motor Vehicle Collision',\n",
       " 'ICT_Moving Violation',\n",
       " 'ICT_Narcotics',\n",
       " 'ICT_Nuisance',\n",
       " 'ICT_Overdose - Drug Related Casualty',\n",
       " 'ICT_Parking Violation',\n",
       " 'ICT_Pickup Person',\n",
       " 'ICT_Police Initiated - Off Duty',\n",
       " 'ICT_Police Initiated - On Duty',\n",
       " 'ICT_Predictive Policing',\n",
       " 'ICT_Property lost or found',\n",
       " 'ICT_Prostitution',\n",
       " 'ICT_Rape',\n",
       " 'ICT_Request for Detox',\n",
       " 'ICT_Request to Watch / Ensure Peace',\n",
       " 'ICT_Road Rage',\n",
       " 'ICT_Robbery',\n",
       " 'ICT_Shots heard',\n",
       " 'ICT_Sleeper Aboard Public Transit',\n",
       " 'ICT_Suicidal person or attempts',\n",
       " 'ICT_Suspicious person, vehicle, incident',\n",
       " 'ICT_Threats',\n",
       " 'ICT_Trespass',\n",
       " 'ICT_Violation of Court Order (Not Domestic Violence)',\n",
       " 'ICT_Welfare Check',\n",
       " 'dow_0',\n",
       " 'dow_1',\n",
       " 'dow_2',\n",
       " 'dow_3',\n",
       " 'dow_4',\n",
       " 'dow_5',\n",
       " 'dow_6',\n",
       " 'month_1',\n",
       " 'month_2',\n",
       " 'month_3',\n",
       " 'month_4',\n",
       " 'month_5',\n",
       " 'month_6',\n",
       " 'month_7',\n",
       " 'month_8',\n",
       " 'month_9',\n",
       " 'month_10',\n",
       " 'month_11',\n",
       " 'month_12',\n",
       " 'sin_hour2',\n",
       " 'cos_hour2']"
      ]
     },
     "execution_count": 94,
     "metadata": {},
     "output_type": "execute_result"
    }
   ],
   "source": [
    "sampleall.drop([\"B_DSPV\", \"B_HBR\", \"B_TAC9\", 'CT_HISTORY CALL (RETRO)','ICT_Parks Violations' ], axis=1, inplace=True)\n",
    "list(sampleall.columns)"
   ]
  },
  {
   "cell_type": "code",
   "execution_count": 86,
   "metadata": {},
   "outputs": [],
   "source": [
    "beat = \"E3\"\n",
    "\n"
   ]
  },
  {
   "cell_type": "code",
   "execution_count": 87,
   "metadata": {},
   "outputs": [],
   "source": [
    "if beat.startswith(\"C\" or \"E\" or \"G\"):\n",
    "        precinct = \"EAST\""
   ]
  },
  {
   "cell_type": "code",
   "execution_count": 88,
   "metadata": {},
   "outputs": [
    {
     "data": {
      "text/plain": [
       "'foo'"
      ]
     },
     "execution_count": 88,
     "metadata": {},
     "output_type": "execute_result"
    }
   ],
   "source": [
    "precinct"
   ]
  },
  {
   "cell_type": "code",
   "execution_count": 90,
   "metadata": {},
   "outputs": [],
   "source": [
    "with open('gbclrpoint1n_estimators100_model.pkl', 'rb') as modelZ:\n",
    "        model = pickle.load(modelZ)"
   ]
  },
  {
   "cell_type": "code",
   "execution_count": 122,
   "metadata": {},
   "outputs": [
    {
     "name": "stdout",
     "output_type": "stream",
     "text": [
      "<class 'pandas.core.frame.DataFrame'>\n",
      "RangeIndex: 1 entries, 0 to 0\n",
      "Data columns (total 169 columns):\n",
      "P_EAST                                                  int64\n",
      "P_NORTH                                                 int64\n",
      "P_SOUTH                                                 int64\n",
      "P_SOUTHWEST                                             int64\n",
      "P_WEST                                                  int64\n",
      "S_BOY                                                   int64\n",
      "S_CHARLIE                                               int64\n",
      "S_DAVID                                                 int64\n",
      "S_EDWARD                                                int64\n",
      "S_FRANK                                                 int64\n",
      "S_GEORGE                                                int64\n",
      "S_JOHN                                                  int64\n",
      "S_KING                                                  int64\n",
      "S_LINCOLN                                               int64\n",
      "S_MARY                                                  int64\n",
      "S_NORA                                                  int64\n",
      "S_OCEAN                                                 int64\n",
      "S_QUEEN                                                 int64\n",
      "S_ROBERT                                                int64\n",
      "S_SAM                                                   int64\n",
      "S_UNION                                                 int64\n",
      "S_WILLIAM                                               int64\n",
      "B_B1                                                    int64\n",
      "B_B2                                                    int64\n",
      "B_B3                                                    int64\n",
      "B_BS                                                    int64\n",
      "B_C1                                                    int64\n",
      "B_C2                                                    int64\n",
      "B_C3                                                    int64\n",
      "B_D1                                                    int64\n",
      "B_D2                                                    int64\n",
      "B_D3                                                    int64\n",
      "B_E1                                                    int64\n",
      "B_E2                                                    int64\n",
      "B_E3                                                    int64\n",
      "B_F1                                                    int64\n",
      "B_F2                                                    int64\n",
      "B_F3                                                    int64\n",
      "B_FS                                                    int64\n",
      "B_G1                                                    int64\n",
      "B_G2                                                    int64\n",
      "B_G3                                                    int64\n",
      "B_H2                                                    int64\n",
      "B_H3                                                    int64\n",
      "B_J1                                                    int64\n",
      "B_J2                                                    int64\n",
      "B_J3                                                    int64\n",
      "B_K1                                                    int64\n",
      "B_K2                                                    int64\n",
      "B_K3                                                    int64\n",
      "B_L1                                                    int64\n",
      "B_L2                                                    int64\n",
      "B_L3                                                    int64\n",
      "B_M1                                                    int64\n",
      "B_M2                                                    int64\n",
      "B_M3                                                    int64\n",
      "B_N1                                                    int64\n",
      "B_N2                                                    int64\n",
      "B_N3                                                    int64\n",
      "B_O1                                                    int64\n",
      "B_O2                                                    int64\n",
      "B_O3                                                    int64\n",
      "B_Q1                                                    int64\n",
      "B_Q2                                                    int64\n",
      "B_Q3                                                    int64\n",
      "B_R1                                                    int64\n",
      "B_R2                                                    int64\n",
      "B_R3                                                    int64\n",
      "B_RS                                                    int64\n",
      "B_S1                                                    int64\n",
      "B_S2                                                    int64\n",
      "B_S3                                                    int64\n",
      "B_U1                                                    int64\n",
      "B_U2                                                    int64\n",
      "B_U3                                                    int64\n",
      "B_W1                                                    int64\n",
      "B_W2                                                    int64\n",
      "B_W3                                                    int64\n",
      "SG_Female                                               int64\n",
      "SG_Male                                                 int64\n",
      "SR_American Indian/Alaska Native                        int64\n",
      "SR_Asian                                                int64\n",
      "SR_Black or African American                            int64\n",
      "SR_Hispanic or Latino                                   int64\n",
      "SR_Nat Hawaiian/Oth Pac Islander                        int64\n",
      "SR_White                                                int64\n",
      "CT_911                                                  int64\n",
      "CT_ALARM CALL (NOT POLICE ALARM)                        int64\n",
      "CT_IN PERSON COMPLAINT                                  int64\n",
      "CT_ONVIEW                                               int64\n",
      "CT_POLICE (VARDA) ALARM                                 int64\n",
      "CT_PROACTIVE (OFFICER INITIATED)                        int64\n",
      "CT_SCHEDULED EVENT (RECURRING)                          int64\n",
      "CT_TELEPHONE OTHER, NOT 911                             int64\n",
      "CT_TEXT MESSAGE                                         int64\n",
      "ICT_Aggressive Panhandling                              int64\n",
      "ICT_Alarm                                               int64\n",
      "ICT_Animal - Dangerous / Bite                           int64\n",
      "ICT_Assault                                             int64\n",
      "ICT_Assigned Duty                                       int64\n",
      "ICT_Assisting other agencies                            int64\n",
      "ICT_Auto Recovery                                       int64\n",
      "ICT_Behavioral / Emotional Crisis                       int64\n",
      "ICT_Casualty                                            int64\n",
      "ICT_Check for Person Down                               int64\n",
      "ICT_Child Abuse                                         int64\n",
      "ICT_DUI - Driving While Under the Influence             int64\n",
      "ICT_Damaged Property                                    int64\n",
      "ICT_Deadly Weapon - No Assault                          int64\n",
      "ICT_Disturbance                                         int64\n",
      "ICT_Domestic Violence                                   int64\n",
      "ICT_Eluding Police                                      int64\n",
      "ICT_Explosion / Arson                                   int64\n",
      "ICT_Follow up                                           int64\n",
      "ICT_Fraud                                               int64\n",
      "ICT_Gambling                                            int64\n",
      "ICT_Harassment                                          int64\n",
      "ICT_Hazard - immediate threat                           int64\n",
      "ICT_Illegal Dumping                                     int64\n",
      "ICT_Injuries from Industrial Accidents                  int64\n",
      "ICT_Lewd Conduct                                        int64\n",
      "ICT_Liquor Violations                                   int64\n",
      "ICT_Missing Person                                      int64\n",
      "ICT_Motor Vehicle Collision                             int64\n",
      "ICT_Moving Violation                                    int64\n",
      "ICT_Narcotics                                           int64\n",
      "ICT_Nuisance                                            int64\n",
      "ICT_Overdose - Drug Related Casualty                    int64\n",
      "ICT_Parking Violation                                   int64\n",
      "ICT_Pickup Person                                       int64\n",
      "ICT_Police Initiated - Off Duty                         int64\n",
      "ICT_Police Initiated - On Duty                          int64\n",
      "ICT_Predictive Policing                                 int64\n",
      "ICT_Property lost or found                              int64\n",
      "ICT_Prostitution                                        int64\n",
      "ICT_Rape                                                int64\n",
      "ICT_Request for Detox                                   int64\n",
      "ICT_Request to Watch / Ensure Peace                     int64\n",
      "ICT_Road Rage                                           int64\n",
      "ICT_Robbery                                             int64\n",
      "ICT_Shots heard                                         int64\n",
      "ICT_Sleeper Aboard Public Transit                       int64\n",
      "ICT_Suicidal person or attempts                         int64\n",
      "ICT_Suspicious person, vehicle, incident                int64\n",
      "ICT_Threats                                             int64\n",
      "ICT_Trespass                                            int64\n",
      "ICT_Violation of Court Order (Not Domestic Violence)    int64\n",
      "ICT_Welfare Check                                       int64\n",
      "dow_0                                                   int64\n",
      "dow_1                                                   int64\n",
      "dow_2                                                   int64\n",
      "dow_3                                                   int64\n",
      "dow_4                                                   int64\n",
      "dow_5                                                   int64\n",
      "dow_6                                                   int64\n",
      "month_1                                                 int64\n",
      "month_2                                                 int64\n",
      "month_3                                                 int64\n",
      "month_4                                                 int64\n",
      "month_5                                                 int64\n",
      "month_6                                                 int64\n",
      "month_7                                                 int64\n",
      "month_8                                                 int64\n",
      "month_9                                                 int64\n",
      "month_10                                                int64\n",
      "month_11                                                int64\n",
      "month_12                                                int64\n",
      "sin_hour2                                               int64\n",
      "cos_hour2                                               int64\n",
      "dtypes: int64(169)\n",
      "memory usage: 1.4 KB\n"
     ]
    }
   ],
   "source": [
    "d.loc[0, \"ICT_Shots heard\"] = 1\n",
    "d.info(verbose=True)"
   ]
  },
  {
   "cell_type": "code",
   "execution_count": 157,
   "metadata": {},
   "outputs": [],
   "source": [
    "d = pd.DataFrame(np.zeros((1,169), dtype=np.float64), columns=col_lst)"
   ]
  },
  {
   "cell_type": "code",
   "execution_count": 266,
   "metadata": {},
   "outputs": [
    {
     "data": {
      "text/plain": [
       "array([[9.99976862e-01, 1.40346348e-05, 8.71489584e-06, 2.18608311e-07,\n",
       "        1.70007264e-07]])"
      ]
     },
     "execution_count": 266,
     "metadata": {},
     "output_type": "execute_result"
    }
   ],
   "source": [
    "logr.predict_proba(d)"
   ]
  },
  {
   "cell_type": "code",
   "execution_count": 172,
   "metadata": {},
   "outputs": [],
   "source": [
    "x = X.iloc[:10, :]"
   ]
  },
  {
   "cell_type": "code",
   "execution_count": 175,
   "metadata": {},
   "outputs": [
    {
     "data": {
      "text/plain": [
       "array([[0., 1., 0., 0., 0.],\n",
       "       [0., 0., 0., 1., 0.],\n",
       "       [0., 1., 0., 0., 0.],\n",
       "       [0., 1., 0., 0., 0.],\n",
       "       [0., 1., 0., 0., 0.],\n",
       "       [0., 1., 0., 0., 0.],\n",
       "       [0., 1., 0., 0., 0.],\n",
       "       [0., 1., 0., 0., 0.],\n",
       "       [0., 0., 0., 1., 0.],\n",
       "       [0., 0., 0., 1., 0.]])"
      ]
     },
     "execution_count": 175,
     "metadata": {},
     "output_type": "execute_result"
    }
   ],
   "source": [
    "gbc1.predict_proba(x)"
   ]
  },
  {
   "cell_type": "code",
   "execution_count": 48,
   "metadata": {},
   "outputs": [],
   "source": [
    "pq = pd.read_pickle(\"data/rev_df_before_dummies.pkl\")"
   ]
  },
  {
   "cell_type": "code",
   "execution_count": 66,
   "metadata": {},
   "outputs": [],
   "source": [
    "pq[[\"Precinct\", \"Sector\", \"Beat\"]]\n",
    "ind = pq.Sector.value_counts().index[:17]\n",
    "lst = [i for i in ind]\n",
    "lst\n",
    "\n",
    "with open('sectors_lst', 'wb') as pl:\n",
    "    pickle.dump(lst, pl)"
   ]
  },
  {
   "cell_type": "code",
   "execution_count": 308,
   "metadata": {},
   "outputs": [],
   "source": [
    "sampleall = pd.read_pickle(\"data/df_ready_to_split_to_X_y_no_day.pkl\")\n",
    "\n",
    "sa = sampleall.copy(deep=True)\n",
    "\n",
    "X = sampleall.drop(\"Force_Level\", axis=1)\n",
    "y = sampleall.Force_Level\n",
    "\n",
    "cols = X.columns\n",
    "\n",
    "# Binarize the output\n",
    "y = label_binarize(y, classes=[0, 1, 2])\n",
    "n_classes = y.shape[1]\n",
    "\n",
    "# Add noisy features to make the problem harder\n",
    "random_state = np.random.RandomState(0)\n",
    "n_samples, n_features = X.shape\n",
    "X = np.c_[X, random_state.randn(n_samples, 200 * n_features)]\n",
    "\n",
    "# shuffle and split training and test sets\n",
    "X_train, X_test, y_train, y_test = train_test_split(X, y, test_size=.5,\n",
    "                                                    random_state=0)"
   ]
  },
  {
   "cell_type": "code",
   "execution_count": 47,
   "metadata": {},
   "outputs": [],
   "source": [
    "col_lst = list(cols)\n"
   ]
  },
  {
   "cell_type": "code",
   "execution_count": 25,
   "metadata": {},
   "outputs": [],
   "source": [
    "with open('col_lst', 'wb') as fp:\n",
    "    pickle.dump(col_lst, fp)"
   ]
  },
  {
   "cell_type": "code",
   "execution_count": 27,
   "metadata": {},
   "outputs": [],
   "source": [
    "with open ('col_lst', 'rb') as fp:\n",
    "    itemlist = pickle.load(fp)"
   ]
  },
  {
   "cell_type": "code",
   "execution_count": 29,
   "metadata": {},
   "outputs": [],
   "source": [
    "d = pd.DataFrame(np.zeros((1, 169)), columns=col_lst)"
   ]
  },
  {
   "cell_type": "code",
   "execution_count": 41,
   "metadata": {},
   "outputs": [],
   "source": [
    "beat = \"E2\""
   ]
  },
  {
   "cell_type": "code",
   "execution_count": 52,
   "metadata": {},
   "outputs": [],
   "source": [
    "beat[:1]\n",
    "\n",
    "precincts = [\"Echo\", \"Foxtrot\"]"
   ]
  },
  {
   "cell_type": "code",
   "execution_count": 59,
   "metadata": {},
   "outputs": [
    {
     "data": {
      "text/plain": [
       "'Echo'"
      ]
     },
     "execution_count": 59,
     "metadata": {},
     "output_type": "execute_result"
    }
   ],
   "source": [
    "result = [i for i in precincts if i.startswith(beat[:1])]\n",
    "result[0]"
   ]
  },
  {
   "cell_type": "code",
   "execution_count": 181,
   "metadata": {},
   "outputs": [],
   "source": [
    "# will need to change nm2 to X_scaled if we use this later - X_scaled hung and never finished (~10minutes)\n",
    "\n",
    "X_train, X_test, y_train, y_test = train_test_split(X, y, test_size=0.2, random_state=659)\n",
    "\n"
   ]
  },
  {
   "cell_type": "code",
   "execution_count": 104,
   "metadata": {},
   "outputs": [],
   "source": [
    "# logistic regression\n",
    "\n",
    "'''logr = LogisticRegression(random_state=659, solver=\"saga\", n_jobs=-1, multi_class ='multinomial', verbose=1)\n",
    "logr.fit(X_train, y_train)\n",
    "\n",
    "with open('logr_model.pkl', 'wb') as my_pickle:\n",
    "        pickle.dump(logr, my_pickle)\n",
    "'''"
   ]
  },
  {
   "cell_type": "code",
   "execution_count": 182,
   "metadata": {
    "scrolled": true
   },
   "outputs": [
    {
     "name": "stderr",
     "output_type": "stream",
     "text": [
      "/Users/sarahburgart/anaconda3/lib/python3.7/site-packages/sklearn/base.py:306: UserWarning: Trying to unpickle estimator DecisionTreeRegressor from version 0.20.3 when using version 0.21.2. This might lead to breaking code or invalid results. Use at your own risk.\n",
      "  UserWarning)\n",
      "/Users/sarahburgart/anaconda3/lib/python3.7/site-packages/sklearn/base.py:306: UserWarning: Trying to unpickle estimator GradientBoostingClassifier from version 0.20.3 when using version 0.21.2. This might lead to breaking code or invalid results. Use at your own risk.\n",
      "  UserWarning)\n"
     ]
    }
   ],
   "source": [
    "logr = pickle.load(open('logr_model.pkl', 'rb'))\n",
    "gbc1 = pickle.load(open('gbclrpoint1n_estimators100_model.pkl', 'rb'))\n",
    "gbr1 = pickle.load(open('gbrbasic.pkl', 'rb'))\n",
    "clf = pickle.load(open('clf_model.pkl', 'rb'))\n",
    "#gbc3 = pickle.load(open('gbc3.pkl', 'rb')) "
   ]
  },
  {
   "cell_type": "code",
   "execution_count": 252,
   "metadata": {},
   "outputs": [
    {
     "name": "stdout",
     "output_type": "stream",
     "text": [
      "<class 'pandas.core.frame.DataFrame'>\n",
      "RangeIndex: 1 entries, 0 to 0\n",
      "Data columns (total 169 columns):\n",
      "P_EAST                                                  float64\n",
      "P_NORTH                                                 float64\n",
      "P_SOUTH                                                 float64\n",
      "P_SOUTHWEST                                             float64\n",
      "P_WEST                                                  float64\n",
      "S_BOY                                                   float64\n",
      "S_CHARLIE                                               float64\n",
      "S_DAVID                                                 float64\n",
      "S_EDWARD                                                float64\n",
      "S_FRANK                                                 float64\n",
      "S_GEORGE                                                float64\n",
      "S_JOHN                                                  float64\n",
      "S_KING                                                  float64\n",
      "S_LINCOLN                                               float64\n",
      "S_MARY                                                  float64\n",
      "S_NORA                                                  float64\n",
      "S_OCEAN                                                 float64\n",
      "S_QUEEN                                                 float64\n",
      "S_ROBERT                                                float64\n",
      "S_SAM                                                   float64\n",
      "S_UNION                                                 float64\n",
      "S_WILLIAM                                               float64\n",
      "B_B1                                                    float64\n",
      "B_B2                                                    float64\n",
      "B_B3                                                    float64\n",
      "B_BS                                                    float64\n",
      "B_C1                                                    float64\n",
      "B_C2                                                    float64\n",
      "B_C3                                                    float64\n",
      "B_D1                                                    float64\n",
      "B_D2                                                    float64\n",
      "B_D3                                                    float64\n",
      "B_E1                                                    float64\n",
      "B_E2                                                    float64\n",
      "B_E3                                                    float64\n",
      "B_F1                                                    float64\n",
      "B_F2                                                    float64\n",
      "B_F3                                                    float64\n",
      "B_FS                                                    float64\n",
      "B_G1                                                    float64\n",
      "B_G2                                                    float64\n",
      "B_G3                                                    float64\n",
      "B_H2                                                    float64\n",
      "B_H3                                                    float64\n",
      "B_J1                                                    float64\n",
      "B_J2                                                    float64\n",
      "B_J3                                                    float64\n",
      "B_K1                                                    float64\n",
      "B_K2                                                    float64\n",
      "B_K3                                                    float64\n",
      "B_L1                                                    float64\n",
      "B_L2                                                    float64\n",
      "B_L3                                                    float64\n",
      "B_M1                                                    float64\n",
      "B_M2                                                    float64\n",
      "B_M3                                                    float64\n",
      "B_N1                                                    float64\n",
      "B_N2                                                    float64\n",
      "B_N3                                                    float64\n",
      "B_O1                                                    float64\n",
      "B_O2                                                    float64\n",
      "B_O3                                                    float64\n",
      "B_Q1                                                    float64\n",
      "B_Q2                                                    float64\n",
      "B_Q3                                                    float64\n",
      "B_R1                                                    float64\n",
      "B_R2                                                    float64\n",
      "B_R3                                                    float64\n",
      "B_RS                                                    float64\n",
      "B_S1                                                    float64\n",
      "B_S2                                                    float64\n",
      "B_S3                                                    float64\n",
      "B_U1                                                    float64\n",
      "B_U2                                                    float64\n",
      "B_U3                                                    float64\n",
      "B_W1                                                    float64\n",
      "B_W2                                                    float64\n",
      "B_W3                                                    float64\n",
      "SG_Female                                               float64\n",
      "SG_Male                                                 float64\n",
      "SR_American Indian/Alaska Native                        float64\n",
      "SR_Asian                                                float64\n",
      "SR_Black or African American                            float64\n",
      "SR_Hispanic or Latino                                   float64\n",
      "SR_Nat Hawaiian/Oth Pac Islander                        float64\n",
      "SR_White                                                float64\n",
      "CT_911                                                  float64\n",
      "CT_ALARM CALL (NOT POLICE ALARM)                        float64\n",
      "CT_IN PERSON COMPLAINT                                  float64\n",
      "CT_ONVIEW                                               float64\n",
      "CT_POLICE (VARDA) ALARM                                 float64\n",
      "CT_PROACTIVE (OFFICER INITIATED)                        float64\n",
      "CT_SCHEDULED EVENT (RECURRING)                          float64\n",
      "CT_TELEPHONE OTHER, NOT 911                             float64\n",
      "CT_TEXT MESSAGE                                         float64\n",
      "ICT_Aggressive Panhandling                              float64\n",
      "ICT_Alarm                                               float64\n",
      "ICT_Animal - Dangerous / Bite                           float64\n",
      "ICT_Assault                                             float64\n",
      "ICT_Assigned Duty                                       float64\n",
      "ICT_Assisting other agencies                            float64\n",
      "ICT_Auto Recovery                                       float64\n",
      "ICT_Behavioral / Emotional Crisis                       float64\n",
      "ICT_Casualty                                            float64\n",
      "ICT_Check for Person Down                               float64\n",
      "ICT_Child Abuse                                         float64\n",
      "ICT_DUI - Driving While Under the Influence             float64\n",
      "ICT_Damaged Property                                    float64\n",
      "ICT_Deadly Weapon - No Assault                          float64\n",
      "ICT_Disturbance                                         float64\n",
      "ICT_Domestic Violence                                   float64\n",
      "ICT_Eluding Police                                      float64\n",
      "ICT_Explosion / Arson                                   float64\n",
      "ICT_Follow up                                           float64\n",
      "ICT_Fraud                                               float64\n",
      "ICT_Gambling                                            float64\n",
      "ICT_Harassment                                          float64\n",
      "ICT_Hazard - immediate threat                           float64\n",
      "ICT_Illegal Dumping                                     float64\n",
      "ICT_Injuries from Industrial Accidents                  float64\n",
      "ICT_Lewd Conduct                                        float64\n",
      "ICT_Liquor Violations                                   float64\n",
      "ICT_Missing Person                                      float64\n",
      "ICT_Motor Vehicle Collision                             float64\n",
      "ICT_Moving Violation                                    float64\n",
      "ICT_Narcotics                                           float64\n",
      "ICT_Nuisance                                            float64\n",
      "ICT_Overdose - Drug Related Casualty                    float64\n",
      "ICT_Parking Violation                                   float64\n",
      "ICT_Pickup Person                                       float64\n",
      "ICT_Police Initiated - Off Duty                         float64\n",
      "ICT_Police Initiated - On Duty                          float64\n",
      "ICT_Predictive Policing                                 float64\n",
      "ICT_Property lost or found                              float64\n",
      "ICT_Prostitution                                        float64\n",
      "ICT_Rape                                                float64\n",
      "ICT_Request for Detox                                   float64\n",
      "ICT_Request to Watch / Ensure Peace                     float64\n",
      "ICT_Road Rage                                           float64\n",
      "ICT_Robbery                                             float64\n",
      "ICT_Shots heard                                         float64\n",
      "ICT_Sleeper Aboard Public Transit                       float64\n",
      "ICT_Suicidal person or attempts                         float64\n",
      "ICT_Suspicious person, vehicle, incident                float64\n",
      "ICT_Threats                                             float64\n",
      "ICT_Trespass                                            float64\n",
      "ICT_Violation of Court Order (Not Domestic Violence)    float64\n",
      "ICT_Welfare Check                                       float64\n",
      "dow_0                                                   float64\n",
      "dow_1                                                   float64\n",
      "dow_2                                                   float64\n",
      "dow_3                                                   float64\n",
      "dow_4                                                   float64\n",
      "dow_5                                                   float64\n",
      "dow_6                                                   float64\n",
      "month_1                                                 float64\n",
      "month_2                                                 float64\n",
      "month_3                                                 float64\n",
      "month_4                                                 float64\n",
      "month_5                                                 float64\n",
      "month_6                                                 float64\n",
      "month_7                                                 float64\n",
      "month_8                                                 float64\n",
      "month_9                                                 float64\n",
      "month_10                                                float64\n",
      "month_11                                                float64\n",
      "month_12                                                float64\n",
      "sin_hour2                                               float64\n",
      "cos_hour2                                               float64\n",
      "dtypes: float64(169)\n",
      "memory usage: 1.4 KB\n"
     ]
    }
   ],
   "source": [
    "d = pd.DataFrame(np.zeros((1,169), dtype=np.float64), columns=col_lst)\n",
    "d.loc[0,\"P_WEST\"] = 1.0\n",
    "d.loc[0, \"S_DAVID\"] = 1.0\n",
    "d.loc[0, \"ICT_Follow up\"] = 1.0\n",
    "d.loc[0, \"CT_ONVIEW\"] = 1.0\n",
    "d.loc[0, \"B_D2\"] = 1.0\n",
    "d.loc[0, \"dow_2\"] = 1.0\n",
    "d.loc[0, \"month_1\"] = 1.0\n",
    "d.loc[0, \"sin_hour2\"] = 0.866025\n",
    "d.loc[0, \"cos_hour2\"] = 0.5\n",
    "\n",
    "d.info(verbose=True)\n"
   ]
  },
  {
   "cell_type": "code",
   "execution_count": 53,
   "metadata": {},
   "outputs": [],
   "source": [
    "logr_pp = logr.predict_proba(X_test)\n",
    "logr_yhat = logr.predict(X_test)\n",
    "logr_score = logr.score(X_test, y_test)"
   ]
  },
  {
   "cell_type": "code",
   "execution_count": 315,
   "metadata": {},
   "outputs": [],
   "source": [
    "# looking at coefs in logistic regression model"
   ]
  },
  {
   "cell_type": "code",
   "execution_count": 10,
   "metadata": {},
   "outputs": [],
   "source": [
    "cols_enumerate = list(enumerate(X.columns))\n",
    "cols = X.columns"
   ]
  },
  {
   "cell_type": "code",
   "execution_count": 16,
   "metadata": {},
   "outputs": [],
   "source": [
    "four = logr.coef_[4]\n",
    "three = logr.coef_[3]\n",
    "two = logr.coef_[2]\n",
    "one = logr.coef_[1]\n",
    "zero = logr.coef_[0]\n",
    "four_coefs = list(zip(four, cols_enumerate))\n",
    "three_coefs = list(zip(three, cols_enumerate))\n",
    "two_coefs = list(zip(two, cols_enumerate))\n",
    "one_coefs = list(zip(one, cols_enumerate))\n",
    "zero_coefs = list(zip(zero, cols_enumerate))"
   ]
  },
  {
   "cell_type": "code",
   "execution_count": 21,
   "metadata": {},
   "outputs": [],
   "source": [
    "# logistic regression\n",
    "\n",
    "sorted(four_coefs, reverse=True)\n",
    "\n",
    "lst_coefs = [four_coefs, three_coefs, two_coefs, one_coefs, zero_coefs]\n",
    "top_coefs = []\n",
    "for co in lst_coefs:\n",
    "    co = sorted(co, reverse=True)\n",
    "    top_coefs.append( co[:10] )"
   ]
  },
  {
   "cell_type": "code",
   "execution_count": 28,
   "metadata": {},
   "outputs": [
    {
     "data": {
      "text/plain": [
       "(['SR_White',\n",
       "  'ICT_Shots heard',\n",
       "  'SR_Asian',\n",
       "  'ICT_Suicidal person or attempts',\n",
       "  'B_U3',\n",
       "  'B_K1',\n",
       "  'month_12',\n",
       "  'ICT_Deadly Weapon - No Assault',\n",
       "  'SG_Male',\n",
       "  'SR_Black or African American'],\n",
       " [85, 140, 81, 142, 74, 47, 166, 108, 79, 82])"
      ]
     },
     "execution_count": 28,
     "metadata": {},
     "output_type": "execute_result"
    }
   ],
   "source": [
    "# logistic regression\n",
    "# four three two one zero\n",
    "\n",
    "\n",
    "top_coefs_all = []\n",
    "for f in top_coefs:\n",
    "    for g in f:\n",
    "        top_coefs_all.append(g[1][1])\n",
    "        \n",
    "top_coefs_cols = []\n",
    "for f in top_coefs:\n",
    "    for g in f:\n",
    "        top_coefs_cols.append(g[1][0])\n",
    "        \n",
    "logr_top_col_names = top_coefs_all[:10]\n",
    "logr_top_cols = top_coefs_cols[:10]\n",
    "        \n",
    "        \n",
    "top_coefs_cols[:4]\n",
    "top_coefs_all[:10], top_coefs_cols[:10]"
   ]
  },
  {
   "cell_type": "code",
   "execution_count": 25,
   "metadata": {},
   "outputs": [
    {
     "data": {
      "text/plain": [
       "[(1.6767346681397446, (85, 'SR_White')),\n",
       " (1.6152670640792257, (140, 'ICT_Shots heard')),\n",
       " (1.5301877259963237, (81, 'SR_Asian')),\n",
       " (1.4954892735629393, (142, 'ICT_Suicidal person or attempts')),\n",
       " (1.3942819570825808, (74, 'B_U3')),\n",
       " (1.3921649209755291, (47, 'B_K1')),\n",
       " (1.3828644025854748, (166, 'month_12')),\n",
       " (1.3635890271388766, (108, 'ICT_Deadly Weapon - No Assault')),\n",
       " (1.3610193042744534, (79, 'SG_Male')),\n",
       " (1.155565797895684, (82, 'SR_Black or African American')),\n",
       " (1.1208727214965566, (70, 'B_S2')),\n",
       " (1.0125297103267463, (64, 'B_Q3')),\n",
       " (0.8768692434260649, (157, 'month_3')),\n",
       " (0.8560736900763873, (149, 'dow_1')),\n",
       " (0.7984712152990631, (78, 'SG_Female')),\n",
       " (0.796017216431084, (143, 'ICT_Suspicious person, vehicle, incident')),\n",
       " (0.7914601679220115, (24, 'B_B3')),\n",
       " (0.7667027932313685, (20, 'S_UNION')),\n",
       " (0.6822006930480309, (32, 'B_E1')),\n",
       " (0.6703335228907668, (62, 'B_Q1')),\n",
       " (0.6586221926477522, (31, 'B_D3')),\n",
       " (0.5897017204381643, (168, 'cos_hour2')),\n",
       " (0.5845551042224858, (36, 'B_F2')),\n",
       " (0.5586495874500434, (72, 'B_U1')),\n",
       " (0.5501120557810023, (144, 'ICT_Threats')),\n",
       " (0.4969332453700846, (19, 'S_SAM')),\n",
       " (0.4876983944552365, (67, 'B_R3')),\n",
       " (0.450053400957885, (154, 'dow_6')),\n",
       " (0.43866281094964077, (113, 'ICT_Follow up')),\n",
       " (0.42549545868628064, (128, 'ICT_Parking Violation')),\n",
       " (0.4167663793119405, (41, 'B_G3')),\n",
       " (0.4143490041407553, (123, 'ICT_Motor Vehicle Collision')),\n",
       " (0.4072372999305527, (139, 'ICT_Robbery')),\n",
       " (0.3620303924665941, (150, 'dow_2')),\n",
       " (0.33268321297282666, (100, 'ICT_Assisting other agencies')),\n",
       " (0.32743587459633505, (89, 'CT_ONVIEW')),\n",
       " (0.2217330527798145, (86, 'CT_911')),\n",
       " (0.2172859201460002, (164, 'month_10')),\n",
       " (0.19632021137830563, (17, 'S_QUEEN')),\n",
       " (0.1623537930515231, (161, 'month_7')),\n",
       " (0.14955211106542385, (10, 'S_GEORGE')),\n",
       " (0.03163463243087084, (69, 'B_S1')),\n",
       " (0.010881736897558504, (49, 'B_K3')),\n",
       " (0.00619884454110454, (5, 'S_BOY')),\n",
       " (-3.030980558946661e-06, (42, 'B_H2')),\n",
       " (-5.802278044795503e-06, (91, 'CT_PROACTIVE (OFFICER INITIATED)')),\n",
       " (-6.454143024658938e-06, (92, 'CT_SCHEDULED EVENT (RECURRING)')),\n",
       " (-1.3218603291374005e-05, (88, 'CT_IN PERSON COMPLAINT')),\n",
       " (-7.693905634339725e-05, (25, 'B_BS')),\n",
       " (-8.568694929629663e-05, (115, 'ICT_Gambling')),\n",
       " (-0.00010803531662725933, (94, 'CT_TEXT MESSAGE')),\n",
       " (-0.00012441916698745228, (38, 'B_FS')),\n",
       " (-0.00015096305796805074, (43, 'B_H3')),\n",
       " (-0.00024287139497274968, (68, 'B_RS')),\n",
       " (-0.00033726794389325846, (90, 'CT_POLICE (VARDA) ALARM')),\n",
       " (-0.0017949003307349864, (141, 'ICT_Sleeper Aboard Public Transit')),\n",
       " (-0.0028007569407878263, (103, 'ICT_Casualty')),\n",
       " (-0.008008895227501006, (97, 'ICT_Animal - Dangerous / Bite')),\n",
       " (-0.010883692532362559,\n",
       "  (146, 'ICT_Violation of Court Order (Not Domestic Violence)')),\n",
       " (-0.01142857731599963, (111, 'ICT_Eluding Police')),\n",
       " (-0.012200298372989117, (119, 'ICT_Injuries from Industrial Accidents')),\n",
       " (-0.012558207485485253, (135, 'ICT_Rape')),\n",
       " (-0.016193362168106372, (98, 'ICT_Assault')),\n",
       " (-0.018845745322536214, (160, 'month_6')),\n",
       " (-0.025872036363775684, (116, 'ICT_Harassment')),\n",
       " (-0.026322916602680924, (132, 'ICT_Predictive Policing')),\n",
       " (-0.02965725017636879, (136, 'ICT_Request for Detox')),\n",
       " (-0.031629760369205236, (138, 'ICT_Road Rage')),\n",
       " (-0.033366905570138994, (105, 'ICT_Child Abuse')),\n",
       " (-0.033759189089646105, (109, 'ICT_Disturbance')),\n",
       " (-0.037079920378921605, (106, 'ICT_DUI - Driving While Under the Influence')),\n",
       " (-0.041766275976861805, (127, 'ICT_Overdose - Drug Related Casualty')),\n",
       " (-0.04350850039601008, (134, 'ICT_Prostitution')),\n",
       " (-0.05720455740256361, (153, 'dow_5')),\n",
       " (-0.05732899083153399, (37, 'B_F3')),\n",
       " (-0.05747750719116232, (120, 'ICT_Lewd Conduct')),\n",
       " (-0.062338672730530925, (95, 'ICT_Aggressive Panhandling')),\n",
       " (-0.06842580112894757, (122, 'ICT_Missing Person')),\n",
       " (-0.07013487325713828, (118, 'ICT_Illegal Dumping')),\n",
       " (-0.07469642884609114, (137, 'ICT_Request to Watch / Ensure Peace')),\n",
       " (-0.07938857238150636, (133, 'ICT_Property lost or found')),\n",
       " (-0.08119818971927148, (163, 'month_9')),\n",
       " (-0.08264634888041991, (56, 'B_N1')),\n",
       " (-0.08985071417612082, (112, 'ICT_Explosion / Arson')),\n",
       " (-0.09277180715156343, (46, 'B_J3')),\n",
       " (-0.09435271519528247, (52, 'B_L3')),\n",
       " (-0.10475946145552141, (28, 'B_C3')),\n",
       " (-0.10661021444371206, (61, 'B_O3')),\n",
       " (-0.10662451599646514, (27, 'B_C2')),\n",
       " (-0.1097744544255827, (35, 'B_F1')),\n",
       " (-0.11235512154285011, (114, 'ICT_Fraud')),\n",
       " (-0.13789430202581834, (76, 'B_W2')),\n",
       " (-0.1381461237378404, (39, 'B_G1')),\n",
       " (-0.14018213865730916, (26, 'B_C1')),\n",
       " (-0.1461928942351873, (162, 'month_8')),\n",
       " (-0.1485084000937131, (60, 'B_O2')),\n",
       " (-0.1515153021596005, (75, 'B_W1')),\n",
       " (-0.1562144228396678, (7, 'S_DAVID')),\n",
       " (-0.1584729834360729, (45, 'B_J2')),\n",
       " (-0.15870416035464183, (44, 'B_J1')),\n",
       " (-0.16331301664393466, (121, 'ICT_Liquor Violations')),\n",
       " (-0.17030131501202747, (84, 'SR_Nat Hawaiian/Oth Pac Islander')),\n",
       " (-0.18293098587960516, (34, 'B_E3')),\n",
       " (-0.18747817566088273, (40, 'B_G2')),\n",
       " (-0.18805838878030864, (158, 'month_4')),\n",
       " (-0.19039499011860184, (80, 'SR_American Indian/Alaska Native')),\n",
       " (-0.19509499401521285, (130, 'ICT_Police Initiated - Off Duty')),\n",
       " (-0.2022986024039694, (125, 'ICT_Narcotics')),\n",
       " (-0.21078564259974142, (51, 'B_L2')),\n",
       " (-0.21553327170382328, (53, 'B_M1')),\n",
       " (-0.2159817051071843, (147, 'ICT_Welfare Check')),\n",
       " (-0.2166785993527981, (54, 'B_M2')),\n",
       " (-0.21808929592524814, (107, 'ICT_Damaged Property')),\n",
       " (-0.22104394119921625, (50, 'B_L1')),\n",
       " (-0.22359142437595542, (151, 'dow_3')),\n",
       " (-0.22380290913350337, (104, 'ICT_Check for Person Down')),\n",
       " (-0.24295375067740388, (73, 'B_U2')),\n",
       " (-0.2465177077060565, (57, 'B_N2')),\n",
       " (-0.2536498479143865, (117, 'ICT_Hazard - immediate threat')),\n",
       " (-0.2581752289055114, (129, 'ICT_Pickup Person')),\n",
       " (-0.27089496469618013, (93, 'CT_TELEPHONE OTHER, NOT 911')),\n",
       " (-0.28134738871657183, (83, 'SR_Hispanic or Latino')),\n",
       " (-0.2861905923575446, (77, 'B_W3')),\n",
       " (-0.2966034555496489, (63, 'B_Q2')),\n",
       " (-0.2973195260338607, (167, 'sin_hour2')),\n",
       " (-0.29826509538277113, (87, 'CT_ALARM CALL (NOT POLICE ALARM)')),\n",
       " (-0.29838665721009716, (12, 'S_KING')),\n",
       " (-0.30323994364346796, (126, 'ICT_Nuisance')),\n",
       " (-0.3082104294805812, (99, 'ICT_Assigned Duty')),\n",
       " (-0.3099222875205479, (148, 'dow_0')),\n",
       " (-0.31252219472644355, (59, 'B_O1')),\n",
       " (-0.3178852664122871, (6, 'S_CHARLIE')),\n",
       " (-0.32822767800858027, (96, 'ICT_Alarm')),\n",
       " (-0.34585417561444465, (21, 'S_WILLIAM')),\n",
       " (-0.34619454726193744, (58, 'B_N3')),\n",
       " (-0.36743754242441784, (102, 'ICT_Behavioral / Emotional Crisis')),\n",
       " (-0.3731267332400644, (33, 'B_E2')),\n",
       " (-0.3821777074342765, (11, 'S_JOHN')),\n",
       " (-0.3994647516812537, (156, 'month_2')),\n",
       " (-0.40112820581401154, (23, 'B_B2')),\n",
       " (-0.40201889312970607, (65, 'B_R1')),\n",
       " (-0.4070159973024162, (110, 'ICT_Domestic Violence')),\n",
       " (-0.4154104792819067, (30, 'B_D2')),\n",
       " (-0.44273143486545785, (124, 'ICT_Moving Violation')),\n",
       " (-0.45781584396714403, (22, 'B_B1')),\n",
       " (-0.45933680584961883, (13, 'S_LINCOLN')),\n",
       " (-0.46319108094909006, (55, 'B_M3')),\n",
       " (-0.46504864501980214, (101, 'ICT_Auto Recovery')),\n",
       " (-0.4731148231239732, (165, 'month_11')),\n",
       " (-0.5048227058996919, (18, 'S_ROBERT')),\n",
       " (-0.5188146518625737, (16, 'S_OCEAN')),\n",
       " (-0.5197138464616807, (9, 'S_FRANK')),\n",
       " (-0.5210378466578741, (29, 'B_D1')),\n",
       " (-0.5305883170522264, (145, 'ICT_Trespass')),\n",
       " (-0.5436171754941492, (159, 'month_5')),\n",
       " (-0.5540268259317639, (48, 'B_K2')),\n",
       " (-0.5807620957347348, (1, 'P_NORTH')),\n",
       " (-0.6340124771650394, (15, 'S_NORA')),\n",
       " (-0.6485673693335076, (2, 'P_SOUTH')),\n",
       " (-0.6531524359245133, (66, 'B_R2')),\n",
       " (-0.7034040189959582, (14, 'S_MARY')),\n",
       " (-0.75274436624465, (71, 'B_S3')),\n",
       " (-0.8117126556417181, (155, 'month_1')),\n",
       " (-0.8655680220760656, (3, 'P_SOUTHWEST')),\n",
       " (-0.8740124813580438, (131, 'ICT_Police Initiated - On Duty')),\n",
       " (-0.9411134850874523, (8, 'S_EDWARD')),\n",
       " (-0.9616848876674899, (4, 'P_WEST')),\n",
       " (-1.10027047899115, (152, 'dow_4')),\n",
       " (-1.1094466404344472, (0, 'P_EAST'))]"
      ]
     },
     "execution_count": 25,
     "metadata": {},
     "output_type": "execute_result"
    }
   ],
   "source": [
    "sorted(four_coefs, reverse=True)"
   ]
  },
  {
   "cell_type": "code",
   "execution_count": 170,
   "metadata": {},
   "outputs": [
    {
     "data": {
      "image/png": "[encoded data removed]",
      "text/plain": [
       "<Figure size 432x288 with 1 Axes>"
      ]
     },
     "metadata": {
      "needs_background": "light"
     },
     "output_type": "display_data"
    }
   ],
   "source": [
    "# logistic regression\n",
    "# partial dependency plots\n",
    "\n",
    "#for col in top_coefs_cols:\n",
    "#features = top_coefs_cols[-5:]\n",
    "features = [(85,140) ]\n",
    "plot_partial_dependence(logr, X_train, features, target=4, n_jobs=-1, grid_resolution= 5) \n",
    "\n"
   ]
  },
  {
   "cell_type": "code",
   "execution_count": 214,
   "metadata": {},
   "outputs": [
    {
     "data": {
      "image/png": "[encoded data removed]",
      "text/plain": [
       "<Figure size 432x288 with 1 Axes>"
      ]
     },
     "metadata": {
      "needs_background": "light"
     },
     "output_type": "display_data"
    },
    {
     "data": {
      "image/png": "[encoded data removed]",
      "text/plain": [
       "<Figure size 432x288 with 1 Axes>"
      ]
     },
     "metadata": {
      "needs_background": "light"
     },
     "output_type": "display_data"
    },
    {
     "data": {
      "image/png": "[encoded data removed]",
      "text/plain": [
       "<Figure size 432x288 with 1 Axes>"
      ]
     },
     "metadata": {
      "needs_background": "light"
     },
     "output_type": "display_data"
    }
   ],
   "source": [
    "# logistic regression\n",
    "\n",
    "features = [(85,140) ]\n",
    "plot_partial_dependence(logr, X_train, features, target=3, n_jobs=-1, grid_resolution= 5) \n",
    "features = [(85,140) ]\n",
    "plot_partial_dependence(logr, X_train, features, target=2, n_jobs=-1, grid_resolution= 5) \n",
    "features = [(85,140) ]\n",
    "plot_partial_dependence(logr, X_train, features, target=1, n_jobs=-1, grid_resolution= 5) "
   ]
  },
  {
   "cell_type": "code",
   "execution_count": 297,
   "metadata": {},
   "outputs": [],
   "source": [
    "# gradient boosted classifier\n",
    "\n",
    "gbc2 = GradientBoostingClassifier(loss='deviance', learning_rate=0.1, n_estimators=100,\n",
    "                                random_state=659, verbose=1)"
   ]
  },
  {
   "cell_type": "code",
   "execution_count": 306,
   "metadata": {},
   "outputs": [],
   "source": [
    "# %timeit\n",
    "#gbc2.fit(X_train, y_train) - after 7 hours - still had 20 to go"
   ]
  },
  {
   "cell_type": "code",
   "execution_count": null,
   "metadata": {},
   "outputs": [],
   "source": [
    "# with open('gbclrpoint01n_estimators1000_model.pkl', 'wb') as my_pickle:\n",
    "#        pickle.dump(gbc2, my_pickle)"
   ]
  },
  {
   "cell_type": "code",
   "execution_count": 51,
   "metadata": {},
   "outputs": [],
   "source": [
    "# logistic regression num in predicted classes, log loss of classes\n",
    "# weight them based on cost of mis-predicting 0 as 4 bad 0 as 1 meh\n",
    "def predicted_proba_metrics(ytest, xtest, model, class_labels):\n",
    "    # takes fit model\n",
    "    pp_class = []\n",
    "    p_prob = model.predict_proba(xtest)\n",
    "    yhat = model.predict(xtest)\n",
    "    for num in model.classes_:\n",
    "        print(f\"for class {num} y:{len(ytest[ytest == num])} y_hat: {len(yhat[yhat == num])}\")\n",
    "        pp_class.append(p_prob[ytest == num])\n",
    "\n",
    "    class_loss = []\n",
    "    for num , probs in zip(model.classes_, pp_class):\n",
    "        loss = log_loss((ytest[ytest == num]),probs, labels=class_labels)\n",
    "        class_loss.append(loss)\n",
    "        print(f\"class {num} has log loss of {np.round(loss, 4)}\")       \n",
    "\n",
    "    logr_logloss = log_loss(y_test, p_prob)\n",
    "    print(f\"overall log loss: {logr_logloss}\")\n",
    "    return [class_loss, logr_logloss]"
   ]
  },
  {
   "cell_type": "code",
   "execution_count": 43,
   "metadata": {},
   "outputs": [],
   "source": [
    "# make place to save results\n",
    "proba_metrics = {}"
   ]
  },
  {
   "cell_type": "code",
   "execution_count": 78,
   "metadata": {},
   "outputs": [
    {
     "data": {
      "text/plain": [
       "numpy.ndarray"
      ]
     },
     "execution_count": 78,
     "metadata": {},
     "output_type": "execute_result"
    }
   ],
   "source": [
    "type(logr.predict_proba(X_test))"
   ]
  },
  {
   "cell_type": "code",
   "execution_count": 301,
   "metadata": {},
   "outputs": [],
   "source": [
    "linr = LinearRegression()"
   ]
  },
  {
   "cell_type": "code",
   "execution_count": 302,
   "metadata": {},
   "outputs": [
    {
     "data": {
      "text/plain": [
       "LinearRegression(copy_X=True, fit_intercept=True, n_jobs=None, normalize=False)"
      ]
     },
     "execution_count": 302,
     "metadata": {},
     "output_type": "execute_result"
    }
   ],
   "source": [
    "#%timeit\n",
    "\n",
    "linr.fit(X_train, y_train)"
   ]
  },
  {
   "cell_type": "code",
   "execution_count": 305,
   "metadata": {},
   "outputs": [
    {
     "data": {
      "text/plain": [
       "GradientBoostingRegressor(alpha=0.9, criterion='friedman_mse', init=None,\n",
       "                          learning_rate=0.1, loss='ls', max_depth=3,\n",
       "                          max_features=None, max_leaf_nodes=None,\n",
       "                          min_impurity_decrease=0.0, min_impurity_split=None,\n",
       "                          min_samples_leaf=1, min_samples_split=2,\n",
       "                          min_weight_fraction_leaf=0.0, n_estimators=100,\n",
       "                          n_iter_no_change=None, presort='auto',\n",
       "                          random_state=None, subsample=1.0, tol=0.0001,\n",
       "                          validation_fraction=0.1, verbose=0, warm_start=False)"
      ]
     },
     "execution_count": 305,
     "metadata": {},
     "output_type": "execute_result"
    }
   ],
   "source": [
    "\n",
    "gbr = GradientBoostingRegressor()\n",
    "gbr.fit(X_train, y_train)"
   ]
  },
  {
   "cell_type": "code",
   "execution_count": 309,
   "metadata": {},
   "outputs": [
    {
     "data": {
      "text/plain": [
       "GradientBoostingRegressor(alpha=0.9, criterion='friedman_mse', init=None,\n",
       "                          learning_rate=0.01, loss='ls', max_depth=3,\n",
       "                          max_features=None, max_leaf_nodes=None,\n",
       "                          min_impurity_decrease=0.0, min_impurity_split=None,\n",
       "                          min_samples_leaf=1, min_samples_split=2,\n",
       "                          min_weight_fraction_leaf=0.0, n_estimators=100,\n",
       "                          n_iter_no_change=None, presort='auto',\n",
       "                          random_state=659, subsample=1.0, tol=0.0001,\n",
       "                          validation_fraction=0.1, verbose=0, warm_start=False)"
      ]
     },
     "execution_count": 309,
     "metadata": {},
     "output_type": "execute_result"
    }
   ],
   "source": [
    "\n",
    "gbr2 = GradientBoostingRegressor(random_state=659, learning_rate=0.01)\n",
    "gbr2.fit(X_train, y_train)"
   ]
  },
  {
   "cell_type": "code",
   "execution_count": 310,
   "metadata": {},
   "outputs": [],
   "source": [
    "'''with open('gbrbasic.pkl', 'wb') as my_pickle:\n",
    "        pickle.dump(gbr, my_pickle)\n",
    "with open('gbr_lr_01.pkl', 'wb') as my_pickle:\n",
    "        pickle.dump(gbr2, my_pickle)'''"
   ]
  },
  {
   "cell_type": "code",
   "execution_count": 56,
   "metadata": {},
   "outputs": [
    {
     "name": "stdout",
     "output_type": "stream",
     "text": [
      "for class 0 y:407098 y_hat: 407126\n",
      "for class 1 y:1794 y_hat: 2262\n",
      "for class 2 y:589 y_hat: 128\n",
      "for class 3 y:24 y_hat: 0\n",
      "for class 4 y:19 y_hat: 8\n",
      "class 0 has log loss of 0.0001\n",
      "class 1 has log loss of 0.3265\n",
      "class 2 has log loss of 1.4532\n",
      "class 3 has log loss of 3.0654\n",
      "class 4 has log loss of 1.9887\n",
      "overall log loss: 0.003894521830373648\n"
     ]
    }
   ],
   "source": [
    "proba_metrics[\"logr\"] = predicted_proba_metrics(y_test, X_test, logr, [0,1,2,3,4])"
   ]
  },
  {
   "cell_type": "code",
   "execution_count": 52,
   "metadata": {},
   "outputs": [
    {
     "name": "stdout",
     "output_type": "stream",
     "text": [
      "for class 0 y:407098 y_hat: 407191\n",
      "for class 1 y:1794 y_hat: 947\n",
      "for class 2 y:589 y_hat: 554\n",
      "for class 3 y:24 y_hat: 770\n",
      "for class 4 y:19 y_hat: 62\n",
      "class 0 has log loss of 0.0004\n",
      "class 1 has log loss of 19.835\n",
      "class 2 has log loss of 23.5405\n",
      "class 3 has log loss of 31.6605\n",
      "class 4 has log loss of 34.5388\n",
      "overall log loss: 0.12458063362592957\n"
     ]
    }
   ],
   "source": [
    "proba_metrics[\"gbc1\"] = predicted_proba_metrics(y_test, X_test, gbc1, [0,1,2,3,4])"
   ]
  },
  {
   "cell_type": "code",
   "execution_count": 53,
   "metadata": {},
   "outputs": [
    {
     "name": "stdout",
     "output_type": "stream",
     "text": [
      "for class 0 y:407098 y_hat: 409522\n",
      "for class 1 y:1794 y_hat: 2\n",
      "for class 2 y:589 y_hat: 0\n",
      "for class 3 y:24 y_hat: 0\n",
      "for class 4 y:19 y_hat: 0\n",
      "class 0 has log loss of 0.0033\n",
      "class 1 has log loss of 1.1459\n",
      "class 2 has log loss of 2.2204\n",
      "class 3 has log loss of 4.7708\n",
      "class 4 has log loss of 4.6329\n",
      "overall log loss: 0.011982994366389277\n"
     ]
    }
   ],
   "source": [
    "# random forest\n",
    "proba_metrics[\"clf\"] = predicted_proba_metrics(y_test, X_test, clf, [0,1,2,3,4])"
   ]
  },
  {
   "cell_type": "code",
   "execution_count": 54,
   "metadata": {},
   "outputs": [],
   "source": [
    "proba_metrics[\"gbc3\"] = [0.0036770353709019927, [8.223825980389326e-05, 0.3061361946126585, \n",
    "                                                 1.3949131724950918,2.6528590081901595,1.993389169070535  ]]\n",
    "                        \n",
    "            "
   ]
  },
  {
   "cell_type": "code",
   "execution_count": 336,
   "metadata": {},
   "outputs": [
    {
     "ename": "NameError",
     "evalue": "name 'cols_enumerate' is not defined",
     "output_type": "error",
     "traceback": [
      "\u001b[0;31m---------------------------------------------------------------------------\u001b[0m",
      "\u001b[0;31mNameError\u001b[0m                                 Traceback (most recent call last)",
      "\u001b[0;32m<ipython-input-336-3ab9b86d9099>\u001b[0m in \u001b[0;36m<module>\u001b[0;34m\u001b[0m\n\u001b[1;32m      8\u001b[0m \u001b[0;34m\u001b[0m\u001b[0m\n\u001b[1;32m      9\u001b[0m \u001b[0;34m\u001b[0m\u001b[0m\n\u001b[0;32m---> 10\u001b[0;31m \u001b[0mtest\u001b[0m \u001b[0;34m=\u001b[0m \u001b[0mlist\u001b[0m\u001b[0;34m(\u001b[0m\u001b[0mzip\u001b[0m\u001b[0;34m(\u001b[0m\u001b[0mgbc1\u001b[0m\u001b[0;34m.\u001b[0m\u001b[0mfeature_importances_\u001b[0m\u001b[0;34m,\u001b[0m \u001b[0mcols_enumerate\u001b[0m\u001b[0;34m)\u001b[0m\u001b[0;34m)\u001b[0m\u001b[0;34m\u001b[0m\u001b[0;34m\u001b[0m\u001b[0m\n\u001b[0m\u001b[1;32m     11\u001b[0m \u001b[0mcols\u001b[0m\u001b[0;34m[\u001b[0m\u001b[0mbig\u001b[0m\u001b[0;34m]\u001b[0m\u001b[0;34m,\u001b[0m\u001b[0;34m\u001b[0m\u001b[0;34m\u001b[0m\u001b[0m\n\u001b[1;32m     12\u001b[0m \u001b[0;34m\u001b[0m\u001b[0m\n",
      "\u001b[0;31mNameError\u001b[0m: name 'cols_enumerate' is not defined"
     ]
    }
   ],
   "source": [
    "#logr_fi = logr.feature_importances_ \n",
    "gbc1_fi = gbc1.feature_importances_\n",
    "\n",
    "indices = np.argsort(gbc1.feature_importances_)\n",
    "big = indices[-1:-10:-1]\n",
    "\n",
    "list(cols[big])\n",
    "\n",
    "\n",
    "test = list(zip(gbc1.feature_importances_, cols_enumerate))\n",
    "cols[big],\n",
    "\n",
    "for int in big:\n",
    "    print(cols_enumerate[int])"
   ]
  },
  {
   "cell_type": "code",
   "execution_count": 51,
   "metadata": {},
   "outputs": [
    {
     "data": {
      "text/plain": [
       "(['SR_White',\n",
       "  'ICT_Shots heard',\n",
       "  'SR_Asian',\n",
       "  'ICT_Suicidal person or attempts',\n",
       "  'B_U3',\n",
       "  'B_K1',\n",
       "  'month_12',\n",
       "  'ICT_Deadly Weapon - No Assault',\n",
       "  'SG_Male',\n",
       "  'SR_Black or African American'],\n",
       " [85, 140, 81, 142, 74, 47, 166, 108, 79, 82])"
      ]
     },
     "execution_count": 51,
     "metadata": {},
     "output_type": "execute_result"
    }
   ],
   "source": [
    "logr_top_col_names, logr_top_cols"
   ]
  },
  {
   "cell_type": "code",
   "execution_count": 55,
   "metadata": {},
   "outputs": [],
   "source": [
    "gbc1_yhat = gbc1.predict(X_test)"
   ]
  },
  {
   "cell_type": "code",
   "execution_count": 83,
   "metadata": {},
   "outputs": [],
   "source": [
    "new_yhats = []\n",
    "for y1, y2 in zip(logr_yhat, gbc1_yhat):\n",
    "    new_yhats.append((y1+y2)/2)"
   ]
  },
  {
   "cell_type": "code",
   "execution_count": 84,
   "metadata": {},
   "outputs": [
    {
     "data": {
      "text/plain": [
       "(list, array([1.5, 1. , 2. , 2. , 1. , 1. , 2.5, 2.5, 2.5, 3.5, 2.5, 1. , 2. ,\n",
       "        2. , 2.5, 1. , 1. , 2. , 1. ]))"
      ]
     },
     "execution_count": 84,
     "metadata": {},
     "output_type": "execute_result"
    }
   ],
   "source": [
    "mean_squared_error(y_test, new_yhats)\n",
    "indicesy = y_test[y_test == 4]\n",
    "\n",
    "type(new_yhats), np.array(new_yhats)[y_test == 4]"
   ]
  },
  {
   "cell_type": "code",
   "execution_count": 344,
   "metadata": {},
   "outputs": [
    {
     "name": "stdout",
     "output_type": "stream",
     "text": [
      "linear regression, score: 0.8484377835498818 mse: 0.0017195400307754211\n",
      "gradient boosted regression1, score: 0.8670157771196543 mse: 0.0015087645196820863\n",
      "gradient boosted regression2, score: 0.7380929555526012 mse: 0.0029714506545079505\n"
     ]
    }
   ],
   "source": [
    "linr_yhat = linr.predict(X_test)\n",
    "gbr_yhat = gbr.predict(X_test)\n",
    "gbr2_yhat = gbr2.predict(X_test)\n",
    "\n",
    "print(f\"linear regression, score: {linr.score(X_test, y_test)} mse: {mean_squared_error(y_test, linr_yhat)}\")\n",
    "print(f\"gradient boosted regression1, score: {gbr.score(X_test, y_test)} mse: {mean_squared_error(y_test, gbr_yhat)}\")\n",
    "print(f\"gradient boosted regression2, score: {gbr2.score(X_test, y_test)} mse: {mean_squared_error(y_test, gbr2_yhat)}\")\n",
    "      \n",
    "      "
   ]
  },
  {
   "cell_type": "code",
   "execution_count": 363,
   "metadata": {},
   "outputs": [
    {
     "data": {
      "text/plain": [
       "(-0.044836547844088914,\n",
       " 2.7571076175411187,\n",
       " 0.0028287833343021975,\n",
       " 1.0887301093554598,\n",
       " -0.14704066514968872,\n",
       " 1.6041229292750359)"
      ]
     },
     "execution_count": 363,
     "metadata": {},
     "output_type": "execute_result"
    }
   ],
   "source": [
    "gbr_yhat.min(), gbr_yhat.max(), gbr2_yhat.min(), gbr2_yhat.max(), linr_yhat.min(), linr_yhat.max()\n",
    "\n"
   ]
  },
  {
   "cell_type": "code",
   "execution_count": 86,
   "metadata": {},
   "outputs": [],
   "source": [
    "# create RFC model - change all but random_state after we time this one\n",
    "\n",
    "#clf = RandomForestClassifier(n_estimators=100, max_depth=4, random_state=659, oob_score=True)\n",
    "\n",
    "#with open('clf_model.pkl', 'wb') as my_pickle:\n",
    "      #  pickle.dump(clf, my_pickle)"
   ]
  },
  {
   "cell_type": "code",
   "execution_count": 89,
   "metadata": {},
   "outputs": [
    {
     "data": {
      "text/plain": [
       "(169, 169)"
      ]
     },
     "execution_count": 89,
     "metadata": {},
     "output_type": "execute_result"
    }
   ],
   "source": [
    "# check the feature importances and col_name list match first\n",
    "\n",
    "len(clf.feature_importances_), len(cols)"
   ]
  },
  {
   "cell_type": "code",
   "execution_count": 219,
   "metadata": {},
   "outputs": [
    {
     "ename": "NameError",
     "evalue": "name 'cols' is not defined",
     "output_type": "error",
     "traceback": [
      "\u001b[0;31m---------------------------------------------------------------------------\u001b[0m",
      "\u001b[0;31mNameError\u001b[0m                                 Traceback (most recent call last)",
      "\u001b[0;32m<ipython-input-219-63f41cf0eed5>\u001b[0m in \u001b[0;36m<module>\u001b[0;34m\u001b[0m\n\u001b[1;32m      5\u001b[0m \u001b[0;34m\u001b[0m\u001b[0m\n\u001b[1;32m      6\u001b[0m \u001b[0;34m\u001b[0m\u001b[0m\n\u001b[0;32m----> 7\u001b[0;31m \u001b[0mlist\u001b[0m\u001b[0;34m(\u001b[0m\u001b[0mcols\u001b[0m\u001b[0;34m[\u001b[0m\u001b[0mbig\u001b[0m\u001b[0;34m]\u001b[0m\u001b[0;34m)\u001b[0m\u001b[0;34m\u001b[0m\u001b[0;34m\u001b[0m\u001b[0m\n\u001b[0m",
      "\u001b[0;31mNameError\u001b[0m: name 'cols' is not defined"
     ]
    }
   ],
   "source": []
  },
  {
   "cell_type": "code",
   "execution_count": 91,
   "metadata": {},
   "outputs": [
    {
     "data": {
      "text/plain": [
       "Index(['ICT_Violation of Court Order (Not Domestic Violence)', 'B_FS', 'B_BS',\n",
       "       'B_H2', 'B_H3', 'ICT_Sleeper Aboard Public Transit', 'B_N1', 'B_RS',\n",
       "       'ICT_Rape', 'CT_IN PERSON COMPLAINT'],\n",
       "      dtype='object')"
      ]
     },
     "execution_count": 91,
     "metadata": {},
     "output_type": "execute_result"
    }
   ],
   "source": []
  },
  {
   "cell_type": "code",
   "execution_count": null,
   "metadata": {},
   "outputs": [],
   "source": [
    "clf.oob_score_ # accuracy of training set"
   ]
  },
  {
   "cell_type": "code",
   "execution_count": 801,
   "metadata": {},
   "outputs": [],
   "source": [
    "# predicted classes\n",
    "\n",
    "yhat = clf.predict(X_test)"
   ]
  },
  {
   "cell_type": "code",
   "execution_count": 802,
   "metadata": {},
   "outputs": [
    {
     "data": {
      "text/plain": [
       "0.6723333333333333"
      ]
     },
     "execution_count": 802,
     "metadata": {},
     "output_type": "execute_result"
    }
   ],
   "source": [
    "sum(yhat == y_test) / len(yhat) # accuracy of testing set"
   ]
  },
  {
   "cell_type": "code",
   "execution_count": 803,
   "metadata": {},
   "outputs": [
    {
     "name": "stdout",
     "output_type": "stream",
     "text": [
      "              precision    recall  f1-score   support\n",
      "\n",
      "           0       0.69      1.00      0.81      1219\n",
      "           1       0.72      0.16      0.27      1217\n",
      "           2       0.44      0.69      0.53      1175\n",
      "           3       0.80      0.68      0.74      1196\n",
      "           4       0.92      0.83      0.87      1193\n",
      "\n",
      "    accuracy                           0.67      6000\n",
      "   macro avg       0.71      0.67      0.65      6000\n",
      "weighted avg       0.71      0.67      0.65      6000\n",
      "\n"
     ]
    }
   ],
   "source": [
    "# sklearn.metrics.classification_report(y_true, y_pred, labels=None, target_names=None, sample_weight=None, digits=2, output_dict=False)\n",
    "print(classification_report(y_test, yhat))\n"
   ]
  },
  {
   "cell_type": "code",
   "execution_count": 804,
   "metadata": {},
   "outputs": [],
   "source": [
    "# predict probabilities - what do you want threshold to be?\n",
    "\n",
    "pp = clf.predict_proba(X_test)"
   ]
  },
  {
   "cell_type": "code",
   "execution_count": 811,
   "metadata": {},
   "outputs": [
    {
     "name": "stdout",
     "output_type": "stream",
     "text": [
      "Probabilities: No Force: 0.327, Force 1: 0.215, Force 2: 0.169, Force 3: 0.184, Officer Involved Shooting: 0.104\n",
      "Probabilities: No Force: 0.131, Force 1: 0.198, Force 2: 0.19, Force 3: 0.366, Officer Involved Shooting: 0.115\n",
      "Probabilities: No Force: 0.274, Force 1: 0.259, Force 2: 0.222, Force 3: 0.152, Officer Involved Shooting: 0.092\n",
      "Probabilities: No Force: 0.08, Force 1: 0.122, Force 2: 0.113, Force 3: 0.101, Officer Involved Shooting: 0.584\n",
      "Probabilities: No Force: 0.152, Force 1: 0.246, Force 2: 0.259, Force 3: 0.196, Officer Involved Shooting: 0.147\n",
      "Probabilities: No Force: 0.381, Force 1: 0.185, Force 2: 0.183, Force 3: 0.168, Officer Involved Shooting: 0.083\n",
      "Probabilities: No Force: 0.134, Force 1: 0.225, Force 2: 0.237, Force 3: 0.192, Officer Involved Shooting: 0.213\n",
      "Probabilities: No Force: 0.07, Force 1: 0.064, Force 2: 0.045, Force 3: 0.037, Officer Involved Shooting: 0.782\n",
      "Probabilities: No Force: 0.235, Force 1: 0.225, Force 2: 0.231, Force 3: 0.193, Officer Involved Shooting: 0.115\n",
      "Probabilities: No Force: 0.168, Force 1: 0.235, Force 2: 0.261, Force 3: 0.186, Officer Involved Shooting: 0.149\n"
     ]
    }
   ],
   "source": [
    "# some rows' probabilities of being in each class:\n",
    "# write function to truncate and set threshold\n",
    "\n",
    "for p in pp[:10]:\n",
    "    print(f\"Probabilities: No Force: {np.round(p[0], 3)}, Force 1: {np.round(p[1], 3)}, Force 2: {np.round(p[2], 3)}, Force 3: {np.round(p[3], 3)}, Officer Involved Shooting: {np.round(p[4], 3)}\")\n",
    "          \n",
    "          "
   ]
  },
  {
   "cell_type": "code",
   "execution_count": null,
   "metadata": {},
   "outputs": [],
   "source": [
    "# visualization - you can plot the abundance/frequency of each selected feature within each group as a bar plot. \n",
    "# I assume visually the top feature will be more abundant in one group comparing with the other groups.\n",
    "\n",
    "four = y_test[y_test == 4]\n",
    "four, four.index"
   ]
  },
  {
   "cell_type": "code",
   "execution_count": 92,
   "metadata": {},
   "outputs": [
    {
     "data": {
      "text/plain": [
       "array([9.99983493e-01, 1.00454752e-05, 5.98844611e-06, 1.29748730e-08,\n",
       "       4.60454423e-07])"
      ]
     },
     "execution_count": 92,
     "metadata": {},
     "output_type": "execute_result"
    }
   ],
   "source": [
    "models = [logr, clf, gbc1]\n",
    "\n",
    "predicted_probas = []\n",
    "lp = logr.predict_proba(X_train)\n",
    "rp = clf.predict_proba(X_train)\n",
    "gp = gbc1.predict_proba(X_train)\n",
    "lp[0]"
   ]
  },
  {
   "cell_type": "code",
   "execution_count": null,
   "metadata": {},
   "outputs": [],
   "source": []
  },
  {
   "cell_type": "code",
   "execution_count": 95,
   "metadata": {},
   "outputs": [],
   "source": [
    "# covariance\n",
    "\n",
    "cov = EmpiricalCovariance().fit(X,y)"
   ]
  },
  {
   "cell_type": "code",
   "execution_count": 105,
   "metadata": {},
   "outputs": [],
   "source": [
    "cc = pd.DataFrame(cov.covariance_)"
   ]
  },
  {
   "cell_type": "code",
   "execution_count": 134,
   "metadata": {},
   "outputs": [
    {
     "name": "stdout",
     "output_type": "stream",
     "text": [
      "<class 'pandas.core.frame.DataFrame'>\n",
      "RangeIndex: 169 entries, 0 to 168\n",
      "Columns: 169 entries, 0 to 168\n",
      "dtypes: float64(169)\n",
      "memory usage: 223.2 KB\n"
     ]
    },
    {
     "data": {
      "text/plain": [
       "(array([], dtype=int64), array([], dtype=int64))"
      ]
     },
     "execution_count": 134,
     "metadata": {},
     "output_type": "execute_result"
    }
   ],
   "source": [
    "cc.info()\n",
    "cc[cc > 0.2]\n",
    "np.where(cc < -0.5)"
   ]
  },
  {
   "cell_type": "code",
   "execution_count": 102,
   "metadata": {},
   "outputs": [
    {
     "data": {
      "text/plain": [
       "{'assume_centered': False, 'store_precision': True}"
      ]
     },
     "execution_count": 102,
     "metadata": {},
     "output_type": "execute_result"
    }
   ],
   "source": [
    "cov.get_params()"
   ]
  },
  {
   "cell_type": "code",
   "execution_count": 4,
   "metadata": {},
   "outputs": [],
   "source": [
    "big_coef_cols = [85, 140, 81, 142, 74, 47, 166, 108, 79, 82]\n",
    "\n",
    "X2 = X.iloc[:,big_coef_cols]"
   ]
  },
  {
   "cell_type": "code",
   "execution_count": 7,
   "metadata": {},
   "outputs": [
    {
     "data": {
      "text/plain": [
       "Index(['SR_White', 'ICT_Shots heard', 'SR_Asian',\n",
       "       'ICT_Suicidal person or attempts', 'B_U3', 'B_K1', 'month_12',\n",
       "       'ICT_Deadly Weapon - No Assault', 'SG_Male',\n",
       "       'SR_Black or African American'],\n",
       "      dtype='object')"
      ]
     },
     "execution_count": 7,
     "metadata": {},
     "output_type": "execute_result"
    }
   ],
   "source": [
    "cols[big_coef_cols]"
   ]
  },
  {
   "cell_type": "code",
   "execution_count": 9,
   "metadata": {},
   "outputs": [],
   "source": [
    "fl = sampleall.groupby(\"Force_Level\")"
   ]
  },
  {
   "cell_type": "code",
   "execution_count": 111,
   "metadata": {},
   "outputs": [
    {
     "data": {
      "text/plain": [
       "(10, 10, 10)"
      ]
     },
     "execution_count": 111,
     "metadata": {},
     "output_type": "execute_result"
    },
    {
     "data": {
      "image/png": "[encoded data removed]",
      "text/plain": [
       "<Figure size 432x288 with 1 Axes>"
      ]
     },
     "metadata": {
      "needs_background": "light"
     },
     "output_type": "display_data"
    }
   ],
   "source": [
    "dw = fl['ICT_Suicidal person or attempts'].value_counts()\n",
    "level00 = dw[0][0]\n",
    "level01 = dw[0][1]\n",
    "\n",
    "lst = dw.values[[0,1,2,3,4,5,6,7,8,9]]\n",
    "\n",
    "lst_ones = dw.values[[1,3,5,8]]\n",
    "\n",
    "lst_levels = [\"L00\", \"L01\",\"L10\",\"L11\",\"L20\", \"L21\", \"L30\",\"L31\", \"L40\", \"L41\"]\n",
    "\n",
    "dw.index\n",
    "dw.index.levels[1]\n",
    "#plt.bar([0,1],dw[0].values)\n",
    "#plt.bar([\"01\",\"10\",\"11\",\"20\",\"21\",\"30\",\"40\",\"41\"],dw.values[[1,2,3,4,5,6,7,8]]);\n",
    "plt.bar(lst_levels,a);\n",
    "\n",
    "# divide by the total number in that category\n",
    "\n",
    "a = [(lst[0]/ sum(dw[0])), (lst[1]/ sum(dw[0])), (lst[2]/ sum(dw[1])), (lst[3]/ sum(dw[1])),\n",
    "     (lst[4]/ sum(dw[2])), (lst[5]/ sum(dw[2])), (lst[6]/ sum(dw[3])), (lst[7]/ sum(dw[3])),\n",
    "     (lst[8]/ sum(dw[4])), (lst[9]/ sum(dw[4]))]\n",
    "len(dw), len(lst_levels), len(a)"
   ]
  },
  {
   "cell_type": "code",
   "execution_count": 12,
   "metadata": {},
   "outputs": [],
   "source": [
    "n = nm.groupby(\"Force_Level\")"
   ]
  },
  {
   "cell_type": "code",
   "execution_count": 13,
   "metadata": {},
   "outputs": [
    {
     "data": {
      "text/plain": [
       "Force_Level             Subject_Race                 \n",
       "0                       -                                2035580\n",
       "Level 1 - Use of Force  White                               3483\n",
       "                        Black or African American           3086\n",
       "                        Not Specified                       1574\n",
       "                        Asian                                360\n",
       "                        Hispanic or Latino                   338\n",
       "                        American Indian/Alaska Native         66\n",
       "                        Nat Hawaiian/Oth Pac Islander         46\n",
       "Level 2 - Use of Force  White                               1222\n",
       "                        Black or African American            996\n",
       "                        Not Specified                        373\n",
       "                        Asian                                108\n",
       "                        Hispanic or Latino                    86\n",
       "                        Nat Hawaiian/Oth Pac Islander         38\n",
       "                        American Indian/Alaska Native         29\n",
       "Level 3 - OIS           Black or African American             37\n",
       "                        White                                 37\n",
       "                        Asian                                 12\n",
       "                        Not Specified                          4\n",
       "Level 3 - Use of Force  White                                 63\n",
       "                        Black or African American             32\n",
       "                        Not Specified                         30\n",
       "                        American Indian/Alaska Native          6\n",
       "                        Asian                                  6\n",
       "                        Nat Hawaiian/Oth Pac Islander          4\n",
       "                        Hispanic or Latino                     2\n",
       "Name: Subject_Race, dtype: int64"
      ]
     },
     "execution_count": 13,
     "metadata": {},
     "output_type": "execute_result"
    }
   ],
   "source": [
    "n.Subject_Race.value_counts()"
   ]
  },
  {
   "cell_type": "code",
   "execution_count": 10,
   "metadata": {},
   "outputs": [
    {
     "data": {
      "text/plain": [
       "(409524, 169)"
      ]
     },
     "execution_count": 10,
     "metadata": {},
     "output_type": "execute_result"
    }
   ],
   "source": [
    "X_test.shape"
   ]
  },
  {
   "cell_type": "code",
   "execution_count": 40,
   "metadata": {},
   "outputs": [
    {
     "data": {
      "text/plain": [
       "['SG_Male',\n",
       " 'SG_Female',\n",
       " 'P_WEST',\n",
       " 'SR_White',\n",
       " 'S_MARY',\n",
       " 'cos_hour2',\n",
       " 'S_DAVID',\n",
       " 'month_12',\n",
       " 'sin_hour2']"
      ]
     },
     "execution_count": 40,
     "metadata": {},
     "output_type": "execute_result"
    }
   ],
   "source": [
    "indices = np.argsort(gbc3.feature_importances_)\n",
    "big = indices[-1:-10:-1]\n",
    "\n",
    "\n",
    "list(cols[big])"
   ]
  },
  {
   "cell_type": "code",
   "execution_count": 57,
   "metadata": {},
   "outputs": [
    {
     "data": {
      "text/plain": [
       "{'logr': [[0.00010263665088456779,\n",
       "   0.3265427110075391,\n",
       "   1.4532172330925373,\n",
       "   3.0653699086953736,\n",
       "   1.9887121638112204],\n",
       "  0.003894521830373648],\n",
       " 'gbc1': [[0.00037651295630981944,\n",
       "   19.835020659757742,\n",
       "   23.540517551342305,\n",
       "   31.66054502866814,\n",
       "   34.538776394910684],\n",
       "  0.12458063362592957],\n",
       " 'clf': [[0.003294532932389014,\n",
       "   1.1459081863861342,\n",
       "   2.220445775756719,\n",
       "   4.770830438290839,\n",
       "   4.632854651320371],\n",
       "  0.011982994366389277],\n",
       " 'gbc3': [0.0036770353709019927,\n",
       "  [8.223825980389326e-05,\n",
       "   0.3061361946126585,\n",
       "   1.3949131724950918,\n",
       "   2.6528590081901595,\n",
       "   1.993389169070535]]}"
      ]
     },
     "execution_count": 57,
     "metadata": {},
     "output_type": "execute_result"
    }
   ],
   "source": [
    "proba_metrics"
   ]
  },
  {
   "cell_type": "code",
   "execution_count": 61,
   "metadata": {},
   "outputs": [],
   "source": [
    "import mord"
   ]
  },
  {
   "cell_type": "code",
   "execution_count": 62,
   "metadata": {},
   "outputs": [],
   "source": [
    "mord_lit = mord.LogisticIT()"
   ]
  },
  {
   "cell_type": "code",
   "execution_count": null,
   "metadata": {},
   "outputs": [],
   "source": [
    "mord."
   ]
  },
  {
   "cell_type": "code",
   "execution_count": 66,
   "metadata": {},
   "outputs": [
    {
     "data": {
      "text/plain": [
       "LogisticIT(alpha=1.0, max_iter=1000, verbose=0)"
      ]
     },
     "execution_count": 66,
     "metadata": {},
     "output_type": "execute_result"
    }
   ],
   "source": [
    "%timeit\n",
    "\n",
    "mord_lit.fit(X_train, y_train)"
   ]
  },
  {
   "cell_type": "code",
   "execution_count": 119,
   "metadata": {},
   "outputs": [],
   "source": [
    "mord_IT = mord_lit.predict_proba(X_test)\n"
   ]
  },
  {
   "cell_type": "code",
   "execution_count": 68,
   "metadata": {},
   "outputs": [
    {
     "name": "stdout",
     "output_type": "stream",
     "text": [
      "for class 0 y:407098 y_hat: 407126\n",
      "for class 1 y:1794 y_hat: 2314\n",
      "for class 2 y:589 y_hat: 84\n",
      "for class 3 y:24 y_hat: 0\n",
      "for class 4 y:19 y_hat: 0\n",
      "class 0 has log loss of 0.0001\n",
      "class 1 has log loss of 0.3522\n",
      "class 2 has log loss of 1.8532\n",
      "class 3 has log loss of 34.5388\n",
      "class 4 has log loss of 2.9632\n",
      "overall log loss: 0.006477453258413517\n"
     ]
    },
    {
     "data": {
      "text/plain": [
       "[[0.00010803422909235296,\n",
       "  0.3522491956841416,\n",
       "  1.8531832493422224,\n",
       "  34.538776394910684,\n",
       "  2.9632329055643383],\n",
       " 0.006477453258413517]"
      ]
     },
     "execution_count": 68,
     "metadata": {},
     "output_type": "execute_result"
    }
   ],
   "source": [
    "predicted_proba_metrics(y_test, X_test, mord_lit, [0,1,2,3,4])"
   ]
  },
  {
   "cell_type": "code",
   "execution_count": 267,
   "metadata": {},
   "outputs": [],
   "source": [
    "bin2 = np.loadtxt(\"bin2logr_predict_proba\")\n"
   ]
  },
  {
   "cell_type": "code",
   "execution_count": 268,
   "metadata": {},
   "outputs": [],
   "source": [
    "bin3 = np.loadtxt(\"bin3gbc1_predicted_proba\")\n",
    "bin1 = np.loadtxt(\"logrbin_predict_proba.csv\")"
   ]
  },
  {
   "cell_type": "code",
   "execution_count": 269,
   "metadata": {},
   "outputs": [],
   "source": [
    "mord_AT = np.loadtxt(\"mord_AT\")\n",
    "# mord_IT"
   ]
  },
  {
   "cell_type": "code",
   "execution_count": 270,
   "metadata": {},
   "outputs": [],
   "source": [
    "bin4 = np.loadtxt(\"bin4gbc3\")\n",
    "mord_SE = np.loadtxt(\"mord_SE\")"
   ]
  },
  {
   "cell_type": "code",
   "execution_count": 277,
   "metadata": {},
   "outputs": [],
   "source": [
    "bin10 = [x[0] for x in bin1]"
   ]
  },
  {
   "cell_type": "code",
   "execution_count": null,
   "metadata": {},
   "outputs": [],
   "source": [
    "sampleall = pd.read_pickle(\"data/df_ready_to_split_to_X_y_no_day.pkl\")\n",
    "\n",
    "sa = sampleall.copy(deep=True)\n",
    "\n",
    "X = sampleall.drop(\"Force_Level\", axis=1)\n",
    "y = sampleall.Force_Level\n",
    "\n",
    "cols = X.columns"
   ]
  },
  {
   "cell_type": "code",
   "execution_count": 311,
   "metadata": {},
   "outputs": [],
   "source": [
    "\n",
    "\n",
    "# Binarize the output\n",
    "y = label_binarize(y, classes=[0, 1, 2, 3, 4])\n",
    "n_classes = y.shape[1]\n",
    "\n",
    "# Add noisy features to make the problem harder\n",
    "#random_state = np.random.RandomState(0)\n",
    "n_samples, n_features = X.shape\n",
    "#X = np.c_[X, random_state.randn(n_samples, 200 * n_features)]\n",
    "\n",
    "# shuffle and split training and test sets\n",
    "X_train, X_test, y_train, y_test = train_test_split(X, y, test_size=.2,\n",
    "                                                    random_state=659)"
   ]
  },
  {
   "cell_type": "code",
   "execution_count": 312,
   "metadata": {},
   "outputs": [],
   "source": [
    "y_score = logr.decision_function(X_test)\n"
   ]
  },
  {
   "cell_type": "code",
   "execution_count": 328,
   "metadata": {},
   "outputs": [],
   "source": [
    "y_probs = logr.predict_proba(X_test)"
   ]
  },
  {
   "cell_type": "code",
   "execution_count": 323,
   "metadata": {},
   "outputs": [
    {
     "data": {
      "text/plain": [
       "(array([[1, 0, 0, 0, 0],\n",
       "        [1, 0, 0, 0, 0],\n",
       "        [1, 0, 0, 0, 0],\n",
       "        ...,\n",
       "        [1, 0, 0, 0, 0],\n",
       "        [1, 0, 0, 0, 0],\n",
       "        [1, 0, 0, 0, 0]]),\n",
       " array([[12.20278991,  0.2561508 , -2.9877074 , -4.38718242, -5.08405088],\n",
       "        [12.56485782, -0.37691666, -0.96854024, -7.14604976, -4.07335115],\n",
       "        [11.29684974,  0.52664067, -2.41422559, -4.07720812, -5.3320567 ],\n",
       "        ...,\n",
       "        [11.24305289, -0.59201723, -0.89635872, -5.06157755, -4.69309938],\n",
       "        [ 9.64690039, -1.35628658, -2.00106908, -2.68872385, -3.60082087],\n",
       "        [10.06570712, -0.43830425, -0.27357029, -2.42086379, -6.93296879]]))"
      ]
     },
     "execution_count": 323,
     "metadata": {},
     "output_type": "execute_result"
    }
   ],
   "source": [
    "y_test, y_score"
   ]
  },
  {
   "cell_type": "code",
   "execution_count": 329,
   "metadata": {},
   "outputs": [
    {
     "name": "stdout",
     "output_type": "stream",
     "text": [
      "[0.        0.        0.        ... 0.9983512 0.9991756 1.       ]\n",
      "[0.         0.         0.         ... 0.99998528 0.99999019 1.        ]\n",
      "[0.         0.         0.         ... 0.99994376 0.99994865 1.        ]\n",
      "[0.00000000e+00 0.00000000e+00 2.44200244e-06 ... 9.99982906e-01\n",
      " 9.99992674e-01 1.00000000e+00]\n",
      "[0.         0.         0.         ... 0.99994139 0.99999512 1.        ]\n"
     ]
    }
   ],
   "source": [
    "\n",
    "# Compute ROC curve and ROC area for each class\n",
    "fpr = dict()\n",
    "tpr = dict()\n",
    "roc_auc = dict()\n",
    "for i in range(n_classes):\n",
    "    \n",
    "    fpr[i], tpr[i], _ = roc_curve(y_test[:, i], y_probs[:, i])\n",
    "    #print(fpr[i])\n",
    "    roc_auc[i] = auc(fpr[i], tpr[i])\n",
    "\n",
    "# Compute micro-average ROC curve and ROC area\n",
    "fpr[\"micro\"], tpr[\"micro\"], _ = roc_curve(y_test.ravel(), y_score.ravel())\n",
    "roc_auc[\"micro\"] = auc(fpr[\"micro\"], tpr[\"micro\"])"
   ]
  },
  {
   "cell_type": "code",
   "execution_count": 340,
   "metadata": {},
   "outputs": [
    {
     "data": {
      "text/plain": [
       "73036"
      ]
     },
     "execution_count": 340,
     "metadata": {},
     "output_type": "execute_result"
    }
   ],
   "source": [
    "len(fpr[0])"
   ]
  },
  {
   "cell_type": "code",
   "execution_count": 341,
   "metadata": {},
   "outputs": [
    {
     "data": {
      "image/png": "[encoded data removed]",
      "text/plain": [
       "<Figure size 432x288 with 1 Axes>"
      ]
     },
     "metadata": {
      "needs_background": "light"
     },
     "output_type": "display_data"
    }
   ],
   "source": [
    "plt.figure()\n",
    "lw = 2\n",
    "plt.plot(fpr[0], tpr[0], color='red',\n",
    "         lw=lw, label='ROC curve (area = %0.2f)' % roc_auc[0])\n",
    "plt.plot(fpr[1], tpr[1], color='darkorange',\n",
    "         lw=lw, label='ROC curve (area = %0.2f)' % roc_auc[1])\n",
    "plt.plot(fpr[2], tpr[2], color='blue',\n",
    "         lw=lw, label='ROC curve (area = %0.2f)' % roc_auc[2])\n",
    "plt.plot(fpr[3], tpr[3], color='green',\n",
    "         lw=lw, label='ROC curve (area = %0.2f)' % roc_auc[3])\n",
    "plt.plot(fpr[4], tpr[4], color='green',\n",
    "         lw=lw, label='ROC curve (area = %0.2f)' % roc_auc[4])\n",
    "plt.plot(fpr[\"micro\"], tpr[\"micro\"])\n",
    "plt.plot([0, 1], [0, 1], color='navy', lw=lw, linestyle='--')\n",
    "plt.xlim([0.0, 1.0])\n",
    "plt.ylim([0.0, 1.05])\n",
    "plt.xlabel('False Positive Rate')\n",
    "plt.ylabel('True Positive Rate')\n",
    "plt.title('Receiver operating characteristic example')\n",
    "plt.legend(loc=\"lower right\")\n",
    "plt.show()"
   ]
  },
  {
   "cell_type": "code",
   "execution_count": null,
   "metadata": {},
   "outputs": [],
   "source": []
  },
  {
   "cell_type": "code",
   "execution_count": null,
   "metadata": {},
   "outputs": [],
   "source": []
  },
  {
   "cell_type": "code",
   "execution_count": null,
   "metadata": {},
   "outputs": [],
   "source": []
  },
  {
   "cell_type": "code",
   "execution_count": null,
   "metadata": {},
   "outputs": [],
   "source": []
  },
  {
   "cell_type": "code",
   "execution_count": null,
   "metadata": {},
   "outputs": [],
   "source": []
  },
  {
   "cell_type": "code",
   "execution_count": 279,
   "metadata": {},
   "outputs": [
    {
     "data": {
      "text/plain": [
       "(array([0.       , 0.       , 0.       , ..., 0.9983512, 0.9991756,\n",
       "        1.       ]),\n",
       " array([0.00000000e+00, 2.45641099e-06, 1.22820549e-05, ...,\n",
       "        1.00000000e+00, 1.00000000e+00, 1.00000000e+00]),\n",
       " array([1.99999986e+00, 9.99999862e-01, 9.99999828e-01, ...,\n",
       "        7.20847425e-10, 5.06594793e-10, 1.68229559e-10]))"
      ]
     },
     "execution_count": 279,
     "metadata": {},
     "output_type": "execute_result"
    }
   ],
   "source": [
    "\n",
    "roc_curve(y_true, bin10, pos_label=0)"
   ]
  },
  {
   "cell_type": "code",
   "execution_count": 106,
   "metadata": {},
   "outputs": [
    {
     "name": "stdout",
     "output_type": "stream",
     "text": [
      "9.703465138657652e-05\n",
      "0.06572117762392676\n"
     ]
    }
   ],
   "source": [
    "print(log_loss(y_true[y_true == 0], bin1[y_true == 0], labels=[0,1]))\n",
    "print(log_loss(y_true[y_true == 1], bin1[y_true == 1], labels=[0,1]))\n"
   ]
  },
  {
   "cell_type": "code",
   "execution_count": 108,
   "metadata": {},
   "outputs": [
    {
     "data": {
      "text/plain": [
       "(0.003475163506268852, 0    408892\n",
       " 1       632\n",
       " Name: Force_Level, dtype: int64)"
      ]
     },
     "execution_count": 108,
     "metadata": {},
     "output_type": "execute_result"
    }
   ],
   "source": [
    "# bin2\n",
    "\n",
    "y2_true = y_test.replace({1:0, 2:1, 3:1, 4:1})\n",
    "\n",
    "log_loss(y2_true, bin2), y2_true.value_counts()"
   ]
  },
  {
   "cell_type": "code",
   "execution_count": 112,
   "metadata": {},
   "outputs": [
    {
     "name": "stdout",
     "output_type": "stream",
     "text": [
      "0.001249710796405286\n",
      "1.4433008113567953\n"
     ]
    }
   ],
   "source": [
    "print(log_loss(y2_true[y2_true == 0], bin2[y2_true == 0], labels=[0,1]))\n",
    "print(log_loss(y2_true[y2_true == 1], bin2[y2_true == 1], labels=[0,1]))"
   ]
  },
  {
   "cell_type": "code",
   "execution_count": 111,
   "metadata": {},
   "outputs": [
    {
     "data": {
      "text/plain": [
       "(0.011548253292501419, 0    409481\n",
       " 1        43\n",
       " Name: Force_Level, dtype: int64)"
      ]
     },
     "execution_count": 111,
     "metadata": {},
     "output_type": "execute_result"
    }
   ],
   "source": [
    "# bin3\n",
    "\n",
    "y3_true = y_test.replace({1:0, 2:0, 3:1, 4:1})\n",
    "\n",
    "log_loss(y3_true, bin3), y3_true.value_counts()"
   ]
  },
  {
   "cell_type": "code",
   "execution_count": 113,
   "metadata": {},
   "outputs": [
    {
     "name": "stdout",
     "output_type": "stream",
     "text": [
      "0.010775465454666225\n",
      "7.3706630585155954\n"
     ]
    }
   ],
   "source": [
    "print(log_loss(y3_true[y3_true == 0], bin3[y3_true == 0], labels=[0,1]))\n",
    "print(log_loss(y3_true[y3_true == 1], bin3[y3_true == 1], labels=[0,1]))"
   ]
  },
  {
   "cell_type": "code",
   "execution_count": 116,
   "metadata": {},
   "outputs": [
    {
     "name": "stdout",
     "output_type": "stream",
     "text": [
      "0.0001402588537962934\n",
      "0.3718107017721798\n",
      "1.6626600251503743\n",
      "3.988417963274076\n",
      "4.297433821172463\n"
     ]
    }
   ],
   "source": [
    "print(log_loss(y_test[y_test == 0], mord_AT[y_test == 0], labels=[0,1,2,3,4]))\n",
    "print(log_loss(y_test[y_test == 1], mord_AT[y_test == 1], labels=[0,1,2,3,4]))\n",
    "print(log_loss(y_test[y_test == 2], mord_AT[y_test == 2], labels=[0,1,2,3,4]))\n",
    "print(log_loss(y_test[y_test == 3], mord_AT[y_test == 3], labels=[0,1,2,3,4]))\n",
    "print(log_loss(y_test[y_test == 4], mord_AT[y_test == 4], labels=[0,1,2,3,4]))\n"
   ]
  },
  {
   "cell_type": "code",
   "execution_count": 117,
   "metadata": {},
   "outputs": [],
   "source": [
    "proba_metrics[\"mord_AT\"] = [log_loss(y_test, mord_AT), [log_loss(y_test[y_test == 0], mord_AT[y_test == 0], labels=[0,1,2,3,4]), log_loss(y_test[y_test == 1], mord_AT[y_test == 1], labels=[0,1,2,3,4]), log_loss(y_test[y_test == 2], mord_AT[y_test == 2], labels=[0,1,2,3,4]), log_loss(y_test[y_test == 3], mord_AT[y_test == 3], labels=[0,1,2,3,4]),log_loss(y_test[y_test == 4], mord_AT[y_test == 4], labels=[0,1,2,3,4]) ]\n",
    "                        ]"
   ]
  },
  {
   "cell_type": "code",
   "execution_count": 128,
   "metadata": {},
   "outputs": [
    {
     "data": {
      "text/plain": [
       "(0.6103815568004803, 0    409505\n",
       " 1        19\n",
       " Name: Force_Level, dtype: int64)"
      ]
     },
     "execution_count": 128,
     "metadata": {},
     "output_type": "execute_result"
    }
   ],
   "source": [
    "# bin4\n",
    "y4_true = y_test.replace({1:0,2:0,3:0, 4:1})\n",
    "log_loss(y4_true, bin4), y4_true.value_counts()"
   ]
  },
  {
   "cell_type": "code",
   "execution_count": 129,
   "metadata": {},
   "outputs": [
    {
     "name": "stdout",
     "output_type": "stream",
     "text": [
      "0.6100688214830621\n",
      "7.350732933607379\n"
     ]
    }
   ],
   "source": [
    "print(log_loss(y4_true[y4_true == 0], bin4[y4_true == 0], labels=[0,1]))\n",
    "print(log_loss(y4_true[y4_true == 1], bin4[y4_true == 1], labels=[0,1]))\n"
   ]
  },
  {
   "cell_type": "code",
   "execution_count": 130,
   "metadata": {},
   "outputs": [],
   "source": [
    "# mord_SE\n",
    "proba_metrics[\"mord_SE\"] = [log_loss(y_test, mord_SE), [log_loss(y_test[y_test == 0], mord_SE[y_test == 0], labels=[0,1,2,3,4]), log_loss(y_test[y_test == 1], mord_SE[y_test == 1], labels=[0,1,2,3,4]), log_loss(y_test[y_test == 2], mord_SE[y_test == 2], labels=[0,1,2,3,4]), log_loss(y_test[y_test == 3], mord_SE[y_test == 3], labels=[0,1,2,3,4]),log_loss(y_test[y_test == 4], mord_SE[y_test == 4], labels=[0,1,2,3,4]) ]\n",
    "                        ]"
   ]
  },
  {
   "cell_type": "code",
   "execution_count": 135,
   "metadata": {},
   "outputs": [
    {
     "data": {
      "text/plain": [
       "{'logr': [[0.00010263665088456779,\n",
       "   0.3265427110075391,\n",
       "   1.4532172330925373,\n",
       "   3.0653699086953736,\n",
       "   1.9887121638112204],\n",
       "  0.003894521830373648],\n",
       " 'gbc1': [[0.00037651295630981944,\n",
       "   19.835020659757742,\n",
       "   23.540517551342305,\n",
       "   31.66054502866814,\n",
       "   34.538776394910684],\n",
       "  0.12458063362592957],\n",
       " 'clf': [[0.003294532932389014,\n",
       "   1.1459081863861342,\n",
       "   2.220445775756719,\n",
       "   4.770830438290839,\n",
       "   4.632854651320371],\n",
       "  0.011982994366389277],\n",
       " 'gbc3': [0.0036770353709019927,\n",
       "  [8.223825980389326e-05,\n",
       "   0.3061361946126585,\n",
       "   1.3949131724950918,\n",
       "   2.6528590081901595,\n",
       "   1.993389169070535]],\n",
       " 'mord_AT': [0.0045926674050274915,\n",
       "  [0.0001402588537962934,\n",
       "   0.3718107017721798,\n",
       "   1.6626600251503743,\n",
       "   3.988417963274076,\n",
       "   4.297433821172463]],\n",
       " 'mord_SE': [0.004792584187029591,\n",
       "  [0.0002047840361124655,\n",
       "   0.4141536458719966,\n",
       "   1.6031119885576823,\n",
       "   4.026563364619005,\n",
       "   5.02362907211059]],\n",
       " 'mord_IT': [0.006477453258413517,\n",
       "  [0.00010803422909235296,\n",
       "   0.3522491956841416,\n",
       "   1.8531832493422224,\n",
       "   34.538776394910684,\n",
       "   2.9632329055643383]]}"
      ]
     },
     "execution_count": 135,
     "metadata": {},
     "output_type": "execute_result"
    }
   ],
   "source": [
    "proba_metrics"
   ]
  },
  {
   "cell_type": "code",
   "execution_count": 134,
   "metadata": {},
   "outputs": [],
   "source": [
    "#mord_IT\n",
    "\n",
    "proba_metrics[\"mord_IT\"] = [log_loss(y_test, mord_IT), [log_loss(y_test[y_test == 0], mord_IT[y_test == 0], labels=[0,1,2,3,4]), log_loss(y_test[y_test == 1], mord_IT[y_test == 1], labels=[0,1,2,3,4]), log_loss(y_test[y_test == 2], mord_IT[y_test == 2], labels=[0,1,2,3,4]), log_loss(y_test[y_test == 3], mord_IT[y_test == 3], labels=[0,1,2,3,4]),log_loss(y_test[y_test == 4], mord_IT[y_test == 4], labels=[0,1,2,3,4]) ]]\n",
    "                            \n",
    "                            \n",
    "                            \n",
    "   "
   ]
  },
  {
   "cell_type": "code",
   "execution_count": null,
   "metadata": {},
   "outputs": [],
   "source": [
    "bin1[0] = 0\n",
    "bin2[0] - bin1[0] = 1\n",
    "bin3[0] - bin2[0] = 2\n",
    "bin4[0] - bin3[0] = 3\n",
    "bin4[1] = 4\n",
    "\n"
   ]
  },
  {
   "cell_type": "code",
   "execution_count": 157,
   "metadata": {},
   "outputs": [
    {
     "data": {
      "text/plain": [
       "(9.703465138657652e-05, 0.06572117762392676)"
      ]
     },
     "execution_count": 157,
     "metadata": {},
     "output_type": "execute_result"
    }
   ],
   "source": [
    "zero = bin1[y_true == 0]\n",
    "ones = bin1[y_true == 1]\n",
    "log_loss(y_test[y_test == 0], zero, labels=[0,1]), log_loss(y_true[y_true == 1], ones, labels=[0,1])\n",
    "\n"
   ]
  },
  {
   "cell_type": "code",
   "execution_count": 153,
   "metadata": {},
   "outputs": [
    {
     "data": {
      "text/plain": [
       "1.7463232921519256"
      ]
     },
     "execution_count": 153,
     "metadata": {},
     "output_type": "execute_result"
    }
   ],
   "source": [
    "one = bin2[(y2_true == 0) & (y_true != 0)]\n",
    "log_loss(y_test[y_test == 1], one, labels=[0,1])"
   ]
  },
  {
   "cell_type": "code",
   "execution_count": 150,
   "metadata": {},
   "outputs": [
    {
     "data": {
      "text/plain": [
       "(407098, 1794, 589, 24, 19)"
      ]
     },
     "execution_count": 150,
     "metadata": {},
     "output_type": "execute_result"
    }
   ],
   "source": [
    "len(y_test[y_test == 0]), len(y_test[y_test == 1]), len(y_test[y_test == 2]), len(y_test[y_test == 3]), len(y_test[y_test == 4])\n",
    "\n"
   ]
  },
  {
   "cell_type": "code",
   "execution_count": 155,
   "metadata": {},
   "outputs": [
    {
     "data": {
      "text/plain": [
       "11.02501646955589"
      ]
     },
     "execution_count": 155,
     "metadata": {},
     "output_type": "execute_result"
    }
   ],
   "source": [
    "four = bin4[y4_true == 1]\n",
    "log_loss(y_test[y_test == 4], four, labels=[0,1])"
   ]
  },
  {
   "cell_type": "code",
   "execution_count": 2,
   "metadata": {},
   "outputs": [],
   "source": [
    "sampleall = pd.read_pickle(\"data/df_ready_to_split_to_X_y_no_day.pkl\")"
   ]
  },
  {
   "cell_type": "code",
   "execution_count": 13,
   "metadata": {},
   "outputs": [],
   "source": [
    "list(sampleall.columns)\n",
    "binX = sampleall.drop(['SG_Female',\n",
    " 'SG_Male',\n",
    " 'SR_American Indian/Alaska Native',\n",
    " 'SR_Asian',\n",
    " 'SR_Black or African American',\n",
    " 'SR_Hispanic or Latino',\n",
    " 'SR_Nat Hawaiian/Oth Pac Islander',\n",
    " 'SR_White'], axis=1)"
   ]
  },
  {
   "cell_type": "code",
   "execution_count": 14,
   "metadata": {},
   "outputs": [
    {
     "data": {
      "text/plain": [
       "162"
      ]
     },
     "execution_count": 14,
     "metadata": {},
     "output_type": "execute_result"
    }
   ],
   "source": [
    "len(binX.columns)"
   ]
  },
  {
   "cell_type": "code",
   "execution_count": 16,
   "metadata": {},
   "outputs": [],
   "source": [
    "X = binX.drop(\"Force_Level\", axis=1)\n",
    "y = binX.Force_Level\n",
    "biny = y.replace({ 2:1, 3:1, 4:1})"
   ]
  },
  {
   "cell_type": "code",
   "execution_count": 95,
   "metadata": {},
   "outputs": [],
   "source": [
    "logr_cols = list(X.columns)\n",
    "\n",
    "with open ('logr_cols', 'wb') as lc:\n",
    "        pickle.dump(logr_cols, lc)\n",
    "        \n"
   ]
  },
  {
   "cell_type": "code",
   "execution_count": 17,
   "metadata": {},
   "outputs": [],
   "source": [
    "X_train, X_test, y_train, y_test = train_test_split(X, biny, test_size=0.2, random_state=659)"
   ]
  },
  {
   "cell_type": "code",
   "execution_count": 84,
   "metadata": {},
   "outputs": [],
   "source": [
    "lrbimod = LogisticRegression(random_state=659, solver=\"saga\", n_jobs=-1, verbose=1)\n"
   ]
  },
  {
   "cell_type": "code",
   "execution_count": 85,
   "metadata": {},
   "outputs": [
    {
     "name": "stderr",
     "output_type": "stream",
     "text": [
      "[Parallel(n_jobs=-1)]: Using backend ThreadingBackend with 4 concurrent workers.\n"
     ]
    },
    {
     "name": "stdout",
     "output_type": "stream",
     "text": [
      "convergence after 41 epochs took 389 seconds\n"
     ]
    },
    {
     "name": "stderr",
     "output_type": "stream",
     "text": [
      "[Parallel(n_jobs=-1)]: Done   1 out of   1 | elapsed:  6.5min finished\n"
     ]
    },
    {
     "data": {
      "text/plain": [
       "LogisticRegression(C=1.0, class_weight=None, dual=False, fit_intercept=True,\n",
       "                   intercept_scaling=1, l1_ratio=None, max_iter=100,\n",
       "                   multi_class='warn', n_jobs=-1, penalty='l2',\n",
       "                   random_state=659, solver='saga', tol=0.0001, verbose=1,\n",
       "                   warm_start=False)"
      ]
     },
     "execution_count": 85,
     "metadata": {},
     "output_type": "execute_result"
    }
   ],
   "source": [
    "lrbimod.fit(X_train, y_train)"
   ]
  },
  {
   "cell_type": "code",
   "execution_count": 19,
   "metadata": {},
   "outputs": [],
   "source": [
    "'''with open('lrbimod.pkl', 'wb') as my_pickle:\n",
    "    pickle.dump(lrbimod, my_pickle)'''\n",
    "    \n",
    "with open('website/lrbimod.pkl', 'rb') as m:\n",
    "    lrbimod = pickle.load(m)"
   ]
  },
  {
   "cell_type": "code",
   "execution_count": 20,
   "metadata": {},
   "outputs": [],
   "source": [
    "pbimod = lrbimod.predict_proba(X_test)"
   ]
  },
  {
   "cell_type": "code",
   "execution_count": 88,
   "metadata": {},
   "outputs": [],
   "source": [
    "fpr, tpr, _ = roc_curve(y_test, pbimod[:,0], pos_label=0)"
   ]
  },
  {
   "cell_type": "code",
   "execution_count": 89,
   "metadata": {},
   "outputs": [],
   "source": [
    "roc_auc = auc(fpr, tpr)"
   ]
  },
  {
   "cell_type": "code",
   "execution_count": 90,
   "metadata": {},
   "outputs": [
    {
     "data": {
      "image/png": "[encoded data removed]",
      "text/plain": [
       "<Figure size 432x288 with 1 Axes>"
      ]
     },
     "metadata": {
      "needs_background": "light"
     },
     "output_type": "display_data"
    }
   ],
   "source": [
    "\n",
    "lw = 2\n",
    "plt.plot(fpr, tpr, color='red',\n",
    "         lw=lw, label='ROC curve (area = %0.2f)' % roc_auc)\n",
    "\n",
    "plt.plot([0, 1], [0, 1], color='navy', lw=lw, linestyle='--')\n",
    "plt.xlim([0.0, 1.0])\n",
    "plt.ylim([0.0, 1.05])\n",
    "plt.xlabel('False Positive Rate')\n",
    "plt.ylabel('True Positive Rate')\n",
    "plt.title('Receiver operating characteristic binary model no force v. force')\n",
    "plt.legend(loc=\"lower right\")\n",
    "\n",
    "plt.savefig(\"ROC_curve_binary_logr.jpg\")"
   ]
  },
  {
   "cell_type": "code",
   "execution_count": 91,
   "metadata": {},
   "outputs": [
    {
     "data": {
      "text/plain": [
       "0.033775197239730916"
      ]
     },
     "execution_count": 91,
     "metadata": {},
     "output_type": "execute_result"
    }
   ],
   "source": [
    "log_loss(y_test, pbimod)"
   ]
  },
  {
   "cell_type": "code",
   "execution_count": 18,
   "metadata": {},
   "outputs": [
    {
     "data": {
      "text/plain": [
       "array([[9.99992677e-01, 7.32290067e-06],\n",
       "       [9.99992420e-01, 7.57991499e-06],\n",
       "       [9.99988138e-01, 1.18622701e-05],\n",
       "       ...,\n",
       "       [9.99986628e-01, 1.33721068e-05],\n",
       "       [9.99990760e-01, 9.23996868e-06],\n",
       "       [9.99992119e-01, 7.88116993e-06]])"
      ]
     },
     "execution_count": 18,
     "metadata": {},
     "output_type": "execute_result"
    }
   ],
   "source": [
    "pbimod"
   ]
  },
  {
   "cell_type": "code",
   "execution_count": 21,
   "metadata": {},
   "outputs": [],
   "source": [
    "gbc1234 = GradientBoostingClassifier(loss='deviance', learning_rate=0.1, n_estimators=1000,\n",
    "                                random_state=659, verbose=1)"
   ]
  },
  {
   "cell_type": "code",
   "execution_count": 22,
   "metadata": {},
   "outputs": [],
   "source": [
    "# use bin1 and then another classifier for 1-4\n",
    "# redo bin1 without gender and race\n",
    "sampleall = pd.read_pickle(\"data/df_ready_to_split_to_X_y_no_day.pkl\")\n",
    "\n",
    "indexNames = sampleall[ sampleall['Force_Level'] == 0 ].index\n",
    " \n",
    "# Delete these row indexes from dataFrame\n",
    "sa = sampleall.drop(indexNames )"
   ]
  },
  {
   "cell_type": "code",
   "execution_count": 7,
   "metadata": {},
   "outputs": [],
   "source": [
    "with open('data/gbc1234.pkl', 'rb') as my_pickle:\n",
    "    gbc1234 = pickle.load(my_pickle)\n"
   ]
  },
  {
   "cell_type": "code",
   "execution_count": 4,
   "metadata": {},
   "outputs": [],
   "source": [
    "yll = sampleall.Force_Level\n",
    "Xll = sampleall.drop(\"Force_Level\", axis=1)\n",
    "\n",
    "Xall_train, Xall_test, yall_train, yall_test = train_test_split(Xll, yll, test_size=0.2, random_state=659)"
   ]
  },
  {
   "cell_type": "code",
   "execution_count": 9,
   "metadata": {},
   "outputs": [],
   "source": [
    "pgbc = gbc1234.predict_proba(Xall_test)"
   ]
  },
  {
   "cell_type": "code",
   "execution_count": null,
   "metadata": {},
   "outputs": [],
   "source": []
  },
  {
   "cell_type": "code",
   "execution_count": 11,
   "metadata": {},
   "outputs": [],
   "source": [
    "np.savetxt(\"pgbc\", pgbc)"
   ]
  },
  {
   "cell_type": "code",
   "execution_count": 34,
   "metadata": {},
   "outputs": [],
   "source": [
    "p_list = []\n",
    "for r, s in zip(pbimod, pgbc):\n",
    "   \n",
    "    z = (r[0])\n",
    "    o = (r[1]*s[0])\n",
    "    tw = (r[1]*s[1])\n",
    "    th = (r[1]*s[2])\n",
    "    f = (r[1]*s[3])\n",
    "    p_list.append(np.array([z,o,tw,th,f]))\n",
    "    "
   ]
  },
  {
   "cell_type": "code",
   "execution_count": 39,
   "metadata": {},
   "outputs": [
    {
     "data": {
      "text/plain": [
       "(409524, 409524)"
      ]
     },
     "execution_count": 39,
     "metadata": {},
     "output_type": "execute_result"
    }
   ],
   "source": [
    "len(p_list), len(yall_test)"
   ]
  },
  {
   "cell_type": "code",
   "execution_count": 38,
   "metadata": {},
   "outputs": [],
   "source": [
    "np.savetxt(\"p_list\", p_list)"
   ]
  },
  {
   "cell_type": "code",
   "execution_count": 41,
   "metadata": {},
   "outputs": [
    {
     "data": {
      "text/plain": [
       "0.03553790990079508"
      ]
     },
     "execution_count": 41,
     "metadata": {},
     "output_type": "execute_result"
    }
   ],
   "source": [
    "log_loss(yall_test, p_list, labels=[0, 1,2,3,4])"
   ]
  },
  {
   "cell_type": "code",
   "execution_count": 59,
   "metadata": {},
   "outputs": [],
   "source": [
    "p_arr = np.array([p_list])"
   ]
  },
  {
   "cell_type": "code",
   "execution_count": 63,
   "metadata": {},
   "outputs": [
    {
     "data": {
      "text/plain": [
       "(numpy.ndarray, numpy.ndarray, numpy.ndarray, numpy.ndarray, (409524, 5))"
      ]
     },
     "execution_count": 63,
     "metadata": {},
     "output_type": "execute_result"
    }
   ],
   "source": [
    "type(pgbc[0]), type(p_arr[0]), type(pgbc), type(p_arr), p_arr[0].shape"
   ]
  },
  {
   "cell_type": "code",
   "execution_count": 43,
   "metadata": {},
   "outputs": [],
   "source": [
    "# Binarize the output\n",
    "ybinall = label_binarize(yall_test, classes=[0, 1, 2,3,4])\n",
    "n_classes = ybinall.shape[1]"
   ]
  },
  {
   "cell_type": "code",
   "execution_count": 64,
   "metadata": {},
   "outputs": [],
   "source": [
    "# Compute ROC curve and ROC area for each class\n",
    "fpr = dict()\n",
    "tpr = dict()\n",
    "roc_auc = dict()\n",
    "for i in range(n_classes):\n",
    "    fpr[i], tpr[i], _ = roc_curve(ybinall[:, i], p_arr[0][:, i])\n",
    "    roc_auc[i] = auc(fpr[i], tpr[i])\n",
    "\n",
    "# Compute micro-average ROC curve and ROC area\n",
    "fpr[\"micro\"], tpr[\"micro\"], _ = roc_curve(ybinall.ravel(), p_arr[0].ravel())\n",
    "roc_auc[\"micro\"] = auc(fpr[\"micro\"], tpr[\"micro\"])"
   ]
  },
  {
   "cell_type": "code",
   "execution_count": 71,
   "metadata": {},
   "outputs": [
    {
     "data": {
      "image/png": "[encoded data removed]",
      "text/plain": [
       "<Figure size 864x576 with 1 Axes>"
      ]
     },
     "metadata": {
      "needs_background": "light"
     },
     "output_type": "display_data"
    }
   ],
   "source": [
    "plt.figure(figsize=(12,8))\n",
    "lw = 2\n",
    "plt.plot(fpr[0], tpr[0], color='red',\n",
    "         lw=lw, label='Level 0 ROC curve (area= %0.2f)' % roc_auc[0])\n",
    "plt.plot(fpr[1], tpr[1], color='darkorange',\n",
    "         lw=lw, label='Level 1 ROC curve (area= %0.2f)' % roc_auc[1])\n",
    "plt.plot(fpr[2], tpr[2], color='green',\n",
    "         lw=lw, label='Level 2 ROC curve (area= %0.2f)' % roc_auc[2])\n",
    "\n",
    "plt.plot(fpr[3], tpr[3], color='blue',\n",
    "         lw=lw, label='Level 3 ROC curve (area= %0.2f)' % roc_auc[3])\n",
    "plt.plot(fpr[4], tpr[4], color='purple',\n",
    "         lw=lw, label='Level 4 ROC curve (area= %0.2f)' % roc_auc[4])\n",
    "\n",
    "plt.plot([0, 1], [0, 1], color='gray', lw=lw, linestyle='--')\n",
    "plt.xlim([0.0, 1.0])\n",
    "plt.ylim([0.0, 1.05])\n",
    "plt.xlabel('False Positive Rate')\n",
    "plt.ylabel('True Positive Rate')\n",
    "plt.title('Receiver operating characteristic final probabilities all levels')\n",
    "plt.legend(loc=\"lower right\");\n",
    "plt.savefig(\"ROC_ALL.jpg\")"
   ]
  },
  {
   "cell_type": "code",
   "execution_count": 96,
   "metadata": {},
   "outputs": [],
   "source": [
    "sgr_cols = ['SG_Female',\n",
    "    'SG_Male',\n",
    "    'SR_American Indian/Alaska Native',\n",
    "    'SR_Asian',\n",
    "    'SR_Black or African American',\n",
    "    'SR_Hispanic or Latino',\n",
    "    'SR_Nat Hawaiian/Oth Pac Islander',\n",
    "    'SR_White']"
   ]
  },
  {
   "cell_type": "code",
   "execution_count": 98,
   "metadata": {},
   "outputs": [],
   "source": [
    "#sgr_df = pd.DataFrame(np.zeros((1,8), dtype=np.float64), columns=sgr_cols)"
   ]
  },
  {
   "cell_type": "code",
   "execution_count": 143,
   "metadata": {},
   "outputs": [
    {
     "data": {
      "text/plain": [
       "(409524, 5)"
      ]
     },
     "execution_count": 143,
     "metadata": {},
     "output_type": "execute_result"
    }
   ],
   "source": [
    "p_arr[0].shape"
   ]
  },
  {
   "cell_type": "code",
   "execution_count": 100,
   "metadata": {},
   "outputs": [],
   "source": [
    "'''with open('sgr_df.pkl', 'wb') as sgr:\n",
    "    pickle.dump(sgr_df, sgr)'''"
   ]
  },
  {
   "cell_type": "code",
   "execution_count": 150,
   "metadata": {},
   "outputs": [],
   "source": [
    "foo = p_arr[0]"
   ]
  },
  {
   "cell_type": "code",
   "execution_count": 158,
   "metadata": {},
   "outputs": [],
   "source": [
    "force = 1-foo[:,0]"
   ]
  },
  {
   "cell_type": "code",
   "execution_count": 164,
   "metadata": {},
   "outputs": [],
   "source": [
    "likely_force_mask = force > 0.01"
   ]
  },
  {
   "cell_type": "code",
   "execution_count": 172,
   "metadata": {},
   "outputs": [],
   "source": [
    "most_likely_force_type = np.argmax( foo[:,1:], axis=1 )"
   ]
  },
  {
   "cell_type": "code",
   "execution_count": 178,
   "metadata": {},
   "outputs": [
    {
     "data": {
      "text/plain": [
       "array([0, 0, 0, ..., 0, 0, 0])"
      ]
     },
     "execution_count": 178,
     "metadata": {},
     "output_type": "execute_result"
    }
   ],
   "source": [
    "most_likely_force_type[ likely_force_mask ]"
   ]
  },
  {
   "cell_type": "code",
   "execution_count": 144,
   "metadata": {},
   "outputs": [],
   "source": [
    "scores = []\n",
    "for row in p_arr[0]:\n",
    "    if row[0] > .95:\n",
    "        scores.append(0)\n",
    "    elif row[1] > (row[2] +row[3] + row[4]):\n",
    "        scores.append(1)\n",
    "    elif row[2] > (row[3] + row[4]):\n",
    "        scores.append(2)\n",
    "    elif row[3] > row[4]:\n",
    "        scores.append(3)\n",
    "    else:\n",
    "        scores.append(4)\n"
   ]
  },
  {
   "cell_type": "code",
   "execution_count": 145,
   "metadata": {},
   "outputs": [],
   "source": [
    "scores = np.array(scores)"
   ]
  },
  {
   "cell_type": "code",
   "execution_count": 146,
   "metadata": {},
   "outputs": [
    {
     "data": {
      "text/plain": [
       "409102"
      ]
     },
     "execution_count": 146,
     "metadata": {},
     "output_type": "execute_result"
    }
   ],
   "source": [
    "len(scores[scores==0])"
   ]
  },
  {
   "cell_type": "code",
   "execution_count": 137,
   "metadata": {},
   "outputs": [
    {
     "data": {
      "text/plain": [
       "0.8779802893114933"
      ]
     },
     "execution_count": 137,
     "metadata": {},
     "output_type": "execute_result"
    }
   ],
   "source": [
    "sum(yall_test == scores)/ len(yall_test)"
   ]
  },
  {
   "cell_type": "code",
   "execution_count": 138,
   "metadata": {},
   "outputs": [
    {
     "data": {
      "text/plain": [
       "(589, array([2, 0, 0, 0, 2, 0, 1, 0, 0, 1, 2, 0, 0, 0, 0, 0, 1, 0, 2, 1, 1, 0,\n",
       "        0, 1, 0, 0, 0, 2, 1, 0, 2, 0, 1, 2, 0, 0, 0, 0, 2, 0, 1, 0, 1, 0,\n",
       "        0, 1, 0, 0, 2, 0, 2, 0, 0, 2, 0, 2, 0, 0, 0, 2, 0, 0, 2, 0, 0, 0,\n",
       "        0, 2, 0, 0, 0, 1, 0, 0, 1, 0, 0, 0, 0, 0, 0, 1, 0, 0, 0, 0, 0, 1,\n",
       "        0, 0, 0, 0, 1, 0, 1, 1, 2, 2, 1, 1, 2, 2, 2, 2, 0, 0, 0, 0, 0, 0,\n",
       "        2, 0, 2, 2, 2, 0, 0, 0, 1, 0, 0, 0, 2, 0, 1, 0, 0, 0, 0, 0, 0, 0,\n",
       "        0, 0, 2, 0, 0, 2, 0, 0, 0, 1, 0, 0, 0, 0, 0, 2, 0, 0, 2, 2, 1, 0,\n",
       "        2, 0, 0, 0, 0, 0, 0, 0, 2, 0, 0, 0, 0, 1, 1, 2, 0, 0, 0, 0, 0, 2,\n",
       "        0, 0, 1, 0, 2, 0, 0, 0, 0, 0, 0, 0, 2, 0, 0, 0, 0, 0, 1, 0, 0, 0,\n",
       "        0, 0, 2, 2, 0, 0, 0, 0, 0, 0, 2, 0, 1, 0, 0, 1, 1, 0, 2, 0, 2, 0,\n",
       "        1, 0, 2, 0, 0, 0, 0, 1, 1, 1, 0, 2, 0, 1, 0, 2, 0, 0, 0, 0, 0, 0,\n",
       "        0, 0, 0, 0, 0, 0, 0, 1, 0, 2, 2, 0, 0, 2, 0, 2, 2, 1, 0, 2, 2, 0,\n",
       "        0, 0, 0, 0, 2, 0, 0, 0, 0, 0, 2, 0, 1, 1, 2, 2, 0, 2, 0, 2, 0, 0,\n",
       "        0, 0, 0, 2, 0, 2, 0, 2, 0, 2, 1, 2, 1, 0, 2, 0, 0, 0, 0, 2, 0, 0,\n",
       "        0, 2, 2, 1, 0, 0, 0, 0, 1, 0, 2, 0, 0, 0, 2, 0, 0, 0, 2, 0, 0, 0,\n",
       "        0, 2, 2, 0, 0, 2, 0, 1, 1, 0, 2, 0, 0, 0, 0, 0, 0, 0, 0, 0, 1, 0,\n",
       "        0, 0, 1, 0, 2, 2, 0, 0, 2, 0, 0, 0, 0, 0, 0, 0, 0, 0, 0, 0, 0, 0,\n",
       "        2, 2, 1, 0, 0, 0, 2, 0, 0, 0, 0, 0, 0, 0, 2, 0, 2, 1, 0, 0, 0, 0,\n",
       "        2, 0, 2, 0, 0, 2, 0, 0, 2, 0, 2, 0, 0, 0, 0, 1, 2, 0, 0, 0, 2, 0,\n",
       "        0, 2, 0, 1, 0, 0, 0, 2, 3, 0, 0, 0, 0, 2, 0, 0, 2, 0, 0, 0, 0, 0,\n",
       "        0, 0, 0, 0, 0, 0, 1, 0, 1, 0, 2, 0, 0, 0, 0, 0, 2, 2, 0, 0, 0, 0,\n",
       "        0, 0, 0, 2, 0, 0, 2, 0, 0, 2, 0, 0, 1, 0, 0, 0, 0, 1, 0, 0, 1, 0,\n",
       "        0, 2, 0, 0, 0, 0, 0, 0, 0, 0, 0, 1, 0, 0, 0, 4, 0, 1, 0, 2, 1, 2,\n",
       "        0, 0, 2, 0, 1, 0, 0, 0, 0, 0, 0, 2, 0, 0, 0, 0, 0, 0, 0, 0, 1, 0,\n",
       "        0, 0, 3, 2, 0, 0, 0, 2, 2, 0, 0, 0, 2, 2, 0, 1, 1, 0, 0, 2, 0, 2,\n",
       "        0, 0, 0, 2, 0, 0, 2, 0, 0, 0, 0, 2, 0, 0, 0, 0, 1, 1, 2, 0, 0, 0,\n",
       "        2, 1, 0, 2, 0, 0, 0, 1, 0, 2, 1, 0, 0, 0, 0, 0, 0]))"
      ]
     },
     "execution_count": 138,
     "metadata": {},
     "output_type": "execute_result"
    }
   ],
   "source": [
    "len(yall_test[yall_test == 2]),scores[yall_test == 2]"
   ]
  },
  {
   "cell_type": "code",
   "execution_count": 139,
   "metadata": {},
   "outputs": [
    {
     "name": "stdout",
     "output_type": "stream",
     "text": [
      "              precision    recall  f1-score   support\n",
      "\n",
      "           0       1.00      0.88      0.94    407098\n",
      "           1       0.01      0.34      0.03      1794\n",
      "           2       0.02      0.20      0.03       589\n",
      "           3       0.03      0.29      0.05        24\n",
      "           4       0.22      0.58      0.32        19\n",
      "\n",
      "    accuracy                           0.88    409524\n",
      "   macro avg       0.26      0.46      0.27    409524\n",
      "weighted avg       0.99      0.88      0.93    409524\n",
      "\n"
     ]
    }
   ],
   "source": [
    "print(classification_report(yall_test, scores))"
   ]
  },
  {
   "cell_type": "code",
   "execution_count": 179,
   "metadata": {},
   "outputs": [],
   "source": [
    "# average pp\n",
    "\n",
    "parr = p_arr[0]"
   ]
  },
  {
   "cell_type": "code",
   "execution_count": 180,
   "metadata": {},
   "outputs": [],
   "source": [
    "pp0 = parr[:,0].mean()"
   ]
  },
  {
   "cell_type": "code",
   "execution_count": 181,
   "metadata": {},
   "outputs": [
    {
     "data": {
      "text/plain": [
       "0.9941205096834347"
      ]
     },
     "execution_count": 181,
     "metadata": {},
     "output_type": "execute_result"
    }
   ],
   "source": [
    "pp0"
   ]
  },
  {
   "cell_type": "code",
   "execution_count": 189,
   "metadata": {},
   "outputs": [
    {
     "data": {
      "text/plain": [
       "0.001415"
      ]
     },
     "execution_count": 189,
     "metadata": {},
     "output_type": "execute_result"
    }
   ],
   "source": [
    "pp1 = parr[:,2].mean()\n",
    "np.round(pp1, 6)"
   ]
  },
  {
   "cell_type": "code",
   "execution_count": 183,
   "metadata": {},
   "outputs": [
    {
     "data": {
      "text/plain": [
       "0.0044181836712713"
      ]
     },
     "execution_count": 183,
     "metadata": {},
     "output_type": "execute_result"
    }
   ],
   "source": [
    "pp1"
   ]
  },
  {
   "cell_type": "code",
   "execution_count": 192,
   "metadata": {},
   "outputs": [],
   "source": [
    "nm = pd.read_pickle(\"data/nm_cat_nodumdum\")"
   ]
  },
  {
   "cell_type": "code",
   "execution_count": 193,
   "metadata": {},
   "outputs": [
    {
     "name": "stdout",
     "output_type": "stream",
     "text": [
      "<class 'pandas.core.frame.DataFrame'>\n",
      "Index: 2047618 entries, 0 to 3986667\n",
      "Data columns (total 12 columns):\n",
      "Force_Level       object\n",
      "Precinct          object\n",
      "Sector            object\n",
      "Beat              object\n",
      "Subject_Race      object\n",
      "Subject_Gender    object\n",
      "Call_Type         object\n",
      "month             int64\n",
      "day_of_week       int64\n",
      "sin_hour2         float64\n",
      "cos_hour2         float64\n",
      "cat_ICT           object\n",
      "dtypes: float64(2), int64(2), object(8)\n",
      "memory usage: 203.1+ MB\n"
     ]
    }
   ],
   "source": [
    "nm.info(verbose=True)"
   ]
  },
  {
   "cell_type": "code",
   "execution_count": 209,
   "metadata": {},
   "outputs": [
    {
     "data": {
      "image/png": "[encoded data removed]",
      "text/plain": [
       "<Figure size 1440x576 with 1 Axes>"
      ]
     },
     "metadata": {
      "needs_background": "light"
     },
     "output_type": "display_data"
    }
   ],
   "source": [
    "counts = nm.groupby(\"cat_ICT\").count()\n",
    "counts[\"Force_Level\"]\n",
    "list(counts.index)\n",
    "fig, ax = plt.subplots(1,1, figsize=(20,8))\n",
    "ax.bar(list(counts.index), counts[\"Force_Level\"])\n",
    "ax.tick_params(axis='x', rotation=90)\n",
    "\n",
    "plt.savefig(\"cats.jpg\")"
   ]
  },
  {
   "cell_type": "code",
   "execution_count": 218,
   "metadata": {},
   "outputs": [
    {
     "data": {
      "text/plain": [
       "47140"
      ]
     },
     "execution_count": 218,
     "metadata": {},
     "output_type": "execute_result"
    }
   ],
   "source": [
    "np.argmax(parr[:,4])"
   ]
  },
  {
   "cell_type": "code",
   "execution_count": 215,
   "metadata": {},
   "outputs": [
    {
     "data": {
      "text/plain": [
       "Force_Level              0\n",
       "Precinct              WEST\n",
       "Sector               QUEEN\n",
       "Beat                    Q3\n",
       "Subject_Race             -\n",
       "Subject_Gender           -\n",
       "Call_Type              911\n",
       "month                    2\n",
       "day_of_week              6\n",
       "sin_hour2         0.707107\n",
       "cos_hour2         0.707107\n",
       "cat_ICT            Assault\n",
       "Name: 1785326, dtype: object"
      ]
     },
     "execution_count": 215,
     "metadata": {},
     "output_type": "execute_result"
    }
   ],
   "source": [
    "nm.iloc[47140,:]"
   ]
  },
  {
   "cell_type": "code",
   "execution_count": 222,
   "metadata": {},
   "outputs": [],
   "source": [
    "Xll_cols = Xll.columns"
   ]
  },
  {
   "cell_type": "code",
   "execution_count": 282,
   "metadata": {},
   "outputs": [
    {
     "data": {
      "text/plain": [
       "['cos_hour2',\n",
       " 'sin_hour2',\n",
       " 'SG_Female',\n",
       " 'dow_3',\n",
       " 'month_4',\n",
       " 'P_WEST',\n",
       " 'month_9',\n",
       " 'month_5',\n",
       " 'month_7',\n",
       " 'month_8',\n",
       " 'dow_5',\n",
       " 'S_DAVID',\n",
       " 'month_11',\n",
       " 'S_MARY',\n",
       " 'dow_6',\n",
       " 'dow_1',\n",
       " 'month_6',\n",
       " 'month_12',\n",
       " 'month_10',\n",
       " 'month_1',\n",
       " 'month_2',\n",
       " 'dow_0',\n",
       " 'month_3',\n",
       " 'SR_White',\n",
       " 'ICT_Robbery',\n",
       " 'dow_2',\n",
       " 'SR_Hispanic or Latino',\n",
       " 'B_E2',\n",
       " 'CT_ONVIEW',\n",
       " 'B_K2',\n",
       " 'B_M3',\n",
       " 'B_M1',\n",
       " 'dow_4',\n",
       " 'ICT_Motor Vehicle Collision',\n",
       " 'SR_Asian',\n",
       " 'B_D1',\n",
       " 'P_EAST',\n",
       " 'CT_911',\n",
       " 'B_K3']"
      ]
     },
     "execution_count": 282,
     "metadata": {},
     "output_type": "execute_result"
    }
   ],
   "source": [
    "# feature importances\n",
    "\n",
    "indices = np.argsort(gbc1234.feature_importances_)\n",
    "big = indices[-1:-40:-1]\n",
    "\n",
    "\n",
    "# least important features\n",
    "little = indices[:10]\n",
    "Xll_cols[little]\n",
    "\n",
    "\n",
    "list(Xll_cols[big])"
   ]
  },
  {
   "cell_type": "code",
   "execution_count": 226,
   "metadata": {},
   "outputs": [
    {
     "data": {
      "text/plain": [
       "['B_BS',\n",
       " 'B_H2',\n",
       " 'B_H3',\n",
       " 'CT_TEXT MESSAGE',\n",
       " 'CT_SCHEDULED EVENT (RECURRING)',\n",
       " 'B_RS',\n",
       " 'CT_PROACTIVE (OFFICER INITIATED)',\n",
       " 'B_FS',\n",
       " 'ICT_Sleeper Aboard Public Transit',\n",
       " 'CT_IN PERSON COMPLAINT']"
      ]
     },
     "execution_count": 226,
     "metadata": {},
     "output_type": "execute_result"
    }
   ],
   "source": [
    "list(Xll_cols[little])"
   ]
  },
  {
   "cell_type": "code",
   "execution_count": 283,
   "metadata": {},
   "outputs": [],
   "source": [
    "coeffs = np.argsort(lrbimod.coef_[0])\n",
    "big_coeffs = coeffs[-1:-30:-1]\n",
    "neg_coeffs = coeffs[1:30:1]"
   ]
  },
  {
   "cell_type": "code",
   "execution_count": 284,
   "metadata": {},
   "outputs": [],
   "source": [
    "bX_cols = X.columns"
   ]
  },
  {
   "cell_type": "code",
   "execution_count": 285,
   "metadata": {},
   "outputs": [
    {
     "data": {
      "text/plain": [
       "(['B_M3',\n",
       "  'B_E2',\n",
       "  'B_M1',\n",
       "  'B_D1',\n",
       "  'B_K2',\n",
       "  'B_M2',\n",
       "  'B_D2',\n",
       "  'B_N3',\n",
       "  'B_O1',\n",
       "  'B_K3',\n",
       "  'B_K1',\n",
       "  'B_U2',\n",
       "  'B_N2',\n",
       "  'B_L2',\n",
       "  'B_U3',\n",
       "  'B_E1',\n",
       "  'B_D3',\n",
       "  'B_U1',\n",
       "  'B_W3',\n",
       "  'B_S2',\n",
       "  'B_S3',\n",
       "  'B_S1',\n",
       "  'B_B1',\n",
       "  'B_L1',\n",
       "  'B_O3',\n",
       "  'B_W1',\n",
       "  'B_E3',\n",
       "  'B_B2',\n",
       "  'B_B3'],\n",
       " ['P_WEST',\n",
       "  'P_SOUTHWEST',\n",
       "  'P_EAST',\n",
       "  'P_SOUTH',\n",
       "  'S_WILLIAM',\n",
       "  'S_OCEAN',\n",
       "  'S_EDWARD',\n",
       "  'S_SAM',\n",
       "  'S_MARY',\n",
       "  'S_FRANK',\n",
       "  'S_DAVID',\n",
       "  'ICT_Casualty',\n",
       "  'S_ROBERT',\n",
       "  'S_GEORGE',\n",
       "  'S_UNION',\n",
       "  'S_KING',\n",
       "  'CT_TELEPHONE OTHER, NOT 911',\n",
       "  'B_RS',\n",
       "  'S_QUEEN',\n",
       "  'ICT_Predictive Policing',\n",
       "  'ICT_Sleeper Aboard Public Transit',\n",
       "  'B_FS',\n",
       "  'S_LINCOLN',\n",
       "  'S_BOY',\n",
       "  'ICT_Alarm',\n",
       "  'ICT_Rape',\n",
       "  'S_CHARLIE',\n",
       "  'CT_ONVIEW',\n",
       "  'CT_ALARM CALL (NOT POLICE ALARM)'])"
      ]
     },
     "execution_count": 285,
     "metadata": {},
     "output_type": "execute_result"
    }
   ],
   "source": [
    "list(bX_cols[big_coeffs]), list(bX_cols[neg_coeffs])"
   ]
  },
  {
   "cell_type": "code",
   "execution_count": 274,
   "metadata": {},
   "outputs": [
    {
     "data": {
      "text/plain": [
       "array([  1,   4,   3,   0,   2,  21,  16,   8,  19,  14,   9,   7,  95,\n",
       "        18,  10,  20,  12,  85,  68,  17, 124, 133,  38,  13,   5,  88,\n",
       "       127,   6,  81,  79,  15, 159,  86,  25,  78, 107,  80, 122, 148,\n",
       "       139,  91, 106, 128,  11, 129, 105, 116, 149, 120,  84,  83, 143,\n",
       "       142, 125,  43, 147, 123, 152, 140, 141, 118, 156, 113,  42,  97,\n",
       "       151, 115, 150, 144, 126, 109, 119, 114, 158, 154, 135, 145, 157,\n",
       "       155, 160, 112, 117, 137, 131, 130,  89, 153, 146,  87,  92,  99,\n",
       "       136,  96, 101,  94, 104, 138, 134, 102, 108,  98, 132, 121, 110,\n",
       "        90, 111,  82,  93, 100,  27,  26, 103,  28,  35,  40,  41,  45,\n",
       "        65,  39,  67,  62,  37,  60,  46,  63,  56,  76,  66,  64,  36,\n",
       "        44,  52,  24,  23,  34,  75,  61,  50,  22,  69,  71,  70,  77,\n",
       "        72,  31,  32,  74,  51,  57,  73,  47,  49,  59,  58,  30,  54,\n",
       "        48,  29,  53,  33,  55])"
      ]
     },
     "execution_count": 274,
     "metadata": {},
     "output_type": "execute_result"
    }
   ],
   "source": [
    "np.argsort(lrbimod.coef_[0])"
   ]
  },
  {
   "cell_type": "code",
   "execution_count": 275,
   "metadata": {},
   "outputs": [
    {
     "data": {
      "text/plain": [
       "array([55, 33, 53, 29, 48, 54, 30, 58, 59])"
      ]
     },
     "execution_count": 275,
     "metadata": {},
     "output_type": "execute_result"
    }
   ],
   "source": [
    "big_coeffs"
   ]
  },
  {
   "cell_type": "code",
   "execution_count": 278,
   "metadata": {},
   "outputs": [
    {
     "data": {
      "text/plain": [
       "(-4.303625155994166, 4.465688040428935)"
      ]
     },
     "execution_count": 278,
     "metadata": {},
     "output_type": "execute_result"
    }
   ],
   "source": [
    "lrbimod.coef_[0][1], lrbimod.coef_[0][55]"
   ]
  },
  {
   "cell_type": "code",
   "execution_count": null,
   "metadata": {},
   "outputs": [],
   "source": []
  }
 ],
 "metadata": {
  "kernelspec": {
   "display_name": "Python 3",
   "language": "python",
   "name": "python3"
  },
  "language_info": {
   "codemirror_mode": {
    "name": "ipython",
    "version": 3
   },
   "file_extension": ".py",
   "mimetype": "text/x-python",
   "name": "python",
   "nbconvert_exporter": "python",
   "pygments_lexer": "ipython3",
   "version": "3.7.3"
  }
 },
 "nbformat": 4,
 "nbformat_minor": 2
}
