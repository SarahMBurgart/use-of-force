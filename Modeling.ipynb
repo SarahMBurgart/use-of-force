{
 "cells": [
  {
   "cell_type": "code",
   "execution_count": null,
   "metadata": {},
   "outputs": [],
   "source": [
    "# will need to look at data in beats and maybe better align / remove"
   ]
  },
  {
   "cell_type": "code",
   "execution_count": 1,
   "metadata": {},
   "outputs": [],
   "source": [
    "import pandas as pd\n",
    "import os\n",
    "from datetime import datetime\n",
    "import sqlite3\n",
    "from sqlalchemy import create_engine\n",
    "engine = create_engine('sqlite://', echo=False)\n",
    "\n",
    "import matplotlib.pyplot as plt\n",
    "import numpy as np\n",
    "from datetime import datetime\n",
    "from sklearn.decomposition import PCA\n",
    "from sklearn.preprocessing import StandardScaler\n",
    "import seaborn as sns\n",
    "from sklearn.ensemble import RandomForestClassifier, GradientBoostingClassifier\n",
    "from sklearn.model_selection import train_test_split\n",
    "from sklearn.inspection import plot_partial_dependence\n",
    "from sklearn.inspection import partial_dependence \n",
    "from sklearn.metrics import classification_report\n",
    "\n",
    "\n",
    "%matplotlib inline"
   ]
  },
  {
   "cell_type": "code",
   "execution_count": 487,
   "metadata": {},
   "outputs": [],
   "source": [
    "nm = pd.read_pickle(\"data/all_calls17_uof_df.pkl\")\n",
    "\n",
    "# need to:\n",
    "# make a y and make categories numeric(?)\n",
    "# drop CAD and Event and Force\n",
    "# make dummie columns\n",
    "# cahnge month and day to integers\n"
   ]
  },
  {
   "cell_type": "code",
   "execution_count": 496,
   "metadata": {},
   "outputs": [
    {
     "data": {
      "text/plain": [
       "Beat\n",
       "E2       55112\n",
       "M3       54397\n",
       "K3       46000\n",
       "N3       45079\n",
       "D2       41866\n",
       "M2       41780\n",
       "K2       41673\n",
       "K1       36435\n",
       "M1       35923\n",
       "O1       35664\n",
       "W1       33948\n",
       "Q3       31542\n",
       "R2       31465\n",
       "D3       31364\n",
       "D1       31132\n",
       "U2       30681\n",
       "E1       30534\n",
       "U1       28619\n",
       "B1       28217\n",
       "R3       28174\n",
       "S2       27942\n",
       "F1       27040\n",
       "F2       26839\n",
       "S1       26275\n",
       "W2       26183\n",
       "E3       26098\n",
       "B2       26057\n",
       "N2       25961\n",
       "B3       25834\n",
       "U3       25408\n",
       "         ...  \n",
       "ODD         16\n",
       "TAC2        16\n",
       "LS          15\n",
       "QS          11\n",
       "CD           9\n",
       "H3           8\n",
       "CMD          6\n",
       "CCD          5\n",
       "SD           5\n",
       "SPVD         5\n",
       "TQ           5\n",
       "TAC3         4\n",
       "WD           4\n",
       "CMD2         2\n",
       "DSPVD        2\n",
       "ED           2\n",
       "HBR          2\n",
       "XDD          2\n",
       "1            1\n",
       "DBB          1\n",
       "DBD          1\n",
       "DCC          1\n",
       "DCD          1\n",
       "DDB          1\n",
       "H1           1\n",
       "H2           1\n",
       "MTD          1\n",
       "ND           1\n",
       "T            1\n",
       "TAC9         1\n",
       "Name: Beat, Length: 116, dtype: int64"
      ]
     },
     "execution_count": 496,
     "metadata": {},
     "output_type": "execute_result"
    }
   ],
   "source": [
    "fl = nm.groupby(\"Force_Level\")\n",
    "fbvc = fl.Beat.value_counts()\n",
    "fbvc[0]"
   ]
  },
  {
   "cell_type": "code",
   "execution_count": null,
   "metadata": {},
   "outputs": [],
   "source": [
    "nm.Precinct.replace({'W': \"WEST\", \"N\": \"NORTH\", \"E\": \"EAST\", \"S\": \"SOUTH\"})"
   ]
  },
  {
   "cell_type": "code",
   "execution_count": 235,
   "metadata": {},
   "outputs": [],
   "source": [
    "# make a copy to alter for the model in case I want to look back at this\n",
    "nm2 = nm.copy(deep=True)"
   ]
  },
  {
   "cell_type": "code",
   "execution_count": 236,
   "metadata": {},
   "outputs": [],
   "source": [
    "# drop columns and make time ints\n",
    "nm.drop([ \"CAD_Event_Number\", \"Event_Clearance_Description\"], axis=1, inplace=True)\n",
    "nm[\"month\"] = nm[\"month\"].astype(int)\n",
    "nm[\"day\"] = nm[\"day\"].astype(int)"
   ]
  },
  {
   "cell_type": "code",
   "execution_count": 237,
   "metadata": {},
   "outputs": [],
   "source": [
    "# better categories in Initial Call Type\n",
    "\n",
    "init = nm[\"Initial_Call_Type\"]\n",
    "to_drop = init[init.str.startswith(\"-ASSIGNED DUTY\")]\n",
    "\n",
    "\n",
    "s = nm[\"Initial_Call_Type\"].str.replace(\" - .*\", \"\", regex=True)\n",
    "nm[\"Initial_Call_Type\"] = s"
   ]
  },
  {
   "cell_type": "code",
   "execution_count": 238,
   "metadata": {},
   "outputs": [],
   "source": [
    "#drop = [\"ASSIST PUBLIC\", ]  -DOWN TIME - OUT OF SERVICE  "
   ]
  },
  {
   "cell_type": "code",
   "execution_count": 239,
   "metadata": {},
   "outputs": [],
   "source": [
    "# function for later to categorize ICT column\n",
    "\n",
    "def initial_call_type_cats(value):    \n",
    "    if \"MVC\" in value:\n",
    "        return \"Motor Vehicle Collision\"\n",
    "    elif value.startswith(\"FRAUD\"):\n",
    "        return \"Fraud\"\n",
    "    elif \"SUSPICIOUS STOP\" in value:\n",
    "        return \"Police Initiated Stop\"\n",
    "    elif \"SUSPICIOUS\" in value:\n",
    "        return \"Suspicious person, vehicle, incident\"\n",
    "    elif \"TRAFFIC STOP\" in value:\n",
    "        return \"Police Initiated Stop\"\n",
    "    elif \"ROAD RAGE\" in value:\n",
    "        return \"Road Rage\"\n",
    "    elif \"MOVING VIOLATION\" in value:\n",
    "        return \"Moving Violation\"\n",
    "    elif \"TRAF\" in value:\n",
    "        return \"Moving Violation\"\n",
    "    elif \"BLOCKING ROADWAY\" in value:\n",
    "        return \"Parking Violation\"\n",
    "    elif \"TRAFFIC - ASSIST\" in value:\n",
    "        return \"Assist Motorist\"\n",
    "    elif \"DISTURBANCE\" in value:\n",
    "        return \"Disturbance\"\n",
    "    elif \"NOISE\" in value:\n",
    "        return \"Disturbance\"\n",
    "    elif \"OFF DUTY EMPLOYMENT\" in value:\n",
    "        return \"Police Initiated - Off Duty\"\n",
    "    elif \"NUISANCE\" in value:\n",
    "        return \"Nuisance\"\n",
    "    elif \"NARCOTICS\" in value:\n",
    "        return \"Narcotics\"\n",
    "    elif \"SEX IN PUBLIC\" in value:\n",
    "        return \"Lewd Conduct\"\n",
    "    elif \"VIOLATION OF COURT ORDER (NON DV)\" in value:\n",
    "        return \"Violation of Court Order (Not Domestic Violence)\"\n",
    "    elif \"NOT DV\" in value:\n",
    "        return \"Alarm\"\n",
    "    elif \"SHOTS\" in value:\n",
    "        return \"Shots heard\"\n",
    "    elif \"DV\" in value:\n",
    "        return \"Domestic Violence\"\n",
    "    elif \"ASSAULTS\" in value:\n",
    "        return \"Assault\"\n",
    "    elif \"WEAPN\" in value:\n",
    "        return \"Deadly Weapon - No Assault\"\n",
    "    elif \"ASLT\" in value:\n",
    "        return \"Assault\"\n",
    "    elif \"FIGHT\" in value:\n",
    "        return \"Assault\"\n",
    "    elif \"THEFT\" in value:\n",
    "        return \"Robbery\"\n",
    "    elif \"PREMISE CHECK\" in value:\n",
    "        return \"Police Initiated\"\n",
    "    elif \"DIRECTED PATROL ACTIVITY\" in value:\n",
    "        return \"Assigned Duty\"\n",
    "    elif \"UNUSUAL OCCURRENCES - EARTHQUAKE, RIOT, ETC)\" in value:\n",
    "        return \"Disturbance\"\n",
    "    elif \"PARKING\" in value:\n",
    "        return \"Parking Violation\"\n",
    "    elif \"ALARM\"in value:\n",
    "        return \"Alarm\"\n",
    "    elif \"BURG\" in value:\n",
    "        return \"Robbery\"\n",
    "    elif \"WATER FLOODS\" in value:\n",
    "        return \"Nuisance\"\n",
    "    elif \"TREES DOWN\" in value:\n",
    "        return \"Nuisance\"\n",
    "    elif \"HAZ\" in value:\n",
    "        return \"Hazard - immediate threat\"\n",
    "    elif \"TRESPASS\" in value:\n",
    "        return \"Trespass\"\n",
    "    elif \"FOLLOW\" in value:\n",
    "        return \"Follow up\"\n",
    "    elif \"WELFARE\" in value:\n",
    "        return \"Welfare Check\"\n",
    "    elif \"SERVICE\" in value:\n",
    "        return \"Assisting other agencies\"\n",
    "    elif \"SFD\" in value:\n",
    "        return \"Assisting other agencies\"\n",
    "    elif \"SUICIDE\" in value:\n",
    "        return \"Suicidal person or attempts\"\n",
    "    elif \"LIQUOR\" in value:\n",
    "        return \"Liquor Violations\"\n",
    "    elif \"AUTO\" in value:\n",
    "        return \"Auto Recovery\"\n",
    "    elif \"DAMAGE\" in value:\n",
    "        return \"Damaged Property\"\n",
    "    elif \"DAMG\" in value:\n",
    "        return \"Damaged Property\"\n",
    "    elif \"PROPERTY\" in value:\n",
    "        return \"Property lost or found\"\n",
    "    elif \"FOLLOW UP\" in value:\n",
    "        return \"Follow up\"\n",
    "    elif \"PERSON IN BEHAVIORAL/EMOTIONAL CRISIS\" in value:\n",
    "        return \"Behavioral / Emotional Crisis\"\n",
    "    elif \"DOWN - CHECK\" in value:\n",
    "        return \"Check for Person Down\"\n",
    "    elif \"SICK\" in value:\n",
    "        return \"-\"\n",
    "    elif \"--PERSON\" in value:\n",
    "        return \"Missing Person\"\n",
    "    elif \"INJURED\" in value:\n",
    "        return \"Injuries from Industrial Accidents\"\n",
    "    elif \"PICKUP\" in value:\n",
    "        return \"Pickup Person\"\n",
    "    elif \"BOMB\" in value:\n",
    "        return \"Threats\"\n",
    "    elif \"THREAT\" in value:\n",
    "        return \"Threats\"\n",
    "    elif \"RAPE\" in value:\n",
    "        return \"Rape\"\n",
    "    elif \"ROBBERY\" in value:\n",
    "        return \"Robbery\"\n",
    "    elif \"KIDNAPPING\" in value:\n",
    "        return \"Missing Person\"\n",
    "    elif \"MISSING\" in value:\n",
    "        return \"Missing Person\"\n",
    "    elif \"PROWLER\" in value:\n",
    "        return \"Suspicious person, vehicle, incident\"\n",
    "    elif \"PANHANDLING\" in value:\n",
    "        return \"Aggressive Panhandling\"\n",
    "    elif \"RUNAWAY\" in value:\n",
    "        return \"Missing Person\"\n",
    "    elif \"ASSIGNED DUTY\" in value:\n",
    "        return \"Assigned Duty\"\n",
    "    elif \"KIDNAPPNG\" in value:\n",
    "        return \"Missing Person\"\n",
    "    elif \"LEWD\" in value:\n",
    "        return \"Lewd Conduct\"\n",
    "    elif \"OVERDOSE\" in value:\n",
    "        return \"Overdose - Drug Related Casualty\"\n",
    "    elif \"PREDICTIVE POLICING\" in value:\n",
    "        return \"Predictive Policing\"\n",
    "    elif \"DETOX\" in value:\n",
    "        return \"Request for Detox\"\n",
    "    elif \"REQUEST\" in value:\n",
    "        return \"Request to Watch / Ensure Peace\"\n",
    "    elif \"CHILD\" in value:\n",
    "        return \"Child Abuse\"\n",
    "    elif \"PURSE\" in value:\n",
    "        return \"Robbery\"\n",
    "    elif \"PEACE\" in value:\n",
    "        return \"Request to Watch / Ensure Peace\"\n",
    "    elif \"DEAD\" in value:\n",
    "        return \"Casualty\"\n",
    "    elif \"GAMBLING\" in value:\n",
    "        return \"Gambling\"\n",
    "    elif \"ANIMAL\" in value:\n",
    "        return \"Animal - Dangerous / Bite\"\n",
    "    elif \"ESCAPE\" in value:\n",
    "        return \"-\"\n",
    "    elif \"PARKS\" in value:\n",
    "        return \"Parks Violations\"\n",
    "    elif \"PROSTITUTION\" in value:\n",
    "        return \"Prostitution\"\n",
    "    elif \"Pornography\" in value:\n",
    "        return \"Lewd Conduct\"\n",
    "    elif \"DUI\" in value:\n",
    "        return \"DUI - Driving While Under the Influence\"\n",
    "    elif \"SEX OFFENDER\" in value:\n",
    "        return \"-\"\n",
    "    elif \"SEX\" in value:\n",
    "        return \"-\"\n",
    "    elif \"SLEEP\" in value:\n",
    "        return \"Sleeper Aboard Public Transit\"\n",
    "    elif \"HARASSMENT\" in value:\n",
    "        return \"Harassment\"\n",
    "    elif \"EXPLOSION\" in value:\n",
    "        return \"Explosion / Arson\"\n",
    "    elif \"ARSON\" in value:\n",
    "        return \"Explosion / Arson\"\n",
    "    elif \"PREPLANNED\" in value:\n",
    "        return \"Assigned Duty\"\n",
    "    elif \"ASSIGNMENT\" in value:\n",
    "        return \"Assigned Duty\"\n",
    "    elif \"SHOPLIFT\" in value:\n",
    "        return \"Robbery\"\n",
    "    elif \"ELUDING\" in value:\n",
    "        return \"Eluding Police\"\n",
    "    elif \"LITTERING\" in value:\n",
    "        return \"Illegal Dumping\"\n",
    "    elif \"DUMPING\" in value:\n",
    "        return \"Illegal Dumping\"\n",
    "    elif \"BURN\" in value:\n",
    "        return \"Explosion / Arson\"\n",
    "    else:\n",
    "        return \"-\"\n",
    "    \n",
    "    \n",
    "    "
   ]
  },
  {
   "cell_type": "code",
   "execution_count": 240,
   "metadata": {},
   "outputs": [],
   "source": [
    "# calling above function to make list to make column\n",
    "new_col = []\n",
    "for idx, row in nm.iterrows():\n",
    "    value = row.Initial_Call_Type\n",
    "    new_col.append(initial_call_type_cats(value))"
   ]
  },
  {
   "cell_type": "code",
   "execution_count": 241,
   "metadata": {},
   "outputs": [],
   "source": [
    "nm[\"cat_ICT\"] = new_col\n"
   ]
  },
  {
   "cell_type": "code",
   "execution_count": 242,
   "metadata": {},
   "outputs": [],
   "source": [
    "\n",
    "# Get nums of indexes for which column has '-'\n",
    "indexnums = nm[ nm['cat_ICT'] == '-'].index\n",
    "nm.drop(indexnums,  inplace=True)"
   ]
  },
  {
   "cell_type": "code",
   "execution_count": 243,
   "metadata": {},
   "outputs": [],
   "source": [
    "# make copy so you don't repeat this ... AGAIN\n",
    "\n",
    "nm_cat_ICT = nm.copy(deep=True)"
   ]
  },
  {
   "cell_type": "code",
   "execution_count": 245,
   "metadata": {},
   "outputs": [
    {
     "data": {
      "text/plain": [
       "'\\nindexnums = nm2[ nm2[\\'cat_ICT\\'] == \\'-\\'].index\\nnm2.drop(indexnums,  inplace=True)\\n\\nnmvc2 = nm2.groupby(\"cat_ICT\")\\nlst = nmvc2.Force_Level.value_counts()\\nnmvc3 = nm2.groupby(\"Force_Level\")\\nlst2 = nmvc3.cat_ICT.value_counts()\\nlst2[\"Level 1 - Use of Force\"]\\n#lst2.iloc[[0,:]]'"
      ]
     },
     "execution_count": 245,
     "metadata": {},
     "output_type": "execute_result"
    }
   ],
   "source": [
    "#nm2[\"cat_ICT\"] = new_col\n",
    "'''\n",
    "indexnums = nm2[ nm2['cat_ICT'] == '-'].index\n",
    "nm2.drop(indexnums,  inplace=True)\n",
    "\n",
    "nmvc2 = nm2.groupby(\"cat_ICT\")\n",
    "lst = nmvc2.Force_Level.value_counts()\n",
    "nmvc3 = nm2.groupby(\"Force_Level\")\n",
    "lst2 = nmvc3.cat_ICT.value_counts()\n",
    "lst2[\"Level 1 - Use of Force\"]\n",
    "#lst2.iloc[[0,:]]'''"
   ]
  },
  {
   "cell_type": "code",
   "execution_count": 246,
   "metadata": {},
   "outputs": [
    {
     "data": {
      "text/plain": [
       "46"
      ]
     },
     "execution_count": 246,
     "metadata": {},
     "output_type": "execute_result"
    }
   ],
   "source": [
    "\n",
    "nmvc = nm[\"cat_ICT\"].value_counts()\n",
    "len(nmvc.index)\n"
   ]
  },
  {
   "cell_type": "code",
   "execution_count": 247,
   "metadata": {},
   "outputs": [
    {
     "data": {
      "image/png": "[encoded data removed]",
      "text/plain": [
       "<Figure size 432x288 with 1 Axes>"
      ]
     },
     "metadata": {
      "needs_background": "light"
     },
     "output_type": "display_data"
    }
   ],
   "source": [
    "plt.bar(nmvc.index, list(nmvc))\n",
    "plt.xticks(rotation=\"vertical\");"
   ]
  },
  {
   "cell_type": "code",
   "execution_count": 248,
   "metadata": {},
   "outputs": [],
   "source": [
    "nm.drop(\"Initial_Call_Type\", axis=1, inplace=True)"
   ]
  },
  {
   "cell_type": "code",
   "execution_count": 249,
   "metadata": {},
   "outputs": [],
   "source": [
    "# get dummies for string valued columns\n",
    "nm = pd.get_dummies(data = nm, \n",
    "                     columns=[\"Precinct\", \"Sector\", \"Beat\", \"Subject_Gender\", \"Subject_Race\", \"Call_Type\", \n",
    "                               \"cat_ICT\"], \n",
    "                     prefix=[\"P\",  \"S\", \"B\", \"SG\", \"SR\",\"CT\", \"ICT\"])"
   ]
  },
  {
   "cell_type": "code",
   "execution_count": 250,
   "metadata": {},
   "outputs": [],
   "source": [
    "# dropping the \"-\" Precinct and Sector columns - they aren't useful for interpretation\n",
    "\n",
    "nm.drop([\"S_-\", \"P_-\"], axis=1, inplace=True)"
   ]
  },
  {
   "cell_type": "code",
   "execution_count": 251,
   "metadata": {},
   "outputs": [],
   "source": [
    "# dropping column\n",
    "\n",
    "nm.drop(['SG_-', 'SR_-'], axis=1, inplace=True)\n",
    "nm.Force_Level.replace({\"Level 1 - Use of Force\":1,\"Level 2 - Use of Force\":2,\"Level 3 - OIS\":4, \"Level 3 - Use of Force\": 3 }, inplace=True)\n"
   ]
  },
  {
   "cell_type": "code",
   "execution_count": 273,
   "metadata": {},
   "outputs": [],
   "source": [
    "# undersampling / oversampling\n",
    "four = nm[nm[\"Force_Level\"] == 4]\n",
    "three = nm[nm[\"Force_Level\"] == 3]\n",
    "two = nm[nm[\"Force_Level\"] == 2]\n",
    "one = nm[nm[\"Force_Level\"] == 1]\n",
    "zero = nm[nm[\"Force_Level\"] == 0]"
   ]
  },
  {
   "cell_type": "code",
   "execution_count": 274,
   "metadata": {},
   "outputs": [
    {
     "data": {
      "text/plain": [
       "(63, 112, 1840, 5448, 1256325)"
      ]
     },
     "execution_count": 274,
     "metadata": {},
     "output_type": "execute_result"
    }
   ],
   "source": [
    "len(four), len(three), len(two), len(one), len(zero)"
   ]
  },
  {
   "cell_type": "code",
   "execution_count": 382,
   "metadata": {},
   "outputs": [],
   "source": [
    "#nm[\"Weights\"] = np.where(nm['Force_Level'] <= 4, .1, .9)\n",
    "\n",
    "nm[\"Weights\"] = nm[\"Force_Level\"]\n",
    "nm[\"Weights\"].replace({4:.5, 3:.3, 2:.1105, 1:.08, 0:.0005}, inplace=True)"
   ]
  },
  {
   "cell_type": "code",
   "execution_count": 385,
   "metadata": {},
   "outputs": [],
   "source": [
    "sample1 = nm.sample(n=600000, weights='Weights', random_state=659, replace=True)"
   ]
  },
  {
   "cell_type": "code",
   "execution_count": 454,
   "metadata": {},
   "outputs": [],
   "source": [
    "len(sample1[sample1.Force_Level == 4]), len(sample1[sample1.Force_Level == 3]), len(sample1[sample1.Force_Level == 2]), len(sample1[sample1.Force_Level == 1]), len(sample1[sample1.Force_Level == 0])\n",
    "\n",
    "sample4 = four.sample(n=6000, random_state=659, replace=True)\n",
    "sample3 = three.sample(n=6000, random_state=659, replace=True)\n",
    "sample2 = two.sample(n=6000, random_state=659, replace=True)\n",
    "sample1 = one.sample(n=6000, random_state=659, replace=True)\n",
    "sample0 = zero.sample(n=6000, random_state=659, replace=True)\n",
    "\n",
    "\n"
   ]
  },
  {
   "cell_type": "code",
   "execution_count": 465,
   "metadata": {},
   "outputs": [],
   "source": [
    "sampleall = pd.concat([sample4,sample3, sample2, sample1, sample0])"
   ]
  },
  {
   "cell_type": "code",
   "execution_count": 466,
   "metadata": {},
   "outputs": [
    {
     "name": "stdout",
     "output_type": "stream",
     "text": [
      "<class 'pandas.core.frame.DataFrame'>\n",
      "Index: 30000 entries, 126764 to 3684563\n",
      "Columns: 229 entries, Force_Level to ICT_Trespass\n",
      "dtypes: int64(5), uint8(224)\n",
      "memory usage: 7.8+ MB\n"
     ]
    }
   ],
   "source": [
    "sampleall.info()"
   ]
  },
  {
   "cell_type": "code",
   "execution_count": 467,
   "metadata": {},
   "outputs": [
    {
     "data": {
      "text/plain": [
       "['Force_Level',\n",
       " 'month',\n",
       " 'day',\n",
       " 'day_of_week',\n",
       " 'hour',\n",
       " 'P_E',\n",
       " 'P_EAST',\n",
       " 'P_N',\n",
       " 'P_NORTH',\n",
       " 'P_S',\n",
       " 'P_SOUTH',\n",
       " 'P_SOUTHWEST',\n",
       " 'P_SW',\n",
       " 'P_UNKNOWN',\n",
       " 'P_W',\n",
       " 'P_WEST',\n",
       " 'P_X',\n",
       " 'S_99',\n",
       " 'S_B',\n",
       " 'S_BOY',\n",
       " 'S_C',\n",
       " 'S_CHARLIE',\n",
       " 'S_D',\n",
       " 'S_DAVID',\n",
       " 'S_E',\n",
       " 'S_EDWARD',\n",
       " 'S_F',\n",
       " 'S_FRANK',\n",
       " 'S_G',\n",
       " 'S_GEORGE',\n",
       " 'S_J',\n",
       " 'S_JOHN',\n",
       " 'S_K',\n",
       " 'S_KING',\n",
       " 'S_L',\n",
       " 'S_LINCOLN',\n",
       " 'S_M',\n",
       " 'S_MARY',\n",
       " 'S_N',\n",
       " 'S_NORA',\n",
       " 'S_O',\n",
       " 'S_OCEAN',\n",
       " 'S_Q',\n",
       " 'S_QUEEN',\n",
       " 'S_R',\n",
       " 'S_ROBERT',\n",
       " 'S_S',\n",
       " 'S_SAM',\n",
       " 'S_U',\n",
       " 'S_UNION',\n",
       " 'S_W',\n",
       " 'S_WILLIAM',\n",
       " 'B_1',\n",
       " 'B_99',\n",
       " 'B_B1',\n",
       " 'B_B2',\n",
       " 'B_B3',\n",
       " 'B_BS',\n",
       " 'B_C1',\n",
       " 'B_C2',\n",
       " 'B_C3',\n",
       " 'B_CCD',\n",
       " 'B_CD',\n",
       " 'B_CDD',\n",
       " 'B_CMD',\n",
       " 'B_CMD2',\n",
       " 'B_COMM',\n",
       " 'B_CS',\n",
       " 'B_CTY',\n",
       " 'B_D1',\n",
       " 'B_D2',\n",
       " 'B_D3',\n",
       " 'B_DBB',\n",
       " 'B_DBD',\n",
       " 'B_DCC',\n",
       " 'B_DET',\n",
       " 'B_DS',\n",
       " 'B_DSPVD',\n",
       " 'B_E',\n",
       " 'B_E1',\n",
       " 'B_E2',\n",
       " 'B_E3',\n",
       " 'B_ED',\n",
       " 'B_EP',\n",
       " 'B_ES',\n",
       " 'B_F1',\n",
       " 'B_F2',\n",
       " 'B_F3',\n",
       " 'B_FS',\n",
       " 'B_G1',\n",
       " 'B_G2',\n",
       " 'B_G3',\n",
       " 'B_GS',\n",
       " 'B_H1',\n",
       " 'B_H3',\n",
       " 'B_HBR',\n",
       " 'B_HS',\n",
       " 'B_INV',\n",
       " 'B_J1',\n",
       " 'B_J2',\n",
       " 'B_J3',\n",
       " 'B_JS',\n",
       " 'B_K1',\n",
       " 'B_K2',\n",
       " 'B_K3',\n",
       " 'B_KS',\n",
       " 'B_L1',\n",
       " 'B_L2',\n",
       " 'B_L3',\n",
       " 'B_LAPT',\n",
       " 'B_LS',\n",
       " 'B_M1',\n",
       " 'B_M2',\n",
       " 'B_M3',\n",
       " 'B_MS',\n",
       " 'B_MTD',\n",
       " 'B_N',\n",
       " 'B_N1',\n",
       " 'B_N2',\n",
       " 'B_N3',\n",
       " 'B_NP',\n",
       " 'B_NS',\n",
       " 'B_O1',\n",
       " 'B_O2',\n",
       " 'B_O3',\n",
       " 'B_ODD',\n",
       " 'B_OS',\n",
       " 'B_Q1',\n",
       " 'B_Q2',\n",
       " 'B_Q3',\n",
       " 'B_QS',\n",
       " 'B_R1',\n",
       " 'B_R2',\n",
       " 'B_R3',\n",
       " 'B_RS',\n",
       " 'B_S',\n",
       " 'B_S1',\n",
       " 'B_S2',\n",
       " 'B_S3',\n",
       " 'B_SCTR1',\n",
       " 'B_SD',\n",
       " 'B_SP',\n",
       " 'B_SPVD',\n",
       " 'B_SPVDD',\n",
       " 'B_SS',\n",
       " 'B_SWT',\n",
       " 'B_TAC2',\n",
       " 'B_TAC3',\n",
       " 'B_TQ',\n",
       " 'B_TRF',\n",
       " 'B_U1',\n",
       " 'B_U2',\n",
       " 'B_U3',\n",
       " 'B_US',\n",
       " 'B_W',\n",
       " 'B_W1',\n",
       " 'B_W2',\n",
       " 'B_W3',\n",
       " 'B_WD',\n",
       " 'B_WP',\n",
       " 'B_WS',\n",
       " 'B_XDD',\n",
       " 'SG_Female',\n",
       " 'SG_Male',\n",
       " 'SG_Not Specified',\n",
       " 'SR_American Indian/Alaska Native',\n",
       " 'SR_Asian',\n",
       " 'SR_Black or African American',\n",
       " 'SR_Hispanic or Latino',\n",
       " 'SR_Nat Hawaiian/Oth Pac Islander',\n",
       " 'SR_Not Specified',\n",
       " 'SR_White',\n",
       " 'CT_911',\n",
       " 'CT_ALARM CALL (NOT POLICE ALARM)',\n",
       " 'CT_FK ERROR',\n",
       " 'CT_HISTORY CALL (RETRO)',\n",
       " 'CT_IN PERSON COMPLAINT',\n",
       " 'CT_ONVIEW',\n",
       " 'CT_POLICE (VARDA) ALARM',\n",
       " 'CT_PROACTIVE (OFFICER INITIATED)',\n",
       " 'CT_SCHEDULED EVENT (RECURRING)',\n",
       " 'CT_TELEPHONE OTHER, NOT 911',\n",
       " 'CT_TEXT MESSAGE',\n",
       " 'ICT_Aggressive Panhandling',\n",
       " 'ICT_Alarm',\n",
       " 'ICT_Animal - Dangerous / Bite',\n",
       " 'ICT_Assault',\n",
       " 'ICT_Assigned Duty',\n",
       " 'ICT_Assisting other agencies',\n",
       " 'ICT_Auto Recovery',\n",
       " 'ICT_Behavioral / Emotional Crisis',\n",
       " 'ICT_Child Abuse',\n",
       " 'ICT_DUI - Driving While Under the Influence',\n",
       " 'ICT_Damaged Property',\n",
       " 'ICT_Deadly Weapon - No Assault',\n",
       " 'ICT_Disturbance',\n",
       " 'ICT_Explosion / Arson',\n",
       " 'ICT_Follow up',\n",
       " 'ICT_Fraud',\n",
       " 'ICT_Gambling',\n",
       " 'ICT_Hazard - immediate threat',\n",
       " 'ICT_Illegal Dumping',\n",
       " 'ICT_Injuries from Industrial Accidents',\n",
       " 'ICT_Lewd Conduct',\n",
       " 'ICT_Liquor Violations',\n",
       " 'ICT_Missing Person',\n",
       " 'ICT_Motor Vehicle Collision',\n",
       " 'ICT_Moving Violation',\n",
       " 'ICT_Narcotics',\n",
       " 'ICT_Nuisance',\n",
       " 'ICT_Overdose - Drug Related Casualty',\n",
       " 'ICT_Parking Violation',\n",
       " 'ICT_Parks Violations',\n",
       " 'ICT_Pickup Person',\n",
       " 'ICT_Police Initiated',\n",
       " 'ICT_Police Initiated - Off Duty',\n",
       " 'ICT_Police Initiated Stop',\n",
       " 'ICT_Predictive Policing',\n",
       " 'ICT_Property lost or found',\n",
       " 'ICT_Rape',\n",
       " 'ICT_Request for Detox',\n",
       " 'ICT_Request to Watch / Ensure Peace',\n",
       " 'ICT_Robbery',\n",
       " 'ICT_Shots heard',\n",
       " 'ICT_Sleeper Aboard Public Transit',\n",
       " 'ICT_Suicidal person or attempts',\n",
       " 'ICT_Suspicious person, vehicle, incident',\n",
       " 'ICT_Threats',\n",
       " 'ICT_Trespass']"
      ]
     },
     "execution_count": 467,
     "metadata": {},
     "output_type": "execute_result"
    }
   ],
   "source": [
    "list(sampleall.columns)"
   ]
  },
  {
   "cell_type": "code",
   "execution_count": 468,
   "metadata": {},
   "outputs": [],
   "source": [
    "sampleall[\"P_NORTH\"] = sampleall[\"P_NORTH\"] + sampleall[\"P_N\"]\n",
    "sampleall[\"P_SOUTH\"] = sampleall[\"P_SOUTH\"] + sampleall[\"P_S\"]\n",
    "sampleall[\"P_WEST\"] = sampleall[\"P_WEST\"] + sampleall[\"P_W\"]\n",
    "sampleall[\"P_EAST\"] = sampleall[\"P_EAST\"] + sampleall[\"P_E\"]\n",
    "sampleall[\"P_SOUTHWEST\"] = sampleall[\"P_SOUTHWEST\"] + sampleall[\"P_SW\"]\n",
    "sampleall.drop([\"P_X\",\"S_99\",\"ICT_Police Initiated\",\"ICT_Assigned Duty\",\"ICT_Parks Violations\", 'CT_FK ERROR', \n",
    "                'P_UNKNOWN','SR_Not Specified', 'P_N', \"P_S\", \"P_W\", \"P_E\", \"B_1\", \"B_99\", \"B_CCD\",\"B_CD\", \"B_CDD\",\n",
    "               \"B_CMD\", \"B_CMD2\", \"B_COMM\", \"B_CS\",\"B_CTY\", \"B_DBB\" \"B_DBD\", \"B_DCC\", \"B_DET\", \"B_DS\", \"B_DSPVD\",\n",
    "               \"B_HBR\", \"B_HS\", \"B_INV\", \"B_LAPT\", \"B_MTD\", \"B_N\", \"B_ODD\", \"B_OS\", \"B_S\", \"B_SCTR1\", \"B_SD\", \"B_SP\",\n",
    "               \"B_SPVD\", \"B_SPVDD\", \"B_SS\", \"B_SWT\", \"B_TAC2\", \"B_TAC3\", \"B_TQ\", \"B_TRF\", \"B_W\", \"B_US\", \"B_WD\", \n",
    "               \"B_WP\", \"\"], axis=1, inplace=True)\n",
    "\n",
    "sampleall[\"S_BOY\"] = sampleall[\"S_BOY\"] + sampleall[\"S_B\"]\n",
    "sampleall[\"S_CHARLIE\"] = sampleall[\"S_CHARLIE\"] + sampleall[\"S_C\"]\n",
    "sampleall[\"S_DAVID\"] = sampleall[\"S_DAVID\"] + sampleall[\"S_D\"]\n",
    "sampleall[\"S_EDWARD\"] = sampleall[\"S_EDWARD\"] + sampleall[\"S_E\"]\n",
    "sampleall[\"S_FRANK\"] = sampleall[\"S_FRANK\"] + sampleall[\"S_F\"]\n",
    "sampleall[\"S_GEORGE\"] = sampleall[\"S_GEORGE\"] + sampleall[\"S_G\"]\n",
    "\n",
    "sampleall[\"S_JOHN\"] = sampleall[\"S_JOHN\"] + sampleall[\"S_J\"]\n",
    "sampleall[\"S_KING\"] = sampleall[\"S_KING\"] + sampleall[\"S_K\"]\n",
    "sampleall[\"S_LINCOLN\"] = sampleall[\"S_LINCOLN\"] + sampleall[\"S_L\"]\n",
    "sampleall[\"S_MARY\"] = sampleall[\"S_MARY\"] + sampleall[\"S_M\"]\n",
    "sampleall[\"S_NORA\"] = sampleall[\"S_NORA\"] + sampleall[\"S_N\"]\n",
    "sampleall[\"S_OCEAN\"] = sampleall[\"S_OCEAN\"] + sampleall[\"S_O\"]\n",
    "\n",
    "sampleall[\"S_QUEEN\"] = sampleall[\"S_QUEEN\"] + sampleall[\"S_Q\"]\n",
    "sampleall[\"S_ROBERT\"] = sampleall[\"S_ROBERT\"] + sampleall[\"S_R\"]\n",
    "sampleall[\"S_SAM\"] = sampleall[\"S_SAM\"] + sampleall[\"S_S\"]\n",
    "sampleall[\"S_UNION\"] = sampleall[\"S_UNION\"] + sampleall[\"S_U\"]\n",
    "sampleall[\"S_WILLIAM\"] = sampleall[\"S_WILLIAM\"] + sampleall[\"S_W\"]\n",
    "\n",
    "sampleall.drop([\"S_W\", \"S_U\",\"S_S\",  \"S_R\", \"S_Q\", \"S_O\",\"S_N\", \"S_M\", \"S_L\",\"S_K\", \"S_J\", \"S_G\", \"S_F\",\n",
    "               \"S_E\",\"S_D\", \"S_C\", \"S_B\" ], axis=1, inplace=True)\n",
    "\n"
   ]
  },
  {
   "cell_type": "code",
   "execution_count": 472,
   "metadata": {},
   "outputs": [
    {
     "data": {
      "text/plain": [
       "199"
      ]
     },
     "execution_count": 472,
     "metadata": {},
     "output_type": "execute_result"
    }
   ],
   "source": [
    "X = sampleall.drop(\"Force_Level\", axis=1)\n",
    "y = sampleall.Force_Level\n",
    "cols = X.columns\n",
    "len(cols)"
   ]
  },
  {
   "cell_type": "code",
   "execution_count": null,
   "metadata": {},
   "outputs": [],
   "source": [
    "# two minutes~\n",
    "\n",
    "X_scaled = StandardScaler().fit_transform(nm)"
   ]
  },
  {
   "cell_type": "code",
   "execution_count": null,
   "metadata": {},
   "outputs": [],
   "source": []
  },
  {
   "cell_type": "code",
   "execution_count": null,
   "metadata": {},
   "outputs": [],
   "source": []
  },
  {
   "cell_type": "code",
   "execution_count": 473,
   "metadata": {},
   "outputs": [],
   "source": [
    "# will need to change nm2 to X_scaled if we use this later - X_scaled hung and never finished (~10minutes)\n",
    "\n",
    "X_train, X_test, y_train, y_test = train_test_split(X, y, test_size=0.2, random_state=659)"
   ]
  },
  {
   "cell_type": "code",
   "execution_count": 474,
   "metadata": {},
   "outputs": [],
   "source": [
    "# create RFC model - change all but random_state after we time this one\n",
    "\n",
    "clf = RandomForestClassifier(n_estimators=100, max_depth=4, random_state=659, oob_score=True)\n",
    "\n"
   ]
  },
  {
   "cell_type": "code",
   "execution_count": 475,
   "metadata": {},
   "outputs": [
    {
     "data": {
      "text/plain": [
       "RandomForestClassifier(bootstrap=True, class_weight=None, criterion='gini',\n",
       "                       max_depth=4, max_features='auto', max_leaf_nodes=None,\n",
       "                       min_impurity_decrease=0.0, min_impurity_split=None,\n",
       "                       min_samples_leaf=1, min_samples_split=2,\n",
       "                       min_weight_fraction_leaf=0.0, n_estimators=100,\n",
       "                       n_jobs=None, oob_score=True, random_state=659, verbose=0,\n",
       "                       warm_start=False)"
      ]
     },
     "execution_count": 475,
     "metadata": {},
     "output_type": "execute_result"
    }
   ],
   "source": [
    "# fit the model\n",
    "\n",
    "clf.fit(X_train, y_train)"
   ]
  },
  {
   "cell_type": "code",
   "execution_count": 476,
   "metadata": {},
   "outputs": [],
   "source": [
    "# save nm and y\n",
    "'''\n",
    "import dill as pickle\n",
    "\n",
    "#nm.to_pickle(\"data/nm_cat_ICT.pkl\")\n",
    "#y.to_pickle(\"data/y.pkl\")\n",
    "#X2.to_pickle(\"data/X2_weighted.pkl\")\n",
    "with open('X2_weighted.pkl', 'wb') as my_pickle:\n",
    "        pickle.dump(clf, my_pickle)'''"
   ]
  },
  {
   "cell_type": "code",
   "execution_count": 477,
   "metadata": {},
   "outputs": [
    {
     "data": {
      "text/plain": [
       "(199, 199)"
      ]
     },
     "execution_count": 477,
     "metadata": {},
     "output_type": "execute_result"
    }
   ],
   "source": [
    "# check the feature importances and col_name list match first\n",
    "\n",
    "len(clf.feature_importances_), len(cols)"
   ]
  },
  {
   "cell_type": "code",
   "execution_count": 478,
   "metadata": {},
   "outputs": [
    {
     "data": {
      "text/plain": [
       "['SG_Male',\n",
       " 'hour',\n",
       " 'B_S2',\n",
       " 'month',\n",
       " 'day',\n",
       " 'day_of_week',\n",
       " 'ICT_Shots heard',\n",
       " 'SR_Black or African American',\n",
       " 'SR_White']"
      ]
     },
     "execution_count": 478,
     "metadata": {},
     "output_type": "execute_result"
    }
   ],
   "source": [
    "# most important features in predictions of this model\n",
    "\n",
    "indices = np.argsort(clf.feature_importances_)\n",
    "big = indices[-1:-10:-1]\n",
    "\n",
    "list(cols[big])"
   ]
  },
  {
   "cell_type": "code",
   "execution_count": 479,
   "metadata": {},
   "outputs": [
    {
     "data": {
      "text/plain": [
       "Index(['B_TRF', 'B_ED', 'CT_SCHEDULED EVENT (RECURRING)', 'CT_TEXT MESSAGE',\n",
       "       'ICT_Aggressive Panhandling', 'B_E', 'B_DSPVD', 'B_DS', 'B_EP',\n",
       "       'B_DET'],\n",
       "      dtype='object')"
      ]
     },
     "execution_count": 479,
     "metadata": {},
     "output_type": "execute_result"
    }
   ],
   "source": [
    "# least important features\n",
    "little = indices[:10]\n",
    "cols[little]\n"
   ]
  },
  {
   "cell_type": "code",
   "execution_count": 480,
   "metadata": {},
   "outputs": [
    {
     "data": {
      "text/plain": [
       "0.69175"
      ]
     },
     "execution_count": 480,
     "metadata": {},
     "output_type": "execute_result"
    }
   ],
   "source": [
    "clf.oob_score_ # accuracy of training set"
   ]
  },
  {
   "cell_type": "code",
   "execution_count": 481,
   "metadata": {},
   "outputs": [],
   "source": [
    "# predicted classes\n",
    "\n",
    "yhat = clf.predict(X_test)"
   ]
  },
  {
   "cell_type": "code",
   "execution_count": 482,
   "metadata": {},
   "outputs": [
    {
     "data": {
      "text/plain": [
       "0.7018333333333333"
      ]
     },
     "execution_count": 482,
     "metadata": {},
     "output_type": "execute_result"
    }
   ],
   "source": [
    "sum(yhat == y_test) / len(yhat) # accuracy of testing set"
   ]
  },
  {
   "cell_type": "code",
   "execution_count": 483,
   "metadata": {},
   "outputs": [
    {
     "name": "stdout",
     "output_type": "stream",
     "text": [
      "              precision    recall  f1-score   support\n",
      "\n",
      "           0       0.81      1.00      0.90      1219\n",
      "           1       0.61      0.32      0.42      1217\n",
      "           2       0.45      0.62      0.52      1175\n",
      "           3       0.74      0.71      0.73      1196\n",
      "           4       0.92      0.86      0.89      1193\n",
      "\n",
      "    accuracy                           0.70      6000\n",
      "   macro avg       0.71      0.70      0.69      6000\n",
      "weighted avg       0.71      0.70      0.69      6000\n",
      "\n"
     ]
    }
   ],
   "source": [
    "# sklearn.metrics.classification_report(y_true, y_pred, labels=None, target_names=None, sample_weight=None, digits=2, output_dict=False)\n",
    "print(classification_report(y_test, yhat))\n"
   ]
  },
  {
   "cell_type": "code",
   "execution_count": 420,
   "metadata": {},
   "outputs": [],
   "source": [
    "# predict probabilities - what do you want threshold to be?\n",
    "\n",
    "pp = clf.predict_proba(X_test)"
   ]
  },
  {
   "cell_type": "code",
   "execution_count": 421,
   "metadata": {},
   "outputs": [
    {
     "data": {
      "text/plain": [
       "array([0, 1, 2, 3, 4])"
      ]
     },
     "execution_count": 421,
     "metadata": {},
     "output_type": "execute_result"
    }
   ],
   "source": [
    "clf.classes_"
   ]
  },
  {
   "cell_type": "code",
   "execution_count": 422,
   "metadata": {},
   "outputs": [
    {
     "name": "stdout",
     "output_type": "stream",
     "text": [
      "Pr of no force is: 0.09460382594944722, Pr of Force 1 is: 0.18393732368776244, Pr of Force 2: 0.2232583165727791, Pr of Force 3: 0.41359787806124904, & Pr of Officer Involved Shooting: 0.08460265572876235\n",
      "Pr of no force is: 0.10181402557098787, Pr of Force 1 is: 0.24662530751237377, Pr of Force 2: 0.2806782173375557, Pr of Force 3: 0.22762556336114043, & Pr of Officer Involved Shooting: 0.14325688621794253\n",
      "Pr of no force is: 0.10181291383141064, Pr of Force 1 is: 0.2432651429968557, Pr of Force 2: 0.21360505839239058, Pr of Force 3: 0.19088206952459935, & Pr of Officer Involved Shooting: 0.25043481525474376\n",
      "Pr of no force is: 0.5379741670327067, Pr of Force 1 is: 0.1370291190920692, Pr of Force 2: 0.12273219753974489, Pr of Force 3: 0.11256147111466447, & Pr of Officer Involved Shooting: 0.08970304522081478\n",
      "Pr of no force is: 0.09521446745497208, Pr of Force 1 is: 0.24541732283799594, Pr of Force 2: 0.288556108485143, Pr of Force 3: 0.2599489898901603, & Pr of Officer Involved Shooting: 0.110863111331729\n",
      "Pr of no force is: 0.1577660618085801, Pr of Force 1 is: 0.22332990745072415, Pr of Force 2: 0.2187775229449068, Pr of Force 3: 0.21683302475882132, & Pr of Officer Involved Shooting: 0.1832934830369678\n",
      "Pr of no force is: 0.16750226690277667, Pr of Force 1 is: 0.23910414827207238, Pr of Force 2: 0.24352398959850496, Pr of Force 3: 0.21516507550646405, & Pr of Officer Involved Shooting: 0.13470451972018194\n",
      "Pr of no force is: 0.12585090942489593, Pr of Force 1 is: 0.2536181620924349, Pr of Force 2: 0.24376482639827576, Pr of Force 3: 0.22568101458381434, & Pr of Officer Involved Shooting: 0.15108508750057917\n",
      "Pr of no force is: 0.2814338412345529, Pr of Force 1 is: 0.24449549123420755, Pr of Force 2: 0.19557585195563607, Pr of Force 3: 0.17582610432373308, & Pr of Officer Involved Shooting: 0.10266871125187035\n",
      "Pr of no force is: 0.14234452009105303, Pr of Force 1 is: 0.2627916682243362, Pr of Force 2: 0.24958494848022922, Pr of Force 3: 0.18204667945067896, & Pr of Officer Involved Shooting: 0.16323218375370258\n"
     ]
    }
   ],
   "source": [
    "# some rows' probabilities of being in each class:\n",
    "\n",
    "for p in pp[:10]:\n",
    "    print(f\"Pr of no force is: {p[0]}, Pr of Force 1 is: {p[1]}, Pr of Force 2: {p[2]}, Pr of Force 3: {p[3]}, & Pr of Officer Involved Shooting: {p[4]}\")\n",
    "          \n",
    "          "
   ]
  },
  {
   "cell_type": "code",
   "execution_count": null,
   "metadata": {},
   "outputs": [],
   "source": [
    "len(y_test)"
   ]
  },
  {
   "cell_type": "code",
   "execution_count": null,
   "metadata": {},
   "outputs": [],
   "source": [
    "type(y_test)"
   ]
  },
  {
   "cell_type": "code",
   "execution_count": null,
   "metadata": {},
   "outputs": [],
   "source": [
    "y_test[y_test == 4]"
   ]
  },
  {
   "cell_type": "code",
   "execution_count": null,
   "metadata": {},
   "outputs": [],
   "source": [
    "type(yhat)"
   ]
  },
  {
   "cell_type": "code",
   "execution_count": null,
   "metadata": {},
   "outputs": [],
   "source": [
    "len(yhat[yhat == 4])"
   ]
  },
  {
   "cell_type": "code",
   "execution_count": null,
   "metadata": {},
   "outputs": [],
   "source": [
    "yhat[50706]"
   ]
  },
  {
   "cell_type": "code",
   "execution_count": null,
   "metadata": {},
   "outputs": [],
   "source": [
    "# visualization - you can plot the abundance/frequency of each selected feature within each group as a bar plot. \n",
    "# I assume visually the top feature will be more abundant in one group comparing with the other groups.\n",
    "\n",
    "four = y_test[y_test == 4]\n",
    "four, four.index"
   ]
  },
  {
   "cell_type": "code",
   "execution_count": null,
   "metadata": {},
   "outputs": [],
   "source": [
    "fourX = X_test.iloc[[50706, 220355, 156571, 60263, 6215, 156570, 102803, 50750, 220432,\n",
    "        50774],:]\n",
    "fourX\n"
   ]
  },
  {
   "cell_type": "code",
   "execution_count": null,
   "metadata": {},
   "outputs": [],
   "source": [
    "fournm = nm2.iloc[50706,:]\n",
    "fournm\n",
    "\n",
    "four_index = [50706, 220355, 156571, 60263, 6215, 156570, 102803, 50750, 220432,\n",
    "        50774]\n",
    "\n",
    "nm2[nm2.index.isin(four_index)]"
   ]
  },
  {
   "cell_type": "code",
   "execution_count": null,
   "metadata": {},
   "outputs": [],
   "source": [
    "fournm.info()"
   ]
  },
  {
   "cell_type": "code",
   "execution_count": null,
   "metadata": {},
   "outputs": [],
   "source": []
  }
 ],
 "metadata": {
  "kernelspec": {
   "display_name": "Python 3",
   "language": "python",
   "name": "python3"
  },
  "language_info": {
   "codemirror_mode": {
    "name": "ipython",
    "version": 3
   },
   "file_extension": ".py",
   "mimetype": "text/x-python",
   "name": "python",
   "nbconvert_exporter": "python",
   "pygments_lexer": "ipython3",
   "version": "3.7.3"
  }
 },
 "nbformat": 4,
 "nbformat_minor": 2
}
