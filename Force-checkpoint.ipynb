{
 "cells": [
  {
   "cell_type": "code",
   "execution_count": 3,
   "metadata": {},
   "outputs": [],
   "source": [
    "import pandas as pd\n",
    "from datetime import datetime\n",
    "\n",
    "import matplotlib.pyplot as plt\n",
    "import numpy as np\n",
    "from datetime import datetime\n",
    "from sklearn.decomposition import PCA\n",
    "from sklearn.preprocessing import StandardScaler, OneHotEncoder\n",
    "from sklearn.ensemble import RandomForestClassifier, GradientBoostingClassifier\n",
    "from sklearn.model_selection import train_test_split\n",
    "from sklearn.inspection import plot_partial_dependence\n",
    "from sklearn.inspection import partial_dependence \n",
    "\n",
    "\n",
    "%matplotlib inline"
   ]
  },
  {
   "cell_type": "code",
   "execution_count": 4,
   "metadata": {},
   "outputs": [],
   "source": [
    "# function to convert datetime object to 4 - for force ONLY\n",
    "def datetime(df, col_as_str):\n",
    "    yearmonthday = df[col_as_str].astype(str).str.split(\" \")\n",
    "    ymd = yearmonthday.apply(lambda x: x[0]).str.split(\"/\")\n",
    "    year = ymd.apply(lambda x: x[2])\n",
    "    month = ymd.apply(lambda x: x[0])\n",
    "    day = ymd.apply(lambda x: x[1])\n",
    "    time = ymd = yearmonthday.apply(lambda x: x[1]+x[2]).astype(str)\n",
    "    df[\"year\"] = year\n",
    "    df[\"month\"] = month\n",
    "    df[\"day\"] = day\n",
    "    df[\"time\"] = time\n",
    "    # apply(lambda x: pd.to_datetime(x, format=\"%H%M\"))\n",
    "    return df"
   ]
  },
  {
   "cell_type": "code",
   "execution_count": 5,
   "metadata": {},
   "outputs": [],
   "source": [
    "force = pd.read_csv(\"data/Use_Of_Force.csv\")"
   ]
  },
  {
   "cell_type": "code",
   "execution_count": 6,
   "metadata": {},
   "outputs": [],
   "source": [
    "force = datetime(force,\"Occured_date_time\" )\n",
    "foo = pd.to_datetime( force.Occured_date_time )\n",
    "epoch_second = foo.map(lambda x:x.value/1e9)\n",
    "force[\"epoch\"] = epoch_second\n",
    "\n",
    "force[\"day_of_week\"] = foo.dt.dayofweek"
   ]
  },
  {
   "cell_type": "code",
   "execution_count": 7,
   "metadata": {},
   "outputs": [],
   "source": [
    "# Function to convert the date format \n",
    "def convert24(str1): \n",
    "    \n",
    "    \n",
    "      \n",
    "    # Checking if last two elements of time \n",
    "    # is AM and first two elements are 12 \n",
    "    if str1[-2:] == \"AM\" and str1[:2] == \"12\": \n",
    "        return (int(\"00\" + str1[3:5])/100)\n",
    "          \n",
    "    # remove the AM     \n",
    "    elif str1[-2:] == \"AM\": \n",
    "        return (int(str1[:2] + str1[3:5])/100)\n",
    "      \n",
    "    # Checking if last two elements of time \n",
    "    # is PM and first two elements are 12    \n",
    "    elif str1[-2:] == \"PM\" and str1[:2] == \"12\": \n",
    "        return (int(str1[:2] + str1[3:5])/100)\n",
    "          \n",
    "    else: \n",
    "          \n",
    "        # add 12 to hours and remove PM \n",
    "        return (int(str(int(str1[:2]) + 12) + str1[3:5])/100)"
   ]
  },
  {
   "cell_type": "code",
   "execution_count": 8,
   "metadata": {},
   "outputs": [],
   "source": [
    "force[\"time\"] = force[\"time\"].apply(lambda x: convert24(x))\n"
   ]
  },
  {
   "cell_type": "code",
   "execution_count": 9,
   "metadata": {},
   "outputs": [
    {
     "data": {
      "text/plain": [
       "Incident_Type           Subject_Race                   Subject_Gender\n",
       "Level 1 - Use of Force  American Indian/Alaska Native  Female              32\n",
       "                                                       Male                38\n",
       "                        Asian                          Female              78\n",
       "                                                       Male               200\n",
       "                                                       Not Specified        1\n",
       "                        Black or African American      Female             499\n",
       "                                                       Male              1964\n",
       "                                                       Not Specified        3\n",
       "                        Hispanic or Latino             Female              22\n",
       "                                                       Male               304\n",
       "                                                       Not Specified        1\n",
       "                        Nat Hawaiian/Oth Pac Islander  Female              10\n",
       "                                                       Male                36\n",
       "                        Not Specified                  Female             327\n",
       "                                                       Male               871\n",
       "                                                       Not Specified      111\n",
       "                        White                          Female             857\n",
       "                                                       Male              2110\n",
       "                                                       Not Specified       10\n",
       "Level 2 - Use of Force  American Indian/Alaska Native  Female               6\n",
       "                                                       Male                18\n",
       "                        Asian                          Female               5\n",
       "                                                       Male                73\n",
       "                        Black or African American      Female              62\n",
       "                                                       Male               642\n",
       "                                                       Not Specified        1\n",
       "                        Hispanic or Latino             Female               4\n",
       "                                                       Male                68\n",
       "                        Nat Hawaiian/Oth Pac Islander  Female               1\n",
       "                                                       Male                14\n",
       "                        Not Specified                  Female              35\n",
       "                                                       Male               245\n",
       "                                                       Not Specified       89\n",
       "                        White                          Female              88\n",
       "                                                       Male               829\n",
       "                                                       Not Specified        5\n",
       "Level 3 - OIS           Asian                          Male                 5\n",
       "                        Black or African American      Female               8\n",
       "                                                       Male                18\n",
       "                        Nat Hawaiian/Oth Pac Islander  Male                 1\n",
       "                        Not Specified                  Male                 4\n",
       "                        White                          Female               4\n",
       "                                                       Male                34\n",
       "Level 3 - Use of Force  American Indian/Alaska Native  Male                 4\n",
       "                        Asian                          Female               1\n",
       "                                                       Male                 5\n",
       "                        Black or African American      Female               4\n",
       "                                                       Male                28\n",
       "                        Hispanic or Latino             Male                 2\n",
       "                        Nat Hawaiian/Oth Pac Islander  Male                 2\n",
       "                        Not Specified                  Female               3\n",
       "                                                       Male                10\n",
       "                        White                          Female               8\n",
       "                                                       Male                38\n",
       "Name: Precinct, dtype: int64"
      ]
     },
     "execution_count": 9,
     "metadata": {},
     "output_type": "execute_result"
    }
   ],
   "source": [
    "force.groupby([\"Incident_Type\", \"Subject_Race\", \"Subject_Gender\"])[\"Precinct\"].count()"
   ]
  },
  {
   "cell_type": "code",
   "execution_count": 10,
   "metadata": {},
   "outputs": [
    {
     "name": "stdout",
     "output_type": "stream",
     "text": [
      "<class 'pandas.core.frame.DataFrame'>\n",
      "RangeIndex: 9838 entries, 0 to 9837\n",
      "Data columns (total 17 columns):\n",
      "ID                   9838 non-null object\n",
      "Incident_Num         9838 non-null int64\n",
      "Incident_Type        9838 non-null object\n",
      "Occured_date_time    9838 non-null object\n",
      "Precinct             9838 non-null object\n",
      "Sector               9838 non-null object\n",
      "Beat                 9838 non-null object\n",
      "Officer_ID           9838 non-null int64\n",
      "Subject_ID           9838 non-null int64\n",
      "Subject_Race         9838 non-null object\n",
      "Subject_Gender       9838 non-null object\n",
      "year                 9838 non-null object\n",
      "month                9838 non-null object\n",
      "day                  9838 non-null object\n",
      "time                 9838 non-null float64\n",
      "epoch                9838 non-null float64\n",
      "day_of_week          9838 non-null int64\n",
      "dtypes: float64(2), int64(4), object(11)\n",
      "memory usage: 1.3+ MB\n"
     ]
    }
   ],
   "source": [
    "force.info()"
   ]
  },
  {
   "cell_type": "code",
   "execution_count": 11,
   "metadata": {},
   "outputs": [
    {
     "data": {
      "text/plain": [
       "(4, 6, 12, 9838)"
      ]
     },
     "execution_count": 11,
     "metadata": {},
     "output_type": "execute_result"
    }
   ],
   "source": [
    "len(force.Incident_Type.value_counts()), len(force.year.value_counts()), len(force.month.value_counts()), len(force)\n"
   ]
  },
  {
   "cell_type": "code",
   "execution_count": 12,
   "metadata": {},
   "outputs": [
    {
     "data": {
      "text/plain": [
       "Level 1 - Use of Force    7474\n",
       "Level 2 - Use of Force    2185\n",
       "Level 3 - Use of Force     105\n",
       "Level 3 - OIS               74\n",
       "Name: Incident_Type, dtype: int64"
      ]
     },
     "execution_count": 12,
     "metadata": {},
     "output_type": "execute_result"
    }
   ],
   "source": [
    "force.Incident_Type.value_counts()"
   ]
  },
  {
   "cell_type": "code",
   "execution_count": 13,
   "metadata": {},
   "outputs": [],
   "source": [
    "force1 = force[force[\"Incident_Type\"] == \"Level 1 - Use of Force\"]\n",
    "force2 = force[force[\"Incident_Type\"] == \"Level 2 - Use of Force\"]\n",
    "force3 = force[force[\"Incident_Type\"] == \"Level 3 - Use of Force\"]\n",
    "forceOIS = force[force[\"Incident_Type\"] == \"Level 3 - OIS\"]"
   ]
  },
  {
   "cell_type": "code",
   "execution_count": 14,
   "metadata": {},
   "outputs": [],
   "source": [
    "f1b = force1.Beat.value_counts()\n",
    "f2b = force2.Beat.value_counts()\n",
    "f3b = force3.Beat.value_counts()\n",
    "fOISb = forceOIS.Beat.value_counts()\n",
    "force_beats = pd.DataFrame({\"force1\":f1b, \"force2\":f2b, \"force3\": f3b,\"forceOIS\": fOISb})"
   ]
  },
  {
   "cell_type": "code",
   "execution_count": 15,
   "metadata": {},
   "outputs": [],
   "source": [
    "force_beats.fillna(0, inplace=True)\n"
   ]
  },
  {
   "cell_type": "code",
   "execution_count": 16,
   "metadata": {},
   "outputs": [
    {
     "data": {
      "text/plain": [
       "0     1.40\n",
       "1     4.15\n",
       "2    18.58\n",
       "3    13.19\n",
       "4    23.04\n",
       "Name: time, dtype: float64"
      ]
     },
     "execution_count": 16,
     "metadata": {},
     "output_type": "execute_result"
    }
   ],
   "source": [
    "force.time.head()"
   ]
  },
  {
   "cell_type": "code",
   "execution_count": 125,
   "metadata": {},
   "outputs": [],
   "source": [
    "def categorize_time(x):\n",
    "    if 18<=x<21:\n",
    "        x = 18\n",
    "    elif 21<=x <=23.59:\n",
    "        x = 21\n",
    "    elif 0<=x < 3:\n",
    "        x = 0\n",
    "    elif 3<= x < 6:\n",
    "        x = 3\n",
    "    elif 6<= x <9:\n",
    "        x = 6\n",
    "    elif 9<= x < 12:\n",
    "        x = 9\n",
    "    elif 12<= x <15:\n",
    "        x = 12\n",
    "    elif 15<= x < 18:\n",
    "        x = 15\n",
    "    return x"
   ]
  },
  {
   "cell_type": "code",
   "execution_count": 126,
   "metadata": {},
   "outputs": [],
   "source": [
    "force[\"time\"] = force[\"time\"].apply(lambda x: categorize_time(x))"
   ]
  },
  {
   "cell_type": "code",
   "execution_count": 187,
   "metadata": {},
   "outputs": [],
   "source": [
    "X = force[[\"month\", \"day\", \"day_of_week\", \"time\", \"Subject_Race\", \"Subject_Gender\", \"Precinct\", \"Sector\", \"Beat\"]]\n",
    "y = force[\"Incident_Type\"]\n",
    "\n"
   ]
  },
  {
   "cell_type": "code",
   "execution_count": 188,
   "metadata": {},
   "outputs": [
    {
     "name": "stdout",
     "output_type": "stream",
     "text": [
      "<class 'pandas.core.frame.DataFrame'>\n",
      "RangeIndex: 9838 entries, 0 to 9837\n",
      "Data columns (total 9 columns):\n",
      "month             9838 non-null object\n",
      "day               9838 non-null object\n",
      "day_of_week       9838 non-null int64\n",
      "time              9838 non-null int64\n",
      "Subject_Race      9838 non-null object\n",
      "Subject_Gender    9838 non-null object\n",
      "Precinct          9838 non-null object\n",
      "Sector            9838 non-null object\n",
      "Beat              9838 non-null object\n",
      "dtypes: int64(2), object(7)\n",
      "memory usage: 691.8+ KB\n"
     ]
    }
   ],
   "source": [
    "X.info(verbose=True)"
   ]
  },
  {
   "cell_type": "code",
   "execution_count": 189,
   "metadata": {},
   "outputs": [],
   "source": [
    "# makes more sense to use all the data - bc time of year could change the outcome as well\n",
    "\n",
    "enc = OneHotEncoder()"
   ]
  },
  {
   "cell_type": "code",
   "execution_count": 205,
   "metadata": {},
   "outputs": [],
   "source": [
    "XT = X\n",
    "#[[\"Subject_Race\", \"Subject_Gender\", \"Precinct\", \"Sector\", \"Beat\"]]\n",
    "XT2 = enc.fit_transform(XT)\n",
    "XT3 = pd.DataFrame(XT2.toarray())"
   ]
  },
  {
   "cell_type": "code",
   "execution_count": 206,
   "metadata": {},
   "outputs": [
    {
     "data": {
      "text/plain": [
       "((9838, 9), (9838, 149), (9838, 149))"
      ]
     },
     "execution_count": 206,
     "metadata": {},
     "output_type": "execute_result"
    }
   ],
   "source": [
    "XT.shape, XT2.shape, XT3.shape\n"
   ]
  },
  {
   "cell_type": "code",
   "execution_count": 207,
   "metadata": {},
   "outputs": [
    {
     "data": {
      "text/plain": [
       "[array(['01', '02', '03', '04', '05', '06', '07', '08', '09', '10', '11',\n",
       "        '12'], dtype=object),\n",
       " array(['01', '02', '03', '04', '05', '06', '07', '08', '09', '10', '11',\n",
       "        '12', '13', '14', '15', '16', '17', '18', '19', '20', '21', '22',\n",
       "        '23', '24', '25', '26', '27', '28', '29', '30', '31'], dtype=object),\n",
       " array([0, 1, 2, 3, 4, 5, 6]),\n",
       " array([ 0,  3,  6,  9, 12, 15, 18, 21]),\n",
       " array(['American Indian/Alaska Native', 'Asian',\n",
       "        'Black or African American', 'Hispanic or Latino',\n",
       "        'Nat Hawaiian/Oth Pac Islander', 'Not Specified', 'White'],\n",
       "       dtype=object),\n",
       " array(['Female', 'Male', 'Not Specified'], dtype=object),\n",
       " array(['-', 'E', 'N', 'S', 'SW', 'W', 'X'], dtype=object),\n",
       " array(['-', '99', 'B', 'C', 'D', 'E', 'F', 'G', 'J', 'K', 'L', 'M', 'N',\n",
       "        'O', 'Q', 'R', 'S', 'U', 'W', 'X'], dtype=object),\n",
       " array(['-', '99', 'B1', 'B2', 'B3', 'C1', 'C2', 'C3', 'D1', 'D2', 'D3',\n",
       "        'E1', 'E2', 'E3', 'F1', 'F2', 'F3', 'G1', 'G2', 'G3', 'J1', 'J2',\n",
       "        'J3', 'K1', 'K2', 'K3', 'L1', 'L2', 'L3', 'M1', 'M2', 'M3', 'N1',\n",
       "        'N2', 'N3', 'O1', 'O2', 'O3', 'Q1', 'Q2', 'Q3', 'R1', 'R2', 'R3',\n",
       "        'S1', 'S2', 'S3', 'U1', 'U2', 'U3', 'W1', 'W2', 'W3', 'XX'],\n",
       "       dtype=object)]"
      ]
     },
     "execution_count": 207,
     "metadata": {},
     "output_type": "execute_result"
    }
   ],
   "source": [
    "enc.categories_"
   ]
  },
  {
   "cell_type": "code",
   "execution_count": 194,
   "metadata": {},
   "outputs": [],
   "source": [
    "XS = X[[\"month\",\"day_of_week\", \"time\"]]"
   ]
  },
  {
   "cell_type": "code",
   "execution_count": 208,
   "metadata": {},
   "outputs": [],
   "source": [
    "X2 = pd.concat([XS, XT3], axis=1)"
   ]
  },
  {
   "cell_type": "code",
   "execution_count": null,
   "metadata": {},
   "outputs": [],
   "source": []
  },
  {
   "cell_type": "code",
   "execution_count": 209,
   "metadata": {},
   "outputs": [],
   "source": [
    "X_train, X_test, y_train, y_test = train_test_split(XT3, y, test_size=0.2, random_state=659)"
   ]
  },
  {
   "cell_type": "code",
   "execution_count": 210,
   "metadata": {},
   "outputs": [],
   "source": [
    "rdf = RandomForestClassifier(oob_score=True, random_state=659)"
   ]
  },
  {
   "cell_type": "code",
   "execution_count": 211,
   "metadata": {},
   "outputs": [
    {
     "name": "stderr",
     "output_type": "stream",
     "text": [
      "/Users/sarahburgart/anaconda3/lib/python3.7/site-packages/sklearn/ensemble/forest.py:245: FutureWarning: The default value of n_estimators will change from 10 in version 0.20 to 100 in 0.22.\n",
      "  \"10 in version 0.20 to 100 in 0.22.\", FutureWarning)\n",
      "/Users/sarahburgart/anaconda3/lib/python3.7/site-packages/sklearn/ensemble/forest.py:460: UserWarning: Some inputs do not have OOB scores. This probably means too few trees were used to compute any reliable oob estimates.\n",
      "  warn(\"Some inputs do not have OOB scores. \"\n",
      "/Users/sarahburgart/anaconda3/lib/python3.7/site-packages/sklearn/ensemble/forest.py:465: RuntimeWarning: divide by zero encountered in true_divide\n",
      "  predictions[k].sum(axis=1)[:, np.newaxis])\n",
      "/Users/sarahburgart/anaconda3/lib/python3.7/site-packages/sklearn/ensemble/forest.py:465: RuntimeWarning: invalid value encountered in true_divide\n",
      "  predictions[k].sum(axis=1)[:, np.newaxis])\n"
     ]
    },
    {
     "data": {
      "text/plain": [
       "RandomForestClassifier(bootstrap=True, class_weight=None, criterion='gini',\n",
       "                       max_depth=None, max_features='auto', max_leaf_nodes=None,\n",
       "                       min_impurity_decrease=0.0, min_impurity_split=None,\n",
       "                       min_samples_leaf=1, min_samples_split=2,\n",
       "                       min_weight_fraction_leaf=0.0, n_estimators=10,\n",
       "                       n_jobs=None, oob_score=True, random_state=659, verbose=0,\n",
       "                       warm_start=False)"
      ]
     },
     "execution_count": 211,
     "metadata": {},
     "output_type": "execute_result"
    }
   ],
   "source": [
    "rdf.fit(X_train, y_train)"
   ]
  },
  {
   "cell_type": "code",
   "execution_count": 212,
   "metadata": {},
   "outputs": [],
   "source": [
    "yhat = rdf.predict(X_test)"
   ]
  },
  {
   "cell_type": "code",
   "execution_count": 213,
   "metadata": {},
   "outputs": [
    {
     "data": {
      "text/plain": [
       "0.8714430894308943"
      ]
     },
     "execution_count": 213,
     "metadata": {},
     "output_type": "execute_result"
    }
   ],
   "source": [
    "rdf.score(X_test, y_test)"
   ]
  },
  {
   "cell_type": "code",
   "execution_count": 214,
   "metadata": {},
   "outputs": [],
   "source": [
    "indices = np.argsort(rdf.feature_importances_)\n",
    "inds = indices[-1:-10:-1]\n"
   ]
  },
  {
   "cell_type": "code",
   "execution_count": 215,
   "metadata": {},
   "outputs": [],
   "source": [
    "arrs = []\n",
    "#[\"month\",\"day_of_week\", \"time\"]\n",
    "for arr in enc.categories_:\n",
    "    for col in arr:\n",
    "        arrs.append(col)\n",
    "   "
   ]
  },
  {
   "cell_type": "code",
   "execution_count": 216,
   "metadata": {},
   "outputs": [
    {
     "name": "stdout",
     "output_type": "stream",
     "text": [
      "Black or African American\n",
      "12\n",
      "White\n",
      "15\n",
      "21\n",
      "18\n",
      "3\n",
      "6\n",
      "2\n"
     ]
    }
   ],
   "source": [
    "# feature importances in order, descending\n",
    "for idx in inds:\n",
    "    print(arrs[idx])\n"
   ]
  },
  {
   "cell_type": "code",
   "execution_count": 217,
   "metadata": {},
   "outputs": [
    {
     "data": {
      "text/plain": [
       "[0.022743460882156622,\n",
       " 0.022116812642531892,\n",
       " 0.021452701648609122,\n",
       " 0.020483702061583776,\n",
       " 0.019397711990074062,\n",
       " 0.01937578328920971,\n",
       " 0.018727979530124915,\n",
       " 0.017934731865670597,\n",
       " 0.01767549490409676,\n",
       " 0.016788901260924898]"
      ]
     },
     "execution_count": 217,
     "metadata": {},
     "output_type": "execute_result"
    }
   ],
   "source": [
    "# amount of importance top ten\n",
    "sorted(rdf.feature_importances_, reverse=True)[:10]"
   ]
  },
  {
   "cell_type": "code",
   "execution_count": 218,
   "metadata": {},
   "outputs": [],
   "source": [
    "X = pd.get_dummies(data = X, \n",
    "                     columns=[\"Subject_Gender\", \"Subject_Race\", \n",
    "                             \"Precinct\", \"Sector\", \"Beat\"], \n",
    "                     prefix=[\"Subject_Gender\", \"Subject_Race\", \n",
    "                             \"Precinct\", \"Sector\", \"Beat\"])"
   ]
  },
  {
   "cell_type": "code",
   "execution_count": 219,
   "metadata": {},
   "outputs": [],
   "source": [
    "X_train, X_test, y_train, y_test = train_test_split(X, y, test_size=0.2, random_state=659)"
   ]
  },
  {
   "cell_type": "code",
   "execution_count": 220,
   "metadata": {},
   "outputs": [],
   "source": [
    "rf = RandomForestClassifier(oob_score=True, random_state=659)"
   ]
  },
  {
   "cell_type": "code",
   "execution_count": 221,
   "metadata": {},
   "outputs": [
    {
     "name": "stderr",
     "output_type": "stream",
     "text": [
      "/Users/sarahburgart/anaconda3/lib/python3.7/site-packages/sklearn/ensemble/forest.py:245: FutureWarning: The default value of n_estimators will change from 10 in version 0.20 to 100 in 0.22.\n",
      "  \"10 in version 0.20 to 100 in 0.22.\", FutureWarning)\n",
      "/Users/sarahburgart/anaconda3/lib/python3.7/site-packages/sklearn/ensemble/forest.py:460: UserWarning: Some inputs do not have OOB scores. This probably means too few trees were used to compute any reliable oob estimates.\n",
      "  warn(\"Some inputs do not have OOB scores. \"\n",
      "/Users/sarahburgart/anaconda3/lib/python3.7/site-packages/sklearn/ensemble/forest.py:465: RuntimeWarning: divide by zero encountered in true_divide\n",
      "  predictions[k].sum(axis=1)[:, np.newaxis])\n",
      "/Users/sarahburgart/anaconda3/lib/python3.7/site-packages/sklearn/ensemble/forest.py:465: RuntimeWarning: invalid value encountered in true_divide\n",
      "  predictions[k].sum(axis=1)[:, np.newaxis])\n"
     ]
    },
    {
     "data": {
      "text/plain": [
       "RandomForestClassifier(bootstrap=True, class_weight=None, criterion='gini',\n",
       "                       max_depth=None, max_features='auto', max_leaf_nodes=None,\n",
       "                       min_impurity_decrease=0.0, min_impurity_split=None,\n",
       "                       min_samples_leaf=1, min_samples_split=2,\n",
       "                       min_weight_fraction_leaf=0.0, n_estimators=10,\n",
       "                       n_jobs=None, oob_score=True, random_state=659, verbose=0,\n",
       "                       warm_start=False)"
      ]
     },
     "execution_count": 221,
     "metadata": {},
     "output_type": "execute_result"
    }
   ],
   "source": [
    "rf.fit(X_train, y_train)"
   ]
  },
  {
   "cell_type": "code",
   "execution_count": 222,
   "metadata": {},
   "outputs": [
    {
     "data": {
      "text/plain": [
       "0.8653455284552846"
      ]
     },
     "execution_count": 222,
     "metadata": {},
     "output_type": "execute_result"
    }
   ],
   "source": [
    "rf.score(X_test, y_test)"
   ]
  },
  {
   "cell_type": "code",
   "execution_count": 228,
   "metadata": {},
   "outputs": [
    {
     "data": {
      "text/plain": [
       "Index(['day', 'month', 'day_of_week', 'time', 'Subject_Race_White',\n",
       "       'Subject_Race_Black or African American', 'Subject_Race_Not Specified',\n",
       "       'Subject_Gender_Male', 'Subject_Race_Hispanic or Latino'],\n",
       "      dtype='object')"
      ]
     },
     "execution_count": 228,
     "metadata": {},
     "output_type": "execute_result"
    }
   ],
   "source": [
    "# most important features\n",
    "indices = np.argsort(rf.feature_importances_)\n",
    "big = indices[-1:-10:-1]\n",
    "cols = X.columns\n",
    "cols[big]"
   ]
  },
  {
   "cell_type": "code",
   "execution_count": 224,
   "metadata": {},
   "outputs": [
    {
     "data": {
      "text/plain": [
       "[0.009791139068303322,\n",
       " 0.009858367366139854,\n",
       " 0.013520709944867437,\n",
       " 0.015762998054772288,\n",
       " 0.02219155926048672,\n",
       " 0.023583266393385052,\n",
       " 0.13420876319107364,\n",
       " 0.13545532267051566,\n",
       " 0.1666110314787929,\n",
       " 0.20756039634952228]"
      ]
     },
     "execution_count": 224,
     "metadata": {},
     "output_type": "execute_result"
    }
   ],
   "source": [
    "sorted(rf.feature_importances_)[-10:]"
   ]
  },
  {
   "cell_type": "code",
   "execution_count": 234,
   "metadata": {},
   "outputs": [
    {
     "data": {
      "text/plain": [
       "Level 1 - Use of Force    7474\n",
       "Level 2 - Use of Force    2185\n",
       "Level 3 - Use of Force     105\n",
       "Level 3 - OIS               74\n",
       "Name: Incident_Type, dtype: int64"
      ]
     },
     "execution_count": 234,
     "metadata": {},
     "output_type": "execute_result"
    }
   ],
   "source": [
    "y.value_counts()"
   ]
  },
  {
   "cell_type": "code",
   "execution_count": 264,
   "metadata": {},
   "outputs": [
    {
     "data": {
      "text/plain": [
       "array([0.6, 0.3, 0. , 0.1])"
      ]
     },
     "execution_count": 264,
     "metadata": {},
     "output_type": "execute_result"
    }
   ],
   "source": [
    "pp = rf.predict_proba(X)\n",
    "pp[31], pp[43]\n",
    "pp[227]"
   ]
  },
  {
   "cell_type": "code",
   "execution_count": 266,
   "metadata": {},
   "outputs": [
    {
     "data": {
      "text/plain": [
       "ID                           4179-1061-3664\n",
       "Incident_Num                           4179\n",
       "Incident_Type        Level 1 - Use of Force\n",
       "Occured_date_time    03/13/2015 12:38:00 PM\n",
       "Precinct                                  N\n",
       "Sector                                    U\n",
       "Beat                                     U1\n",
       "Officer_ID                             1061\n",
       "Subject_ID                             3664\n",
       "Subject_Race                          White\n",
       "Subject_Gender                         Male\n",
       "year                                   2015\n",
       "month                                    03\n",
       "day                                      13\n",
       "time                                     12\n",
       "epoch                           1.42625e+09\n",
       "day_of_week                               4\n",
       "Name: 227, dtype: object"
      ]
     },
     "execution_count": 266,
     "metadata": {},
     "output_type": "execute_result"
    }
   ],
   "source": [
    "force.iloc[227,:]\n"
   ]
  },
  {
   "cell_type": "code",
   "execution_count": null,
   "metadata": {},
   "outputs": [],
   "source": [
    "forceOIS.day_of_week.value_counts()"
   ]
  },
  {
   "cell_type": "code",
   "execution_count": 225,
   "metadata": {},
   "outputs": [
    {
     "data": {
      "image/png": "[encoded data removed]",
      "text/plain": [
       "<Figure size 1728x864 with 1 Axes>"
      ]
     },
     "metadata": {
      "needs_background": "light"
     },
     "output_type": "display_data"
    }
   ],
   "source": [
    "t = X.time.value_counts()\n",
    "\n",
    "fig, axs = plt.subplots(1,1,figsize=(24,12))\n",
    "axs.bar(t.index, t);\n",
    "axs.set_xticks(np.arange(31));"
   ]
  },
  {
   "cell_type": "code",
   "execution_count": 226,
   "metadata": {},
   "outputs": [
    {
     "data": {
      "text/plain": [
       "01    495\n",
       "20    393\n",
       "06    380\n",
       "27    368\n",
       "19    367\n",
       "23    362\n",
       "28    349\n",
       "13    349\n",
       "25    347\n",
       "02    333\n",
       "07    328\n",
       "11    324\n",
       "18    324\n",
       "22    317\n",
       "21    316\n",
       "16    312\n",
       "26    309\n",
       "08    302\n",
       "30    296\n",
       "05    296\n",
       "15    295\n",
       "14    294\n",
       "03    294\n",
       "10    289\n",
       "29    275\n",
       "04    269\n",
       "17    267\n",
       "09    266\n",
       "12    262\n",
       "24    251\n",
       "31    209\n",
       "Name: day, dtype: int64"
      ]
     },
     "execution_count": 226,
     "metadata": {},
     "output_type": "execute_result"
    }
   ],
   "source": [
    "X.day.value_counts()"
   ]
  },
  {
   "cell_type": "code",
   "execution_count": null,
   "metadata": {},
   "outputs": [],
   "source": []
  }
 ],
 "metadata": {
  "kernelspec": {
   "display_name": "Python 3",
   "language": "python",
   "name": "python3"
  },
  "language_info": {
   "codemirror_mode": {
    "name": "ipython",
    "version": 3
   },
   "file_extension": ".py",
   "mimetype": "text/x-python",
   "name": "python",
   "nbconvert_exporter": "python",
   "pygments_lexer": "ipython3",
   "version": "3.7.3"
  }
 },
 "nbformat": 4,
 "nbformat_minor": 2
}
