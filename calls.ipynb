{
 "cells": [
  {
   "cell_type": "code",
   "execution_count": 1,
   "metadata": {},
   "outputs": [],
   "source": [
    "import sqlite3\n",
    "from sqlalchemy import create_engine\n",
    "engine = create_engine('sqlite://', echo=False)\n",
    "import numpy as np\n",
    "import pandas as pd"
   ]
  },
  {
   "cell_type": "code",
   "execution_count": 3,
   "metadata": {},
   "outputs": [
    {
     "name": "stderr",
     "output_type": "stream",
     "text": [
      "/Users/sarahburgart/anaconda3/lib/python3.7/site-packages/ipykernel_launcher.py:20: SettingWithCopyWarning: \n",
      "A value is trying to be set on a copy of a slice from a DataFrame.\n",
      "Try using .loc[row_indexer,col_indexer] = value instead\n",
      "\n",
      "See the caveats in the documentation: http://pandas.pydata.org/pandas-docs/stable/indexing.html#indexing-view-versus-copy\n",
      "/Users/sarahburgart/anaconda3/lib/python3.7/site-packages/pandas/core/frame.py:3940: SettingWithCopyWarning: \n",
      "A value is trying to be set on a copy of a slice from a DataFrame\n",
      "\n",
      "See the caveats in the documentation: http://pandas.pydata.org/pandas-docs/stable/indexing.html#indexing-view-versus-copy\n",
      "  errors=errors)\n",
      "/Users/sarahburgart/anaconda3/lib/python3.7/site-packages/pandas/core/generic.py:2531: UserWarning: The spaces in these column names will not be changed. In pandas versions < 0.14, spaces were converted to underscores.\n",
      "  dtype=dtype, method=method)\n"
     ]
    }
   ],
   "source": [
    "# code to clean up calls.csv and move it to a SQL table\n",
    "\n",
    "calls = pd.read_csv(\"data/Call_Data.csv\")\n",
    "\n",
    "def callstime(df, col_arrive):\n",
    "    yearmonthday = df[col_arrive].astype(str).str.split()\n",
    "    df[\"year\"] = yearmonthday.apply(lambda x: x[2])\n",
    "    df[\"day\"] = yearmonthday.apply(lambda x: x[1])\n",
    "    month_dict = {\"Jan\": 1, \"Feb\": 2, \"Mar\": 3, \"Apr\": 4, \"May\": 5, \"Jun\": 6, \"Jul\": 7, \"Aug\": 8, \"Sep\": 9, \"Oct\": 10, \"Nov\": 11, \"Dec\":12}\n",
    "    df[\"month\"] = yearmonthday.apply(lambda x: month_dict[x[0]])\n",
    "    df[\"time\"] = yearmonthday.apply(lambda x: x[3])\n",
    "    return df\n",
    "\n",
    "calls = callstime(calls,\"Arrived Time\")\n",
    "calls17 = calls[calls[\"year\"].isin([\"2014\", \"2015\", \"2016\", \"2017\", \"2018\", \"2019\"])]\n",
    "\n",
    "# calculate and add column for epoch time\n",
    "bar = pd.to_datetime( calls17[\"Arrived Time\"], format=\"%b %d %Y %I:%M:%S:%f%p\" )\n",
    "epoch_second2 = bar.map(lambda x: x.value/1e9)\n",
    "calls17[\"epoch_calls\"] = epoch_second2\n",
    "\n",
    "rs = calls17[\"CAD Event Number\"].value_counts()\n",
    "two = []\n",
    "for v, i in zip(rs.values, rs.index):\n",
    "    if v >1:\n",
    "        two.append(i)\n",
    "# len(two) == 362  \n",
    "st = [x > 1 for x in rs]\n",
    "dt =rs[st]\n",
    "\n",
    "t = calls17[calls17[\"CAD Event Number\"].isin(two)]\n",
    "indt = t[t[\"Event Clearance Description\"] == \"-\"].index\n",
    "indt\n",
    "\n",
    "calls17.drop(indt, axis=0, inplace=True)\n",
    "\n",
    "#remove repetitive columns\n",
    "calls_tosql = calls17.drop(columns =[\"day\", \"month\", \"time\", \"Precinct\", \"Sector\", \"Arrived Time\"])\n",
    "calls_tosql.set_index(\"epoch_calls\", inplace=True)\n",
    "\n",
    "# create engine\n",
    "cnx = sqlite3.connect('calls.sqlite')\n",
    "\n",
    "# create cursor\n",
    "cur = cnx.cursor()\n",
    "\n",
    "# move calls to sqlite table - DONT REPEAT\n",
    "calls_tosql.to_sql(\"log\", con=cnx, index=True, if_exists=\"replace\")\n"
   ]
  },
  {
   "cell_type": "code",
   "execution_count": 4,
   "metadata": {},
   "outputs": [
    {
     "data": {
      "text/plain": [
       "2079514"
      ]
     },
     "execution_count": 4,
     "metadata": {},
     "output_type": "execute_result"
    }
   ],
   "source": [
    "len(calls_tosql)\n"
   ]
  },
  {
   "cell_type": "code",
   "execution_count": null,
   "metadata": {},
   "outputs": [],
   "source": []
  }
 ],
 "metadata": {
  "kernelspec": {
   "display_name": "Python 3",
   "language": "python",
   "name": "python3"
  },
  "language_info": {
   "codemirror_mode": {
    "name": "ipython",
    "version": 3
   },
   "file_extension": ".py",
   "mimetype": "text/x-python",
   "name": "python",
   "nbconvert_exporter": "python",
   "pygments_lexer": "ipython3",
   "version": "3.7.3"
  }
 },
 "nbformat": 4,
 "nbformat_minor": 2
}
