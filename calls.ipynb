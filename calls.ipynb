{
 "cells": [
  {
   "cell_type": "code",
   "execution_count": 2,
   "metadata": {},
   "outputs": [
    {
     "name": "stderr",
     "output_type": "stream",
     "text": [
      "/Users/sarahburgart/anaconda3/lib/python3.7/site-packages/ipykernel_launcher.py:23: SettingWithCopyWarning: \n",
      "A value is trying to be set on a copy of a slice from a DataFrame.\n",
      "Try using .loc[row_indexer,col_indexer] = value instead\n",
      "\n",
      "See the caveats in the documentation: http://pandas.pydata.org/pandas-docs/stable/indexing.html#indexing-view-versus-copy\n"
     ]
    }
   ],
   "source": [
    "# code to clean up calls.csv and move it to a SQL table\n",
    "\n",
    "import numpy as np\n",
    "import pandas as pd\n",
    "\n",
    "calls = pd.read_csv(\"data/Call_Data.csv\")\n",
    "\n",
    "def callstime(df, col_arrive):\n",
    "    yearmonthday = df[col_arrive].astype(str).str.split(\" \")\n",
    "    df[\"year\"] = yearmonthday.apply(lambda x: x[2])\n",
    "    df[\"day\"] = yearmonthday.apply(lambda x: x[1])\n",
    "    month_dict = {\"Jan\": 1, \"Feb\": 2, \"Mar\": 3, \"Apr\": 4, \"May\": 5, \"Jun\": 6, \"Jul\": 7, \"Aug\": 8, \"Sep\": 9, \"Oct\": 10, \"Nov\": 11, \"Dec\":12}\n",
    "    df[\"month\"] = yearmonthday.apply(lambda x: month_dict[x[0]])\n",
    "    df[\"time\"] = yearmonthday.apply(lambda x: x[3])\n",
    "    return df\n",
    "\n",
    "calls = callstime(calls,\"Arrived Time\")\n",
    "calls17 = calls[calls[\"year\"].isin([\"2014\", \"2015\", \"2016\", \"2017\", \"2018\", \"2019\"])]\n",
    "\n",
    "# calculate and add column for epoch time\n",
    "bar = pd.to_datetime( calls17[\"Arrived Time\"], format=\"%b %d %Y %I:%M:%S:%f%p\" )\n",
    "epoch_second2 = bar.map(lambda x: x.value/1e9)\n",
    "calls17[\"epoch_calls\"] = epoch_second2\n",
    "\n",
    "rs = calls17[\"CAD Event Number\"].value_counts()\n",
    "two = []\n",
    "for v, i in zip(rs.values, rs.index):\n",
    "    if v >1:\n",
    "        two.append(i)\n",
    "# len(two) == 362  \n",
    "st = [x > 1 for x in rs]\n",
    "dt =rs[st]\n",
    "\n",
    "t = calls17[calls17[\"CAD Event Number\"].isin(two)]\n",
    "indt = t[t[\"Event Clearance Description\"] == \"-\"].index\n",
    "indt\n",
    "\n",
    "calls17.drop(indt, axis=0, inplace=True)\n",
    "\n",
    "#remove repetitive columns\n",
    "calls_tosql = calls17.drop(columns =[\"year\",\"day\", \"month\", \"time\", \"Precinct\", \"Sector\", \"Arrived Time\"])\n",
    "calls_tosql.set_index(\"epoch_calls\", inplace=True)\n",
    "\n",
    "# move calls to sqlite table - DONT REPEAT\n",
    "#calls_tosql.to_sql(\"log\", con=cnx, index=True, if_exists=\"replace\")\n"
   ]
  },
  {
   "cell_type": "code",
   "execution_count": 3,
   "metadata": {},
   "outputs": [
    {
     "name": "stdout",
     "output_type": "stream",
     "text": [
      "<class 'pandas.core.frame.DataFrame'>\n",
      "RangeIndex: 3986668 entries, 0 to 3986667\n",
      "Data columns (total 15 columns):\n",
      "CAD Event Number               int64\n",
      "Event Clearance Description    object\n",
      "Call Type                      object\n",
      "Priority                       int64\n",
      "Initial Call Type              object\n",
      "Final Call Type                object\n",
      "Original Time Queued           object\n",
      "Arrived Time                   object\n",
      "Precinct                       object\n",
      "Sector                         object\n",
      "Beat                           object\n",
      "year                           object\n",
      "day                            object\n",
      "month                          int64\n",
      "time                           object\n",
      "dtypes: int64(3), object(12)\n",
      "memory usage: 456.2+ MB\n"
     ]
    }
   ],
   "source": [
    "calls.info()"
   ]
  },
  {
   "cell_type": "code",
   "execution_count": 8,
   "metadata": {},
   "outputs": [
    {
     "data": {
      "text/plain": [
       "Beat  Initial Call Type                                 \n",
       "1     -ASSIGNED DUTY - DETAIL BY SUPERVISOR                    1\n",
       "99    TRAFFIC STOP - OFFICER INITIATED ONVIEW               1431\n",
       "      -OUT AT RANGE                                          804\n",
       "      ASSIST OTHER AGENCY - ROUTINE SERVICE                  658\n",
       "      FOLLOW UP                                              615\n",
       "      WARRANT - FELONY PICKUP                                563\n",
       "      WARRANT - MISD WARRANT PICKUP                          352\n",
       "      -ASSIGNED DUTY - IN-SERVICE TRAINING                   313\n",
       "      AUTO RECOVERY                                          304\n",
       "      SUSPICIOUS PERSON, VEHICLE OR INCIDENT                 280\n",
       "      PREMISE CHECK, OFFICER INITIATED ONVIEW ONLY           247\n",
       "      SUSPICIOUS STOP - OFFICER INITIATED ONVIEW             236\n",
       "      WARRANT PICKUP - FROM OTHER AGENCY                     199\n",
       "      OFF DUTY EMPLOYMENT                                    175\n",
       "      -ASSIGNED DUTY - DETAIL BY SUPERVISOR                  142\n",
       "      NARCOTICS - VIOLATIONS (LOITER, USE, SELL, NARS)       105\n",
       "      INFORMATIONAL BROADCASTS                               102\n",
       "      ASSIST OTHER AGENCY - EMERGENCY SERVICE                 95\n",
       "      DIRECTED PATROL ACTIVITY                                91\n",
       "      ASSIST SPD - ROUTINE SERVICE                            71\n",
       "      TRAFFIC - BLOCKING ROADWAY                              69\n",
       "      WARRANT - SEARCH. CAUTION (EXCL NARCOTICS)              68\n",
       "      TRAFFIC - MOVING VIOLATION                              62\n",
       "      ASSIST PUBLIC - NO WELFARE CHK OR DV ORDER SERVICE      58\n",
       "      ASLT - WITH OR W/O WEAPONS (NO SHOOTINGS)               51\n",
       "      AUTO THEFT - VEH THEFT OR THEFT & RECOVERY              50\n",
       "      ASLT - DV                                               47\n",
       "      THEFT (DOES NOT INCLUDE SHOPLIFT OR SVCS)               44\n",
       "      CHILD - ABAND, ABUSED, MOLESTED, NEGLECTED              43\n",
       "      MVC - REPORT, NON INJ/NON BLKG OR AFTER FACT INJ        43\n",
       "                                                            ... \n",
       "WS    TRACKING ALARM                                           2\n",
       "      -ASSIGNED DUTY - COURT                                   1\n",
       "      -ASSIGNED DUTY - MEET W/ SUPERVISOR (OUT OF SVC)         1\n",
       "      -ASSIGNED DUTY - OTHER ESCORT                            1\n",
       "      -ASSIGNED DUTY - TRANSPORT EVIDENCE,EQUIPMENT            1\n",
       "      -PRISONER ESCORT - BUSY CODE                             1\n",
       "      ABANDONED VEHICLE                                        1\n",
       "      ASLT - WITH OR W/O WEAPONS (NO SHOOTINGS)                1\n",
       "      ASSIST OTHER AGENCY - ROUTINE SERVICE                    1\n",
       "      ASSIST SPD - ROUTINE SERVICE                             1\n",
       "      BIAS -RACIAL, POLITICAL, SEXUAL MOTIVATION               1\n",
       "      HARAS - NO BIAS, THREATS OR MALICIOUSNESS                1\n",
       "      HARBOR - WATER EMERGENCIES                               1\n",
       "      LICENSE INSPECTIONS (CHECK FOR)                          1\n",
       "      MISSING - (ALZHEIMER, ENDANGERED, ELDERLY)               1\n",
       "      MVC - HIT AND RUN (NON INJURY), INCLUDES IP/JO           1\n",
       "      MVC - NON INJURY, BLOCKING                               1\n",
       "      MVC - REPORT, NON INJ/NON BLKG OR AFTER FACT INJ         1\n",
       "      PARKS VIOLATIONS/CITES (INCLUDES EXCLUSIONS)             1\n",
       "      RAPE                                                     1\n",
       "      TEST CALL ONLY                                           1\n",
       "      THREATS (INCLS IN-PERSON/BY PHONE/IN WRITING)            1\n",
       "      TRAFFIC - ASSIST MOTORIST                                1\n",
       "      TRAFFIC - MOVING VIOLATION                               1\n",
       "      WARRANT - FELONY PICKUP                                  1\n",
       "XDD   TEST CALL ONLY                                          18\n",
       "      -ASSIGNED DUTY - COMMUNITY,SCHOOL,SPECIAL EVENT          4\n",
       "      DISTURBANCE, MISCELLANEOUS/OTHER                         2\n",
       "      FOUND - PERSON                                           1\n",
       "      TRACKING ALARM                                           1\n",
       "Name: Initial Call Type, Length: 13976, dtype: int64"
      ]
     },
     "execution_count": 8,
     "metadata": {},
     "output_type": "execute_result"
    }
   ],
   "source": [
    "calls.groupby(\"Beat\")[\"Initial Call Type\"].value_counts()"
   ]
  },
  {
   "cell_type": "code",
   "execution_count": null,
   "metadata": {},
   "outputs": [],
   "source": []
  }
 ],
 "metadata": {
  "kernelspec": {
   "display_name": "Python 3",
   "language": "python",
   "name": "python3"
  },
  "language_info": {
   "codemirror_mode": {
    "name": "ipython",
    "version": 3
   },
   "file_extension": ".py",
   "mimetype": "text/x-python",
   "name": "python",
   "nbconvert_exporter": "python",
   "pygments_lexer": "ipython3",
   "version": "3.7.3"
  }
 },
 "nbformat": 4,
 "nbformat_minor": 2
}
