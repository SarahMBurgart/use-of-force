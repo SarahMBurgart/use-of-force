{
 "cells": [
  {
   "cell_type": "code",
   "execution_count": 7,
   "metadata": {},
   "outputs": [],
   "source": [
    "import sqlite3\n",
    "from sqlalchemy import create_engine\n",
    "engine = create_engine('sqlite://', echo=False)\n",
    "import numpy as np\n",
    "import pandas as pd"
   ]
  },
  {
   "cell_type": "code",
   "execution_count": 2,
   "metadata": {},
   "outputs": [
    {
     "name": "stderr",
     "output_type": "stream",
     "text": [
      "/Users/sarahburgart/anaconda3/lib/python3.7/site-packages/ipykernel_launcher.py:23: SettingWithCopyWarning: \n",
      "A value is trying to be set on a copy of a slice from a DataFrame.\n",
      "Try using .loc[row_indexer,col_indexer] = value instead\n",
      "\n",
      "See the caveats in the documentation: http://pandas.pydata.org/pandas-docs/stable/indexing.html#indexing-view-versus-copy\n"
     ]
    }
   ],
   "source": [
    "# code to clean up calls.csv and move it to a SQL table\n",
    "\n",
    "\n",
    "\n",
    "calls = pd.read_csv(\"data/Call_Data.csv\")\n",
    "\n",
    "def callstime(df, col_arrive):\n",
    "    yearmonthday = df[col_arrive].astype(str).str.split(\" \")\n",
    "    df[\"year\"] = yearmonthday.apply(lambda x: x[2])\n",
    "    df[\"day\"] = yearmonthday.apply(lambda x: x[1])\n",
    "    month_dict = {\"Jan\": 1, \"Feb\": 2, \"Mar\": 3, \"Apr\": 4, \"May\": 5, \"Jun\": 6, \"Jul\": 7, \"Aug\": 8, \"Sep\": 9, \"Oct\": 10, \"Nov\": 11, \"Dec\":12}\n",
    "    df[\"month\"] = yearmonthday.apply(lambda x: month_dict[x[0]])\n",
    "    df[\"time\"] = yearmonthday.apply(lambda x: x[3])\n",
    "    return df\n",
    "\n",
    "calls = callstime(calls,\"Arrived Time\")\n",
    "calls17 = calls[calls[\"year\"].isin([\"2014\", \"2015\", \"2016\", \"2017\", \"2018\", \"2019\"])]\n",
    "\n",
    "# calculate and add column for epoch time\n",
    "bar = pd.to_datetime( calls17[\"Arrived Time\"], format=\"%b %d %Y %I:%M:%S:%f%p\" )\n",
    "epoch_second2 = bar.map(lambda x: x.value/1e9)\n",
    "calls17[\"epoch_calls\"] = epoch_second2\n",
    "\n",
    "rs = calls17[\"CAD Event Number\"].value_counts()\n",
    "two = []\n",
    "for v, i in zip(rs.values, rs.index):\n",
    "    if v >1:\n",
    "        two.append(i)\n",
    "# len(two) == 362  \n",
    "st = [x > 1 for x in rs]\n",
    "dt =rs[st]\n",
    "\n",
    "t = calls17[calls17[\"CAD Event Number\"].isin(two)]\n",
    "indt = t[t[\"Event Clearance Description\"] == \"-\"].index\n",
    "indt\n",
    "\n",
    "calls17.drop(indt, axis=0, inplace=True)\n",
    "\n",
    "#remove repetitive columns\n",
    "calls_tosql = calls17.drop(columns =[\"year\",\"day\", \"month\", \"time\", \"Precinct\", \"Sector\", \"Arrived Time\"])\n",
    "calls_tosql.set_index(\"epoch_calls\", inplace=True)\n",
    "\n",
    "# move calls to sqlite table - DONT REPEAT\n",
    "#calls_tosql.to_sql(\"log\", con=cnx, index=True, if_exists=\"replace\")\n"
   ]
  },
  {
   "cell_type": "code",
   "execution_count": 1,
   "metadata": {},
   "outputs": [],
   "source": [
    "# exploring calls17 db to doublecheck the ratios are correct in merged db\n",
    "import numpy as np\n",
    "import pandas as pd\n",
    "\n",
    "calls = pd.read_csv(\"data/Call_Data.csv\")"
   ]
  },
  {
   "cell_type": "code",
   "execution_count": 2,
   "metadata": {},
   "outputs": [],
   "source": [
    "def callstime(df, col_arrive):\n",
    "    yearmonthday = df[col_arrive].astype(str).str.split(\" \")\n",
    "    df[\"year\"] = yearmonthday.apply(lambda x: x[2])\n",
    "    df[\"day\"] = yearmonthday.apply(lambda x: x[1])\n",
    "    month_dict = {\"Jan\": 1, \"Feb\": 2, \"Mar\": 3, \"Apr\": 4, \"May\": 5, \"Jun\": 6, \"Jul\": 7, \"Aug\": 8, \"Sep\": 9, \"Oct\": 10, \"Nov\": 11, \"Dec\":12}\n",
    "    df[\"month\"] = yearmonthday.apply(lambda x: month_dict[x[0]])\n",
    "    df[\"time\"] = yearmonthday.apply(lambda x: x[3])\n",
    "    return df\n",
    "\n",
    "calls = callstime(calls,\"Arrived Time\")\n",
    "calls17 = calls[calls[\"year\"].isin([\"2014\", \"2015\", \"2016\", \"2017\", \"2018\", \"2019\"])]\n"
   ]
  },
  {
   "cell_type": "code",
   "execution_count": 3,
   "metadata": {},
   "outputs": [
    {
     "name": "stderr",
     "output_type": "stream",
     "text": [
      "/Users/sarahburgart/anaconda3/lib/python3.7/site-packages/ipykernel_launcher.py:4: SettingWithCopyWarning: \n",
      "A value is trying to be set on a copy of a slice from a DataFrame.\n",
      "Try using .loc[row_indexer,col_indexer] = value instead\n",
      "\n",
      "See the caveats in the documentation: http://pandas.pydata.org/pandas-docs/stable/indexing.html#indexing-view-versus-copy\n",
      "  after removing the cwd from sys.path.\n"
     ]
    }
   ],
   "source": [
    "# calculate and add column for epoch time\n",
    "bar = pd.to_datetime( calls17[\"Arrived Time\"], format=\"%b %d %Y %I:%M:%S:%f%p\" )\n",
    "epoch_second2 = bar.map(lambda x: x.value/1e9)\n",
    "calls17[\"epoch_calls\"] = epoch_second2\n",
    "\n",
    "rs = calls17[\"CAD Event Number\"].value_counts()\n",
    "two = []\n",
    "for v, i in zip(rs.values, rs.index):\n",
    "    if v >1:\n",
    "        two.append(i)\n",
    "# len(two) == 362  \n",
    "st = [x > 1 for x in rs]\n",
    "dt =rs[st]\n",
    "\n",
    "t = calls17[calls17[\"CAD Event Number\"].isin(two)]\n",
    "indt = t[t[\"Event Clearance Description\"] == \"-\"].index"
   ]
  },
  {
   "cell_type": "code",
   "execution_count": 5,
   "metadata": {},
   "outputs": [
    {
     "ename": "KeyError",
     "evalue": "'[2914744 2931418 2934929 2939226 2941399 2942324 2950082 2951227 2972146\\n 2975217 2975263 2975270 2975303 2975316 2975321 2975333 2975339 2975377\\n 2975385 2975389 2979903 2980923 2995632 2996678 2996697 2998592 3002153\\n 3006563 3015437 3015441 3034528 3034812 3036712 3041149 3046544 3046570\\n 3047690 3050611 3065451 3066677 3066691 3067879 3070029 3073577 3075018\\n 3080013 3082434 3082732 3084075 3085388 3087801 3088988 3089872 3104396\\n 3108138 3108306 3109547 3110825 3111878 3112811 3112875 3121204 3121253\\n 3121272 3121281 3124837 3126174 3127259 3127443 3141211 3141223 3154833\\n 3155899 3158325 3161196 3162448 3162535 3163719 3164823 3164869 3184500\\n 3187171 3191454 3195090 3195140 3197490 3197574 3216168 3218392 3218476\\n 3222661 3223776 3224837 3227161 3234465 3239387 3239444 3239490 3252053\\n 3252412 3253351 3258127 3260199 3260434 3262770 3265031 3267331 3271091\\n 3273255 3273391 3276930 3288694 3293098 3295597 3296850 3298762 3302048\\n 3302483 3303960 3304377 3304969 3307063 3309386 3323402 3323417 3323420\\n 3325199 3325640 3325767 3325812 3328060 3332582 3335758 3335853 3344089\\n 3344331 3344447 3356802 3357981 3365821 3377819 3391007 3391846 3394279\\n 3395462 3395482 3398058 3399141 3399237 3403454 3410008 3424249 3425431\\n 3430244 3432413 3434836 3441250 3444587 3444688 3445893 3462108 3462767\\n 3463009 3465323 3466510 3470160 3470590 3471102 3472384 3494496 3498189\\n 3503806 3507373 3512608 3514084 3516133 3517381 3519957 3521138 3534613\\n 3534705 3534799 3557633 3557923 3558885 3558967 3571240 3576312 3576395\\n 3578967 3582900 3582906 3585258 3587700 3588855 3591451 3591467 3592264\\n 3592711 3597510 3597581 3609980 3609997 3611130 3612188 3612240 3612256\\n 3614171 3614752 3615732 3615785 3618502 3618528 3621619 3621684 3627518\\n 3628939 3633415 3655695 3659538 3659655 3659661 3659709 3665922 3670669\\n 3670967 3684298 3695263 3695325 3696273 3697298 3699584 3705122 3707082\\n 3708258 3720808 3721669 3725125 3725330 3726636 3727879 3728824 3733677\\n 3733729 3733743 3735185 3736390 3737365 3738562 3739776 3740946 3756338\\n 3757781 3757824 3760279 3762634 3763756 3768970 3770980 3770998 3771041\\n 3776671 3777580 3778803 3792373 3792431 3792443 3792483 3793408 3793552\\n 3793571 3803005 3803060 3805191 3806563 3806647 3810125 3811228 3812574\\n 3826121 3826149 3829124 3832797 3838544 3839633 3839757 3845088 3858635\\n 3858703 3861048 3864875 3865750 3866715 3867026 3869398 3881250 3882339\\n 3897606 3899657 3899726 3901021 3903457 3905528 3905556 3905736 3905881\\n 3906854 3906877 3907842 3907914 3908971 3909189 3909194 3909245 3910360\\n 3910471 3911676 3912835 3913080 3913116 3914183 3915299 3931796 3931902\\n 3931938 3932011 3935169 3935407 3940378 3940535 3940554 3940579 3941482\\n 3943950 3946661 3953913 3955008 3955095 3955179 3969284 3969343 3974690\\n 3976899 3979319 3980598 3980720 3981946 3982958 3984162 3984225 3984402\\n 3985465 3985506 3986610] not found in axis'",
     "output_type": "error",
     "traceback": [
      "\u001b[0;31m---------------------------------------------------------------------------\u001b[0m",
      "\u001b[0;31mKeyError\u001b[0m                                  Traceback (most recent call last)",
      "\u001b[0;32m<ipython-input-5-720e99d1ced7>\u001b[0m in \u001b[0;36m<module>\u001b[0;34m\u001b[0m\n\u001b[0;32m----> 1\u001b[0;31m \u001b[0mcalls17\u001b[0m\u001b[0;34m.\u001b[0m\u001b[0mdrop\u001b[0m\u001b[0;34m(\u001b[0m\u001b[0mindt\u001b[0m\u001b[0;34m,\u001b[0m \u001b[0maxis\u001b[0m\u001b[0;34m=\u001b[0m\u001b[0;36m0\u001b[0m\u001b[0;34m,\u001b[0m \u001b[0minplace\u001b[0m\u001b[0;34m=\u001b[0m\u001b[0;32mTrue\u001b[0m\u001b[0;34m)\u001b[0m\u001b[0;34m\u001b[0m\u001b[0;34m\u001b[0m\u001b[0m\n\u001b[0m\u001b[1;32m      2\u001b[0m \u001b[0;34m\u001b[0m\u001b[0m\n\u001b[1;32m      3\u001b[0m \u001b[0;31m#remove repetitive columns\u001b[0m\u001b[0;34m\u001b[0m\u001b[0;34m\u001b[0m\u001b[0;34m\u001b[0m\u001b[0m\n\u001b[1;32m      4\u001b[0m \u001b[0mcalls_tosql\u001b[0m \u001b[0;34m=\u001b[0m \u001b[0mcalls17\u001b[0m\u001b[0;34m.\u001b[0m\u001b[0mdrop\u001b[0m\u001b[0;34m(\u001b[0m\u001b[0mcolumns\u001b[0m \u001b[0;34m=\u001b[0m\u001b[0;34m[\u001b[0m\u001b[0;34m\"year\"\u001b[0m\u001b[0;34m,\u001b[0m\u001b[0;34m\"day\"\u001b[0m\u001b[0;34m,\u001b[0m \u001b[0;34m\"month\"\u001b[0m\u001b[0;34m,\u001b[0m \u001b[0;34m\"time\"\u001b[0m\u001b[0;34m,\u001b[0m \u001b[0;34m\"Precinct\"\u001b[0m\u001b[0;34m,\u001b[0m \u001b[0;34m\"Sector\"\u001b[0m\u001b[0;34m,\u001b[0m \u001b[0;34m\"Arrived Time\"\u001b[0m\u001b[0;34m]\u001b[0m\u001b[0;34m)\u001b[0m\u001b[0;34m\u001b[0m\u001b[0;34m\u001b[0m\u001b[0m\n\u001b[1;32m      5\u001b[0m \u001b[0mcalls_tosql\u001b[0m\u001b[0;34m.\u001b[0m\u001b[0mset_index\u001b[0m\u001b[0;34m(\u001b[0m\u001b[0;34m\"epoch_calls\"\u001b[0m\u001b[0;34m,\u001b[0m \u001b[0minplace\u001b[0m\u001b[0;34m=\u001b[0m\u001b[0;32mTrue\u001b[0m\u001b[0;34m)\u001b[0m\u001b[0;34m\u001b[0m\u001b[0;34m\u001b[0m\u001b[0m\n",
      "\u001b[0;32m~/anaconda3/lib/python3.7/site-packages/pandas/core/frame.py\u001b[0m in \u001b[0;36mdrop\u001b[0;34m(self, labels, axis, index, columns, level, inplace, errors)\u001b[0m\n\u001b[1;32m   3938\u001b[0m                                            \u001b[0mindex\u001b[0m\u001b[0;34m=\u001b[0m\u001b[0mindex\u001b[0m\u001b[0;34m,\u001b[0m \u001b[0mcolumns\u001b[0m\u001b[0;34m=\u001b[0m\u001b[0mcolumns\u001b[0m\u001b[0;34m,\u001b[0m\u001b[0;34m\u001b[0m\u001b[0;34m\u001b[0m\u001b[0m\n\u001b[1;32m   3939\u001b[0m                                            \u001b[0mlevel\u001b[0m\u001b[0;34m=\u001b[0m\u001b[0mlevel\u001b[0m\u001b[0;34m,\u001b[0m \u001b[0minplace\u001b[0m\u001b[0;34m=\u001b[0m\u001b[0minplace\u001b[0m\u001b[0;34m,\u001b[0m\u001b[0;34m\u001b[0m\u001b[0;34m\u001b[0m\u001b[0m\n\u001b[0;32m-> 3940\u001b[0;31m                                            errors=errors)\n\u001b[0m\u001b[1;32m   3941\u001b[0m \u001b[0;34m\u001b[0m\u001b[0m\n\u001b[1;32m   3942\u001b[0m     @rewrite_axis_style_signature('mapper', [('copy', True),\n",
      "\u001b[0;32m~/anaconda3/lib/python3.7/site-packages/pandas/core/generic.py\u001b[0m in \u001b[0;36mdrop\u001b[0;34m(self, labels, axis, index, columns, level, inplace, errors)\u001b[0m\n\u001b[1;32m   3778\u001b[0m         \u001b[0;32mfor\u001b[0m \u001b[0maxis\u001b[0m\u001b[0;34m,\u001b[0m \u001b[0mlabels\u001b[0m \u001b[0;32min\u001b[0m \u001b[0maxes\u001b[0m\u001b[0;34m.\u001b[0m\u001b[0mitems\u001b[0m\u001b[0;34m(\u001b[0m\u001b[0;34m)\u001b[0m\u001b[0;34m:\u001b[0m\u001b[0;34m\u001b[0m\u001b[0;34m\u001b[0m\u001b[0m\n\u001b[1;32m   3779\u001b[0m             \u001b[0;32mif\u001b[0m \u001b[0mlabels\u001b[0m \u001b[0;32mis\u001b[0m \u001b[0;32mnot\u001b[0m \u001b[0;32mNone\u001b[0m\u001b[0;34m:\u001b[0m\u001b[0;34m\u001b[0m\u001b[0;34m\u001b[0m\u001b[0m\n\u001b[0;32m-> 3780\u001b[0;31m                 \u001b[0mobj\u001b[0m \u001b[0;34m=\u001b[0m \u001b[0mobj\u001b[0m\u001b[0;34m.\u001b[0m\u001b[0m_drop_axis\u001b[0m\u001b[0;34m(\u001b[0m\u001b[0mlabels\u001b[0m\u001b[0;34m,\u001b[0m \u001b[0maxis\u001b[0m\u001b[0;34m,\u001b[0m \u001b[0mlevel\u001b[0m\u001b[0;34m=\u001b[0m\u001b[0mlevel\u001b[0m\u001b[0;34m,\u001b[0m \u001b[0merrors\u001b[0m\u001b[0;34m=\u001b[0m\u001b[0merrors\u001b[0m\u001b[0;34m)\u001b[0m\u001b[0;34m\u001b[0m\u001b[0;34m\u001b[0m\u001b[0m\n\u001b[0m\u001b[1;32m   3781\u001b[0m \u001b[0;34m\u001b[0m\u001b[0m\n\u001b[1;32m   3782\u001b[0m         \u001b[0;32mif\u001b[0m \u001b[0minplace\u001b[0m\u001b[0;34m:\u001b[0m\u001b[0;34m\u001b[0m\u001b[0;34m\u001b[0m\u001b[0m\n",
      "\u001b[0;32m~/anaconda3/lib/python3.7/site-packages/pandas/core/generic.py\u001b[0m in \u001b[0;36m_drop_axis\u001b[0;34m(self, labels, axis, level, errors)\u001b[0m\n\u001b[1;32m   3810\u001b[0m                 \u001b[0mnew_axis\u001b[0m \u001b[0;34m=\u001b[0m \u001b[0maxis\u001b[0m\u001b[0;34m.\u001b[0m\u001b[0mdrop\u001b[0m\u001b[0;34m(\u001b[0m\u001b[0mlabels\u001b[0m\u001b[0;34m,\u001b[0m \u001b[0mlevel\u001b[0m\u001b[0;34m=\u001b[0m\u001b[0mlevel\u001b[0m\u001b[0;34m,\u001b[0m \u001b[0merrors\u001b[0m\u001b[0;34m=\u001b[0m\u001b[0merrors\u001b[0m\u001b[0;34m)\u001b[0m\u001b[0;34m\u001b[0m\u001b[0;34m\u001b[0m\u001b[0m\n\u001b[1;32m   3811\u001b[0m             \u001b[0;32melse\u001b[0m\u001b[0;34m:\u001b[0m\u001b[0;34m\u001b[0m\u001b[0;34m\u001b[0m\u001b[0m\n\u001b[0;32m-> 3812\u001b[0;31m                 \u001b[0mnew_axis\u001b[0m \u001b[0;34m=\u001b[0m \u001b[0maxis\u001b[0m\u001b[0;34m.\u001b[0m\u001b[0mdrop\u001b[0m\u001b[0;34m(\u001b[0m\u001b[0mlabels\u001b[0m\u001b[0;34m,\u001b[0m \u001b[0merrors\u001b[0m\u001b[0;34m=\u001b[0m\u001b[0merrors\u001b[0m\u001b[0;34m)\u001b[0m\u001b[0;34m\u001b[0m\u001b[0;34m\u001b[0m\u001b[0m\n\u001b[0m\u001b[1;32m   3813\u001b[0m             \u001b[0mresult\u001b[0m \u001b[0;34m=\u001b[0m \u001b[0mself\u001b[0m\u001b[0;34m.\u001b[0m\u001b[0mreindex\u001b[0m\u001b[0;34m(\u001b[0m\u001b[0;34m**\u001b[0m\u001b[0;34m{\u001b[0m\u001b[0maxis_name\u001b[0m\u001b[0;34m:\u001b[0m \u001b[0mnew_axis\u001b[0m\u001b[0;34m}\u001b[0m\u001b[0;34m)\u001b[0m\u001b[0;34m\u001b[0m\u001b[0;34m\u001b[0m\u001b[0m\n\u001b[1;32m   3814\u001b[0m \u001b[0;34m\u001b[0m\u001b[0m\n",
      "\u001b[0;32m~/anaconda3/lib/python3.7/site-packages/pandas/core/indexes/base.py\u001b[0m in \u001b[0;36mdrop\u001b[0;34m(self, labels, errors)\u001b[0m\n\u001b[1;32m   4963\u001b[0m             \u001b[0;32mif\u001b[0m \u001b[0merrors\u001b[0m \u001b[0;34m!=\u001b[0m \u001b[0;34m'ignore'\u001b[0m\u001b[0;34m:\u001b[0m\u001b[0;34m\u001b[0m\u001b[0;34m\u001b[0m\u001b[0m\n\u001b[1;32m   4964\u001b[0m                 raise KeyError(\n\u001b[0;32m-> 4965\u001b[0;31m                     '{} not found in axis'.format(labels[mask]))\n\u001b[0m\u001b[1;32m   4966\u001b[0m             \u001b[0mindexer\u001b[0m \u001b[0;34m=\u001b[0m \u001b[0mindexer\u001b[0m\u001b[0;34m[\u001b[0m\u001b[0;34m~\u001b[0m\u001b[0mmask\u001b[0m\u001b[0;34m]\u001b[0m\u001b[0;34m\u001b[0m\u001b[0;34m\u001b[0m\u001b[0m\n\u001b[1;32m   4967\u001b[0m         \u001b[0;32mreturn\u001b[0m \u001b[0mself\u001b[0m\u001b[0;34m.\u001b[0m\u001b[0mdelete\u001b[0m\u001b[0;34m(\u001b[0m\u001b[0mindexer\u001b[0m\u001b[0;34m)\u001b[0m\u001b[0;34m\u001b[0m\u001b[0;34m\u001b[0m\u001b[0m\n",
      "\u001b[0;31mKeyError\u001b[0m: '[2914744 2931418 2934929 2939226 2941399 2942324 2950082 2951227 2972146\\n 2975217 2975263 2975270 2975303 2975316 2975321 2975333 2975339 2975377\\n 2975385 2975389 2979903 2980923 2995632 2996678 2996697 2998592 3002153\\n 3006563 3015437 3015441 3034528 3034812 3036712 3041149 3046544 3046570\\n 3047690 3050611 3065451 3066677 3066691 3067879 3070029 3073577 3075018\\n 3080013 3082434 3082732 3084075 3085388 3087801 3088988 3089872 3104396\\n 3108138 3108306 3109547 3110825 3111878 3112811 3112875 3121204 3121253\\n 3121272 3121281 3124837 3126174 3127259 3127443 3141211 3141223 3154833\\n 3155899 3158325 3161196 3162448 3162535 3163719 3164823 3164869 3184500\\n 3187171 3191454 3195090 3195140 3197490 3197574 3216168 3218392 3218476\\n 3222661 3223776 3224837 3227161 3234465 3239387 3239444 3239490 3252053\\n 3252412 3253351 3258127 3260199 3260434 3262770 3265031 3267331 3271091\\n 3273255 3273391 3276930 3288694 3293098 3295597 3296850 3298762 3302048\\n 3302483 3303960 3304377 3304969 3307063 3309386 3323402 3323417 3323420\\n 3325199 3325640 3325767 3325812 3328060 3332582 3335758 3335853 3344089\\n 3344331 3344447 3356802 3357981 3365821 3377819 3391007 3391846 3394279\\n 3395462 3395482 3398058 3399141 3399237 3403454 3410008 3424249 3425431\\n 3430244 3432413 3434836 3441250 3444587 3444688 3445893 3462108 3462767\\n 3463009 3465323 3466510 3470160 3470590 3471102 3472384 3494496 3498189\\n 3503806 3507373 3512608 3514084 3516133 3517381 3519957 3521138 3534613\\n 3534705 3534799 3557633 3557923 3558885 3558967 3571240 3576312 3576395\\n 3578967 3582900 3582906 3585258 3587700 3588855 3591451 3591467 3592264\\n 3592711 3597510 3597581 3609980 3609997 3611130 3612188 3612240 3612256\\n 3614171 3614752 3615732 3615785 3618502 3618528 3621619 3621684 3627518\\n 3628939 3633415 3655695 3659538 3659655 3659661 3659709 3665922 3670669\\n 3670967 3684298 3695263 3695325 3696273 3697298 3699584 3705122 3707082\\n 3708258 3720808 3721669 3725125 3725330 3726636 3727879 3728824 3733677\\n 3733729 3733743 3735185 3736390 3737365 3738562 3739776 3740946 3756338\\n 3757781 3757824 3760279 3762634 3763756 3768970 3770980 3770998 3771041\\n 3776671 3777580 3778803 3792373 3792431 3792443 3792483 3793408 3793552\\n 3793571 3803005 3803060 3805191 3806563 3806647 3810125 3811228 3812574\\n 3826121 3826149 3829124 3832797 3838544 3839633 3839757 3845088 3858635\\n 3858703 3861048 3864875 3865750 3866715 3867026 3869398 3881250 3882339\\n 3897606 3899657 3899726 3901021 3903457 3905528 3905556 3905736 3905881\\n 3906854 3906877 3907842 3907914 3908971 3909189 3909194 3909245 3910360\\n 3910471 3911676 3912835 3913080 3913116 3914183 3915299 3931796 3931902\\n 3931938 3932011 3935169 3935407 3940378 3940535 3940554 3940579 3941482\\n 3943950 3946661 3953913 3955008 3955095 3955179 3969284 3969343 3974690\\n 3976899 3979319 3980598 3980720 3981946 3982958 3984162 3984225 3984402\\n 3985465 3985506 3986610] not found in axis'"
     ]
    }
   ],
   "source": [
    "calls17.drop(indt, axis=0, inplace=True)\n",
    "\n",
    "#remove repetitive columns\n",
    "calls_tosql = calls17.drop(columns =[\"year\",\"day\", \"month\", \"time\", \"Precinct\", \"Sector\", \"Arrived Time\"])\n",
    "calls_tosql.set_index(\"epoch_calls\", inplace=True)\n",
    "\n"
   ]
  },
  {
   "cell_type": "code",
   "execution_count": 8,
   "metadata": {},
   "outputs": [
    {
     "name": "stderr",
     "output_type": "stream",
     "text": [
      "/Users/sarahburgart/anaconda3/lib/python3.7/site-packages/pandas/core/generic.py:2531: UserWarning: The spaces in these column names will not be changed. In pandas versions < 0.14, spaces were converted to underscores.\n",
      "  dtype=dtype, method=method)\n"
     ]
    }
   ],
   "source": [
    "# create engine\n",
    "cnx = sqlite3.connect('calls.sqlite')\n",
    "\n",
    "# create cursor\n",
    "cur = cnx.cursor()\n",
    "\n",
    "\n",
    "# move calls to sqlite table - DONT REPEAT\n",
    "calls_tosql.to_sql(\"log\", con=cnx, index=True, if_exists=\"replace\")"
   ]
  },
  {
   "cell_type": "code",
   "execution_count": 10,
   "metadata": {},
   "outputs": [
    {
     "data": {
      "text/plain": [
       "PREMISE CHECK, OFFICER INITIATED ONVIEW ONLY        134965\n",
       "SUSPICIOUS PERSON, VEHICLE OR INCIDENT               85409\n",
       "TRAFFIC STOP - OFFICER INITIATED ONVIEW              81267\n",
       "DISTURBANCE, MISCELLANEOUS/OTHER                     71710\n",
       "OFF DUTY EMPLOYMENT                                  55398\n",
       "THEFT (DOES NOT INCLUDE SHOPLIFT OR SVCS)            43038\n",
       "DIRECTED PATROL ACTIVITY                             40320\n",
       "NUISANCE - MISCHIEF                                  36041\n",
       "SUSPICIOUS STOP - OFFICER INITIATED ONVIEW           35070\n",
       "PARKING VIOLATION (EXCEPT ABANDONED CAR)             33522\n",
       "TRESPASS                                             32495\n",
       "FOLLOW UP                                            27906\n",
       "SHOPLIFT - THEFT                                     23003\n",
       "BURG - RES (INCL UNOCC STRUCTURES ON PROP)           22585\n",
       "ALARM - RESIDENTIAL - BURGLARY, SILENT/AUDIBLE       21609\n",
       "ALARM - COMM, SILENT/AUD BURG (INCL BANKS)           20888\n",
       "NARCOTICS - VIOLATIONS (LOITER, USE, SELL, NARS)     20290\n",
       "AUTO THEFT - VEH THEFT OR THEFT & RECOVERY           18389\n",
       "SERVICE - WELFARE CHECK                              18134\n",
       "HAZ - POTENTIAL THRT TO PHYS SAFETY (NO HAZMAT)      17916\n",
       "MVC - REPORT, NON INJ/NON BLKG OR AFTER FACT INJ     17639\n",
       "ASLT - IP/JO - WITH OR W/O WPNS (NO SHOOTINGS)       15941\n",
       "MVC - HIT AND RUN (NON INJURY), INCLUDES IP/JO       15720\n",
       "TRU - THEFT                                          14873\n",
       "AUTO RECOVERY                                        14574\n",
       "PROPERTY - DAMAGE                                    13774\n",
       "TRU - MVC - HIT AND RUN                              13613\n",
       "THREATS (INCLS IN-PERSON/BY PHONE/IN WRITING)        13385\n",
       "DOWN - CHECK FOR PERSON DOWN                         13351\n",
       "PERSON IN BEHAVIORAL/EMOTIONAL CRISIS                12761\n",
       "                                                     ...  \n",
       "JUVENILE - HARBORING A MINOR                             3\n",
       "--ASSAULTS, OTHER                                        3\n",
       "-DOWN TIME - OUT OF SERVICE                              3\n",
       "AMBER - POST ACTIVATION SEARCH                           3\n",
       "STRUCTURE - COLLAPSED, DAMAGED                           2\n",
       "--PERSON - RUNAWAY                                       2\n",
       "PURSUIT (FOOT OR VEHICLE)                                2\n",
       "UNUSUAL OCCURRENCES - EARTHQUAKE, RIOT, ETC)             2\n",
       "--TRAFFIC - MV COLLISION INVESTIGATION                   2\n",
       "--THEFT - ALL OTHER                                      2\n",
       "--ROBBERY - STRONG ARM                                   2\n",
       "--ALARM-COMM (INC BANK, ATM, SCHOOLS, BSN)               2\n",
       "--FRAUD - FRAUD, INCLUDING BUNCO                         2\n",
       "--PROPERTY DEST (DAMG)                                   1\n",
       "--PERSON - A.W.O.L.                                      1\n",
       "RESCUE OF PERSON                                         1\n",
       "--TRAFFIC - D.U.I.                                       1\n",
       "TRU - LITTERING                                          1\n",
       "ACC - WITH INJURIES (INCLUDES HIT AND RUN)               1\n",
       "--WARRANT SERVICES - FELONY                              1\n",
       "SECONDARY - THEFT OF SERVICES                            1\n",
       "ALARM - DV - DURESS/PANIC                                1\n",
       "--AUTOMOBILES - AUTO THEFT                               1\n",
       "--THEFT - CAR PROWL                                      1\n",
       "--NARCOTICS - OTHER                                      1\n",
       "--MISCHIEF OR NUISANCE - GENERAL                         1\n",
       "AMBER - TIP SHEET ONLY                                   1\n",
       "ALARM - NO RESPONSE STATUS                               1\n",
       "--BURGLARY - RESIDENTIAL, UNOCCUPIED                     1\n",
       "SECONDARY - SAMPLE/TEST CALL                             1\n",
       "Name: Initial Call Type, Length: 287, dtype: int64"
      ]
     },
     "execution_count": 10,
     "metadata": {},
     "output_type": "execute_result"
    }
   ],
   "source": [
    "calls17[\"Initial Call Type\"].value_counts()"
   ]
  },
  {
   "cell_type": "code",
   "execution_count": null,
   "metadata": {},
   "outputs": [],
   "source": []
  }
 ],
 "metadata": {
  "kernelspec": {
   "display_name": "Python 3",
   "language": "python",
   "name": "python3"
  },
  "language_info": {
   "codemirror_mode": {
    "name": "ipython",
    "version": 3
   },
   "file_extension": ".py",
   "mimetype": "text/x-python",
   "name": "python",
   "nbconvert_exporter": "python",
   "pygments_lexer": "ipython3",
   "version": "3.7.3"
  }
 },
 "nbformat": 4,
 "nbformat_minor": 2
}
