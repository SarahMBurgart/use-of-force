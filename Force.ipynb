{
 "cells": [
  {
   "cell_type": "code",
   "execution_count": 1,
   "metadata": {},
   "outputs": [],
   "source": [
    "import pandas as pd\n",
    "from datetime import datetime\n",
    "\n",
    "import matplotlib.pyplot as plt\n",
    "import numpy as np\n",
    "from datetime import datetime\n",
    "from sklearn.decomposition import PCA\n",
    "from sklearn.preprocessing import StandardScaler, OneHotEncoder\n",
    "from sklearn.ensemble import RandomForestClassifier, GradientBoostingClassifier\n",
    "from sklearn.model_selection import train_test_split\n",
    "from sklearn.inspection import plot_partial_dependence\n",
    "from sklearn.inspection import partial_dependence \n",
    "\n",
    "\n",
    "%matplotlib inline"
   ]
  },
  {
   "cell_type": "code",
   "execution_count": 2,
   "metadata": {},
   "outputs": [],
   "source": [
    "# function to convert datetime object to 4 - for force ONLY\n",
    "def datetime(df, col_as_str):\n",
    "    yearmonthday = df[col_as_str].astype(str).str.split(\" \")\n",
    "    ymd = yearmonthday.apply(lambda x: x[0]).str.split(\"/\")\n",
    "    year = ymd.apply(lambda x: x[2])\n",
    "    month = ymd.apply(lambda x: x[0])\n",
    "    day = ymd.apply(lambda x: x[1])\n",
    "    time = ymd = yearmonthday.apply(lambda x: x[1]+x[2]).astype(str)\n",
    "    df[\"year\"] = year\n",
    "    df[\"month\"] = month\n",
    "    df[\"day\"] = day\n",
    "    df[\"time\"] = time\n",
    "    # apply(lambda x: pd.to_datetime(x, format=\"%H%M\"))\n",
    "    return df"
   ]
  },
  {
   "cell_type": "code",
   "execution_count": 191,
   "metadata": {},
   "outputs": [],
   "source": [
    "force = pd.read_csv(\"data/Use_Of_Force.csv\")"
   ]
  },
  {
   "cell_type": "code",
   "execution_count": 192,
   "metadata": {},
   "outputs": [],
   "source": [
    "force = datetime(force,\"Occured_date_time\" )\n",
    "foo = pd.to_datetime( force.Occured_date_time )\n",
    "epoch_second = foo.map(lambda x:x.value/1e9)\n",
    "force[\"epoch\"] = epoch_second\n",
    "\n",
    "force[\"day_of_week\"] = foo.dt.dayofweek"
   ]
  },
  {
   "cell_type": "code",
   "execution_count": 193,
   "metadata": {},
   "outputs": [],
   "source": [
    "# Function to convert the date format \n",
    "def convert24(str1): \n",
    "    \n",
    "    \n",
    "      \n",
    "    # Checking if last two elements of time \n",
    "    # is AM and first two elements are 12 \n",
    "    if str1[-2:] == \"AM\" and str1[:2] == \"12\": \n",
    "        return (int(\"00\" + str1[3:5])/100)\n",
    "          \n",
    "    # remove the AM     \n",
    "    elif str1[-2:] == \"AM\": \n",
    "        return (int(str1[:2] + str1[3:5])/100)\n",
    "      \n",
    "    # Checking if last two elements of time \n",
    "    # is PM and first two elements are 12    \n",
    "    elif str1[-2:] == \"PM\" and str1[:2] == \"12\": \n",
    "        return (int(str1[:2] + str1[3:5])/100)\n",
    "          \n",
    "    else: \n",
    "          \n",
    "        # add 12 to hours and remove PM \n",
    "        return (int(str(int(str1[:2]) + 12) + str1[3:5])/100)"
   ]
  },
  {
   "cell_type": "code",
   "execution_count": 194,
   "metadata": {},
   "outputs": [],
   "source": [
    "force[\"time\"] = force[\"time\"].apply(lambda x: convert24(x))\n"
   ]
  },
  {
   "cell_type": "code",
   "execution_count": 195,
   "metadata": {},
   "outputs": [
    {
     "data": {
      "text/plain": [
       "Incident_Type           Subject_Race                   Subject_Gender\n",
       "Level 1 - Use of Force  American Indian/Alaska Native  Female              32\n",
       "                                                       Male                38\n",
       "                        Asian                          Female              78\n",
       "                                                       Male               200\n",
       "                                                       Not Specified        1\n",
       "                        Black or African American      Female             499\n",
       "                                                       Male              1964\n",
       "                                                       Not Specified        3\n",
       "                        Hispanic or Latino             Female              22\n",
       "                                                       Male               304\n",
       "                                                       Not Specified        1\n",
       "                        Nat Hawaiian/Oth Pac Islander  Female              10\n",
       "                                                       Male                36\n",
       "                        Not Specified                  Female             327\n",
       "                                                       Male               871\n",
       "                                                       Not Specified      111\n",
       "                        White                          Female             857\n",
       "                                                       Male              2110\n",
       "                                                       Not Specified       10\n",
       "Level 2 - Use of Force  American Indian/Alaska Native  Female               6\n",
       "                                                       Male                18\n",
       "                        Asian                          Female               5\n",
       "                                                       Male                73\n",
       "                        Black or African American      Female              62\n",
       "                                                       Male               642\n",
       "                                                       Not Specified        1\n",
       "                        Hispanic or Latino             Female               4\n",
       "                                                       Male                68\n",
       "                        Nat Hawaiian/Oth Pac Islander  Female               1\n",
       "                                                       Male                14\n",
       "                        Not Specified                  Female              35\n",
       "                                                       Male               245\n",
       "                                                       Not Specified       89\n",
       "                        White                          Female              88\n",
       "                                                       Male               829\n",
       "                                                       Not Specified        5\n",
       "Level 3 - OIS           Asian                          Male                 5\n",
       "                        Black or African American      Female               8\n",
       "                                                       Male                18\n",
       "                        Nat Hawaiian/Oth Pac Islander  Male                 1\n",
       "                        Not Specified                  Male                 4\n",
       "                        White                          Female               4\n",
       "                                                       Male                34\n",
       "Level 3 - Use of Force  American Indian/Alaska Native  Male                 4\n",
       "                        Asian                          Female               1\n",
       "                                                       Male                 5\n",
       "                        Black or African American      Female               4\n",
       "                                                       Male                28\n",
       "                        Hispanic or Latino             Male                 2\n",
       "                        Nat Hawaiian/Oth Pac Islander  Male                 2\n",
       "                        Not Specified                  Female               3\n",
       "                                                       Male                10\n",
       "                        White                          Female               8\n",
       "                                                       Male                38\n",
       "Name: Precinct, dtype: int64"
      ]
     },
     "execution_count": 195,
     "metadata": {},
     "output_type": "execute_result"
    }
   ],
   "source": [
    "force.groupby([\"Incident_Type\", \"Subject_Race\", \"Subject_Gender\"])[\"Precinct\"].count()"
   ]
  },
  {
   "cell_type": "code",
   "execution_count": 196,
   "metadata": {},
   "outputs": [
    {
     "name": "stdout",
     "output_type": "stream",
     "text": [
      "<class 'pandas.core.frame.DataFrame'>\n",
      "RangeIndex: 9838 entries, 0 to 9837\n",
      "Data columns (total 17 columns):\n",
      "ID                   9838 non-null object\n",
      "Incident_Num         9838 non-null int64\n",
      "Incident_Type        9838 non-null object\n",
      "Occured_date_time    9838 non-null object\n",
      "Precinct             9838 non-null object\n",
      "Sector               9838 non-null object\n",
      "Beat                 9838 non-null object\n",
      "Officer_ID           9838 non-null int64\n",
      "Subject_ID           9838 non-null int64\n",
      "Subject_Race         9838 non-null object\n",
      "Subject_Gender       9838 non-null object\n",
      "year                 9838 non-null object\n",
      "month                9838 non-null object\n",
      "day                  9838 non-null object\n",
      "time                 9838 non-null float64\n",
      "epoch                9838 non-null float64\n",
      "day_of_week          9838 non-null int64\n",
      "dtypes: float64(2), int64(4), object(11)\n",
      "memory usage: 1.3+ MB\n"
     ]
    }
   ],
   "source": [
    "force.info()"
   ]
  },
  {
   "cell_type": "code",
   "execution_count": 197,
   "metadata": {},
   "outputs": [
    {
     "data": {
      "text/plain": [
       "(4, 6, 12, 9838)"
      ]
     },
     "execution_count": 197,
     "metadata": {},
     "output_type": "execute_result"
    }
   ],
   "source": [
    "len(force.Incident_Type.value_counts()), len(force.year.value_counts()), len(force.month.value_counts()), len(force)\n"
   ]
  },
  {
   "cell_type": "code",
   "execution_count": 198,
   "metadata": {},
   "outputs": [
    {
     "data": {
      "text/plain": [
       "Level 1 - Use of Force    7474\n",
       "Level 2 - Use of Force    2185\n",
       "Level 3 - Use of Force     105\n",
       "Level 3 - OIS               74\n",
       "Name: Incident_Type, dtype: int64"
      ]
     },
     "execution_count": 198,
     "metadata": {},
     "output_type": "execute_result"
    }
   ],
   "source": [
    "force.Incident_Type.value_counts()"
   ]
  },
  {
   "cell_type": "code",
   "execution_count": 199,
   "metadata": {},
   "outputs": [],
   "source": [
    "force1 = force[force[\"Incident_Type\"] == \"Level 1 - Use of Force\"]\n",
    "force2 = force[force[\"Incident_Type\"] == \"Level 2 - Use of Force\"]\n",
    "force3 = force[force[\"Incident_Type\"] == \"Level 3 - Use of Force\"]\n",
    "forceOIS = force[force[\"Incident_Type\"] == \"Level 3 - OIS\"]"
   ]
  },
  {
   "cell_type": "code",
   "execution_count": 200,
   "metadata": {},
   "outputs": [],
   "source": [
    "f1b = force1.Beat.value_counts()\n",
    "f2b = force2.Beat.value_counts()\n",
    "f3b = force3.Beat.value_counts()\n",
    "fOISb = forceOIS.Beat.value_counts()\n",
    "force_beats = pd.DataFrame({\"force1\":f1b, \"force2\":f2b, \"force3\": f3b,\"forceOIS\": fOISb})"
   ]
  },
  {
   "cell_type": "code",
   "execution_count": 201,
   "metadata": {},
   "outputs": [],
   "source": [
    "force_beats.fillna(0, inplace=True)\n"
   ]
  },
  {
   "cell_type": "code",
   "execution_count": 202,
   "metadata": {},
   "outputs": [
    {
     "data": {
      "text/plain": [
       "0     1.40\n",
       "1     4.15\n",
       "2    18.58\n",
       "3    13.19\n",
       "4    23.04\n",
       "Name: time, dtype: float64"
      ]
     },
     "execution_count": 202,
     "metadata": {},
     "output_type": "execute_result"
    }
   ],
   "source": [
    "force.time.head()"
   ]
  },
  {
   "cell_type": "code",
   "execution_count": 203,
   "metadata": {},
   "outputs": [
    {
     "data": {
      "text/plain": [
       "(int, int)"
      ]
     },
     "execution_count": 203,
     "metadata": {},
     "output_type": "execute_result"
    }
   ],
   "source": [
    "y = 4\n",
    "ys = categorize_time(y)\n",
    "type(ys), type(y)"
   ]
  },
  {
   "cell_type": "code",
   "execution_count": 204,
   "metadata": {},
   "outputs": [],
   "source": [
    "def categorize_time(x):\n",
    "    if 18<=x<21:\n",
    "        x = 18\n",
    "    elif 21<=x <23.59:\n",
    "        x = 21\n",
    "    elif 0<=x < 3:\n",
    "        x = 0\n",
    "    elif 3<= x < 6:\n",
    "        x = 3\n",
    "    elif 6<= x <9:\n",
    "        x = 6\n",
    "    elif 9<= x < 12:\n",
    "        x = 9\n",
    "    elif 12<= x <15:\n",
    "        x = 12\n",
    "    elif 15<= x < 18:\n",
    "        x = 15\n",
    "    return x"
   ]
  },
  {
   "cell_type": "code",
   "execution_count": 205,
   "metadata": {},
   "outputs": [],
   "source": [
    "force[\"time\"] = force[\"time\"].apply(lambda x: categorize_time(x))"
   ]
  },
  {
   "cell_type": "code",
   "execution_count": 152,
   "metadata": {},
   "outputs": [],
   "source": [
    "X = force[[\"month\", \"day\", \"day_of_week\", \"time\", \"Subject_Race\", \"Subject_Gender\", \"Precinct\", \"Sector\", \"Beat\"]]\n",
    "y = force[\"Incident_Type\"]\n",
    "\n"
   ]
  },
  {
   "cell_type": "code",
   "execution_count": 122,
   "metadata": {},
   "outputs": [
    {
     "name": "stdout",
     "output_type": "stream",
     "text": [
      "<class 'pandas.core.frame.DataFrame'>\n",
      "RangeIndex: 9838 entries, 0 to 9837\n",
      "Data columns (total 5 columns):\n",
      "Subject_Race      9838 non-null object\n",
      "Subject_Gender    9838 non-null object\n",
      "Precinct          9838 non-null object\n",
      "Sector            9838 non-null object\n",
      "Beat              9838 non-null object\n",
      "dtypes: object(5)\n",
      "memory usage: 384.4+ KB\n"
     ]
    }
   ],
   "source": [
    "X.info(verbose=True)"
   ]
  },
  {
   "cell_type": "code",
   "execution_count": 153,
   "metadata": {},
   "outputs": [],
   "source": [
    "# makes more sense to use all the data - bc time of year could change the outcome as well\n",
    "\n",
    "enc = OneHotEncoder()"
   ]
  },
  {
   "cell_type": "code",
   "execution_count": 155,
   "metadata": {},
   "outputs": [
    {
     "data": {
      "text/plain": [
       "OneHotEncoder(categorical_features=None, categories=None, drop=None,\n",
       "              dtype=<class 'numpy.float64'>, handle_unknown='error',\n",
       "              n_values=None, sparse=True)"
      ]
     },
     "execution_count": 155,
     "metadata": {},
     "output_type": "execute_result"
    }
   ],
   "source": [
    "enc.fit(X)"
   ]
  },
  {
   "cell_type": "code",
   "execution_count": 156,
   "metadata": {},
   "outputs": [],
   "source": [
    "XT = enc.transform(X)"
   ]
  },
  {
   "cell_type": "code",
   "execution_count": 127,
   "metadata": {},
   "outputs": [
    {
     "data": {
      "text/plain": [
       "scipy.sparse.csr.csr_matrix"
      ]
     },
     "execution_count": 127,
     "metadata": {},
     "output_type": "execute_result"
    }
   ],
   "source": [
    "type(XT)"
   ]
  },
  {
   "cell_type": "code",
   "execution_count": 157,
   "metadata": {},
   "outputs": [],
   "source": [
    "data = XT.data"
   ]
  },
  {
   "cell_type": "code",
   "execution_count": 129,
   "metadata": {},
   "outputs": [
    {
     "data": {
      "text/plain": [
       "((9838, 91), (9838,))"
      ]
     },
     "execution_count": 129,
     "metadata": {},
     "output_type": "execute_result"
    }
   ],
   "source": [
    "XT.shape, y.shape"
   ]
  },
  {
   "cell_type": "code",
   "execution_count": 158,
   "metadata": {},
   "outputs": [],
   "source": [
    "X_train, X_test, y_train, y_test = train_test_split(XT, y, test_size=0.2, random_state=659)"
   ]
  },
  {
   "cell_type": "code",
   "execution_count": 159,
   "metadata": {},
   "outputs": [],
   "source": [
    "rdf = RandomForestClassifier(oob_score=True, random_state=659)"
   ]
  },
  {
   "cell_type": "code",
   "execution_count": 160,
   "metadata": {},
   "outputs": [
    {
     "name": "stderr",
     "output_type": "stream",
     "text": [
      "/Users/sarahburgart/anaconda3/lib/python3.7/site-packages/sklearn/ensemble/forest.py:245: FutureWarning: The default value of n_estimators will change from 10 in version 0.20 to 100 in 0.22.\n",
      "  \"10 in version 0.20 to 100 in 0.22.\", FutureWarning)\n",
      "/Users/sarahburgart/anaconda3/lib/python3.7/site-packages/sklearn/ensemble/forest.py:460: UserWarning: Some inputs do not have OOB scores. This probably means too few trees were used to compute any reliable oob estimates.\n",
      "  warn(\"Some inputs do not have OOB scores. \"\n",
      "/Users/sarahburgart/anaconda3/lib/python3.7/site-packages/sklearn/ensemble/forest.py:465: RuntimeWarning: divide by zero encountered in true_divide\n",
      "  predictions[k].sum(axis=1)[:, np.newaxis])\n",
      "/Users/sarahburgart/anaconda3/lib/python3.7/site-packages/sklearn/ensemble/forest.py:465: RuntimeWarning: invalid value encountered in true_divide\n",
      "  predictions[k].sum(axis=1)[:, np.newaxis])\n"
     ]
    },
    {
     "data": {
      "text/plain": [
       "RandomForestClassifier(bootstrap=True, class_weight=None, criterion='gini',\n",
       "                       max_depth=None, max_features='auto', max_leaf_nodes=None,\n",
       "                       min_impurity_decrease=0.0, min_impurity_split=None,\n",
       "                       min_samples_leaf=1, min_samples_split=2,\n",
       "                       min_weight_fraction_leaf=0.0, n_estimators=10,\n",
       "                       n_jobs=None, oob_score=True, random_state=659, verbose=0,\n",
       "                       warm_start=False)"
      ]
     },
     "execution_count": 160,
     "metadata": {},
     "output_type": "execute_result"
    }
   ],
   "source": [
    "rdf.fit(X_train, y_train)"
   ]
  },
  {
   "cell_type": "code",
   "execution_count": 133,
   "metadata": {},
   "outputs": [],
   "source": [
    "yhat = rdf.predict(X_test)"
   ]
  },
  {
   "cell_type": "code",
   "execution_count": 161,
   "metadata": {},
   "outputs": [
    {
     "data": {
      "text/plain": [
       "0.8556910569105691"
      ]
     },
     "execution_count": 161,
     "metadata": {},
     "output_type": "execute_result"
    }
   ],
   "source": [
    "rdf.score(X_test, y_test)"
   ]
  },
  {
   "cell_type": "code",
   "execution_count": 164,
   "metadata": {},
   "outputs": [],
   "source": [
    "indices = np.argsort(rdf.feature_importances_)\n",
    "inds = indices[-10:]\n"
   ]
  },
  {
   "cell_type": "code",
   "execution_count": 165,
   "metadata": {},
   "outputs": [],
   "source": [
    "arrs = []\n",
    "for arr in enc.categories_:\n",
    "    for col in arr:\n",
    "        arrs.append(col)\n",
    "   "
   ]
  },
  {
   "cell_type": "code",
   "execution_count": 166,
   "metadata": {},
   "outputs": [
    {
     "name": "stdout",
     "output_type": "stream",
     "text": [
      "0\n",
      "05\n",
      "4\n",
      "Female\n",
      "2\n",
      "Male\n",
      "6\n",
      "3\n",
      "Black or African American\n",
      "White\n"
     ]
    }
   ],
   "source": [
    "\n",
    "for idx in inds:\n",
    "    print(arrs[idx])\n"
   ]
  },
  {
   "cell_type": "code",
   "execution_count": 53,
   "metadata": {},
   "outputs": [],
   "source": [
    "X = pd.get_dummies(data = X, \n",
    "                     columns=[\"Subject_Gender\", \"Subject_Race\", \n",
    "                             \"Precinct\", \"Sector\", \"Beat\"], \n",
    "                     prefix=[\"Subject_Gender\", \"Subject_Race\", \n",
    "                             \"Precinct\", \"Sector\", \"Beat\"])"
   ]
  },
  {
   "cell_type": "code",
   "execution_count": 54,
   "metadata": {},
   "outputs": [],
   "source": [
    "X_train, X_test, y_train, y_test = train_test_split(X, y, test_size=0.2, random_state=659)"
   ]
  },
  {
   "cell_type": "code",
   "execution_count": 55,
   "metadata": {},
   "outputs": [],
   "source": [
    "rf = RandomForestClassifier(oob_score=True, random_state=659)"
   ]
  },
  {
   "cell_type": "code",
   "execution_count": 56,
   "metadata": {},
   "outputs": [
    {
     "name": "stderr",
     "output_type": "stream",
     "text": [
      "/Users/sarahburgart/anaconda3/lib/python3.7/site-packages/sklearn/ensemble/forest.py:245: FutureWarning: The default value of n_estimators will change from 10 in version 0.20 to 100 in 0.22.\n",
      "  \"10 in version 0.20 to 100 in 0.22.\", FutureWarning)\n",
      "/Users/sarahburgart/anaconda3/lib/python3.7/site-packages/sklearn/ensemble/forest.py:460: UserWarning: Some inputs do not have OOB scores. This probably means too few trees were used to compute any reliable oob estimates.\n",
      "  warn(\"Some inputs do not have OOB scores. \"\n",
      "/Users/sarahburgart/anaconda3/lib/python3.7/site-packages/sklearn/ensemble/forest.py:465: RuntimeWarning: divide by zero encountered in true_divide\n",
      "  predictions[k].sum(axis=1)[:, np.newaxis])\n",
      "/Users/sarahburgart/anaconda3/lib/python3.7/site-packages/sklearn/ensemble/forest.py:465: RuntimeWarning: invalid value encountered in true_divide\n",
      "  predictions[k].sum(axis=1)[:, np.newaxis])\n"
     ]
    },
    {
     "data": {
      "text/plain": [
       "RandomForestClassifier(bootstrap=True, class_weight=None, criterion='gini',\n",
       "                       max_depth=None, max_features='auto', max_leaf_nodes=None,\n",
       "                       min_impurity_decrease=0.0, min_impurity_split=None,\n",
       "                       min_samples_leaf=1, min_samples_split=2,\n",
       "                       min_weight_fraction_leaf=0.0, n_estimators=10,\n",
       "                       n_jobs=None, oob_score=True, random_state=659, verbose=0,\n",
       "                       warm_start=False)"
      ]
     },
     "execution_count": 56,
     "metadata": {},
     "output_type": "execute_result"
    }
   ],
   "source": [
    "rf.fit(X_train, y_train)"
   ]
  },
  {
   "cell_type": "code",
   "execution_count": 57,
   "metadata": {},
   "outputs": [
    {
     "data": {
      "text/plain": [
       "0.8648373983739838"
      ]
     },
     "execution_count": 57,
     "metadata": {},
     "output_type": "execute_result"
    }
   ],
   "source": [
    "rf.score(X_test, y_test)"
   ]
  },
  {
   "cell_type": "code",
   "execution_count": 142,
   "metadata": {},
   "outputs": [
    {
     "ename": "IndexError",
     "evalue": "index 15 is out of bounds for axis 0 with size 5",
     "output_type": "error",
     "traceback": [
      "\u001b[0;31m---------------------------------------------------------------------------\u001b[0m",
      "\u001b[0;31mIndexError\u001b[0m                                Traceback (most recent call last)",
      "\u001b[0;32m<ipython-input-142-151a333eb966>\u001b[0m in \u001b[0;36m<module>\u001b[0;34m\u001b[0m\n\u001b[1;32m      3\u001b[0m \u001b[0mbig\u001b[0m \u001b[0;34m=\u001b[0m \u001b[0mindices\u001b[0m\u001b[0;34m[\u001b[0m\u001b[0;34m-\u001b[0m\u001b[0;36m10\u001b[0m\u001b[0;34m:\u001b[0m\u001b[0;34m]\u001b[0m\u001b[0;34m\u001b[0m\u001b[0;34m\u001b[0m\u001b[0m\n\u001b[1;32m      4\u001b[0m \u001b[0mcols\u001b[0m \u001b[0;34m=\u001b[0m \u001b[0mX\u001b[0m\u001b[0;34m.\u001b[0m\u001b[0mcolumns\u001b[0m\u001b[0;34m\u001b[0m\u001b[0;34m\u001b[0m\u001b[0m\n\u001b[0;32m----> 5\u001b[0;31m \u001b[0mcols\u001b[0m\u001b[0;34m[\u001b[0m\u001b[0mbig\u001b[0m\u001b[0;34m]\u001b[0m\u001b[0;34m\u001b[0m\u001b[0;34m\u001b[0m\u001b[0m\n\u001b[0m",
      "\u001b[0;32m~/anaconda3/lib/python3.7/site-packages/pandas/core/indexes/base.py\u001b[0m in \u001b[0;36m__getitem__\u001b[0;34m(self, key)\u001b[0m\n\u001b[1;32m   3967\u001b[0m \u001b[0;34m\u001b[0m\u001b[0m\n\u001b[1;32m   3968\u001b[0m         \u001b[0mkey\u001b[0m \u001b[0;34m=\u001b[0m \u001b[0mcom\u001b[0m\u001b[0;34m.\u001b[0m\u001b[0mvalues_from_object\u001b[0m\u001b[0;34m(\u001b[0m\u001b[0mkey\u001b[0m\u001b[0;34m)\u001b[0m\u001b[0;34m\u001b[0m\u001b[0;34m\u001b[0m\u001b[0m\n\u001b[0;32m-> 3969\u001b[0;31m         \u001b[0mresult\u001b[0m \u001b[0;34m=\u001b[0m \u001b[0mgetitem\u001b[0m\u001b[0;34m(\u001b[0m\u001b[0mkey\u001b[0m\u001b[0;34m)\u001b[0m\u001b[0;34m\u001b[0m\u001b[0;34m\u001b[0m\u001b[0m\n\u001b[0m\u001b[1;32m   3970\u001b[0m         \u001b[0;32mif\u001b[0m \u001b[0;32mnot\u001b[0m \u001b[0mis_scalar\u001b[0m\u001b[0;34m(\u001b[0m\u001b[0mresult\u001b[0m\u001b[0;34m)\u001b[0m\u001b[0;34m:\u001b[0m\u001b[0;34m\u001b[0m\u001b[0;34m\u001b[0m\u001b[0m\n\u001b[1;32m   3971\u001b[0m             \u001b[0;32mreturn\u001b[0m \u001b[0mpromote\u001b[0m\u001b[0;34m(\u001b[0m\u001b[0mresult\u001b[0m\u001b[0;34m)\u001b[0m\u001b[0;34m\u001b[0m\u001b[0;34m\u001b[0m\u001b[0m\n",
      "\u001b[0;31mIndexError\u001b[0m: index 15 is out of bounds for axis 0 with size 5"
     ]
    }
   ],
   "source": [
    "# most important features\n",
    "indices = np.argsort(rf.feature_importances_)\n",
    "big = indices[-10:]\n",
    "cols = X.columns\n",
    "cols[big]"
   ]
  },
  {
   "cell_type": "code",
   "execution_count": 59,
   "metadata": {},
   "outputs": [
    {
     "data": {
      "text/plain": [
       "[0.009074258700210088,\n",
       " 0.01069906746826961,\n",
       " 0.015328404396293705,\n",
       " 0.01665047999728756,\n",
       " 0.02045204033510796,\n",
       " 0.023434961506206085,\n",
       " 0.11285092024719348,\n",
       " 0.13272988780083372,\n",
       " 0.17100353196302862,\n",
       " 0.25109350909943956]"
      ]
     },
     "execution_count": 59,
     "metadata": {},
     "output_type": "execute_result"
    }
   ],
   "source": [
    "sorted(rf.feature_importances_)[-10:]"
   ]
  },
  {
   "cell_type": "code",
   "execution_count": 100,
   "metadata": {},
   "outputs": [
    {
     "data": {
      "image/png": "[encoded data removed]",
      "text/plain": [
       "<Figure size 1728x864 with 1 Axes>"
      ]
     },
     "metadata": {
      "needs_background": "light"
     },
     "output_type": "display_data"
    }
   ],
   "source": [
    "t = X.time.value_counts()\n",
    "\n",
    "fig, axs = plt.subplots(1,1,figsize=(24,12))\n",
    "axs.bar(t.index, t);\n",
    "axs.set_xticks(np.arange(31));"
   ]
  },
  {
   "cell_type": "code",
   "execution_count": 99,
   "metadata": {},
   "outputs": [
    {
     "data": {
      "text/plain": [
       "01    495\n",
       "20    393\n",
       "06    380\n",
       "27    368\n",
       "19    367\n",
       "23    362\n",
       "28    349\n",
       "13    349\n",
       "25    347\n",
       "02    333\n",
       "07    328\n",
       "11    324\n",
       "18    324\n",
       "22    317\n",
       "21    316\n",
       "16    312\n",
       "26    309\n",
       "08    302\n",
       "30    296\n",
       "05    296\n",
       "15    295\n",
       "03    294\n",
       "14    294\n",
       "10    289\n",
       "29    275\n",
       "04    269\n",
       "17    267\n",
       "09    266\n",
       "12    262\n",
       "24    251\n",
       "31    209\n",
       "Name: day, dtype: int64"
      ]
     },
     "execution_count": 99,
     "metadata": {},
     "output_type": "execute_result"
    }
   ],
   "source": [
    "X.day.value_counts()"
   ]
  },
  {
   "cell_type": "code",
   "execution_count": 62,
   "metadata": {},
   "outputs": [
    {
     "data": {
      "text/plain": [
       "1328"
      ]
     },
     "execution_count": 62,
     "metadata": {},
     "output_type": "execute_result"
    }
   ],
   "source": [
    "ts = t.sort_index()\n",
    "len(ts)"
   ]
  },
  {
   "cell_type": "code",
   "execution_count": 66,
   "metadata": {},
   "outputs": [],
   "source": [
    "tsc = pd.cut(ts, 24, retbins=True)\n",
    "#tsc\n",
    "\n",
    "#write a function to group\n"
   ]
  },
  {
   "cell_type": "code",
   "execution_count": 64,
   "metadata": {},
   "outputs": [
    {
     "ename": "NameError",
     "evalue": "name 'series' is not defined",
     "output_type": "error",
     "traceback": [
      "\u001b[0;31m---------------------------------------------------------------------------\u001b[0m",
      "\u001b[0;31mNameError\u001b[0m                                 Traceback (most recent call last)",
      "\u001b[0;32m<ipython-input-64-2b2cb2a0dab9>\u001b[0m in \u001b[0;36m<module>\u001b[0;34m\u001b[0m\n\u001b[1;32m      1\u001b[0m \u001b[0;31m# # Group the data by the index's hour value, then aggregate by the average\u001b[0m\u001b[0;34m\u001b[0m\u001b[0;34m\u001b[0m\u001b[0;34m\u001b[0m\u001b[0m\n\u001b[0;32m----> 2\u001b[0;31m \u001b[0mseries\u001b[0m\u001b[0;34m.\u001b[0m\u001b[0mgroupby\u001b[0m\u001b[0;34m(\u001b[0m\u001b[0mseries\u001b[0m\u001b[0;34m.\u001b[0m\u001b[0mindex\u001b[0m\u001b[0;34m.\u001b[0m\u001b[0mhour\u001b[0m\u001b[0;34m)\u001b[0m\u001b[0;34m.\u001b[0m\u001b[0mmean\u001b[0m\u001b[0;34m(\u001b[0m\u001b[0;34m)\u001b[0m\u001b[0;34m\u001b[0m\u001b[0;34m\u001b[0m\u001b[0m\n\u001b[0m\u001b[1;32m      3\u001b[0m \u001b[0;34m\u001b[0m\u001b[0m\n\u001b[1;32m      4\u001b[0m \u001b[0;31m# or round down\u001b[0m\u001b[0;34m\u001b[0m\u001b[0;34m\u001b[0m\u001b[0;34m\u001b[0m\u001b[0m\n",
      "\u001b[0;31mNameError\u001b[0m: name 'series' is not defined"
     ]
    }
   ],
   "source": [
    "# # Group the data by the index's hour value, then aggregate by the average\n",
    "series.groupby(series.index.hour).mean()\n",
    "\n",
    "# or round down"
   ]
  },
  {
   "cell_type": "code",
   "execution_count": 67,
   "metadata": {},
   "outputs": [],
   "source": [
    "t = X.time.value_counts()"
   ]
  },
  {
   "cell_type": "code",
   "execution_count": 69,
   "metadata": {},
   "outputs": [
    {
     "ename": "AttributeError",
     "evalue": "'DataFrame' object has no attribute 'Subject_Race'",
     "output_type": "error",
     "traceback": [
      "\u001b[0;31m---------------------------------------------------------------------------\u001b[0m",
      "\u001b[0;31mAttributeError\u001b[0m                            Traceback (most recent call last)",
      "\u001b[0;32m<ipython-input-69-6bc8258e8368>\u001b[0m in \u001b[0;36m<module>\u001b[0;34m\u001b[0m\n\u001b[0;32m----> 1\u001b[0;31m \u001b[0mX\u001b[0m\u001b[0;34m.\u001b[0m\u001b[0mSubject_Race\u001b[0m\u001b[0;34m.\u001b[0m\u001b[0mvalue_counts\u001b[0m\u001b[0;34m(\u001b[0m\u001b[0;34m)\u001b[0m\u001b[0;34m\u001b[0m\u001b[0;34m\u001b[0m\u001b[0m\n\u001b[0m",
      "\u001b[0;32m~/anaconda3/lib/python3.7/site-packages/pandas/core/generic.py\u001b[0m in \u001b[0;36m__getattr__\u001b[0;34m(self, name)\u001b[0m\n\u001b[1;32m   5065\u001b[0m             \u001b[0;32mif\u001b[0m \u001b[0mself\u001b[0m\u001b[0;34m.\u001b[0m\u001b[0m_info_axis\u001b[0m\u001b[0;34m.\u001b[0m\u001b[0m_can_hold_identifiers_and_holds_name\u001b[0m\u001b[0;34m(\u001b[0m\u001b[0mname\u001b[0m\u001b[0;34m)\u001b[0m\u001b[0;34m:\u001b[0m\u001b[0;34m\u001b[0m\u001b[0;34m\u001b[0m\u001b[0m\n\u001b[1;32m   5066\u001b[0m                 \u001b[0;32mreturn\u001b[0m \u001b[0mself\u001b[0m\u001b[0;34m[\u001b[0m\u001b[0mname\u001b[0m\u001b[0;34m]\u001b[0m\u001b[0;34m\u001b[0m\u001b[0;34m\u001b[0m\u001b[0m\n\u001b[0;32m-> 5067\u001b[0;31m             \u001b[0;32mreturn\u001b[0m \u001b[0mobject\u001b[0m\u001b[0;34m.\u001b[0m\u001b[0m__getattribute__\u001b[0m\u001b[0;34m(\u001b[0m\u001b[0mself\u001b[0m\u001b[0;34m,\u001b[0m \u001b[0mname\u001b[0m\u001b[0;34m)\u001b[0m\u001b[0;34m\u001b[0m\u001b[0;34m\u001b[0m\u001b[0m\n\u001b[0m\u001b[1;32m   5068\u001b[0m \u001b[0;34m\u001b[0m\u001b[0m\n\u001b[1;32m   5069\u001b[0m     \u001b[0;32mdef\u001b[0m \u001b[0m__setattr__\u001b[0m\u001b[0;34m(\u001b[0m\u001b[0mself\u001b[0m\u001b[0;34m,\u001b[0m \u001b[0mname\u001b[0m\u001b[0;34m,\u001b[0m \u001b[0mvalue\u001b[0m\u001b[0;34m)\u001b[0m\u001b[0;34m:\u001b[0m\u001b[0;34m\u001b[0m\u001b[0;34m\u001b[0m\u001b[0m\n",
      "\u001b[0;31mAttributeError\u001b[0m: 'DataFrame' object has no attribute 'Subject_Race'"
     ]
    }
   ],
   "source": []
  },
  {
   "cell_type": "code",
   "execution_count": null,
   "metadata": {},
   "outputs": [],
   "source": []
  }
 ],
 "metadata": {
  "kernelspec": {
   "display_name": "Python 3",
   "language": "python",
   "name": "python3"
  },
  "language_info": {
   "codemirror_mode": {
    "name": "ipython",
    "version": 3
   },
   "file_extension": ".py",
   "mimetype": "text/x-python",
   "name": "python",
   "nbconvert_exporter": "python",
   "pygments_lexer": "ipython3",
   "version": "3.7.3"
  }
 },
 "nbformat": 4,
 "nbformat_minor": 2
}
